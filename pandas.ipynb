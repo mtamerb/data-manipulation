{
 "cells": [
  {
   "cell_type": "code",
   "execution_count": 1,
   "id": "d7069d3a",
   "metadata": {
    "execution": {
     "iopub.execute_input": "2023-07-28T14:49:46.534786Z",
     "iopub.status.busy": "2023-07-28T14:49:46.533695Z",
     "iopub.status.idle": "2023-07-28T14:49:46.545767Z",
     "shell.execute_reply": "2023-07-28T14:49:46.544843Z"
    },
    "papermill": {
     "duration": 0.049403,
     "end_time": "2023-07-28T14:49:46.547865",
     "exception": false,
     "start_time": "2023-07-28T14:49:46.498462",
     "status": "completed"
    },
    "tags": []
   },
   "outputs": [],
   "source": [
    "import pandas as pd"
   ]
  },
  {
   "cell_type": "code",
   "execution_count": 2,
   "id": "2d775668",
   "metadata": {
    "_cell_guid": "b1076dfc-b9ad-4769-8c92-a6c4dae69d19",
    "_uuid": "8f2839f25d086af736a60e9eeb907d3b93b6e0e5",
    "execution": {
     "iopub.execute_input": "2023-07-28T14:49:46.616768Z",
     "iopub.status.busy": "2023-07-28T14:49:46.615307Z",
     "iopub.status.idle": "2023-07-28T14:49:46.625082Z",
     "shell.execute_reply": "2023-07-28T14:49:46.624229Z"
    },
    "papermill": {
     "duration": 0.045305,
     "end_time": "2023-07-28T14:49:46.627180",
     "exception": false,
     "start_time": "2023-07-28T14:49:46.581875",
     "status": "completed"
    },
    "tags": []
   },
   "outputs": [
    {
     "data": {
      "text/plain": [
       "0     23\n",
       "1     45\n",
       "2    -36\n",
       "3     12\n",
       "4      0\n",
       "5    100\n",
       "dtype: int64"
      ]
     },
     "execution_count": 2,
     "metadata": {},
     "output_type": "execute_result"
    }
   ],
   "source": [
    "pd.Series([23, 45, -36, 12, 0, 100])"
   ]
  },
  {
   "cell_type": "code",
   "execution_count": 3,
   "id": "50bd2fe3",
   "metadata": {
    "execution": {
     "iopub.execute_input": "2023-07-28T14:49:46.695750Z",
     "iopub.status.busy": "2023-07-28T14:49:46.694308Z",
     "iopub.status.idle": "2023-07-28T14:49:46.701424Z",
     "shell.execute_reply": "2023-07-28T14:49:46.700482Z"
    },
    "papermill": {
     "duration": 0.042967,
     "end_time": "2023-07-28T14:49:46.703445",
     "exception": false,
     "start_time": "2023-07-28T14:49:46.660478",
     "status": "completed"
    },
    "tags": []
   },
   "outputs": [
    {
     "data": {
      "text/plain": [
       "pandas.core.series.Series"
      ]
     },
     "execution_count": 3,
     "metadata": {},
     "output_type": "execute_result"
    }
   ],
   "source": [
    "seri = pd.Series([23, 45, -36, 12, 0, 100])\n",
    "\n",
    "type(seri)"
   ]
  },
  {
   "cell_type": "code",
   "execution_count": 4,
   "id": "6bde9859",
   "metadata": {
    "execution": {
     "iopub.execute_input": "2023-07-28T14:49:46.772371Z",
     "iopub.status.busy": "2023-07-28T14:49:46.771366Z",
     "iopub.status.idle": "2023-07-28T14:49:46.778097Z",
     "shell.execute_reply": "2023-07-28T14:49:46.777170Z"
    },
    "papermill": {
     "duration": 0.043461,
     "end_time": "2023-07-28T14:49:46.780053",
     "exception": false,
     "start_time": "2023-07-28T14:49:46.736592",
     "status": "completed"
    },
    "tags": []
   },
   "outputs": [
    {
     "data": {
      "text/plain": [
       "[RangeIndex(start=0, stop=6, step=1)]"
      ]
     },
     "execution_count": 4,
     "metadata": {},
     "output_type": "execute_result"
    }
   ],
   "source": [
    "seri.axes"
   ]
  },
  {
   "cell_type": "code",
   "execution_count": 5,
   "id": "6f3af578",
   "metadata": {
    "execution": {
     "iopub.execute_input": "2023-07-28T14:49:46.847553Z",
     "iopub.status.busy": "2023-07-28T14:49:46.846665Z",
     "iopub.status.idle": "2023-07-28T14:49:46.852840Z",
     "shell.execute_reply": "2023-07-28T14:49:46.851928Z"
    },
    "papermill": {
     "duration": 0.04195,
     "end_time": "2023-07-28T14:49:46.854781",
     "exception": false,
     "start_time": "2023-07-28T14:49:46.812831",
     "status": "completed"
    },
    "tags": []
   },
   "outputs": [
    {
     "data": {
      "text/plain": [
       "dtype('int64')"
      ]
     },
     "execution_count": 5,
     "metadata": {},
     "output_type": "execute_result"
    }
   ],
   "source": [
    "seri.dtype"
   ]
  },
  {
   "cell_type": "code",
   "execution_count": 6,
   "id": "3f6ca3d4",
   "metadata": {
    "execution": {
     "iopub.execute_input": "2023-07-28T14:49:46.921791Z",
     "iopub.status.busy": "2023-07-28T14:49:46.921000Z",
     "iopub.status.idle": "2023-07-28T14:49:46.926973Z",
     "shell.execute_reply": "2023-07-28T14:49:46.925934Z"
    },
    "papermill": {
     "duration": 0.041493,
     "end_time": "2023-07-28T14:49:46.928888",
     "exception": false,
     "start_time": "2023-07-28T14:49:46.887395",
     "status": "completed"
    },
    "tags": []
   },
   "outputs": [
    {
     "data": {
      "text/plain": [
       "1"
      ]
     },
     "execution_count": 6,
     "metadata": {},
     "output_type": "execute_result"
    }
   ],
   "source": [
    "seri.ndim"
   ]
  },
  {
   "cell_type": "code",
   "execution_count": 7,
   "id": "9b61ac97",
   "metadata": {
    "execution": {
     "iopub.execute_input": "2023-07-28T14:49:46.997734Z",
     "iopub.status.busy": "2023-07-28T14:49:46.996629Z",
     "iopub.status.idle": "2023-07-28T14:49:47.003179Z",
     "shell.execute_reply": "2023-07-28T14:49:47.002265Z"
    },
    "papermill": {
     "duration": 0.043115,
     "end_time": "2023-07-28T14:49:47.005134",
     "exception": false,
     "start_time": "2023-07-28T14:49:46.962019",
     "status": "completed"
    },
    "tags": []
   },
   "outputs": [
    {
     "data": {
      "text/plain": [
       "6"
      ]
     },
     "execution_count": 7,
     "metadata": {},
     "output_type": "execute_result"
    }
   ],
   "source": [
    "seri.size"
   ]
  },
  {
   "cell_type": "code",
   "execution_count": 8,
   "id": "d8c58892",
   "metadata": {
    "execution": {
     "iopub.execute_input": "2023-07-28T14:49:47.073123Z",
     "iopub.status.busy": "2023-07-28T14:49:47.072321Z",
     "iopub.status.idle": "2023-07-28T14:49:47.078552Z",
     "shell.execute_reply": "2023-07-28T14:49:47.077574Z"
    },
    "papermill": {
     "duration": 0.042316,
     "end_time": "2023-07-28T14:49:47.080579",
     "exception": false,
     "start_time": "2023-07-28T14:49:47.038263",
     "status": "completed"
    },
    "tags": []
   },
   "outputs": [
    {
     "data": {
      "text/plain": [
       "array([ 23,  45, -36,  12,   0, 100])"
      ]
     },
     "execution_count": 8,
     "metadata": {},
     "output_type": "execute_result"
    }
   ],
   "source": [
    "seri.values"
   ]
  },
  {
   "cell_type": "code",
   "execution_count": 9,
   "id": "4dda8361",
   "metadata": {
    "execution": {
     "iopub.execute_input": "2023-07-28T14:49:47.150782Z",
     "iopub.status.busy": "2023-07-28T14:49:47.150485Z",
     "iopub.status.idle": "2023-07-28T14:49:47.156920Z",
     "shell.execute_reply": "2023-07-28T14:49:47.156028Z"
    },
    "papermill": {
     "duration": 0.042375,
     "end_time": "2023-07-28T14:49:47.158868",
     "exception": false,
     "start_time": "2023-07-28T14:49:47.116493",
     "status": "completed"
    },
    "tags": []
   },
   "outputs": [
    {
     "data": {
      "text/plain": [
       "0    23\n",
       "1    45\n",
       "2   -36\n",
       "3    12\n",
       "4     0\n",
       "dtype: int64"
      ]
     },
     "execution_count": 9,
     "metadata": {},
     "output_type": "execute_result"
    }
   ],
   "source": [
    "seri.head()"
   ]
  },
  {
   "cell_type": "code",
   "execution_count": 10,
   "id": "40dabc8b",
   "metadata": {
    "execution": {
     "iopub.execute_input": "2023-07-28T14:49:47.229136Z",
     "iopub.status.busy": "2023-07-28T14:49:47.228188Z",
     "iopub.status.idle": "2023-07-28T14:49:47.235894Z",
     "shell.execute_reply": "2023-07-28T14:49:47.234946Z"
    },
    "papermill": {
     "duration": 0.04511,
     "end_time": "2023-07-28T14:49:47.237863",
     "exception": false,
     "start_time": "2023-07-28T14:49:47.192753",
     "status": "completed"
    },
    "tags": []
   },
   "outputs": [
    {
     "data": {
      "text/plain": [
       "0    23\n",
       "1    45\n",
       "2   -36\n",
       "dtype: int64"
      ]
     },
     "execution_count": 10,
     "metadata": {},
     "output_type": "execute_result"
    }
   ],
   "source": [
    "seri.head(3)"
   ]
  },
  {
   "cell_type": "code",
   "execution_count": 11,
   "id": "614ea659",
   "metadata": {
    "execution": {
     "iopub.execute_input": "2023-07-28T14:49:47.306629Z",
     "iopub.status.busy": "2023-07-28T14:49:47.305731Z",
     "iopub.status.idle": "2023-07-28T14:49:47.312595Z",
     "shell.execute_reply": "2023-07-28T14:49:47.311716Z"
    },
    "papermill": {
     "duration": 0.042768,
     "end_time": "2023-07-28T14:49:47.314449",
     "exception": false,
     "start_time": "2023-07-28T14:49:47.271681",
     "status": "completed"
    },
    "tags": []
   },
   "outputs": [
    {
     "data": {
      "text/plain": [
       "1     45\n",
       "2    -36\n",
       "3     12\n",
       "4      0\n",
       "5    100\n",
       "dtype: int64"
      ]
     },
     "execution_count": 11,
     "metadata": {},
     "output_type": "execute_result"
    }
   ],
   "source": [
    "seri.tail()"
   ]
  },
  {
   "cell_type": "code",
   "execution_count": 12,
   "id": "e5efd824",
   "metadata": {
    "execution": {
     "iopub.execute_input": "2023-07-28T14:49:47.383781Z",
     "iopub.status.busy": "2023-07-28T14:49:47.382360Z",
     "iopub.status.idle": "2023-07-28T14:49:47.389811Z",
     "shell.execute_reply": "2023-07-28T14:49:47.388862Z"
    },
    "papermill": {
     "duration": 0.043722,
     "end_time": "2023-07-28T14:49:47.391760",
     "exception": false,
     "start_time": "2023-07-28T14:49:47.348038",
     "status": "completed"
    },
    "tags": []
   },
   "outputs": [
    {
     "data": {
      "text/plain": [
       "3     12\n",
       "4      0\n",
       "5    100\n",
       "dtype: int64"
      ]
     },
     "execution_count": 12,
     "metadata": {},
     "output_type": "execute_result"
    }
   ],
   "source": [
    "seri.tail(3)"
   ]
  },
  {
   "cell_type": "code",
   "execution_count": 13,
   "id": "27e2c733",
   "metadata": {
    "execution": {
     "iopub.execute_input": "2023-07-28T14:49:47.463886Z",
     "iopub.status.busy": "2023-07-28T14:49:47.462946Z",
     "iopub.status.idle": "2023-07-28T14:49:47.467533Z",
     "shell.execute_reply": "2023-07-28T14:49:47.466552Z"
    },
    "papermill": {
     "duration": 0.041729,
     "end_time": "2023-07-28T14:49:47.469462",
     "exception": false,
     "start_time": "2023-07-28T14:49:47.427733",
     "status": "completed"
    },
    "tags": []
   },
   "outputs": [],
   "source": [
    "# index name"
   ]
  },
  {
   "cell_type": "code",
   "execution_count": 14,
   "id": "0b35c754",
   "metadata": {
    "execution": {
     "iopub.execute_input": "2023-07-28T14:49:47.538273Z",
     "iopub.status.busy": "2023-07-28T14:49:47.537981Z",
     "iopub.status.idle": "2023-07-28T14:49:47.550101Z",
     "shell.execute_reply": "2023-07-28T14:49:47.549215Z"
    },
    "papermill": {
     "duration": 0.048919,
     "end_time": "2023-07-28T14:49:47.552276",
     "exception": false,
     "start_time": "2023-07-28T14:49:47.503357",
     "status": "completed"
    },
    "tags": []
   },
   "outputs": [
    {
     "data": {
      "text/plain": [
       "first       455\n",
       "2           354\n",
       "3          1332\n",
       "4         43553\n",
       "5            90\n",
       "6        string\n",
       "dtype: object"
      ]
     },
     "execution_count": 14,
     "metadata": {},
     "output_type": "execute_result"
    }
   ],
   "source": [
    "pd.Series([455, 354, 1332, 43553, 90, \"string\"], index = [\"first\",2,3,4,5,6])"
   ]
  },
  {
   "cell_type": "code",
   "execution_count": 15,
   "id": "8ac849a2",
   "metadata": {
    "execution": {
     "iopub.execute_input": "2023-07-28T14:49:47.621302Z",
     "iopub.status.busy": "2023-07-28T14:49:47.620476Z",
     "iopub.status.idle": "2023-07-28T14:49:47.625891Z",
     "shell.execute_reply": "2023-07-28T14:49:47.624843Z"
    },
    "papermill": {
     "duration": 0.042159,
     "end_time": "2023-07-28T14:49:47.627964",
     "exception": false,
     "start_time": "2023-07-28T14:49:47.585805",
     "status": "completed"
    },
    "tags": []
   },
   "outputs": [],
   "source": [
    "seri = pd.Series([455, 354, 1332, 43553, 90, \"string\"], index = [\"first\",2,3,4,5,6])"
   ]
  },
  {
   "cell_type": "code",
   "execution_count": 16,
   "id": "18fae9fe",
   "metadata": {
    "execution": {
     "iopub.execute_input": "2023-07-28T14:49:47.699944Z",
     "iopub.status.busy": "2023-07-28T14:49:47.699006Z",
     "iopub.status.idle": "2023-07-28T14:49:47.705589Z",
     "shell.execute_reply": "2023-07-28T14:49:47.704581Z"
    },
    "papermill": {
     "duration": 0.043969,
     "end_time": "2023-07-28T14:49:47.707660",
     "exception": false,
     "start_time": "2023-07-28T14:49:47.663691",
     "status": "completed"
    },
    "tags": []
   },
   "outputs": [
    {
     "data": {
      "text/plain": [
       "455"
      ]
     },
     "execution_count": 16,
     "metadata": {},
     "output_type": "execute_result"
    }
   ],
   "source": [
    "seri[\"first\"]"
   ]
  },
  {
   "cell_type": "code",
   "execution_count": 17,
   "id": "35d38009",
   "metadata": {
    "execution": {
     "iopub.execute_input": "2023-07-28T14:49:47.776959Z",
     "iopub.status.busy": "2023-07-28T14:49:47.776121Z",
     "iopub.status.idle": "2023-07-28T14:49:47.783898Z",
     "shell.execute_reply": "2023-07-28T14:49:47.782915Z"
    },
    "papermill": {
     "duration": 0.044831,
     "end_time": "2023-07-28T14:49:47.786096",
     "exception": false,
     "start_time": "2023-07-28T14:49:47.741265",
     "status": "completed"
    },
    "tags": []
   },
   "outputs": [
    {
     "data": {
      "text/plain": [
       "first      455\n",
       "2          354\n",
       "3         1332\n",
       "4        43553\n",
       "5           90\n",
       "dtype: object"
      ]
     },
     "execution_count": 17,
     "metadata": {},
     "output_type": "execute_result"
    }
   ],
   "source": [
    "seri[\"first\" : 5]"
   ]
  },
  {
   "cell_type": "code",
   "execution_count": 18,
   "id": "a64a5ea4",
   "metadata": {
    "execution": {
     "iopub.execute_input": "2023-07-28T14:49:47.855469Z",
     "iopub.status.busy": "2023-07-28T14:49:47.855168Z",
     "iopub.status.idle": "2023-07-28T14:49:47.860089Z",
     "shell.execute_reply": "2023-07-28T14:49:47.859223Z"
    },
    "papermill": {
     "duration": 0.04209,
     "end_time": "2023-07-28T14:49:47.862047",
     "exception": false,
     "start_time": "2023-07-28T14:49:47.819957",
     "status": "completed"
    },
    "tags": []
   },
   "outputs": [],
   "source": [
    "dict = pd.Series({\"james\" :10,\n",
    "                 \"elena\" : 34,\n",
    "                  \"william\": 29,\n",
    "                  \"mila\": 22                 \n",
    "                 })"
   ]
  },
  {
   "cell_type": "code",
   "execution_count": 19,
   "id": "2fab030e",
   "metadata": {
    "execution": {
     "iopub.execute_input": "2023-07-28T14:49:47.933279Z",
     "iopub.status.busy": "2023-07-28T14:49:47.932380Z",
     "iopub.status.idle": "2023-07-28T14:49:47.939087Z",
     "shell.execute_reply": "2023-07-28T14:49:47.938217Z"
    },
    "papermill": {
     "duration": 0.044316,
     "end_time": "2023-07-28T14:49:47.941031",
     "exception": false,
     "start_time": "2023-07-28T14:49:47.896715",
     "status": "completed"
    },
    "tags": []
   },
   "outputs": [
    {
     "data": {
      "text/plain": [
       "james      10\n",
       "elena      34\n",
       "william    29\n",
       "mila       22\n",
       "dtype: int64"
      ]
     },
     "execution_count": 19,
     "metadata": {},
     "output_type": "execute_result"
    }
   ],
   "source": [
    "dict"
   ]
  },
  {
   "cell_type": "code",
   "execution_count": 20,
   "id": "629f3eef",
   "metadata": {
    "execution": {
     "iopub.execute_input": "2023-07-28T14:49:48.010911Z",
     "iopub.status.busy": "2023-07-28T14:49:48.010360Z",
     "iopub.status.idle": "2023-07-28T14:49:48.019578Z",
     "shell.execute_reply": "2023-07-28T14:49:48.018689Z"
    },
    "papermill": {
     "duration": 0.046344,
     "end_time": "2023-07-28T14:49:48.021496",
     "exception": false,
     "start_time": "2023-07-28T14:49:47.975152",
     "status": "completed"
    },
    "tags": []
   },
   "outputs": [
    {
     "data": {
      "text/plain": [
       "james      10\n",
       "elena      34\n",
       "william    29\n",
       "dtype: int64"
      ]
     },
     "execution_count": 20,
     "metadata": {},
     "output_type": "execute_result"
    }
   ],
   "source": [
    "dict[\"james\" : \"william\"]"
   ]
  },
  {
   "cell_type": "code",
   "execution_count": 21,
   "id": "7380be84",
   "metadata": {
    "execution": {
     "iopub.execute_input": "2023-07-28T14:49:48.091974Z",
     "iopub.status.busy": "2023-07-28T14:49:48.091626Z",
     "iopub.status.idle": "2023-07-28T14:49:48.099122Z",
     "shell.execute_reply": "2023-07-28T14:49:48.098238Z"
    },
    "papermill": {
     "duration": 0.045485,
     "end_time": "2023-07-28T14:49:48.101042",
     "exception": false,
     "start_time": "2023-07-28T14:49:48.055557",
     "status": "completed"
    },
    "tags": []
   },
   "outputs": [
    {
     "data": {
      "text/plain": [
       "james          10\n",
       "elena          34\n",
       "william        29\n",
       "mila           22\n",
       "first         455\n",
       "2             354\n",
       "3            1332\n",
       "4           43553\n",
       "5              90\n",
       "6          string\n",
       "dtype: object"
      ]
     },
     "execution_count": 21,
     "metadata": {},
     "output_type": "execute_result"
    }
   ],
   "source": [
    "pd.concat([dict, seri])"
   ]
  },
  {
   "cell_type": "code",
   "execution_count": 22,
   "id": "55108871",
   "metadata": {
    "execution": {
     "iopub.execute_input": "2023-07-28T14:49:48.175307Z",
     "iopub.status.busy": "2023-07-28T14:49:48.174252Z",
     "iopub.status.idle": "2023-07-28T14:49:48.184549Z",
     "shell.execute_reply": "2023-07-28T14:49:48.183573Z"
    },
    "papermill": {
     "duration": 0.050744,
     "end_time": "2023-07-28T14:49:48.186800",
     "exception": false,
     "start_time": "2023-07-28T14:49:48.136056",
     "status": "completed"
    },
    "tags": []
   },
   "outputs": [
    {
     "data": {
      "text/plain": [
       "0    23\n",
       "1    42\n",
       "2    13\n",
       "3    90\n",
       "4    80\n",
       "5    68\n",
       "dtype: int64"
      ]
     },
     "execution_count": 22,
     "metadata": {},
     "output_type": "execute_result"
    }
   ],
   "source": [
    "import numpy as np\n",
    "\n",
    "x = np.array([23, 42, 13, 90, 80, 68])\n",
    "\n",
    "seri = pd.Series(x)\n",
    "\n",
    "seri"
   ]
  },
  {
   "cell_type": "code",
   "execution_count": 23,
   "id": "f1a35844",
   "metadata": {
    "execution": {
     "iopub.execute_input": "2023-07-28T14:49:48.257197Z",
     "iopub.status.busy": "2023-07-28T14:49:48.256912Z",
     "iopub.status.idle": "2023-07-28T14:49:48.263708Z",
     "shell.execute_reply": "2023-07-28T14:49:48.262774Z"
    },
    "papermill": {
     "duration": 0.044973,
     "end_time": "2023-07-28T14:49:48.265914",
     "exception": false,
     "start_time": "2023-07-28T14:49:48.220941",
     "status": "completed"
    },
    "tags": []
   },
   "outputs": [
    {
     "data": {
      "text/plain": [
       "0    23\n",
       "1    42\n",
       "2    13\n",
       "3    90\n",
       "dtype: int64"
      ]
     },
     "execution_count": 23,
     "metadata": {},
     "output_type": "execute_result"
    }
   ],
   "source": [
    "seri[0:4]"
   ]
  },
  {
   "cell_type": "code",
   "execution_count": 24,
   "id": "c85be4cc",
   "metadata": {
    "execution": {
     "iopub.execute_input": "2023-07-28T14:49:48.337832Z",
     "iopub.status.busy": "2023-07-28T14:49:48.336904Z",
     "iopub.status.idle": "2023-07-28T14:49:48.343881Z",
     "shell.execute_reply": "2023-07-28T14:49:48.342964Z"
    },
    "papermill": {
     "duration": 0.045514,
     "end_time": "2023-07-28T14:49:48.346016",
     "exception": false,
     "start_time": "2023-07-28T14:49:48.300502",
     "status": "completed"
    },
    "tags": []
   },
   "outputs": [
    {
     "data": {
      "text/plain": [
       "4    80\n",
       "5    68\n",
       "dtype: int64"
      ]
     },
     "execution_count": 24,
     "metadata": {},
     "output_type": "execute_result"
    }
   ],
   "source": [
    "seri[4:]"
   ]
  },
  {
   "cell_type": "code",
   "execution_count": 25,
   "id": "852604e8",
   "metadata": {
    "execution": {
     "iopub.execute_input": "2023-07-28T14:49:48.417782Z",
     "iopub.status.busy": "2023-07-28T14:49:48.416961Z",
     "iopub.status.idle": "2023-07-28T14:49:48.423564Z",
     "shell.execute_reply": "2023-07-28T14:49:48.422646Z"
    },
    "papermill": {
     "duration": 0.044552,
     "end_time": "2023-07-28T14:49:48.425604",
     "exception": false,
     "start_time": "2023-07-28T14:49:48.381052",
     "status": "completed"
    },
    "tags": []
   },
   "outputs": [
    {
     "data": {
      "text/plain": [
       "<bound method Series.keys of 0    23\n",
       "1    42\n",
       "2    13\n",
       "3    90\n",
       "4    80\n",
       "5    68\n",
       "dtype: int64>"
      ]
     },
     "execution_count": 25,
     "metadata": {},
     "output_type": "execute_result"
    }
   ],
   "source": [
    "seri.keys"
   ]
  },
  {
   "cell_type": "code",
   "execution_count": 26,
   "id": "27914639",
   "metadata": {
    "execution": {
     "iopub.execute_input": "2023-07-28T14:49:48.500678Z",
     "iopub.status.busy": "2023-07-28T14:49:48.499903Z",
     "iopub.status.idle": "2023-07-28T14:49:48.506339Z",
     "shell.execute_reply": "2023-07-28T14:49:48.505223Z"
    },
    "papermill": {
     "duration": 0.044861,
     "end_time": "2023-07-28T14:49:48.508355",
     "exception": false,
     "start_time": "2023-07-28T14:49:48.463494",
     "status": "completed"
    },
    "tags": []
   },
   "outputs": [
    {
     "data": {
      "text/plain": [
       "RangeIndex(start=0, stop=6, step=1)"
      ]
     },
     "execution_count": 26,
     "metadata": {},
     "output_type": "execute_result"
    }
   ],
   "source": [
    "seri.index"
   ]
  },
  {
   "cell_type": "code",
   "execution_count": 27,
   "id": "debfb519",
   "metadata": {
    "execution": {
     "iopub.execute_input": "2023-07-28T14:49:48.581744Z",
     "iopub.status.busy": "2023-07-28T14:49:48.580642Z",
     "iopub.status.idle": "2023-07-28T14:49:48.588016Z",
     "shell.execute_reply": "2023-07-28T14:49:48.587073Z"
    },
    "papermill": {
     "duration": 0.046342,
     "end_time": "2023-07-28T14:49:48.590041",
     "exception": false,
     "start_time": "2023-07-28T14:49:48.543699",
     "status": "completed"
    },
    "tags": []
   },
   "outputs": [
    {
     "data": {
      "text/plain": [
       "[(0, 23), (1, 42), (2, 13), (3, 90), (4, 80), (5, 68)]"
      ]
     },
     "execution_count": 27,
     "metadata": {},
     "output_type": "execute_result"
    }
   ],
   "source": [
    "list(seri.items())"
   ]
  },
  {
   "cell_type": "code",
   "execution_count": 28,
   "id": "8e5239ab",
   "metadata": {
    "execution": {
     "iopub.execute_input": "2023-07-28T14:49:48.662656Z",
     "iopub.status.busy": "2023-07-28T14:49:48.661851Z",
     "iopub.status.idle": "2023-07-28T14:49:48.668480Z",
     "shell.execute_reply": "2023-07-28T14:49:48.667577Z"
    },
    "papermill": {
     "duration": 0.044982,
     "end_time": "2023-07-28T14:49:48.670407",
     "exception": false,
     "start_time": "2023-07-28T14:49:48.625425",
     "status": "completed"
    },
    "tags": []
   },
   "outputs": [
    {
     "data": {
      "text/plain": [
       "array([23, 42, 13, 90, 80, 68])"
      ]
     },
     "execution_count": 28,
     "metadata": {},
     "output_type": "execute_result"
    }
   ],
   "source": [
    "seri.values"
   ]
  },
  {
   "cell_type": "code",
   "execution_count": 29,
   "id": "2c2e3928",
   "metadata": {
    "execution": {
     "iopub.execute_input": "2023-07-28T14:49:48.742931Z",
     "iopub.status.busy": "2023-07-28T14:49:48.742146Z",
     "iopub.status.idle": "2023-07-28T14:49:48.749164Z",
     "shell.execute_reply": "2023-07-28T14:49:48.748220Z"
    },
    "papermill": {
     "duration": 0.044858,
     "end_time": "2023-07-28T14:49:48.751086",
     "exception": false,
     "start_time": "2023-07-28T14:49:48.706228",
     "status": "completed"
    },
    "tags": []
   },
   "outputs": [
    {
     "data": {
      "text/plain": [
       "0    23\n",
       "1    42\n",
       "2    13\n",
       "3    90\n",
       "4    80\n",
       "5    68\n",
       "dtype: int64"
      ]
     },
     "execution_count": 29,
     "metadata": {},
     "output_type": "execute_result"
    }
   ],
   "source": [
    "seri"
   ]
  },
  {
   "cell_type": "code",
   "execution_count": 30,
   "id": "d8b0bb35",
   "metadata": {
    "execution": {
     "iopub.execute_input": "2023-07-28T14:49:48.826160Z",
     "iopub.status.busy": "2023-07-28T14:49:48.825135Z",
     "iopub.status.idle": "2023-07-28T14:49:48.831823Z",
     "shell.execute_reply": "2023-07-28T14:49:48.830897Z"
    },
    "papermill": {
     "duration": 0.046718,
     "end_time": "2023-07-28T14:49:48.833801",
     "exception": false,
     "start_time": "2023-07-28T14:49:48.787083",
     "status": "completed"
    },
    "tags": []
   },
   "outputs": [
    {
     "data": {
      "text/plain": [
       "True"
      ]
     },
     "execution_count": 30,
     "metadata": {},
     "output_type": "execute_result"
    }
   ],
   "source": [
    "4 in seri "
   ]
  },
  {
   "cell_type": "code",
   "execution_count": 31,
   "id": "b659edbe",
   "metadata": {
    "execution": {
     "iopub.execute_input": "2023-07-28T14:49:48.906753Z",
     "iopub.status.busy": "2023-07-28T14:49:48.905838Z",
     "iopub.status.idle": "2023-07-28T14:49:48.912153Z",
     "shell.execute_reply": "2023-07-28T14:49:48.911166Z"
    },
    "papermill": {
     "duration": 0.044444,
     "end_time": "2023-07-28T14:49:48.914091",
     "exception": false,
     "start_time": "2023-07-28T14:49:48.869647",
     "status": "completed"
    },
    "tags": []
   },
   "outputs": [
    {
     "data": {
      "text/plain": [
       "False"
      ]
     },
     "execution_count": 31,
     "metadata": {},
     "output_type": "execute_result"
    }
   ],
   "source": [
    "42 in seri"
   ]
  },
  {
   "cell_type": "code",
   "execution_count": 32,
   "id": "8b9dbcef",
   "metadata": {
    "execution": {
     "iopub.execute_input": "2023-07-28T14:49:48.986392Z",
     "iopub.status.busy": "2023-07-28T14:49:48.986056Z",
     "iopub.status.idle": "2023-07-28T14:49:48.992045Z",
     "shell.execute_reply": "2023-07-28T14:49:48.991188Z"
    },
    "papermill": {
     "duration": 0.044203,
     "end_time": "2023-07-28T14:49:48.993914",
     "exception": false,
     "start_time": "2023-07-28T14:49:48.949711",
     "status": "completed"
    },
    "tags": []
   },
   "outputs": [
    {
     "data": {
      "text/plain": [
       "[20, 43, 12, 98, 36]"
      ]
     },
     "execution_count": 32,
     "metadata": {},
     "output_type": "execute_result"
    }
   ],
   "source": [
    "\n",
    "l = [20, 43, 12, 98, 36]\n",
    "l"
   ]
  },
  {
   "cell_type": "code",
   "execution_count": 33,
   "id": "bdfddfab",
   "metadata": {
    "execution": {
     "iopub.execute_input": "2023-07-28T14:49:49.069303Z",
     "iopub.status.busy": "2023-07-28T14:49:49.068458Z",
     "iopub.status.idle": "2023-07-28T14:49:49.080679Z",
     "shell.execute_reply": "2023-07-28T14:49:49.079765Z"
    },
    "papermill": {
     "duration": 0.051619,
     "end_time": "2023-07-28T14:49:49.082591",
     "exception": false,
     "start_time": "2023-07-28T14:49:49.030972",
     "status": "completed"
    },
    "tags": []
   },
   "outputs": [
    {
     "data": {
      "text/html": [
       "<div>\n",
       "<style scoped>\n",
       "    .dataframe tbody tr th:only-of-type {\n",
       "        vertical-align: middle;\n",
       "    }\n",
       "\n",
       "    .dataframe tbody tr th {\n",
       "        vertical-align: top;\n",
       "    }\n",
       "\n",
       "    .dataframe thead th {\n",
       "        text-align: right;\n",
       "    }\n",
       "</style>\n",
       "<table border=\"1\" class=\"dataframe\">\n",
       "  <thead>\n",
       "    <tr style=\"text-align: right;\">\n",
       "      <th></th>\n",
       "      <th>col name</th>\n",
       "    </tr>\n",
       "  </thead>\n",
       "  <tbody>\n",
       "    <tr>\n",
       "      <th>0</th>\n",
       "      <td>20</td>\n",
       "    </tr>\n",
       "    <tr>\n",
       "      <th>1</th>\n",
       "      <td>43</td>\n",
       "    </tr>\n",
       "    <tr>\n",
       "      <th>2</th>\n",
       "      <td>12</td>\n",
       "    </tr>\n",
       "    <tr>\n",
       "      <th>3</th>\n",
       "      <td>98</td>\n",
       "    </tr>\n",
       "    <tr>\n",
       "      <th>4</th>\n",
       "      <td>36</td>\n",
       "    </tr>\n",
       "  </tbody>\n",
       "</table>\n",
       "</div>"
      ],
      "text/plain": [
       "   col name\n",
       "0        20\n",
       "1        43\n",
       "2        12\n",
       "3        98\n",
       "4        36"
      ]
     },
     "execution_count": 33,
     "metadata": {},
     "output_type": "execute_result"
    }
   ],
   "source": [
    "pd.DataFrame(l, columns = [\"col name\"])"
   ]
  },
  {
   "cell_type": "code",
   "execution_count": 34,
   "id": "0bf42297",
   "metadata": {
    "execution": {
     "iopub.execute_input": "2023-07-28T14:49:49.157744Z",
     "iopub.status.busy": "2023-07-28T14:49:49.156940Z",
     "iopub.status.idle": "2023-07-28T14:49:49.161449Z",
     "shell.execute_reply": "2023-07-28T14:49:49.160633Z"
    },
    "papermill": {
     "duration": 0.043087,
     "end_time": "2023-07-28T14:49:49.163379",
     "exception": false,
     "start_time": "2023-07-28T14:49:49.120292",
     "status": "completed"
    },
    "tags": []
   },
   "outputs": [],
   "source": [
    "import numpy as np"
   ]
  },
  {
   "cell_type": "code",
   "execution_count": 35,
   "id": "4efed42a",
   "metadata": {
    "execution": {
     "iopub.execute_input": "2023-07-28T14:49:49.237863Z",
     "iopub.status.busy": "2023-07-28T14:49:49.236930Z",
     "iopub.status.idle": "2023-07-28T14:49:49.246564Z",
     "shell.execute_reply": "2023-07-28T14:49:49.245295Z"
    },
    "papermill": {
     "duration": 0.049192,
     "end_time": "2023-07-28T14:49:49.248600",
     "exception": false,
     "start_time": "2023-07-28T14:49:49.199408",
     "status": "completed"
    },
    "tags": []
   },
   "outputs": [
    {
     "data": {
      "text/plain": [
       "array([1, 7, 6, 5, 5])"
      ]
     },
     "execution_count": 35,
     "metadata": {},
     "output_type": "execute_result"
    }
   ],
   "source": [
    "k1 = np.random.randint(10, size = 5)\n",
    "k2 = np.random.randint(10, size = 5)\n",
    "k3 = np.random.randint(10, size = 5)\n",
    "k1"
   ]
  },
  {
   "cell_type": "code",
   "execution_count": 36,
   "id": "8b91a0fe",
   "metadata": {
    "execution": {
     "iopub.execute_input": "2023-07-28T14:49:49.323704Z",
     "iopub.status.busy": "2023-07-28T14:49:49.322741Z",
     "iopub.status.idle": "2023-07-28T14:49:49.330238Z",
     "shell.execute_reply": "2023-07-28T14:49:49.329282Z"
    },
    "papermill": {
     "duration": 0.046707,
     "end_time": "2023-07-28T14:49:49.332186",
     "exception": false,
     "start_time": "2023-07-28T14:49:49.285479",
     "status": "completed"
    },
    "tags": []
   },
   "outputs": [
    {
     "data": {
      "text/plain": [
       "{'var1': array([1, 7, 6, 5, 5]),\n",
       " 'var2': array([6, 1, 5, 7, 1]),\n",
       " 'var3': array([6, 0, 4, 2, 2])}"
      ]
     },
     "execution_count": 36,
     "metadata": {},
     "output_type": "execute_result"
    }
   ],
   "source": [
    "dict = {\"var1\":k1,\n",
    "        \"var2\":k2,\n",
    "        \"var3\":k3\n",
    "       }\n",
    "\n",
    "dict"
   ]
  },
  {
   "cell_type": "code",
   "execution_count": 37,
   "id": "a54cf200",
   "metadata": {
    "execution": {
     "iopub.execute_input": "2023-07-28T14:49:49.406999Z",
     "iopub.status.busy": "2023-07-28T14:49:49.406662Z",
     "iopub.status.idle": "2023-07-28T14:49:49.410880Z",
     "shell.execute_reply": "2023-07-28T14:49:49.409998Z"
    },
    "papermill": {
     "duration": 0.043375,
     "end_time": "2023-07-28T14:49:49.412812",
     "exception": false,
     "start_time": "2023-07-28T14:49:49.369437",
     "status": "completed"
    },
    "tags": []
   },
   "outputs": [],
   "source": [
    "import pandas as pd"
   ]
  },
  {
   "cell_type": "code",
   "execution_count": 38,
   "id": "532b5ce8",
   "metadata": {
    "execution": {
     "iopub.execute_input": "2023-07-28T14:49:49.490455Z",
     "iopub.status.busy": "2023-07-28T14:49:49.488956Z",
     "iopub.status.idle": "2023-07-28T14:49:49.499264Z",
     "shell.execute_reply": "2023-07-28T14:49:49.498328Z"
    },
    "papermill": {
     "duration": 0.050336,
     "end_time": "2023-07-28T14:49:49.501289",
     "exception": false,
     "start_time": "2023-07-28T14:49:49.450953",
     "status": "completed"
    },
    "tags": []
   },
   "outputs": [
    {
     "data": {
      "text/html": [
       "<div>\n",
       "<style scoped>\n",
       "    .dataframe tbody tr th:only-of-type {\n",
       "        vertical-align: middle;\n",
       "    }\n",
       "\n",
       "    .dataframe tbody tr th {\n",
       "        vertical-align: top;\n",
       "    }\n",
       "\n",
       "    .dataframe thead th {\n",
       "        text-align: right;\n",
       "    }\n",
       "</style>\n",
       "<table border=\"1\" class=\"dataframe\">\n",
       "  <thead>\n",
       "    <tr style=\"text-align: right;\">\n",
       "      <th></th>\n",
       "      <th>var1</th>\n",
       "      <th>var2</th>\n",
       "      <th>var3</th>\n",
       "    </tr>\n",
       "  </thead>\n",
       "  <tbody>\n",
       "    <tr>\n",
       "      <th>0</th>\n",
       "      <td>1</td>\n",
       "      <td>6</td>\n",
       "      <td>6</td>\n",
       "    </tr>\n",
       "    <tr>\n",
       "      <th>1</th>\n",
       "      <td>7</td>\n",
       "      <td>1</td>\n",
       "      <td>0</td>\n",
       "    </tr>\n",
       "    <tr>\n",
       "      <th>2</th>\n",
       "      <td>6</td>\n",
       "      <td>5</td>\n",
       "      <td>4</td>\n",
       "    </tr>\n",
       "    <tr>\n",
       "      <th>3</th>\n",
       "      <td>5</td>\n",
       "      <td>7</td>\n",
       "      <td>2</td>\n",
       "    </tr>\n",
       "    <tr>\n",
       "      <th>4</th>\n",
       "      <td>5</td>\n",
       "      <td>1</td>\n",
       "      <td>2</td>\n",
       "    </tr>\n",
       "  </tbody>\n",
       "</table>\n",
       "</div>"
      ],
      "text/plain": [
       "   var1  var2  var3\n",
       "0     1     6     6\n",
       "1     7     1     0\n",
       "2     6     5     4\n",
       "3     5     7     2\n",
       "4     5     1     2"
      ]
     },
     "execution_count": 38,
     "metadata": {},
     "output_type": "execute_result"
    }
   ],
   "source": [
    "df = pd.DataFrame(dict)\n",
    "df"
   ]
  },
  {
   "cell_type": "code",
   "execution_count": 39,
   "id": "3e7fe262",
   "metadata": {
    "execution": {
     "iopub.execute_input": "2023-07-28T14:49:49.578390Z",
     "iopub.status.busy": "2023-07-28T14:49:49.577429Z",
     "iopub.status.idle": "2023-07-28T14:49:49.586902Z",
     "shell.execute_reply": "2023-07-28T14:49:49.585762Z"
    },
    "papermill": {
     "duration": 0.050039,
     "end_time": "2023-07-28T14:49:49.588857",
     "exception": false,
     "start_time": "2023-07-28T14:49:49.538818",
     "status": "completed"
    },
    "tags": []
   },
   "outputs": [
    {
     "data": {
      "text/html": [
       "<div>\n",
       "<style scoped>\n",
       "    .dataframe tbody tr th:only-of-type {\n",
       "        vertical-align: middle;\n",
       "    }\n",
       "\n",
       "    .dataframe tbody tr th {\n",
       "        vertical-align: top;\n",
       "    }\n",
       "\n",
       "    .dataframe thead th {\n",
       "        text-align: right;\n",
       "    }\n",
       "</style>\n",
       "<table border=\"1\" class=\"dataframe\">\n",
       "  <thead>\n",
       "    <tr style=\"text-align: right;\">\n",
       "      <th></th>\n",
       "      <th>var1</th>\n",
       "      <th>var2</th>\n",
       "      <th>var3</th>\n",
       "    </tr>\n",
       "  </thead>\n",
       "  <tbody>\n",
       "    <tr>\n",
       "      <th>0</th>\n",
       "      <td>1</td>\n",
       "      <td>6</td>\n",
       "      <td>6</td>\n",
       "    </tr>\n",
       "  </tbody>\n",
       "</table>\n",
       "</div>"
      ],
      "text/plain": [
       "   var1  var2  var3\n",
       "0     1     6     6"
      ]
     },
     "execution_count": 39,
     "metadata": {},
     "output_type": "execute_result"
    }
   ],
   "source": [
    "df[0:1]"
   ]
  },
  {
   "cell_type": "code",
   "execution_count": 40,
   "id": "6fe2c0ed",
   "metadata": {
    "execution": {
     "iopub.execute_input": "2023-07-28T14:49:49.665302Z",
     "iopub.status.busy": "2023-07-28T14:49:49.664983Z",
     "iopub.status.idle": "2023-07-28T14:49:49.671068Z",
     "shell.execute_reply": "2023-07-28T14:49:49.670214Z"
    },
    "papermill": {
     "duration": 0.045909,
     "end_time": "2023-07-28T14:49:49.672964",
     "exception": false,
     "start_time": "2023-07-28T14:49:49.627055",
     "status": "completed"
    },
    "tags": []
   },
   "outputs": [
    {
     "data": {
      "text/plain": [
       "RangeIndex(start=0, stop=5, step=1)"
      ]
     },
     "execution_count": 40,
     "metadata": {},
     "output_type": "execute_result"
    }
   ],
   "source": [
    "df.index"
   ]
  },
  {
   "cell_type": "code",
   "execution_count": 41,
   "id": "e1a25603",
   "metadata": {
    "execution": {
     "iopub.execute_input": "2023-07-28T14:49:49.749502Z",
     "iopub.status.busy": "2023-07-28T14:49:49.748606Z",
     "iopub.status.idle": "2023-07-28T14:49:49.753553Z",
     "shell.execute_reply": "2023-07-28T14:49:49.752585Z"
    },
    "papermill": {
     "duration": 0.045096,
     "end_time": "2023-07-28T14:49:49.755456",
     "exception": false,
     "start_time": "2023-07-28T14:49:49.710360",
     "status": "completed"
    },
    "tags": []
   },
   "outputs": [],
   "source": [
    "df.index = [\"x\", \"y\", \"z\", \"q\", \"w\"]"
   ]
  },
  {
   "cell_type": "code",
   "execution_count": 42,
   "id": "99fc1f5c",
   "metadata": {
    "execution": {
     "iopub.execute_input": "2023-07-28T14:49:49.831667Z",
     "iopub.status.busy": "2023-07-28T14:49:49.831344Z",
     "iopub.status.idle": "2023-07-28T14:49:49.837346Z",
     "shell.execute_reply": "2023-07-28T14:49:49.836495Z"
    },
    "papermill": {
     "duration": 0.04664,
     "end_time": "2023-07-28T14:49:49.839212",
     "exception": false,
     "start_time": "2023-07-28T14:49:49.792572",
     "status": "completed"
    },
    "tags": []
   },
   "outputs": [
    {
     "data": {
      "text/plain": [
       "Index(['x', 'y', 'z', 'q', 'w'], dtype='object')"
      ]
     },
     "execution_count": 42,
     "metadata": {},
     "output_type": "execute_result"
    }
   ],
   "source": [
    "df.index"
   ]
  },
  {
   "cell_type": "code",
   "execution_count": 43,
   "id": "4a529ee0",
   "metadata": {
    "execution": {
     "iopub.execute_input": "2023-07-28T14:49:49.915087Z",
     "iopub.status.busy": "2023-07-28T14:49:49.914248Z",
     "iopub.status.idle": "2023-07-28T14:49:49.923210Z",
     "shell.execute_reply": "2023-07-28T14:49:49.922310Z"
    },
    "papermill": {
     "duration": 0.048915,
     "end_time": "2023-07-28T14:49:49.925148",
     "exception": false,
     "start_time": "2023-07-28T14:49:49.876233",
     "status": "completed"
    },
    "tags": []
   },
   "outputs": [
    {
     "data": {
      "text/html": [
       "<div>\n",
       "<style scoped>\n",
       "    .dataframe tbody tr th:only-of-type {\n",
       "        vertical-align: middle;\n",
       "    }\n",
       "\n",
       "    .dataframe tbody tr th {\n",
       "        vertical-align: top;\n",
       "    }\n",
       "\n",
       "    .dataframe thead th {\n",
       "        text-align: right;\n",
       "    }\n",
       "</style>\n",
       "<table border=\"1\" class=\"dataframe\">\n",
       "  <thead>\n",
       "    <tr style=\"text-align: right;\">\n",
       "      <th></th>\n",
       "      <th>var1</th>\n",
       "      <th>var2</th>\n",
       "      <th>var3</th>\n",
       "    </tr>\n",
       "  </thead>\n",
       "  <tbody>\n",
       "    <tr>\n",
       "      <th>x</th>\n",
       "      <td>1</td>\n",
       "      <td>6</td>\n",
       "      <td>6</td>\n",
       "    </tr>\n",
       "    <tr>\n",
       "      <th>y</th>\n",
       "      <td>7</td>\n",
       "      <td>1</td>\n",
       "      <td>0</td>\n",
       "    </tr>\n",
       "    <tr>\n",
       "      <th>z</th>\n",
       "      <td>6</td>\n",
       "      <td>5</td>\n",
       "      <td>4</td>\n",
       "    </tr>\n",
       "    <tr>\n",
       "      <th>q</th>\n",
       "      <td>5</td>\n",
       "      <td>7</td>\n",
       "      <td>2</td>\n",
       "    </tr>\n",
       "    <tr>\n",
       "      <th>w</th>\n",
       "      <td>5</td>\n",
       "      <td>1</td>\n",
       "      <td>2</td>\n",
       "    </tr>\n",
       "  </tbody>\n",
       "</table>\n",
       "</div>"
      ],
      "text/plain": [
       "   var1  var2  var3\n",
       "x     1     6     6\n",
       "y     7     1     0\n",
       "z     6     5     4\n",
       "q     5     7     2\n",
       "w     5     1     2"
      ]
     },
     "execution_count": 43,
     "metadata": {},
     "output_type": "execute_result"
    }
   ],
   "source": [
    "df"
   ]
  },
  {
   "cell_type": "code",
   "execution_count": 44,
   "id": "9ee0e4fb",
   "metadata": {
    "execution": {
     "iopub.execute_input": "2023-07-28T14:49:50.002152Z",
     "iopub.status.busy": "2023-07-28T14:49:50.001812Z",
     "iopub.status.idle": "2023-07-28T14:49:50.011464Z",
     "shell.execute_reply": "2023-07-28T14:49:50.010575Z"
    },
    "papermill": {
     "duration": 0.050076,
     "end_time": "2023-07-28T14:49:50.013440",
     "exception": false,
     "start_time": "2023-07-28T14:49:49.963364",
     "status": "completed"
    },
    "tags": []
   },
   "outputs": [
    {
     "data": {
      "text/html": [
       "<div>\n",
       "<style scoped>\n",
       "    .dataframe tbody tr th:only-of-type {\n",
       "        vertical-align: middle;\n",
       "    }\n",
       "\n",
       "    .dataframe tbody tr th {\n",
       "        vertical-align: top;\n",
       "    }\n",
       "\n",
       "    .dataframe thead th {\n",
       "        text-align: right;\n",
       "    }\n",
       "</style>\n",
       "<table border=\"1\" class=\"dataframe\">\n",
       "  <thead>\n",
       "    <tr style=\"text-align: right;\">\n",
       "      <th></th>\n",
       "      <th>var1</th>\n",
       "      <th>var2</th>\n",
       "      <th>var3</th>\n",
       "    </tr>\n",
       "  </thead>\n",
       "  <tbody>\n",
       "    <tr>\n",
       "      <th>y</th>\n",
       "      <td>7</td>\n",
       "      <td>1</td>\n",
       "      <td>0</td>\n",
       "    </tr>\n",
       "    <tr>\n",
       "      <th>z</th>\n",
       "      <td>6</td>\n",
       "      <td>5</td>\n",
       "      <td>4</td>\n",
       "    </tr>\n",
       "    <tr>\n",
       "      <th>q</th>\n",
       "      <td>5</td>\n",
       "      <td>7</td>\n",
       "      <td>2</td>\n",
       "    </tr>\n",
       "  </tbody>\n",
       "</table>\n",
       "</div>"
      ],
      "text/plain": [
       "   var1  var2  var3\n",
       "y     7     1     0\n",
       "z     6     5     4\n",
       "q     5     7     2"
      ]
     },
     "execution_count": 44,
     "metadata": {},
     "output_type": "execute_result"
    }
   ],
   "source": [
    "df[\n",
    "    \"y\" : \"q\"\n",
    "]"
   ]
  },
  {
   "cell_type": "code",
   "execution_count": 45,
   "id": "6339ef97",
   "metadata": {
    "execution": {
     "iopub.execute_input": "2023-07-28T14:49:50.089865Z",
     "iopub.status.busy": "2023-07-28T14:49:50.089098Z",
     "iopub.status.idle": "2023-07-28T14:49:50.097827Z",
     "shell.execute_reply": "2023-07-28T14:49:50.096923Z"
    },
    "papermill": {
     "duration": 0.048625,
     "end_time": "2023-07-28T14:49:50.099870",
     "exception": false,
     "start_time": "2023-07-28T14:49:50.051245",
     "status": "completed"
    },
    "tags": []
   },
   "outputs": [
    {
     "data": {
      "text/html": [
       "<div>\n",
       "<style scoped>\n",
       "    .dataframe tbody tr th:only-of-type {\n",
       "        vertical-align: middle;\n",
       "    }\n",
       "\n",
       "    .dataframe tbody tr th {\n",
       "        vertical-align: top;\n",
       "    }\n",
       "\n",
       "    .dataframe thead th {\n",
       "        text-align: right;\n",
       "    }\n",
       "</style>\n",
       "<table border=\"1\" class=\"dataframe\">\n",
       "  <thead>\n",
       "    <tr style=\"text-align: right;\">\n",
       "      <th></th>\n",
       "      <th>var1</th>\n",
       "      <th>var2</th>\n",
       "      <th>var3</th>\n",
       "    </tr>\n",
       "  </thead>\n",
       "  <tbody>\n",
       "    <tr>\n",
       "      <th>x</th>\n",
       "      <td>1</td>\n",
       "      <td>6</td>\n",
       "      <td>6</td>\n",
       "    </tr>\n",
       "    <tr>\n",
       "      <th>y</th>\n",
       "      <td>7</td>\n",
       "      <td>1</td>\n",
       "      <td>0</td>\n",
       "    </tr>\n",
       "    <tr>\n",
       "      <th>z</th>\n",
       "      <td>6</td>\n",
       "      <td>5</td>\n",
       "      <td>4</td>\n",
       "    </tr>\n",
       "    <tr>\n",
       "      <th>q</th>\n",
       "      <td>5</td>\n",
       "      <td>7</td>\n",
       "      <td>2</td>\n",
       "    </tr>\n",
       "    <tr>\n",
       "      <th>w</th>\n",
       "      <td>5</td>\n",
       "      <td>1</td>\n",
       "      <td>2</td>\n",
       "    </tr>\n",
       "  </tbody>\n",
       "</table>\n",
       "</div>"
      ],
      "text/plain": [
       "   var1  var2  var3\n",
       "x     1     6     6\n",
       "y     7     1     0\n",
       "z     6     5     4\n",
       "q     5     7     2\n",
       "w     5     1     2"
      ]
     },
     "execution_count": 45,
     "metadata": {},
     "output_type": "execute_result"
    }
   ],
   "source": [
    "df"
   ]
  },
  {
   "cell_type": "code",
   "execution_count": 46,
   "id": "171f51e3",
   "metadata": {
    "execution": {
     "iopub.execute_input": "2023-07-28T14:49:50.177849Z",
     "iopub.status.busy": "2023-07-28T14:49:50.176921Z",
     "iopub.status.idle": "2023-07-28T14:49:50.188317Z",
     "shell.execute_reply": "2023-07-28T14:49:50.187384Z"
    },
    "papermill": {
     "duration": 0.05269,
     "end_time": "2023-07-28T14:49:50.190276",
     "exception": false,
     "start_time": "2023-07-28T14:49:50.137586",
     "status": "completed"
    },
    "tags": []
   },
   "outputs": [
    {
     "data": {
      "text/html": [
       "<div>\n",
       "<style scoped>\n",
       "    .dataframe tbody tr th:only-of-type {\n",
       "        vertical-align: middle;\n",
       "    }\n",
       "\n",
       "    .dataframe tbody tr th {\n",
       "        vertical-align: top;\n",
       "    }\n",
       "\n",
       "    .dataframe thead th {\n",
       "        text-align: right;\n",
       "    }\n",
       "</style>\n",
       "<table border=\"1\" class=\"dataframe\">\n",
       "  <thead>\n",
       "    <tr style=\"text-align: right;\">\n",
       "      <th></th>\n",
       "      <th>var1</th>\n",
       "      <th>var2</th>\n",
       "      <th>var3</th>\n",
       "    </tr>\n",
       "  </thead>\n",
       "  <tbody>\n",
       "    <tr>\n",
       "      <th>y</th>\n",
       "      <td>7</td>\n",
       "      <td>1</td>\n",
       "      <td>0</td>\n",
       "    </tr>\n",
       "    <tr>\n",
       "      <th>z</th>\n",
       "      <td>6</td>\n",
       "      <td>5</td>\n",
       "      <td>4</td>\n",
       "    </tr>\n",
       "    <tr>\n",
       "      <th>q</th>\n",
       "      <td>5</td>\n",
       "      <td>7</td>\n",
       "      <td>2</td>\n",
       "    </tr>\n",
       "    <tr>\n",
       "      <th>w</th>\n",
       "      <td>5</td>\n",
       "      <td>1</td>\n",
       "      <td>2</td>\n",
       "    </tr>\n",
       "  </tbody>\n",
       "</table>\n",
       "</div>"
      ],
      "text/plain": [
       "   var1  var2  var3\n",
       "y     7     1     0\n",
       "z     6     5     4\n",
       "q     5     7     2\n",
       "w     5     1     2"
      ]
     },
     "execution_count": 46,
     "metadata": {},
     "output_type": "execute_result"
    }
   ],
   "source": [
    "df.drop(\"x\")"
   ]
  },
  {
   "cell_type": "code",
   "execution_count": 47,
   "id": "4dd0f84b",
   "metadata": {
    "execution": {
     "iopub.execute_input": "2023-07-28T14:49:50.268251Z",
     "iopub.status.busy": "2023-07-28T14:49:50.267949Z",
     "iopub.status.idle": "2023-07-28T14:49:50.276210Z",
     "shell.execute_reply": "2023-07-28T14:49:50.275367Z"
    },
    "papermill": {
     "duration": 0.049192,
     "end_time": "2023-07-28T14:49:50.278082",
     "exception": false,
     "start_time": "2023-07-28T14:49:50.228890",
     "status": "completed"
    },
    "tags": []
   },
   "outputs": [
    {
     "data": {
      "text/html": [
       "<div>\n",
       "<style scoped>\n",
       "    .dataframe tbody tr th:only-of-type {\n",
       "        vertical-align: middle;\n",
       "    }\n",
       "\n",
       "    .dataframe tbody tr th {\n",
       "        vertical-align: top;\n",
       "    }\n",
       "\n",
       "    .dataframe thead th {\n",
       "        text-align: right;\n",
       "    }\n",
       "</style>\n",
       "<table border=\"1\" class=\"dataframe\">\n",
       "  <thead>\n",
       "    <tr style=\"text-align: right;\">\n",
       "      <th></th>\n",
       "      <th>var1</th>\n",
       "      <th>var2</th>\n",
       "      <th>var3</th>\n",
       "    </tr>\n",
       "  </thead>\n",
       "  <tbody>\n",
       "    <tr>\n",
       "      <th>x</th>\n",
       "      <td>1</td>\n",
       "      <td>6</td>\n",
       "      <td>6</td>\n",
       "    </tr>\n",
       "    <tr>\n",
       "      <th>y</th>\n",
       "      <td>7</td>\n",
       "      <td>1</td>\n",
       "      <td>0</td>\n",
       "    </tr>\n",
       "    <tr>\n",
       "      <th>z</th>\n",
       "      <td>6</td>\n",
       "      <td>5</td>\n",
       "      <td>4</td>\n",
       "    </tr>\n",
       "    <tr>\n",
       "      <th>q</th>\n",
       "      <td>5</td>\n",
       "      <td>7</td>\n",
       "      <td>2</td>\n",
       "    </tr>\n",
       "    <tr>\n",
       "      <th>w</th>\n",
       "      <td>5</td>\n",
       "      <td>1</td>\n",
       "      <td>2</td>\n",
       "    </tr>\n",
       "  </tbody>\n",
       "</table>\n",
       "</div>"
      ],
      "text/plain": [
       "   var1  var2  var3\n",
       "x     1     6     6\n",
       "y     7     1     0\n",
       "z     6     5     4\n",
       "q     5     7     2\n",
       "w     5     1     2"
      ]
     },
     "execution_count": 47,
     "metadata": {},
     "output_type": "execute_result"
    }
   ],
   "source": [
    "df"
   ]
  },
  {
   "cell_type": "code",
   "execution_count": 48,
   "id": "1421dec5",
   "metadata": {
    "execution": {
     "iopub.execute_input": "2023-07-28T14:49:50.356197Z",
     "iopub.status.busy": "2023-07-28T14:49:50.355394Z",
     "iopub.status.idle": "2023-07-28T14:49:50.360472Z",
     "shell.execute_reply": "2023-07-28T14:49:50.359547Z"
    },
    "papermill": {
     "duration": 0.045454,
     "end_time": "2023-07-28T14:49:50.362420",
     "exception": false,
     "start_time": "2023-07-28T14:49:50.316966",
     "status": "completed"
    },
    "tags": []
   },
   "outputs": [],
   "source": [
    "df.drop(\"x\", inplace= True)"
   ]
  },
  {
   "cell_type": "code",
   "execution_count": 49,
   "id": "9fc895f0",
   "metadata": {
    "execution": {
     "iopub.execute_input": "2023-07-28T14:49:50.442843Z",
     "iopub.status.busy": "2023-07-28T14:49:50.441935Z",
     "iopub.status.idle": "2023-07-28T14:49:50.451536Z",
     "shell.execute_reply": "2023-07-28T14:49:50.450452Z"
    },
    "papermill": {
     "duration": 0.052722,
     "end_time": "2023-07-28T14:49:50.453474",
     "exception": false,
     "start_time": "2023-07-28T14:49:50.400752",
     "status": "completed"
    },
    "tags": []
   },
   "outputs": [
    {
     "data": {
      "text/html": [
       "<div>\n",
       "<style scoped>\n",
       "    .dataframe tbody tr th:only-of-type {\n",
       "        vertical-align: middle;\n",
       "    }\n",
       "\n",
       "    .dataframe tbody tr th {\n",
       "        vertical-align: top;\n",
       "    }\n",
       "\n",
       "    .dataframe thead th {\n",
       "        text-align: right;\n",
       "    }\n",
       "</style>\n",
       "<table border=\"1\" class=\"dataframe\">\n",
       "  <thead>\n",
       "    <tr style=\"text-align: right;\">\n",
       "      <th></th>\n",
       "      <th>var1</th>\n",
       "      <th>var2</th>\n",
       "      <th>var3</th>\n",
       "    </tr>\n",
       "  </thead>\n",
       "  <tbody>\n",
       "    <tr>\n",
       "      <th>y</th>\n",
       "      <td>7</td>\n",
       "      <td>1</td>\n",
       "      <td>0</td>\n",
       "    </tr>\n",
       "    <tr>\n",
       "      <th>z</th>\n",
       "      <td>6</td>\n",
       "      <td>5</td>\n",
       "      <td>4</td>\n",
       "    </tr>\n",
       "    <tr>\n",
       "      <th>q</th>\n",
       "      <td>5</td>\n",
       "      <td>7</td>\n",
       "      <td>2</td>\n",
       "    </tr>\n",
       "    <tr>\n",
       "      <th>w</th>\n",
       "      <td>5</td>\n",
       "      <td>1</td>\n",
       "      <td>2</td>\n",
       "    </tr>\n",
       "  </tbody>\n",
       "</table>\n",
       "</div>"
      ],
      "text/plain": [
       "   var1  var2  var3\n",
       "y     7     1     0\n",
       "z     6     5     4\n",
       "q     5     7     2\n",
       "w     5     1     2"
      ]
     },
     "execution_count": 49,
     "metadata": {},
     "output_type": "execute_result"
    }
   ],
   "source": [
    "df"
   ]
  },
  {
   "cell_type": "code",
   "execution_count": 50,
   "id": "1fe9ee23",
   "metadata": {
    "execution": {
     "iopub.execute_input": "2023-07-28T14:49:50.573503Z",
     "iopub.status.busy": "2023-07-28T14:49:50.573170Z",
     "iopub.status.idle": "2023-07-28T14:49:50.577433Z",
     "shell.execute_reply": "2023-07-28T14:49:50.576483Z"
    },
    "papermill": {
     "duration": 0.045618,
     "end_time": "2023-07-28T14:49:50.579404",
     "exception": false,
     "start_time": "2023-07-28T14:49:50.533786",
     "status": "completed"
    },
    "tags": []
   },
   "outputs": [],
   "source": [
    "l = [\"w\"]"
   ]
  },
  {
   "cell_type": "code",
   "execution_count": 51,
   "id": "75520c9f",
   "metadata": {
    "execution": {
     "iopub.execute_input": "2023-07-28T14:49:50.659687Z",
     "iopub.status.busy": "2023-07-28T14:49:50.659322Z",
     "iopub.status.idle": "2023-07-28T14:49:50.663505Z",
     "shell.execute_reply": "2023-07-28T14:49:50.662650Z"
    },
    "papermill": {
     "duration": 0.047684,
     "end_time": "2023-07-28T14:49:50.665640",
     "exception": false,
     "start_time": "2023-07-28T14:49:50.617956",
     "status": "completed"
    },
    "tags": []
   },
   "outputs": [],
   "source": [
    "# fancy"
   ]
  },
  {
   "cell_type": "code",
   "execution_count": 52,
   "id": "3f123182",
   "metadata": {
    "execution": {
     "iopub.execute_input": "2023-07-28T14:49:50.743743Z",
     "iopub.status.busy": "2023-07-28T14:49:50.743443Z",
     "iopub.status.idle": "2023-07-28T14:49:50.753311Z",
     "shell.execute_reply": "2023-07-28T14:49:50.752394Z"
    },
    "papermill": {
     "duration": 0.051012,
     "end_time": "2023-07-28T14:49:50.755239",
     "exception": false,
     "start_time": "2023-07-28T14:49:50.704227",
     "status": "completed"
    },
    "tags": []
   },
   "outputs": [
    {
     "data": {
      "text/html": [
       "<div>\n",
       "<style scoped>\n",
       "    .dataframe tbody tr th:only-of-type {\n",
       "        vertical-align: middle;\n",
       "    }\n",
       "\n",
       "    .dataframe tbody tr th {\n",
       "        vertical-align: top;\n",
       "    }\n",
       "\n",
       "    .dataframe thead th {\n",
       "        text-align: right;\n",
       "    }\n",
       "</style>\n",
       "<table border=\"1\" class=\"dataframe\">\n",
       "  <thead>\n",
       "    <tr style=\"text-align: right;\">\n",
       "      <th></th>\n",
       "      <th>var1</th>\n",
       "      <th>var2</th>\n",
       "      <th>var3</th>\n",
       "    </tr>\n",
       "  </thead>\n",
       "  <tbody>\n",
       "    <tr>\n",
       "      <th>y</th>\n",
       "      <td>7</td>\n",
       "      <td>1</td>\n",
       "      <td>0</td>\n",
       "    </tr>\n",
       "    <tr>\n",
       "      <th>z</th>\n",
       "      <td>6</td>\n",
       "      <td>5</td>\n",
       "      <td>4</td>\n",
       "    </tr>\n",
       "    <tr>\n",
       "      <th>q</th>\n",
       "      <td>5</td>\n",
       "      <td>7</td>\n",
       "      <td>2</td>\n",
       "    </tr>\n",
       "  </tbody>\n",
       "</table>\n",
       "</div>"
      ],
      "text/plain": [
       "   var1  var2  var3\n",
       "y     7     1     0\n",
       "z     6     5     4\n",
       "q     5     7     2"
      ]
     },
     "execution_count": 52,
     "metadata": {},
     "output_type": "execute_result"
    }
   ],
   "source": [
    "df.drop(l)"
   ]
  },
  {
   "cell_type": "code",
   "execution_count": 53,
   "id": "c187d454",
   "metadata": {
    "execution": {
     "iopub.execute_input": "2023-07-28T14:49:50.836002Z",
     "iopub.status.busy": "2023-07-28T14:49:50.835657Z",
     "iopub.status.idle": "2023-07-28T14:49:50.841837Z",
     "shell.execute_reply": "2023-07-28T14:49:50.840863Z"
    },
    "papermill": {
     "duration": 0.050638,
     "end_time": "2023-07-28T14:49:50.845278",
     "exception": false,
     "start_time": "2023-07-28T14:49:50.794640",
     "status": "completed"
    },
    "tags": []
   },
   "outputs": [
    {
     "data": {
      "text/plain": [
       "True"
      ]
     },
     "execution_count": 53,
     "metadata": {},
     "output_type": "execute_result"
    }
   ],
   "source": [
    "\"var1\" in df"
   ]
  },
  {
   "cell_type": "code",
   "execution_count": 54,
   "id": "b1ed3402",
   "metadata": {
    "execution": {
     "iopub.execute_input": "2023-07-28T14:49:50.924094Z",
     "iopub.status.busy": "2023-07-28T14:49:50.923772Z",
     "iopub.status.idle": "2023-07-28T14:49:50.928291Z",
     "shell.execute_reply": "2023-07-28T14:49:50.927413Z"
    },
    "papermill": {
     "duration": 0.045931,
     "end_time": "2023-07-28T14:49:50.930236",
     "exception": false,
     "start_time": "2023-07-28T14:49:50.884305",
     "status": "completed"
    },
    "tags": []
   },
   "outputs": [],
   "source": [
    "l = [\"var4\", \"var2\", \"var9\"]"
   ]
  },
  {
   "cell_type": "code",
   "execution_count": 55,
   "id": "2aeee454",
   "metadata": {
    "execution": {
     "iopub.execute_input": "2023-07-28T14:49:51.008862Z",
     "iopub.status.busy": "2023-07-28T14:49:51.008029Z",
     "iopub.status.idle": "2023-07-28T14:49:51.016932Z",
     "shell.execute_reply": "2023-07-28T14:49:51.015944Z"
    },
    "papermill": {
     "duration": 0.050053,
     "end_time": "2023-07-28T14:49:51.018875",
     "exception": false,
     "start_time": "2023-07-28T14:49:50.968822",
     "status": "completed"
    },
    "tags": []
   },
   "outputs": [
    {
     "data": {
      "text/html": [
       "<div>\n",
       "<style scoped>\n",
       "    .dataframe tbody tr th:only-of-type {\n",
       "        vertical-align: middle;\n",
       "    }\n",
       "\n",
       "    .dataframe tbody tr th {\n",
       "        vertical-align: top;\n",
       "    }\n",
       "\n",
       "    .dataframe thead th {\n",
       "        text-align: right;\n",
       "    }\n",
       "</style>\n",
       "<table border=\"1\" class=\"dataframe\">\n",
       "  <thead>\n",
       "    <tr style=\"text-align: right;\">\n",
       "      <th></th>\n",
       "      <th>var1</th>\n",
       "      <th>var2</th>\n",
       "      <th>var3</th>\n",
       "    </tr>\n",
       "  </thead>\n",
       "  <tbody>\n",
       "    <tr>\n",
       "      <th>y</th>\n",
       "      <td>7</td>\n",
       "      <td>1</td>\n",
       "      <td>0</td>\n",
       "    </tr>\n",
       "    <tr>\n",
       "      <th>z</th>\n",
       "      <td>6</td>\n",
       "      <td>5</td>\n",
       "      <td>4</td>\n",
       "    </tr>\n",
       "    <tr>\n",
       "      <th>q</th>\n",
       "      <td>5</td>\n",
       "      <td>7</td>\n",
       "      <td>2</td>\n",
       "    </tr>\n",
       "    <tr>\n",
       "      <th>w</th>\n",
       "      <td>5</td>\n",
       "      <td>1</td>\n",
       "      <td>2</td>\n",
       "    </tr>\n",
       "  </tbody>\n",
       "</table>\n",
       "</div>"
      ],
      "text/plain": [
       "   var1  var2  var3\n",
       "y     7     1     0\n",
       "z     6     5     4\n",
       "q     5     7     2\n",
       "w     5     1     2"
      ]
     },
     "execution_count": 55,
     "metadata": {},
     "output_type": "execute_result"
    }
   ],
   "source": [
    "df"
   ]
  },
  {
   "cell_type": "code",
   "execution_count": 56,
   "id": "f5f0bc44",
   "metadata": {
    "execution": {
     "iopub.execute_input": "2023-07-28T14:49:51.101155Z",
     "iopub.status.busy": "2023-07-28T14:49:51.100246Z",
     "iopub.status.idle": "2023-07-28T14:49:51.106367Z",
     "shell.execute_reply": "2023-07-28T14:49:51.105269Z"
    },
    "papermill": {
     "duration": 0.048514,
     "end_time": "2023-07-28T14:49:51.108408",
     "exception": false,
     "start_time": "2023-07-28T14:49:51.059894",
     "status": "completed"
    },
    "tags": []
   },
   "outputs": [
    {
     "name": "stdout",
     "output_type": "stream",
     "text": [
      "False\n",
      "True\n",
      "False\n"
     ]
    }
   ],
   "source": [
    "for i in l:\n",
    "    print(i in df)"
   ]
  },
  {
   "cell_type": "code",
   "execution_count": 57,
   "id": "ffc06a15",
   "metadata": {
    "execution": {
     "iopub.execute_input": "2023-07-28T14:49:51.187355Z",
     "iopub.status.busy": "2023-07-28T14:49:51.186544Z",
     "iopub.status.idle": "2023-07-28T14:49:51.195330Z",
     "shell.execute_reply": "2023-07-28T14:49:51.194368Z"
    },
    "papermill": {
     "duration": 0.050029,
     "end_time": "2023-07-28T14:49:51.197355",
     "exception": false,
     "start_time": "2023-07-28T14:49:51.147326",
     "status": "completed"
    },
    "tags": []
   },
   "outputs": [
    {
     "data": {
      "text/html": [
       "<div>\n",
       "<style scoped>\n",
       "    .dataframe tbody tr th:only-of-type {\n",
       "        vertical-align: middle;\n",
       "    }\n",
       "\n",
       "    .dataframe tbody tr th {\n",
       "        vertical-align: top;\n",
       "    }\n",
       "\n",
       "    .dataframe thead th {\n",
       "        text-align: right;\n",
       "    }\n",
       "</style>\n",
       "<table border=\"1\" class=\"dataframe\">\n",
       "  <thead>\n",
       "    <tr style=\"text-align: right;\">\n",
       "      <th></th>\n",
       "      <th>var1</th>\n",
       "      <th>var2</th>\n",
       "      <th>var3</th>\n",
       "    </tr>\n",
       "  </thead>\n",
       "  <tbody>\n",
       "    <tr>\n",
       "      <th>y</th>\n",
       "      <td>7</td>\n",
       "      <td>1</td>\n",
       "      <td>0</td>\n",
       "    </tr>\n",
       "    <tr>\n",
       "      <th>z</th>\n",
       "      <td>6</td>\n",
       "      <td>5</td>\n",
       "      <td>4</td>\n",
       "    </tr>\n",
       "    <tr>\n",
       "      <th>q</th>\n",
       "      <td>5</td>\n",
       "      <td>7</td>\n",
       "      <td>2</td>\n",
       "    </tr>\n",
       "    <tr>\n",
       "      <th>w</th>\n",
       "      <td>5</td>\n",
       "      <td>1</td>\n",
       "      <td>2</td>\n",
       "    </tr>\n",
       "  </tbody>\n",
       "</table>\n",
       "</div>"
      ],
      "text/plain": [
       "   var1  var2  var3\n",
       "y     7     1     0\n",
       "z     6     5     4\n",
       "q     5     7     2\n",
       "w     5     1     2"
      ]
     },
     "execution_count": 57,
     "metadata": {},
     "output_type": "execute_result"
    }
   ],
   "source": [
    "df"
   ]
  },
  {
   "cell_type": "code",
   "execution_count": 58,
   "id": "2bffb4e1",
   "metadata": {
    "execution": {
     "iopub.execute_input": "2023-07-28T14:49:51.278740Z",
     "iopub.status.busy": "2023-07-28T14:49:51.278348Z",
     "iopub.status.idle": "2023-07-28T14:49:51.284421Z",
     "shell.execute_reply": "2023-07-28T14:49:51.283389Z"
    },
    "papermill": {
     "duration": 0.049544,
     "end_time": "2023-07-28T14:49:51.286647",
     "exception": false,
     "start_time": "2023-07-28T14:49:51.237103",
     "status": "completed"
    },
    "tags": []
   },
   "outputs": [],
   "source": [
    "df[\"var4\"] = df[\"var1\"] + df[\"var2\"]"
   ]
  },
  {
   "cell_type": "code",
   "execution_count": 59,
   "id": "2edaf1fb",
   "metadata": {
    "execution": {
     "iopub.execute_input": "2023-07-28T14:49:51.367273Z",
     "iopub.status.busy": "2023-07-28T14:49:51.366317Z",
     "iopub.status.idle": "2023-07-28T14:49:51.376192Z",
     "shell.execute_reply": "2023-07-28T14:49:51.375186Z"
    },
    "papermill": {
     "duration": 0.052194,
     "end_time": "2023-07-28T14:49:51.378391",
     "exception": false,
     "start_time": "2023-07-28T14:49:51.326197",
     "status": "completed"
    },
    "tags": []
   },
   "outputs": [
    {
     "data": {
      "text/html": [
       "<div>\n",
       "<style scoped>\n",
       "    .dataframe tbody tr th:only-of-type {\n",
       "        vertical-align: middle;\n",
       "    }\n",
       "\n",
       "    .dataframe tbody tr th {\n",
       "        vertical-align: top;\n",
       "    }\n",
       "\n",
       "    .dataframe thead th {\n",
       "        text-align: right;\n",
       "    }\n",
       "</style>\n",
       "<table border=\"1\" class=\"dataframe\">\n",
       "  <thead>\n",
       "    <tr style=\"text-align: right;\">\n",
       "      <th></th>\n",
       "      <th>var1</th>\n",
       "      <th>var2</th>\n",
       "      <th>var3</th>\n",
       "      <th>var4</th>\n",
       "    </tr>\n",
       "  </thead>\n",
       "  <tbody>\n",
       "    <tr>\n",
       "      <th>y</th>\n",
       "      <td>7</td>\n",
       "      <td>1</td>\n",
       "      <td>0</td>\n",
       "      <td>8</td>\n",
       "    </tr>\n",
       "    <tr>\n",
       "      <th>z</th>\n",
       "      <td>6</td>\n",
       "      <td>5</td>\n",
       "      <td>4</td>\n",
       "      <td>11</td>\n",
       "    </tr>\n",
       "    <tr>\n",
       "      <th>q</th>\n",
       "      <td>5</td>\n",
       "      <td>7</td>\n",
       "      <td>2</td>\n",
       "      <td>12</td>\n",
       "    </tr>\n",
       "    <tr>\n",
       "      <th>w</th>\n",
       "      <td>5</td>\n",
       "      <td>1</td>\n",
       "      <td>2</td>\n",
       "      <td>6</td>\n",
       "    </tr>\n",
       "  </tbody>\n",
       "</table>\n",
       "</div>"
      ],
      "text/plain": [
       "   var1  var2  var3  var4\n",
       "y     7     1     0     8\n",
       "z     6     5     4    11\n",
       "q     5     7     2    12\n",
       "w     5     1     2     6"
      ]
     },
     "execution_count": 59,
     "metadata": {},
     "output_type": "execute_result"
    }
   ],
   "source": [
    "df"
   ]
  },
  {
   "cell_type": "code",
   "execution_count": 60,
   "id": "7e373963",
   "metadata": {
    "execution": {
     "iopub.execute_input": "2023-07-28T14:49:51.464770Z",
     "iopub.status.busy": "2023-07-28T14:49:51.464008Z",
     "iopub.status.idle": "2023-07-28T14:49:51.469660Z",
     "shell.execute_reply": "2023-07-28T14:49:51.468851Z"
    },
    "papermill": {
     "duration": 0.051827,
     "end_time": "2023-07-28T14:49:51.471781",
     "exception": false,
     "start_time": "2023-07-28T14:49:51.419954",
     "status": "completed"
    },
    "tags": []
   },
   "outputs": [],
   "source": [
    "df.drop(\"var4\", axis = 1, inplace = True)"
   ]
  },
  {
   "cell_type": "code",
   "execution_count": 61,
   "id": "e7b1716b",
   "metadata": {
    "execution": {
     "iopub.execute_input": "2023-07-28T14:49:51.555039Z",
     "iopub.status.busy": "2023-07-28T14:49:51.554350Z",
     "iopub.status.idle": "2023-07-28T14:49:51.564788Z",
     "shell.execute_reply": "2023-07-28T14:49:51.563847Z"
    },
    "papermill": {
     "duration": 0.054466,
     "end_time": "2023-07-28T14:49:51.567385",
     "exception": false,
     "start_time": "2023-07-28T14:49:51.512919",
     "status": "completed"
    },
    "tags": []
   },
   "outputs": [
    {
     "data": {
      "text/html": [
       "<div>\n",
       "<style scoped>\n",
       "    .dataframe tbody tr th:only-of-type {\n",
       "        vertical-align: middle;\n",
       "    }\n",
       "\n",
       "    .dataframe tbody tr th {\n",
       "        vertical-align: top;\n",
       "    }\n",
       "\n",
       "    .dataframe thead th {\n",
       "        text-align: right;\n",
       "    }\n",
       "</style>\n",
       "<table border=\"1\" class=\"dataframe\">\n",
       "  <thead>\n",
       "    <tr style=\"text-align: right;\">\n",
       "      <th></th>\n",
       "      <th>var1</th>\n",
       "      <th>var2</th>\n",
       "      <th>var3</th>\n",
       "    </tr>\n",
       "  </thead>\n",
       "  <tbody>\n",
       "    <tr>\n",
       "      <th>y</th>\n",
       "      <td>7</td>\n",
       "      <td>1</td>\n",
       "      <td>0</td>\n",
       "    </tr>\n",
       "    <tr>\n",
       "      <th>z</th>\n",
       "      <td>6</td>\n",
       "      <td>5</td>\n",
       "      <td>4</td>\n",
       "    </tr>\n",
       "    <tr>\n",
       "      <th>q</th>\n",
       "      <td>5</td>\n",
       "      <td>7</td>\n",
       "      <td>2</td>\n",
       "    </tr>\n",
       "    <tr>\n",
       "      <th>w</th>\n",
       "      <td>5</td>\n",
       "      <td>1</td>\n",
       "      <td>2</td>\n",
       "    </tr>\n",
       "  </tbody>\n",
       "</table>\n",
       "</div>"
      ],
      "text/plain": [
       "   var1  var2  var3\n",
       "y     7     1     0\n",
       "z     6     5     4\n",
       "q     5     7     2\n",
       "w     5     1     2"
      ]
     },
     "execution_count": 61,
     "metadata": {},
     "output_type": "execute_result"
    }
   ],
   "source": [
    "df"
   ]
  },
  {
   "cell_type": "code",
   "execution_count": 62,
   "id": "96d3ea27",
   "metadata": {
    "execution": {
     "iopub.execute_input": "2023-07-28T14:49:51.649292Z",
     "iopub.status.busy": "2023-07-28T14:49:51.648966Z",
     "iopub.status.idle": "2023-07-28T14:49:51.653216Z",
     "shell.execute_reply": "2023-07-28T14:49:51.652309Z"
    },
    "papermill": {
     "duration": 0.046939,
     "end_time": "2023-07-28T14:49:51.655193",
     "exception": false,
     "start_time": "2023-07-28T14:49:51.608254",
     "status": "completed"
    },
    "tags": []
   },
   "outputs": [],
   "source": [
    "l = [\"var1\"]"
   ]
  },
  {
   "cell_type": "code",
   "execution_count": 63,
   "id": "a9b589da",
   "metadata": {
    "execution": {
     "iopub.execute_input": "2023-07-28T14:49:51.736354Z",
     "iopub.status.busy": "2023-07-28T14:49:51.735423Z",
     "iopub.status.idle": "2023-07-28T14:49:51.745659Z",
     "shell.execute_reply": "2023-07-28T14:49:51.744506Z"
    },
    "papermill": {
     "duration": 0.053567,
     "end_time": "2023-07-28T14:49:51.747898",
     "exception": false,
     "start_time": "2023-07-28T14:49:51.694331",
     "status": "completed"
    },
    "tags": []
   },
   "outputs": [
    {
     "data": {
      "text/html": [
       "<div>\n",
       "<style scoped>\n",
       "    .dataframe tbody tr th:only-of-type {\n",
       "        vertical-align: middle;\n",
       "    }\n",
       "\n",
       "    .dataframe tbody tr th {\n",
       "        vertical-align: top;\n",
       "    }\n",
       "\n",
       "    .dataframe thead th {\n",
       "        text-align: right;\n",
       "    }\n",
       "</style>\n",
       "<table border=\"1\" class=\"dataframe\">\n",
       "  <thead>\n",
       "    <tr style=\"text-align: right;\">\n",
       "      <th></th>\n",
       "      <th>var2</th>\n",
       "      <th>var3</th>\n",
       "    </tr>\n",
       "  </thead>\n",
       "  <tbody>\n",
       "    <tr>\n",
       "      <th>y</th>\n",
       "      <td>1</td>\n",
       "      <td>0</td>\n",
       "    </tr>\n",
       "    <tr>\n",
       "      <th>z</th>\n",
       "      <td>5</td>\n",
       "      <td>4</td>\n",
       "    </tr>\n",
       "    <tr>\n",
       "      <th>q</th>\n",
       "      <td>7</td>\n",
       "      <td>2</td>\n",
       "    </tr>\n",
       "    <tr>\n",
       "      <th>w</th>\n",
       "      <td>1</td>\n",
       "      <td>2</td>\n",
       "    </tr>\n",
       "  </tbody>\n",
       "</table>\n",
       "</div>"
      ],
      "text/plain": [
       "   var2  var3\n",
       "y     1     0\n",
       "z     5     4\n",
       "q     7     2\n",
       "w     1     2"
      ]
     },
     "execution_count": 63,
     "metadata": {},
     "output_type": "execute_result"
    }
   ],
   "source": [
    "df.drop(l, axis = 1)"
   ]
  },
  {
   "cell_type": "code",
   "execution_count": 64,
   "id": "bdfc938a",
   "metadata": {
    "execution": {
     "iopub.execute_input": "2023-07-28T14:49:51.832042Z",
     "iopub.status.busy": "2023-07-28T14:49:51.831139Z",
     "iopub.status.idle": "2023-07-28T14:49:51.840493Z",
     "shell.execute_reply": "2023-07-28T14:49:51.839506Z"
    },
    "papermill": {
     "duration": 0.053377,
     "end_time": "2023-07-28T14:49:51.842610",
     "exception": false,
     "start_time": "2023-07-28T14:49:51.789233",
     "status": "completed"
    },
    "tags": []
   },
   "outputs": [
    {
     "data": {
      "text/html": [
       "<div>\n",
       "<style scoped>\n",
       "    .dataframe tbody tr th:only-of-type {\n",
       "        vertical-align: middle;\n",
       "    }\n",
       "\n",
       "    .dataframe tbody tr th {\n",
       "        vertical-align: top;\n",
       "    }\n",
       "\n",
       "    .dataframe thead th {\n",
       "        text-align: right;\n",
       "    }\n",
       "</style>\n",
       "<table border=\"1\" class=\"dataframe\">\n",
       "  <thead>\n",
       "    <tr style=\"text-align: right;\">\n",
       "      <th></th>\n",
       "      <th>var1</th>\n",
       "      <th>var2</th>\n",
       "      <th>var3</th>\n",
       "    </tr>\n",
       "  </thead>\n",
       "  <tbody>\n",
       "    <tr>\n",
       "      <th>y</th>\n",
       "      <td>7</td>\n",
       "      <td>1</td>\n",
       "      <td>0</td>\n",
       "    </tr>\n",
       "    <tr>\n",
       "      <th>z</th>\n",
       "      <td>6</td>\n",
       "      <td>5</td>\n",
       "      <td>4</td>\n",
       "    </tr>\n",
       "    <tr>\n",
       "      <th>q</th>\n",
       "      <td>5</td>\n",
       "      <td>7</td>\n",
       "      <td>2</td>\n",
       "    </tr>\n",
       "    <tr>\n",
       "      <th>w</th>\n",
       "      <td>5</td>\n",
       "      <td>1</td>\n",
       "      <td>2</td>\n",
       "    </tr>\n",
       "  </tbody>\n",
       "</table>\n",
       "</div>"
      ],
      "text/plain": [
       "   var1  var2  var3\n",
       "y     7     1     0\n",
       "z     6     5     4\n",
       "q     5     7     2\n",
       "w     5     1     2"
      ]
     },
     "execution_count": 64,
     "metadata": {},
     "output_type": "execute_result"
    }
   ],
   "source": [
    "df"
   ]
  },
  {
   "cell_type": "code",
   "execution_count": 65,
   "id": "ec63711f",
   "metadata": {
    "execution": {
     "iopub.execute_input": "2023-07-28T14:49:51.923682Z",
     "iopub.status.busy": "2023-07-28T14:49:51.923307Z",
     "iopub.status.idle": "2023-07-28T14:49:51.927641Z",
     "shell.execute_reply": "2023-07-28T14:49:51.926746Z"
    },
    "papermill": {
     "duration": 0.047059,
     "end_time": "2023-07-28T14:49:51.929655",
     "exception": false,
     "start_time": "2023-07-28T14:49:51.882596",
     "status": "completed"
    },
    "tags": []
   },
   "outputs": [],
   "source": [
    "# loc & iloc"
   ]
  },
  {
   "cell_type": "code",
   "execution_count": 66,
   "id": "ea06f215",
   "metadata": {
    "execution": {
     "iopub.execute_input": "2023-07-28T14:49:52.011943Z",
     "iopub.status.busy": "2023-07-28T14:49:52.011043Z",
     "iopub.status.idle": "2023-07-28T14:49:52.015808Z",
     "shell.execute_reply": "2023-07-28T14:49:52.014917Z"
    },
    "papermill": {
     "duration": 0.047611,
     "end_time": "2023-07-28T14:49:52.017794",
     "exception": false,
     "start_time": "2023-07-28T14:49:51.970183",
     "status": "completed"
    },
    "tags": []
   },
   "outputs": [],
   "source": [
    "import numpy as np\n",
    "import pandas as pd"
   ]
  },
  {
   "cell_type": "code",
   "execution_count": 67,
   "id": "9f8c2b17",
   "metadata": {
    "execution": {
     "iopub.execute_input": "2023-07-28T14:49:52.098970Z",
     "iopub.status.busy": "2023-07-28T14:49:52.098034Z",
     "iopub.status.idle": "2023-07-28T14:49:52.103329Z",
     "shell.execute_reply": "2023-07-28T14:49:52.102505Z"
    },
    "papermill": {
     "duration": 0.0478,
     "end_time": "2023-07-28T14:49:52.105292",
     "exception": false,
     "start_time": "2023-07-28T14:49:52.057492",
     "status": "completed"
    },
    "tags": []
   },
   "outputs": [],
   "source": [
    "x = np.random.randint(1, 30 , size = (10, 3)) "
   ]
  },
  {
   "cell_type": "code",
   "execution_count": 68,
   "id": "d82e2cbb",
   "metadata": {
    "execution": {
     "iopub.execute_input": "2023-07-28T14:49:52.187581Z",
     "iopub.status.busy": "2023-07-28T14:49:52.186943Z",
     "iopub.status.idle": "2023-07-28T14:49:52.196843Z",
     "shell.execute_reply": "2023-07-28T14:49:52.195999Z"
    },
    "papermill": {
     "duration": 0.05383,
     "end_time": "2023-07-28T14:49:52.198752",
     "exception": false,
     "start_time": "2023-07-28T14:49:52.144922",
     "status": "completed"
    },
    "tags": []
   },
   "outputs": [
    {
     "data": {
      "text/html": [
       "<div>\n",
       "<style scoped>\n",
       "    .dataframe tbody tr th:only-of-type {\n",
       "        vertical-align: middle;\n",
       "    }\n",
       "\n",
       "    .dataframe tbody tr th {\n",
       "        vertical-align: top;\n",
       "    }\n",
       "\n",
       "    .dataframe thead th {\n",
       "        text-align: right;\n",
       "    }\n",
       "</style>\n",
       "<table border=\"1\" class=\"dataframe\">\n",
       "  <thead>\n",
       "    <tr style=\"text-align: right;\">\n",
       "      <th></th>\n",
       "      <th>var1</th>\n",
       "      <th>var2</th>\n",
       "      <th>var3</th>\n",
       "    </tr>\n",
       "  </thead>\n",
       "  <tbody>\n",
       "    <tr>\n",
       "      <th>0</th>\n",
       "      <td>6</td>\n",
       "      <td>4</td>\n",
       "      <td>6</td>\n",
       "    </tr>\n",
       "    <tr>\n",
       "      <th>1</th>\n",
       "      <td>19</td>\n",
       "      <td>11</td>\n",
       "      <td>28</td>\n",
       "    </tr>\n",
       "    <tr>\n",
       "      <th>2</th>\n",
       "      <td>27</td>\n",
       "      <td>5</td>\n",
       "      <td>11</td>\n",
       "    </tr>\n",
       "    <tr>\n",
       "      <th>3</th>\n",
       "      <td>10</td>\n",
       "      <td>24</td>\n",
       "      <td>15</td>\n",
       "    </tr>\n",
       "    <tr>\n",
       "      <th>4</th>\n",
       "      <td>24</td>\n",
       "      <td>29</td>\n",
       "      <td>27</td>\n",
       "    </tr>\n",
       "    <tr>\n",
       "      <th>5</th>\n",
       "      <td>18</td>\n",
       "      <td>2</td>\n",
       "      <td>11</td>\n",
       "    </tr>\n",
       "    <tr>\n",
       "      <th>6</th>\n",
       "      <td>28</td>\n",
       "      <td>21</td>\n",
       "      <td>29</td>\n",
       "    </tr>\n",
       "    <tr>\n",
       "      <th>7</th>\n",
       "      <td>17</td>\n",
       "      <td>16</td>\n",
       "      <td>29</td>\n",
       "    </tr>\n",
       "    <tr>\n",
       "      <th>8</th>\n",
       "      <td>12</td>\n",
       "      <td>9</td>\n",
       "      <td>14</td>\n",
       "    </tr>\n",
       "    <tr>\n",
       "      <th>9</th>\n",
       "      <td>25</td>\n",
       "      <td>23</td>\n",
       "      <td>25</td>\n",
       "    </tr>\n",
       "  </tbody>\n",
       "</table>\n",
       "</div>"
      ],
      "text/plain": [
       "   var1  var2  var3\n",
       "0     6     4     6\n",
       "1    19    11    28\n",
       "2    27     5    11\n",
       "3    10    24    15\n",
       "4    24    29    27\n",
       "5    18     2    11\n",
       "6    28    21    29\n",
       "7    17    16    29\n",
       "8    12     9    14\n",
       "9    25    23    25"
      ]
     },
     "execution_count": 68,
     "metadata": {},
     "output_type": "execute_result"
    }
   ],
   "source": [
    "df = pd.DataFrame(x, columns = [\"var1\", \"var2\", \"var3\"])\n",
    "df"
   ]
  },
  {
   "cell_type": "code",
   "execution_count": 69,
   "id": "3079a2e0",
   "metadata": {
    "execution": {
     "iopub.execute_input": "2023-07-28T14:49:52.282769Z",
     "iopub.status.busy": "2023-07-28T14:49:52.281779Z",
     "iopub.status.idle": "2023-07-28T14:49:52.291211Z",
     "shell.execute_reply": "2023-07-28T14:49:52.290284Z"
    },
    "papermill": {
     "duration": 0.053502,
     "end_time": "2023-07-28T14:49:52.293128",
     "exception": false,
     "start_time": "2023-07-28T14:49:52.239626",
     "status": "completed"
    },
    "tags": []
   },
   "outputs": [
    {
     "data": {
      "text/html": [
       "<div>\n",
       "<style scoped>\n",
       "    .dataframe tbody tr th:only-of-type {\n",
       "        vertical-align: middle;\n",
       "    }\n",
       "\n",
       "    .dataframe tbody tr th {\n",
       "        vertical-align: top;\n",
       "    }\n",
       "\n",
       "    .dataframe thead th {\n",
       "        text-align: right;\n",
       "    }\n",
       "</style>\n",
       "<table border=\"1\" class=\"dataframe\">\n",
       "  <thead>\n",
       "    <tr style=\"text-align: right;\">\n",
       "      <th></th>\n",
       "      <th>var1</th>\n",
       "      <th>var2</th>\n",
       "      <th>var3</th>\n",
       "    </tr>\n",
       "  </thead>\n",
       "  <tbody>\n",
       "    <tr>\n",
       "      <th>0</th>\n",
       "      <td>6</td>\n",
       "      <td>4</td>\n",
       "      <td>6</td>\n",
       "    </tr>\n",
       "    <tr>\n",
       "      <th>1</th>\n",
       "      <td>19</td>\n",
       "      <td>11</td>\n",
       "      <td>28</td>\n",
       "    </tr>\n",
       "    <tr>\n",
       "      <th>2</th>\n",
       "      <td>27</td>\n",
       "      <td>5</td>\n",
       "      <td>11</td>\n",
       "    </tr>\n",
       "    <tr>\n",
       "      <th>3</th>\n",
       "      <td>10</td>\n",
       "      <td>24</td>\n",
       "      <td>15</td>\n",
       "    </tr>\n",
       "  </tbody>\n",
       "</table>\n",
       "</div>"
      ],
      "text/plain": [
       "   var1  var2  var3\n",
       "0     6     4     6\n",
       "1    19    11    28\n",
       "2    27     5    11\n",
       "3    10    24    15"
      ]
     },
     "execution_count": 69,
     "metadata": {},
     "output_type": "execute_result"
    }
   ],
   "source": [
    "df.loc[0:3]"
   ]
  },
  {
   "cell_type": "code",
   "execution_count": 70,
   "id": "7288d0ae",
   "metadata": {
    "execution": {
     "iopub.execute_input": "2023-07-28T14:49:52.375428Z",
     "iopub.status.busy": "2023-07-28T14:49:52.374485Z",
     "iopub.status.idle": "2023-07-28T14:49:52.384036Z",
     "shell.execute_reply": "2023-07-28T14:49:52.383111Z"
    },
    "papermill": {
     "duration": 0.053105,
     "end_time": "2023-07-28T14:49:52.386270",
     "exception": false,
     "start_time": "2023-07-28T14:49:52.333165",
     "status": "completed"
    },
    "tags": []
   },
   "outputs": [
    {
     "data": {
      "text/html": [
       "<div>\n",
       "<style scoped>\n",
       "    .dataframe tbody tr th:only-of-type {\n",
       "        vertical-align: middle;\n",
       "    }\n",
       "\n",
       "    .dataframe tbody tr th {\n",
       "        vertical-align: top;\n",
       "    }\n",
       "\n",
       "    .dataframe thead th {\n",
       "        text-align: right;\n",
       "    }\n",
       "</style>\n",
       "<table border=\"1\" class=\"dataframe\">\n",
       "  <thead>\n",
       "    <tr style=\"text-align: right;\">\n",
       "      <th></th>\n",
       "      <th>var1</th>\n",
       "      <th>var2</th>\n",
       "      <th>var3</th>\n",
       "    </tr>\n",
       "  </thead>\n",
       "  <tbody>\n",
       "    <tr>\n",
       "      <th>0</th>\n",
       "      <td>6</td>\n",
       "      <td>4</td>\n",
       "      <td>6</td>\n",
       "    </tr>\n",
       "    <tr>\n",
       "      <th>1</th>\n",
       "      <td>19</td>\n",
       "      <td>11</td>\n",
       "      <td>28</td>\n",
       "    </tr>\n",
       "    <tr>\n",
       "      <th>2</th>\n",
       "      <td>27</td>\n",
       "      <td>5</td>\n",
       "      <td>11</td>\n",
       "    </tr>\n",
       "  </tbody>\n",
       "</table>\n",
       "</div>"
      ],
      "text/plain": [
       "   var1  var2  var3\n",
       "0     6     4     6\n",
       "1    19    11    28\n",
       "2    27     5    11"
      ]
     },
     "execution_count": 70,
     "metadata": {},
     "output_type": "execute_result"
    }
   ],
   "source": [
    "df.iloc[0:3]"
   ]
  },
  {
   "cell_type": "code",
   "execution_count": 71,
   "id": "dd6c2bc8",
   "metadata": {
    "execution": {
     "iopub.execute_input": "2023-07-28T14:49:52.477876Z",
     "iopub.status.busy": "2023-07-28T14:49:52.477486Z",
     "iopub.status.idle": "2023-07-28T14:49:52.487944Z",
     "shell.execute_reply": "2023-07-28T14:49:52.486946Z"
    },
    "papermill": {
     "duration": 0.060244,
     "end_time": "2023-07-28T14:49:52.490374",
     "exception": false,
     "start_time": "2023-07-28T14:49:52.430130",
     "status": "completed"
    },
    "tags": []
   },
   "outputs": [
    {
     "data": {
      "text/html": [
       "<div>\n",
       "<style scoped>\n",
       "    .dataframe tbody tr th:only-of-type {\n",
       "        vertical-align: middle;\n",
       "    }\n",
       "\n",
       "    .dataframe tbody tr th {\n",
       "        vertical-align: top;\n",
       "    }\n",
       "\n",
       "    .dataframe thead th {\n",
       "        text-align: right;\n",
       "    }\n",
       "</style>\n",
       "<table border=\"1\" class=\"dataframe\">\n",
       "  <thead>\n",
       "    <tr style=\"text-align: right;\">\n",
       "      <th></th>\n",
       "      <th>var1</th>\n",
       "      <th>var2</th>\n",
       "      <th>var3</th>\n",
       "    </tr>\n",
       "  </thead>\n",
       "  <tbody>\n",
       "    <tr>\n",
       "      <th>0</th>\n",
       "      <td>6</td>\n",
       "      <td>4</td>\n",
       "      <td>6</td>\n",
       "    </tr>\n",
       "    <tr>\n",
       "      <th>1</th>\n",
       "      <td>19</td>\n",
       "      <td>11</td>\n",
       "      <td>28</td>\n",
       "    </tr>\n",
       "    <tr>\n",
       "      <th>2</th>\n",
       "      <td>27</td>\n",
       "      <td>5</td>\n",
       "      <td>11</td>\n",
       "    </tr>\n",
       "    <tr>\n",
       "      <th>3</th>\n",
       "      <td>10</td>\n",
       "      <td>24</td>\n",
       "      <td>15</td>\n",
       "    </tr>\n",
       "    <tr>\n",
       "      <th>4</th>\n",
       "      <td>24</td>\n",
       "      <td>29</td>\n",
       "      <td>27</td>\n",
       "    </tr>\n",
       "    <tr>\n",
       "      <th>5</th>\n",
       "      <td>18</td>\n",
       "      <td>2</td>\n",
       "      <td>11</td>\n",
       "    </tr>\n",
       "    <tr>\n",
       "      <th>6</th>\n",
       "      <td>28</td>\n",
       "      <td>21</td>\n",
       "      <td>29</td>\n",
       "    </tr>\n",
       "    <tr>\n",
       "      <th>7</th>\n",
       "      <td>17</td>\n",
       "      <td>16</td>\n",
       "      <td>29</td>\n",
       "    </tr>\n",
       "    <tr>\n",
       "      <th>8</th>\n",
       "      <td>12</td>\n",
       "      <td>9</td>\n",
       "      <td>14</td>\n",
       "    </tr>\n",
       "    <tr>\n",
       "      <th>9</th>\n",
       "      <td>25</td>\n",
       "      <td>23</td>\n",
       "      <td>25</td>\n",
       "    </tr>\n",
       "  </tbody>\n",
       "</table>\n",
       "</div>"
      ],
      "text/plain": [
       "   var1  var2  var3\n",
       "0     6     4     6\n",
       "1    19    11    28\n",
       "2    27     5    11\n",
       "3    10    24    15\n",
       "4    24    29    27\n",
       "5    18     2    11\n",
       "6    28    21    29\n",
       "7    17    16    29\n",
       "8    12     9    14\n",
       "9    25    23    25"
      ]
     },
     "execution_count": 71,
     "metadata": {},
     "output_type": "execute_result"
    }
   ],
   "source": [
    "df"
   ]
  },
  {
   "cell_type": "code",
   "execution_count": 72,
   "id": "912f9ebd",
   "metadata": {
    "execution": {
     "iopub.execute_input": "2023-07-28T14:49:52.579682Z",
     "iopub.status.busy": "2023-07-28T14:49:52.578801Z",
     "iopub.status.idle": "2023-07-28T14:49:52.588477Z",
     "shell.execute_reply": "2023-07-28T14:49:52.587462Z"
    },
    "papermill": {
     "duration": 0.053595,
     "end_time": "2023-07-28T14:49:52.590671",
     "exception": false,
     "start_time": "2023-07-28T14:49:52.537076",
     "status": "completed"
    },
    "tags": []
   },
   "outputs": [
    {
     "data": {
      "text/html": [
       "<div>\n",
       "<style scoped>\n",
       "    .dataframe tbody tr th:only-of-type {\n",
       "        vertical-align: middle;\n",
       "    }\n",
       "\n",
       "    .dataframe tbody tr th {\n",
       "        vertical-align: top;\n",
       "    }\n",
       "\n",
       "    .dataframe thead th {\n",
       "        text-align: right;\n",
       "    }\n",
       "</style>\n",
       "<table border=\"1\" class=\"dataframe\">\n",
       "  <thead>\n",
       "    <tr style=\"text-align: right;\">\n",
       "      <th></th>\n",
       "      <th>var1</th>\n",
       "      <th>var2</th>\n",
       "    </tr>\n",
       "  </thead>\n",
       "  <tbody>\n",
       "    <tr>\n",
       "      <th>0</th>\n",
       "      <td>6</td>\n",
       "      <td>4</td>\n",
       "    </tr>\n",
       "    <tr>\n",
       "      <th>1</th>\n",
       "      <td>19</td>\n",
       "      <td>11</td>\n",
       "    </tr>\n",
       "    <tr>\n",
       "      <th>2</th>\n",
       "      <td>27</td>\n",
       "      <td>5</td>\n",
       "    </tr>\n",
       "  </tbody>\n",
       "</table>\n",
       "</div>"
      ],
      "text/plain": [
       "   var1  var2\n",
       "0     6     4\n",
       "1    19    11\n",
       "2    27     5"
      ]
     },
     "execution_count": 72,
     "metadata": {},
     "output_type": "execute_result"
    }
   ],
   "source": [
    "df.iloc[:3, :2]"
   ]
  },
  {
   "cell_type": "code",
   "execution_count": 73,
   "id": "8b19fcb0",
   "metadata": {
    "execution": {
     "iopub.execute_input": "2023-07-28T14:49:52.676782Z",
     "iopub.status.busy": "2023-07-28T14:49:52.675878Z",
     "iopub.status.idle": "2023-07-28T14:49:52.683466Z",
     "shell.execute_reply": "2023-07-28T14:49:52.682418Z"
    },
    "papermill": {
     "duration": 0.051765,
     "end_time": "2023-07-28T14:49:52.685401",
     "exception": false,
     "start_time": "2023-07-28T14:49:52.633636",
     "status": "completed"
    },
    "tags": []
   },
   "outputs": [
    {
     "data": {
      "text/plain": [
       "0     6\n",
       "1    19\n",
       "2    27\n",
       "3    10\n",
       "Name: var1, dtype: int64"
      ]
     },
     "execution_count": 73,
     "metadata": {},
     "output_type": "execute_result"
    }
   ],
   "source": [
    "df.loc[:3, \"var1\"]"
   ]
  },
  {
   "cell_type": "code",
   "execution_count": 74,
   "id": "f2ba18aa",
   "metadata": {
    "execution": {
     "iopub.execute_input": "2023-07-28T14:49:52.767854Z",
     "iopub.status.busy": "2023-07-28T14:49:52.767553Z",
     "iopub.status.idle": "2023-07-28T14:49:52.774032Z",
     "shell.execute_reply": "2023-07-28T14:49:52.773191Z"
    },
    "papermill": {
     "duration": 0.049901,
     "end_time": "2023-07-28T14:49:52.775988",
     "exception": false,
     "start_time": "2023-07-28T14:49:52.726087",
     "status": "completed"
    },
    "tags": []
   },
   "outputs": [
    {
     "data": {
      "text/plain": [
       "0     6\n",
       "1    19\n",
       "2    27\n",
       "3    10\n",
       "Name: var1, dtype: int64"
      ]
     },
     "execution_count": 74,
     "metadata": {},
     "output_type": "execute_result"
    }
   ],
   "source": [
    "df.loc[:3, \"var1\"] # use loc for str or below"
   ]
  },
  {
   "cell_type": "code",
   "execution_count": 75,
   "id": "1628e975",
   "metadata": {
    "execution": {
     "iopub.execute_input": "2023-07-28T14:49:52.861391Z",
     "iopub.status.busy": "2023-07-28T14:49:52.860441Z",
     "iopub.status.idle": "2023-07-28T14:49:52.868400Z",
     "shell.execute_reply": "2023-07-28T14:49:52.867445Z"
    },
    "papermill": {
     "duration": 0.053871,
     "end_time": "2023-07-28T14:49:52.870414",
     "exception": false,
     "start_time": "2023-07-28T14:49:52.816543",
     "status": "completed"
    },
    "tags": []
   },
   "outputs": [
    {
     "data": {
      "text/plain": [
       "0     4\n",
       "1    11\n",
       "2     5\n",
       "Name: var2, dtype: int64"
      ]
     },
     "execution_count": 75,
     "metadata": {},
     "output_type": "execute_result"
    }
   ],
   "source": [
    "df.iloc[0:3] [\"var2\"]"
   ]
  },
  {
   "cell_type": "code",
   "execution_count": 76,
   "id": "7b8ca822",
   "metadata": {
    "execution": {
     "iopub.execute_input": "2023-07-28T14:49:52.953862Z",
     "iopub.status.busy": "2023-07-28T14:49:52.953566Z",
     "iopub.status.idle": "2023-07-28T14:49:52.963382Z",
     "shell.execute_reply": "2023-07-28T14:49:52.962564Z"
    },
    "papermill": {
     "duration": 0.053257,
     "end_time": "2023-07-28T14:49:52.965240",
     "exception": false,
     "start_time": "2023-07-28T14:49:52.911983",
     "status": "completed"
    },
    "tags": []
   },
   "outputs": [
    {
     "data": {
      "text/html": [
       "<div>\n",
       "<style scoped>\n",
       "    .dataframe tbody tr th:only-of-type {\n",
       "        vertical-align: middle;\n",
       "    }\n",
       "\n",
       "    .dataframe tbody tr th {\n",
       "        vertical-align: top;\n",
       "    }\n",
       "\n",
       "    .dataframe thead th {\n",
       "        text-align: right;\n",
       "    }\n",
       "</style>\n",
       "<table border=\"1\" class=\"dataframe\">\n",
       "  <thead>\n",
       "    <tr style=\"text-align: right;\">\n",
       "      <th></th>\n",
       "      <th>var1</th>\n",
       "      <th>var2</th>\n",
       "      <th>var3</th>\n",
       "    </tr>\n",
       "  </thead>\n",
       "  <tbody>\n",
       "    <tr>\n",
       "      <th>0</th>\n",
       "      <td>1</td>\n",
       "      <td>27</td>\n",
       "      <td>1</td>\n",
       "    </tr>\n",
       "    <tr>\n",
       "      <th>1</th>\n",
       "      <td>11</td>\n",
       "      <td>6</td>\n",
       "      <td>8</td>\n",
       "    </tr>\n",
       "    <tr>\n",
       "      <th>2</th>\n",
       "      <td>6</td>\n",
       "      <td>28</td>\n",
       "      <td>13</td>\n",
       "    </tr>\n",
       "    <tr>\n",
       "      <th>3</th>\n",
       "      <td>9</td>\n",
       "      <td>1</td>\n",
       "      <td>8</td>\n",
       "    </tr>\n",
       "    <tr>\n",
       "      <th>4</th>\n",
       "      <td>26</td>\n",
       "      <td>13</td>\n",
       "      <td>28</td>\n",
       "    </tr>\n",
       "    <tr>\n",
       "      <th>5</th>\n",
       "      <td>11</td>\n",
       "      <td>23</td>\n",
       "      <td>29</td>\n",
       "    </tr>\n",
       "    <tr>\n",
       "      <th>6</th>\n",
       "      <td>7</td>\n",
       "      <td>9</td>\n",
       "      <td>11</td>\n",
       "    </tr>\n",
       "    <tr>\n",
       "      <th>7</th>\n",
       "      <td>16</td>\n",
       "      <td>23</td>\n",
       "      <td>1</td>\n",
       "    </tr>\n",
       "    <tr>\n",
       "      <th>8</th>\n",
       "      <td>4</td>\n",
       "      <td>9</td>\n",
       "      <td>10</td>\n",
       "    </tr>\n",
       "    <tr>\n",
       "      <th>9</th>\n",
       "      <td>9</td>\n",
       "      <td>5</td>\n",
       "      <td>7</td>\n",
       "    </tr>\n",
       "  </tbody>\n",
       "</table>\n",
       "</div>"
      ],
      "text/plain": [
       "   var1  var2  var3\n",
       "0     1    27     1\n",
       "1    11     6     8\n",
       "2     6    28    13\n",
       "3     9     1     8\n",
       "4    26    13    28\n",
       "5    11    23    29\n",
       "6     7     9    11\n",
       "7    16    23     1\n",
       "8     4     9    10\n",
       "9     9     5     7"
      ]
     },
     "execution_count": 76,
     "metadata": {},
     "output_type": "execute_result"
    }
   ],
   "source": [
    "x = np.random.randint(1, 30 , size = (10, 3)) \n",
    "df = pd.DataFrame(x, columns = [\"var1\", \"var2\", \"var3\"])\n",
    "df"
   ]
  },
  {
   "cell_type": "code",
   "execution_count": 77,
   "id": "56d1d9df",
   "metadata": {
    "execution": {
     "iopub.execute_input": "2023-07-28T14:49:53.050409Z",
     "iopub.status.busy": "2023-07-28T14:49:53.049608Z",
     "iopub.status.idle": "2023-07-28T14:49:53.059725Z",
     "shell.execute_reply": "2023-07-28T14:49:53.058804Z"
    },
    "papermill": {
     "duration": 0.054605,
     "end_time": "2023-07-28T14:49:53.061736",
     "exception": false,
     "start_time": "2023-07-28T14:49:53.007131",
     "status": "completed"
    },
    "tags": []
   },
   "outputs": [
    {
     "data": {
      "text/html": [
       "<div>\n",
       "<style scoped>\n",
       "    .dataframe tbody tr th:only-of-type {\n",
       "        vertical-align: middle;\n",
       "    }\n",
       "\n",
       "    .dataframe tbody tr th {\n",
       "        vertical-align: top;\n",
       "    }\n",
       "\n",
       "    .dataframe thead th {\n",
       "        text-align: right;\n",
       "    }\n",
       "</style>\n",
       "<table border=\"1\" class=\"dataframe\">\n",
       "  <thead>\n",
       "    <tr style=\"text-align: right;\">\n",
       "      <th></th>\n",
       "      <th>var1</th>\n",
       "      <th>var2</th>\n",
       "    </tr>\n",
       "  </thead>\n",
       "  <tbody>\n",
       "    <tr>\n",
       "      <th>0</th>\n",
       "      <td>1</td>\n",
       "      <td>27</td>\n",
       "    </tr>\n",
       "    <tr>\n",
       "      <th>1</th>\n",
       "      <td>11</td>\n",
       "      <td>6</td>\n",
       "    </tr>\n",
       "    <tr>\n",
       "      <th>2</th>\n",
       "      <td>6</td>\n",
       "      <td>28</td>\n",
       "    </tr>\n",
       "    <tr>\n",
       "      <th>3</th>\n",
       "      <td>9</td>\n",
       "      <td>1</td>\n",
       "    </tr>\n",
       "  </tbody>\n",
       "</table>\n",
       "</div>"
      ],
      "text/plain": [
       "   var1  var2\n",
       "0     1    27\n",
       "1    11     6\n",
       "2     6    28\n",
       "3     9     1"
      ]
     },
     "execution_count": 77,
     "metadata": {},
     "output_type": "execute_result"
    }
   ],
   "source": [
    "df[0:4][[\"var1\", \"var2\"]]"
   ]
  },
  {
   "cell_type": "code",
   "execution_count": 78,
   "id": "cc8716bf",
   "metadata": {
    "execution": {
     "iopub.execute_input": "2023-07-28T14:49:53.148288Z",
     "iopub.status.busy": "2023-07-28T14:49:53.147271Z",
     "iopub.status.idle": "2023-07-28T14:49:53.156628Z",
     "shell.execute_reply": "2023-07-28T14:49:53.155716Z"
    },
    "papermill": {
     "duration": 0.054013,
     "end_time": "2023-07-28T14:49:53.158715",
     "exception": false,
     "start_time": "2023-07-28T14:49:53.104702",
     "status": "completed"
    },
    "tags": []
   },
   "outputs": [
    {
     "data": {
      "text/html": [
       "<div>\n",
       "<style scoped>\n",
       "    .dataframe tbody tr th:only-of-type {\n",
       "        vertical-align: middle;\n",
       "    }\n",
       "\n",
       "    .dataframe tbody tr th {\n",
       "        vertical-align: top;\n",
       "    }\n",
       "\n",
       "    .dataframe thead th {\n",
       "        text-align: right;\n",
       "    }\n",
       "</style>\n",
       "<table border=\"1\" class=\"dataframe\">\n",
       "  <thead>\n",
       "    <tr style=\"text-align: right;\">\n",
       "      <th></th>\n",
       "      <th>var1</th>\n",
       "      <th>var2</th>\n",
       "      <th>var3</th>\n",
       "    </tr>\n",
       "  </thead>\n",
       "  <tbody>\n",
       "    <tr>\n",
       "      <th>0</th>\n",
       "      <td>1</td>\n",
       "      <td>27</td>\n",
       "      <td>1</td>\n",
       "    </tr>\n",
       "    <tr>\n",
       "      <th>1</th>\n",
       "      <td>11</td>\n",
       "      <td>6</td>\n",
       "      <td>8</td>\n",
       "    </tr>\n",
       "    <tr>\n",
       "      <th>2</th>\n",
       "      <td>6</td>\n",
       "      <td>28</td>\n",
       "      <td>13</td>\n",
       "    </tr>\n",
       "    <tr>\n",
       "      <th>3</th>\n",
       "      <td>9</td>\n",
       "      <td>1</td>\n",
       "      <td>8</td>\n",
       "    </tr>\n",
       "    <tr>\n",
       "      <th>4</th>\n",
       "      <td>26</td>\n",
       "      <td>13</td>\n",
       "      <td>28</td>\n",
       "    </tr>\n",
       "    <tr>\n",
       "      <th>5</th>\n",
       "      <td>11</td>\n",
       "      <td>23</td>\n",
       "      <td>29</td>\n",
       "    </tr>\n",
       "    <tr>\n",
       "      <th>6</th>\n",
       "      <td>7</td>\n",
       "      <td>9</td>\n",
       "      <td>11</td>\n",
       "    </tr>\n",
       "    <tr>\n",
       "      <th>7</th>\n",
       "      <td>16</td>\n",
       "      <td>23</td>\n",
       "      <td>1</td>\n",
       "    </tr>\n",
       "    <tr>\n",
       "      <th>8</th>\n",
       "      <td>4</td>\n",
       "      <td>9</td>\n",
       "      <td>10</td>\n",
       "    </tr>\n",
       "    <tr>\n",
       "      <th>9</th>\n",
       "      <td>9</td>\n",
       "      <td>5</td>\n",
       "      <td>7</td>\n",
       "    </tr>\n",
       "  </tbody>\n",
       "</table>\n",
       "</div>"
      ],
      "text/plain": [
       "   var1  var2  var3\n",
       "0     1    27     1\n",
       "1    11     6     8\n",
       "2     6    28    13\n",
       "3     9     1     8\n",
       "4    26    13    28\n",
       "5    11    23    29\n",
       "6     7     9    11\n",
       "7    16    23     1\n",
       "8     4     9    10\n",
       "9     9     5     7"
      ]
     },
     "execution_count": 78,
     "metadata": {},
     "output_type": "execute_result"
    }
   ],
   "source": [
    "df\n"
   ]
  },
  {
   "cell_type": "code",
   "execution_count": 79,
   "id": "8b8c93f3",
   "metadata": {
    "execution": {
     "iopub.execute_input": "2023-07-28T14:49:53.243824Z",
     "iopub.status.busy": "2023-07-28T14:49:53.243224Z",
     "iopub.status.idle": "2023-07-28T14:49:53.250539Z",
     "shell.execute_reply": "2023-07-28T14:49:53.249559Z"
    },
    "papermill": {
     "duration": 0.051685,
     "end_time": "2023-07-28T14:49:53.252480",
     "exception": false,
     "start_time": "2023-07-28T14:49:53.200795",
     "status": "completed"
    },
    "tags": []
   },
   "outputs": [
    {
     "data": {
      "text/plain": [
       "0     1\n",
       "1    11\n",
       "2     6\n",
       "3     9\n",
       "4    26\n",
       "5    11\n",
       "6     7\n",
       "7    16\n",
       "8     4\n",
       "9     9\n",
       "Name: var1, dtype: int64"
      ]
     },
     "execution_count": 79,
     "metadata": {},
     "output_type": "execute_result"
    }
   ],
   "source": [
    "df.var1"
   ]
  },
  {
   "cell_type": "code",
   "execution_count": 80,
   "id": "ae7c44d5",
   "metadata": {
    "execution": {
     "iopub.execute_input": "2023-07-28T14:49:53.339960Z",
     "iopub.status.busy": "2023-07-28T14:49:53.339017Z",
     "iopub.status.idle": "2023-07-28T14:49:53.349165Z",
     "shell.execute_reply": "2023-07-28T14:49:53.348221Z"
    },
    "papermill": {
     "duration": 0.057888,
     "end_time": "2023-07-28T14:49:53.353599",
     "exception": false,
     "start_time": "2023-07-28T14:49:53.295711",
     "status": "completed"
    },
    "tags": []
   },
   "outputs": [
    {
     "data": {
      "text/html": [
       "<div>\n",
       "<style scoped>\n",
       "    .dataframe tbody tr th:only-of-type {\n",
       "        vertical-align: middle;\n",
       "    }\n",
       "\n",
       "    .dataframe tbody tr th {\n",
       "        vertical-align: top;\n",
       "    }\n",
       "\n",
       "    .dataframe thead th {\n",
       "        text-align: right;\n",
       "    }\n",
       "</style>\n",
       "<table border=\"1\" class=\"dataframe\">\n",
       "  <thead>\n",
       "    <tr style=\"text-align: right;\">\n",
       "      <th></th>\n",
       "      <th>var1</th>\n",
       "      <th>var2</th>\n",
       "      <th>var3</th>\n",
       "    </tr>\n",
       "  </thead>\n",
       "  <tbody>\n",
       "    <tr>\n",
       "      <th>4</th>\n",
       "      <td>26</td>\n",
       "      <td>13</td>\n",
       "      <td>28</td>\n",
       "    </tr>\n",
       "  </tbody>\n",
       "</table>\n",
       "</div>"
      ],
      "text/plain": [
       "   var1  var2  var3\n",
       "4    26    13    28"
      ]
     },
     "execution_count": 80,
     "metadata": {},
     "output_type": "execute_result"
    }
   ],
   "source": [
    "df[df.var1 > 20]"
   ]
  },
  {
   "cell_type": "code",
   "execution_count": 81,
   "id": "b8b094ee",
   "metadata": {
    "execution": {
     "iopub.execute_input": "2023-07-28T14:49:53.446771Z",
     "iopub.status.busy": "2023-07-28T14:49:53.446242Z",
     "iopub.status.idle": "2023-07-28T14:49:53.457292Z",
     "shell.execute_reply": "2023-07-28T14:49:53.456404Z"
    },
    "papermill": {
     "duration": 0.055798,
     "end_time": "2023-07-28T14:49:53.459356",
     "exception": false,
     "start_time": "2023-07-28T14:49:53.403558",
     "status": "completed"
    },
    "tags": []
   },
   "outputs": [
    {
     "data": {
      "text/html": [
       "<div>\n",
       "<style scoped>\n",
       "    .dataframe tbody tr th:only-of-type {\n",
       "        vertical-align: middle;\n",
       "    }\n",
       "\n",
       "    .dataframe tbody tr th {\n",
       "        vertical-align: top;\n",
       "    }\n",
       "\n",
       "    .dataframe thead th {\n",
       "        text-align: right;\n",
       "    }\n",
       "</style>\n",
       "<table border=\"1\" class=\"dataframe\">\n",
       "  <thead>\n",
       "    <tr style=\"text-align: right;\">\n",
       "      <th></th>\n",
       "      <th>var1</th>\n",
       "      <th>var2</th>\n",
       "      <th>var3</th>\n",
       "    </tr>\n",
       "  </thead>\n",
       "  <tbody>\n",
       "    <tr>\n",
       "      <th>4</th>\n",
       "      <td>26</td>\n",
       "      <td>13</td>\n",
       "      <td>28</td>\n",
       "    </tr>\n",
       "  </tbody>\n",
       "</table>\n",
       "</div>"
      ],
      "text/plain": [
       "   var1  var2  var3\n",
       "4    26    13    28"
      ]
     },
     "execution_count": 81,
     "metadata": {},
     "output_type": "execute_result"
    }
   ],
   "source": [
    "df[(df.var1 > 20) & (df.var3 < 30)] "
   ]
  },
  {
   "cell_type": "code",
   "execution_count": 82,
   "id": "f3f46426",
   "metadata": {
    "execution": {
     "iopub.execute_input": "2023-07-28T14:49:53.548154Z",
     "iopub.status.busy": "2023-07-28T14:49:53.547793Z",
     "iopub.status.idle": "2023-07-28T14:49:53.558358Z",
     "shell.execute_reply": "2023-07-28T14:49:53.556459Z"
    },
    "papermill": {
     "duration": 0.058617,
     "end_time": "2023-07-28T14:49:53.562595",
     "exception": false,
     "start_time": "2023-07-28T14:49:53.503978",
     "status": "completed"
    },
    "tags": []
   },
   "outputs": [],
   "source": [
    "import pandas as pd"
   ]
  },
  {
   "cell_type": "code",
   "execution_count": 83,
   "id": "60fd723a",
   "metadata": {
    "execution": {
     "iopub.execute_input": "2023-07-28T14:49:53.685927Z",
     "iopub.status.busy": "2023-07-28T14:49:53.685511Z",
     "iopub.status.idle": "2023-07-28T14:49:53.696541Z",
     "shell.execute_reply": "2023-07-28T14:49:53.695444Z"
    },
    "papermill": {
     "duration": 0.063005,
     "end_time": "2023-07-28T14:49:53.698593",
     "exception": false,
     "start_time": "2023-07-28T14:49:53.635588",
     "status": "completed"
    },
    "tags": []
   },
   "outputs": [
    {
     "data": {
      "text/html": [
       "<div>\n",
       "<style scoped>\n",
       "    .dataframe tbody tr th:only-of-type {\n",
       "        vertical-align: middle;\n",
       "    }\n",
       "\n",
       "    .dataframe tbody tr th {\n",
       "        vertical-align: top;\n",
       "    }\n",
       "\n",
       "    .dataframe thead th {\n",
       "        text-align: right;\n",
       "    }\n",
       "</style>\n",
       "<table border=\"1\" class=\"dataframe\">\n",
       "  <thead>\n",
       "    <tr style=\"text-align: right;\">\n",
       "      <th></th>\n",
       "      <th>workers</th>\n",
       "      <th>group</th>\n",
       "    </tr>\n",
       "  </thead>\n",
       "  <tbody>\n",
       "    <tr>\n",
       "      <th>0</th>\n",
       "      <td>Tamer</td>\n",
       "      <td>Engineering</td>\n",
       "    </tr>\n",
       "    <tr>\n",
       "      <th>1</th>\n",
       "      <td>Mert</td>\n",
       "      <td>HR</td>\n",
       "    </tr>\n",
       "    <tr>\n",
       "      <th>2</th>\n",
       "      <td>Eda</td>\n",
       "      <td>Accounting</td>\n",
       "    </tr>\n",
       "    <tr>\n",
       "      <th>3</th>\n",
       "      <td>Buse</td>\n",
       "      <td>Product</td>\n",
       "    </tr>\n",
       "  </tbody>\n",
       "</table>\n",
       "</div>"
      ],
      "text/plain": [
       "  workers        group\n",
       "0   Tamer  Engineering\n",
       "1    Mert           HR\n",
       "2     Eda   Accounting\n",
       "3    Buse      Product"
      ]
     },
     "execution_count": 83,
     "metadata": {},
     "output_type": "execute_result"
    }
   ],
   "source": [
    "df1 = pd.DataFrame({\"workers\": [\"Tamer\", \"Mert\", \"Eda\", \"Buse\"],\n",
    "                    \"group\" : [\"Engineering\", \"HR\", \"Accounting\", \"Product\"]               \n",
    "                   })\n",
    "df1"
   ]
  },
  {
   "cell_type": "code",
   "execution_count": 84,
   "id": "99cad2f8",
   "metadata": {
    "execution": {
     "iopub.execute_input": "2023-07-28T14:49:53.787352Z",
     "iopub.status.busy": "2023-07-28T14:49:53.786382Z",
     "iopub.status.idle": "2023-07-28T14:49:53.796852Z",
     "shell.execute_reply": "2023-07-28T14:49:53.795851Z"
    },
    "papermill": {
     "duration": 0.055991,
     "end_time": "2023-07-28T14:49:53.798949",
     "exception": false,
     "start_time": "2023-07-28T14:49:53.742958",
     "status": "completed"
    },
    "tags": []
   },
   "outputs": [
    {
     "data": {
      "text/html": [
       "<div>\n",
       "<style scoped>\n",
       "    .dataframe tbody tr th:only-of-type {\n",
       "        vertical-align: middle;\n",
       "    }\n",
       "\n",
       "    .dataframe tbody tr th {\n",
       "        vertical-align: top;\n",
       "    }\n",
       "\n",
       "    .dataframe thead th {\n",
       "        text-align: right;\n",
       "    }\n",
       "</style>\n",
       "<table border=\"1\" class=\"dataframe\">\n",
       "  <thead>\n",
       "    <tr style=\"text-align: right;\">\n",
       "      <th></th>\n",
       "      <th>workers</th>\n",
       "      <th>date</th>\n",
       "    </tr>\n",
       "  </thead>\n",
       "  <tbody>\n",
       "    <tr>\n",
       "      <th>0</th>\n",
       "      <td>Tamer</td>\n",
       "      <td>2020</td>\n",
       "    </tr>\n",
       "    <tr>\n",
       "      <th>1</th>\n",
       "      <td>Mert</td>\n",
       "      <td>2000</td>\n",
       "    </tr>\n",
       "    <tr>\n",
       "      <th>2</th>\n",
       "      <td>Eda</td>\n",
       "      <td>2010</td>\n",
       "    </tr>\n",
       "    <tr>\n",
       "      <th>3</th>\n",
       "      <td>Buse</td>\n",
       "      <td>2008</td>\n",
       "    </tr>\n",
       "  </tbody>\n",
       "</table>\n",
       "</div>"
      ],
      "text/plain": [
       "  workers  date\n",
       "0   Tamer  2020\n",
       "1    Mert  2000\n",
       "2     Eda  2010\n",
       "3    Buse  2008"
      ]
     },
     "execution_count": 84,
     "metadata": {},
     "output_type": "execute_result"
    }
   ],
   "source": [
    "df2 = pd.DataFrame({\"workers\": [\"Tamer\", \"Mert\", \"Eda\", \"Buse\"],\n",
    "                    \"date\" : [\"2020\", \"2000\", \"2010\", \"2008\"]               \n",
    "                   })\n",
    "df2"
   ]
  },
  {
   "cell_type": "code",
   "execution_count": 85,
   "id": "b6db4927",
   "metadata": {
    "execution": {
     "iopub.execute_input": "2023-07-28T14:49:53.886796Z",
     "iopub.status.busy": "2023-07-28T14:49:53.885902Z",
     "iopub.status.idle": "2023-07-28T14:49:53.903294Z",
     "shell.execute_reply": "2023-07-28T14:49:53.902335Z"
    },
    "papermill": {
     "duration": 0.062681,
     "end_time": "2023-07-28T14:49:53.905366",
     "exception": false,
     "start_time": "2023-07-28T14:49:53.842685",
     "status": "completed"
    },
    "tags": []
   },
   "outputs": [
    {
     "data": {
      "text/html": [
       "<div>\n",
       "<style scoped>\n",
       "    .dataframe tbody tr th:only-of-type {\n",
       "        vertical-align: middle;\n",
       "    }\n",
       "\n",
       "    .dataframe tbody tr th {\n",
       "        vertical-align: top;\n",
       "    }\n",
       "\n",
       "    .dataframe thead th {\n",
       "        text-align: right;\n",
       "    }\n",
       "</style>\n",
       "<table border=\"1\" class=\"dataframe\">\n",
       "  <thead>\n",
       "    <tr style=\"text-align: right;\">\n",
       "      <th></th>\n",
       "      <th>workers</th>\n",
       "      <th>group</th>\n",
       "      <th>date</th>\n",
       "    </tr>\n",
       "  </thead>\n",
       "  <tbody>\n",
       "    <tr>\n",
       "      <th>0</th>\n",
       "      <td>Tamer</td>\n",
       "      <td>Engineering</td>\n",
       "      <td>2020</td>\n",
       "    </tr>\n",
       "    <tr>\n",
       "      <th>1</th>\n",
       "      <td>Mert</td>\n",
       "      <td>HR</td>\n",
       "      <td>2000</td>\n",
       "    </tr>\n",
       "    <tr>\n",
       "      <th>2</th>\n",
       "      <td>Eda</td>\n",
       "      <td>Accounting</td>\n",
       "      <td>2010</td>\n",
       "    </tr>\n",
       "    <tr>\n",
       "      <th>3</th>\n",
       "      <td>Buse</td>\n",
       "      <td>Product</td>\n",
       "      <td>2008</td>\n",
       "    </tr>\n",
       "  </tbody>\n",
       "</table>\n",
       "</div>"
      ],
      "text/plain": [
       "  workers        group  date\n",
       "0   Tamer  Engineering  2020\n",
       "1    Mert           HR  2000\n",
       "2     Eda   Accounting  2010\n",
       "3    Buse      Product  2008"
      ]
     },
     "execution_count": 85,
     "metadata": {},
     "output_type": "execute_result"
    }
   ],
   "source": [
    "pd.merge(df1, df2)"
   ]
  },
  {
   "cell_type": "code",
   "execution_count": 86,
   "id": "a6ca3dce",
   "metadata": {
    "execution": {
     "iopub.execute_input": "2023-07-28T14:49:53.994048Z",
     "iopub.status.busy": "2023-07-28T14:49:53.993696Z",
     "iopub.status.idle": "2023-07-28T14:49:53.997907Z",
     "shell.execute_reply": "2023-07-28T14:49:53.997015Z"
    },
    "papermill": {
     "duration": 0.050333,
     "end_time": "2023-07-28T14:49:53.999927",
     "exception": false,
     "start_time": "2023-07-28T14:49:53.949594",
     "status": "completed"
    },
    "tags": []
   },
   "outputs": [],
   "source": [
    "# aggregation & grouping"
   ]
  },
  {
   "cell_type": "code",
   "execution_count": 87,
   "id": "b6f09543",
   "metadata": {
    "execution": {
     "iopub.execute_input": "2023-07-28T14:49:54.086714Z",
     "iopub.status.busy": "2023-07-28T14:49:54.086339Z",
     "iopub.status.idle": "2023-07-28T14:49:55.314231Z",
     "shell.execute_reply": "2023-07-28T14:49:55.313268Z"
    },
    "papermill": {
     "duration": 1.273924,
     "end_time": "2023-07-28T14:49:55.316609",
     "exception": false,
     "start_time": "2023-07-28T14:49:54.042685",
     "status": "completed"
    },
    "tags": []
   },
   "outputs": [
    {
     "name": "stderr",
     "output_type": "stream",
     "text": [
      "/opt/conda/lib/python3.10/site-packages/scipy/__init__.py:146: UserWarning: A NumPy version >=1.16.5 and <1.23.0 is required for this version of SciPy (detected version 1.23.5\n",
      "  warnings.warn(f\"A NumPy version >={np_minversion} and <{np_maxversion}\"\n"
     ]
    }
   ],
   "source": [
    "import seaborn as sns"
   ]
  },
  {
   "cell_type": "code",
   "execution_count": 88,
   "id": "e15d387a",
   "metadata": {
    "execution": {
     "iopub.execute_input": "2023-07-28T14:49:55.404508Z",
     "iopub.status.busy": "2023-07-28T14:49:55.403508Z",
     "iopub.status.idle": "2023-07-28T14:49:55.470272Z",
     "shell.execute_reply": "2023-07-28T14:49:55.469346Z"
    },
    "papermill": {
     "duration": 0.112444,
     "end_time": "2023-07-28T14:49:55.472505",
     "exception": false,
     "start_time": "2023-07-28T14:49:55.360061",
     "status": "completed"
    },
    "tags": []
   },
   "outputs": [],
   "source": [
    "?sns.load_dataset"
   ]
  },
  {
   "cell_type": "code",
   "execution_count": 89,
   "id": "55cef758",
   "metadata": {
    "execution": {
     "iopub.execute_input": "2023-07-28T14:49:55.560934Z",
     "iopub.status.busy": "2023-07-28T14:49:55.559977Z",
     "iopub.status.idle": "2023-07-28T14:49:56.063081Z",
     "shell.execute_reply": "2023-07-28T14:49:56.062182Z"
    },
    "papermill": {
     "duration": 0.549276,
     "end_time": "2023-07-28T14:49:56.065210",
     "exception": false,
     "start_time": "2023-07-28T14:49:55.515934",
     "status": "completed"
    },
    "tags": []
   },
   "outputs": [
    {
     "data": {
      "text/html": [
       "<div>\n",
       "<style scoped>\n",
       "    .dataframe tbody tr th:only-of-type {\n",
       "        vertical-align: middle;\n",
       "    }\n",
       "\n",
       "    .dataframe tbody tr th {\n",
       "        vertical-align: top;\n",
       "    }\n",
       "\n",
       "    .dataframe thead th {\n",
       "        text-align: right;\n",
       "    }\n",
       "</style>\n",
       "<table border=\"1\" class=\"dataframe\">\n",
       "  <thead>\n",
       "    <tr style=\"text-align: right;\">\n",
       "      <th></th>\n",
       "      <th>method</th>\n",
       "      <th>number</th>\n",
       "      <th>orbital_period</th>\n",
       "      <th>mass</th>\n",
       "      <th>distance</th>\n",
       "      <th>year</th>\n",
       "    </tr>\n",
       "  </thead>\n",
       "  <tbody>\n",
       "    <tr>\n",
       "      <th>0</th>\n",
       "      <td>Radial Velocity</td>\n",
       "      <td>1</td>\n",
       "      <td>269.300</td>\n",
       "      <td>7.10</td>\n",
       "      <td>77.40</td>\n",
       "      <td>2006</td>\n",
       "    </tr>\n",
       "    <tr>\n",
       "      <th>1</th>\n",
       "      <td>Radial Velocity</td>\n",
       "      <td>1</td>\n",
       "      <td>874.774</td>\n",
       "      <td>2.21</td>\n",
       "      <td>56.95</td>\n",
       "      <td>2008</td>\n",
       "    </tr>\n",
       "    <tr>\n",
       "      <th>2</th>\n",
       "      <td>Radial Velocity</td>\n",
       "      <td>1</td>\n",
       "      <td>763.000</td>\n",
       "      <td>2.60</td>\n",
       "      <td>19.84</td>\n",
       "      <td>2011</td>\n",
       "    </tr>\n",
       "    <tr>\n",
       "      <th>3</th>\n",
       "      <td>Radial Velocity</td>\n",
       "      <td>1</td>\n",
       "      <td>326.030</td>\n",
       "      <td>19.40</td>\n",
       "      <td>110.62</td>\n",
       "      <td>2007</td>\n",
       "    </tr>\n",
       "    <tr>\n",
       "      <th>4</th>\n",
       "      <td>Radial Velocity</td>\n",
       "      <td>1</td>\n",
       "      <td>516.220</td>\n",
       "      <td>10.50</td>\n",
       "      <td>119.47</td>\n",
       "      <td>2009</td>\n",
       "    </tr>\n",
       "  </tbody>\n",
       "</table>\n",
       "</div>"
      ],
      "text/plain": [
       "            method  number  orbital_period   mass  distance  year\n",
       "0  Radial Velocity       1         269.300   7.10     77.40  2006\n",
       "1  Radial Velocity       1         874.774   2.21     56.95  2008\n",
       "2  Radial Velocity       1         763.000   2.60     19.84  2011\n",
       "3  Radial Velocity       1         326.030  19.40    110.62  2007\n",
       "4  Radial Velocity       1         516.220  10.50    119.47  2009"
      ]
     },
     "execution_count": 89,
     "metadata": {},
     "output_type": "execute_result"
    }
   ],
   "source": [
    "df = sns.load_dataset(\"planets\")\n",
    "df.head()"
   ]
  },
  {
   "cell_type": "code",
   "execution_count": 90,
   "id": "d981f2ca",
   "metadata": {
    "execution": {
     "iopub.execute_input": "2023-07-28T14:49:56.152023Z",
     "iopub.status.busy": "2023-07-28T14:49:56.151214Z",
     "iopub.status.idle": "2023-07-28T14:49:56.156976Z",
     "shell.execute_reply": "2023-07-28T14:49:56.156091Z"
    },
    "papermill": {
     "duration": 0.050663,
     "end_time": "2023-07-28T14:49:56.158921",
     "exception": false,
     "start_time": "2023-07-28T14:49:56.108258",
     "status": "completed"
    },
    "tags": []
   },
   "outputs": [
    {
     "data": {
      "text/plain": [
       "(1035, 6)"
      ]
     },
     "execution_count": 90,
     "metadata": {},
     "output_type": "execute_result"
    }
   ],
   "source": [
    "df.shape"
   ]
  },
  {
   "cell_type": "code",
   "execution_count": 91,
   "id": "b6939f41",
   "metadata": {
    "execution": {
     "iopub.execute_input": "2023-07-28T14:49:56.246898Z",
     "iopub.status.busy": "2023-07-28T14:49:56.245967Z",
     "iopub.status.idle": "2023-07-28T14:49:56.253026Z",
     "shell.execute_reply": "2023-07-28T14:49:56.252107Z"
    },
    "papermill": {
     "duration": 0.052856,
     "end_time": "2023-07-28T14:49:56.254925",
     "exception": false,
     "start_time": "2023-07-28T14:49:56.202069",
     "status": "completed"
    },
    "tags": []
   },
   "outputs": [
    {
     "data": {
      "text/plain": [
       "2.6381605847953216"
      ]
     },
     "execution_count": 91,
     "metadata": {},
     "output_type": "execute_result"
    }
   ],
   "source": [
    "df[\"mass\"].mean()"
   ]
  },
  {
   "cell_type": "code",
   "execution_count": 92,
   "id": "3de8bec4",
   "metadata": {
    "execution": {
     "iopub.execute_input": "2023-07-28T14:49:56.342419Z",
     "iopub.status.busy": "2023-07-28T14:49:56.342135Z",
     "iopub.status.idle": "2023-07-28T14:49:56.348456Z",
     "shell.execute_reply": "2023-07-28T14:49:56.347557Z"
    },
    "papermill": {
     "duration": 0.05164,
     "end_time": "2023-07-28T14:49:56.350390",
     "exception": false,
     "start_time": "2023-07-28T14:49:56.298750",
     "status": "completed"
    },
    "tags": []
   },
   "outputs": [
    {
     "data": {
      "text/plain": [
       "513"
      ]
     },
     "execution_count": 92,
     "metadata": {},
     "output_type": "execute_result"
    }
   ],
   "source": [
    "df[\"mass\"].count()"
   ]
  },
  {
   "cell_type": "code",
   "execution_count": 93,
   "id": "4280b34c",
   "metadata": {
    "execution": {
     "iopub.execute_input": "2023-07-28T14:49:56.439171Z",
     "iopub.status.busy": "2023-07-28T14:49:56.438488Z",
     "iopub.status.idle": "2023-07-28T14:49:56.445366Z",
     "shell.execute_reply": "2023-07-28T14:49:56.444483Z"
    },
    "papermill": {
     "duration": 0.053666,
     "end_time": "2023-07-28T14:49:56.447438",
     "exception": false,
     "start_time": "2023-07-28T14:49:56.393772",
     "status": "completed"
    },
    "tags": []
   },
   "outputs": [
    {
     "data": {
      "text/plain": [
       "0.0036"
      ]
     },
     "execution_count": 93,
     "metadata": {},
     "output_type": "execute_result"
    }
   ],
   "source": [
    "df[\"mass\"].min()"
   ]
  },
  {
   "cell_type": "code",
   "execution_count": 94,
   "id": "8d497260",
   "metadata": {
    "execution": {
     "iopub.execute_input": "2023-07-28T14:49:56.543331Z",
     "iopub.status.busy": "2023-07-28T14:49:56.542377Z",
     "iopub.status.idle": "2023-07-28T14:49:56.571764Z",
     "shell.execute_reply": "2023-07-28T14:49:56.570749Z"
    },
    "papermill": {
     "duration": 0.075678,
     "end_time": "2023-07-28T14:49:56.573875",
     "exception": false,
     "start_time": "2023-07-28T14:49:56.498197",
     "status": "completed"
    },
    "tags": []
   },
   "outputs": [
    {
     "data": {
      "text/html": [
       "<div>\n",
       "<style scoped>\n",
       "    .dataframe tbody tr th:only-of-type {\n",
       "        vertical-align: middle;\n",
       "    }\n",
       "\n",
       "    .dataframe tbody tr th {\n",
       "        vertical-align: top;\n",
       "    }\n",
       "\n",
       "    .dataframe thead th {\n",
       "        text-align: right;\n",
       "    }\n",
       "</style>\n",
       "<table border=\"1\" class=\"dataframe\">\n",
       "  <thead>\n",
       "    <tr style=\"text-align: right;\">\n",
       "      <th></th>\n",
       "      <th>count</th>\n",
       "      <th>mean</th>\n",
       "      <th>std</th>\n",
       "      <th>min</th>\n",
       "      <th>25%</th>\n",
       "      <th>50%</th>\n",
       "      <th>75%</th>\n",
       "      <th>max</th>\n",
       "    </tr>\n",
       "  </thead>\n",
       "  <tbody>\n",
       "    <tr>\n",
       "      <th>number</th>\n",
       "      <td>1035.0</td>\n",
       "      <td>1.785507</td>\n",
       "      <td>1.240976</td>\n",
       "      <td>1.000000</td>\n",
       "      <td>1.00000</td>\n",
       "      <td>1.0000</td>\n",
       "      <td>2.000</td>\n",
       "      <td>7.0</td>\n",
       "    </tr>\n",
       "    <tr>\n",
       "      <th>orbital_period</th>\n",
       "      <td>992.0</td>\n",
       "      <td>2002.917596</td>\n",
       "      <td>26014.728304</td>\n",
       "      <td>0.090706</td>\n",
       "      <td>5.44254</td>\n",
       "      <td>39.9795</td>\n",
       "      <td>526.005</td>\n",
       "      <td>730000.0</td>\n",
       "    </tr>\n",
       "    <tr>\n",
       "      <th>mass</th>\n",
       "      <td>513.0</td>\n",
       "      <td>2.638161</td>\n",
       "      <td>3.818617</td>\n",
       "      <td>0.003600</td>\n",
       "      <td>0.22900</td>\n",
       "      <td>1.2600</td>\n",
       "      <td>3.040</td>\n",
       "      <td>25.0</td>\n",
       "    </tr>\n",
       "    <tr>\n",
       "      <th>distance</th>\n",
       "      <td>808.0</td>\n",
       "      <td>264.069282</td>\n",
       "      <td>733.116493</td>\n",
       "      <td>1.350000</td>\n",
       "      <td>32.56000</td>\n",
       "      <td>55.2500</td>\n",
       "      <td>178.500</td>\n",
       "      <td>8500.0</td>\n",
       "    </tr>\n",
       "    <tr>\n",
       "      <th>year</th>\n",
       "      <td>1035.0</td>\n",
       "      <td>2009.070531</td>\n",
       "      <td>3.972567</td>\n",
       "      <td>1989.000000</td>\n",
       "      <td>2007.00000</td>\n",
       "      <td>2010.0000</td>\n",
       "      <td>2012.000</td>\n",
       "      <td>2014.0</td>\n",
       "    </tr>\n",
       "  </tbody>\n",
       "</table>\n",
       "</div>"
      ],
      "text/plain": [
       "                 count         mean           std          min         25%  \\\n",
       "number          1035.0     1.785507      1.240976     1.000000     1.00000   \n",
       "orbital_period   992.0  2002.917596  26014.728304     0.090706     5.44254   \n",
       "mass             513.0     2.638161      3.818617     0.003600     0.22900   \n",
       "distance         808.0   264.069282    733.116493     1.350000    32.56000   \n",
       "year            1035.0  2009.070531      3.972567  1989.000000  2007.00000   \n",
       "\n",
       "                      50%       75%       max  \n",
       "number             1.0000     2.000       7.0  \n",
       "orbital_period    39.9795   526.005  730000.0  \n",
       "mass               1.2600     3.040      25.0  \n",
       "distance          55.2500   178.500    8500.0  \n",
       "year            2010.0000  2012.000    2014.0  "
      ]
     },
     "execution_count": 94,
     "metadata": {},
     "output_type": "execute_result"
    }
   ],
   "source": [
    "df.describe().T"
   ]
  },
  {
   "cell_type": "code",
   "execution_count": 95,
   "id": "cba39734",
   "metadata": {
    "execution": {
     "iopub.execute_input": "2023-07-28T14:49:56.667010Z",
     "iopub.status.busy": "2023-07-28T14:49:56.666645Z",
     "iopub.status.idle": "2023-07-28T14:49:56.694917Z",
     "shell.execute_reply": "2023-07-28T14:49:56.694015Z"
    },
    "papermill": {
     "duration": 0.077763,
     "end_time": "2023-07-28T14:49:56.696959",
     "exception": false,
     "start_time": "2023-07-28T14:49:56.619196",
     "status": "completed"
    },
    "tags": []
   },
   "outputs": [
    {
     "data": {
      "text/html": [
       "<div>\n",
       "<style scoped>\n",
       "    .dataframe tbody tr th:only-of-type {\n",
       "        vertical-align: middle;\n",
       "    }\n",
       "\n",
       "    .dataframe tbody tr th {\n",
       "        vertical-align: top;\n",
       "    }\n",
       "\n",
       "    .dataframe thead th {\n",
       "        text-align: right;\n",
       "    }\n",
       "</style>\n",
       "<table border=\"1\" class=\"dataframe\">\n",
       "  <thead>\n",
       "    <tr style=\"text-align: right;\">\n",
       "      <th></th>\n",
       "      <th>count</th>\n",
       "      <th>mean</th>\n",
       "      <th>std</th>\n",
       "      <th>min</th>\n",
       "      <th>25%</th>\n",
       "      <th>50%</th>\n",
       "      <th>75%</th>\n",
       "      <th>max</th>\n",
       "    </tr>\n",
       "  </thead>\n",
       "  <tbody>\n",
       "    <tr>\n",
       "      <th>number</th>\n",
       "      <td>498.0</td>\n",
       "      <td>1.734940</td>\n",
       "      <td>1.175720</td>\n",
       "      <td>1.0000</td>\n",
       "      <td>1.00000</td>\n",
       "      <td>1.000</td>\n",
       "      <td>2.0000</td>\n",
       "      <td>6.0</td>\n",
       "    </tr>\n",
       "    <tr>\n",
       "      <th>orbital_period</th>\n",
       "      <td>498.0</td>\n",
       "      <td>835.778671</td>\n",
       "      <td>1469.128259</td>\n",
       "      <td>1.3283</td>\n",
       "      <td>38.27225</td>\n",
       "      <td>357.000</td>\n",
       "      <td>999.6000</td>\n",
       "      <td>17337.5</td>\n",
       "    </tr>\n",
       "    <tr>\n",
       "      <th>mass</th>\n",
       "      <td>498.0</td>\n",
       "      <td>2.509320</td>\n",
       "      <td>3.636274</td>\n",
       "      <td>0.0036</td>\n",
       "      <td>0.21250</td>\n",
       "      <td>1.245</td>\n",
       "      <td>2.8675</td>\n",
       "      <td>25.0</td>\n",
       "    </tr>\n",
       "    <tr>\n",
       "      <th>distance</th>\n",
       "      <td>498.0</td>\n",
       "      <td>52.068213</td>\n",
       "      <td>46.596041</td>\n",
       "      <td>1.3500</td>\n",
       "      <td>24.49750</td>\n",
       "      <td>39.940</td>\n",
       "      <td>59.3325</td>\n",
       "      <td>354.0</td>\n",
       "    </tr>\n",
       "    <tr>\n",
       "      <th>year</th>\n",
       "      <td>498.0</td>\n",
       "      <td>2007.377510</td>\n",
       "      <td>4.167284</td>\n",
       "      <td>1989.0000</td>\n",
       "      <td>2005.00000</td>\n",
       "      <td>2009.000</td>\n",
       "      <td>2011.0000</td>\n",
       "      <td>2014.0</td>\n",
       "    </tr>\n",
       "  </tbody>\n",
       "</table>\n",
       "</div>"
      ],
      "text/plain": [
       "                count         mean          std        min         25%  \\\n",
       "number          498.0     1.734940     1.175720     1.0000     1.00000   \n",
       "orbital_period  498.0   835.778671  1469.128259     1.3283    38.27225   \n",
       "mass            498.0     2.509320     3.636274     0.0036     0.21250   \n",
       "distance        498.0    52.068213    46.596041     1.3500    24.49750   \n",
       "year            498.0  2007.377510     4.167284  1989.0000  2005.00000   \n",
       "\n",
       "                     50%        75%      max  \n",
       "number             1.000     2.0000      6.0  \n",
       "orbital_period   357.000   999.6000  17337.5  \n",
       "mass               1.245     2.8675     25.0  \n",
       "distance          39.940    59.3325    354.0  \n",
       "year            2009.000  2011.0000   2014.0  "
      ]
     },
     "execution_count": 95,
     "metadata": {},
     "output_type": "execute_result"
    }
   ],
   "source": [
    "df.dropna().describe().T  # for nan val"
   ]
  },
  {
   "cell_type": "code",
   "execution_count": 96,
   "id": "0ae672bd",
   "metadata": {
    "execution": {
     "iopub.execute_input": "2023-07-28T14:49:56.785780Z",
     "iopub.status.busy": "2023-07-28T14:49:56.785446Z",
     "iopub.status.idle": "2023-07-28T14:49:56.789769Z",
     "shell.execute_reply": "2023-07-28T14:49:56.788797Z"
    },
    "papermill": {
     "duration": 0.050459,
     "end_time": "2023-07-28T14:49:56.791702",
     "exception": false,
     "start_time": "2023-07-28T14:49:56.741243",
     "status": "completed"
    },
    "tags": []
   },
   "outputs": [],
   "source": [
    "import pandas as pd"
   ]
  },
  {
   "cell_type": "code",
   "execution_count": 97,
   "id": "90240efa",
   "metadata": {
    "execution": {
     "iopub.execute_input": "2023-07-28T14:49:56.881764Z",
     "iopub.status.busy": "2023-07-28T14:49:56.880024Z",
     "iopub.status.idle": "2023-07-28T14:49:56.887384Z",
     "shell.execute_reply": "2023-07-28T14:49:56.886470Z"
    },
    "papermill": {
     "duration": 0.054496,
     "end_time": "2023-07-28T14:49:56.889453",
     "exception": false,
     "start_time": "2023-07-28T14:49:56.834957",
     "status": "completed"
    },
    "tags": []
   },
   "outputs": [],
   "source": [
    "df = pd.DataFrame({\"groups\" : [\"A\", \"B\", \"C\", \"B\", \"A\"],\n",
    "                  \"data\" : [3, 24, 45, 12, 0]},\n",
    "                  columns = [\"groups\", \"data\"]\n",
    "                  )"
   ]
  },
  {
   "cell_type": "code",
   "execution_count": 98,
   "id": "eedf0d44",
   "metadata": {
    "execution": {
     "iopub.execute_input": "2023-07-28T14:49:56.978728Z",
     "iopub.status.busy": "2023-07-28T14:49:56.977741Z",
     "iopub.status.idle": "2023-07-28T14:49:56.987075Z",
     "shell.execute_reply": "2023-07-28T14:49:56.986109Z"
    },
    "papermill": {
     "duration": 0.055905,
     "end_time": "2023-07-28T14:49:56.989123",
     "exception": false,
     "start_time": "2023-07-28T14:49:56.933218",
     "status": "completed"
    },
    "tags": []
   },
   "outputs": [
    {
     "data": {
      "text/html": [
       "<div>\n",
       "<style scoped>\n",
       "    .dataframe tbody tr th:only-of-type {\n",
       "        vertical-align: middle;\n",
       "    }\n",
       "\n",
       "    .dataframe tbody tr th {\n",
       "        vertical-align: top;\n",
       "    }\n",
       "\n",
       "    .dataframe thead th {\n",
       "        text-align: right;\n",
       "    }\n",
       "</style>\n",
       "<table border=\"1\" class=\"dataframe\">\n",
       "  <thead>\n",
       "    <tr style=\"text-align: right;\">\n",
       "      <th></th>\n",
       "      <th>groups</th>\n",
       "      <th>data</th>\n",
       "    </tr>\n",
       "  </thead>\n",
       "  <tbody>\n",
       "    <tr>\n",
       "      <th>0</th>\n",
       "      <td>A</td>\n",
       "      <td>3</td>\n",
       "    </tr>\n",
       "    <tr>\n",
       "      <th>1</th>\n",
       "      <td>B</td>\n",
       "      <td>24</td>\n",
       "    </tr>\n",
       "    <tr>\n",
       "      <th>2</th>\n",
       "      <td>C</td>\n",
       "      <td>45</td>\n",
       "    </tr>\n",
       "    <tr>\n",
       "      <th>3</th>\n",
       "      <td>B</td>\n",
       "      <td>12</td>\n",
       "    </tr>\n",
       "    <tr>\n",
       "      <th>4</th>\n",
       "      <td>A</td>\n",
       "      <td>0</td>\n",
       "    </tr>\n",
       "  </tbody>\n",
       "</table>\n",
       "</div>"
      ],
      "text/plain": [
       "  groups  data\n",
       "0      A     3\n",
       "1      B    24\n",
       "2      C    45\n",
       "3      B    12\n",
       "4      A     0"
      ]
     },
     "execution_count": 98,
     "metadata": {},
     "output_type": "execute_result"
    }
   ],
   "source": [
    "df"
   ]
  },
  {
   "cell_type": "code",
   "execution_count": 99,
   "id": "be26957f",
   "metadata": {
    "execution": {
     "iopub.execute_input": "2023-07-28T14:49:57.078756Z",
     "iopub.status.busy": "2023-07-28T14:49:57.078399Z",
     "iopub.status.idle": "2023-07-28T14:49:57.094992Z",
     "shell.execute_reply": "2023-07-28T14:49:57.093923Z"
    },
    "papermill": {
     "duration": 0.063273,
     "end_time": "2023-07-28T14:49:57.097298",
     "exception": false,
     "start_time": "2023-07-28T14:49:57.034025",
     "status": "completed"
    },
    "tags": []
   },
   "outputs": [
    {
     "data": {
      "text/html": [
       "<div>\n",
       "<style scoped>\n",
       "    .dataframe tbody tr th:only-of-type {\n",
       "        vertical-align: middle;\n",
       "    }\n",
       "\n",
       "    .dataframe tbody tr th {\n",
       "        vertical-align: top;\n",
       "    }\n",
       "\n",
       "    .dataframe thead th {\n",
       "        text-align: right;\n",
       "    }\n",
       "</style>\n",
       "<table border=\"1\" class=\"dataframe\">\n",
       "  <thead>\n",
       "    <tr style=\"text-align: right;\">\n",
       "      <th></th>\n",
       "      <th>count</th>\n",
       "      <th>mean</th>\n",
       "      <th>std</th>\n",
       "      <th>min</th>\n",
       "      <th>25%</th>\n",
       "      <th>50%</th>\n",
       "      <th>75%</th>\n",
       "      <th>max</th>\n",
       "    </tr>\n",
       "  </thead>\n",
       "  <tbody>\n",
       "    <tr>\n",
       "      <th>data</th>\n",
       "      <td>5.0</td>\n",
       "      <td>16.8</td>\n",
       "      <td>18.322118</td>\n",
       "      <td>0.0</td>\n",
       "      <td>3.0</td>\n",
       "      <td>12.0</td>\n",
       "      <td>24.0</td>\n",
       "      <td>45.0</td>\n",
       "    </tr>\n",
       "  </tbody>\n",
       "</table>\n",
       "</div>"
      ],
      "text/plain": [
       "      count  mean        std  min  25%   50%   75%   max\n",
       "data    5.0  16.8  18.322118  0.0  3.0  12.0  24.0  45.0"
      ]
     },
     "execution_count": 99,
     "metadata": {},
     "output_type": "execute_result"
    }
   ],
   "source": [
    "df.describe().T"
   ]
  },
  {
   "cell_type": "code",
   "execution_count": 100,
   "id": "7e6b23d9",
   "metadata": {
    "execution": {
     "iopub.execute_input": "2023-07-28T14:49:57.190882Z",
     "iopub.status.busy": "2023-07-28T14:49:57.189872Z",
     "iopub.status.idle": "2023-07-28T14:49:57.197153Z",
     "shell.execute_reply": "2023-07-28T14:49:57.196188Z"
    },
    "papermill": {
     "duration": 0.054732,
     "end_time": "2023-07-28T14:49:57.199185",
     "exception": false,
     "start_time": "2023-07-28T14:49:57.144453",
     "status": "completed"
    },
    "tags": []
   },
   "outputs": [
    {
     "data": {
      "text/plain": [
       "<pandas.core.groupby.generic.DataFrameGroupBy object at 0x7a512e963f70>"
      ]
     },
     "execution_count": 100,
     "metadata": {},
     "output_type": "execute_result"
    }
   ],
   "source": [
    "df.groupby(\"groups\")"
   ]
  },
  {
   "cell_type": "code",
   "execution_count": 101,
   "id": "86218f11",
   "metadata": {
    "execution": {
     "iopub.execute_input": "2023-07-28T14:49:57.288297Z",
     "iopub.status.busy": "2023-07-28T14:49:57.287997Z",
     "iopub.status.idle": "2023-07-28T14:49:57.292456Z",
     "shell.execute_reply": "2023-07-28T14:49:57.291483Z"
    },
    "papermill": {
     "duration": 0.051668,
     "end_time": "2023-07-28T14:49:57.294399",
     "exception": false,
     "start_time": "2023-07-28T14:49:57.242731",
     "status": "completed"
    },
    "tags": []
   },
   "outputs": [],
   "source": [
    "x = df.groupby(\"groups\")"
   ]
  },
  {
   "cell_type": "code",
   "execution_count": 102,
   "id": "63644774",
   "metadata": {
    "execution": {
     "iopub.execute_input": "2023-07-28T14:49:57.385405Z",
     "iopub.status.busy": "2023-07-28T14:49:57.385023Z",
     "iopub.status.idle": "2023-07-28T14:49:57.397368Z",
     "shell.execute_reply": "2023-07-28T14:49:57.396424Z"
    },
    "papermill": {
     "duration": 0.060132,
     "end_time": "2023-07-28T14:49:57.399467",
     "exception": false,
     "start_time": "2023-07-28T14:49:57.339335",
     "status": "completed"
    },
    "tags": []
   },
   "outputs": [
    {
     "data": {
      "text/html": [
       "<div>\n",
       "<style scoped>\n",
       "    .dataframe tbody tr th:only-of-type {\n",
       "        vertical-align: middle;\n",
       "    }\n",
       "\n",
       "    .dataframe tbody tr th {\n",
       "        vertical-align: top;\n",
       "    }\n",
       "\n",
       "    .dataframe thead th {\n",
       "        text-align: right;\n",
       "    }\n",
       "</style>\n",
       "<table border=\"1\" class=\"dataframe\">\n",
       "  <thead>\n",
       "    <tr style=\"text-align: right;\">\n",
       "      <th></th>\n",
       "      <th>data</th>\n",
       "    </tr>\n",
       "    <tr>\n",
       "      <th>groups</th>\n",
       "      <th></th>\n",
       "    </tr>\n",
       "  </thead>\n",
       "  <tbody>\n",
       "    <tr>\n",
       "      <th>A</th>\n",
       "      <td>1.5</td>\n",
       "    </tr>\n",
       "    <tr>\n",
       "      <th>B</th>\n",
       "      <td>18.0</td>\n",
       "    </tr>\n",
       "    <tr>\n",
       "      <th>C</th>\n",
       "      <td>45.0</td>\n",
       "    </tr>\n",
       "  </tbody>\n",
       "</table>\n",
       "</div>"
      ],
      "text/plain": [
       "        data\n",
       "groups      \n",
       "A        1.5\n",
       "B       18.0\n",
       "C       45.0"
      ]
     },
     "execution_count": 102,
     "metadata": {},
     "output_type": "execute_result"
    }
   ],
   "source": [
    "x.mean()  #  24 + 12 / 2 = 18  [B]"
   ]
  },
  {
   "cell_type": "code",
   "execution_count": 103,
   "id": "9a042dff",
   "metadata": {
    "execution": {
     "iopub.execute_input": "2023-07-28T14:49:57.495181Z",
     "iopub.status.busy": "2023-07-28T14:49:57.494888Z",
     "iopub.status.idle": "2023-07-28T14:49:57.504256Z",
     "shell.execute_reply": "2023-07-28T14:49:57.503400Z"
    },
    "papermill": {
     "duration": 0.058339,
     "end_time": "2023-07-28T14:49:57.506232",
     "exception": false,
     "start_time": "2023-07-28T14:49:57.447893",
     "status": "completed"
    },
    "tags": []
   },
   "outputs": [
    {
     "data": {
      "text/html": [
       "<div>\n",
       "<style scoped>\n",
       "    .dataframe tbody tr th:only-of-type {\n",
       "        vertical-align: middle;\n",
       "    }\n",
       "\n",
       "    .dataframe tbody tr th {\n",
       "        vertical-align: top;\n",
       "    }\n",
       "\n",
       "    .dataframe thead th {\n",
       "        text-align: right;\n",
       "    }\n",
       "</style>\n",
       "<table border=\"1\" class=\"dataframe\">\n",
       "  <thead>\n",
       "    <tr style=\"text-align: right;\">\n",
       "      <th></th>\n",
       "      <th>data</th>\n",
       "    </tr>\n",
       "    <tr>\n",
       "      <th>groups</th>\n",
       "      <th></th>\n",
       "    </tr>\n",
       "  </thead>\n",
       "  <tbody>\n",
       "    <tr>\n",
       "      <th>A</th>\n",
       "      <td>3</td>\n",
       "    </tr>\n",
       "    <tr>\n",
       "      <th>B</th>\n",
       "      <td>36</td>\n",
       "    </tr>\n",
       "    <tr>\n",
       "      <th>C</th>\n",
       "      <td>45</td>\n",
       "    </tr>\n",
       "  </tbody>\n",
       "</table>\n",
       "</div>"
      ],
      "text/plain": [
       "        data\n",
       "groups      \n",
       "A          3\n",
       "B         36\n",
       "C         45"
      ]
     },
     "execution_count": 103,
     "metadata": {},
     "output_type": "execute_result"
    }
   ],
   "source": [
    "x.sum()"
   ]
  },
  {
   "cell_type": "code",
   "execution_count": 104,
   "id": "3c30730b",
   "metadata": {
    "execution": {
     "iopub.execute_input": "2023-07-28T14:49:57.670743Z",
     "iopub.status.busy": "2023-07-28T14:49:57.670311Z",
     "iopub.status.idle": "2023-07-28T14:49:57.691335Z",
     "shell.execute_reply": "2023-07-28T14:49:57.690325Z"
    },
    "papermill": {
     "duration": 0.098726,
     "end_time": "2023-07-28T14:49:57.694417",
     "exception": false,
     "start_time": "2023-07-28T14:49:57.595691",
     "status": "completed"
    },
    "tags": []
   },
   "outputs": [
    {
     "data": {
      "text/html": [
       "<div>\n",
       "<style scoped>\n",
       "    .dataframe tbody tr th:only-of-type {\n",
       "        vertical-align: middle;\n",
       "    }\n",
       "\n",
       "    .dataframe tbody tr th {\n",
       "        vertical-align: top;\n",
       "    }\n",
       "\n",
       "    .dataframe thead th {\n",
       "        text-align: right;\n",
       "    }\n",
       "</style>\n",
       "<table border=\"1\" class=\"dataframe\">\n",
       "  <thead>\n",
       "    <tr style=\"text-align: right;\">\n",
       "      <th></th>\n",
       "      <th>method</th>\n",
       "      <th>number</th>\n",
       "      <th>orbital_period</th>\n",
       "      <th>mass</th>\n",
       "      <th>distance</th>\n",
       "      <th>year</th>\n",
       "    </tr>\n",
       "  </thead>\n",
       "  <tbody>\n",
       "    <tr>\n",
       "      <th>0</th>\n",
       "      <td>Radial Velocity</td>\n",
       "      <td>1</td>\n",
       "      <td>269.300</td>\n",
       "      <td>7.10</td>\n",
       "      <td>77.40</td>\n",
       "      <td>2006</td>\n",
       "    </tr>\n",
       "    <tr>\n",
       "      <th>1</th>\n",
       "      <td>Radial Velocity</td>\n",
       "      <td>1</td>\n",
       "      <td>874.774</td>\n",
       "      <td>2.21</td>\n",
       "      <td>56.95</td>\n",
       "      <td>2008</td>\n",
       "    </tr>\n",
       "    <tr>\n",
       "      <th>2</th>\n",
       "      <td>Radial Velocity</td>\n",
       "      <td>1</td>\n",
       "      <td>763.000</td>\n",
       "      <td>2.60</td>\n",
       "      <td>19.84</td>\n",
       "      <td>2011</td>\n",
       "    </tr>\n",
       "    <tr>\n",
       "      <th>3</th>\n",
       "      <td>Radial Velocity</td>\n",
       "      <td>1</td>\n",
       "      <td>326.030</td>\n",
       "      <td>19.40</td>\n",
       "      <td>110.62</td>\n",
       "      <td>2007</td>\n",
       "    </tr>\n",
       "    <tr>\n",
       "      <th>4</th>\n",
       "      <td>Radial Velocity</td>\n",
       "      <td>1</td>\n",
       "      <td>516.220</td>\n",
       "      <td>10.50</td>\n",
       "      <td>119.47</td>\n",
       "      <td>2009</td>\n",
       "    </tr>\n",
       "  </tbody>\n",
       "</table>\n",
       "</div>"
      ],
      "text/plain": [
       "            method  number  orbital_period   mass  distance  year\n",
       "0  Radial Velocity       1         269.300   7.10     77.40  2006\n",
       "1  Radial Velocity       1         874.774   2.21     56.95  2008\n",
       "2  Radial Velocity       1         763.000   2.60     19.84  2011\n",
       "3  Radial Velocity       1         326.030  19.40    110.62  2007\n",
       "4  Radial Velocity       1         516.220  10.50    119.47  2009"
      ]
     },
     "execution_count": 104,
     "metadata": {},
     "output_type": "execute_result"
    }
   ],
   "source": [
    "df = sns.load_dataset(\"planets\")\n",
    "df.head()"
   ]
  },
  {
   "cell_type": "code",
   "execution_count": 105,
   "id": "18289727",
   "metadata": {
    "execution": {
     "iopub.execute_input": "2023-07-28T14:49:57.827709Z",
     "iopub.status.busy": "2023-07-28T14:49:57.827158Z",
     "iopub.status.idle": "2023-07-28T14:49:57.836399Z",
     "shell.execute_reply": "2023-07-28T14:49:57.835572Z"
    },
    "papermill": {
     "duration": 0.078359,
     "end_time": "2023-07-28T14:49:57.839797",
     "exception": false,
     "start_time": "2023-07-28T14:49:57.761438",
     "status": "completed"
    },
    "tags": []
   },
   "outputs": [
    {
     "data": {
      "text/plain": [
       "<pandas.core.groupby.generic.DataFrameGroupBy object at 0x7a5122fda9e0>"
      ]
     },
     "execution_count": 105,
     "metadata": {},
     "output_type": "execute_result"
    }
   ],
   "source": [
    "df.groupby(\"method\")"
   ]
  },
  {
   "cell_type": "code",
   "execution_count": 106,
   "id": "3795f4dc",
   "metadata": {
    "execution": {
     "iopub.execute_input": "2023-07-28T14:49:57.966788Z",
     "iopub.status.busy": "2023-07-28T14:49:57.966392Z",
     "iopub.status.idle": "2023-07-28T14:49:57.979126Z",
     "shell.execute_reply": "2023-07-28T14:49:57.978239Z"
    },
    "papermill": {
     "duration": 0.078406,
     "end_time": "2023-07-28T14:49:57.981648",
     "exception": false,
     "start_time": "2023-07-28T14:49:57.903242",
     "status": "completed"
    },
    "tags": []
   },
   "outputs": [
    {
     "data": {
      "text/plain": [
       "method\n",
       "Astrometry                          631.180000\n",
       "Eclipse Timing Variations          4751.644444\n",
       "Imaging                          118247.737500\n",
       "Microlensing                       3153.571429\n",
       "Orbital Brightness Modulation         0.709307\n",
       "Pulsar Timing                      7343.021201\n",
       "Pulsation Timing Variations        1170.000000\n",
       "Radial Velocity                     823.354680\n",
       "Transit                              21.102073\n",
       "Transit Timing Variations            79.783500\n",
       "Name: orbital_period, dtype: float64"
      ]
     },
     "execution_count": 106,
     "metadata": {},
     "output_type": "execute_result"
    }
   ],
   "source": [
    "df.groupby(\"method\")[\"orbital_period\"].mean()"
   ]
  },
  {
   "cell_type": "code",
   "execution_count": 107,
   "id": "7a4a6c42",
   "metadata": {
    "execution": {
     "iopub.execute_input": "2023-07-28T14:49:58.112724Z",
     "iopub.status.busy": "2023-07-28T14:49:58.112280Z",
     "iopub.status.idle": "2023-07-28T14:49:58.170284Z",
     "shell.execute_reply": "2023-07-28T14:49:58.169344Z"
    },
    "papermill": {
     "duration": 0.124957,
     "end_time": "2023-07-28T14:49:58.172511",
     "exception": false,
     "start_time": "2023-07-28T14:49:58.047554",
     "status": "completed"
    },
    "tags": []
   },
   "outputs": [
    {
     "data": {
      "text/html": [
       "<div>\n",
       "<style scoped>\n",
       "    .dataframe tbody tr th:only-of-type {\n",
       "        vertical-align: middle;\n",
       "    }\n",
       "\n",
       "    .dataframe tbody tr th {\n",
       "        vertical-align: top;\n",
       "    }\n",
       "\n",
       "    .dataframe thead th {\n",
       "        text-align: right;\n",
       "    }\n",
       "</style>\n",
       "<table border=\"1\" class=\"dataframe\">\n",
       "  <thead>\n",
       "    <tr style=\"text-align: right;\">\n",
       "      <th>method</th>\n",
       "      <th>Astrometry</th>\n",
       "      <th>Eclipse Timing Variations</th>\n",
       "      <th>Imaging</th>\n",
       "      <th>Microlensing</th>\n",
       "      <th>Orbital Brightness Modulation</th>\n",
       "      <th>Pulsar Timing</th>\n",
       "      <th>Pulsation Timing Variations</th>\n",
       "      <th>Radial Velocity</th>\n",
       "      <th>Transit</th>\n",
       "      <th>Transit Timing Variations</th>\n",
       "    </tr>\n",
       "  </thead>\n",
       "  <tbody>\n",
       "    <tr>\n",
       "      <th>count</th>\n",
       "      <td>2.000000</td>\n",
       "      <td>4.000000</td>\n",
       "      <td>32.000000</td>\n",
       "      <td>10.000000</td>\n",
       "      <td>2.0</td>\n",
       "      <td>1.0</td>\n",
       "      <td>0.0</td>\n",
       "      <td>530.000000</td>\n",
       "      <td>224.00000</td>\n",
       "      <td>3.000000</td>\n",
       "    </tr>\n",
       "    <tr>\n",
       "      <th>mean</th>\n",
       "      <td>17.875000</td>\n",
       "      <td>315.360000</td>\n",
       "      <td>67.715937</td>\n",
       "      <td>4144.000000</td>\n",
       "      <td>1180.0</td>\n",
       "      <td>1200.0</td>\n",
       "      <td>NaN</td>\n",
       "      <td>51.600208</td>\n",
       "      <td>599.29808</td>\n",
       "      <td>1104.333333</td>\n",
       "    </tr>\n",
       "    <tr>\n",
       "      <th>std</th>\n",
       "      <td>4.094148</td>\n",
       "      <td>213.203907</td>\n",
       "      <td>53.736817</td>\n",
       "      <td>2076.611556</td>\n",
       "      <td>0.0</td>\n",
       "      <td>NaN</td>\n",
       "      <td>NaN</td>\n",
       "      <td>45.559381</td>\n",
       "      <td>913.87699</td>\n",
       "      <td>915.819487</td>\n",
       "    </tr>\n",
       "    <tr>\n",
       "      <th>min</th>\n",
       "      <td>14.980000</td>\n",
       "      <td>130.720000</td>\n",
       "      <td>7.690000</td>\n",
       "      <td>1760.000000</td>\n",
       "      <td>1180.0</td>\n",
       "      <td>1200.0</td>\n",
       "      <td>NaN</td>\n",
       "      <td>1.350000</td>\n",
       "      <td>38.00000</td>\n",
       "      <td>339.000000</td>\n",
       "    </tr>\n",
       "    <tr>\n",
       "      <th>25%</th>\n",
       "      <td>16.427500</td>\n",
       "      <td>130.720000</td>\n",
       "      <td>22.145000</td>\n",
       "      <td>2627.500000</td>\n",
       "      <td>1180.0</td>\n",
       "      <td>1200.0</td>\n",
       "      <td>NaN</td>\n",
       "      <td>24.412500</td>\n",
       "      <td>200.00000</td>\n",
       "      <td>597.000000</td>\n",
       "    </tr>\n",
       "    <tr>\n",
       "      <th>50%</th>\n",
       "      <td>17.875000</td>\n",
       "      <td>315.360000</td>\n",
       "      <td>40.395000</td>\n",
       "      <td>3840.000000</td>\n",
       "      <td>1180.0</td>\n",
       "      <td>1200.0</td>\n",
       "      <td>NaN</td>\n",
       "      <td>40.445000</td>\n",
       "      <td>341.00000</td>\n",
       "      <td>855.000000</td>\n",
       "    </tr>\n",
       "    <tr>\n",
       "      <th>75%</th>\n",
       "      <td>19.322500</td>\n",
       "      <td>500.000000</td>\n",
       "      <td>132.697500</td>\n",
       "      <td>4747.500000</td>\n",
       "      <td>1180.0</td>\n",
       "      <td>1200.0</td>\n",
       "      <td>NaN</td>\n",
       "      <td>59.217500</td>\n",
       "      <td>650.00000</td>\n",
       "      <td>1487.000000</td>\n",
       "    </tr>\n",
       "    <tr>\n",
       "      <th>max</th>\n",
       "      <td>20.770000</td>\n",
       "      <td>500.000000</td>\n",
       "      <td>165.000000</td>\n",
       "      <td>7720.000000</td>\n",
       "      <td>1180.0</td>\n",
       "      <td>1200.0</td>\n",
       "      <td>NaN</td>\n",
       "      <td>354.000000</td>\n",
       "      <td>8500.00000</td>\n",
       "      <td>2119.000000</td>\n",
       "    </tr>\n",
       "  </tbody>\n",
       "</table>\n",
       "</div>"
      ],
      "text/plain": [
       "method  Astrometry  Eclipse Timing Variations     Imaging  Microlensing  \\\n",
       "count     2.000000                   4.000000   32.000000     10.000000   \n",
       "mean     17.875000                 315.360000   67.715937   4144.000000   \n",
       "std       4.094148                 213.203907   53.736817   2076.611556   \n",
       "min      14.980000                 130.720000    7.690000   1760.000000   \n",
       "25%      16.427500                 130.720000   22.145000   2627.500000   \n",
       "50%      17.875000                 315.360000   40.395000   3840.000000   \n",
       "75%      19.322500                 500.000000  132.697500   4747.500000   \n",
       "max      20.770000                 500.000000  165.000000   7720.000000   \n",
       "\n",
       "method  Orbital Brightness Modulation  Pulsar Timing  \\\n",
       "count                             2.0            1.0   \n",
       "mean                           1180.0         1200.0   \n",
       "std                               0.0            NaN   \n",
       "min                            1180.0         1200.0   \n",
       "25%                            1180.0         1200.0   \n",
       "50%                            1180.0         1200.0   \n",
       "75%                            1180.0         1200.0   \n",
       "max                            1180.0         1200.0   \n",
       "\n",
       "method  Pulsation Timing Variations  Radial Velocity     Transit  \\\n",
       "count                           0.0       530.000000   224.00000   \n",
       "mean                            NaN        51.600208   599.29808   \n",
       "std                             NaN        45.559381   913.87699   \n",
       "min                             NaN         1.350000    38.00000   \n",
       "25%                             NaN        24.412500   200.00000   \n",
       "50%                             NaN        40.445000   341.00000   \n",
       "75%                             NaN        59.217500   650.00000   \n",
       "max                             NaN       354.000000  8500.00000   \n",
       "\n",
       "method  Transit Timing Variations  \n",
       "count                    3.000000  \n",
       "mean                  1104.333333  \n",
       "std                    915.819487  \n",
       "min                    339.000000  \n",
       "25%                    597.000000  \n",
       "50%                    855.000000  \n",
       "75%                   1487.000000  \n",
       "max                   2119.000000  "
      ]
     },
     "execution_count": 107,
     "metadata": {},
     "output_type": "execute_result"
    }
   ],
   "source": [
    "df.groupby(\"method\")[\"distance\"].describe().T"
   ]
  },
  {
   "cell_type": "code",
   "execution_count": 108,
   "id": "fb9c321b",
   "metadata": {
    "execution": {
     "iopub.execute_input": "2023-07-28T14:49:58.314709Z",
     "iopub.status.busy": "2023-07-28T14:49:58.314243Z",
     "iopub.status.idle": "2023-07-28T14:49:58.323857Z",
     "shell.execute_reply": "2023-07-28T14:49:58.323000Z"
    },
    "papermill": {
     "duration": 0.079787,
     "end_time": "2023-07-28T14:49:58.326617",
     "exception": false,
     "start_time": "2023-07-28T14:49:58.246830",
     "status": "completed"
    },
    "tags": []
   },
   "outputs": [],
   "source": [
    "df = pd.DataFrame({\"groups\": [\"A\", \"B\", \"C\", \"B\", \"A\", \"C\"],\n",
    "                   \"var_1\" : [24, 67, 123, 8, 50, 30],\n",
    "                   \"var_2\" : [48, 34, 66, 28, 20, 100]                  \n",
    "                   },\n",
    "                  columns = [\"groups\", \"var_1\", \"var_2\"]                 \n",
    "                 )"
   ]
  },
  {
   "cell_type": "code",
   "execution_count": 109,
   "id": "92f8cbc6",
   "metadata": {
    "execution": {
     "iopub.execute_input": "2023-07-28T14:49:58.473057Z",
     "iopub.status.busy": "2023-07-28T14:49:58.472507Z",
     "iopub.status.idle": "2023-07-28T14:49:58.490801Z",
     "shell.execute_reply": "2023-07-28T14:49:58.489928Z"
    },
    "papermill": {
     "duration": 0.101537,
     "end_time": "2023-07-28T14:49:58.493335",
     "exception": false,
     "start_time": "2023-07-28T14:49:58.391798",
     "status": "completed"
    },
    "tags": []
   },
   "outputs": [
    {
     "data": {
      "text/html": [
       "<div>\n",
       "<style scoped>\n",
       "    .dataframe tbody tr th:only-of-type {\n",
       "        vertical-align: middle;\n",
       "    }\n",
       "\n",
       "    .dataframe tbody tr th {\n",
       "        vertical-align: top;\n",
       "    }\n",
       "\n",
       "    .dataframe thead th {\n",
       "        text-align: right;\n",
       "    }\n",
       "</style>\n",
       "<table border=\"1\" class=\"dataframe\">\n",
       "  <thead>\n",
       "    <tr style=\"text-align: right;\">\n",
       "      <th></th>\n",
       "      <th>groups</th>\n",
       "      <th>var_1</th>\n",
       "      <th>var_2</th>\n",
       "    </tr>\n",
       "  </thead>\n",
       "  <tbody>\n",
       "    <tr>\n",
       "      <th>0</th>\n",
       "      <td>A</td>\n",
       "      <td>24</td>\n",
       "      <td>48</td>\n",
       "    </tr>\n",
       "    <tr>\n",
       "      <th>1</th>\n",
       "      <td>B</td>\n",
       "      <td>67</td>\n",
       "      <td>34</td>\n",
       "    </tr>\n",
       "    <tr>\n",
       "      <th>2</th>\n",
       "      <td>C</td>\n",
       "      <td>123</td>\n",
       "      <td>66</td>\n",
       "    </tr>\n",
       "    <tr>\n",
       "      <th>3</th>\n",
       "      <td>B</td>\n",
       "      <td>8</td>\n",
       "      <td>28</td>\n",
       "    </tr>\n",
       "    <tr>\n",
       "      <th>4</th>\n",
       "      <td>A</td>\n",
       "      <td>50</td>\n",
       "      <td>20</td>\n",
       "    </tr>\n",
       "    <tr>\n",
       "      <th>5</th>\n",
       "      <td>C</td>\n",
       "      <td>30</td>\n",
       "      <td>100</td>\n",
       "    </tr>\n",
       "  </tbody>\n",
       "</table>\n",
       "</div>"
      ],
      "text/plain": [
       "  groups  var_1  var_2\n",
       "0      A     24     48\n",
       "1      B     67     34\n",
       "2      C    123     66\n",
       "3      B      8     28\n",
       "4      A     50     20\n",
       "5      C     30    100"
      ]
     },
     "execution_count": 109,
     "metadata": {},
     "output_type": "execute_result"
    }
   ],
   "source": [
    "df"
   ]
  },
  {
   "cell_type": "code",
   "execution_count": 110,
   "id": "a5c4e70c",
   "metadata": {
    "execution": {
     "iopub.execute_input": "2023-07-28T14:49:58.633326Z",
     "iopub.status.busy": "2023-07-28T14:49:58.632956Z",
     "iopub.status.idle": "2023-07-28T14:49:58.636962Z",
     "shell.execute_reply": "2023-07-28T14:49:58.636154Z"
    },
    "papermill": {
     "duration": 0.078561,
     "end_time": "2023-07-28T14:49:58.641203",
     "exception": false,
     "start_time": "2023-07-28T14:49:58.562642",
     "status": "completed"
    },
    "tags": []
   },
   "outputs": [],
   "source": [
    "# aggregate"
   ]
  },
  {
   "cell_type": "code",
   "execution_count": 111,
   "id": "ff84176b",
   "metadata": {
    "execution": {
     "iopub.execute_input": "2023-07-28T14:49:58.783685Z",
     "iopub.status.busy": "2023-07-28T14:49:58.783268Z",
     "iopub.status.idle": "2023-07-28T14:49:58.811821Z",
     "shell.execute_reply": "2023-07-28T14:49:58.811015Z"
    },
    "papermill": {
     "duration": 0.104475,
     "end_time": "2023-07-28T14:49:58.814260",
     "exception": false,
     "start_time": "2023-07-28T14:49:58.709785",
     "status": "completed"
    },
    "tags": []
   },
   "outputs": [
    {
     "data": {
      "text/html": [
       "<div>\n",
       "<style scoped>\n",
       "    .dataframe tbody tr th:only-of-type {\n",
       "        vertical-align: middle;\n",
       "    }\n",
       "\n",
       "    .dataframe tbody tr th {\n",
       "        vertical-align: top;\n",
       "    }\n",
       "\n",
       "    .dataframe thead tr th {\n",
       "        text-align: left;\n",
       "    }\n",
       "\n",
       "    .dataframe thead tr:last-of-type th {\n",
       "        text-align: right;\n",
       "    }\n",
       "</style>\n",
       "<table border=\"1\" class=\"dataframe\">\n",
       "  <thead>\n",
       "    <tr>\n",
       "      <th></th>\n",
       "      <th colspan=\"3\" halign=\"left\">var_1</th>\n",
       "      <th colspan=\"3\" halign=\"left\">var_2</th>\n",
       "    </tr>\n",
       "    <tr>\n",
       "      <th></th>\n",
       "      <th>min</th>\n",
       "      <th>median</th>\n",
       "      <th>max</th>\n",
       "      <th>min</th>\n",
       "      <th>median</th>\n",
       "      <th>max</th>\n",
       "    </tr>\n",
       "    <tr>\n",
       "      <th>groups</th>\n",
       "      <th></th>\n",
       "      <th></th>\n",
       "      <th></th>\n",
       "      <th></th>\n",
       "      <th></th>\n",
       "      <th></th>\n",
       "    </tr>\n",
       "  </thead>\n",
       "  <tbody>\n",
       "    <tr>\n",
       "      <th>A</th>\n",
       "      <td>24</td>\n",
       "      <td>37.0</td>\n",
       "      <td>50</td>\n",
       "      <td>20</td>\n",
       "      <td>34.0</td>\n",
       "      <td>48</td>\n",
       "    </tr>\n",
       "    <tr>\n",
       "      <th>B</th>\n",
       "      <td>8</td>\n",
       "      <td>37.5</td>\n",
       "      <td>67</td>\n",
       "      <td>28</td>\n",
       "      <td>31.0</td>\n",
       "      <td>34</td>\n",
       "    </tr>\n",
       "    <tr>\n",
       "      <th>C</th>\n",
       "      <td>30</td>\n",
       "      <td>76.5</td>\n",
       "      <td>123</td>\n",
       "      <td>66</td>\n",
       "      <td>83.0</td>\n",
       "      <td>100</td>\n",
       "    </tr>\n",
       "  </tbody>\n",
       "</table>\n",
       "</div>"
      ],
      "text/plain": [
       "       var_1             var_2            \n",
       "         min median  max   min median  max\n",
       "groups                                    \n",
       "A         24   37.0   50    20   34.0   48\n",
       "B          8   37.5   67    28   31.0   34\n",
       "C         30   76.5  123    66   83.0  100"
      ]
     },
     "execution_count": 111,
     "metadata": {},
     "output_type": "execute_result"
    }
   ],
   "source": [
    "df.groupby(\"groups\").aggregate([min, np.median, max])"
   ]
  },
  {
   "cell_type": "code",
   "execution_count": 112,
   "id": "11f4aa52",
   "metadata": {
    "execution": {
     "iopub.execute_input": "2023-07-28T14:49:58.956181Z",
     "iopub.status.busy": "2023-07-28T14:49:58.955770Z",
     "iopub.status.idle": "2023-07-28T14:49:58.972703Z",
     "shell.execute_reply": "2023-07-28T14:49:58.971901Z"
    },
    "papermill": {
     "duration": 0.091329,
     "end_time": "2023-07-28T14:49:58.975140",
     "exception": false,
     "start_time": "2023-07-28T14:49:58.883811",
     "status": "completed"
    },
    "tags": []
   },
   "outputs": [
    {
     "data": {
      "text/html": [
       "<div>\n",
       "<style scoped>\n",
       "    .dataframe tbody tr th:only-of-type {\n",
       "        vertical-align: middle;\n",
       "    }\n",
       "\n",
       "    .dataframe tbody tr th {\n",
       "        vertical-align: top;\n",
       "    }\n",
       "\n",
       "    .dataframe thead th {\n",
       "        text-align: right;\n",
       "    }\n",
       "</style>\n",
       "<table border=\"1\" class=\"dataframe\">\n",
       "  <thead>\n",
       "    <tr style=\"text-align: right;\">\n",
       "      <th></th>\n",
       "      <th>var_1</th>\n",
       "      <th>var_2</th>\n",
       "    </tr>\n",
       "    <tr>\n",
       "      <th>groups</th>\n",
       "      <th></th>\n",
       "      <th></th>\n",
       "    </tr>\n",
       "  </thead>\n",
       "  <tbody>\n",
       "    <tr>\n",
       "      <th>A</th>\n",
       "      <td>24</td>\n",
       "      <td>48</td>\n",
       "    </tr>\n",
       "    <tr>\n",
       "      <th>B</th>\n",
       "      <td>8</td>\n",
       "      <td>34</td>\n",
       "    </tr>\n",
       "    <tr>\n",
       "      <th>C</th>\n",
       "      <td>30</td>\n",
       "      <td>100</td>\n",
       "    </tr>\n",
       "  </tbody>\n",
       "</table>\n",
       "</div>"
      ],
      "text/plain": [
       "        var_1  var_2\n",
       "groups              \n",
       "A          24     48\n",
       "B           8     34\n",
       "C          30    100"
      ]
     },
     "execution_count": 112,
     "metadata": {},
     "output_type": "execute_result"
    }
   ],
   "source": [
    "df.groupby(\"groups\").aggregate({\"var_1\": \"min\", \"var_2\":\"max\"})"
   ]
  },
  {
   "cell_type": "code",
   "execution_count": 113,
   "id": "22c3f626",
   "metadata": {
    "execution": {
     "iopub.execute_input": "2023-07-28T14:49:59.081180Z",
     "iopub.status.busy": "2023-07-28T14:49:59.080856Z",
     "iopub.status.idle": "2023-07-28T14:49:59.090008Z",
     "shell.execute_reply": "2023-07-28T14:49:59.089088Z"
    },
    "papermill": {
     "duration": 0.058304,
     "end_time": "2023-07-28T14:49:59.092117",
     "exception": false,
     "start_time": "2023-07-28T14:49:59.033813",
     "status": "completed"
    },
    "tags": []
   },
   "outputs": [
    {
     "data": {
      "text/html": [
       "<div>\n",
       "<style scoped>\n",
       "    .dataframe tbody tr th:only-of-type {\n",
       "        vertical-align: middle;\n",
       "    }\n",
       "\n",
       "    .dataframe tbody tr th {\n",
       "        vertical-align: top;\n",
       "    }\n",
       "\n",
       "    .dataframe thead th {\n",
       "        text-align: right;\n",
       "    }\n",
       "</style>\n",
       "<table border=\"1\" class=\"dataframe\">\n",
       "  <thead>\n",
       "    <tr style=\"text-align: right;\">\n",
       "      <th></th>\n",
       "      <th>groups</th>\n",
       "      <th>var_1</th>\n",
       "      <th>var_2</th>\n",
       "    </tr>\n",
       "  </thead>\n",
       "  <tbody>\n",
       "    <tr>\n",
       "      <th>0</th>\n",
       "      <td>A</td>\n",
       "      <td>24</td>\n",
       "      <td>48</td>\n",
       "    </tr>\n",
       "    <tr>\n",
       "      <th>1</th>\n",
       "      <td>B</td>\n",
       "      <td>67</td>\n",
       "      <td>34</td>\n",
       "    </tr>\n",
       "    <tr>\n",
       "      <th>2</th>\n",
       "      <td>C</td>\n",
       "      <td>123</td>\n",
       "      <td>66</td>\n",
       "    </tr>\n",
       "    <tr>\n",
       "      <th>3</th>\n",
       "      <td>B</td>\n",
       "      <td>8</td>\n",
       "      <td>28</td>\n",
       "    </tr>\n",
       "    <tr>\n",
       "      <th>4</th>\n",
       "      <td>A</td>\n",
       "      <td>50</td>\n",
       "      <td>20</td>\n",
       "    </tr>\n",
       "    <tr>\n",
       "      <th>5</th>\n",
       "      <td>C</td>\n",
       "      <td>30</td>\n",
       "      <td>100</td>\n",
       "    </tr>\n",
       "  </tbody>\n",
       "</table>\n",
       "</div>"
      ],
      "text/plain": [
       "  groups  var_1  var_2\n",
       "0      A     24     48\n",
       "1      B     67     34\n",
       "2      C    123     66\n",
       "3      B      8     28\n",
       "4      A     50     20\n",
       "5      C     30    100"
      ]
     },
     "execution_count": 113,
     "metadata": {},
     "output_type": "execute_result"
    }
   ],
   "source": [
    "df"
   ]
  },
  {
   "cell_type": "code",
   "execution_count": 114,
   "id": "58c09b05",
   "metadata": {
    "execution": {
     "iopub.execute_input": "2023-07-28T14:49:59.187357Z",
     "iopub.status.busy": "2023-07-28T14:49:59.186379Z",
     "iopub.status.idle": "2023-07-28T14:49:59.190892Z",
     "shell.execute_reply": "2023-07-28T14:49:59.189858Z"
    },
    "papermill": {
     "duration": 0.053448,
     "end_time": "2023-07-28T14:49:59.192846",
     "exception": false,
     "start_time": "2023-07-28T14:49:59.139398",
     "status": "completed"
    },
    "tags": []
   },
   "outputs": [],
   "source": [
    "# filter"
   ]
  },
  {
   "cell_type": "code",
   "execution_count": 115,
   "id": "bdc2f8f1",
   "metadata": {
    "execution": {
     "iopub.execute_input": "2023-07-28T14:49:59.286813Z",
     "iopub.status.busy": "2023-07-28T14:49:59.286460Z",
     "iopub.status.idle": "2023-07-28T14:49:59.291115Z",
     "shell.execute_reply": "2023-07-28T14:49:59.290173Z"
    },
    "papermill": {
     "duration": 0.053732,
     "end_time": "2023-07-28T14:49:59.293093",
     "exception": false,
     "start_time": "2023-07-28T14:49:59.239361",
     "status": "completed"
    },
    "tags": []
   },
   "outputs": [],
   "source": [
    "def filter_func(x):\n",
    "    return x[\"var_1\"].std() < 20"
   ]
  },
  {
   "cell_type": "code",
   "execution_count": 116,
   "id": "931b8c78",
   "metadata": {
    "execution": {
     "iopub.execute_input": "2023-07-28T14:49:59.389250Z",
     "iopub.status.busy": "2023-07-28T14:49:59.388907Z",
     "iopub.status.idle": "2023-07-28T14:49:59.402621Z",
     "shell.execute_reply": "2023-07-28T14:49:59.401593Z"
    },
    "papermill": {
     "duration": 0.064154,
     "end_time": "2023-07-28T14:49:59.404814",
     "exception": false,
     "start_time": "2023-07-28T14:49:59.340660",
     "status": "completed"
    },
    "tags": []
   },
   "outputs": [
    {
     "data": {
      "text/html": [
       "<div>\n",
       "<style scoped>\n",
       "    .dataframe tbody tr th:only-of-type {\n",
       "        vertical-align: middle;\n",
       "    }\n",
       "\n",
       "    .dataframe tbody tr th {\n",
       "        vertical-align: top;\n",
       "    }\n",
       "\n",
       "    .dataframe thead th {\n",
       "        text-align: right;\n",
       "    }\n",
       "</style>\n",
       "<table border=\"1\" class=\"dataframe\">\n",
       "  <thead>\n",
       "    <tr style=\"text-align: right;\">\n",
       "      <th></th>\n",
       "      <th>var_1</th>\n",
       "      <th>var_2</th>\n",
       "    </tr>\n",
       "    <tr>\n",
       "      <th>groups</th>\n",
       "      <th></th>\n",
       "      <th></th>\n",
       "    </tr>\n",
       "  </thead>\n",
       "  <tbody>\n",
       "    <tr>\n",
       "      <th>A</th>\n",
       "      <td>18.384776</td>\n",
       "      <td>19.798990</td>\n",
       "    </tr>\n",
       "    <tr>\n",
       "      <th>B</th>\n",
       "      <td>41.719300</td>\n",
       "      <td>4.242641</td>\n",
       "    </tr>\n",
       "    <tr>\n",
       "      <th>C</th>\n",
       "      <td>65.760931</td>\n",
       "      <td>24.041631</td>\n",
       "    </tr>\n",
       "  </tbody>\n",
       "</table>\n",
       "</div>"
      ],
      "text/plain": [
       "            var_1      var_2\n",
       "groups                      \n",
       "A       18.384776  19.798990\n",
       "B       41.719300   4.242641\n",
       "C       65.760931  24.041631"
      ]
     },
     "execution_count": 116,
     "metadata": {},
     "output_type": "execute_result"
    }
   ],
   "source": [
    "df.groupby(\"groups\").std()"
   ]
  },
  {
   "cell_type": "code",
   "execution_count": 117,
   "id": "0c37678c",
   "metadata": {
    "execution": {
     "iopub.execute_input": "2023-07-28T14:49:59.501086Z",
     "iopub.status.busy": "2023-07-28T14:49:59.500792Z",
     "iopub.status.idle": "2023-07-28T14:49:59.514328Z",
     "shell.execute_reply": "2023-07-28T14:49:59.513415Z"
    },
    "papermill": {
     "duration": 0.064362,
     "end_time": "2023-07-28T14:49:59.516227",
     "exception": false,
     "start_time": "2023-07-28T14:49:59.451865",
     "status": "completed"
    },
    "tags": []
   },
   "outputs": [
    {
     "data": {
      "text/html": [
       "<div>\n",
       "<style scoped>\n",
       "    .dataframe tbody tr th:only-of-type {\n",
       "        vertical-align: middle;\n",
       "    }\n",
       "\n",
       "    .dataframe tbody tr th {\n",
       "        vertical-align: top;\n",
       "    }\n",
       "\n",
       "    .dataframe thead th {\n",
       "        text-align: right;\n",
       "    }\n",
       "</style>\n",
       "<table border=\"1\" class=\"dataframe\">\n",
       "  <thead>\n",
       "    <tr style=\"text-align: right;\">\n",
       "      <th></th>\n",
       "      <th>groups</th>\n",
       "      <th>var_1</th>\n",
       "      <th>var_2</th>\n",
       "    </tr>\n",
       "  </thead>\n",
       "  <tbody>\n",
       "    <tr>\n",
       "      <th>0</th>\n",
       "      <td>A</td>\n",
       "      <td>24</td>\n",
       "      <td>48</td>\n",
       "    </tr>\n",
       "    <tr>\n",
       "      <th>4</th>\n",
       "      <td>A</td>\n",
       "      <td>50</td>\n",
       "      <td>20</td>\n",
       "    </tr>\n",
       "  </tbody>\n",
       "</table>\n",
       "</div>"
      ],
      "text/plain": [
       "  groups  var_1  var_2\n",
       "0      A     24     48\n",
       "4      A     50     20"
      ]
     },
     "execution_count": 117,
     "metadata": {},
     "output_type": "execute_result"
    }
   ],
   "source": [
    "df.groupby(\"groups\").filter(filter_func)"
   ]
  },
  {
   "cell_type": "code",
   "execution_count": 118,
   "id": "3b546f36",
   "metadata": {
    "execution": {
     "iopub.execute_input": "2023-07-28T14:49:59.613405Z",
     "iopub.status.busy": "2023-07-28T14:49:59.613057Z",
     "iopub.status.idle": "2023-07-28T14:49:59.617342Z",
     "shell.execute_reply": "2023-07-28T14:49:59.616366Z"
    },
    "papermill": {
     "duration": 0.055704,
     "end_time": "2023-07-28T14:49:59.619493",
     "exception": false,
     "start_time": "2023-07-28T14:49:59.563789",
     "status": "completed"
    },
    "tags": []
   },
   "outputs": [],
   "source": [
    "# transform"
   ]
  },
  {
   "cell_type": "code",
   "execution_count": 119,
   "id": "dc5f9434",
   "metadata": {
    "execution": {
     "iopub.execute_input": "2023-07-28T14:49:59.713699Z",
     "iopub.status.busy": "2023-07-28T14:49:59.713380Z",
     "iopub.status.idle": "2023-07-28T14:49:59.722475Z",
     "shell.execute_reply": "2023-07-28T14:49:59.721422Z"
    },
    "papermill": {
     "duration": 0.059325,
     "end_time": "2023-07-28T14:49:59.725725",
     "exception": false,
     "start_time": "2023-07-28T14:49:59.666400",
     "status": "completed"
    },
    "tags": []
   },
   "outputs": [
    {
     "data": {
      "text/html": [
       "<div>\n",
       "<style scoped>\n",
       "    .dataframe tbody tr th:only-of-type {\n",
       "        vertical-align: middle;\n",
       "    }\n",
       "\n",
       "    .dataframe tbody tr th {\n",
       "        vertical-align: top;\n",
       "    }\n",
       "\n",
       "    .dataframe thead th {\n",
       "        text-align: right;\n",
       "    }\n",
       "</style>\n",
       "<table border=\"1\" class=\"dataframe\">\n",
       "  <thead>\n",
       "    <tr style=\"text-align: right;\">\n",
       "      <th></th>\n",
       "      <th>groups</th>\n",
       "      <th>var_1</th>\n",
       "      <th>var_2</th>\n",
       "    </tr>\n",
       "  </thead>\n",
       "  <tbody>\n",
       "    <tr>\n",
       "      <th>0</th>\n",
       "      <td>A</td>\n",
       "      <td>24</td>\n",
       "      <td>48</td>\n",
       "    </tr>\n",
       "    <tr>\n",
       "      <th>1</th>\n",
       "      <td>B</td>\n",
       "      <td>67</td>\n",
       "      <td>34</td>\n",
       "    </tr>\n",
       "    <tr>\n",
       "      <th>2</th>\n",
       "      <td>C</td>\n",
       "      <td>123</td>\n",
       "      <td>66</td>\n",
       "    </tr>\n",
       "    <tr>\n",
       "      <th>3</th>\n",
       "      <td>B</td>\n",
       "      <td>8</td>\n",
       "      <td>28</td>\n",
       "    </tr>\n",
       "    <tr>\n",
       "      <th>4</th>\n",
       "      <td>A</td>\n",
       "      <td>50</td>\n",
       "      <td>20</td>\n",
       "    </tr>\n",
       "    <tr>\n",
       "      <th>5</th>\n",
       "      <td>C</td>\n",
       "      <td>30</td>\n",
       "      <td>100</td>\n",
       "    </tr>\n",
       "  </tbody>\n",
       "</table>\n",
       "</div>"
      ],
      "text/plain": [
       "  groups  var_1  var_2\n",
       "0      A     24     48\n",
       "1      B     67     34\n",
       "2      C    123     66\n",
       "3      B      8     28\n",
       "4      A     50     20\n",
       "5      C     30    100"
      ]
     },
     "execution_count": 119,
     "metadata": {},
     "output_type": "execute_result"
    }
   ],
   "source": [
    "df"
   ]
  },
  {
   "cell_type": "code",
   "execution_count": 120,
   "id": "109164e6",
   "metadata": {
    "execution": {
     "iopub.execute_input": "2023-07-28T14:49:59.822970Z",
     "iopub.status.busy": "2023-07-28T14:49:59.822620Z",
     "iopub.status.idle": "2023-07-28T14:49:59.829786Z",
     "shell.execute_reply": "2023-07-28T14:49:59.828887Z"
    },
    "papermill": {
     "duration": 0.059532,
     "end_time": "2023-07-28T14:49:59.832160",
     "exception": false,
     "start_time": "2023-07-28T14:49:59.772628",
     "status": "completed"
    },
    "tags": []
   },
   "outputs": [
    {
     "data": {
      "text/plain": [
       "0     36\n",
       "1     79\n",
       "2    135\n",
       "3     20\n",
       "4     62\n",
       "5     42\n",
       "Name: var_1, dtype: int64"
      ]
     },
     "execution_count": 120,
     "metadata": {},
     "output_type": "execute_result"
    }
   ],
   "source": [
    "df[\"var_1\"] + 12"
   ]
  },
  {
   "cell_type": "code",
   "execution_count": 121,
   "id": "46edefcc",
   "metadata": {
    "execution": {
     "iopub.execute_input": "2023-07-28T14:49:59.970017Z",
     "iopub.status.busy": "2023-07-28T14:49:59.969115Z",
     "iopub.status.idle": "2023-07-28T14:49:59.974699Z",
     "shell.execute_reply": "2023-07-28T14:49:59.973692Z"
    },
    "papermill": {
     "duration": 0.098067,
     "end_time": "2023-07-28T14:49:59.976833",
     "exception": false,
     "start_time": "2023-07-28T14:49:59.878766",
     "status": "completed"
    },
    "tags": []
   },
   "outputs": [],
   "source": [
    "df_x = df.iloc[:, 1:3]"
   ]
  },
  {
   "cell_type": "code",
   "execution_count": 122,
   "id": "129f9d00",
   "metadata": {
    "execution": {
     "iopub.execute_input": "2023-07-28T14:50:00.075245Z",
     "iopub.status.busy": "2023-07-28T14:50:00.074277Z",
     "iopub.status.idle": "2023-07-28T14:50:00.086448Z",
     "shell.execute_reply": "2023-07-28T14:50:00.085422Z"
    },
    "papermill": {
     "duration": 0.062225,
     "end_time": "2023-07-28T14:50:00.088421",
     "exception": false,
     "start_time": "2023-07-28T14:50:00.026196",
     "status": "completed"
    },
    "tags": []
   },
   "outputs": [
    {
     "data": {
      "text/html": [
       "<div>\n",
       "<style scoped>\n",
       "    .dataframe tbody tr th:only-of-type {\n",
       "        vertical-align: middle;\n",
       "    }\n",
       "\n",
       "    .dataframe tbody tr th {\n",
       "        vertical-align: top;\n",
       "    }\n",
       "\n",
       "    .dataframe thead th {\n",
       "        text-align: right;\n",
       "    }\n",
       "</style>\n",
       "<table border=\"1\" class=\"dataframe\">\n",
       "  <thead>\n",
       "    <tr style=\"text-align: right;\">\n",
       "      <th></th>\n",
       "      <th>var_1</th>\n",
       "      <th>var_2</th>\n",
       "    </tr>\n",
       "  </thead>\n",
       "  <tbody>\n",
       "    <tr>\n",
       "      <th>0</th>\n",
       "      <td>-0.640286</td>\n",
       "      <td>-0.044960</td>\n",
       "    </tr>\n",
       "    <tr>\n",
       "      <th>1</th>\n",
       "      <td>0.405244</td>\n",
       "      <td>-0.517043</td>\n",
       "    </tr>\n",
       "    <tr>\n",
       "      <th>2</th>\n",
       "      <td>1.766866</td>\n",
       "      <td>0.562004</td>\n",
       "    </tr>\n",
       "    <tr>\n",
       "      <th>3</th>\n",
       "      <td>-1.029321</td>\n",
       "      <td>-0.719365</td>\n",
       "    </tr>\n",
       "    <tr>\n",
       "      <th>4</th>\n",
       "      <td>-0.008105</td>\n",
       "      <td>-0.989126</td>\n",
       "    </tr>\n",
       "    <tr>\n",
       "      <th>5</th>\n",
       "      <td>-0.494398</td>\n",
       "      <td>1.708491</td>\n",
       "    </tr>\n",
       "  </tbody>\n",
       "</table>\n",
       "</div>"
      ],
      "text/plain": [
       "      var_1     var_2\n",
       "0 -0.640286 -0.044960\n",
       "1  0.405244 -0.517043\n",
       "2  1.766866  0.562004\n",
       "3 -1.029321 -0.719365\n",
       "4 -0.008105 -0.989126\n",
       "5 -0.494398  1.708491"
      ]
     },
     "execution_count": 122,
     "metadata": {},
     "output_type": "execute_result"
    }
   ],
   "source": [
    "df_x.transform(lambda x: (x-x.mean()) / x.std())"
   ]
  },
  {
   "cell_type": "code",
   "execution_count": 123,
   "id": "d0cae598",
   "metadata": {
    "execution": {
     "iopub.execute_input": "2023-07-28T14:50:00.184083Z",
     "iopub.status.busy": "2023-07-28T14:50:00.183215Z",
     "iopub.status.idle": "2023-07-28T14:50:00.187787Z",
     "shell.execute_reply": "2023-07-28T14:50:00.186912Z"
    },
    "papermill": {
     "duration": 0.054479,
     "end_time": "2023-07-28T14:50:00.189834",
     "exception": false,
     "start_time": "2023-07-28T14:50:00.135355",
     "status": "completed"
    },
    "tags": []
   },
   "outputs": [],
   "source": [
    "#apply"
   ]
  },
  {
   "cell_type": "code",
   "execution_count": 124,
   "id": "bfa0f2a1",
   "metadata": {
    "execution": {
     "iopub.execute_input": "2023-07-28T14:50:00.287948Z",
     "iopub.status.busy": "2023-07-28T14:50:00.286990Z",
     "iopub.status.idle": "2023-07-28T14:50:00.294176Z",
     "shell.execute_reply": "2023-07-28T14:50:00.293284Z"
    },
    "papermill": {
     "duration": 0.057426,
     "end_time": "2023-07-28T14:50:00.296156",
     "exception": false,
     "start_time": "2023-07-28T14:50:00.238730",
     "status": "completed"
    },
    "tags": []
   },
   "outputs": [],
   "source": [
    "df = pd.DataFrame({\n",
    "                   \"var_1\" : [24, 67, 123, 8, 50, 30],\n",
    "                   \"var_2\" : [48, 34, 66, 28, 20, 100]                  \n",
    "                   },\n",
    "                  columns = [\"var_1\", \"var_2\"]                \n",
    "                 )"
   ]
  },
  {
   "cell_type": "code",
   "execution_count": 125,
   "id": "73e11e12",
   "metadata": {
    "execution": {
     "iopub.execute_input": "2023-07-28T14:50:00.390926Z",
     "iopub.status.busy": "2023-07-28T14:50:00.390617Z",
     "iopub.status.idle": "2023-07-28T14:50:00.399049Z",
     "shell.execute_reply": "2023-07-28T14:50:00.398128Z"
    },
    "papermill": {
     "duration": 0.057911,
     "end_time": "2023-07-28T14:50:00.401036",
     "exception": false,
     "start_time": "2023-07-28T14:50:00.343125",
     "status": "completed"
    },
    "tags": []
   },
   "outputs": [
    {
     "data": {
      "text/html": [
       "<div>\n",
       "<style scoped>\n",
       "    .dataframe tbody tr th:only-of-type {\n",
       "        vertical-align: middle;\n",
       "    }\n",
       "\n",
       "    .dataframe tbody tr th {\n",
       "        vertical-align: top;\n",
       "    }\n",
       "\n",
       "    .dataframe thead th {\n",
       "        text-align: right;\n",
       "    }\n",
       "</style>\n",
       "<table border=\"1\" class=\"dataframe\">\n",
       "  <thead>\n",
       "    <tr style=\"text-align: right;\">\n",
       "      <th></th>\n",
       "      <th>var_1</th>\n",
       "      <th>var_2</th>\n",
       "    </tr>\n",
       "  </thead>\n",
       "  <tbody>\n",
       "    <tr>\n",
       "      <th>0</th>\n",
       "      <td>24</td>\n",
       "      <td>48</td>\n",
       "    </tr>\n",
       "    <tr>\n",
       "      <th>1</th>\n",
       "      <td>67</td>\n",
       "      <td>34</td>\n",
       "    </tr>\n",
       "    <tr>\n",
       "      <th>2</th>\n",
       "      <td>123</td>\n",
       "      <td>66</td>\n",
       "    </tr>\n",
       "    <tr>\n",
       "      <th>3</th>\n",
       "      <td>8</td>\n",
       "      <td>28</td>\n",
       "    </tr>\n",
       "    <tr>\n",
       "      <th>4</th>\n",
       "      <td>50</td>\n",
       "      <td>20</td>\n",
       "    </tr>\n",
       "    <tr>\n",
       "      <th>5</th>\n",
       "      <td>30</td>\n",
       "      <td>100</td>\n",
       "    </tr>\n",
       "  </tbody>\n",
       "</table>\n",
       "</div>"
      ],
      "text/plain": [
       "   var_1  var_2\n",
       "0     24     48\n",
       "1     67     34\n",
       "2    123     66\n",
       "3      8     28\n",
       "4     50     20\n",
       "5     30    100"
      ]
     },
     "execution_count": 125,
     "metadata": {},
     "output_type": "execute_result"
    }
   ],
   "source": [
    "df"
   ]
  },
  {
   "cell_type": "code",
   "execution_count": 126,
   "id": "4c54f2e3",
   "metadata": {
    "execution": {
     "iopub.execute_input": "2023-07-28T14:50:00.501613Z",
     "iopub.status.busy": "2023-07-28T14:50:00.500637Z",
     "iopub.status.idle": "2023-07-28T14:50:00.508950Z",
     "shell.execute_reply": "2023-07-28T14:50:00.507956Z"
    },
    "papermill": {
     "duration": 0.060808,
     "end_time": "2023-07-28T14:50:00.510873",
     "exception": false,
     "start_time": "2023-07-28T14:50:00.450065",
     "status": "completed"
    },
    "tags": []
   },
   "outputs": [
    {
     "data": {
      "text/plain": [
       "var_1    302\n",
       "var_2    296\n",
       "dtype: int64"
      ]
     },
     "execution_count": 126,
     "metadata": {},
     "output_type": "execute_result"
    }
   ],
   "source": [
    "df.apply(np.sum)"
   ]
  },
  {
   "cell_type": "code",
   "execution_count": null,
   "id": "ca80250e",
   "metadata": {
    "papermill": {
     "duration": 0.047422,
     "end_time": "2023-07-28T14:50:00.604812",
     "exception": false,
     "start_time": "2023-07-28T14:50:00.557390",
     "status": "completed"
    },
    "tags": []
   },
   "outputs": [],
   "source": []
  },
  {
   "cell_type": "code",
   "execution_count": 127,
   "id": "dc84b64f",
   "metadata": {
    "execution": {
     "iopub.execute_input": "2023-07-28T14:50:00.702337Z",
     "iopub.status.busy": "2023-07-28T14:50:00.701394Z",
     "iopub.status.idle": "2023-07-28T14:50:01.164149Z",
     "shell.execute_reply": "2023-07-28T14:50:01.163220Z"
    },
    "papermill": {
     "duration": 0.51322,
     "end_time": "2023-07-28T14:50:01.166209",
     "exception": false,
     "start_time": "2023-07-28T14:50:00.652989",
     "status": "completed"
    },
    "tags": []
   },
   "outputs": [
    {
     "data": {
      "text/html": [
       "<div>\n",
       "<style scoped>\n",
       "    .dataframe tbody tr th:only-of-type {\n",
       "        vertical-align: middle;\n",
       "    }\n",
       "\n",
       "    .dataframe tbody tr th {\n",
       "        vertical-align: top;\n",
       "    }\n",
       "\n",
       "    .dataframe thead th {\n",
       "        text-align: right;\n",
       "    }\n",
       "</style>\n",
       "<table border=\"1\" class=\"dataframe\">\n",
       "  <thead>\n",
       "    <tr style=\"text-align: right;\">\n",
       "      <th></th>\n",
       "      <th>survived</th>\n",
       "      <th>pclass</th>\n",
       "      <th>sex</th>\n",
       "      <th>age</th>\n",
       "      <th>sibsp</th>\n",
       "      <th>parch</th>\n",
       "      <th>fare</th>\n",
       "      <th>embarked</th>\n",
       "      <th>class</th>\n",
       "      <th>who</th>\n",
       "      <th>adult_male</th>\n",
       "      <th>deck</th>\n",
       "      <th>embark_town</th>\n",
       "      <th>alive</th>\n",
       "      <th>alone</th>\n",
       "    </tr>\n",
       "  </thead>\n",
       "  <tbody>\n",
       "    <tr>\n",
       "      <th>0</th>\n",
       "      <td>0</td>\n",
       "      <td>3</td>\n",
       "      <td>male</td>\n",
       "      <td>22.0</td>\n",
       "      <td>1</td>\n",
       "      <td>0</td>\n",
       "      <td>7.2500</td>\n",
       "      <td>S</td>\n",
       "      <td>Third</td>\n",
       "      <td>man</td>\n",
       "      <td>True</td>\n",
       "      <td>NaN</td>\n",
       "      <td>Southampton</td>\n",
       "      <td>no</td>\n",
       "      <td>False</td>\n",
       "    </tr>\n",
       "    <tr>\n",
       "      <th>1</th>\n",
       "      <td>1</td>\n",
       "      <td>1</td>\n",
       "      <td>female</td>\n",
       "      <td>38.0</td>\n",
       "      <td>1</td>\n",
       "      <td>0</td>\n",
       "      <td>71.2833</td>\n",
       "      <td>C</td>\n",
       "      <td>First</td>\n",
       "      <td>woman</td>\n",
       "      <td>False</td>\n",
       "      <td>C</td>\n",
       "      <td>Cherbourg</td>\n",
       "      <td>yes</td>\n",
       "      <td>False</td>\n",
       "    </tr>\n",
       "    <tr>\n",
       "      <th>2</th>\n",
       "      <td>1</td>\n",
       "      <td>3</td>\n",
       "      <td>female</td>\n",
       "      <td>26.0</td>\n",
       "      <td>0</td>\n",
       "      <td>0</td>\n",
       "      <td>7.9250</td>\n",
       "      <td>S</td>\n",
       "      <td>Third</td>\n",
       "      <td>woman</td>\n",
       "      <td>False</td>\n",
       "      <td>NaN</td>\n",
       "      <td>Southampton</td>\n",
       "      <td>yes</td>\n",
       "      <td>True</td>\n",
       "    </tr>\n",
       "    <tr>\n",
       "      <th>3</th>\n",
       "      <td>1</td>\n",
       "      <td>1</td>\n",
       "      <td>female</td>\n",
       "      <td>35.0</td>\n",
       "      <td>1</td>\n",
       "      <td>0</td>\n",
       "      <td>53.1000</td>\n",
       "      <td>S</td>\n",
       "      <td>First</td>\n",
       "      <td>woman</td>\n",
       "      <td>False</td>\n",
       "      <td>C</td>\n",
       "      <td>Southampton</td>\n",
       "      <td>yes</td>\n",
       "      <td>False</td>\n",
       "    </tr>\n",
       "    <tr>\n",
       "      <th>4</th>\n",
       "      <td>0</td>\n",
       "      <td>3</td>\n",
       "      <td>male</td>\n",
       "      <td>35.0</td>\n",
       "      <td>0</td>\n",
       "      <td>0</td>\n",
       "      <td>8.0500</td>\n",
       "      <td>S</td>\n",
       "      <td>Third</td>\n",
       "      <td>man</td>\n",
       "      <td>True</td>\n",
       "      <td>NaN</td>\n",
       "      <td>Southampton</td>\n",
       "      <td>no</td>\n",
       "      <td>True</td>\n",
       "    </tr>\n",
       "  </tbody>\n",
       "</table>\n",
       "</div>"
      ],
      "text/plain": [
       "   survived  pclass     sex   age  sibsp  parch     fare embarked  class  \\\n",
       "0         0       3    male  22.0      1      0   7.2500        S  Third   \n",
       "1         1       1  female  38.0      1      0  71.2833        C  First   \n",
       "2         1       3  female  26.0      0      0   7.9250        S  Third   \n",
       "3         1       1  female  35.0      1      0  53.1000        S  First   \n",
       "4         0       3    male  35.0      0      0   8.0500        S  Third   \n",
       "\n",
       "     who  adult_male deck  embark_town alive  alone  \n",
       "0    man        True  NaN  Southampton    no  False  \n",
       "1  woman       False    C    Cherbourg   yes  False  \n",
       "2  woman       False  NaN  Southampton   yes   True  \n",
       "3  woman       False    C  Southampton   yes  False  \n",
       "4    man        True  NaN  Southampton    no   True  "
      ]
     },
     "execution_count": 127,
     "metadata": {},
     "output_type": "execute_result"
    }
   ],
   "source": [
    "import pandas as pd\n",
    "import seaborn as sns\n",
    "\n",
    "titanic = sns.load_dataset(\"titanic\")\n",
    "titanic.head()"
   ]
  },
  {
   "cell_type": "code",
   "execution_count": 128,
   "id": "281b1406",
   "metadata": {
    "execution": {
     "iopub.execute_input": "2023-07-28T14:50:01.264979Z",
     "iopub.status.busy": "2023-07-28T14:50:01.264059Z",
     "iopub.status.idle": "2023-07-28T14:50:01.281913Z",
     "shell.execute_reply": "2023-07-28T14:50:01.280913Z"
    },
    "papermill": {
     "duration": 0.068845,
     "end_time": "2023-07-28T14:50:01.284067",
     "exception": false,
     "start_time": "2023-07-28T14:50:01.215222",
     "status": "completed"
    },
    "tags": []
   },
   "outputs": [
    {
     "data": {
      "text/html": [
       "<div>\n",
       "<style scoped>\n",
       "    .dataframe tbody tr th:only-of-type {\n",
       "        vertical-align: middle;\n",
       "    }\n",
       "\n",
       "    .dataframe tbody tr th {\n",
       "        vertical-align: top;\n",
       "    }\n",
       "\n",
       "    .dataframe thead tr th {\n",
       "        text-align: left;\n",
       "    }\n",
       "\n",
       "    .dataframe thead tr:last-of-type th {\n",
       "        text-align: right;\n",
       "    }\n",
       "</style>\n",
       "<table border=\"1\" class=\"dataframe\">\n",
       "  <thead>\n",
       "    <tr>\n",
       "      <th></th>\n",
       "      <th colspan=\"3\" halign=\"left\">survived</th>\n",
       "    </tr>\n",
       "    <tr>\n",
       "      <th>class</th>\n",
       "      <th>First</th>\n",
       "      <th>Second</th>\n",
       "      <th>Third</th>\n",
       "    </tr>\n",
       "    <tr>\n",
       "      <th>sex</th>\n",
       "      <th></th>\n",
       "      <th></th>\n",
       "      <th></th>\n",
       "    </tr>\n",
       "  </thead>\n",
       "  <tbody>\n",
       "    <tr>\n",
       "      <th>female</th>\n",
       "      <td>0.968085</td>\n",
       "      <td>0.921053</td>\n",
       "      <td>0.500000</td>\n",
       "    </tr>\n",
       "    <tr>\n",
       "      <th>male</th>\n",
       "      <td>0.368852</td>\n",
       "      <td>0.157407</td>\n",
       "      <td>0.135447</td>\n",
       "    </tr>\n",
       "  </tbody>\n",
       "</table>\n",
       "</div>"
      ],
      "text/plain": [
       "        survived                    \n",
       "class      First    Second     Third\n",
       "sex                                 \n",
       "female  0.968085  0.921053  0.500000\n",
       "male    0.368852  0.157407  0.135447"
      ]
     },
     "execution_count": 128,
     "metadata": {},
     "output_type": "execute_result"
    }
   ],
   "source": [
    "titanic.groupby([\"sex\", \"class\"])[[\"survived\"]].aggregate(\"mean\").unstack()"
   ]
  },
  {
   "cell_type": "code",
   "execution_count": 129,
   "id": "4b8f9262",
   "metadata": {
    "execution": {
     "iopub.execute_input": "2023-07-28T14:50:01.381348Z",
     "iopub.status.busy": "2023-07-28T14:50:01.380696Z",
     "iopub.status.idle": "2023-07-28T14:50:01.384935Z",
     "shell.execute_reply": "2023-07-28T14:50:01.384047Z"
    },
    "papermill": {
     "duration": 0.055343,
     "end_time": "2023-07-28T14:50:01.386953",
     "exception": false,
     "start_time": "2023-07-28T14:50:01.331610",
     "status": "completed"
    },
    "tags": []
   },
   "outputs": [],
   "source": [
    "# pivot table"
   ]
  },
  {
   "cell_type": "code",
   "execution_count": 130,
   "id": "99a6f7fb",
   "metadata": {
    "execution": {
     "iopub.execute_input": "2023-07-28T14:50:01.483229Z",
     "iopub.status.busy": "2023-07-28T14:50:01.482604Z",
     "iopub.status.idle": "2023-07-28T14:50:01.505880Z",
     "shell.execute_reply": "2023-07-28T14:50:01.504891Z"
    },
    "papermill": {
     "duration": 0.073755,
     "end_time": "2023-07-28T14:50:01.508061",
     "exception": false,
     "start_time": "2023-07-28T14:50:01.434306",
     "status": "completed"
    },
    "tags": []
   },
   "outputs": [
    {
     "data": {
      "text/html": [
       "<div>\n",
       "<style scoped>\n",
       "    .dataframe tbody tr th:only-of-type {\n",
       "        vertical-align: middle;\n",
       "    }\n",
       "\n",
       "    .dataframe tbody tr th {\n",
       "        vertical-align: top;\n",
       "    }\n",
       "\n",
       "    .dataframe thead th {\n",
       "        text-align: right;\n",
       "    }\n",
       "</style>\n",
       "<table border=\"1\" class=\"dataframe\">\n",
       "  <thead>\n",
       "    <tr style=\"text-align: right;\">\n",
       "      <th>class</th>\n",
       "      <th>First</th>\n",
       "      <th>Second</th>\n",
       "      <th>Third</th>\n",
       "    </tr>\n",
       "    <tr>\n",
       "      <th>sex</th>\n",
       "      <th></th>\n",
       "      <th></th>\n",
       "      <th></th>\n",
       "    </tr>\n",
       "  </thead>\n",
       "  <tbody>\n",
       "    <tr>\n",
       "      <th>female</th>\n",
       "      <td>0.968085</td>\n",
       "      <td>0.921053</td>\n",
       "      <td>0.500000</td>\n",
       "    </tr>\n",
       "    <tr>\n",
       "      <th>male</th>\n",
       "      <td>0.368852</td>\n",
       "      <td>0.157407</td>\n",
       "      <td>0.135447</td>\n",
       "    </tr>\n",
       "  </tbody>\n",
       "</table>\n",
       "</div>"
      ],
      "text/plain": [
       "class      First    Second     Third\n",
       "sex                                 \n",
       "female  0.968085  0.921053  0.500000\n",
       "male    0.368852  0.157407  0.135447"
      ]
     },
     "execution_count": 130,
     "metadata": {},
     "output_type": "execute_result"
    }
   ],
   "source": [
    "titanic.pivot_table(\"survived\", index = \"sex\", columns = \"class\")"
   ]
  },
  {
   "cell_type": "code",
   "execution_count": 131,
   "id": "35686ac3",
   "metadata": {
    "execution": {
     "iopub.execute_input": "2023-07-28T14:50:01.606806Z",
     "iopub.status.busy": "2023-07-28T14:50:01.605354Z",
     "iopub.status.idle": "2023-07-28T14:50:01.613410Z",
     "shell.execute_reply": "2023-07-28T14:50:01.612397Z"
    },
    "papermill": {
     "duration": 0.058916,
     "end_time": "2023-07-28T14:50:01.615484",
     "exception": false,
     "start_time": "2023-07-28T14:50:01.556568",
     "status": "completed"
    },
    "tags": []
   },
   "outputs": [
    {
     "data": {
      "text/plain": [
       "0    22.0\n",
       "1    38.0\n",
       "2    26.0\n",
       "3    35.0\n",
       "4    35.0\n",
       "Name: age, dtype: float64"
      ]
     },
     "execution_count": 131,
     "metadata": {},
     "output_type": "execute_result"
    }
   ],
   "source": [
    "titanic.age.head()"
   ]
  },
  {
   "cell_type": "code",
   "execution_count": 132,
   "id": "18f6d4b5",
   "metadata": {
    "execution": {
     "iopub.execute_input": "2023-07-28T14:50:01.718167Z",
     "iopub.status.busy": "2023-07-28T14:50:01.717834Z",
     "iopub.status.idle": "2023-07-28T14:50:01.731341Z",
     "shell.execute_reply": "2023-07-28T14:50:01.730411Z"
    },
    "papermill": {
     "duration": 0.06701,
     "end_time": "2023-07-28T14:50:01.733321",
     "exception": false,
     "start_time": "2023-07-28T14:50:01.666311",
     "status": "completed"
    },
    "tags": []
   },
   "outputs": [
    {
     "data": {
      "text/plain": [
       "0      (0.0, 22.0]\n",
       "1     (22.0, 50.0]\n",
       "2     (22.0, 50.0]\n",
       "3     (22.0, 50.0]\n",
       "4     (22.0, 50.0]\n",
       "5              NaN\n",
       "6              NaN\n",
       "7      (0.0, 22.0]\n",
       "8     (22.0, 50.0]\n",
       "9      (0.0, 22.0]\n",
       "10     (0.0, 22.0]\n",
       "11             NaN\n",
       "12     (0.0, 22.0]\n",
       "13    (22.0, 50.0]\n",
       "14     (0.0, 22.0]\n",
       "Name: age, dtype: category\n",
       "Categories (2, interval[int64, right]): [(0, 22] < (22, 50]]"
      ]
     },
     "execution_count": 132,
     "metadata": {},
     "output_type": "execute_result"
    }
   ],
   "source": [
    "age = pd.cut(titanic[\"age\"], [0, 22, 50])\n",
    "age.head(15)"
   ]
  },
  {
   "cell_type": "code",
   "execution_count": 133,
   "id": "7fad56bf",
   "metadata": {
    "execution": {
     "iopub.execute_input": "2023-07-28T14:50:01.831996Z",
     "iopub.status.busy": "2023-07-28T14:50:01.831650Z",
     "iopub.status.idle": "2023-07-28T14:50:01.857366Z",
     "shell.execute_reply": "2023-07-28T14:50:01.856473Z"
    },
    "papermill": {
     "duration": 0.0777,
     "end_time": "2023-07-28T14:50:01.859559",
     "exception": false,
     "start_time": "2023-07-28T14:50:01.781859",
     "status": "completed"
    },
    "tags": []
   },
   "outputs": [
    {
     "data": {
      "text/html": [
       "<div>\n",
       "<style scoped>\n",
       "    .dataframe tbody tr th:only-of-type {\n",
       "        vertical-align: middle;\n",
       "    }\n",
       "\n",
       "    .dataframe tbody tr th {\n",
       "        vertical-align: top;\n",
       "    }\n",
       "\n",
       "    .dataframe thead th {\n",
       "        text-align: right;\n",
       "    }\n",
       "</style>\n",
       "<table border=\"1\" class=\"dataframe\">\n",
       "  <thead>\n",
       "    <tr style=\"text-align: right;\">\n",
       "      <th></th>\n",
       "      <th>class</th>\n",
       "      <th>First</th>\n",
       "      <th>Second</th>\n",
       "      <th>Third</th>\n",
       "    </tr>\n",
       "    <tr>\n",
       "      <th>sex</th>\n",
       "      <th>age</th>\n",
       "      <th></th>\n",
       "      <th></th>\n",
       "      <th></th>\n",
       "    </tr>\n",
       "  </thead>\n",
       "  <tbody>\n",
       "    <tr>\n",
       "      <th rowspan=\"2\" valign=\"top\">female</th>\n",
       "      <th>(0, 22]</th>\n",
       "      <td>0.950000</td>\n",
       "      <td>1.000000</td>\n",
       "      <td>0.508772</td>\n",
       "    </tr>\n",
       "    <tr>\n",
       "      <th>(22, 50]</th>\n",
       "      <td>0.961538</td>\n",
       "      <td>0.903846</td>\n",
       "      <td>0.386364</td>\n",
       "    </tr>\n",
       "    <tr>\n",
       "      <th rowspan=\"2\" valign=\"top\">male</th>\n",
       "      <th>(0, 22]</th>\n",
       "      <td>0.444444</td>\n",
       "      <td>0.454545</td>\n",
       "      <td>0.163462</td>\n",
       "    </tr>\n",
       "    <tr>\n",
       "      <th>(22, 50]</th>\n",
       "      <td>0.469697</td>\n",
       "      <td>0.061538</td>\n",
       "      <td>0.150000</td>\n",
       "    </tr>\n",
       "  </tbody>\n",
       "</table>\n",
       "</div>"
      ],
      "text/plain": [
       "class               First    Second     Third\n",
       "sex    age                                   \n",
       "female (0, 22]   0.950000  1.000000  0.508772\n",
       "       (22, 50]  0.961538  0.903846  0.386364\n",
       "male   (0, 22]   0.444444  0.454545  0.163462\n",
       "       (22, 50]  0.469697  0.061538  0.150000"
      ]
     },
     "execution_count": 133,
     "metadata": {},
     "output_type": "execute_result"
    }
   ],
   "source": [
    "titanic.pivot_table(\"survived\", [\"sex\", age],\"class\")"
   ]
  },
  {
   "cell_type": "code",
   "execution_count": 134,
   "id": "39cd198a",
   "metadata": {
    "execution": {
     "iopub.execute_input": "2023-07-28T14:50:01.958262Z",
     "iopub.status.busy": "2023-07-28T14:50:01.956845Z",
     "iopub.status.idle": "2023-07-28T14:50:01.962050Z",
     "shell.execute_reply": "2023-07-28T14:50:01.961201Z"
    },
    "papermill": {
     "duration": 0.056211,
     "end_time": "2023-07-28T14:50:01.963983",
     "exception": false,
     "start_time": "2023-07-28T14:50:01.907772",
     "status": "completed"
    },
    "tags": []
   },
   "outputs": [],
   "source": [
    "# read data with pandas"
   ]
  },
  {
   "cell_type": "code",
   "execution_count": 135,
   "id": "e0a4e79c",
   "metadata": {
    "execution": {
     "iopub.execute_input": "2023-07-28T14:50:02.062213Z",
     "iopub.status.busy": "2023-07-28T14:50:02.060727Z",
     "iopub.status.idle": "2023-07-28T14:50:02.067368Z",
     "shell.execute_reply": "2023-07-28T14:50:02.066444Z"
    },
    "papermill": {
     "duration": 0.057483,
     "end_time": "2023-07-28T14:50:02.069373",
     "exception": false,
     "start_time": "2023-07-28T14:50:02.011890",
     "status": "completed"
    },
    "tags": []
   },
   "outputs": [
    {
     "data": {
      "text/plain": [
       "'\\n#csv\\ndf = pd.read_csv(path)\\ndf\\n\\n#excel\\ndf = pd.read_excel(path)\\ndf\\n\\n'"
      ]
     },
     "execution_count": 135,
     "metadata": {},
     "output_type": "execute_result"
    }
   ],
   "source": [
    "\"\"\"\n",
    "#csv\n",
    "df = pd.read_csv(path)\n",
    "df\n",
    "\n",
    "#excel\n",
    "df = pd.read_excel(path)\n",
    "df\n",
    "\n",
    "\"\"\""
   ]
  },
  {
   "cell_type": "code",
   "execution_count": 136,
   "id": "fbed636f",
   "metadata": {
    "execution": {
     "iopub.execute_input": "2023-07-28T14:50:02.169092Z",
     "iopub.status.busy": "2023-07-28T14:50:02.168124Z",
     "iopub.status.idle": "2023-07-28T14:50:02.223865Z",
     "shell.execute_reply": "2023-07-28T14:50:02.222926Z"
    },
    "papermill": {
     "duration": 0.107807,
     "end_time": "2023-07-28T14:50:02.226139",
     "exception": false,
     "start_time": "2023-07-28T14:50:02.118332",
     "status": "completed"
    },
    "tags": []
   },
   "outputs": [
    {
     "data": {
      "text/html": [
       "<div>\n",
       "<style scoped>\n",
       "    .dataframe tbody tr th:only-of-type {\n",
       "        vertical-align: middle;\n",
       "    }\n",
       "\n",
       "    .dataframe tbody tr th {\n",
       "        vertical-align: top;\n",
       "    }\n",
       "\n",
       "    .dataframe thead th {\n",
       "        text-align: right;\n",
       "    }\n",
       "</style>\n",
       "<table border=\"1\" class=\"dataframe\">\n",
       "  <thead>\n",
       "    <tr style=\"text-align: right;\">\n",
       "      <th></th>\n",
       "      <th>a</th>\n",
       "      <th>b</th>\n",
       "      <th>c</th>\n",
       "    </tr>\n",
       "  </thead>\n",
       "  <tbody>\n",
       "    <tr>\n",
       "      <th>0</th>\n",
       "      <td>78</td>\n",
       "      <td>12</td>\n",
       "      <td>1.0</td>\n",
       "    </tr>\n",
       "    <tr>\n",
       "      <th>1</th>\n",
       "      <td>78</td>\n",
       "      <td>12</td>\n",
       "      <td>2.0</td>\n",
       "    </tr>\n",
       "    <tr>\n",
       "      <th>2</th>\n",
       "      <td>78</td>\n",
       "      <td>324</td>\n",
       "      <td>3.0</td>\n",
       "    </tr>\n",
       "    <tr>\n",
       "      <th>3</th>\n",
       "      <td>7</td>\n",
       "      <td>2</td>\n",
       "      <td>4.0</td>\n",
       "    </tr>\n",
       "    <tr>\n",
       "      <th>4</th>\n",
       "      <td>88</td>\n",
       "      <td>23</td>\n",
       "      <td>5.0</td>\n",
       "    </tr>\n",
       "    <tr>\n",
       "      <th>5</th>\n",
       "      <td>6</td>\n",
       "      <td>2</td>\n",
       "      <td>NaN</td>\n",
       "    </tr>\n",
       "    <tr>\n",
       "      <th>6</th>\n",
       "      <td>56</td>\n",
       "      <td>11</td>\n",
       "      <td>6.0</td>\n",
       "    </tr>\n",
       "    <tr>\n",
       "      <th>7</th>\n",
       "      <td>7</td>\n",
       "      <td>12</td>\n",
       "      <td>7.0</td>\n",
       "    </tr>\n",
       "    <tr>\n",
       "      <th>8</th>\n",
       "      <td>56</td>\n",
       "      <td>21</td>\n",
       "      <td>7.0</td>\n",
       "    </tr>\n",
       "    <tr>\n",
       "      <th>9</th>\n",
       "      <td>346</td>\n",
       "      <td>2</td>\n",
       "      <td>8.0</td>\n",
       "    </tr>\n",
       "    <tr>\n",
       "      <th>10</th>\n",
       "      <td>5</td>\n",
       "      <td>1</td>\n",
       "      <td>8.0</td>\n",
       "    </tr>\n",
       "    <tr>\n",
       "      <th>11</th>\n",
       "      <td>456</td>\n",
       "      <td>21</td>\n",
       "      <td>8.0</td>\n",
       "    </tr>\n",
       "    <tr>\n",
       "      <th>12</th>\n",
       "      <td>3</td>\n",
       "      <td>12</td>\n",
       "      <td>88.0</td>\n",
       "    </tr>\n",
       "  </tbody>\n",
       "</table>\n",
       "</div>"
      ],
      "text/plain": [
       "      a    b     c\n",
       "0    78   12   1.0\n",
       "1    78   12   2.0\n",
       "2    78  324   3.0\n",
       "3     7    2   4.0\n",
       "4    88   23   5.0\n",
       "5     6    2   NaN\n",
       "6    56   11   6.0\n",
       "7     7   12   7.0\n",
       "8    56   21   7.0\n",
       "9   346    2   8.0\n",
       "10    5    1   8.0\n",
       "11  456   21   8.0\n",
       "12    3   12  88.0"
      ]
     },
     "execution_count": 136,
     "metadata": {},
     "output_type": "execute_result"
    }
   ],
   "source": [
    "# web url\n",
    "url = \"https://raw.githubusercontent.com/mvahit/reading_data/master/ornekcsv.csv\"\n",
    "df = pd.read_csv(url, sep =\";\")\n",
    "\n",
    "df\n"
   ]
  },
  {
   "cell_type": "code",
   "execution_count": 137,
   "id": "1106b4b3",
   "metadata": {
    "execution": {
     "iopub.execute_input": "2023-07-28T14:50:02.326961Z",
     "iopub.status.busy": "2023-07-28T14:50:02.326055Z",
     "iopub.status.idle": "2023-07-28T14:50:02.337147Z",
     "shell.execute_reply": "2023-07-28T14:50:02.336132Z"
    },
    "papermill": {
     "duration": 0.063158,
     "end_time": "2023-07-28T14:50:02.339124",
     "exception": false,
     "start_time": "2023-07-28T14:50:02.275966",
     "status": "completed"
    },
    "tags": []
   },
   "outputs": [
    {
     "data": {
      "text/html": [
       "<div>\n",
       "<style scoped>\n",
       "    .dataframe tbody tr th:only-of-type {\n",
       "        vertical-align: middle;\n",
       "    }\n",
       "\n",
       "    .dataframe tbody tr th {\n",
       "        vertical-align: top;\n",
       "    }\n",
       "\n",
       "    .dataframe thead th {\n",
       "        text-align: right;\n",
       "    }\n",
       "</style>\n",
       "<table border=\"1\" class=\"dataframe\">\n",
       "  <thead>\n",
       "    <tr style=\"text-align: right;\">\n",
       "      <th></th>\n",
       "      <th>L</th>\n",
       "      <th>P</th>\n",
       "      <th>G</th>\n",
       "    </tr>\n",
       "  </thead>\n",
       "  <tbody>\n",
       "    <tr>\n",
       "      <th>0</th>\n",
       "      <td>78</td>\n",
       "      <td>12</td>\n",
       "      <td>1.0</td>\n",
       "    </tr>\n",
       "    <tr>\n",
       "      <th>1</th>\n",
       "      <td>78</td>\n",
       "      <td>12</td>\n",
       "      <td>2.0</td>\n",
       "    </tr>\n",
       "    <tr>\n",
       "      <th>2</th>\n",
       "      <td>78</td>\n",
       "      <td>324</td>\n",
       "      <td>3.0</td>\n",
       "    </tr>\n",
       "    <tr>\n",
       "      <th>3</th>\n",
       "      <td>7</td>\n",
       "      <td>2</td>\n",
       "      <td>4.0</td>\n",
       "    </tr>\n",
       "    <tr>\n",
       "      <th>4</th>\n",
       "      <td>88</td>\n",
       "      <td>23</td>\n",
       "      <td>5.0</td>\n",
       "    </tr>\n",
       "  </tbody>\n",
       "</table>\n",
       "</div>"
      ],
      "text/plain": [
       "    L    P    G\n",
       "0  78   12  1.0\n",
       "1  78   12  2.0\n",
       "2  78  324  3.0\n",
       "3   7    2  4.0\n",
       "4  88   23  5.0"
      ]
     },
     "execution_count": 137,
     "metadata": {},
     "output_type": "execute_result"
    }
   ],
   "source": [
    "df.columns =  [\"L\", \"P\", \"G\"]\n",
    "df.head()"
   ]
  }
 ],
 "metadata": {
  "kernelspec": {
   "display_name": "Python 3",
   "language": "python",
   "name": "python3"
  },
  "language_info": {
   "codemirror_mode": {
    "name": "ipython",
    "version": 3
   },
   "file_extension": ".py",
   "mimetype": "text/x-python",
   "name": "python",
   "nbconvert_exporter": "python",
   "pygments_lexer": "ipython3",
   "version": "3.10.12"
  },
  "papermill": {
   "default_parameters": {},
   "duration": 26.65169,
   "end_time": "2023-07-28T14:50:03.113682",
   "environment_variables": {},
   "exception": null,
   "input_path": "__notebook__.ipynb",
   "output_path": "__notebook__.ipynb",
   "parameters": {},
   "start_time": "2023-07-28T14:49:36.461992",
   "version": "2.4.0"
  }
 },
 "nbformat": 4,
 "nbformat_minor": 5
}
