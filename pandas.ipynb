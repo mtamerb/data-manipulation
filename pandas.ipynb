{
 "cells": [
  {
   "cell_type": "code",
   "execution_count": 1,
   "id": "6035a48d",
   "metadata": {
    "execution": {
     "iopub.execute_input": "2023-07-25T15:18:51.630115Z",
     "iopub.status.busy": "2023-07-25T15:18:51.629757Z",
     "iopub.status.idle": "2023-07-25T15:18:51.641345Z",
     "shell.execute_reply": "2023-07-25T15:18:51.640529Z"
    },
    "papermill": {
     "duration": 0.031597,
     "end_time": "2023-07-25T15:18:51.643376",
     "exception": false,
     "start_time": "2023-07-25T15:18:51.611779",
     "status": "completed"
    },
    "tags": []
   },
   "outputs": [],
   "source": [
    "import pandas as pd"
   ]
  },
  {
   "cell_type": "code",
   "execution_count": 2,
   "id": "33b68adc",
   "metadata": {
    "_cell_guid": "b1076dfc-b9ad-4769-8c92-a6c4dae69d19",
    "_uuid": "8f2839f25d086af736a60e9eeb907d3b93b6e0e5",
    "execution": {
     "iopub.execute_input": "2023-07-25T15:18:51.676766Z",
     "iopub.status.busy": "2023-07-25T15:18:51.676468Z",
     "iopub.status.idle": "2023-07-25T15:18:51.686216Z",
     "shell.execute_reply": "2023-07-25T15:18:51.685362Z"
    },
    "papermill": {
     "duration": 0.028588,
     "end_time": "2023-07-25T15:18:51.688264",
     "exception": false,
     "start_time": "2023-07-25T15:18:51.659676",
     "status": "completed"
    },
    "tags": []
   },
   "outputs": [
    {
     "data": {
      "text/plain": [
       "0     23\n",
       "1     45\n",
       "2    -36\n",
       "3     12\n",
       "4      0\n",
       "5    100\n",
       "dtype: int64"
      ]
     },
     "execution_count": 2,
     "metadata": {},
     "output_type": "execute_result"
    }
   ],
   "source": [
    "pd.Series([23, 45, -36, 12, 0, 100])"
   ]
  },
  {
   "cell_type": "code",
   "execution_count": 3,
   "id": "70f7c317",
   "metadata": {
    "execution": {
     "iopub.execute_input": "2023-07-25T15:18:51.723149Z",
     "iopub.status.busy": "2023-07-25T15:18:51.722367Z",
     "iopub.status.idle": "2023-07-25T15:18:51.729120Z",
     "shell.execute_reply": "2023-07-25T15:18:51.728178Z"
    },
    "papermill": {
     "duration": 0.026381,
     "end_time": "2023-07-25T15:18:51.731067",
     "exception": false,
     "start_time": "2023-07-25T15:18:51.704686",
     "status": "completed"
    },
    "tags": []
   },
   "outputs": [
    {
     "data": {
      "text/plain": [
       "pandas.core.series.Series"
      ]
     },
     "execution_count": 3,
     "metadata": {},
     "output_type": "execute_result"
    }
   ],
   "source": [
    "seri = pd.Series([23, 45, -36, 12, 0, 100])\n",
    "\n",
    "type(seri)"
   ]
  },
  {
   "cell_type": "code",
   "execution_count": 4,
   "id": "109f149b",
   "metadata": {
    "execution": {
     "iopub.execute_input": "2023-07-25T15:18:51.765284Z",
     "iopub.status.busy": "2023-07-25T15:18:51.764459Z",
     "iopub.status.idle": "2023-07-25T15:18:51.770427Z",
     "shell.execute_reply": "2023-07-25T15:18:51.769474Z"
    },
    "papermill": {
     "duration": 0.024843,
     "end_time": "2023-07-25T15:18:51.772367",
     "exception": false,
     "start_time": "2023-07-25T15:18:51.747524",
     "status": "completed"
    },
    "tags": []
   },
   "outputs": [
    {
     "data": {
      "text/plain": [
       "[RangeIndex(start=0, stop=6, step=1)]"
      ]
     },
     "execution_count": 4,
     "metadata": {},
     "output_type": "execute_result"
    }
   ],
   "source": [
    "seri.axes"
   ]
  },
  {
   "cell_type": "code",
   "execution_count": 5,
   "id": "205b9d56",
   "metadata": {
    "execution": {
     "iopub.execute_input": "2023-07-25T15:18:51.807299Z",
     "iopub.status.busy": "2023-07-25T15:18:51.806580Z",
     "iopub.status.idle": "2023-07-25T15:18:51.812157Z",
     "shell.execute_reply": "2023-07-25T15:18:51.811202Z"
    },
    "papermill": {
     "duration": 0.025063,
     "end_time": "2023-07-25T15:18:51.814115",
     "exception": false,
     "start_time": "2023-07-25T15:18:51.789052",
     "status": "completed"
    },
    "tags": []
   },
   "outputs": [
    {
     "data": {
      "text/plain": [
       "dtype('int64')"
      ]
     },
     "execution_count": 5,
     "metadata": {},
     "output_type": "execute_result"
    }
   ],
   "source": [
    "seri.dtype"
   ]
  },
  {
   "cell_type": "code",
   "execution_count": 6,
   "id": "5d6318a0",
   "metadata": {
    "execution": {
     "iopub.execute_input": "2023-07-25T15:18:51.848746Z",
     "iopub.status.busy": "2023-07-25T15:18:51.848006Z",
     "iopub.status.idle": "2023-07-25T15:18:51.853765Z",
     "shell.execute_reply": "2023-07-25T15:18:51.852816Z"
    },
    "papermill": {
     "duration": 0.025108,
     "end_time": "2023-07-25T15:18:51.855702",
     "exception": false,
     "start_time": "2023-07-25T15:18:51.830594",
     "status": "completed"
    },
    "tags": []
   },
   "outputs": [
    {
     "data": {
      "text/plain": [
       "1"
      ]
     },
     "execution_count": 6,
     "metadata": {},
     "output_type": "execute_result"
    }
   ],
   "source": [
    "seri.ndim"
   ]
  },
  {
   "cell_type": "code",
   "execution_count": 7,
   "id": "ecfdbd91",
   "metadata": {
    "execution": {
     "iopub.execute_input": "2023-07-25T15:18:51.890958Z",
     "iopub.status.busy": "2023-07-25T15:18:51.890172Z",
     "iopub.status.idle": "2023-07-25T15:18:51.896077Z",
     "shell.execute_reply": "2023-07-25T15:18:51.895096Z"
    },
    "papermill": {
     "duration": 0.025781,
     "end_time": "2023-07-25T15:18:51.898071",
     "exception": false,
     "start_time": "2023-07-25T15:18:51.872290",
     "status": "completed"
    },
    "tags": []
   },
   "outputs": [
    {
     "data": {
      "text/plain": [
       "6"
      ]
     },
     "execution_count": 7,
     "metadata": {},
     "output_type": "execute_result"
    }
   ],
   "source": [
    "seri.size"
   ]
  },
  {
   "cell_type": "code",
   "execution_count": 8,
   "id": "b72a46eb",
   "metadata": {
    "execution": {
     "iopub.execute_input": "2023-07-25T15:18:51.932795Z",
     "iopub.status.busy": "2023-07-25T15:18:51.932283Z",
     "iopub.status.idle": "2023-07-25T15:18:51.937733Z",
     "shell.execute_reply": "2023-07-25T15:18:51.936890Z"
    },
    "papermill": {
     "duration": 0.024786,
     "end_time": "2023-07-25T15:18:51.939622",
     "exception": false,
     "start_time": "2023-07-25T15:18:51.914836",
     "status": "completed"
    },
    "tags": []
   },
   "outputs": [
    {
     "data": {
      "text/plain": [
       "array([ 23,  45, -36,  12,   0, 100])"
      ]
     },
     "execution_count": 8,
     "metadata": {},
     "output_type": "execute_result"
    }
   ],
   "source": [
    "seri.values"
   ]
  },
  {
   "cell_type": "code",
   "execution_count": 9,
   "id": "5c069584",
   "metadata": {
    "execution": {
     "iopub.execute_input": "2023-07-25T15:18:51.975650Z",
     "iopub.status.busy": "2023-07-25T15:18:51.975237Z",
     "iopub.status.idle": "2023-07-25T15:18:51.981246Z",
     "shell.execute_reply": "2023-07-25T15:18:51.980414Z"
    },
    "papermill": {
     "duration": 0.025921,
     "end_time": "2023-07-25T15:18:51.983166",
     "exception": false,
     "start_time": "2023-07-25T15:18:51.957245",
     "status": "completed"
    },
    "tags": []
   },
   "outputs": [
    {
     "data": {
      "text/plain": [
       "0    23\n",
       "1    45\n",
       "2   -36\n",
       "3    12\n",
       "4     0\n",
       "dtype: int64"
      ]
     },
     "execution_count": 9,
     "metadata": {},
     "output_type": "execute_result"
    }
   ],
   "source": [
    "seri.head()"
   ]
  },
  {
   "cell_type": "code",
   "execution_count": 10,
   "id": "f0b0ed1a",
   "metadata": {
    "execution": {
     "iopub.execute_input": "2023-07-25T15:18:52.018423Z",
     "iopub.status.busy": "2023-07-25T15:18:52.017647Z",
     "iopub.status.idle": "2023-07-25T15:18:52.024268Z",
     "shell.execute_reply": "2023-07-25T15:18:52.023304Z"
    },
    "papermill": {
     "duration": 0.026274,
     "end_time": "2023-07-25T15:18:52.026230",
     "exception": false,
     "start_time": "2023-07-25T15:18:51.999956",
     "status": "completed"
    },
    "tags": []
   },
   "outputs": [
    {
     "data": {
      "text/plain": [
       "0    23\n",
       "1    45\n",
       "2   -36\n",
       "dtype: int64"
      ]
     },
     "execution_count": 10,
     "metadata": {},
     "output_type": "execute_result"
    }
   ],
   "source": [
    "seri.head(3)"
   ]
  },
  {
   "cell_type": "code",
   "execution_count": 11,
   "id": "7e215f73",
   "metadata": {
    "execution": {
     "iopub.execute_input": "2023-07-25T15:18:52.061854Z",
     "iopub.status.busy": "2023-07-25T15:18:52.061094Z",
     "iopub.status.idle": "2023-07-25T15:18:52.067632Z",
     "shell.execute_reply": "2023-07-25T15:18:52.066659Z"
    },
    "papermill": {
     "duration": 0.026209,
     "end_time": "2023-07-25T15:18:52.069564",
     "exception": false,
     "start_time": "2023-07-25T15:18:52.043355",
     "status": "completed"
    },
    "tags": []
   },
   "outputs": [
    {
     "data": {
      "text/plain": [
       "1     45\n",
       "2    -36\n",
       "3     12\n",
       "4      0\n",
       "5    100\n",
       "dtype: int64"
      ]
     },
     "execution_count": 11,
     "metadata": {},
     "output_type": "execute_result"
    }
   ],
   "source": [
    "seri.tail()"
   ]
  },
  {
   "cell_type": "code",
   "execution_count": 12,
   "id": "98854e2e",
   "metadata": {
    "execution": {
     "iopub.execute_input": "2023-07-25T15:18:52.105650Z",
     "iopub.status.busy": "2023-07-25T15:18:52.104859Z",
     "iopub.status.idle": "2023-07-25T15:18:52.111313Z",
     "shell.execute_reply": "2023-07-25T15:18:52.110412Z"
    },
    "papermill": {
     "duration": 0.026194,
     "end_time": "2023-07-25T15:18:52.113227",
     "exception": false,
     "start_time": "2023-07-25T15:18:52.087033",
     "status": "completed"
    },
    "tags": []
   },
   "outputs": [
    {
     "data": {
      "text/plain": [
       "3     12\n",
       "4      0\n",
       "5    100\n",
       "dtype: int64"
      ]
     },
     "execution_count": 12,
     "metadata": {},
     "output_type": "execute_result"
    }
   ],
   "source": [
    "seri.tail(3)"
   ]
  },
  {
   "cell_type": "code",
   "execution_count": 13,
   "id": "9728891d",
   "metadata": {
    "execution": {
     "iopub.execute_input": "2023-07-25T15:18:52.149543Z",
     "iopub.status.busy": "2023-07-25T15:18:52.148738Z",
     "iopub.status.idle": "2023-07-25T15:18:52.152841Z",
     "shell.execute_reply": "2023-07-25T15:18:52.151957Z"
    },
    "papermill": {
     "duration": 0.024173,
     "end_time": "2023-07-25T15:18:52.154801",
     "exception": false,
     "start_time": "2023-07-25T15:18:52.130628",
     "status": "completed"
    },
    "tags": []
   },
   "outputs": [],
   "source": [
    "# index name"
   ]
  },
  {
   "cell_type": "code",
   "execution_count": 14,
   "id": "8b540cd8",
   "metadata": {
    "execution": {
     "iopub.execute_input": "2023-07-25T15:18:52.191306Z",
     "iopub.status.busy": "2023-07-25T15:18:52.190521Z",
     "iopub.status.idle": "2023-07-25T15:18:52.202131Z",
     "shell.execute_reply": "2023-07-25T15:18:52.201185Z"
    },
    "papermill": {
     "duration": 0.03185,
     "end_time": "2023-07-25T15:18:52.204085",
     "exception": false,
     "start_time": "2023-07-25T15:18:52.172235",
     "status": "completed"
    },
    "tags": []
   },
   "outputs": [
    {
     "data": {
      "text/plain": [
       "first       455\n",
       "2           354\n",
       "3          1332\n",
       "4         43553\n",
       "5            90\n",
       "6        string\n",
       "dtype: object"
      ]
     },
     "execution_count": 14,
     "metadata": {},
     "output_type": "execute_result"
    }
   ],
   "source": [
    "pd.Series([455, 354, 1332, 43553, 90, \"string\"], index = [\"first\",2,3,4,5,6])"
   ]
  },
  {
   "cell_type": "code",
   "execution_count": 15,
   "id": "da0917e2",
   "metadata": {
    "execution": {
     "iopub.execute_input": "2023-07-25T15:18:52.240740Z",
     "iopub.status.busy": "2023-07-25T15:18:52.239949Z",
     "iopub.status.idle": "2023-07-25T15:18:52.245185Z",
     "shell.execute_reply": "2023-07-25T15:18:52.244370Z"
    },
    "papermill": {
     "duration": 0.025442,
     "end_time": "2023-07-25T15:18:52.247140",
     "exception": false,
     "start_time": "2023-07-25T15:18:52.221698",
     "status": "completed"
    },
    "tags": []
   },
   "outputs": [],
   "source": [
    "seri = pd.Series([455, 354, 1332, 43553, 90, \"string\"], index = [\"first\",2,3,4,5,6])"
   ]
  },
  {
   "cell_type": "code",
   "execution_count": 16,
   "id": "2018dfca",
   "metadata": {
    "execution": {
     "iopub.execute_input": "2023-07-25T15:18:52.283821Z",
     "iopub.status.busy": "2023-07-25T15:18:52.283024Z",
     "iopub.status.idle": "2023-07-25T15:18:52.289104Z",
     "shell.execute_reply": "2023-07-25T15:18:52.288163Z"
    },
    "papermill": {
     "duration": 0.026561,
     "end_time": "2023-07-25T15:18:52.291079",
     "exception": false,
     "start_time": "2023-07-25T15:18:52.264518",
     "status": "completed"
    },
    "tags": []
   },
   "outputs": [
    {
     "data": {
      "text/plain": [
       "455"
      ]
     },
     "execution_count": 16,
     "metadata": {},
     "output_type": "execute_result"
    }
   ],
   "source": [
    "seri[\"first\"]"
   ]
  },
  {
   "cell_type": "code",
   "execution_count": 17,
   "id": "90cf52d1",
   "metadata": {
    "execution": {
     "iopub.execute_input": "2023-07-25T15:18:52.327691Z",
     "iopub.status.busy": "2023-07-25T15:18:52.326915Z",
     "iopub.status.idle": "2023-07-25T15:18:52.333646Z",
     "shell.execute_reply": "2023-07-25T15:18:52.332754Z"
    },
    "papermill": {
     "duration": 0.026999,
     "end_time": "2023-07-25T15:18:52.335589",
     "exception": false,
     "start_time": "2023-07-25T15:18:52.308590",
     "status": "completed"
    },
    "tags": []
   },
   "outputs": [
    {
     "data": {
      "text/plain": [
       "first      455\n",
       "2          354\n",
       "3         1332\n",
       "4        43553\n",
       "5           90\n",
       "dtype: object"
      ]
     },
     "execution_count": 17,
     "metadata": {},
     "output_type": "execute_result"
    }
   ],
   "source": [
    "seri[\"first\" : 5]"
   ]
  },
  {
   "cell_type": "code",
   "execution_count": 18,
   "id": "545805ff",
   "metadata": {
    "execution": {
     "iopub.execute_input": "2023-07-25T15:18:52.372668Z",
     "iopub.status.busy": "2023-07-25T15:18:52.371876Z",
     "iopub.status.idle": "2023-07-25T15:18:52.377021Z",
     "shell.execute_reply": "2023-07-25T15:18:52.376174Z"
    },
    "papermill": {
     "duration": 0.025579,
     "end_time": "2023-07-25T15:18:52.378983",
     "exception": false,
     "start_time": "2023-07-25T15:18:52.353404",
     "status": "completed"
    },
    "tags": []
   },
   "outputs": [],
   "source": [
    "dict = pd.Series({\"james\" :10,\n",
    "                 \"elena\" : 34,\n",
    "                  \"william\": 29,\n",
    "                  \"mila\": 22                 \n",
    "                 })"
   ]
  },
  {
   "cell_type": "code",
   "execution_count": 19,
   "id": "4db5cdeb",
   "metadata": {
    "execution": {
     "iopub.execute_input": "2023-07-25T15:18:52.415911Z",
     "iopub.status.busy": "2023-07-25T15:18:52.415309Z",
     "iopub.status.idle": "2023-07-25T15:18:52.421765Z",
     "shell.execute_reply": "2023-07-25T15:18:52.420894Z"
    },
    "papermill": {
     "duration": 0.027023,
     "end_time": "2023-07-25T15:18:52.423710",
     "exception": false,
     "start_time": "2023-07-25T15:18:52.396687",
     "status": "completed"
    },
    "tags": []
   },
   "outputs": [
    {
     "data": {
      "text/plain": [
       "james      10\n",
       "elena      34\n",
       "william    29\n",
       "mila       22\n",
       "dtype: int64"
      ]
     },
     "execution_count": 19,
     "metadata": {},
     "output_type": "execute_result"
    }
   ],
   "source": [
    "dict"
   ]
  },
  {
   "cell_type": "code",
   "execution_count": 20,
   "id": "a9acc798",
   "metadata": {
    "execution": {
     "iopub.execute_input": "2023-07-25T15:18:52.464028Z",
     "iopub.status.busy": "2023-07-25T15:18:52.462526Z",
     "iopub.status.idle": "2023-07-25T15:18:52.471866Z",
     "shell.execute_reply": "2023-07-25T15:18:52.470925Z"
    },
    "papermill": {
     "duration": 0.032209,
     "end_time": "2023-07-25T15:18:52.473789",
     "exception": false,
     "start_time": "2023-07-25T15:18:52.441580",
     "status": "completed"
    },
    "tags": []
   },
   "outputs": [
    {
     "data": {
      "text/plain": [
       "james      10\n",
       "elena      34\n",
       "william    29\n",
       "dtype: int64"
      ]
     },
     "execution_count": 20,
     "metadata": {},
     "output_type": "execute_result"
    }
   ],
   "source": [
    "dict[\"james\" : \"william\"]"
   ]
  },
  {
   "cell_type": "code",
   "execution_count": 21,
   "id": "7eea5845",
   "metadata": {
    "execution": {
     "iopub.execute_input": "2023-07-25T15:18:52.511371Z",
     "iopub.status.busy": "2023-07-25T15:18:52.510770Z",
     "iopub.status.idle": "2023-07-25T15:18:52.518451Z",
     "shell.execute_reply": "2023-07-25T15:18:52.517559Z"
    },
    "papermill": {
     "duration": 0.028649,
     "end_time": "2023-07-25T15:18:52.520433",
     "exception": false,
     "start_time": "2023-07-25T15:18:52.491784",
     "status": "completed"
    },
    "tags": []
   },
   "outputs": [
    {
     "data": {
      "text/plain": [
       "james          10\n",
       "elena          34\n",
       "william        29\n",
       "mila           22\n",
       "first         455\n",
       "2             354\n",
       "3            1332\n",
       "4           43553\n",
       "5              90\n",
       "6          string\n",
       "dtype: object"
      ]
     },
     "execution_count": 21,
     "metadata": {},
     "output_type": "execute_result"
    }
   ],
   "source": [
    "pd.concat([dict, seri])"
   ]
  },
  {
   "cell_type": "code",
   "execution_count": 22,
   "id": "51b217df",
   "metadata": {
    "execution": {
     "iopub.execute_input": "2023-07-25T15:18:52.558649Z",
     "iopub.status.busy": "2023-07-25T15:18:52.557831Z",
     "iopub.status.idle": "2023-07-25T15:18:52.567170Z",
     "shell.execute_reply": "2023-07-25T15:18:52.566196Z"
    },
    "papermill": {
     "duration": 0.030455,
     "end_time": "2023-07-25T15:18:52.569111",
     "exception": false,
     "start_time": "2023-07-25T15:18:52.538656",
     "status": "completed"
    },
    "tags": []
   },
   "outputs": [
    {
     "data": {
      "text/plain": [
       "0    23\n",
       "1    42\n",
       "2    13\n",
       "3    90\n",
       "4    80\n",
       "5    68\n",
       "dtype: int64"
      ]
     },
     "execution_count": 22,
     "metadata": {},
     "output_type": "execute_result"
    }
   ],
   "source": [
    "import numpy as np\n",
    "\n",
    "x = np.array([23, 42, 13, 90, 80, 68])\n",
    "\n",
    "seri = pd.Series(x)\n",
    "\n",
    "seri"
   ]
  },
  {
   "cell_type": "code",
   "execution_count": 23,
   "id": "ade07a37",
   "metadata": {
    "execution": {
     "iopub.execute_input": "2023-07-25T15:18:52.607345Z",
     "iopub.status.busy": "2023-07-25T15:18:52.606622Z",
     "iopub.status.idle": "2023-07-25T15:18:52.613402Z",
     "shell.execute_reply": "2023-07-25T15:18:52.612436Z"
    },
    "papermill": {
     "duration": 0.027993,
     "end_time": "2023-07-25T15:18:52.615377",
     "exception": false,
     "start_time": "2023-07-25T15:18:52.587384",
     "status": "completed"
    },
    "tags": []
   },
   "outputs": [
    {
     "data": {
      "text/plain": [
       "0    23\n",
       "1    42\n",
       "2    13\n",
       "3    90\n",
       "dtype: int64"
      ]
     },
     "execution_count": 23,
     "metadata": {},
     "output_type": "execute_result"
    }
   ],
   "source": [
    "seri[0:4]"
   ]
  },
  {
   "cell_type": "code",
   "execution_count": 24,
   "id": "293d6b62",
   "metadata": {
    "execution": {
     "iopub.execute_input": "2023-07-25T15:18:52.653734Z",
     "iopub.status.busy": "2023-07-25T15:18:52.653020Z",
     "iopub.status.idle": "2023-07-25T15:18:52.659686Z",
     "shell.execute_reply": "2023-07-25T15:18:52.658738Z"
    },
    "papermill": {
     "duration": 0.027801,
     "end_time": "2023-07-25T15:18:52.661637",
     "exception": false,
     "start_time": "2023-07-25T15:18:52.633836",
     "status": "completed"
    },
    "tags": []
   },
   "outputs": [
    {
     "data": {
      "text/plain": [
       "4    80\n",
       "5    68\n",
       "dtype: int64"
      ]
     },
     "execution_count": 24,
     "metadata": {},
     "output_type": "execute_result"
    }
   ],
   "source": [
    "seri[4:]"
   ]
  },
  {
   "cell_type": "code",
   "execution_count": 25,
   "id": "ab03807a",
   "metadata": {
    "execution": {
     "iopub.execute_input": "2023-07-25T15:18:52.700488Z",
     "iopub.status.busy": "2023-07-25T15:18:52.699753Z",
     "iopub.status.idle": "2023-07-25T15:18:52.705987Z",
     "shell.execute_reply": "2023-07-25T15:18:52.704999Z"
    },
    "papermill": {
     "duration": 0.027696,
     "end_time": "2023-07-25T15:18:52.707954",
     "exception": false,
     "start_time": "2023-07-25T15:18:52.680258",
     "status": "completed"
    },
    "tags": []
   },
   "outputs": [
    {
     "data": {
      "text/plain": [
       "<bound method Series.keys of 0    23\n",
       "1    42\n",
       "2    13\n",
       "3    90\n",
       "4    80\n",
       "5    68\n",
       "dtype: int64>"
      ]
     },
     "execution_count": 25,
     "metadata": {},
     "output_type": "execute_result"
    }
   ],
   "source": [
    "seri.keys"
   ]
  },
  {
   "cell_type": "code",
   "execution_count": 26,
   "id": "ad1fe107",
   "metadata": {
    "execution": {
     "iopub.execute_input": "2023-07-25T15:18:52.746989Z",
     "iopub.status.busy": "2023-07-25T15:18:52.746482Z",
     "iopub.status.idle": "2023-07-25T15:18:52.751918Z",
     "shell.execute_reply": "2023-07-25T15:18:52.751068Z"
    },
    "papermill": {
     "duration": 0.026945,
     "end_time": "2023-07-25T15:18:52.753829",
     "exception": false,
     "start_time": "2023-07-25T15:18:52.726884",
     "status": "completed"
    },
    "tags": []
   },
   "outputs": [
    {
     "data": {
      "text/plain": [
       "RangeIndex(start=0, stop=6, step=1)"
      ]
     },
     "execution_count": 26,
     "metadata": {},
     "output_type": "execute_result"
    }
   ],
   "source": [
    "seri.index"
   ]
  },
  {
   "cell_type": "code",
   "execution_count": 27,
   "id": "14db57c5",
   "metadata": {
    "execution": {
     "iopub.execute_input": "2023-07-25T15:18:52.793482Z",
     "iopub.status.busy": "2023-07-25T15:18:52.792749Z",
     "iopub.status.idle": "2023-07-25T15:18:52.799065Z",
     "shell.execute_reply": "2023-07-25T15:18:52.798172Z"
    },
    "papermill": {
     "duration": 0.027967,
     "end_time": "2023-07-25T15:18:52.800994",
     "exception": false,
     "start_time": "2023-07-25T15:18:52.773027",
     "status": "completed"
    },
    "tags": []
   },
   "outputs": [
    {
     "data": {
      "text/plain": [
       "[(0, 23), (1, 42), (2, 13), (3, 90), (4, 80), (5, 68)]"
      ]
     },
     "execution_count": 27,
     "metadata": {},
     "output_type": "execute_result"
    }
   ],
   "source": [
    "list(seri.items())"
   ]
  },
  {
   "cell_type": "code",
   "execution_count": 28,
   "id": "4eeb0fa9",
   "metadata": {
    "execution": {
     "iopub.execute_input": "2023-07-25T15:18:52.840423Z",
     "iopub.status.busy": "2023-07-25T15:18:52.839697Z",
     "iopub.status.idle": "2023-07-25T15:18:52.845955Z",
     "shell.execute_reply": "2023-07-25T15:18:52.844892Z"
    },
    "papermill": {
     "duration": 0.027984,
     "end_time": "2023-07-25T15:18:52.847991",
     "exception": false,
     "start_time": "2023-07-25T15:18:52.820007",
     "status": "completed"
    },
    "tags": []
   },
   "outputs": [
    {
     "data": {
      "text/plain": [
       "array([23, 42, 13, 90, 80, 68])"
      ]
     },
     "execution_count": 28,
     "metadata": {},
     "output_type": "execute_result"
    }
   ],
   "source": [
    "seri.values"
   ]
  },
  {
   "cell_type": "code",
   "execution_count": 29,
   "id": "63adf397",
   "metadata": {
    "execution": {
     "iopub.execute_input": "2023-07-25T15:18:52.888304Z",
     "iopub.status.busy": "2023-07-25T15:18:52.887605Z",
     "iopub.status.idle": "2023-07-25T15:18:52.894013Z",
     "shell.execute_reply": "2023-07-25T15:18:52.893055Z"
    },
    "papermill": {
     "duration": 0.028481,
     "end_time": "2023-07-25T15:18:52.896020",
     "exception": false,
     "start_time": "2023-07-25T15:18:52.867539",
     "status": "completed"
    },
    "tags": []
   },
   "outputs": [
    {
     "data": {
      "text/plain": [
       "0    23\n",
       "1    42\n",
       "2    13\n",
       "3    90\n",
       "4    80\n",
       "5    68\n",
       "dtype: int64"
      ]
     },
     "execution_count": 29,
     "metadata": {},
     "output_type": "execute_result"
    }
   ],
   "source": [
    "seri"
   ]
  },
  {
   "cell_type": "code",
   "execution_count": 30,
   "id": "c9e97de2",
   "metadata": {
    "execution": {
     "iopub.execute_input": "2023-07-25T15:18:52.935850Z",
     "iopub.status.busy": "2023-07-25T15:18:52.934993Z",
     "iopub.status.idle": "2023-07-25T15:18:52.940967Z",
     "shell.execute_reply": "2023-07-25T15:18:52.940053Z"
    },
    "papermill": {
     "duration": 0.027866,
     "end_time": "2023-07-25T15:18:52.942951",
     "exception": false,
     "start_time": "2023-07-25T15:18:52.915085",
     "status": "completed"
    },
    "tags": []
   },
   "outputs": [
    {
     "data": {
      "text/plain": [
       "True"
      ]
     },
     "execution_count": 30,
     "metadata": {},
     "output_type": "execute_result"
    }
   ],
   "source": [
    "4 in seri "
   ]
  },
  {
   "cell_type": "code",
   "execution_count": 31,
   "id": "3fc885f1",
   "metadata": {
    "execution": {
     "iopub.execute_input": "2023-07-25T15:18:52.983332Z",
     "iopub.status.busy": "2023-07-25T15:18:52.982624Z",
     "iopub.status.idle": "2023-07-25T15:18:52.988509Z",
     "shell.execute_reply": "2023-07-25T15:18:52.987558Z"
    },
    "papermill": {
     "duration": 0.027981,
     "end_time": "2023-07-25T15:18:52.990429",
     "exception": false,
     "start_time": "2023-07-25T15:18:52.962448",
     "status": "completed"
    },
    "tags": []
   },
   "outputs": [
    {
     "data": {
      "text/plain": [
       "False"
      ]
     },
     "execution_count": 31,
     "metadata": {},
     "output_type": "execute_result"
    }
   ],
   "source": [
    "42 in seri"
   ]
  },
  {
   "cell_type": "code",
   "execution_count": 32,
   "id": "6d8e5ddf",
   "metadata": {
    "execution": {
     "iopub.execute_input": "2023-07-25T15:18:53.030664Z",
     "iopub.status.busy": "2023-07-25T15:18:53.029930Z",
     "iopub.status.idle": "2023-07-25T15:18:53.035756Z",
     "shell.execute_reply": "2023-07-25T15:18:53.034816Z"
    },
    "papermill": {
     "duration": 0.027941,
     "end_time": "2023-07-25T15:18:53.037696",
     "exception": false,
     "start_time": "2023-07-25T15:18:53.009755",
     "status": "completed"
    },
    "tags": []
   },
   "outputs": [
    {
     "data": {
      "text/plain": [
       "[20, 43, 12, 98, 36]"
      ]
     },
     "execution_count": 32,
     "metadata": {},
     "output_type": "execute_result"
    }
   ],
   "source": [
    "\n",
    "l = [20, 43, 12, 98, 36]\n",
    "l"
   ]
  },
  {
   "cell_type": "code",
   "execution_count": 33,
   "id": "09e739d0",
   "metadata": {
    "execution": {
     "iopub.execute_input": "2023-07-25T15:18:53.077846Z",
     "iopub.status.busy": "2023-07-25T15:18:53.077344Z",
     "iopub.status.idle": "2023-07-25T15:18:53.088249Z",
     "shell.execute_reply": "2023-07-25T15:18:53.087308Z"
    },
    "papermill": {
     "duration": 0.033067,
     "end_time": "2023-07-25T15:18:53.090172",
     "exception": false,
     "start_time": "2023-07-25T15:18:53.057105",
     "status": "completed"
    },
    "tags": []
   },
   "outputs": [
    {
     "data": {
      "text/html": [
       "<div>\n",
       "<style scoped>\n",
       "    .dataframe tbody tr th:only-of-type {\n",
       "        vertical-align: middle;\n",
       "    }\n",
       "\n",
       "    .dataframe tbody tr th {\n",
       "        vertical-align: top;\n",
       "    }\n",
       "\n",
       "    .dataframe thead th {\n",
       "        text-align: right;\n",
       "    }\n",
       "</style>\n",
       "<table border=\"1\" class=\"dataframe\">\n",
       "  <thead>\n",
       "    <tr style=\"text-align: right;\">\n",
       "      <th></th>\n",
       "      <th>col name</th>\n",
       "    </tr>\n",
       "  </thead>\n",
       "  <tbody>\n",
       "    <tr>\n",
       "      <th>0</th>\n",
       "      <td>20</td>\n",
       "    </tr>\n",
       "    <tr>\n",
       "      <th>1</th>\n",
       "      <td>43</td>\n",
       "    </tr>\n",
       "    <tr>\n",
       "      <th>2</th>\n",
       "      <td>12</td>\n",
       "    </tr>\n",
       "    <tr>\n",
       "      <th>3</th>\n",
       "      <td>98</td>\n",
       "    </tr>\n",
       "    <tr>\n",
       "      <th>4</th>\n",
       "      <td>36</td>\n",
       "    </tr>\n",
       "  </tbody>\n",
       "</table>\n",
       "</div>"
      ],
      "text/plain": [
       "   col name\n",
       "0        20\n",
       "1        43\n",
       "2        12\n",
       "3        98\n",
       "4        36"
      ]
     },
     "execution_count": 33,
     "metadata": {},
     "output_type": "execute_result"
    }
   ],
   "source": [
    "pd.DataFrame(l, columns = [\"col name\"])"
   ]
  },
  {
   "cell_type": "code",
   "execution_count": 34,
   "id": "4ab8c88a",
   "metadata": {
    "execution": {
     "iopub.execute_input": "2023-07-25T15:18:53.131450Z",
     "iopub.status.busy": "2023-07-25T15:18:53.130740Z",
     "iopub.status.idle": "2023-07-25T15:18:53.134813Z",
     "shell.execute_reply": "2023-07-25T15:18:53.133977Z"
    },
    "papermill": {
     "duration": 0.026487,
     "end_time": "2023-07-25T15:18:53.136793",
     "exception": false,
     "start_time": "2023-07-25T15:18:53.110306",
     "status": "completed"
    },
    "tags": []
   },
   "outputs": [],
   "source": [
    "import numpy as np"
   ]
  },
  {
   "cell_type": "code",
   "execution_count": 35,
   "id": "909367e2",
   "metadata": {
    "execution": {
     "iopub.execute_input": "2023-07-25T15:18:53.177585Z",
     "iopub.status.busy": "2023-07-25T15:18:53.176759Z",
     "iopub.status.idle": "2023-07-25T15:18:53.184995Z",
     "shell.execute_reply": "2023-07-25T15:18:53.184054Z"
    },
    "papermill": {
     "duration": 0.032754,
     "end_time": "2023-07-25T15:18:53.189095",
     "exception": false,
     "start_time": "2023-07-25T15:18:53.156341",
     "status": "completed"
    },
    "tags": []
   },
   "outputs": [
    {
     "data": {
      "text/plain": [
       "array([2, 3, 1, 0, 2])"
      ]
     },
     "execution_count": 35,
     "metadata": {},
     "output_type": "execute_result"
    }
   ],
   "source": [
    "k1 = np.random.randint(10, size = 5)\n",
    "k2 = np.random.randint(10, size = 5)\n",
    "k3 = np.random.randint(10, size = 5)\n",
    "k1"
   ]
  },
  {
   "cell_type": "code",
   "execution_count": 36,
   "id": "b8c3c691",
   "metadata": {
    "execution": {
     "iopub.execute_input": "2023-07-25T15:18:53.231265Z",
     "iopub.status.busy": "2023-07-25T15:18:53.231005Z",
     "iopub.status.idle": "2023-07-25T15:18:53.237258Z",
     "shell.execute_reply": "2023-07-25T15:18:53.236328Z"
    },
    "papermill": {
     "duration": 0.028583,
     "end_time": "2023-07-25T15:18:53.239211",
     "exception": false,
     "start_time": "2023-07-25T15:18:53.210628",
     "status": "completed"
    },
    "tags": []
   },
   "outputs": [
    {
     "data": {
      "text/plain": [
       "{'var1': array([2, 3, 1, 0, 2]),\n",
       " 'var2': array([0, 1, 6, 2, 8]),\n",
       " 'var3': array([1, 2, 6, 6, 6])}"
      ]
     },
     "execution_count": 36,
     "metadata": {},
     "output_type": "execute_result"
    }
   ],
   "source": [
    "dict = {\"var1\":k1,\n",
    "        \"var2\":k2,\n",
    "        \"var3\":k3\n",
    "       }\n",
    "\n",
    "dict"
   ]
  },
  {
   "cell_type": "code",
   "execution_count": 37,
   "id": "36cb422f",
   "metadata": {
    "execution": {
     "iopub.execute_input": "2023-07-25T15:18:53.280870Z",
     "iopub.status.busy": "2023-07-25T15:18:53.280342Z",
     "iopub.status.idle": "2023-07-25T15:18:53.284589Z",
     "shell.execute_reply": "2023-07-25T15:18:53.283746Z"
    },
    "papermill": {
     "duration": 0.026882,
     "end_time": "2023-07-25T15:18:53.286596",
     "exception": false,
     "start_time": "2023-07-25T15:18:53.259714",
     "status": "completed"
    },
    "tags": []
   },
   "outputs": [],
   "source": [
    "import pandas as pd"
   ]
  },
  {
   "cell_type": "code",
   "execution_count": 38,
   "id": "2d2985fd",
   "metadata": {
    "execution": {
     "iopub.execute_input": "2023-07-25T15:18:53.328482Z",
     "iopub.status.busy": "2023-07-25T15:18:53.327048Z",
     "iopub.status.idle": "2023-07-25T15:18:53.336411Z",
     "shell.execute_reply": "2023-07-25T15:18:53.335400Z"
    },
    "papermill": {
     "duration": 0.031947,
     "end_time": "2023-07-25T15:18:53.338379",
     "exception": false,
     "start_time": "2023-07-25T15:18:53.306432",
     "status": "completed"
    },
    "tags": []
   },
   "outputs": [
    {
     "data": {
      "text/html": [
       "<div>\n",
       "<style scoped>\n",
       "    .dataframe tbody tr th:only-of-type {\n",
       "        vertical-align: middle;\n",
       "    }\n",
       "\n",
       "    .dataframe tbody tr th {\n",
       "        vertical-align: top;\n",
       "    }\n",
       "\n",
       "    .dataframe thead th {\n",
       "        text-align: right;\n",
       "    }\n",
       "</style>\n",
       "<table border=\"1\" class=\"dataframe\">\n",
       "  <thead>\n",
       "    <tr style=\"text-align: right;\">\n",
       "      <th></th>\n",
       "      <th>var1</th>\n",
       "      <th>var2</th>\n",
       "      <th>var3</th>\n",
       "    </tr>\n",
       "  </thead>\n",
       "  <tbody>\n",
       "    <tr>\n",
       "      <th>0</th>\n",
       "      <td>2</td>\n",
       "      <td>0</td>\n",
       "      <td>1</td>\n",
       "    </tr>\n",
       "    <tr>\n",
       "      <th>1</th>\n",
       "      <td>3</td>\n",
       "      <td>1</td>\n",
       "      <td>2</td>\n",
       "    </tr>\n",
       "    <tr>\n",
       "      <th>2</th>\n",
       "      <td>1</td>\n",
       "      <td>6</td>\n",
       "      <td>6</td>\n",
       "    </tr>\n",
       "    <tr>\n",
       "      <th>3</th>\n",
       "      <td>0</td>\n",
       "      <td>2</td>\n",
       "      <td>6</td>\n",
       "    </tr>\n",
       "    <tr>\n",
       "      <th>4</th>\n",
       "      <td>2</td>\n",
       "      <td>8</td>\n",
       "      <td>6</td>\n",
       "    </tr>\n",
       "  </tbody>\n",
       "</table>\n",
       "</div>"
      ],
      "text/plain": [
       "   var1  var2  var3\n",
       "0     2     0     1\n",
       "1     3     1     2\n",
       "2     1     6     6\n",
       "3     0     2     6\n",
       "4     2     8     6"
      ]
     },
     "execution_count": 38,
     "metadata": {},
     "output_type": "execute_result"
    }
   ],
   "source": [
    "df = pd.DataFrame(dict)\n",
    "df"
   ]
  },
  {
   "cell_type": "code",
   "execution_count": 39,
   "id": "195a7001",
   "metadata": {
    "execution": {
     "iopub.execute_input": "2023-07-25T15:18:53.380692Z",
     "iopub.status.busy": "2023-07-25T15:18:53.379910Z",
     "iopub.status.idle": "2023-07-25T15:18:53.388165Z",
     "shell.execute_reply": "2023-07-25T15:18:53.387252Z"
    },
    "papermill": {
     "duration": 0.031092,
     "end_time": "2023-07-25T15:18:53.390186",
     "exception": false,
     "start_time": "2023-07-25T15:18:53.359094",
     "status": "completed"
    },
    "tags": []
   },
   "outputs": [
    {
     "data": {
      "text/html": [
       "<div>\n",
       "<style scoped>\n",
       "    .dataframe tbody tr th:only-of-type {\n",
       "        vertical-align: middle;\n",
       "    }\n",
       "\n",
       "    .dataframe tbody tr th {\n",
       "        vertical-align: top;\n",
       "    }\n",
       "\n",
       "    .dataframe thead th {\n",
       "        text-align: right;\n",
       "    }\n",
       "</style>\n",
       "<table border=\"1\" class=\"dataframe\">\n",
       "  <thead>\n",
       "    <tr style=\"text-align: right;\">\n",
       "      <th></th>\n",
       "      <th>var1</th>\n",
       "      <th>var2</th>\n",
       "      <th>var3</th>\n",
       "    </tr>\n",
       "  </thead>\n",
       "  <tbody>\n",
       "    <tr>\n",
       "      <th>0</th>\n",
       "      <td>2</td>\n",
       "      <td>0</td>\n",
       "      <td>1</td>\n",
       "    </tr>\n",
       "  </tbody>\n",
       "</table>\n",
       "</div>"
      ],
      "text/plain": [
       "   var1  var2  var3\n",
       "0     2     0     1"
      ]
     },
     "execution_count": 39,
     "metadata": {},
     "output_type": "execute_result"
    }
   ],
   "source": [
    "df[0:1]"
   ]
  },
  {
   "cell_type": "code",
   "execution_count": 40,
   "id": "b573b772",
   "metadata": {
    "execution": {
     "iopub.execute_input": "2023-07-25T15:18:53.432946Z",
     "iopub.status.busy": "2023-07-25T15:18:53.432203Z",
     "iopub.status.idle": "2023-07-25T15:18:53.438190Z",
     "shell.execute_reply": "2023-07-25T15:18:53.437289Z"
    },
    "papermill": {
     "duration": 0.029483,
     "end_time": "2023-07-25T15:18:53.440106",
     "exception": false,
     "start_time": "2023-07-25T15:18:53.410623",
     "status": "completed"
    },
    "tags": []
   },
   "outputs": [
    {
     "data": {
      "text/plain": [
       "RangeIndex(start=0, stop=5, step=1)"
      ]
     },
     "execution_count": 40,
     "metadata": {},
     "output_type": "execute_result"
    }
   ],
   "source": [
    "df.index"
   ]
  },
  {
   "cell_type": "code",
   "execution_count": 41,
   "id": "4df97ebd",
   "metadata": {
    "execution": {
     "iopub.execute_input": "2023-07-25T15:18:53.484386Z",
     "iopub.status.busy": "2023-07-25T15:18:53.484130Z",
     "iopub.status.idle": "2023-07-25T15:18:53.488434Z",
     "shell.execute_reply": "2023-07-25T15:18:53.487542Z"
    },
    "papermill": {
     "duration": 0.027527,
     "end_time": "2023-07-25T15:18:53.490518",
     "exception": false,
     "start_time": "2023-07-25T15:18:53.462991",
     "status": "completed"
    },
    "tags": []
   },
   "outputs": [],
   "source": [
    "df.index = [\"x\", \"y\", \"z\", \"q\", \"w\"]"
   ]
  },
  {
   "cell_type": "code",
   "execution_count": 42,
   "id": "014a0d99",
   "metadata": {
    "execution": {
     "iopub.execute_input": "2023-07-25T15:18:53.533358Z",
     "iopub.status.busy": "2023-07-25T15:18:53.533098Z",
     "iopub.status.idle": "2023-07-25T15:18:53.538658Z",
     "shell.execute_reply": "2023-07-25T15:18:53.537797Z"
    },
    "papermill": {
     "duration": 0.028774,
     "end_time": "2023-07-25T15:18:53.540543",
     "exception": false,
     "start_time": "2023-07-25T15:18:53.511769",
     "status": "completed"
    },
    "tags": []
   },
   "outputs": [
    {
     "data": {
      "text/plain": [
       "Index(['x', 'y', 'z', 'q', 'w'], dtype='object')"
      ]
     },
     "execution_count": 42,
     "metadata": {},
     "output_type": "execute_result"
    }
   ],
   "source": [
    "df.index"
   ]
  },
  {
   "cell_type": "code",
   "execution_count": 43,
   "id": "e16cdaae",
   "metadata": {
    "execution": {
     "iopub.execute_input": "2023-07-25T15:18:53.583346Z",
     "iopub.status.busy": "2023-07-25T15:18:53.582578Z",
     "iopub.status.idle": "2023-07-25T15:18:53.591558Z",
     "shell.execute_reply": "2023-07-25T15:18:53.590519Z"
    },
    "papermill": {
     "duration": 0.032666,
     "end_time": "2023-07-25T15:18:53.593684",
     "exception": false,
     "start_time": "2023-07-25T15:18:53.561018",
     "status": "completed"
    },
    "tags": []
   },
   "outputs": [
    {
     "data": {
      "text/html": [
       "<div>\n",
       "<style scoped>\n",
       "    .dataframe tbody tr th:only-of-type {\n",
       "        vertical-align: middle;\n",
       "    }\n",
       "\n",
       "    .dataframe tbody tr th {\n",
       "        vertical-align: top;\n",
       "    }\n",
       "\n",
       "    .dataframe thead th {\n",
       "        text-align: right;\n",
       "    }\n",
       "</style>\n",
       "<table border=\"1\" class=\"dataframe\">\n",
       "  <thead>\n",
       "    <tr style=\"text-align: right;\">\n",
       "      <th></th>\n",
       "      <th>var1</th>\n",
       "      <th>var2</th>\n",
       "      <th>var3</th>\n",
       "    </tr>\n",
       "  </thead>\n",
       "  <tbody>\n",
       "    <tr>\n",
       "      <th>x</th>\n",
       "      <td>2</td>\n",
       "      <td>0</td>\n",
       "      <td>1</td>\n",
       "    </tr>\n",
       "    <tr>\n",
       "      <th>y</th>\n",
       "      <td>3</td>\n",
       "      <td>1</td>\n",
       "      <td>2</td>\n",
       "    </tr>\n",
       "    <tr>\n",
       "      <th>z</th>\n",
       "      <td>1</td>\n",
       "      <td>6</td>\n",
       "      <td>6</td>\n",
       "    </tr>\n",
       "    <tr>\n",
       "      <th>q</th>\n",
       "      <td>0</td>\n",
       "      <td>2</td>\n",
       "      <td>6</td>\n",
       "    </tr>\n",
       "    <tr>\n",
       "      <th>w</th>\n",
       "      <td>2</td>\n",
       "      <td>8</td>\n",
       "      <td>6</td>\n",
       "    </tr>\n",
       "  </tbody>\n",
       "</table>\n",
       "</div>"
      ],
      "text/plain": [
       "   var1  var2  var3\n",
       "x     2     0     1\n",
       "y     3     1     2\n",
       "z     1     6     6\n",
       "q     0     2     6\n",
       "w     2     8     6"
      ]
     },
     "execution_count": 43,
     "metadata": {},
     "output_type": "execute_result"
    }
   ],
   "source": [
    "df"
   ]
  },
  {
   "cell_type": "code",
   "execution_count": 44,
   "id": "f90c4c30",
   "metadata": {
    "execution": {
     "iopub.execute_input": "2023-07-25T15:18:53.639294Z",
     "iopub.status.busy": "2023-07-25T15:18:53.638588Z",
     "iopub.status.idle": "2023-07-25T15:18:53.647128Z",
     "shell.execute_reply": "2023-07-25T15:18:53.646082Z"
    },
    "papermill": {
     "duration": 0.032438,
     "end_time": "2023-07-25T15:18:53.649242",
     "exception": false,
     "start_time": "2023-07-25T15:18:53.616804",
     "status": "completed"
    },
    "tags": []
   },
   "outputs": [
    {
     "data": {
      "text/html": [
       "<div>\n",
       "<style scoped>\n",
       "    .dataframe tbody tr th:only-of-type {\n",
       "        vertical-align: middle;\n",
       "    }\n",
       "\n",
       "    .dataframe tbody tr th {\n",
       "        vertical-align: top;\n",
       "    }\n",
       "\n",
       "    .dataframe thead th {\n",
       "        text-align: right;\n",
       "    }\n",
       "</style>\n",
       "<table border=\"1\" class=\"dataframe\">\n",
       "  <thead>\n",
       "    <tr style=\"text-align: right;\">\n",
       "      <th></th>\n",
       "      <th>var1</th>\n",
       "      <th>var2</th>\n",
       "      <th>var3</th>\n",
       "    </tr>\n",
       "  </thead>\n",
       "  <tbody>\n",
       "    <tr>\n",
       "      <th>y</th>\n",
       "      <td>3</td>\n",
       "      <td>1</td>\n",
       "      <td>2</td>\n",
       "    </tr>\n",
       "    <tr>\n",
       "      <th>z</th>\n",
       "      <td>1</td>\n",
       "      <td>6</td>\n",
       "      <td>6</td>\n",
       "    </tr>\n",
       "    <tr>\n",
       "      <th>q</th>\n",
       "      <td>0</td>\n",
       "      <td>2</td>\n",
       "      <td>6</td>\n",
       "    </tr>\n",
       "  </tbody>\n",
       "</table>\n",
       "</div>"
      ],
      "text/plain": [
       "   var1  var2  var3\n",
       "y     3     1     2\n",
       "z     1     6     6\n",
       "q     0     2     6"
      ]
     },
     "execution_count": 44,
     "metadata": {},
     "output_type": "execute_result"
    }
   ],
   "source": [
    "df[\n",
    "    \"y\" : \"q\"\n",
    "]"
   ]
  },
  {
   "cell_type": "code",
   "execution_count": 45,
   "id": "74c3f746",
   "metadata": {
    "execution": {
     "iopub.execute_input": "2023-07-25T15:18:53.694020Z",
     "iopub.status.busy": "2023-07-25T15:18:53.693246Z",
     "iopub.status.idle": "2023-07-25T15:18:53.701556Z",
     "shell.execute_reply": "2023-07-25T15:18:53.700658Z"
    },
    "papermill": {
     "duration": 0.031897,
     "end_time": "2023-07-25T15:18:53.703526",
     "exception": false,
     "start_time": "2023-07-25T15:18:53.671629",
     "status": "completed"
    },
    "tags": []
   },
   "outputs": [
    {
     "data": {
      "text/html": [
       "<div>\n",
       "<style scoped>\n",
       "    .dataframe tbody tr th:only-of-type {\n",
       "        vertical-align: middle;\n",
       "    }\n",
       "\n",
       "    .dataframe tbody tr th {\n",
       "        vertical-align: top;\n",
       "    }\n",
       "\n",
       "    .dataframe thead th {\n",
       "        text-align: right;\n",
       "    }\n",
       "</style>\n",
       "<table border=\"1\" class=\"dataframe\">\n",
       "  <thead>\n",
       "    <tr style=\"text-align: right;\">\n",
       "      <th></th>\n",
       "      <th>var1</th>\n",
       "      <th>var2</th>\n",
       "      <th>var3</th>\n",
       "    </tr>\n",
       "  </thead>\n",
       "  <tbody>\n",
       "    <tr>\n",
       "      <th>x</th>\n",
       "      <td>2</td>\n",
       "      <td>0</td>\n",
       "      <td>1</td>\n",
       "    </tr>\n",
       "    <tr>\n",
       "      <th>y</th>\n",
       "      <td>3</td>\n",
       "      <td>1</td>\n",
       "      <td>2</td>\n",
       "    </tr>\n",
       "    <tr>\n",
       "      <th>z</th>\n",
       "      <td>1</td>\n",
       "      <td>6</td>\n",
       "      <td>6</td>\n",
       "    </tr>\n",
       "    <tr>\n",
       "      <th>q</th>\n",
       "      <td>0</td>\n",
       "      <td>2</td>\n",
       "      <td>6</td>\n",
       "    </tr>\n",
       "    <tr>\n",
       "      <th>w</th>\n",
       "      <td>2</td>\n",
       "      <td>8</td>\n",
       "      <td>6</td>\n",
       "    </tr>\n",
       "  </tbody>\n",
       "</table>\n",
       "</div>"
      ],
      "text/plain": [
       "   var1  var2  var3\n",
       "x     2     0     1\n",
       "y     3     1     2\n",
       "z     1     6     6\n",
       "q     0     2     6\n",
       "w     2     8     6"
      ]
     },
     "execution_count": 45,
     "metadata": {},
     "output_type": "execute_result"
    }
   ],
   "source": [
    "df"
   ]
  },
  {
   "cell_type": "code",
   "execution_count": 46,
   "id": "5ed39d47",
   "metadata": {
    "execution": {
     "iopub.execute_input": "2023-07-25T15:18:53.749289Z",
     "iopub.status.busy": "2023-07-25T15:18:53.748485Z",
     "iopub.status.idle": "2023-07-25T15:18:53.758822Z",
     "shell.execute_reply": "2023-07-25T15:18:53.757817Z"
    },
    "papermill": {
     "duration": 0.034652,
     "end_time": "2023-07-25T15:18:53.760860",
     "exception": false,
     "start_time": "2023-07-25T15:18:53.726208",
     "status": "completed"
    },
    "tags": []
   },
   "outputs": [
    {
     "data": {
      "text/html": [
       "<div>\n",
       "<style scoped>\n",
       "    .dataframe tbody tr th:only-of-type {\n",
       "        vertical-align: middle;\n",
       "    }\n",
       "\n",
       "    .dataframe tbody tr th {\n",
       "        vertical-align: top;\n",
       "    }\n",
       "\n",
       "    .dataframe thead th {\n",
       "        text-align: right;\n",
       "    }\n",
       "</style>\n",
       "<table border=\"1\" class=\"dataframe\">\n",
       "  <thead>\n",
       "    <tr style=\"text-align: right;\">\n",
       "      <th></th>\n",
       "      <th>var1</th>\n",
       "      <th>var2</th>\n",
       "      <th>var3</th>\n",
       "    </tr>\n",
       "  </thead>\n",
       "  <tbody>\n",
       "    <tr>\n",
       "      <th>y</th>\n",
       "      <td>3</td>\n",
       "      <td>1</td>\n",
       "      <td>2</td>\n",
       "    </tr>\n",
       "    <tr>\n",
       "      <th>z</th>\n",
       "      <td>1</td>\n",
       "      <td>6</td>\n",
       "      <td>6</td>\n",
       "    </tr>\n",
       "    <tr>\n",
       "      <th>q</th>\n",
       "      <td>0</td>\n",
       "      <td>2</td>\n",
       "      <td>6</td>\n",
       "    </tr>\n",
       "    <tr>\n",
       "      <th>w</th>\n",
       "      <td>2</td>\n",
       "      <td>8</td>\n",
       "      <td>6</td>\n",
       "    </tr>\n",
       "  </tbody>\n",
       "</table>\n",
       "</div>"
      ],
      "text/plain": [
       "   var1  var2  var3\n",
       "y     3     1     2\n",
       "z     1     6     6\n",
       "q     0     2     6\n",
       "w     2     8     6"
      ]
     },
     "execution_count": 46,
     "metadata": {},
     "output_type": "execute_result"
    }
   ],
   "source": [
    "df.drop(\"x\")"
   ]
  },
  {
   "cell_type": "code",
   "execution_count": 47,
   "id": "f9f70af4",
   "metadata": {
    "execution": {
     "iopub.execute_input": "2023-07-25T15:18:53.805808Z",
     "iopub.status.busy": "2023-07-25T15:18:53.805079Z",
     "iopub.status.idle": "2023-07-25T15:18:53.813313Z",
     "shell.execute_reply": "2023-07-25T15:18:53.812390Z"
    },
    "papermill": {
     "duration": 0.032113,
     "end_time": "2023-07-25T15:18:53.815223",
     "exception": false,
     "start_time": "2023-07-25T15:18:53.783110",
     "status": "completed"
    },
    "tags": []
   },
   "outputs": [
    {
     "data": {
      "text/html": [
       "<div>\n",
       "<style scoped>\n",
       "    .dataframe tbody tr th:only-of-type {\n",
       "        vertical-align: middle;\n",
       "    }\n",
       "\n",
       "    .dataframe tbody tr th {\n",
       "        vertical-align: top;\n",
       "    }\n",
       "\n",
       "    .dataframe thead th {\n",
       "        text-align: right;\n",
       "    }\n",
       "</style>\n",
       "<table border=\"1\" class=\"dataframe\">\n",
       "  <thead>\n",
       "    <tr style=\"text-align: right;\">\n",
       "      <th></th>\n",
       "      <th>var1</th>\n",
       "      <th>var2</th>\n",
       "      <th>var3</th>\n",
       "    </tr>\n",
       "  </thead>\n",
       "  <tbody>\n",
       "    <tr>\n",
       "      <th>x</th>\n",
       "      <td>2</td>\n",
       "      <td>0</td>\n",
       "      <td>1</td>\n",
       "    </tr>\n",
       "    <tr>\n",
       "      <th>y</th>\n",
       "      <td>3</td>\n",
       "      <td>1</td>\n",
       "      <td>2</td>\n",
       "    </tr>\n",
       "    <tr>\n",
       "      <th>z</th>\n",
       "      <td>1</td>\n",
       "      <td>6</td>\n",
       "      <td>6</td>\n",
       "    </tr>\n",
       "    <tr>\n",
       "      <th>q</th>\n",
       "      <td>0</td>\n",
       "      <td>2</td>\n",
       "      <td>6</td>\n",
       "    </tr>\n",
       "    <tr>\n",
       "      <th>w</th>\n",
       "      <td>2</td>\n",
       "      <td>8</td>\n",
       "      <td>6</td>\n",
       "    </tr>\n",
       "  </tbody>\n",
       "</table>\n",
       "</div>"
      ],
      "text/plain": [
       "   var1  var2  var3\n",
       "x     2     0     1\n",
       "y     3     1     2\n",
       "z     1     6     6\n",
       "q     0     2     6\n",
       "w     2     8     6"
      ]
     },
     "execution_count": 47,
     "metadata": {},
     "output_type": "execute_result"
    }
   ],
   "source": [
    "df"
   ]
  },
  {
   "cell_type": "code",
   "execution_count": 48,
   "id": "0f4bd37b",
   "metadata": {
    "execution": {
     "iopub.execute_input": "2023-07-25T15:18:53.860543Z",
     "iopub.status.busy": "2023-07-25T15:18:53.859815Z",
     "iopub.status.idle": "2023-07-25T15:18:53.864776Z",
     "shell.execute_reply": "2023-07-25T15:18:53.863939Z"
    },
    "papermill": {
     "duration": 0.029266,
     "end_time": "2023-07-25T15:18:53.866783",
     "exception": false,
     "start_time": "2023-07-25T15:18:53.837517",
     "status": "completed"
    },
    "tags": []
   },
   "outputs": [],
   "source": [
    "df.drop(\"x\", inplace= True)"
   ]
  },
  {
   "cell_type": "code",
   "execution_count": 49,
   "id": "cbfb5f5f",
   "metadata": {
    "execution": {
     "iopub.execute_input": "2023-07-25T15:18:53.911778Z",
     "iopub.status.busy": "2023-07-25T15:18:53.910983Z",
     "iopub.status.idle": "2023-07-25T15:18:53.919185Z",
     "shell.execute_reply": "2023-07-25T15:18:53.918275Z"
    },
    "papermill": {
     "duration": 0.032593,
     "end_time": "2023-07-25T15:18:53.921139",
     "exception": false,
     "start_time": "2023-07-25T15:18:53.888546",
     "status": "completed"
    },
    "tags": []
   },
   "outputs": [
    {
     "data": {
      "text/html": [
       "<div>\n",
       "<style scoped>\n",
       "    .dataframe tbody tr th:only-of-type {\n",
       "        vertical-align: middle;\n",
       "    }\n",
       "\n",
       "    .dataframe tbody tr th {\n",
       "        vertical-align: top;\n",
       "    }\n",
       "\n",
       "    .dataframe thead th {\n",
       "        text-align: right;\n",
       "    }\n",
       "</style>\n",
       "<table border=\"1\" class=\"dataframe\">\n",
       "  <thead>\n",
       "    <tr style=\"text-align: right;\">\n",
       "      <th></th>\n",
       "      <th>var1</th>\n",
       "      <th>var2</th>\n",
       "      <th>var3</th>\n",
       "    </tr>\n",
       "  </thead>\n",
       "  <tbody>\n",
       "    <tr>\n",
       "      <th>y</th>\n",
       "      <td>3</td>\n",
       "      <td>1</td>\n",
       "      <td>2</td>\n",
       "    </tr>\n",
       "    <tr>\n",
       "      <th>z</th>\n",
       "      <td>1</td>\n",
       "      <td>6</td>\n",
       "      <td>6</td>\n",
       "    </tr>\n",
       "    <tr>\n",
       "      <th>q</th>\n",
       "      <td>0</td>\n",
       "      <td>2</td>\n",
       "      <td>6</td>\n",
       "    </tr>\n",
       "    <tr>\n",
       "      <th>w</th>\n",
       "      <td>2</td>\n",
       "      <td>8</td>\n",
       "      <td>6</td>\n",
       "    </tr>\n",
       "  </tbody>\n",
       "</table>\n",
       "</div>"
      ],
      "text/plain": [
       "   var1  var2  var3\n",
       "y     3     1     2\n",
       "z     1     6     6\n",
       "q     0     2     6\n",
       "w     2     8     6"
      ]
     },
     "execution_count": 49,
     "metadata": {},
     "output_type": "execute_result"
    }
   ],
   "source": [
    "df"
   ]
  },
  {
   "cell_type": "code",
   "execution_count": 50,
   "id": "cb228629",
   "metadata": {
    "execution": {
     "iopub.execute_input": "2023-07-25T15:18:53.967082Z",
     "iopub.status.busy": "2023-07-25T15:18:53.966349Z",
     "iopub.status.idle": "2023-07-25T15:18:53.970587Z",
     "shell.execute_reply": "2023-07-25T15:18:53.969772Z"
    },
    "papermill": {
     "duration": 0.02905,
     "end_time": "2023-07-25T15:18:53.972355",
     "exception": false,
     "start_time": "2023-07-25T15:18:53.943305",
     "status": "completed"
    },
    "tags": []
   },
   "outputs": [],
   "source": [
    "l = [\"w\"]"
   ]
  },
  {
   "cell_type": "code",
   "execution_count": 51,
   "id": "2679cbd4",
   "metadata": {
    "execution": {
     "iopub.execute_input": "2023-07-25T15:18:54.017470Z",
     "iopub.status.busy": "2023-07-25T15:18:54.016701Z",
     "iopub.status.idle": "2023-07-25T15:18:54.020782Z",
     "shell.execute_reply": "2023-07-25T15:18:54.019820Z"
    },
    "papermill": {
     "duration": 0.028412,
     "end_time": "2023-07-25T15:18:54.022740",
     "exception": false,
     "start_time": "2023-07-25T15:18:53.994328",
     "status": "completed"
    },
    "tags": []
   },
   "outputs": [],
   "source": [
    "# fancy"
   ]
  },
  {
   "cell_type": "code",
   "execution_count": 52,
   "id": "c01dfd80",
   "metadata": {
    "execution": {
     "iopub.execute_input": "2023-07-25T15:18:54.067530Z",
     "iopub.status.busy": "2023-07-25T15:18:54.066726Z",
     "iopub.status.idle": "2023-07-25T15:18:54.075768Z",
     "shell.execute_reply": "2023-07-25T15:18:54.074781Z"
    },
    "papermill": {
     "duration": 0.033568,
     "end_time": "2023-07-25T15:18:54.077859",
     "exception": false,
     "start_time": "2023-07-25T15:18:54.044291",
     "status": "completed"
    },
    "tags": []
   },
   "outputs": [
    {
     "data": {
      "text/html": [
       "<div>\n",
       "<style scoped>\n",
       "    .dataframe tbody tr th:only-of-type {\n",
       "        vertical-align: middle;\n",
       "    }\n",
       "\n",
       "    .dataframe tbody tr th {\n",
       "        vertical-align: top;\n",
       "    }\n",
       "\n",
       "    .dataframe thead th {\n",
       "        text-align: right;\n",
       "    }\n",
       "</style>\n",
       "<table border=\"1\" class=\"dataframe\">\n",
       "  <thead>\n",
       "    <tr style=\"text-align: right;\">\n",
       "      <th></th>\n",
       "      <th>var1</th>\n",
       "      <th>var2</th>\n",
       "      <th>var3</th>\n",
       "    </tr>\n",
       "  </thead>\n",
       "  <tbody>\n",
       "    <tr>\n",
       "      <th>y</th>\n",
       "      <td>3</td>\n",
       "      <td>1</td>\n",
       "      <td>2</td>\n",
       "    </tr>\n",
       "    <tr>\n",
       "      <th>z</th>\n",
       "      <td>1</td>\n",
       "      <td>6</td>\n",
       "      <td>6</td>\n",
       "    </tr>\n",
       "    <tr>\n",
       "      <th>q</th>\n",
       "      <td>0</td>\n",
       "      <td>2</td>\n",
       "      <td>6</td>\n",
       "    </tr>\n",
       "  </tbody>\n",
       "</table>\n",
       "</div>"
      ],
      "text/plain": [
       "   var1  var2  var3\n",
       "y     3     1     2\n",
       "z     1     6     6\n",
       "q     0     2     6"
      ]
     },
     "execution_count": 52,
     "metadata": {},
     "output_type": "execute_result"
    }
   ],
   "source": [
    "df.drop(l)"
   ]
  },
  {
   "cell_type": "code",
   "execution_count": 53,
   "id": "79cb15d6",
   "metadata": {
    "execution": {
     "iopub.execute_input": "2023-07-25T15:18:54.124078Z",
     "iopub.status.busy": "2023-07-25T15:18:54.123451Z",
     "iopub.status.idle": "2023-07-25T15:18:54.128770Z",
     "shell.execute_reply": "2023-07-25T15:18:54.127921Z"
    },
    "papermill": {
     "duration": 0.02977,
     "end_time": "2023-07-25T15:18:54.130688",
     "exception": false,
     "start_time": "2023-07-25T15:18:54.100918",
     "status": "completed"
    },
    "tags": []
   },
   "outputs": [
    {
     "data": {
      "text/plain": [
       "True"
      ]
     },
     "execution_count": 53,
     "metadata": {},
     "output_type": "execute_result"
    }
   ],
   "source": [
    "\"var1\" in df"
   ]
  },
  {
   "cell_type": "code",
   "execution_count": 54,
   "id": "f84e4f67",
   "metadata": {
    "execution": {
     "iopub.execute_input": "2023-07-25T15:18:54.176041Z",
     "iopub.status.busy": "2023-07-25T15:18:54.175303Z",
     "iopub.status.idle": "2023-07-25T15:18:54.179648Z",
     "shell.execute_reply": "2023-07-25T15:18:54.178808Z"
    },
    "papermill": {
     "duration": 0.028957,
     "end_time": "2023-07-25T15:18:54.181565",
     "exception": false,
     "start_time": "2023-07-25T15:18:54.152608",
     "status": "completed"
    },
    "tags": []
   },
   "outputs": [],
   "source": [
    "l = [\"var4\", \"var2\", \"var9\"]"
   ]
  },
  {
   "cell_type": "code",
   "execution_count": 55,
   "id": "07df933d",
   "metadata": {
    "execution": {
     "iopub.execute_input": "2023-07-25T15:18:54.227364Z",
     "iopub.status.busy": "2023-07-25T15:18:54.226656Z",
     "iopub.status.idle": "2023-07-25T15:18:54.234923Z",
     "shell.execute_reply": "2023-07-25T15:18:54.234002Z"
    },
    "papermill": {
     "duration": 0.033249,
     "end_time": "2023-07-25T15:18:54.237109",
     "exception": false,
     "start_time": "2023-07-25T15:18:54.203860",
     "status": "completed"
    },
    "tags": []
   },
   "outputs": [
    {
     "data": {
      "text/html": [
       "<div>\n",
       "<style scoped>\n",
       "    .dataframe tbody tr th:only-of-type {\n",
       "        vertical-align: middle;\n",
       "    }\n",
       "\n",
       "    .dataframe tbody tr th {\n",
       "        vertical-align: top;\n",
       "    }\n",
       "\n",
       "    .dataframe thead th {\n",
       "        text-align: right;\n",
       "    }\n",
       "</style>\n",
       "<table border=\"1\" class=\"dataframe\">\n",
       "  <thead>\n",
       "    <tr style=\"text-align: right;\">\n",
       "      <th></th>\n",
       "      <th>var1</th>\n",
       "      <th>var2</th>\n",
       "      <th>var3</th>\n",
       "    </tr>\n",
       "  </thead>\n",
       "  <tbody>\n",
       "    <tr>\n",
       "      <th>y</th>\n",
       "      <td>3</td>\n",
       "      <td>1</td>\n",
       "      <td>2</td>\n",
       "    </tr>\n",
       "    <tr>\n",
       "      <th>z</th>\n",
       "      <td>1</td>\n",
       "      <td>6</td>\n",
       "      <td>6</td>\n",
       "    </tr>\n",
       "    <tr>\n",
       "      <th>q</th>\n",
       "      <td>0</td>\n",
       "      <td>2</td>\n",
       "      <td>6</td>\n",
       "    </tr>\n",
       "    <tr>\n",
       "      <th>w</th>\n",
       "      <td>2</td>\n",
       "      <td>8</td>\n",
       "      <td>6</td>\n",
       "    </tr>\n",
       "  </tbody>\n",
       "</table>\n",
       "</div>"
      ],
      "text/plain": [
       "   var1  var2  var3\n",
       "y     3     1     2\n",
       "z     1     6     6\n",
       "q     0     2     6\n",
       "w     2     8     6"
      ]
     },
     "execution_count": 55,
     "metadata": {},
     "output_type": "execute_result"
    }
   ],
   "source": [
    "df"
   ]
  },
  {
   "cell_type": "code",
   "execution_count": 56,
   "id": "090ad889",
   "metadata": {
    "execution": {
     "iopub.execute_input": "2023-07-25T15:18:54.283448Z",
     "iopub.status.busy": "2023-07-25T15:18:54.282532Z",
     "iopub.status.idle": "2023-07-25T15:18:54.287511Z",
     "shell.execute_reply": "2023-07-25T15:18:54.286677Z"
    },
    "papermill": {
     "duration": 0.030288,
     "end_time": "2023-07-25T15:18:54.289779",
     "exception": false,
     "start_time": "2023-07-25T15:18:54.259491",
     "status": "completed"
    },
    "tags": []
   },
   "outputs": [
    {
     "name": "stdout",
     "output_type": "stream",
     "text": [
      "False\n",
      "True\n",
      "False\n"
     ]
    }
   ],
   "source": [
    "for i in l:\n",
    "    print(i in df)"
   ]
  },
  {
   "cell_type": "code",
   "execution_count": 57,
   "id": "c818d24f",
   "metadata": {
    "execution": {
     "iopub.execute_input": "2023-07-25T15:18:54.335622Z",
     "iopub.status.busy": "2023-07-25T15:18:54.334972Z",
     "iopub.status.idle": "2023-07-25T15:18:54.342781Z",
     "shell.execute_reply": "2023-07-25T15:18:54.341867Z"
    },
    "papermill": {
     "duration": 0.032828,
     "end_time": "2023-07-25T15:18:54.344725",
     "exception": false,
     "start_time": "2023-07-25T15:18:54.311897",
     "status": "completed"
    },
    "tags": []
   },
   "outputs": [
    {
     "data": {
      "text/html": [
       "<div>\n",
       "<style scoped>\n",
       "    .dataframe tbody tr th:only-of-type {\n",
       "        vertical-align: middle;\n",
       "    }\n",
       "\n",
       "    .dataframe tbody tr th {\n",
       "        vertical-align: top;\n",
       "    }\n",
       "\n",
       "    .dataframe thead th {\n",
       "        text-align: right;\n",
       "    }\n",
       "</style>\n",
       "<table border=\"1\" class=\"dataframe\">\n",
       "  <thead>\n",
       "    <tr style=\"text-align: right;\">\n",
       "      <th></th>\n",
       "      <th>var1</th>\n",
       "      <th>var2</th>\n",
       "      <th>var3</th>\n",
       "    </tr>\n",
       "  </thead>\n",
       "  <tbody>\n",
       "    <tr>\n",
       "      <th>y</th>\n",
       "      <td>3</td>\n",
       "      <td>1</td>\n",
       "      <td>2</td>\n",
       "    </tr>\n",
       "    <tr>\n",
       "      <th>z</th>\n",
       "      <td>1</td>\n",
       "      <td>6</td>\n",
       "      <td>6</td>\n",
       "    </tr>\n",
       "    <tr>\n",
       "      <th>q</th>\n",
       "      <td>0</td>\n",
       "      <td>2</td>\n",
       "      <td>6</td>\n",
       "    </tr>\n",
       "    <tr>\n",
       "      <th>w</th>\n",
       "      <td>2</td>\n",
       "      <td>8</td>\n",
       "      <td>6</td>\n",
       "    </tr>\n",
       "  </tbody>\n",
       "</table>\n",
       "</div>"
      ],
      "text/plain": [
       "   var1  var2  var3\n",
       "y     3     1     2\n",
       "z     1     6     6\n",
       "q     0     2     6\n",
       "w     2     8     6"
      ]
     },
     "execution_count": 57,
     "metadata": {},
     "output_type": "execute_result"
    }
   ],
   "source": [
    "df"
   ]
  },
  {
   "cell_type": "code",
   "execution_count": 58,
   "id": "4b692729",
   "metadata": {
    "execution": {
     "iopub.execute_input": "2023-07-25T15:18:54.391784Z",
     "iopub.status.busy": "2023-07-25T15:18:54.391036Z",
     "iopub.status.idle": "2023-07-25T15:18:54.396378Z",
     "shell.execute_reply": "2023-07-25T15:18:54.395541Z"
    },
    "papermill": {
     "duration": 0.030594,
     "end_time": "2023-07-25T15:18:54.398362",
     "exception": false,
     "start_time": "2023-07-25T15:18:54.367768",
     "status": "completed"
    },
    "tags": []
   },
   "outputs": [],
   "source": [
    "df[\"var4\"] = df[\"var1\"] + df[\"var2\"]"
   ]
  },
  {
   "cell_type": "code",
   "execution_count": 59,
   "id": "3fa92ccc",
   "metadata": {
    "execution": {
     "iopub.execute_input": "2023-07-25T15:18:54.444768Z",
     "iopub.status.busy": "2023-07-25T15:18:54.444051Z",
     "iopub.status.idle": "2023-07-25T15:18:54.452652Z",
     "shell.execute_reply": "2023-07-25T15:18:54.451726Z"
    },
    "papermill": {
     "duration": 0.033904,
     "end_time": "2023-07-25T15:18:54.454808",
     "exception": false,
     "start_time": "2023-07-25T15:18:54.420904",
     "status": "completed"
    },
    "tags": []
   },
   "outputs": [
    {
     "data": {
      "text/html": [
       "<div>\n",
       "<style scoped>\n",
       "    .dataframe tbody tr th:only-of-type {\n",
       "        vertical-align: middle;\n",
       "    }\n",
       "\n",
       "    .dataframe tbody tr th {\n",
       "        vertical-align: top;\n",
       "    }\n",
       "\n",
       "    .dataframe thead th {\n",
       "        text-align: right;\n",
       "    }\n",
       "</style>\n",
       "<table border=\"1\" class=\"dataframe\">\n",
       "  <thead>\n",
       "    <tr style=\"text-align: right;\">\n",
       "      <th></th>\n",
       "      <th>var1</th>\n",
       "      <th>var2</th>\n",
       "      <th>var3</th>\n",
       "      <th>var4</th>\n",
       "    </tr>\n",
       "  </thead>\n",
       "  <tbody>\n",
       "    <tr>\n",
       "      <th>y</th>\n",
       "      <td>3</td>\n",
       "      <td>1</td>\n",
       "      <td>2</td>\n",
       "      <td>4</td>\n",
       "    </tr>\n",
       "    <tr>\n",
       "      <th>z</th>\n",
       "      <td>1</td>\n",
       "      <td>6</td>\n",
       "      <td>6</td>\n",
       "      <td>7</td>\n",
       "    </tr>\n",
       "    <tr>\n",
       "      <th>q</th>\n",
       "      <td>0</td>\n",
       "      <td>2</td>\n",
       "      <td>6</td>\n",
       "      <td>2</td>\n",
       "    </tr>\n",
       "    <tr>\n",
       "      <th>w</th>\n",
       "      <td>2</td>\n",
       "      <td>8</td>\n",
       "      <td>6</td>\n",
       "      <td>10</td>\n",
       "    </tr>\n",
       "  </tbody>\n",
       "</table>\n",
       "</div>"
      ],
      "text/plain": [
       "   var1  var2  var3  var4\n",
       "y     3     1     2     4\n",
       "z     1     6     6     7\n",
       "q     0     2     6     2\n",
       "w     2     8     6    10"
      ]
     },
     "execution_count": 59,
     "metadata": {},
     "output_type": "execute_result"
    }
   ],
   "source": [
    "df"
   ]
  },
  {
   "cell_type": "code",
   "execution_count": 60,
   "id": "c166dff3",
   "metadata": {
    "execution": {
     "iopub.execute_input": "2023-07-25T15:18:54.505491Z",
     "iopub.status.busy": "2023-07-25T15:18:54.504797Z",
     "iopub.status.idle": "2023-07-25T15:18:54.510098Z",
     "shell.execute_reply": "2023-07-25T15:18:54.509256Z"
    },
    "papermill": {
     "duration": 0.031104,
     "end_time": "2023-07-25T15:18:54.512132",
     "exception": false,
     "start_time": "2023-07-25T15:18:54.481028",
     "status": "completed"
    },
    "tags": []
   },
   "outputs": [],
   "source": [
    "df.drop(\"var4\", axis = 1, inplace = True)"
   ]
  },
  {
   "cell_type": "code",
   "execution_count": 61,
   "id": "b3ebe49f",
   "metadata": {
    "execution": {
     "iopub.execute_input": "2023-07-25T15:18:54.559539Z",
     "iopub.status.busy": "2023-07-25T15:18:54.558726Z",
     "iopub.status.idle": "2023-07-25T15:18:54.567159Z",
     "shell.execute_reply": "2023-07-25T15:18:54.566151Z"
    },
    "papermill": {
     "duration": 0.033918,
     "end_time": "2023-07-25T15:18:54.569065",
     "exception": false,
     "start_time": "2023-07-25T15:18:54.535147",
     "status": "completed"
    },
    "tags": []
   },
   "outputs": [
    {
     "data": {
      "text/html": [
       "<div>\n",
       "<style scoped>\n",
       "    .dataframe tbody tr th:only-of-type {\n",
       "        vertical-align: middle;\n",
       "    }\n",
       "\n",
       "    .dataframe tbody tr th {\n",
       "        vertical-align: top;\n",
       "    }\n",
       "\n",
       "    .dataframe thead th {\n",
       "        text-align: right;\n",
       "    }\n",
       "</style>\n",
       "<table border=\"1\" class=\"dataframe\">\n",
       "  <thead>\n",
       "    <tr style=\"text-align: right;\">\n",
       "      <th></th>\n",
       "      <th>var1</th>\n",
       "      <th>var2</th>\n",
       "      <th>var3</th>\n",
       "    </tr>\n",
       "  </thead>\n",
       "  <tbody>\n",
       "    <tr>\n",
       "      <th>y</th>\n",
       "      <td>3</td>\n",
       "      <td>1</td>\n",
       "      <td>2</td>\n",
       "    </tr>\n",
       "    <tr>\n",
       "      <th>z</th>\n",
       "      <td>1</td>\n",
       "      <td>6</td>\n",
       "      <td>6</td>\n",
       "    </tr>\n",
       "    <tr>\n",
       "      <th>q</th>\n",
       "      <td>0</td>\n",
       "      <td>2</td>\n",
       "      <td>6</td>\n",
       "    </tr>\n",
       "    <tr>\n",
       "      <th>w</th>\n",
       "      <td>2</td>\n",
       "      <td>8</td>\n",
       "      <td>6</td>\n",
       "    </tr>\n",
       "  </tbody>\n",
       "</table>\n",
       "</div>"
      ],
      "text/plain": [
       "   var1  var2  var3\n",
       "y     3     1     2\n",
       "z     1     6     6\n",
       "q     0     2     6\n",
       "w     2     8     6"
      ]
     },
     "execution_count": 61,
     "metadata": {},
     "output_type": "execute_result"
    }
   ],
   "source": [
    "df"
   ]
  },
  {
   "cell_type": "code",
   "execution_count": 62,
   "id": "6cf6ed9c",
   "metadata": {
    "execution": {
     "iopub.execute_input": "2023-07-25T15:18:54.616918Z",
     "iopub.status.busy": "2023-07-25T15:18:54.616173Z",
     "iopub.status.idle": "2023-07-25T15:18:54.620225Z",
     "shell.execute_reply": "2023-07-25T15:18:54.619300Z"
    },
    "papermill": {
     "duration": 0.029521,
     "end_time": "2023-07-25T15:18:54.622186",
     "exception": false,
     "start_time": "2023-07-25T15:18:54.592665",
     "status": "completed"
    },
    "tags": []
   },
   "outputs": [],
   "source": [
    "l = [\"var1\"]"
   ]
  },
  {
   "cell_type": "code",
   "execution_count": 63,
   "id": "30d143f5",
   "metadata": {
    "execution": {
     "iopub.execute_input": "2023-07-25T15:18:54.669513Z",
     "iopub.status.busy": "2023-07-25T15:18:54.668776Z",
     "iopub.status.idle": "2023-07-25T15:18:54.677481Z",
     "shell.execute_reply": "2023-07-25T15:18:54.676554Z"
    },
    "papermill": {
     "duration": 0.03442,
     "end_time": "2023-07-25T15:18:54.679416",
     "exception": false,
     "start_time": "2023-07-25T15:18:54.644996",
     "status": "completed"
    },
    "tags": []
   },
   "outputs": [
    {
     "data": {
      "text/html": [
       "<div>\n",
       "<style scoped>\n",
       "    .dataframe tbody tr th:only-of-type {\n",
       "        vertical-align: middle;\n",
       "    }\n",
       "\n",
       "    .dataframe tbody tr th {\n",
       "        vertical-align: top;\n",
       "    }\n",
       "\n",
       "    .dataframe thead th {\n",
       "        text-align: right;\n",
       "    }\n",
       "</style>\n",
       "<table border=\"1\" class=\"dataframe\">\n",
       "  <thead>\n",
       "    <tr style=\"text-align: right;\">\n",
       "      <th></th>\n",
       "      <th>var2</th>\n",
       "      <th>var3</th>\n",
       "    </tr>\n",
       "  </thead>\n",
       "  <tbody>\n",
       "    <tr>\n",
       "      <th>y</th>\n",
       "      <td>1</td>\n",
       "      <td>2</td>\n",
       "    </tr>\n",
       "    <tr>\n",
       "      <th>z</th>\n",
       "      <td>6</td>\n",
       "      <td>6</td>\n",
       "    </tr>\n",
       "    <tr>\n",
       "      <th>q</th>\n",
       "      <td>2</td>\n",
       "      <td>6</td>\n",
       "    </tr>\n",
       "    <tr>\n",
       "      <th>w</th>\n",
       "      <td>8</td>\n",
       "      <td>6</td>\n",
       "    </tr>\n",
       "  </tbody>\n",
       "</table>\n",
       "</div>"
      ],
      "text/plain": [
       "   var2  var3\n",
       "y     1     2\n",
       "z     6     6\n",
       "q     2     6\n",
       "w     8     6"
      ]
     },
     "execution_count": 63,
     "metadata": {},
     "output_type": "execute_result"
    }
   ],
   "source": [
    "df.drop(l, axis = 1)"
   ]
  },
  {
   "cell_type": "code",
   "execution_count": 64,
   "id": "230d4f9f",
   "metadata": {
    "execution": {
     "iopub.execute_input": "2023-07-25T15:18:54.726661Z",
     "iopub.status.busy": "2023-07-25T15:18:54.725946Z",
     "iopub.status.idle": "2023-07-25T15:18:54.734012Z",
     "shell.execute_reply": "2023-07-25T15:18:54.733087Z"
    },
    "papermill": {
     "duration": 0.033772,
     "end_time": "2023-07-25T15:18:54.736023",
     "exception": false,
     "start_time": "2023-07-25T15:18:54.702251",
     "status": "completed"
    },
    "tags": []
   },
   "outputs": [
    {
     "data": {
      "text/html": [
       "<div>\n",
       "<style scoped>\n",
       "    .dataframe tbody tr th:only-of-type {\n",
       "        vertical-align: middle;\n",
       "    }\n",
       "\n",
       "    .dataframe tbody tr th {\n",
       "        vertical-align: top;\n",
       "    }\n",
       "\n",
       "    .dataframe thead th {\n",
       "        text-align: right;\n",
       "    }\n",
       "</style>\n",
       "<table border=\"1\" class=\"dataframe\">\n",
       "  <thead>\n",
       "    <tr style=\"text-align: right;\">\n",
       "      <th></th>\n",
       "      <th>var1</th>\n",
       "      <th>var2</th>\n",
       "      <th>var3</th>\n",
       "    </tr>\n",
       "  </thead>\n",
       "  <tbody>\n",
       "    <tr>\n",
       "      <th>y</th>\n",
       "      <td>3</td>\n",
       "      <td>1</td>\n",
       "      <td>2</td>\n",
       "    </tr>\n",
       "    <tr>\n",
       "      <th>z</th>\n",
       "      <td>1</td>\n",
       "      <td>6</td>\n",
       "      <td>6</td>\n",
       "    </tr>\n",
       "    <tr>\n",
       "      <th>q</th>\n",
       "      <td>0</td>\n",
       "      <td>2</td>\n",
       "      <td>6</td>\n",
       "    </tr>\n",
       "    <tr>\n",
       "      <th>w</th>\n",
       "      <td>2</td>\n",
       "      <td>8</td>\n",
       "      <td>6</td>\n",
       "    </tr>\n",
       "  </tbody>\n",
       "</table>\n",
       "</div>"
      ],
      "text/plain": [
       "   var1  var2  var3\n",
       "y     3     1     2\n",
       "z     1     6     6\n",
       "q     0     2     6\n",
       "w     2     8     6"
      ]
     },
     "execution_count": 64,
     "metadata": {},
     "output_type": "execute_result"
    }
   ],
   "source": [
    "df"
   ]
  },
  {
   "cell_type": "code",
   "execution_count": null,
   "id": "d45c2e91",
   "metadata": {
    "papermill": {
     "duration": 0.022882,
     "end_time": "2023-07-25T15:18:54.782732",
     "exception": false,
     "start_time": "2023-07-25T15:18:54.759850",
     "status": "completed"
    },
    "tags": []
   },
   "outputs": [],
   "source": []
  },
  {
   "cell_type": "code",
   "execution_count": null,
   "id": "ccd68ed7",
   "metadata": {
    "papermill": {
     "duration": 0.0229,
     "end_time": "2023-07-25T15:18:54.828749",
     "exception": false,
     "start_time": "2023-07-25T15:18:54.805849",
     "status": "completed"
    },
    "tags": []
   },
   "outputs": [],
   "source": []
  },
  {
   "cell_type": "code",
   "execution_count": null,
   "id": "e2aaf9b9",
   "metadata": {
    "papermill": {
     "duration": 0.022954,
     "end_time": "2023-07-25T15:18:54.874619",
     "exception": false,
     "start_time": "2023-07-25T15:18:54.851665",
     "status": "completed"
    },
    "tags": []
   },
   "outputs": [],
   "source": []
  },
  {
   "cell_type": "code",
   "execution_count": null,
   "id": "955ebd32",
   "metadata": {
    "papermill": {
     "duration": 0.022681,
     "end_time": "2023-07-25T15:18:54.920411",
     "exception": false,
     "start_time": "2023-07-25T15:18:54.897730",
     "status": "completed"
    },
    "tags": []
   },
   "outputs": [],
   "source": []
  }
 ],
 "metadata": {
  "kernelspec": {
   "display_name": "Python 3",
   "language": "python",
   "name": "python3"
  },
  "language_info": {
   "codemirror_mode": {
    "name": "ipython",
    "version": 3
   },
   "file_extension": ".py",
   "mimetype": "text/x-python",
   "name": "python",
   "nbconvert_exporter": "python",
   "pygments_lexer": "ipython3",
   "version": "3.10.12"
  },
  "papermill": {
   "default_parameters": {},
   "duration": 13.951064,
   "end_time": "2023-07-25T15:18:55.462652",
   "environment_variables": {},
   "exception": null,
   "input_path": "__notebook__.ipynb",
   "output_path": "__notebook__.ipynb",
   "parameters": {},
   "start_time": "2023-07-25T15:18:41.511588",
   "version": "2.4.0"
  }
 },
 "nbformat": 4,
 "nbformat_minor": 5
}
