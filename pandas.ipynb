{
 "cells": [
  {
   "cell_type": "code",
   "execution_count": 1,
   "id": "6e0a179b",
   "metadata": {
    "execution": {
     "iopub.execute_input": "2023-07-25T18:42:27.802588Z",
     "iopub.status.busy": "2023-07-25T18:42:27.801887Z",
     "iopub.status.idle": "2023-07-25T18:42:27.810932Z",
     "shell.execute_reply": "2023-07-25T18:42:27.810003Z"
    },
    "papermill": {
     "duration": 0.032573,
     "end_time": "2023-07-25T18:42:27.813240",
     "exception": false,
     "start_time": "2023-07-25T18:42:27.780667",
     "status": "completed"
    },
    "tags": []
   },
   "outputs": [],
   "source": [
    "import pandas as pd"
   ]
  },
  {
   "cell_type": "code",
   "execution_count": 2,
   "id": "77105ae3",
   "metadata": {
    "_cell_guid": "b1076dfc-b9ad-4769-8c92-a6c4dae69d19",
    "_uuid": "8f2839f25d086af736a60e9eeb907d3b93b6e0e5",
    "execution": {
     "iopub.execute_input": "2023-07-25T18:42:27.852954Z",
     "iopub.status.busy": "2023-07-25T18:42:27.852503Z",
     "iopub.status.idle": "2023-07-25T18:42:27.864958Z",
     "shell.execute_reply": "2023-07-25T18:42:27.864070Z"
    },
    "papermill": {
     "duration": 0.034811,
     "end_time": "2023-07-25T18:42:27.867081",
     "exception": false,
     "start_time": "2023-07-25T18:42:27.832270",
     "status": "completed"
    },
    "tags": []
   },
   "outputs": [
    {
     "data": {
      "text/plain": [
       "0     23\n",
       "1     45\n",
       "2    -36\n",
       "3     12\n",
       "4      0\n",
       "5    100\n",
       "dtype: int64"
      ]
     },
     "execution_count": 2,
     "metadata": {},
     "output_type": "execute_result"
    }
   ],
   "source": [
    "pd.Series([23, 45, -36, 12, 0, 100])"
   ]
  },
  {
   "cell_type": "code",
   "execution_count": 3,
   "id": "30fd356c",
   "metadata": {
    "execution": {
     "iopub.execute_input": "2023-07-25T18:42:27.906952Z",
     "iopub.status.busy": "2023-07-25T18:42:27.906491Z",
     "iopub.status.idle": "2023-07-25T18:42:27.913529Z",
     "shell.execute_reply": "2023-07-25T18:42:27.912693Z"
    },
    "papermill": {
     "duration": 0.029398,
     "end_time": "2023-07-25T18:42:27.915436",
     "exception": false,
     "start_time": "2023-07-25T18:42:27.886038",
     "status": "completed"
    },
    "tags": []
   },
   "outputs": [
    {
     "data": {
      "text/plain": [
       "pandas.core.series.Series"
      ]
     },
     "execution_count": 3,
     "metadata": {},
     "output_type": "execute_result"
    }
   ],
   "source": [
    "seri = pd.Series([23, 45, -36, 12, 0, 100])\n",
    "\n",
    "type(seri)"
   ]
  },
  {
   "cell_type": "code",
   "execution_count": 4,
   "id": "33ceebcb",
   "metadata": {
    "execution": {
     "iopub.execute_input": "2023-07-25T18:42:27.955091Z",
     "iopub.status.busy": "2023-07-25T18:42:27.954699Z",
     "iopub.status.idle": "2023-07-25T18:42:27.960970Z",
     "shell.execute_reply": "2023-07-25T18:42:27.959861Z"
    },
    "papermill": {
     "duration": 0.028527,
     "end_time": "2023-07-25T18:42:27.962902",
     "exception": false,
     "start_time": "2023-07-25T18:42:27.934375",
     "status": "completed"
    },
    "tags": []
   },
   "outputs": [
    {
     "data": {
      "text/plain": [
       "[RangeIndex(start=0, stop=6, step=1)]"
      ]
     },
     "execution_count": 4,
     "metadata": {},
     "output_type": "execute_result"
    }
   ],
   "source": [
    "seri.axes"
   ]
  },
  {
   "cell_type": "code",
   "execution_count": 5,
   "id": "d2642763",
   "metadata": {
    "execution": {
     "iopub.execute_input": "2023-07-25T18:42:28.003712Z",
     "iopub.status.busy": "2023-07-25T18:42:28.002512Z",
     "iopub.status.idle": "2023-07-25T18:42:28.008763Z",
     "shell.execute_reply": "2023-07-25T18:42:28.007992Z"
    },
    "papermill": {
     "duration": 0.028936,
     "end_time": "2023-07-25T18:42:28.011070",
     "exception": false,
     "start_time": "2023-07-25T18:42:27.982134",
     "status": "completed"
    },
    "tags": []
   },
   "outputs": [
    {
     "data": {
      "text/plain": [
       "dtype('int64')"
      ]
     },
     "execution_count": 5,
     "metadata": {},
     "output_type": "execute_result"
    }
   ],
   "source": [
    "seri.dtype"
   ]
  },
  {
   "cell_type": "code",
   "execution_count": 6,
   "id": "f332651d",
   "metadata": {
    "execution": {
     "iopub.execute_input": "2023-07-25T18:42:28.051959Z",
     "iopub.status.busy": "2023-07-25T18:42:28.050881Z",
     "iopub.status.idle": "2023-07-25T18:42:28.057746Z",
     "shell.execute_reply": "2023-07-25T18:42:28.056640Z"
    },
    "papermill": {
     "duration": 0.029673,
     "end_time": "2023-07-25T18:42:28.060054",
     "exception": false,
     "start_time": "2023-07-25T18:42:28.030381",
     "status": "completed"
    },
    "tags": []
   },
   "outputs": [
    {
     "data": {
      "text/plain": [
       "1"
      ]
     },
     "execution_count": 6,
     "metadata": {},
     "output_type": "execute_result"
    }
   ],
   "source": [
    "seri.ndim"
   ]
  },
  {
   "cell_type": "code",
   "execution_count": 7,
   "id": "e98a8ff9",
   "metadata": {
    "execution": {
     "iopub.execute_input": "2023-07-25T18:42:28.102112Z",
     "iopub.status.busy": "2023-07-25T18:42:28.101490Z",
     "iopub.status.idle": "2023-07-25T18:42:28.107803Z",
     "shell.execute_reply": "2023-07-25T18:42:28.106878Z"
    },
    "papermill": {
     "duration": 0.029799,
     "end_time": "2023-07-25T18:42:28.109922",
     "exception": false,
     "start_time": "2023-07-25T18:42:28.080123",
     "status": "completed"
    },
    "tags": []
   },
   "outputs": [
    {
     "data": {
      "text/plain": [
       "6"
      ]
     },
     "execution_count": 7,
     "metadata": {},
     "output_type": "execute_result"
    }
   ],
   "source": [
    "seri.size"
   ]
  },
  {
   "cell_type": "code",
   "execution_count": 8,
   "id": "90685b4d",
   "metadata": {
    "execution": {
     "iopub.execute_input": "2023-07-25T18:42:28.151681Z",
     "iopub.status.busy": "2023-07-25T18:42:28.150915Z",
     "iopub.status.idle": "2023-07-25T18:42:28.160274Z",
     "shell.execute_reply": "2023-07-25T18:42:28.159045Z"
    },
    "papermill": {
     "duration": 0.032168,
     "end_time": "2023-07-25T18:42:28.162546",
     "exception": false,
     "start_time": "2023-07-25T18:42:28.130378",
     "status": "completed"
    },
    "tags": []
   },
   "outputs": [
    {
     "data": {
      "text/plain": [
       "array([ 23,  45, -36,  12,   0, 100])"
      ]
     },
     "execution_count": 8,
     "metadata": {},
     "output_type": "execute_result"
    }
   ],
   "source": [
    "seri.values"
   ]
  },
  {
   "cell_type": "code",
   "execution_count": 9,
   "id": "1b860262",
   "metadata": {
    "execution": {
     "iopub.execute_input": "2023-07-25T18:42:28.204497Z",
     "iopub.status.busy": "2023-07-25T18:42:28.203794Z",
     "iopub.status.idle": "2023-07-25T18:42:28.211640Z",
     "shell.execute_reply": "2023-07-25T18:42:28.210420Z"
    },
    "papermill": {
     "duration": 0.031408,
     "end_time": "2023-07-25T18:42:28.213838",
     "exception": false,
     "start_time": "2023-07-25T18:42:28.182430",
     "status": "completed"
    },
    "tags": []
   },
   "outputs": [
    {
     "data": {
      "text/plain": [
       "0    23\n",
       "1    45\n",
       "2   -36\n",
       "3    12\n",
       "4     0\n",
       "dtype: int64"
      ]
     },
     "execution_count": 9,
     "metadata": {},
     "output_type": "execute_result"
    }
   ],
   "source": [
    "seri.head()"
   ]
  },
  {
   "cell_type": "code",
   "execution_count": 10,
   "id": "41a14104",
   "metadata": {
    "execution": {
     "iopub.execute_input": "2023-07-25T18:42:28.255901Z",
     "iopub.status.busy": "2023-07-25T18:42:28.255475Z",
     "iopub.status.idle": "2023-07-25T18:42:28.262656Z",
     "shell.execute_reply": "2023-07-25T18:42:28.261911Z"
    },
    "papermill": {
     "duration": 0.030194,
     "end_time": "2023-07-25T18:42:28.264674",
     "exception": false,
     "start_time": "2023-07-25T18:42:28.234480",
     "status": "completed"
    },
    "tags": []
   },
   "outputs": [
    {
     "data": {
      "text/plain": [
       "0    23\n",
       "1    45\n",
       "2   -36\n",
       "dtype: int64"
      ]
     },
     "execution_count": 10,
     "metadata": {},
     "output_type": "execute_result"
    }
   ],
   "source": [
    "seri.head(3)"
   ]
  },
  {
   "cell_type": "code",
   "execution_count": 11,
   "id": "78b5e494",
   "metadata": {
    "execution": {
     "iopub.execute_input": "2023-07-25T18:42:28.306233Z",
     "iopub.status.busy": "2023-07-25T18:42:28.305804Z",
     "iopub.status.idle": "2023-07-25T18:42:28.313098Z",
     "shell.execute_reply": "2023-07-25T18:42:28.312008Z"
    },
    "papermill": {
     "duration": 0.031023,
     "end_time": "2023-07-25T18:42:28.315315",
     "exception": false,
     "start_time": "2023-07-25T18:42:28.284292",
     "status": "completed"
    },
    "tags": []
   },
   "outputs": [
    {
     "data": {
      "text/plain": [
       "1     45\n",
       "2    -36\n",
       "3     12\n",
       "4      0\n",
       "5    100\n",
       "dtype: int64"
      ]
     },
     "execution_count": 11,
     "metadata": {},
     "output_type": "execute_result"
    }
   ],
   "source": [
    "seri.tail()"
   ]
  },
  {
   "cell_type": "code",
   "execution_count": 12,
   "id": "3f47438a",
   "metadata": {
    "execution": {
     "iopub.execute_input": "2023-07-25T18:42:28.357573Z",
     "iopub.status.busy": "2023-07-25T18:42:28.356791Z",
     "iopub.status.idle": "2023-07-25T18:42:28.363601Z",
     "shell.execute_reply": "2023-07-25T18:42:28.362744Z"
    },
    "papermill": {
     "duration": 0.030259,
     "end_time": "2023-07-25T18:42:28.365636",
     "exception": false,
     "start_time": "2023-07-25T18:42:28.335377",
     "status": "completed"
    },
    "tags": []
   },
   "outputs": [
    {
     "data": {
      "text/plain": [
       "3     12\n",
       "4      0\n",
       "5    100\n",
       "dtype: int64"
      ]
     },
     "execution_count": 12,
     "metadata": {},
     "output_type": "execute_result"
    }
   ],
   "source": [
    "seri.tail(3)"
   ]
  },
  {
   "cell_type": "code",
   "execution_count": 13,
   "id": "42e83cd3",
   "metadata": {
    "execution": {
     "iopub.execute_input": "2023-07-25T18:42:28.406923Z",
     "iopub.status.busy": "2023-07-25T18:42:28.406458Z",
     "iopub.status.idle": "2023-07-25T18:42:28.411226Z",
     "shell.execute_reply": "2023-07-25T18:42:28.410049Z"
    },
    "papermill": {
     "duration": 0.028092,
     "end_time": "2023-07-25T18:42:28.413553",
     "exception": false,
     "start_time": "2023-07-25T18:42:28.385461",
     "status": "completed"
    },
    "tags": []
   },
   "outputs": [],
   "source": [
    "# index name"
   ]
  },
  {
   "cell_type": "code",
   "execution_count": 14,
   "id": "e82af968",
   "metadata": {
    "execution": {
     "iopub.execute_input": "2023-07-25T18:42:28.455600Z",
     "iopub.status.busy": "2023-07-25T18:42:28.455201Z",
     "iopub.status.idle": "2023-07-25T18:42:28.468314Z",
     "shell.execute_reply": "2023-07-25T18:42:28.467283Z"
    },
    "papermill": {
     "duration": 0.036408,
     "end_time": "2023-07-25T18:42:28.470375",
     "exception": false,
     "start_time": "2023-07-25T18:42:28.433967",
     "status": "completed"
    },
    "tags": []
   },
   "outputs": [
    {
     "data": {
      "text/plain": [
       "first       455\n",
       "2           354\n",
       "3          1332\n",
       "4         43553\n",
       "5            90\n",
       "6        string\n",
       "dtype: object"
      ]
     },
     "execution_count": 14,
     "metadata": {},
     "output_type": "execute_result"
    }
   ],
   "source": [
    "pd.Series([455, 354, 1332, 43553, 90, \"string\"], index = [\"first\",2,3,4,5,6])"
   ]
  },
  {
   "cell_type": "code",
   "execution_count": 15,
   "id": "98d985ed",
   "metadata": {
    "execution": {
     "iopub.execute_input": "2023-07-25T18:42:28.513617Z",
     "iopub.status.busy": "2023-07-25T18:42:28.512622Z",
     "iopub.status.idle": "2023-07-25T18:42:28.518748Z",
     "shell.execute_reply": "2023-07-25T18:42:28.517627Z"
    },
    "papermill": {
     "duration": 0.03034,
     "end_time": "2023-07-25T18:42:28.520807",
     "exception": false,
     "start_time": "2023-07-25T18:42:28.490467",
     "status": "completed"
    },
    "tags": []
   },
   "outputs": [],
   "source": [
    "seri = pd.Series([455, 354, 1332, 43553, 90, \"string\"], index = [\"first\",2,3,4,5,6])"
   ]
  },
  {
   "cell_type": "code",
   "execution_count": 16,
   "id": "4e080896",
   "metadata": {
    "execution": {
     "iopub.execute_input": "2023-07-25T18:42:28.563882Z",
     "iopub.status.busy": "2023-07-25T18:42:28.563149Z",
     "iopub.status.idle": "2023-07-25T18:42:28.569884Z",
     "shell.execute_reply": "2023-07-25T18:42:28.568934Z"
    },
    "papermill": {
     "duration": 0.030889,
     "end_time": "2023-07-25T18:42:28.571965",
     "exception": false,
     "start_time": "2023-07-25T18:42:28.541076",
     "status": "completed"
    },
    "tags": []
   },
   "outputs": [
    {
     "data": {
      "text/plain": [
       "455"
      ]
     },
     "execution_count": 16,
     "metadata": {},
     "output_type": "execute_result"
    }
   ],
   "source": [
    "seri[\"first\"]"
   ]
  },
  {
   "cell_type": "code",
   "execution_count": 17,
   "id": "848f9c98",
   "metadata": {
    "execution": {
     "iopub.execute_input": "2023-07-25T18:42:28.614470Z",
     "iopub.status.busy": "2023-07-25T18:42:28.613832Z",
     "iopub.status.idle": "2023-07-25T18:42:28.621644Z",
     "shell.execute_reply": "2023-07-25T18:42:28.620555Z"
    },
    "papermill": {
     "duration": 0.031625,
     "end_time": "2023-07-25T18:42:28.623759",
     "exception": false,
     "start_time": "2023-07-25T18:42:28.592134",
     "status": "completed"
    },
    "tags": []
   },
   "outputs": [
    {
     "data": {
      "text/plain": [
       "first      455\n",
       "2          354\n",
       "3         1332\n",
       "4        43553\n",
       "5           90\n",
       "dtype: object"
      ]
     },
     "execution_count": 17,
     "metadata": {},
     "output_type": "execute_result"
    }
   ],
   "source": [
    "seri[\"first\" : 5]"
   ]
  },
  {
   "cell_type": "code",
   "execution_count": 18,
   "id": "607205bd",
   "metadata": {
    "execution": {
     "iopub.execute_input": "2023-07-25T18:42:28.667901Z",
     "iopub.status.busy": "2023-07-25T18:42:28.667484Z",
     "iopub.status.idle": "2023-07-25T18:42:28.673015Z",
     "shell.execute_reply": "2023-07-25T18:42:28.671765Z"
    },
    "papermill": {
     "duration": 0.029359,
     "end_time": "2023-07-25T18:42:28.675159",
     "exception": false,
     "start_time": "2023-07-25T18:42:28.645800",
     "status": "completed"
    },
    "tags": []
   },
   "outputs": [],
   "source": [
    "dict = pd.Series({\"james\" :10,\n",
    "                 \"elena\" : 34,\n",
    "                  \"william\": 29,\n",
    "                  \"mila\": 22                 \n",
    "                 })"
   ]
  },
  {
   "cell_type": "code",
   "execution_count": 19,
   "id": "d54b8277",
   "metadata": {
    "execution": {
     "iopub.execute_input": "2023-07-25T18:42:28.717899Z",
     "iopub.status.busy": "2023-07-25T18:42:28.716815Z",
     "iopub.status.idle": "2023-07-25T18:42:28.723666Z",
     "shell.execute_reply": "2023-07-25T18:42:28.722867Z"
    },
    "papermill": {
     "duration": 0.030245,
     "end_time": "2023-07-25T18:42:28.725647",
     "exception": false,
     "start_time": "2023-07-25T18:42:28.695402",
     "status": "completed"
    },
    "tags": []
   },
   "outputs": [
    {
     "data": {
      "text/plain": [
       "james      10\n",
       "elena      34\n",
       "william    29\n",
       "mila       22\n",
       "dtype: int64"
      ]
     },
     "execution_count": 19,
     "metadata": {},
     "output_type": "execute_result"
    }
   ],
   "source": [
    "dict"
   ]
  },
  {
   "cell_type": "code",
   "execution_count": 20,
   "id": "24016ff4",
   "metadata": {
    "execution": {
     "iopub.execute_input": "2023-07-25T18:42:28.767558Z",
     "iopub.status.busy": "2023-07-25T18:42:28.767135Z",
     "iopub.status.idle": "2023-07-25T18:42:28.776403Z",
     "shell.execute_reply": "2023-07-25T18:42:28.775170Z"
    },
    "papermill": {
     "duration": 0.033045,
     "end_time": "2023-07-25T18:42:28.778806",
     "exception": false,
     "start_time": "2023-07-25T18:42:28.745761",
     "status": "completed"
    },
    "tags": []
   },
   "outputs": [
    {
     "data": {
      "text/plain": [
       "james      10\n",
       "elena      34\n",
       "william    29\n",
       "dtype: int64"
      ]
     },
     "execution_count": 20,
     "metadata": {},
     "output_type": "execute_result"
    }
   ],
   "source": [
    "dict[\"james\" : \"william\"]"
   ]
  },
  {
   "cell_type": "code",
   "execution_count": 21,
   "id": "699e1a60",
   "metadata": {
    "execution": {
     "iopub.execute_input": "2023-07-25T18:42:28.822743Z",
     "iopub.status.busy": "2023-07-25T18:42:28.821701Z",
     "iopub.status.idle": "2023-07-25T18:42:28.830854Z",
     "shell.execute_reply": "2023-07-25T18:42:28.829765Z"
    },
    "papermill": {
     "duration": 0.034094,
     "end_time": "2023-07-25T18:42:28.833340",
     "exception": false,
     "start_time": "2023-07-25T18:42:28.799246",
     "status": "completed"
    },
    "tags": []
   },
   "outputs": [
    {
     "data": {
      "text/plain": [
       "james          10\n",
       "elena          34\n",
       "william        29\n",
       "mila           22\n",
       "first         455\n",
       "2             354\n",
       "3            1332\n",
       "4           43553\n",
       "5              90\n",
       "6          string\n",
       "dtype: object"
      ]
     },
     "execution_count": 21,
     "metadata": {},
     "output_type": "execute_result"
    }
   ],
   "source": [
    "pd.concat([dict, seri])"
   ]
  },
  {
   "cell_type": "code",
   "execution_count": 22,
   "id": "7ca6d8b1",
   "metadata": {
    "execution": {
     "iopub.execute_input": "2023-07-25T18:42:28.876944Z",
     "iopub.status.busy": "2023-07-25T18:42:28.876520Z",
     "iopub.status.idle": "2023-07-25T18:42:28.885179Z",
     "shell.execute_reply": "2023-07-25T18:42:28.884399Z"
    },
    "papermill": {
     "duration": 0.032602,
     "end_time": "2023-07-25T18:42:28.886984",
     "exception": false,
     "start_time": "2023-07-25T18:42:28.854382",
     "status": "completed"
    },
    "tags": []
   },
   "outputs": [
    {
     "data": {
      "text/plain": [
       "0    23\n",
       "1    42\n",
       "2    13\n",
       "3    90\n",
       "4    80\n",
       "5    68\n",
       "dtype: int64"
      ]
     },
     "execution_count": 22,
     "metadata": {},
     "output_type": "execute_result"
    }
   ],
   "source": [
    "import numpy as np\n",
    "\n",
    "x = np.array([23, 42, 13, 90, 80, 68])\n",
    "\n",
    "seri = pd.Series(x)\n",
    "\n",
    "seri"
   ]
  },
  {
   "cell_type": "code",
   "execution_count": 23,
   "id": "1c879432",
   "metadata": {
    "execution": {
     "iopub.execute_input": "2023-07-25T18:42:28.930234Z",
     "iopub.status.busy": "2023-07-25T18:42:28.929513Z",
     "iopub.status.idle": "2023-07-25T18:42:28.936536Z",
     "shell.execute_reply": "2023-07-25T18:42:28.935756Z"
    },
    "papermill": {
     "duration": 0.031086,
     "end_time": "2023-07-25T18:42:28.938577",
     "exception": false,
     "start_time": "2023-07-25T18:42:28.907491",
     "status": "completed"
    },
    "tags": []
   },
   "outputs": [
    {
     "data": {
      "text/plain": [
       "0    23\n",
       "1    42\n",
       "2    13\n",
       "3    90\n",
       "dtype: int64"
      ]
     },
     "execution_count": 23,
     "metadata": {},
     "output_type": "execute_result"
    }
   ],
   "source": [
    "seri[0:4]"
   ]
  },
  {
   "cell_type": "code",
   "execution_count": 24,
   "id": "52a0da19",
   "metadata": {
    "execution": {
     "iopub.execute_input": "2023-07-25T18:42:28.982659Z",
     "iopub.status.busy": "2023-07-25T18:42:28.981997Z",
     "iopub.status.idle": "2023-07-25T18:42:28.989382Z",
     "shell.execute_reply": "2023-07-25T18:42:28.988369Z"
    },
    "papermill": {
     "duration": 0.031926,
     "end_time": "2023-07-25T18:42:28.991502",
     "exception": false,
     "start_time": "2023-07-25T18:42:28.959576",
     "status": "completed"
    },
    "tags": []
   },
   "outputs": [
    {
     "data": {
      "text/plain": [
       "4    80\n",
       "5    68\n",
       "dtype: int64"
      ]
     },
     "execution_count": 24,
     "metadata": {},
     "output_type": "execute_result"
    }
   ],
   "source": [
    "seri[4:]"
   ]
  },
  {
   "cell_type": "code",
   "execution_count": 25,
   "id": "4faa8beb",
   "metadata": {
    "execution": {
     "iopub.execute_input": "2023-07-25T18:42:29.037089Z",
     "iopub.status.busy": "2023-07-25T18:42:29.036693Z",
     "iopub.status.idle": "2023-07-25T18:42:29.043653Z",
     "shell.execute_reply": "2023-07-25T18:42:29.042618Z"
    },
    "papermill": {
     "duration": 0.03222,
     "end_time": "2023-07-25T18:42:29.045761",
     "exception": false,
     "start_time": "2023-07-25T18:42:29.013541",
     "status": "completed"
    },
    "tags": []
   },
   "outputs": [
    {
     "data": {
      "text/plain": [
       "<bound method Series.keys of 0    23\n",
       "1    42\n",
       "2    13\n",
       "3    90\n",
       "4    80\n",
       "5    68\n",
       "dtype: int64>"
      ]
     },
     "execution_count": 25,
     "metadata": {},
     "output_type": "execute_result"
    }
   ],
   "source": [
    "seri.keys"
   ]
  },
  {
   "cell_type": "code",
   "execution_count": 26,
   "id": "1171ee48",
   "metadata": {
    "execution": {
     "iopub.execute_input": "2023-07-25T18:42:29.089916Z",
     "iopub.status.busy": "2023-07-25T18:42:29.089496Z",
     "iopub.status.idle": "2023-07-25T18:42:29.096005Z",
     "shell.execute_reply": "2023-07-25T18:42:29.094897Z"
    },
    "papermill": {
     "duration": 0.031341,
     "end_time": "2023-07-25T18:42:29.098332",
     "exception": false,
     "start_time": "2023-07-25T18:42:29.066991",
     "status": "completed"
    },
    "tags": []
   },
   "outputs": [
    {
     "data": {
      "text/plain": [
       "RangeIndex(start=0, stop=6, step=1)"
      ]
     },
     "execution_count": 26,
     "metadata": {},
     "output_type": "execute_result"
    }
   ],
   "source": [
    "seri.index"
   ]
  },
  {
   "cell_type": "code",
   "execution_count": 27,
   "id": "f4f2896d",
   "metadata": {
    "execution": {
     "iopub.execute_input": "2023-07-25T18:42:29.143419Z",
     "iopub.status.busy": "2023-07-25T18:42:29.142649Z",
     "iopub.status.idle": "2023-07-25T18:42:29.150009Z",
     "shell.execute_reply": "2023-07-25T18:42:29.148978Z"
    },
    "papermill": {
     "duration": 0.032052,
     "end_time": "2023-07-25T18:42:29.152313",
     "exception": false,
     "start_time": "2023-07-25T18:42:29.120261",
     "status": "completed"
    },
    "tags": []
   },
   "outputs": [
    {
     "data": {
      "text/plain": [
       "[(0, 23), (1, 42), (2, 13), (3, 90), (4, 80), (5, 68)]"
      ]
     },
     "execution_count": 27,
     "metadata": {},
     "output_type": "execute_result"
    }
   ],
   "source": [
    "list(seri.items())"
   ]
  },
  {
   "cell_type": "code",
   "execution_count": 28,
   "id": "79301a4b",
   "metadata": {
    "execution": {
     "iopub.execute_input": "2023-07-25T18:42:29.197084Z",
     "iopub.status.busy": "2023-07-25T18:42:29.196329Z",
     "iopub.status.idle": "2023-07-25T18:42:29.202604Z",
     "shell.execute_reply": "2023-07-25T18:42:29.201827Z"
    },
    "papermill": {
     "duration": 0.030999,
     "end_time": "2023-07-25T18:42:29.204718",
     "exception": false,
     "start_time": "2023-07-25T18:42:29.173719",
     "status": "completed"
    },
    "tags": []
   },
   "outputs": [
    {
     "data": {
      "text/plain": [
       "array([23, 42, 13, 90, 80, 68])"
      ]
     },
     "execution_count": 28,
     "metadata": {},
     "output_type": "execute_result"
    }
   ],
   "source": [
    "seri.values"
   ]
  },
  {
   "cell_type": "code",
   "execution_count": 29,
   "id": "f917f801",
   "metadata": {
    "execution": {
     "iopub.execute_input": "2023-07-25T18:42:29.250667Z",
     "iopub.status.busy": "2023-07-25T18:42:29.249695Z",
     "iopub.status.idle": "2023-07-25T18:42:29.256696Z",
     "shell.execute_reply": "2023-07-25T18:42:29.255904Z"
    },
    "papermill": {
     "duration": 0.032377,
     "end_time": "2023-07-25T18:42:29.258742",
     "exception": false,
     "start_time": "2023-07-25T18:42:29.226365",
     "status": "completed"
    },
    "tags": []
   },
   "outputs": [
    {
     "data": {
      "text/plain": [
       "0    23\n",
       "1    42\n",
       "2    13\n",
       "3    90\n",
       "4    80\n",
       "5    68\n",
       "dtype: int64"
      ]
     },
     "execution_count": 29,
     "metadata": {},
     "output_type": "execute_result"
    }
   ],
   "source": [
    "seri"
   ]
  },
  {
   "cell_type": "code",
   "execution_count": 30,
   "id": "0235aebd",
   "metadata": {
    "execution": {
     "iopub.execute_input": "2023-07-25T18:42:29.305156Z",
     "iopub.status.busy": "2023-07-25T18:42:29.304397Z",
     "iopub.status.idle": "2023-07-25T18:42:29.310572Z",
     "shell.execute_reply": "2023-07-25T18:42:29.309553Z"
    },
    "papermill": {
     "duration": 0.032238,
     "end_time": "2023-07-25T18:42:29.312818",
     "exception": false,
     "start_time": "2023-07-25T18:42:29.280580",
     "status": "completed"
    },
    "tags": []
   },
   "outputs": [
    {
     "data": {
      "text/plain": [
       "True"
      ]
     },
     "execution_count": 30,
     "metadata": {},
     "output_type": "execute_result"
    }
   ],
   "source": [
    "4 in seri "
   ]
  },
  {
   "cell_type": "code",
   "execution_count": 31,
   "id": "40a93e65",
   "metadata": {
    "execution": {
     "iopub.execute_input": "2023-07-25T18:42:29.357861Z",
     "iopub.status.busy": "2023-07-25T18:42:29.357419Z",
     "iopub.status.idle": "2023-07-25T18:42:29.364186Z",
     "shell.execute_reply": "2023-07-25T18:42:29.363112Z"
    },
    "papermill": {
     "duration": 0.031737,
     "end_time": "2023-07-25T18:42:29.366237",
     "exception": false,
     "start_time": "2023-07-25T18:42:29.334500",
     "status": "completed"
    },
    "tags": []
   },
   "outputs": [
    {
     "data": {
      "text/plain": [
       "False"
      ]
     },
     "execution_count": 31,
     "metadata": {},
     "output_type": "execute_result"
    }
   ],
   "source": [
    "42 in seri"
   ]
  },
  {
   "cell_type": "code",
   "execution_count": 32,
   "id": "fc4bd50d",
   "metadata": {
    "execution": {
     "iopub.execute_input": "2023-07-25T18:42:29.411302Z",
     "iopub.status.busy": "2023-07-25T18:42:29.410623Z",
     "iopub.status.idle": "2023-07-25T18:42:29.416561Z",
     "shell.execute_reply": "2023-07-25T18:42:29.415776Z"
    },
    "papermill": {
     "duration": 0.030798,
     "end_time": "2023-07-25T18:42:29.418489",
     "exception": false,
     "start_time": "2023-07-25T18:42:29.387691",
     "status": "completed"
    },
    "tags": []
   },
   "outputs": [
    {
     "data": {
      "text/plain": [
       "[20, 43, 12, 98, 36]"
      ]
     },
     "execution_count": 32,
     "metadata": {},
     "output_type": "execute_result"
    }
   ],
   "source": [
    "\n",
    "l = [20, 43, 12, 98, 36]\n",
    "l"
   ]
  },
  {
   "cell_type": "code",
   "execution_count": 33,
   "id": "d735e8f1",
   "metadata": {
    "execution": {
     "iopub.execute_input": "2023-07-25T18:42:29.463921Z",
     "iopub.status.busy": "2023-07-25T18:42:29.463497Z",
     "iopub.status.idle": "2023-07-25T18:42:29.476295Z",
     "shell.execute_reply": "2023-07-25T18:42:29.475358Z"
    },
    "papermill": {
     "duration": 0.038047,
     "end_time": "2023-07-25T18:42:29.478300",
     "exception": false,
     "start_time": "2023-07-25T18:42:29.440253",
     "status": "completed"
    },
    "tags": []
   },
   "outputs": [
    {
     "data": {
      "text/html": [
       "<div>\n",
       "<style scoped>\n",
       "    .dataframe tbody tr th:only-of-type {\n",
       "        vertical-align: middle;\n",
       "    }\n",
       "\n",
       "    .dataframe tbody tr th {\n",
       "        vertical-align: top;\n",
       "    }\n",
       "\n",
       "    .dataframe thead th {\n",
       "        text-align: right;\n",
       "    }\n",
       "</style>\n",
       "<table border=\"1\" class=\"dataframe\">\n",
       "  <thead>\n",
       "    <tr style=\"text-align: right;\">\n",
       "      <th></th>\n",
       "      <th>col name</th>\n",
       "    </tr>\n",
       "  </thead>\n",
       "  <tbody>\n",
       "    <tr>\n",
       "      <th>0</th>\n",
       "      <td>20</td>\n",
       "    </tr>\n",
       "    <tr>\n",
       "      <th>1</th>\n",
       "      <td>43</td>\n",
       "    </tr>\n",
       "    <tr>\n",
       "      <th>2</th>\n",
       "      <td>12</td>\n",
       "    </tr>\n",
       "    <tr>\n",
       "      <th>3</th>\n",
       "      <td>98</td>\n",
       "    </tr>\n",
       "    <tr>\n",
       "      <th>4</th>\n",
       "      <td>36</td>\n",
       "    </tr>\n",
       "  </tbody>\n",
       "</table>\n",
       "</div>"
      ],
      "text/plain": [
       "   col name\n",
       "0        20\n",
       "1        43\n",
       "2        12\n",
       "3        98\n",
       "4        36"
      ]
     },
     "execution_count": 33,
     "metadata": {},
     "output_type": "execute_result"
    }
   ],
   "source": [
    "pd.DataFrame(l, columns = [\"col name\"])"
   ]
  },
  {
   "cell_type": "code",
   "execution_count": 34,
   "id": "435cc280",
   "metadata": {
    "execution": {
     "iopub.execute_input": "2023-07-25T18:42:29.524616Z",
     "iopub.status.busy": "2023-07-25T18:42:29.523883Z",
     "iopub.status.idle": "2023-07-25T18:42:29.528223Z",
     "shell.execute_reply": "2023-07-25T18:42:29.527286Z"
    },
    "papermill": {
     "duration": 0.030154,
     "end_time": "2023-07-25T18:42:29.530641",
     "exception": false,
     "start_time": "2023-07-25T18:42:29.500487",
     "status": "completed"
    },
    "tags": []
   },
   "outputs": [],
   "source": [
    "import numpy as np"
   ]
  },
  {
   "cell_type": "code",
   "execution_count": 35,
   "id": "34617ff7",
   "metadata": {
    "execution": {
     "iopub.execute_input": "2023-07-25T18:42:29.576633Z",
     "iopub.status.busy": "2023-07-25T18:42:29.575832Z",
     "iopub.status.idle": "2023-07-25T18:42:29.585924Z",
     "shell.execute_reply": "2023-07-25T18:42:29.585146Z"
    },
    "papermill": {
     "duration": 0.035399,
     "end_time": "2023-07-25T18:42:29.588071",
     "exception": false,
     "start_time": "2023-07-25T18:42:29.552672",
     "status": "completed"
    },
    "tags": []
   },
   "outputs": [
    {
     "data": {
      "text/plain": [
       "array([6, 0, 7, 2, 3])"
      ]
     },
     "execution_count": 35,
     "metadata": {},
     "output_type": "execute_result"
    }
   ],
   "source": [
    "k1 = np.random.randint(10, size = 5)\n",
    "k2 = np.random.randint(10, size = 5)\n",
    "k3 = np.random.randint(10, size = 5)\n",
    "k1"
   ]
  },
  {
   "cell_type": "code",
   "execution_count": 36,
   "id": "7c48f184",
   "metadata": {
    "execution": {
     "iopub.execute_input": "2023-07-25T18:42:29.634177Z",
     "iopub.status.busy": "2023-07-25T18:42:29.633324Z",
     "iopub.status.idle": "2023-07-25T18:42:29.640897Z",
     "shell.execute_reply": "2023-07-25T18:42:29.640065Z"
    },
    "papermill": {
     "duration": 0.033685,
     "end_time": "2023-07-25T18:42:29.643812",
     "exception": false,
     "start_time": "2023-07-25T18:42:29.610127",
     "status": "completed"
    },
    "tags": []
   },
   "outputs": [
    {
     "data": {
      "text/plain": [
       "{'var1': array([6, 0, 7, 2, 3]),\n",
       " 'var2': array([1, 4, 2, 8, 7]),\n",
       " 'var3': array([1, 5, 0, 6, 3])}"
      ]
     },
     "execution_count": 36,
     "metadata": {},
     "output_type": "execute_result"
    }
   ],
   "source": [
    "dict = {\"var1\":k1,\n",
    "        \"var2\":k2,\n",
    "        \"var3\":k3\n",
    "       }\n",
    "\n",
    "dict"
   ]
  },
  {
   "cell_type": "code",
   "execution_count": 37,
   "id": "c3faeb61",
   "metadata": {
    "execution": {
     "iopub.execute_input": "2023-07-25T18:42:29.690719Z",
     "iopub.status.busy": "2023-07-25T18:42:29.690021Z",
     "iopub.status.idle": "2023-07-25T18:42:29.694281Z",
     "shell.execute_reply": "2023-07-25T18:42:29.693471Z"
    },
    "papermill": {
     "duration": 0.029632,
     "end_time": "2023-07-25T18:42:29.696363",
     "exception": false,
     "start_time": "2023-07-25T18:42:29.666731",
     "status": "completed"
    },
    "tags": []
   },
   "outputs": [],
   "source": [
    "import pandas as pd"
   ]
  },
  {
   "cell_type": "code",
   "execution_count": 38,
   "id": "2ba236ca",
   "metadata": {
    "execution": {
     "iopub.execute_input": "2023-07-25T18:42:29.743065Z",
     "iopub.status.busy": "2023-07-25T18:42:29.742355Z",
     "iopub.status.idle": "2023-07-25T18:42:29.752254Z",
     "shell.execute_reply": "2023-07-25T18:42:29.751168Z"
    },
    "papermill": {
     "duration": 0.035308,
     "end_time": "2023-07-25T18:42:29.754560",
     "exception": false,
     "start_time": "2023-07-25T18:42:29.719252",
     "status": "completed"
    },
    "tags": []
   },
   "outputs": [
    {
     "data": {
      "text/html": [
       "<div>\n",
       "<style scoped>\n",
       "    .dataframe tbody tr th:only-of-type {\n",
       "        vertical-align: middle;\n",
       "    }\n",
       "\n",
       "    .dataframe tbody tr th {\n",
       "        vertical-align: top;\n",
       "    }\n",
       "\n",
       "    .dataframe thead th {\n",
       "        text-align: right;\n",
       "    }\n",
       "</style>\n",
       "<table border=\"1\" class=\"dataframe\">\n",
       "  <thead>\n",
       "    <tr style=\"text-align: right;\">\n",
       "      <th></th>\n",
       "      <th>var1</th>\n",
       "      <th>var2</th>\n",
       "      <th>var3</th>\n",
       "    </tr>\n",
       "  </thead>\n",
       "  <tbody>\n",
       "    <tr>\n",
       "      <th>0</th>\n",
       "      <td>6</td>\n",
       "      <td>1</td>\n",
       "      <td>1</td>\n",
       "    </tr>\n",
       "    <tr>\n",
       "      <th>1</th>\n",
       "      <td>0</td>\n",
       "      <td>4</td>\n",
       "      <td>5</td>\n",
       "    </tr>\n",
       "    <tr>\n",
       "      <th>2</th>\n",
       "      <td>7</td>\n",
       "      <td>2</td>\n",
       "      <td>0</td>\n",
       "    </tr>\n",
       "    <tr>\n",
       "      <th>3</th>\n",
       "      <td>2</td>\n",
       "      <td>8</td>\n",
       "      <td>6</td>\n",
       "    </tr>\n",
       "    <tr>\n",
       "      <th>4</th>\n",
       "      <td>3</td>\n",
       "      <td>7</td>\n",
       "      <td>3</td>\n",
       "    </tr>\n",
       "  </tbody>\n",
       "</table>\n",
       "</div>"
      ],
      "text/plain": [
       "   var1  var2  var3\n",
       "0     6     1     1\n",
       "1     0     4     5\n",
       "2     7     2     0\n",
       "3     2     8     6\n",
       "4     3     7     3"
      ]
     },
     "execution_count": 38,
     "metadata": {},
     "output_type": "execute_result"
    }
   ],
   "source": [
    "df = pd.DataFrame(dict)\n",
    "df"
   ]
  },
  {
   "cell_type": "code",
   "execution_count": 39,
   "id": "008560ef",
   "metadata": {
    "execution": {
     "iopub.execute_input": "2023-07-25T18:42:29.801623Z",
     "iopub.status.busy": "2023-07-25T18:42:29.801193Z",
     "iopub.status.idle": "2023-07-25T18:42:29.810531Z",
     "shell.execute_reply": "2023-07-25T18:42:29.809703Z"
    },
    "papermill": {
     "duration": 0.035166,
     "end_time": "2023-07-25T18:42:29.812426",
     "exception": false,
     "start_time": "2023-07-25T18:42:29.777260",
     "status": "completed"
    },
    "tags": []
   },
   "outputs": [
    {
     "data": {
      "text/html": [
       "<div>\n",
       "<style scoped>\n",
       "    .dataframe tbody tr th:only-of-type {\n",
       "        vertical-align: middle;\n",
       "    }\n",
       "\n",
       "    .dataframe tbody tr th {\n",
       "        vertical-align: top;\n",
       "    }\n",
       "\n",
       "    .dataframe thead th {\n",
       "        text-align: right;\n",
       "    }\n",
       "</style>\n",
       "<table border=\"1\" class=\"dataframe\">\n",
       "  <thead>\n",
       "    <tr style=\"text-align: right;\">\n",
       "      <th></th>\n",
       "      <th>var1</th>\n",
       "      <th>var2</th>\n",
       "      <th>var3</th>\n",
       "    </tr>\n",
       "  </thead>\n",
       "  <tbody>\n",
       "    <tr>\n",
       "      <th>0</th>\n",
       "      <td>6</td>\n",
       "      <td>1</td>\n",
       "      <td>1</td>\n",
       "    </tr>\n",
       "  </tbody>\n",
       "</table>\n",
       "</div>"
      ],
      "text/plain": [
       "   var1  var2  var3\n",
       "0     6     1     1"
      ]
     },
     "execution_count": 39,
     "metadata": {},
     "output_type": "execute_result"
    }
   ],
   "source": [
    "df[0:1]"
   ]
  },
  {
   "cell_type": "code",
   "execution_count": 40,
   "id": "1299e79b",
   "metadata": {
    "execution": {
     "iopub.execute_input": "2023-07-25T18:42:29.861380Z",
     "iopub.status.busy": "2023-07-25T18:42:29.860123Z",
     "iopub.status.idle": "2023-07-25T18:42:29.867791Z",
     "shell.execute_reply": "2023-07-25T18:42:29.866881Z"
    },
    "papermill": {
     "duration": 0.034551,
     "end_time": "2023-07-25T18:42:29.869959",
     "exception": false,
     "start_time": "2023-07-25T18:42:29.835408",
     "status": "completed"
    },
    "tags": []
   },
   "outputs": [
    {
     "data": {
      "text/plain": [
       "RangeIndex(start=0, stop=5, step=1)"
      ]
     },
     "execution_count": 40,
     "metadata": {},
     "output_type": "execute_result"
    }
   ],
   "source": [
    "df.index"
   ]
  },
  {
   "cell_type": "code",
   "execution_count": 41,
   "id": "7c37979d",
   "metadata": {
    "execution": {
     "iopub.execute_input": "2023-07-25T18:42:29.917714Z",
     "iopub.status.busy": "2023-07-25T18:42:29.917069Z",
     "iopub.status.idle": "2023-07-25T18:42:29.921576Z",
     "shell.execute_reply": "2023-07-25T18:42:29.920749Z"
    },
    "papermill": {
     "duration": 0.031331,
     "end_time": "2023-07-25T18:42:29.923909",
     "exception": false,
     "start_time": "2023-07-25T18:42:29.892578",
     "status": "completed"
    },
    "tags": []
   },
   "outputs": [],
   "source": [
    "df.index = [\"x\", \"y\", \"z\", \"q\", \"w\"]"
   ]
  },
  {
   "cell_type": "code",
   "execution_count": 42,
   "id": "90bf5441",
   "metadata": {
    "execution": {
     "iopub.execute_input": "2023-07-25T18:42:29.971388Z",
     "iopub.status.busy": "2023-07-25T18:42:29.970678Z",
     "iopub.status.idle": "2023-07-25T18:42:29.976750Z",
     "shell.execute_reply": "2023-07-25T18:42:29.975913Z"
    },
    "papermill": {
     "duration": 0.031885,
     "end_time": "2023-07-25T18:42:29.978688",
     "exception": false,
     "start_time": "2023-07-25T18:42:29.946803",
     "status": "completed"
    },
    "tags": []
   },
   "outputs": [
    {
     "data": {
      "text/plain": [
       "Index(['x', 'y', 'z', 'q', 'w'], dtype='object')"
      ]
     },
     "execution_count": 42,
     "metadata": {},
     "output_type": "execute_result"
    }
   ],
   "source": [
    "df.index"
   ]
  },
  {
   "cell_type": "code",
   "execution_count": 43,
   "id": "2672b43d",
   "metadata": {
    "execution": {
     "iopub.execute_input": "2023-07-25T18:42:30.025594Z",
     "iopub.status.busy": "2023-07-25T18:42:30.024906Z",
     "iopub.status.idle": "2023-07-25T18:42:30.033646Z",
     "shell.execute_reply": "2023-07-25T18:42:30.032881Z"
    },
    "papermill": {
     "duration": 0.034618,
     "end_time": "2023-07-25T18:42:30.035668",
     "exception": false,
     "start_time": "2023-07-25T18:42:30.001050",
     "status": "completed"
    },
    "tags": []
   },
   "outputs": [
    {
     "data": {
      "text/html": [
       "<div>\n",
       "<style scoped>\n",
       "    .dataframe tbody tr th:only-of-type {\n",
       "        vertical-align: middle;\n",
       "    }\n",
       "\n",
       "    .dataframe tbody tr th {\n",
       "        vertical-align: top;\n",
       "    }\n",
       "\n",
       "    .dataframe thead th {\n",
       "        text-align: right;\n",
       "    }\n",
       "</style>\n",
       "<table border=\"1\" class=\"dataframe\">\n",
       "  <thead>\n",
       "    <tr style=\"text-align: right;\">\n",
       "      <th></th>\n",
       "      <th>var1</th>\n",
       "      <th>var2</th>\n",
       "      <th>var3</th>\n",
       "    </tr>\n",
       "  </thead>\n",
       "  <tbody>\n",
       "    <tr>\n",
       "      <th>x</th>\n",
       "      <td>6</td>\n",
       "      <td>1</td>\n",
       "      <td>1</td>\n",
       "    </tr>\n",
       "    <tr>\n",
       "      <th>y</th>\n",
       "      <td>0</td>\n",
       "      <td>4</td>\n",
       "      <td>5</td>\n",
       "    </tr>\n",
       "    <tr>\n",
       "      <th>z</th>\n",
       "      <td>7</td>\n",
       "      <td>2</td>\n",
       "      <td>0</td>\n",
       "    </tr>\n",
       "    <tr>\n",
       "      <th>q</th>\n",
       "      <td>2</td>\n",
       "      <td>8</td>\n",
       "      <td>6</td>\n",
       "    </tr>\n",
       "    <tr>\n",
       "      <th>w</th>\n",
       "      <td>3</td>\n",
       "      <td>7</td>\n",
       "      <td>3</td>\n",
       "    </tr>\n",
       "  </tbody>\n",
       "</table>\n",
       "</div>"
      ],
      "text/plain": [
       "   var1  var2  var3\n",
       "x     6     1     1\n",
       "y     0     4     5\n",
       "z     7     2     0\n",
       "q     2     8     6\n",
       "w     3     7     3"
      ]
     },
     "execution_count": 43,
     "metadata": {},
     "output_type": "execute_result"
    }
   ],
   "source": [
    "df"
   ]
  },
  {
   "cell_type": "code",
   "execution_count": 44,
   "id": "fec5b203",
   "metadata": {
    "execution": {
     "iopub.execute_input": "2023-07-25T18:42:30.083517Z",
     "iopub.status.busy": "2023-07-25T18:42:30.082837Z",
     "iopub.status.idle": "2023-07-25T18:42:30.091619Z",
     "shell.execute_reply": "2023-07-25T18:42:30.090826Z"
    },
    "papermill": {
     "duration": 0.034957,
     "end_time": "2023-07-25T18:42:30.093665",
     "exception": false,
     "start_time": "2023-07-25T18:42:30.058708",
     "status": "completed"
    },
    "tags": []
   },
   "outputs": [
    {
     "data": {
      "text/html": [
       "<div>\n",
       "<style scoped>\n",
       "    .dataframe tbody tr th:only-of-type {\n",
       "        vertical-align: middle;\n",
       "    }\n",
       "\n",
       "    .dataframe tbody tr th {\n",
       "        vertical-align: top;\n",
       "    }\n",
       "\n",
       "    .dataframe thead th {\n",
       "        text-align: right;\n",
       "    }\n",
       "</style>\n",
       "<table border=\"1\" class=\"dataframe\">\n",
       "  <thead>\n",
       "    <tr style=\"text-align: right;\">\n",
       "      <th></th>\n",
       "      <th>var1</th>\n",
       "      <th>var2</th>\n",
       "      <th>var3</th>\n",
       "    </tr>\n",
       "  </thead>\n",
       "  <tbody>\n",
       "    <tr>\n",
       "      <th>y</th>\n",
       "      <td>0</td>\n",
       "      <td>4</td>\n",
       "      <td>5</td>\n",
       "    </tr>\n",
       "    <tr>\n",
       "      <th>z</th>\n",
       "      <td>7</td>\n",
       "      <td>2</td>\n",
       "      <td>0</td>\n",
       "    </tr>\n",
       "    <tr>\n",
       "      <th>q</th>\n",
       "      <td>2</td>\n",
       "      <td>8</td>\n",
       "      <td>6</td>\n",
       "    </tr>\n",
       "  </tbody>\n",
       "</table>\n",
       "</div>"
      ],
      "text/plain": [
       "   var1  var2  var3\n",
       "y     0     4     5\n",
       "z     7     2     0\n",
       "q     2     8     6"
      ]
     },
     "execution_count": 44,
     "metadata": {},
     "output_type": "execute_result"
    }
   ],
   "source": [
    "df[\n",
    "    \"y\" : \"q\"\n",
    "]"
   ]
  },
  {
   "cell_type": "code",
   "execution_count": 45,
   "id": "3df77c05",
   "metadata": {
    "execution": {
     "iopub.execute_input": "2023-07-25T18:42:30.140938Z",
     "iopub.status.busy": "2023-07-25T18:42:30.140507Z",
     "iopub.status.idle": "2023-07-25T18:42:30.149731Z",
     "shell.execute_reply": "2023-07-25T18:42:30.148731Z"
    },
    "papermill": {
     "duration": 0.035415,
     "end_time": "2023-07-25T18:42:30.151763",
     "exception": false,
     "start_time": "2023-07-25T18:42:30.116348",
     "status": "completed"
    },
    "tags": []
   },
   "outputs": [
    {
     "data": {
      "text/html": [
       "<div>\n",
       "<style scoped>\n",
       "    .dataframe tbody tr th:only-of-type {\n",
       "        vertical-align: middle;\n",
       "    }\n",
       "\n",
       "    .dataframe tbody tr th {\n",
       "        vertical-align: top;\n",
       "    }\n",
       "\n",
       "    .dataframe thead th {\n",
       "        text-align: right;\n",
       "    }\n",
       "</style>\n",
       "<table border=\"1\" class=\"dataframe\">\n",
       "  <thead>\n",
       "    <tr style=\"text-align: right;\">\n",
       "      <th></th>\n",
       "      <th>var1</th>\n",
       "      <th>var2</th>\n",
       "      <th>var3</th>\n",
       "    </tr>\n",
       "  </thead>\n",
       "  <tbody>\n",
       "    <tr>\n",
       "      <th>x</th>\n",
       "      <td>6</td>\n",
       "      <td>1</td>\n",
       "      <td>1</td>\n",
       "    </tr>\n",
       "    <tr>\n",
       "      <th>y</th>\n",
       "      <td>0</td>\n",
       "      <td>4</td>\n",
       "      <td>5</td>\n",
       "    </tr>\n",
       "    <tr>\n",
       "      <th>z</th>\n",
       "      <td>7</td>\n",
       "      <td>2</td>\n",
       "      <td>0</td>\n",
       "    </tr>\n",
       "    <tr>\n",
       "      <th>q</th>\n",
       "      <td>2</td>\n",
       "      <td>8</td>\n",
       "      <td>6</td>\n",
       "    </tr>\n",
       "    <tr>\n",
       "      <th>w</th>\n",
       "      <td>3</td>\n",
       "      <td>7</td>\n",
       "      <td>3</td>\n",
       "    </tr>\n",
       "  </tbody>\n",
       "</table>\n",
       "</div>"
      ],
      "text/plain": [
       "   var1  var2  var3\n",
       "x     6     1     1\n",
       "y     0     4     5\n",
       "z     7     2     0\n",
       "q     2     8     6\n",
       "w     3     7     3"
      ]
     },
     "execution_count": 45,
     "metadata": {},
     "output_type": "execute_result"
    }
   ],
   "source": [
    "df"
   ]
  },
  {
   "cell_type": "code",
   "execution_count": 46,
   "id": "8f6593e7",
   "metadata": {
    "execution": {
     "iopub.execute_input": "2023-07-25T18:42:30.199242Z",
     "iopub.status.busy": "2023-07-25T18:42:30.198822Z",
     "iopub.status.idle": "2023-07-25T18:42:30.213144Z",
     "shell.execute_reply": "2023-07-25T18:42:30.212305Z"
    },
    "papermill": {
     "duration": 0.04087,
     "end_time": "2023-07-25T18:42:30.215510",
     "exception": false,
     "start_time": "2023-07-25T18:42:30.174640",
     "status": "completed"
    },
    "tags": []
   },
   "outputs": [
    {
     "data": {
      "text/html": [
       "<div>\n",
       "<style scoped>\n",
       "    .dataframe tbody tr th:only-of-type {\n",
       "        vertical-align: middle;\n",
       "    }\n",
       "\n",
       "    .dataframe tbody tr th {\n",
       "        vertical-align: top;\n",
       "    }\n",
       "\n",
       "    .dataframe thead th {\n",
       "        text-align: right;\n",
       "    }\n",
       "</style>\n",
       "<table border=\"1\" class=\"dataframe\">\n",
       "  <thead>\n",
       "    <tr style=\"text-align: right;\">\n",
       "      <th></th>\n",
       "      <th>var1</th>\n",
       "      <th>var2</th>\n",
       "      <th>var3</th>\n",
       "    </tr>\n",
       "  </thead>\n",
       "  <tbody>\n",
       "    <tr>\n",
       "      <th>y</th>\n",
       "      <td>0</td>\n",
       "      <td>4</td>\n",
       "      <td>5</td>\n",
       "    </tr>\n",
       "    <tr>\n",
       "      <th>z</th>\n",
       "      <td>7</td>\n",
       "      <td>2</td>\n",
       "      <td>0</td>\n",
       "    </tr>\n",
       "    <tr>\n",
       "      <th>q</th>\n",
       "      <td>2</td>\n",
       "      <td>8</td>\n",
       "      <td>6</td>\n",
       "    </tr>\n",
       "    <tr>\n",
       "      <th>w</th>\n",
       "      <td>3</td>\n",
       "      <td>7</td>\n",
       "      <td>3</td>\n",
       "    </tr>\n",
       "  </tbody>\n",
       "</table>\n",
       "</div>"
      ],
      "text/plain": [
       "   var1  var2  var3\n",
       "y     0     4     5\n",
       "z     7     2     0\n",
       "q     2     8     6\n",
       "w     3     7     3"
      ]
     },
     "execution_count": 46,
     "metadata": {},
     "output_type": "execute_result"
    }
   ],
   "source": [
    "df.drop(\"x\")"
   ]
  },
  {
   "cell_type": "code",
   "execution_count": 47,
   "id": "9c29922a",
   "metadata": {
    "execution": {
     "iopub.execute_input": "2023-07-25T18:42:30.266098Z",
     "iopub.status.busy": "2023-07-25T18:42:30.265286Z",
     "iopub.status.idle": "2023-07-25T18:42:30.274605Z",
     "shell.execute_reply": "2023-07-25T18:42:30.273439Z"
    },
    "papermill": {
     "duration": 0.037104,
     "end_time": "2023-07-25T18:42:30.276887",
     "exception": false,
     "start_time": "2023-07-25T18:42:30.239783",
     "status": "completed"
    },
    "tags": []
   },
   "outputs": [
    {
     "data": {
      "text/html": [
       "<div>\n",
       "<style scoped>\n",
       "    .dataframe tbody tr th:only-of-type {\n",
       "        vertical-align: middle;\n",
       "    }\n",
       "\n",
       "    .dataframe tbody tr th {\n",
       "        vertical-align: top;\n",
       "    }\n",
       "\n",
       "    .dataframe thead th {\n",
       "        text-align: right;\n",
       "    }\n",
       "</style>\n",
       "<table border=\"1\" class=\"dataframe\">\n",
       "  <thead>\n",
       "    <tr style=\"text-align: right;\">\n",
       "      <th></th>\n",
       "      <th>var1</th>\n",
       "      <th>var2</th>\n",
       "      <th>var3</th>\n",
       "    </tr>\n",
       "  </thead>\n",
       "  <tbody>\n",
       "    <tr>\n",
       "      <th>x</th>\n",
       "      <td>6</td>\n",
       "      <td>1</td>\n",
       "      <td>1</td>\n",
       "    </tr>\n",
       "    <tr>\n",
       "      <th>y</th>\n",
       "      <td>0</td>\n",
       "      <td>4</td>\n",
       "      <td>5</td>\n",
       "    </tr>\n",
       "    <tr>\n",
       "      <th>z</th>\n",
       "      <td>7</td>\n",
       "      <td>2</td>\n",
       "      <td>0</td>\n",
       "    </tr>\n",
       "    <tr>\n",
       "      <th>q</th>\n",
       "      <td>2</td>\n",
       "      <td>8</td>\n",
       "      <td>6</td>\n",
       "    </tr>\n",
       "    <tr>\n",
       "      <th>w</th>\n",
       "      <td>3</td>\n",
       "      <td>7</td>\n",
       "      <td>3</td>\n",
       "    </tr>\n",
       "  </tbody>\n",
       "</table>\n",
       "</div>"
      ],
      "text/plain": [
       "   var1  var2  var3\n",
       "x     6     1     1\n",
       "y     0     4     5\n",
       "z     7     2     0\n",
       "q     2     8     6\n",
       "w     3     7     3"
      ]
     },
     "execution_count": 47,
     "metadata": {},
     "output_type": "execute_result"
    }
   ],
   "source": [
    "df"
   ]
  },
  {
   "cell_type": "code",
   "execution_count": 48,
   "id": "52b9d6f1",
   "metadata": {
    "execution": {
     "iopub.execute_input": "2023-07-25T18:42:30.326069Z",
     "iopub.status.busy": "2023-07-25T18:42:30.325636Z",
     "iopub.status.idle": "2023-07-25T18:42:30.331134Z",
     "shell.execute_reply": "2023-07-25T18:42:30.330027Z"
    },
    "papermill": {
     "duration": 0.03307,
     "end_time": "2023-07-25T18:42:30.333364",
     "exception": false,
     "start_time": "2023-07-25T18:42:30.300294",
     "status": "completed"
    },
    "tags": []
   },
   "outputs": [],
   "source": [
    "df.drop(\"x\", inplace= True)"
   ]
  },
  {
   "cell_type": "code",
   "execution_count": 49,
   "id": "253eec84",
   "metadata": {
    "execution": {
     "iopub.execute_input": "2023-07-25T18:42:30.382343Z",
     "iopub.status.busy": "2023-07-25T18:42:30.381929Z",
     "iopub.status.idle": "2023-07-25T18:42:30.391435Z",
     "shell.execute_reply": "2023-07-25T18:42:30.390333Z"
    },
    "papermill": {
     "duration": 0.036371,
     "end_time": "2023-07-25T18:42:30.393631",
     "exception": false,
     "start_time": "2023-07-25T18:42:30.357260",
     "status": "completed"
    },
    "tags": []
   },
   "outputs": [
    {
     "data": {
      "text/html": [
       "<div>\n",
       "<style scoped>\n",
       "    .dataframe tbody tr th:only-of-type {\n",
       "        vertical-align: middle;\n",
       "    }\n",
       "\n",
       "    .dataframe tbody tr th {\n",
       "        vertical-align: top;\n",
       "    }\n",
       "\n",
       "    .dataframe thead th {\n",
       "        text-align: right;\n",
       "    }\n",
       "</style>\n",
       "<table border=\"1\" class=\"dataframe\">\n",
       "  <thead>\n",
       "    <tr style=\"text-align: right;\">\n",
       "      <th></th>\n",
       "      <th>var1</th>\n",
       "      <th>var2</th>\n",
       "      <th>var3</th>\n",
       "    </tr>\n",
       "  </thead>\n",
       "  <tbody>\n",
       "    <tr>\n",
       "      <th>y</th>\n",
       "      <td>0</td>\n",
       "      <td>4</td>\n",
       "      <td>5</td>\n",
       "    </tr>\n",
       "    <tr>\n",
       "      <th>z</th>\n",
       "      <td>7</td>\n",
       "      <td>2</td>\n",
       "      <td>0</td>\n",
       "    </tr>\n",
       "    <tr>\n",
       "      <th>q</th>\n",
       "      <td>2</td>\n",
       "      <td>8</td>\n",
       "      <td>6</td>\n",
       "    </tr>\n",
       "    <tr>\n",
       "      <th>w</th>\n",
       "      <td>3</td>\n",
       "      <td>7</td>\n",
       "      <td>3</td>\n",
       "    </tr>\n",
       "  </tbody>\n",
       "</table>\n",
       "</div>"
      ],
      "text/plain": [
       "   var1  var2  var3\n",
       "y     0     4     5\n",
       "z     7     2     0\n",
       "q     2     8     6\n",
       "w     3     7     3"
      ]
     },
     "execution_count": 49,
     "metadata": {},
     "output_type": "execute_result"
    }
   ],
   "source": [
    "df"
   ]
  },
  {
   "cell_type": "code",
   "execution_count": 50,
   "id": "aa91f6b9",
   "metadata": {
    "execution": {
     "iopub.execute_input": "2023-07-25T18:42:30.442319Z",
     "iopub.status.busy": "2023-07-25T18:42:30.441911Z",
     "iopub.status.idle": "2023-07-25T18:42:30.446718Z",
     "shell.execute_reply": "2023-07-25T18:42:30.445439Z"
    },
    "papermill": {
     "duration": 0.03174,
     "end_time": "2023-07-25T18:42:30.448809",
     "exception": false,
     "start_time": "2023-07-25T18:42:30.417069",
     "status": "completed"
    },
    "tags": []
   },
   "outputs": [],
   "source": [
    "l = [\"w\"]"
   ]
  },
  {
   "cell_type": "code",
   "execution_count": 51,
   "id": "7661ace4",
   "metadata": {
    "execution": {
     "iopub.execute_input": "2023-07-25T18:42:30.497639Z",
     "iopub.status.busy": "2023-07-25T18:42:30.497250Z",
     "iopub.status.idle": "2023-07-25T18:42:30.501405Z",
     "shell.execute_reply": "2023-07-25T18:42:30.500573Z"
    },
    "papermill": {
     "duration": 0.031037,
     "end_time": "2023-07-25T18:42:30.503413",
     "exception": false,
     "start_time": "2023-07-25T18:42:30.472376",
     "status": "completed"
    },
    "tags": []
   },
   "outputs": [],
   "source": [
    "# fancy"
   ]
  },
  {
   "cell_type": "code",
   "execution_count": 52,
   "id": "668c3d74",
   "metadata": {
    "execution": {
     "iopub.execute_input": "2023-07-25T18:42:30.553602Z",
     "iopub.status.busy": "2023-07-25T18:42:30.553189Z",
     "iopub.status.idle": "2023-07-25T18:42:30.563326Z",
     "shell.execute_reply": "2023-07-25T18:42:30.562244Z"
    },
    "papermill": {
     "duration": 0.037582,
     "end_time": "2023-07-25T18:42:30.565393",
     "exception": false,
     "start_time": "2023-07-25T18:42:30.527811",
     "status": "completed"
    },
    "tags": []
   },
   "outputs": [
    {
     "data": {
      "text/html": [
       "<div>\n",
       "<style scoped>\n",
       "    .dataframe tbody tr th:only-of-type {\n",
       "        vertical-align: middle;\n",
       "    }\n",
       "\n",
       "    .dataframe tbody tr th {\n",
       "        vertical-align: top;\n",
       "    }\n",
       "\n",
       "    .dataframe thead th {\n",
       "        text-align: right;\n",
       "    }\n",
       "</style>\n",
       "<table border=\"1\" class=\"dataframe\">\n",
       "  <thead>\n",
       "    <tr style=\"text-align: right;\">\n",
       "      <th></th>\n",
       "      <th>var1</th>\n",
       "      <th>var2</th>\n",
       "      <th>var3</th>\n",
       "    </tr>\n",
       "  </thead>\n",
       "  <tbody>\n",
       "    <tr>\n",
       "      <th>y</th>\n",
       "      <td>0</td>\n",
       "      <td>4</td>\n",
       "      <td>5</td>\n",
       "    </tr>\n",
       "    <tr>\n",
       "      <th>z</th>\n",
       "      <td>7</td>\n",
       "      <td>2</td>\n",
       "      <td>0</td>\n",
       "    </tr>\n",
       "    <tr>\n",
       "      <th>q</th>\n",
       "      <td>2</td>\n",
       "      <td>8</td>\n",
       "      <td>6</td>\n",
       "    </tr>\n",
       "  </tbody>\n",
       "</table>\n",
       "</div>"
      ],
      "text/plain": [
       "   var1  var2  var3\n",
       "y     0     4     5\n",
       "z     7     2     0\n",
       "q     2     8     6"
      ]
     },
     "execution_count": 52,
     "metadata": {},
     "output_type": "execute_result"
    }
   ],
   "source": [
    "df.drop(l)"
   ]
  },
  {
   "cell_type": "code",
   "execution_count": 53,
   "id": "ecb24dc3",
   "metadata": {
    "execution": {
     "iopub.execute_input": "2023-07-25T18:42:30.614574Z",
     "iopub.status.busy": "2023-07-25T18:42:30.614133Z",
     "iopub.status.idle": "2023-07-25T18:42:30.621257Z",
     "shell.execute_reply": "2023-07-25T18:42:30.620099Z"
    },
    "papermill": {
     "duration": 0.034659,
     "end_time": "2023-07-25T18:42:30.623631",
     "exception": false,
     "start_time": "2023-07-25T18:42:30.588972",
     "status": "completed"
    },
    "tags": []
   },
   "outputs": [
    {
     "data": {
      "text/plain": [
       "True"
      ]
     },
     "execution_count": 53,
     "metadata": {},
     "output_type": "execute_result"
    }
   ],
   "source": [
    "\"var1\" in df"
   ]
  },
  {
   "cell_type": "code",
   "execution_count": 54,
   "id": "bd7d8d3d",
   "metadata": {
    "execution": {
     "iopub.execute_input": "2023-07-25T18:42:30.673581Z",
     "iopub.status.busy": "2023-07-25T18:42:30.673181Z",
     "iopub.status.idle": "2023-07-25T18:42:30.678263Z",
     "shell.execute_reply": "2023-07-25T18:42:30.677128Z"
    },
    "papermill": {
     "duration": 0.032369,
     "end_time": "2023-07-25T18:42:30.680338",
     "exception": false,
     "start_time": "2023-07-25T18:42:30.647969",
     "status": "completed"
    },
    "tags": []
   },
   "outputs": [],
   "source": [
    "l = [\"var4\", \"var2\", \"var9\"]"
   ]
  },
  {
   "cell_type": "code",
   "execution_count": 55,
   "id": "69c4aeb9",
   "metadata": {
    "execution": {
     "iopub.execute_input": "2023-07-25T18:42:30.730557Z",
     "iopub.status.busy": "2023-07-25T18:42:30.730121Z",
     "iopub.status.idle": "2023-07-25T18:42:30.740324Z",
     "shell.execute_reply": "2023-07-25T18:42:30.739271Z"
    },
    "papermill": {
     "duration": 0.038161,
     "end_time": "2023-07-25T18:42:30.742241",
     "exception": false,
     "start_time": "2023-07-25T18:42:30.704080",
     "status": "completed"
    },
    "tags": []
   },
   "outputs": [
    {
     "data": {
      "text/html": [
       "<div>\n",
       "<style scoped>\n",
       "    .dataframe tbody tr th:only-of-type {\n",
       "        vertical-align: middle;\n",
       "    }\n",
       "\n",
       "    .dataframe tbody tr th {\n",
       "        vertical-align: top;\n",
       "    }\n",
       "\n",
       "    .dataframe thead th {\n",
       "        text-align: right;\n",
       "    }\n",
       "</style>\n",
       "<table border=\"1\" class=\"dataframe\">\n",
       "  <thead>\n",
       "    <tr style=\"text-align: right;\">\n",
       "      <th></th>\n",
       "      <th>var1</th>\n",
       "      <th>var2</th>\n",
       "      <th>var3</th>\n",
       "    </tr>\n",
       "  </thead>\n",
       "  <tbody>\n",
       "    <tr>\n",
       "      <th>y</th>\n",
       "      <td>0</td>\n",
       "      <td>4</td>\n",
       "      <td>5</td>\n",
       "    </tr>\n",
       "    <tr>\n",
       "      <th>z</th>\n",
       "      <td>7</td>\n",
       "      <td>2</td>\n",
       "      <td>0</td>\n",
       "    </tr>\n",
       "    <tr>\n",
       "      <th>q</th>\n",
       "      <td>2</td>\n",
       "      <td>8</td>\n",
       "      <td>6</td>\n",
       "    </tr>\n",
       "    <tr>\n",
       "      <th>w</th>\n",
       "      <td>3</td>\n",
       "      <td>7</td>\n",
       "      <td>3</td>\n",
       "    </tr>\n",
       "  </tbody>\n",
       "</table>\n",
       "</div>"
      ],
      "text/plain": [
       "   var1  var2  var3\n",
       "y     0     4     5\n",
       "z     7     2     0\n",
       "q     2     8     6\n",
       "w     3     7     3"
      ]
     },
     "execution_count": 55,
     "metadata": {},
     "output_type": "execute_result"
    }
   ],
   "source": [
    "df"
   ]
  },
  {
   "cell_type": "code",
   "execution_count": 56,
   "id": "7178b9da",
   "metadata": {
    "execution": {
     "iopub.execute_input": "2023-07-25T18:42:30.792310Z",
     "iopub.status.busy": "2023-07-25T18:42:30.791930Z",
     "iopub.status.idle": "2023-07-25T18:42:30.797054Z",
     "shell.execute_reply": "2023-07-25T18:42:30.796231Z"
    },
    "papermill": {
     "duration": 0.032928,
     "end_time": "2023-07-25T18:42:30.799347",
     "exception": false,
     "start_time": "2023-07-25T18:42:30.766419",
     "status": "completed"
    },
    "tags": []
   },
   "outputs": [
    {
     "name": "stdout",
     "output_type": "stream",
     "text": [
      "False\n",
      "True\n",
      "False\n"
     ]
    }
   ],
   "source": [
    "for i in l:\n",
    "    print(i in df)"
   ]
  },
  {
   "cell_type": "code",
   "execution_count": 57,
   "id": "4a0591d3",
   "metadata": {
    "execution": {
     "iopub.execute_input": "2023-07-25T18:42:30.849785Z",
     "iopub.status.busy": "2023-07-25T18:42:30.849080Z",
     "iopub.status.idle": "2023-07-25T18:42:30.859331Z",
     "shell.execute_reply": "2023-07-25T18:42:30.858255Z"
    },
    "papermill": {
     "duration": 0.037784,
     "end_time": "2023-07-25T18:42:30.861334",
     "exception": false,
     "start_time": "2023-07-25T18:42:30.823550",
     "status": "completed"
    },
    "tags": []
   },
   "outputs": [
    {
     "data": {
      "text/html": [
       "<div>\n",
       "<style scoped>\n",
       "    .dataframe tbody tr th:only-of-type {\n",
       "        vertical-align: middle;\n",
       "    }\n",
       "\n",
       "    .dataframe tbody tr th {\n",
       "        vertical-align: top;\n",
       "    }\n",
       "\n",
       "    .dataframe thead th {\n",
       "        text-align: right;\n",
       "    }\n",
       "</style>\n",
       "<table border=\"1\" class=\"dataframe\">\n",
       "  <thead>\n",
       "    <tr style=\"text-align: right;\">\n",
       "      <th></th>\n",
       "      <th>var1</th>\n",
       "      <th>var2</th>\n",
       "      <th>var3</th>\n",
       "    </tr>\n",
       "  </thead>\n",
       "  <tbody>\n",
       "    <tr>\n",
       "      <th>y</th>\n",
       "      <td>0</td>\n",
       "      <td>4</td>\n",
       "      <td>5</td>\n",
       "    </tr>\n",
       "    <tr>\n",
       "      <th>z</th>\n",
       "      <td>7</td>\n",
       "      <td>2</td>\n",
       "      <td>0</td>\n",
       "    </tr>\n",
       "    <tr>\n",
       "      <th>q</th>\n",
       "      <td>2</td>\n",
       "      <td>8</td>\n",
       "      <td>6</td>\n",
       "    </tr>\n",
       "    <tr>\n",
       "      <th>w</th>\n",
       "      <td>3</td>\n",
       "      <td>7</td>\n",
       "      <td>3</td>\n",
       "    </tr>\n",
       "  </tbody>\n",
       "</table>\n",
       "</div>"
      ],
      "text/plain": [
       "   var1  var2  var3\n",
       "y     0     4     5\n",
       "z     7     2     0\n",
       "q     2     8     6\n",
       "w     3     7     3"
      ]
     },
     "execution_count": 57,
     "metadata": {},
     "output_type": "execute_result"
    }
   ],
   "source": [
    "df"
   ]
  },
  {
   "cell_type": "code",
   "execution_count": 58,
   "id": "6564ef0c",
   "metadata": {
    "execution": {
     "iopub.execute_input": "2023-07-25T18:42:30.912731Z",
     "iopub.status.busy": "2023-07-25T18:42:30.912345Z",
     "iopub.status.idle": "2023-07-25T18:42:30.918383Z",
     "shell.execute_reply": "2023-07-25T18:42:30.917240Z"
    },
    "papermill": {
     "duration": 0.034915,
     "end_time": "2023-07-25T18:42:30.920615",
     "exception": false,
     "start_time": "2023-07-25T18:42:30.885700",
     "status": "completed"
    },
    "tags": []
   },
   "outputs": [],
   "source": [
    "df[\"var4\"] = df[\"var1\"] + df[\"var2\"]"
   ]
  },
  {
   "cell_type": "code",
   "execution_count": 59,
   "id": "72b89f9d",
   "metadata": {
    "execution": {
     "iopub.execute_input": "2023-07-25T18:42:30.972908Z",
     "iopub.status.busy": "2023-07-25T18:42:30.972015Z",
     "iopub.status.idle": "2023-07-25T18:42:30.983320Z",
     "shell.execute_reply": "2023-07-25T18:42:30.982204Z"
    },
    "papermill": {
     "duration": 0.040614,
     "end_time": "2023-07-25T18:42:30.985715",
     "exception": false,
     "start_time": "2023-07-25T18:42:30.945101",
     "status": "completed"
    },
    "tags": []
   },
   "outputs": [
    {
     "data": {
      "text/html": [
       "<div>\n",
       "<style scoped>\n",
       "    .dataframe tbody tr th:only-of-type {\n",
       "        vertical-align: middle;\n",
       "    }\n",
       "\n",
       "    .dataframe tbody tr th {\n",
       "        vertical-align: top;\n",
       "    }\n",
       "\n",
       "    .dataframe thead th {\n",
       "        text-align: right;\n",
       "    }\n",
       "</style>\n",
       "<table border=\"1\" class=\"dataframe\">\n",
       "  <thead>\n",
       "    <tr style=\"text-align: right;\">\n",
       "      <th></th>\n",
       "      <th>var1</th>\n",
       "      <th>var2</th>\n",
       "      <th>var3</th>\n",
       "      <th>var4</th>\n",
       "    </tr>\n",
       "  </thead>\n",
       "  <tbody>\n",
       "    <tr>\n",
       "      <th>y</th>\n",
       "      <td>0</td>\n",
       "      <td>4</td>\n",
       "      <td>5</td>\n",
       "      <td>4</td>\n",
       "    </tr>\n",
       "    <tr>\n",
       "      <th>z</th>\n",
       "      <td>7</td>\n",
       "      <td>2</td>\n",
       "      <td>0</td>\n",
       "      <td>9</td>\n",
       "    </tr>\n",
       "    <tr>\n",
       "      <th>q</th>\n",
       "      <td>2</td>\n",
       "      <td>8</td>\n",
       "      <td>6</td>\n",
       "      <td>10</td>\n",
       "    </tr>\n",
       "    <tr>\n",
       "      <th>w</th>\n",
       "      <td>3</td>\n",
       "      <td>7</td>\n",
       "      <td>3</td>\n",
       "      <td>10</td>\n",
       "    </tr>\n",
       "  </tbody>\n",
       "</table>\n",
       "</div>"
      ],
      "text/plain": [
       "   var1  var2  var3  var4\n",
       "y     0     4     5     4\n",
       "z     7     2     0     9\n",
       "q     2     8     6    10\n",
       "w     3     7     3    10"
      ]
     },
     "execution_count": 59,
     "metadata": {},
     "output_type": "execute_result"
    }
   ],
   "source": [
    "df"
   ]
  },
  {
   "cell_type": "code",
   "execution_count": 60,
   "id": "f9daf610",
   "metadata": {
    "execution": {
     "iopub.execute_input": "2023-07-25T18:42:31.039122Z",
     "iopub.status.busy": "2023-07-25T18:42:31.038701Z",
     "iopub.status.idle": "2023-07-25T18:42:31.044592Z",
     "shell.execute_reply": "2023-07-25T18:42:31.043533Z"
    },
    "papermill": {
     "duration": 0.036111,
     "end_time": "2023-07-25T18:42:31.047275",
     "exception": false,
     "start_time": "2023-07-25T18:42:31.011164",
     "status": "completed"
    },
    "tags": []
   },
   "outputs": [],
   "source": [
    "df.drop(\"var4\", axis = 1, inplace = True)"
   ]
  },
  {
   "cell_type": "code",
   "execution_count": 61,
   "id": "995ebdeb",
   "metadata": {
    "execution": {
     "iopub.execute_input": "2023-07-25T18:42:31.099764Z",
     "iopub.status.busy": "2023-07-25T18:42:31.099034Z",
     "iopub.status.idle": "2023-07-25T18:42:31.108048Z",
     "shell.execute_reply": "2023-07-25T18:42:31.107249Z"
    },
    "papermill": {
     "duration": 0.037113,
     "end_time": "2023-07-25T18:42:31.110238",
     "exception": false,
     "start_time": "2023-07-25T18:42:31.073125",
     "status": "completed"
    },
    "tags": []
   },
   "outputs": [
    {
     "data": {
      "text/html": [
       "<div>\n",
       "<style scoped>\n",
       "    .dataframe tbody tr th:only-of-type {\n",
       "        vertical-align: middle;\n",
       "    }\n",
       "\n",
       "    .dataframe tbody tr th {\n",
       "        vertical-align: top;\n",
       "    }\n",
       "\n",
       "    .dataframe thead th {\n",
       "        text-align: right;\n",
       "    }\n",
       "</style>\n",
       "<table border=\"1\" class=\"dataframe\">\n",
       "  <thead>\n",
       "    <tr style=\"text-align: right;\">\n",
       "      <th></th>\n",
       "      <th>var1</th>\n",
       "      <th>var2</th>\n",
       "      <th>var3</th>\n",
       "    </tr>\n",
       "  </thead>\n",
       "  <tbody>\n",
       "    <tr>\n",
       "      <th>y</th>\n",
       "      <td>0</td>\n",
       "      <td>4</td>\n",
       "      <td>5</td>\n",
       "    </tr>\n",
       "    <tr>\n",
       "      <th>z</th>\n",
       "      <td>7</td>\n",
       "      <td>2</td>\n",
       "      <td>0</td>\n",
       "    </tr>\n",
       "    <tr>\n",
       "      <th>q</th>\n",
       "      <td>2</td>\n",
       "      <td>8</td>\n",
       "      <td>6</td>\n",
       "    </tr>\n",
       "    <tr>\n",
       "      <th>w</th>\n",
       "      <td>3</td>\n",
       "      <td>7</td>\n",
       "      <td>3</td>\n",
       "    </tr>\n",
       "  </tbody>\n",
       "</table>\n",
       "</div>"
      ],
      "text/plain": [
       "   var1  var2  var3\n",
       "y     0     4     5\n",
       "z     7     2     0\n",
       "q     2     8     6\n",
       "w     3     7     3"
      ]
     },
     "execution_count": 61,
     "metadata": {},
     "output_type": "execute_result"
    }
   ],
   "source": [
    "df"
   ]
  },
  {
   "cell_type": "code",
   "execution_count": 62,
   "id": "7a48acbc",
   "metadata": {
    "execution": {
     "iopub.execute_input": "2023-07-25T18:42:31.162794Z",
     "iopub.status.busy": "2023-07-25T18:42:31.162052Z",
     "iopub.status.idle": "2023-07-25T18:42:31.166380Z",
     "shell.execute_reply": "2023-07-25T18:42:31.165529Z"
    },
    "papermill": {
     "duration": 0.032875,
     "end_time": "2023-07-25T18:42:31.168528",
     "exception": false,
     "start_time": "2023-07-25T18:42:31.135653",
     "status": "completed"
    },
    "tags": []
   },
   "outputs": [],
   "source": [
    "l = [\"var1\"]"
   ]
  },
  {
   "cell_type": "code",
   "execution_count": 63,
   "id": "980aa9f5",
   "metadata": {
    "execution": {
     "iopub.execute_input": "2023-07-25T18:42:31.220709Z",
     "iopub.status.busy": "2023-07-25T18:42:31.220294Z",
     "iopub.status.idle": "2023-07-25T18:42:31.230530Z",
     "shell.execute_reply": "2023-07-25T18:42:31.229412Z"
    },
    "papermill": {
     "duration": 0.039795,
     "end_time": "2023-07-25T18:42:31.232761",
     "exception": false,
     "start_time": "2023-07-25T18:42:31.192966",
     "status": "completed"
    },
    "tags": []
   },
   "outputs": [
    {
     "data": {
      "text/html": [
       "<div>\n",
       "<style scoped>\n",
       "    .dataframe tbody tr th:only-of-type {\n",
       "        vertical-align: middle;\n",
       "    }\n",
       "\n",
       "    .dataframe tbody tr th {\n",
       "        vertical-align: top;\n",
       "    }\n",
       "\n",
       "    .dataframe thead th {\n",
       "        text-align: right;\n",
       "    }\n",
       "</style>\n",
       "<table border=\"1\" class=\"dataframe\">\n",
       "  <thead>\n",
       "    <tr style=\"text-align: right;\">\n",
       "      <th></th>\n",
       "      <th>var2</th>\n",
       "      <th>var3</th>\n",
       "    </tr>\n",
       "  </thead>\n",
       "  <tbody>\n",
       "    <tr>\n",
       "      <th>y</th>\n",
       "      <td>4</td>\n",
       "      <td>5</td>\n",
       "    </tr>\n",
       "    <tr>\n",
       "      <th>z</th>\n",
       "      <td>2</td>\n",
       "      <td>0</td>\n",
       "    </tr>\n",
       "    <tr>\n",
       "      <th>q</th>\n",
       "      <td>8</td>\n",
       "      <td>6</td>\n",
       "    </tr>\n",
       "    <tr>\n",
       "      <th>w</th>\n",
       "      <td>7</td>\n",
       "      <td>3</td>\n",
       "    </tr>\n",
       "  </tbody>\n",
       "</table>\n",
       "</div>"
      ],
      "text/plain": [
       "   var2  var3\n",
       "y     4     5\n",
       "z     2     0\n",
       "q     8     6\n",
       "w     7     3"
      ]
     },
     "execution_count": 63,
     "metadata": {},
     "output_type": "execute_result"
    }
   ],
   "source": [
    "df.drop(l, axis = 1)"
   ]
  },
  {
   "cell_type": "code",
   "execution_count": 64,
   "id": "2e044e16",
   "metadata": {
    "execution": {
     "iopub.execute_input": "2023-07-25T18:42:31.285200Z",
     "iopub.status.busy": "2023-07-25T18:42:31.283958Z",
     "iopub.status.idle": "2023-07-25T18:42:31.293310Z",
     "shell.execute_reply": "2023-07-25T18:42:31.292528Z"
    },
    "papermill": {
     "duration": 0.038032,
     "end_time": "2023-07-25T18:42:31.295323",
     "exception": false,
     "start_time": "2023-07-25T18:42:31.257291",
     "status": "completed"
    },
    "tags": []
   },
   "outputs": [
    {
     "data": {
      "text/html": [
       "<div>\n",
       "<style scoped>\n",
       "    .dataframe tbody tr th:only-of-type {\n",
       "        vertical-align: middle;\n",
       "    }\n",
       "\n",
       "    .dataframe tbody tr th {\n",
       "        vertical-align: top;\n",
       "    }\n",
       "\n",
       "    .dataframe thead th {\n",
       "        text-align: right;\n",
       "    }\n",
       "</style>\n",
       "<table border=\"1\" class=\"dataframe\">\n",
       "  <thead>\n",
       "    <tr style=\"text-align: right;\">\n",
       "      <th></th>\n",
       "      <th>var1</th>\n",
       "      <th>var2</th>\n",
       "      <th>var3</th>\n",
       "    </tr>\n",
       "  </thead>\n",
       "  <tbody>\n",
       "    <tr>\n",
       "      <th>y</th>\n",
       "      <td>0</td>\n",
       "      <td>4</td>\n",
       "      <td>5</td>\n",
       "    </tr>\n",
       "    <tr>\n",
       "      <th>z</th>\n",
       "      <td>7</td>\n",
       "      <td>2</td>\n",
       "      <td>0</td>\n",
       "    </tr>\n",
       "    <tr>\n",
       "      <th>q</th>\n",
       "      <td>2</td>\n",
       "      <td>8</td>\n",
       "      <td>6</td>\n",
       "    </tr>\n",
       "    <tr>\n",
       "      <th>w</th>\n",
       "      <td>3</td>\n",
       "      <td>7</td>\n",
       "      <td>3</td>\n",
       "    </tr>\n",
       "  </tbody>\n",
       "</table>\n",
       "</div>"
      ],
      "text/plain": [
       "   var1  var2  var3\n",
       "y     0     4     5\n",
       "z     7     2     0\n",
       "q     2     8     6\n",
       "w     3     7     3"
      ]
     },
     "execution_count": 64,
     "metadata": {},
     "output_type": "execute_result"
    }
   ],
   "source": [
    "df"
   ]
  },
  {
   "cell_type": "code",
   "execution_count": 65,
   "id": "1e0bdfac",
   "metadata": {
    "execution": {
     "iopub.execute_input": "2023-07-25T18:42:31.347407Z",
     "iopub.status.busy": "2023-07-25T18:42:31.346582Z",
     "iopub.status.idle": "2023-07-25T18:42:31.351780Z",
     "shell.execute_reply": "2023-07-25T18:42:31.350577Z"
    },
    "papermill": {
     "duration": 0.033911,
     "end_time": "2023-07-25T18:42:31.354281",
     "exception": false,
     "start_time": "2023-07-25T18:42:31.320370",
     "status": "completed"
    },
    "tags": []
   },
   "outputs": [],
   "source": [
    "# loc & iloc"
   ]
  },
  {
   "cell_type": "code",
   "execution_count": 66,
   "id": "af752e8b",
   "metadata": {
    "execution": {
     "iopub.execute_input": "2023-07-25T18:42:31.405726Z",
     "iopub.status.busy": "2023-07-25T18:42:31.405360Z",
     "iopub.status.idle": "2023-07-25T18:42:31.409333Z",
     "shell.execute_reply": "2023-07-25T18:42:31.408350Z"
    },
    "papermill": {
     "duration": 0.032277,
     "end_time": "2023-07-25T18:42:31.411394",
     "exception": false,
     "start_time": "2023-07-25T18:42:31.379117",
     "status": "completed"
    },
    "tags": []
   },
   "outputs": [],
   "source": [
    "import numpy as np\n",
    "import pandas as pd"
   ]
  },
  {
   "cell_type": "code",
   "execution_count": 67,
   "id": "188ea194",
   "metadata": {
    "execution": {
     "iopub.execute_input": "2023-07-25T18:42:31.463267Z",
     "iopub.status.busy": "2023-07-25T18:42:31.462866Z",
     "iopub.status.idle": "2023-07-25T18:42:31.467889Z",
     "shell.execute_reply": "2023-07-25T18:42:31.466760Z"
    },
    "papermill": {
     "duration": 0.0336,
     "end_time": "2023-07-25T18:42:31.470230",
     "exception": false,
     "start_time": "2023-07-25T18:42:31.436630",
     "status": "completed"
    },
    "tags": []
   },
   "outputs": [],
   "source": [
    "x = np.random.randint(1, 30 , size = (10, 3)) "
   ]
  },
  {
   "cell_type": "code",
   "execution_count": 68,
   "id": "1314becb",
   "metadata": {
    "execution": {
     "iopub.execute_input": "2023-07-25T18:42:31.522697Z",
     "iopub.status.busy": "2023-07-25T18:42:31.522286Z",
     "iopub.status.idle": "2023-07-25T18:42:31.533212Z",
     "shell.execute_reply": "2023-07-25T18:42:31.532110Z"
    },
    "papermill": {
     "duration": 0.040316,
     "end_time": "2023-07-25T18:42:31.535386",
     "exception": false,
     "start_time": "2023-07-25T18:42:31.495070",
     "status": "completed"
    },
    "tags": []
   },
   "outputs": [
    {
     "data": {
      "text/html": [
       "<div>\n",
       "<style scoped>\n",
       "    .dataframe tbody tr th:only-of-type {\n",
       "        vertical-align: middle;\n",
       "    }\n",
       "\n",
       "    .dataframe tbody tr th {\n",
       "        vertical-align: top;\n",
       "    }\n",
       "\n",
       "    .dataframe thead th {\n",
       "        text-align: right;\n",
       "    }\n",
       "</style>\n",
       "<table border=\"1\" class=\"dataframe\">\n",
       "  <thead>\n",
       "    <tr style=\"text-align: right;\">\n",
       "      <th></th>\n",
       "      <th>var1</th>\n",
       "      <th>var2</th>\n",
       "      <th>var3</th>\n",
       "    </tr>\n",
       "  </thead>\n",
       "  <tbody>\n",
       "    <tr>\n",
       "      <th>0</th>\n",
       "      <td>29</td>\n",
       "      <td>24</td>\n",
       "      <td>29</td>\n",
       "    </tr>\n",
       "    <tr>\n",
       "      <th>1</th>\n",
       "      <td>14</td>\n",
       "      <td>23</td>\n",
       "      <td>5</td>\n",
       "    </tr>\n",
       "    <tr>\n",
       "      <th>2</th>\n",
       "      <td>27</td>\n",
       "      <td>19</td>\n",
       "      <td>13</td>\n",
       "    </tr>\n",
       "    <tr>\n",
       "      <th>3</th>\n",
       "      <td>28</td>\n",
       "      <td>20</td>\n",
       "      <td>25</td>\n",
       "    </tr>\n",
       "    <tr>\n",
       "      <th>4</th>\n",
       "      <td>25</td>\n",
       "      <td>21</td>\n",
       "      <td>17</td>\n",
       "    </tr>\n",
       "    <tr>\n",
       "      <th>5</th>\n",
       "      <td>11</td>\n",
       "      <td>14</td>\n",
       "      <td>2</td>\n",
       "    </tr>\n",
       "    <tr>\n",
       "      <th>6</th>\n",
       "      <td>25</td>\n",
       "      <td>17</td>\n",
       "      <td>5</td>\n",
       "    </tr>\n",
       "    <tr>\n",
       "      <th>7</th>\n",
       "      <td>18</td>\n",
       "      <td>7</td>\n",
       "      <td>29</td>\n",
       "    </tr>\n",
       "    <tr>\n",
       "      <th>8</th>\n",
       "      <td>8</td>\n",
       "      <td>18</td>\n",
       "      <td>25</td>\n",
       "    </tr>\n",
       "    <tr>\n",
       "      <th>9</th>\n",
       "      <td>7</td>\n",
       "      <td>11</td>\n",
       "      <td>11</td>\n",
       "    </tr>\n",
       "  </tbody>\n",
       "</table>\n",
       "</div>"
      ],
      "text/plain": [
       "   var1  var2  var3\n",
       "0    29    24    29\n",
       "1    14    23     5\n",
       "2    27    19    13\n",
       "3    28    20    25\n",
       "4    25    21    17\n",
       "5    11    14     2\n",
       "6    25    17     5\n",
       "7    18     7    29\n",
       "8     8    18    25\n",
       "9     7    11    11"
      ]
     },
     "execution_count": 68,
     "metadata": {},
     "output_type": "execute_result"
    }
   ],
   "source": [
    "df = pd.DataFrame(x, columns = [\"var1\", \"var2\", \"var3\"])\n",
    "df"
   ]
  },
  {
   "cell_type": "code",
   "execution_count": 69,
   "id": "d46090a4",
   "metadata": {
    "execution": {
     "iopub.execute_input": "2023-07-25T18:42:31.587472Z",
     "iopub.status.busy": "2023-07-25T18:42:31.587070Z",
     "iopub.status.idle": "2023-07-25T18:42:31.597054Z",
     "shell.execute_reply": "2023-07-25T18:42:31.595828Z"
    },
    "papermill": {
     "duration": 0.039044,
     "end_time": "2023-07-25T18:42:31.599499",
     "exception": false,
     "start_time": "2023-07-25T18:42:31.560455",
     "status": "completed"
    },
    "tags": []
   },
   "outputs": [
    {
     "data": {
      "text/html": [
       "<div>\n",
       "<style scoped>\n",
       "    .dataframe tbody tr th:only-of-type {\n",
       "        vertical-align: middle;\n",
       "    }\n",
       "\n",
       "    .dataframe tbody tr th {\n",
       "        vertical-align: top;\n",
       "    }\n",
       "\n",
       "    .dataframe thead th {\n",
       "        text-align: right;\n",
       "    }\n",
       "</style>\n",
       "<table border=\"1\" class=\"dataframe\">\n",
       "  <thead>\n",
       "    <tr style=\"text-align: right;\">\n",
       "      <th></th>\n",
       "      <th>var1</th>\n",
       "      <th>var2</th>\n",
       "      <th>var3</th>\n",
       "    </tr>\n",
       "  </thead>\n",
       "  <tbody>\n",
       "    <tr>\n",
       "      <th>0</th>\n",
       "      <td>29</td>\n",
       "      <td>24</td>\n",
       "      <td>29</td>\n",
       "    </tr>\n",
       "    <tr>\n",
       "      <th>1</th>\n",
       "      <td>14</td>\n",
       "      <td>23</td>\n",
       "      <td>5</td>\n",
       "    </tr>\n",
       "    <tr>\n",
       "      <th>2</th>\n",
       "      <td>27</td>\n",
       "      <td>19</td>\n",
       "      <td>13</td>\n",
       "    </tr>\n",
       "    <tr>\n",
       "      <th>3</th>\n",
       "      <td>28</td>\n",
       "      <td>20</td>\n",
       "      <td>25</td>\n",
       "    </tr>\n",
       "  </tbody>\n",
       "</table>\n",
       "</div>"
      ],
      "text/plain": [
       "   var1  var2  var3\n",
       "0    29    24    29\n",
       "1    14    23     5\n",
       "2    27    19    13\n",
       "3    28    20    25"
      ]
     },
     "execution_count": 69,
     "metadata": {},
     "output_type": "execute_result"
    }
   ],
   "source": [
    "df.loc[0:3]"
   ]
  },
  {
   "cell_type": "code",
   "execution_count": 70,
   "id": "75f70a4b",
   "metadata": {
    "execution": {
     "iopub.execute_input": "2023-07-25T18:42:31.654533Z",
     "iopub.status.busy": "2023-07-25T18:42:31.653870Z",
     "iopub.status.idle": "2023-07-25T18:42:31.664414Z",
     "shell.execute_reply": "2023-07-25T18:42:31.663255Z"
    },
    "papermill": {
     "duration": 0.040865,
     "end_time": "2023-07-25T18:42:31.666674",
     "exception": false,
     "start_time": "2023-07-25T18:42:31.625809",
     "status": "completed"
    },
    "tags": []
   },
   "outputs": [
    {
     "data": {
      "text/html": [
       "<div>\n",
       "<style scoped>\n",
       "    .dataframe tbody tr th:only-of-type {\n",
       "        vertical-align: middle;\n",
       "    }\n",
       "\n",
       "    .dataframe tbody tr th {\n",
       "        vertical-align: top;\n",
       "    }\n",
       "\n",
       "    .dataframe thead th {\n",
       "        text-align: right;\n",
       "    }\n",
       "</style>\n",
       "<table border=\"1\" class=\"dataframe\">\n",
       "  <thead>\n",
       "    <tr style=\"text-align: right;\">\n",
       "      <th></th>\n",
       "      <th>var1</th>\n",
       "      <th>var2</th>\n",
       "      <th>var3</th>\n",
       "    </tr>\n",
       "  </thead>\n",
       "  <tbody>\n",
       "    <tr>\n",
       "      <th>0</th>\n",
       "      <td>29</td>\n",
       "      <td>24</td>\n",
       "      <td>29</td>\n",
       "    </tr>\n",
       "    <tr>\n",
       "      <th>1</th>\n",
       "      <td>14</td>\n",
       "      <td>23</td>\n",
       "      <td>5</td>\n",
       "    </tr>\n",
       "    <tr>\n",
       "      <th>2</th>\n",
       "      <td>27</td>\n",
       "      <td>19</td>\n",
       "      <td>13</td>\n",
       "    </tr>\n",
       "  </tbody>\n",
       "</table>\n",
       "</div>"
      ],
      "text/plain": [
       "   var1  var2  var3\n",
       "0    29    24    29\n",
       "1    14    23     5\n",
       "2    27    19    13"
      ]
     },
     "execution_count": 70,
     "metadata": {},
     "output_type": "execute_result"
    }
   ],
   "source": [
    "df.iloc[0:3]"
   ]
  },
  {
   "cell_type": "code",
   "execution_count": 71,
   "id": "7f501c70",
   "metadata": {
    "execution": {
     "iopub.execute_input": "2023-07-25T18:42:31.719908Z",
     "iopub.status.busy": "2023-07-25T18:42:31.719527Z",
     "iopub.status.idle": "2023-07-25T18:42:31.728442Z",
     "shell.execute_reply": "2023-07-25T18:42:31.727582Z"
    },
    "papermill": {
     "duration": 0.037947,
     "end_time": "2023-07-25T18:42:31.730345",
     "exception": false,
     "start_time": "2023-07-25T18:42:31.692398",
     "status": "completed"
    },
    "tags": []
   },
   "outputs": [
    {
     "data": {
      "text/html": [
       "<div>\n",
       "<style scoped>\n",
       "    .dataframe tbody tr th:only-of-type {\n",
       "        vertical-align: middle;\n",
       "    }\n",
       "\n",
       "    .dataframe tbody tr th {\n",
       "        vertical-align: top;\n",
       "    }\n",
       "\n",
       "    .dataframe thead th {\n",
       "        text-align: right;\n",
       "    }\n",
       "</style>\n",
       "<table border=\"1\" class=\"dataframe\">\n",
       "  <thead>\n",
       "    <tr style=\"text-align: right;\">\n",
       "      <th></th>\n",
       "      <th>var1</th>\n",
       "      <th>var2</th>\n",
       "      <th>var3</th>\n",
       "    </tr>\n",
       "  </thead>\n",
       "  <tbody>\n",
       "    <tr>\n",
       "      <th>0</th>\n",
       "      <td>29</td>\n",
       "      <td>24</td>\n",
       "      <td>29</td>\n",
       "    </tr>\n",
       "    <tr>\n",
       "      <th>1</th>\n",
       "      <td>14</td>\n",
       "      <td>23</td>\n",
       "      <td>5</td>\n",
       "    </tr>\n",
       "    <tr>\n",
       "      <th>2</th>\n",
       "      <td>27</td>\n",
       "      <td>19</td>\n",
       "      <td>13</td>\n",
       "    </tr>\n",
       "    <tr>\n",
       "      <th>3</th>\n",
       "      <td>28</td>\n",
       "      <td>20</td>\n",
       "      <td>25</td>\n",
       "    </tr>\n",
       "    <tr>\n",
       "      <th>4</th>\n",
       "      <td>25</td>\n",
       "      <td>21</td>\n",
       "      <td>17</td>\n",
       "    </tr>\n",
       "    <tr>\n",
       "      <th>5</th>\n",
       "      <td>11</td>\n",
       "      <td>14</td>\n",
       "      <td>2</td>\n",
       "    </tr>\n",
       "    <tr>\n",
       "      <th>6</th>\n",
       "      <td>25</td>\n",
       "      <td>17</td>\n",
       "      <td>5</td>\n",
       "    </tr>\n",
       "    <tr>\n",
       "      <th>7</th>\n",
       "      <td>18</td>\n",
       "      <td>7</td>\n",
       "      <td>29</td>\n",
       "    </tr>\n",
       "    <tr>\n",
       "      <th>8</th>\n",
       "      <td>8</td>\n",
       "      <td>18</td>\n",
       "      <td>25</td>\n",
       "    </tr>\n",
       "    <tr>\n",
       "      <th>9</th>\n",
       "      <td>7</td>\n",
       "      <td>11</td>\n",
       "      <td>11</td>\n",
       "    </tr>\n",
       "  </tbody>\n",
       "</table>\n",
       "</div>"
      ],
      "text/plain": [
       "   var1  var2  var3\n",
       "0    29    24    29\n",
       "1    14    23     5\n",
       "2    27    19    13\n",
       "3    28    20    25\n",
       "4    25    21    17\n",
       "5    11    14     2\n",
       "6    25    17     5\n",
       "7    18     7    29\n",
       "8     8    18    25\n",
       "9     7    11    11"
      ]
     },
     "execution_count": 71,
     "metadata": {},
     "output_type": "execute_result"
    }
   ],
   "source": [
    "df"
   ]
  },
  {
   "cell_type": "code",
   "execution_count": 72,
   "id": "0969a3c5",
   "metadata": {
    "execution": {
     "iopub.execute_input": "2023-07-25T18:42:31.784416Z",
     "iopub.status.busy": "2023-07-25T18:42:31.784016Z",
     "iopub.status.idle": "2023-07-25T18:42:31.794241Z",
     "shell.execute_reply": "2023-07-25T18:42:31.793085Z"
    },
    "papermill": {
     "duration": 0.0402,
     "end_time": "2023-07-25T18:42:31.796400",
     "exception": false,
     "start_time": "2023-07-25T18:42:31.756200",
     "status": "completed"
    },
    "tags": []
   },
   "outputs": [
    {
     "data": {
      "text/html": [
       "<div>\n",
       "<style scoped>\n",
       "    .dataframe tbody tr th:only-of-type {\n",
       "        vertical-align: middle;\n",
       "    }\n",
       "\n",
       "    .dataframe tbody tr th {\n",
       "        vertical-align: top;\n",
       "    }\n",
       "\n",
       "    .dataframe thead th {\n",
       "        text-align: right;\n",
       "    }\n",
       "</style>\n",
       "<table border=\"1\" class=\"dataframe\">\n",
       "  <thead>\n",
       "    <tr style=\"text-align: right;\">\n",
       "      <th></th>\n",
       "      <th>var1</th>\n",
       "      <th>var2</th>\n",
       "    </tr>\n",
       "  </thead>\n",
       "  <tbody>\n",
       "    <tr>\n",
       "      <th>0</th>\n",
       "      <td>29</td>\n",
       "      <td>24</td>\n",
       "    </tr>\n",
       "    <tr>\n",
       "      <th>1</th>\n",
       "      <td>14</td>\n",
       "      <td>23</td>\n",
       "    </tr>\n",
       "    <tr>\n",
       "      <th>2</th>\n",
       "      <td>27</td>\n",
       "      <td>19</td>\n",
       "    </tr>\n",
       "  </tbody>\n",
       "</table>\n",
       "</div>"
      ],
      "text/plain": [
       "   var1  var2\n",
       "0    29    24\n",
       "1    14    23\n",
       "2    27    19"
      ]
     },
     "execution_count": 72,
     "metadata": {},
     "output_type": "execute_result"
    }
   ],
   "source": [
    "df.iloc[:3, :2]"
   ]
  },
  {
   "cell_type": "code",
   "execution_count": 73,
   "id": "4763a804",
   "metadata": {
    "execution": {
     "iopub.execute_input": "2023-07-25T18:42:31.850555Z",
     "iopub.status.busy": "2023-07-25T18:42:31.850171Z",
     "iopub.status.idle": "2023-07-25T18:42:31.858669Z",
     "shell.execute_reply": "2023-07-25T18:42:31.857159Z"
    },
    "papermill": {
     "duration": 0.038879,
     "end_time": "2023-07-25T18:42:31.861118",
     "exception": false,
     "start_time": "2023-07-25T18:42:31.822239",
     "status": "completed"
    },
    "tags": []
   },
   "outputs": [
    {
     "data": {
      "text/plain": [
       "0    29\n",
       "1    14\n",
       "2    27\n",
       "3    28\n",
       "Name: var1, dtype: int64"
      ]
     },
     "execution_count": 73,
     "metadata": {},
     "output_type": "execute_result"
    }
   ],
   "source": [
    "df.loc[:3, \"var1\"]"
   ]
  },
  {
   "cell_type": "code",
   "execution_count": 74,
   "id": "6fab7feb",
   "metadata": {
    "execution": {
     "iopub.execute_input": "2023-07-25T18:42:31.916506Z",
     "iopub.status.busy": "2023-07-25T18:42:31.916117Z",
     "iopub.status.idle": "2023-07-25T18:42:31.924861Z",
     "shell.execute_reply": "2023-07-25T18:42:31.923730Z"
    },
    "papermill": {
     "duration": 0.039479,
     "end_time": "2023-07-25T18:42:31.927144",
     "exception": false,
     "start_time": "2023-07-25T18:42:31.887665",
     "status": "completed"
    },
    "tags": []
   },
   "outputs": [
    {
     "data": {
      "text/plain": [
       "0    29\n",
       "1    14\n",
       "2    27\n",
       "3    28\n",
       "Name: var1, dtype: int64"
      ]
     },
     "execution_count": 74,
     "metadata": {},
     "output_type": "execute_result"
    }
   ],
   "source": [
    "df.loc[:3, \"var1\"] # use loc for str or below"
   ]
  },
  {
   "cell_type": "code",
   "execution_count": 75,
   "id": "d22c9d4d",
   "metadata": {
    "execution": {
     "iopub.execute_input": "2023-07-25T18:42:31.980923Z",
     "iopub.status.busy": "2023-07-25T18:42:31.980479Z",
     "iopub.status.idle": "2023-07-25T18:42:31.988061Z",
     "shell.execute_reply": "2023-07-25T18:42:31.987181Z"
    },
    "papermill": {
     "duration": 0.036742,
     "end_time": "2023-07-25T18:42:31.990042",
     "exception": false,
     "start_time": "2023-07-25T18:42:31.953300",
     "status": "completed"
    },
    "tags": []
   },
   "outputs": [
    {
     "data": {
      "text/plain": [
       "0    24\n",
       "1    23\n",
       "2    19\n",
       "Name: var2, dtype: int64"
      ]
     },
     "execution_count": 75,
     "metadata": {},
     "output_type": "execute_result"
    }
   ],
   "source": [
    "df.iloc[0:3] [\"var2\"]"
   ]
  },
  {
   "cell_type": "code",
   "execution_count": 76,
   "id": "5c8075b7",
   "metadata": {
    "execution": {
     "iopub.execute_input": "2023-07-25T18:42:32.044925Z",
     "iopub.status.busy": "2023-07-25T18:42:32.044510Z",
     "iopub.status.idle": "2023-07-25T18:42:32.056557Z",
     "shell.execute_reply": "2023-07-25T18:42:32.055414Z"
    },
    "papermill": {
     "duration": 0.042331,
     "end_time": "2023-07-25T18:42:32.058762",
     "exception": false,
     "start_time": "2023-07-25T18:42:32.016431",
     "status": "completed"
    },
    "tags": []
   },
   "outputs": [
    {
     "data": {
      "text/html": [
       "<div>\n",
       "<style scoped>\n",
       "    .dataframe tbody tr th:only-of-type {\n",
       "        vertical-align: middle;\n",
       "    }\n",
       "\n",
       "    .dataframe tbody tr th {\n",
       "        vertical-align: top;\n",
       "    }\n",
       "\n",
       "    .dataframe thead th {\n",
       "        text-align: right;\n",
       "    }\n",
       "</style>\n",
       "<table border=\"1\" class=\"dataframe\">\n",
       "  <thead>\n",
       "    <tr style=\"text-align: right;\">\n",
       "      <th></th>\n",
       "      <th>var1</th>\n",
       "      <th>var2</th>\n",
       "      <th>var3</th>\n",
       "    </tr>\n",
       "  </thead>\n",
       "  <tbody>\n",
       "    <tr>\n",
       "      <th>0</th>\n",
       "      <td>13</td>\n",
       "      <td>18</td>\n",
       "      <td>22</td>\n",
       "    </tr>\n",
       "    <tr>\n",
       "      <th>1</th>\n",
       "      <td>6</td>\n",
       "      <td>19</td>\n",
       "      <td>27</td>\n",
       "    </tr>\n",
       "    <tr>\n",
       "      <th>2</th>\n",
       "      <td>24</td>\n",
       "      <td>23</td>\n",
       "      <td>8</td>\n",
       "    </tr>\n",
       "    <tr>\n",
       "      <th>3</th>\n",
       "      <td>6</td>\n",
       "      <td>4</td>\n",
       "      <td>8</td>\n",
       "    </tr>\n",
       "    <tr>\n",
       "      <th>4</th>\n",
       "      <td>29</td>\n",
       "      <td>3</td>\n",
       "      <td>9</td>\n",
       "    </tr>\n",
       "    <tr>\n",
       "      <th>5</th>\n",
       "      <td>21</td>\n",
       "      <td>3</td>\n",
       "      <td>6</td>\n",
       "    </tr>\n",
       "    <tr>\n",
       "      <th>6</th>\n",
       "      <td>20</td>\n",
       "      <td>8</td>\n",
       "      <td>1</td>\n",
       "    </tr>\n",
       "    <tr>\n",
       "      <th>7</th>\n",
       "      <td>29</td>\n",
       "      <td>14</td>\n",
       "      <td>26</td>\n",
       "    </tr>\n",
       "    <tr>\n",
       "      <th>8</th>\n",
       "      <td>28</td>\n",
       "      <td>27</td>\n",
       "      <td>29</td>\n",
       "    </tr>\n",
       "    <tr>\n",
       "      <th>9</th>\n",
       "      <td>22</td>\n",
       "      <td>3</td>\n",
       "      <td>29</td>\n",
       "    </tr>\n",
       "  </tbody>\n",
       "</table>\n",
       "</div>"
      ],
      "text/plain": [
       "   var1  var2  var3\n",
       "0    13    18    22\n",
       "1     6    19    27\n",
       "2    24    23     8\n",
       "3     6     4     8\n",
       "4    29     3     9\n",
       "5    21     3     6\n",
       "6    20     8     1\n",
       "7    29    14    26\n",
       "8    28    27    29\n",
       "9    22     3    29"
      ]
     },
     "execution_count": 76,
     "metadata": {},
     "output_type": "execute_result"
    }
   ],
   "source": [
    "x = np.random.randint(1, 30 , size = (10, 3)) \n",
    "df = pd.DataFrame(x, columns = [\"var1\", \"var2\", \"var3\"])\n",
    "df"
   ]
  },
  {
   "cell_type": "code",
   "execution_count": 77,
   "id": "42dc2ea9",
   "metadata": {
    "execution": {
     "iopub.execute_input": "2023-07-25T18:42:32.113994Z",
     "iopub.status.busy": "2023-07-25T18:42:32.113344Z",
     "iopub.status.idle": "2023-07-25T18:42:32.124013Z",
     "shell.execute_reply": "2023-07-25T18:42:32.122790Z"
    },
    "papermill": {
     "duration": 0.040792,
     "end_time": "2023-07-25T18:42:32.126221",
     "exception": false,
     "start_time": "2023-07-25T18:42:32.085429",
     "status": "completed"
    },
    "tags": []
   },
   "outputs": [
    {
     "data": {
      "text/html": [
       "<div>\n",
       "<style scoped>\n",
       "    .dataframe tbody tr th:only-of-type {\n",
       "        vertical-align: middle;\n",
       "    }\n",
       "\n",
       "    .dataframe tbody tr th {\n",
       "        vertical-align: top;\n",
       "    }\n",
       "\n",
       "    .dataframe thead th {\n",
       "        text-align: right;\n",
       "    }\n",
       "</style>\n",
       "<table border=\"1\" class=\"dataframe\">\n",
       "  <thead>\n",
       "    <tr style=\"text-align: right;\">\n",
       "      <th></th>\n",
       "      <th>var1</th>\n",
       "      <th>var2</th>\n",
       "    </tr>\n",
       "  </thead>\n",
       "  <tbody>\n",
       "    <tr>\n",
       "      <th>0</th>\n",
       "      <td>13</td>\n",
       "      <td>18</td>\n",
       "    </tr>\n",
       "    <tr>\n",
       "      <th>1</th>\n",
       "      <td>6</td>\n",
       "      <td>19</td>\n",
       "    </tr>\n",
       "    <tr>\n",
       "      <th>2</th>\n",
       "      <td>24</td>\n",
       "      <td>23</td>\n",
       "    </tr>\n",
       "    <tr>\n",
       "      <th>3</th>\n",
       "      <td>6</td>\n",
       "      <td>4</td>\n",
       "    </tr>\n",
       "  </tbody>\n",
       "</table>\n",
       "</div>"
      ],
      "text/plain": [
       "   var1  var2\n",
       "0    13    18\n",
       "1     6    19\n",
       "2    24    23\n",
       "3     6     4"
      ]
     },
     "execution_count": 77,
     "metadata": {},
     "output_type": "execute_result"
    }
   ],
   "source": [
    "df[0:4][[\"var1\", \"var2\"]]"
   ]
  },
  {
   "cell_type": "code",
   "execution_count": 78,
   "id": "7937b7c1",
   "metadata": {
    "execution": {
     "iopub.execute_input": "2023-07-25T18:42:32.181776Z",
     "iopub.status.busy": "2023-07-25T18:42:32.181146Z",
     "iopub.status.idle": "2023-07-25T18:42:32.190986Z",
     "shell.execute_reply": "2023-07-25T18:42:32.189905Z"
    },
    "papermill": {
     "duration": 0.04036,
     "end_time": "2023-07-25T18:42:32.193183",
     "exception": false,
     "start_time": "2023-07-25T18:42:32.152823",
     "status": "completed"
    },
    "tags": []
   },
   "outputs": [
    {
     "data": {
      "text/html": [
       "<div>\n",
       "<style scoped>\n",
       "    .dataframe tbody tr th:only-of-type {\n",
       "        vertical-align: middle;\n",
       "    }\n",
       "\n",
       "    .dataframe tbody tr th {\n",
       "        vertical-align: top;\n",
       "    }\n",
       "\n",
       "    .dataframe thead th {\n",
       "        text-align: right;\n",
       "    }\n",
       "</style>\n",
       "<table border=\"1\" class=\"dataframe\">\n",
       "  <thead>\n",
       "    <tr style=\"text-align: right;\">\n",
       "      <th></th>\n",
       "      <th>var1</th>\n",
       "      <th>var2</th>\n",
       "      <th>var3</th>\n",
       "    </tr>\n",
       "  </thead>\n",
       "  <tbody>\n",
       "    <tr>\n",
       "      <th>0</th>\n",
       "      <td>13</td>\n",
       "      <td>18</td>\n",
       "      <td>22</td>\n",
       "    </tr>\n",
       "    <tr>\n",
       "      <th>1</th>\n",
       "      <td>6</td>\n",
       "      <td>19</td>\n",
       "      <td>27</td>\n",
       "    </tr>\n",
       "    <tr>\n",
       "      <th>2</th>\n",
       "      <td>24</td>\n",
       "      <td>23</td>\n",
       "      <td>8</td>\n",
       "    </tr>\n",
       "    <tr>\n",
       "      <th>3</th>\n",
       "      <td>6</td>\n",
       "      <td>4</td>\n",
       "      <td>8</td>\n",
       "    </tr>\n",
       "    <tr>\n",
       "      <th>4</th>\n",
       "      <td>29</td>\n",
       "      <td>3</td>\n",
       "      <td>9</td>\n",
       "    </tr>\n",
       "    <tr>\n",
       "      <th>5</th>\n",
       "      <td>21</td>\n",
       "      <td>3</td>\n",
       "      <td>6</td>\n",
       "    </tr>\n",
       "    <tr>\n",
       "      <th>6</th>\n",
       "      <td>20</td>\n",
       "      <td>8</td>\n",
       "      <td>1</td>\n",
       "    </tr>\n",
       "    <tr>\n",
       "      <th>7</th>\n",
       "      <td>29</td>\n",
       "      <td>14</td>\n",
       "      <td>26</td>\n",
       "    </tr>\n",
       "    <tr>\n",
       "      <th>8</th>\n",
       "      <td>28</td>\n",
       "      <td>27</td>\n",
       "      <td>29</td>\n",
       "    </tr>\n",
       "    <tr>\n",
       "      <th>9</th>\n",
       "      <td>22</td>\n",
       "      <td>3</td>\n",
       "      <td>29</td>\n",
       "    </tr>\n",
       "  </tbody>\n",
       "</table>\n",
       "</div>"
      ],
      "text/plain": [
       "   var1  var2  var3\n",
       "0    13    18    22\n",
       "1     6    19    27\n",
       "2    24    23     8\n",
       "3     6     4     8\n",
       "4    29     3     9\n",
       "5    21     3     6\n",
       "6    20     8     1\n",
       "7    29    14    26\n",
       "8    28    27    29\n",
       "9    22     3    29"
      ]
     },
     "execution_count": 78,
     "metadata": {},
     "output_type": "execute_result"
    }
   ],
   "source": [
    "df\n"
   ]
  },
  {
   "cell_type": "code",
   "execution_count": 79,
   "id": "6682630c",
   "metadata": {
    "execution": {
     "iopub.execute_input": "2023-07-25T18:42:32.250801Z",
     "iopub.status.busy": "2023-07-25T18:42:32.250169Z",
     "iopub.status.idle": "2023-07-25T18:42:32.257577Z",
     "shell.execute_reply": "2023-07-25T18:42:32.256508Z"
    },
    "papermill": {
     "duration": 0.039479,
     "end_time": "2023-07-25T18:42:32.259686",
     "exception": false,
     "start_time": "2023-07-25T18:42:32.220207",
     "status": "completed"
    },
    "tags": []
   },
   "outputs": [
    {
     "data": {
      "text/plain": [
       "0    13\n",
       "1     6\n",
       "2    24\n",
       "3     6\n",
       "4    29\n",
       "5    21\n",
       "6    20\n",
       "7    29\n",
       "8    28\n",
       "9    22\n",
       "Name: var1, dtype: int64"
      ]
     },
     "execution_count": 79,
     "metadata": {},
     "output_type": "execute_result"
    }
   ],
   "source": [
    "df.var1"
   ]
  },
  {
   "cell_type": "code",
   "execution_count": 80,
   "id": "bd95b535",
   "metadata": {
    "execution": {
     "iopub.execute_input": "2023-07-25T18:42:32.316589Z",
     "iopub.status.busy": "2023-07-25T18:42:32.315934Z",
     "iopub.status.idle": "2023-07-25T18:42:32.326501Z",
     "shell.execute_reply": "2023-07-25T18:42:32.325414Z"
    },
    "papermill": {
     "duration": 0.04138,
     "end_time": "2023-07-25T18:42:32.328862",
     "exception": false,
     "start_time": "2023-07-25T18:42:32.287482",
     "status": "completed"
    },
    "tags": []
   },
   "outputs": [
    {
     "data": {
      "text/html": [
       "<div>\n",
       "<style scoped>\n",
       "    .dataframe tbody tr th:only-of-type {\n",
       "        vertical-align: middle;\n",
       "    }\n",
       "\n",
       "    .dataframe tbody tr th {\n",
       "        vertical-align: top;\n",
       "    }\n",
       "\n",
       "    .dataframe thead th {\n",
       "        text-align: right;\n",
       "    }\n",
       "</style>\n",
       "<table border=\"1\" class=\"dataframe\">\n",
       "  <thead>\n",
       "    <tr style=\"text-align: right;\">\n",
       "      <th></th>\n",
       "      <th>var1</th>\n",
       "      <th>var2</th>\n",
       "      <th>var3</th>\n",
       "    </tr>\n",
       "  </thead>\n",
       "  <tbody>\n",
       "    <tr>\n",
       "      <th>2</th>\n",
       "      <td>24</td>\n",
       "      <td>23</td>\n",
       "      <td>8</td>\n",
       "    </tr>\n",
       "    <tr>\n",
       "      <th>4</th>\n",
       "      <td>29</td>\n",
       "      <td>3</td>\n",
       "      <td>9</td>\n",
       "    </tr>\n",
       "    <tr>\n",
       "      <th>5</th>\n",
       "      <td>21</td>\n",
       "      <td>3</td>\n",
       "      <td>6</td>\n",
       "    </tr>\n",
       "    <tr>\n",
       "      <th>7</th>\n",
       "      <td>29</td>\n",
       "      <td>14</td>\n",
       "      <td>26</td>\n",
       "    </tr>\n",
       "    <tr>\n",
       "      <th>8</th>\n",
       "      <td>28</td>\n",
       "      <td>27</td>\n",
       "      <td>29</td>\n",
       "    </tr>\n",
       "    <tr>\n",
       "      <th>9</th>\n",
       "      <td>22</td>\n",
       "      <td>3</td>\n",
       "      <td>29</td>\n",
       "    </tr>\n",
       "  </tbody>\n",
       "</table>\n",
       "</div>"
      ],
      "text/plain": [
       "   var1  var2  var3\n",
       "2    24    23     8\n",
       "4    29     3     9\n",
       "5    21     3     6\n",
       "7    29    14    26\n",
       "8    28    27    29\n",
       "9    22     3    29"
      ]
     },
     "execution_count": 80,
     "metadata": {},
     "output_type": "execute_result"
    }
   ],
   "source": [
    "df[df.var1 > 20]"
   ]
  },
  {
   "cell_type": "code",
   "execution_count": 81,
   "id": "ad285b78",
   "metadata": {
    "execution": {
     "iopub.execute_input": "2023-07-25T18:42:32.384809Z",
     "iopub.status.busy": "2023-07-25T18:42:32.384402Z",
     "iopub.status.idle": "2023-07-25T18:42:32.395342Z",
     "shell.execute_reply": "2023-07-25T18:42:32.393972Z"
    },
    "papermill": {
     "duration": 0.041364,
     "end_time": "2023-07-25T18:42:32.397465",
     "exception": false,
     "start_time": "2023-07-25T18:42:32.356101",
     "status": "completed"
    },
    "tags": []
   },
   "outputs": [
    {
     "data": {
      "text/html": [
       "<div>\n",
       "<style scoped>\n",
       "    .dataframe tbody tr th:only-of-type {\n",
       "        vertical-align: middle;\n",
       "    }\n",
       "\n",
       "    .dataframe tbody tr th {\n",
       "        vertical-align: top;\n",
       "    }\n",
       "\n",
       "    .dataframe thead th {\n",
       "        text-align: right;\n",
       "    }\n",
       "</style>\n",
       "<table border=\"1\" class=\"dataframe\">\n",
       "  <thead>\n",
       "    <tr style=\"text-align: right;\">\n",
       "      <th></th>\n",
       "      <th>var1</th>\n",
       "      <th>var2</th>\n",
       "      <th>var3</th>\n",
       "    </tr>\n",
       "  </thead>\n",
       "  <tbody>\n",
       "    <tr>\n",
       "      <th>2</th>\n",
       "      <td>24</td>\n",
       "      <td>23</td>\n",
       "      <td>8</td>\n",
       "    </tr>\n",
       "    <tr>\n",
       "      <th>4</th>\n",
       "      <td>29</td>\n",
       "      <td>3</td>\n",
       "      <td>9</td>\n",
       "    </tr>\n",
       "    <tr>\n",
       "      <th>5</th>\n",
       "      <td>21</td>\n",
       "      <td>3</td>\n",
       "      <td>6</td>\n",
       "    </tr>\n",
       "    <tr>\n",
       "      <th>7</th>\n",
       "      <td>29</td>\n",
       "      <td>14</td>\n",
       "      <td>26</td>\n",
       "    </tr>\n",
       "    <tr>\n",
       "      <th>8</th>\n",
       "      <td>28</td>\n",
       "      <td>27</td>\n",
       "      <td>29</td>\n",
       "    </tr>\n",
       "    <tr>\n",
       "      <th>9</th>\n",
       "      <td>22</td>\n",
       "      <td>3</td>\n",
       "      <td>29</td>\n",
       "    </tr>\n",
       "  </tbody>\n",
       "</table>\n",
       "</div>"
      ],
      "text/plain": [
       "   var1  var2  var3\n",
       "2    24    23     8\n",
       "4    29     3     9\n",
       "5    21     3     6\n",
       "7    29    14    26\n",
       "8    28    27    29\n",
       "9    22     3    29"
      ]
     },
     "execution_count": 81,
     "metadata": {},
     "output_type": "execute_result"
    }
   ],
   "source": [
    "df[(df.var1 > 20) & (df.var3 < 30)] "
   ]
  },
  {
   "cell_type": "code",
   "execution_count": 82,
   "id": "6d1b42aa",
   "metadata": {
    "execution": {
     "iopub.execute_input": "2023-07-25T18:42:32.453988Z",
     "iopub.status.busy": "2023-07-25T18:42:32.453553Z",
     "iopub.status.idle": "2023-07-25T18:42:32.458504Z",
     "shell.execute_reply": "2023-07-25T18:42:32.457433Z"
    },
    "papermill": {
     "duration": 0.035584,
     "end_time": "2023-07-25T18:42:32.460829",
     "exception": false,
     "start_time": "2023-07-25T18:42:32.425245",
     "status": "completed"
    },
    "tags": []
   },
   "outputs": [],
   "source": [
    "import pandas as pd"
   ]
  },
  {
   "cell_type": "code",
   "execution_count": 83,
   "id": "01e393cc",
   "metadata": {
    "execution": {
     "iopub.execute_input": "2023-07-25T18:42:32.519446Z",
     "iopub.status.busy": "2023-07-25T18:42:32.518639Z",
     "iopub.status.idle": "2023-07-25T18:42:32.529597Z",
     "shell.execute_reply": "2023-07-25T18:42:32.528440Z"
    },
    "papermill": {
     "duration": 0.043617,
     "end_time": "2023-07-25T18:42:32.531902",
     "exception": false,
     "start_time": "2023-07-25T18:42:32.488285",
     "status": "completed"
    },
    "tags": []
   },
   "outputs": [
    {
     "data": {
      "text/html": [
       "<div>\n",
       "<style scoped>\n",
       "    .dataframe tbody tr th:only-of-type {\n",
       "        vertical-align: middle;\n",
       "    }\n",
       "\n",
       "    .dataframe tbody tr th {\n",
       "        vertical-align: top;\n",
       "    }\n",
       "\n",
       "    .dataframe thead th {\n",
       "        text-align: right;\n",
       "    }\n",
       "</style>\n",
       "<table border=\"1\" class=\"dataframe\">\n",
       "  <thead>\n",
       "    <tr style=\"text-align: right;\">\n",
       "      <th></th>\n",
       "      <th>workers</th>\n",
       "      <th>group</th>\n",
       "    </tr>\n",
       "  </thead>\n",
       "  <tbody>\n",
       "    <tr>\n",
       "      <th>0</th>\n",
       "      <td>Tamer</td>\n",
       "      <td>Engineering</td>\n",
       "    </tr>\n",
       "    <tr>\n",
       "      <th>1</th>\n",
       "      <td>Mert</td>\n",
       "      <td>HR</td>\n",
       "    </tr>\n",
       "    <tr>\n",
       "      <th>2</th>\n",
       "      <td>Eda</td>\n",
       "      <td>Accounting</td>\n",
       "    </tr>\n",
       "    <tr>\n",
       "      <th>3</th>\n",
       "      <td>Buse</td>\n",
       "      <td>Product</td>\n",
       "    </tr>\n",
       "  </tbody>\n",
       "</table>\n",
       "</div>"
      ],
      "text/plain": [
       "  workers        group\n",
       "0   Tamer  Engineering\n",
       "1    Mert           HR\n",
       "2     Eda   Accounting\n",
       "3    Buse      Product"
      ]
     },
     "execution_count": 83,
     "metadata": {},
     "output_type": "execute_result"
    }
   ],
   "source": [
    "df1 = pd.DataFrame({\"workers\": [\"Tamer\", \"Mert\", \"Eda\", \"Buse\"],\n",
    "                    \"group\" : [\"Engineering\", \"HR\", \"Accounting\", \"Product\"]               \n",
    "                   })\n",
    "df1"
   ]
  },
  {
   "cell_type": "code",
   "execution_count": 84,
   "id": "52b375b4",
   "metadata": {
    "execution": {
     "iopub.execute_input": "2023-07-25T18:42:32.589814Z",
     "iopub.status.busy": "2023-07-25T18:42:32.588914Z",
     "iopub.status.idle": "2023-07-25T18:42:32.601598Z",
     "shell.execute_reply": "2023-07-25T18:42:32.600476Z"
    },
    "papermill": {
     "duration": 0.044499,
     "end_time": "2023-07-25T18:42:32.603799",
     "exception": false,
     "start_time": "2023-07-25T18:42:32.559300",
     "status": "completed"
    },
    "tags": []
   },
   "outputs": [
    {
     "data": {
      "text/html": [
       "<div>\n",
       "<style scoped>\n",
       "    .dataframe tbody tr th:only-of-type {\n",
       "        vertical-align: middle;\n",
       "    }\n",
       "\n",
       "    .dataframe tbody tr th {\n",
       "        vertical-align: top;\n",
       "    }\n",
       "\n",
       "    .dataframe thead th {\n",
       "        text-align: right;\n",
       "    }\n",
       "</style>\n",
       "<table border=\"1\" class=\"dataframe\">\n",
       "  <thead>\n",
       "    <tr style=\"text-align: right;\">\n",
       "      <th></th>\n",
       "      <th>workers</th>\n",
       "      <th>date</th>\n",
       "    </tr>\n",
       "  </thead>\n",
       "  <tbody>\n",
       "    <tr>\n",
       "      <th>0</th>\n",
       "      <td>Tamer</td>\n",
       "      <td>2020</td>\n",
       "    </tr>\n",
       "    <tr>\n",
       "      <th>1</th>\n",
       "      <td>Mert</td>\n",
       "      <td>2000</td>\n",
       "    </tr>\n",
       "    <tr>\n",
       "      <th>2</th>\n",
       "      <td>Eda</td>\n",
       "      <td>2010</td>\n",
       "    </tr>\n",
       "    <tr>\n",
       "      <th>3</th>\n",
       "      <td>Buse</td>\n",
       "      <td>2008</td>\n",
       "    </tr>\n",
       "  </tbody>\n",
       "</table>\n",
       "</div>"
      ],
      "text/plain": [
       "  workers  date\n",
       "0   Tamer  2020\n",
       "1    Mert  2000\n",
       "2     Eda  2010\n",
       "3    Buse  2008"
      ]
     },
     "execution_count": 84,
     "metadata": {},
     "output_type": "execute_result"
    }
   ],
   "source": [
    "df2 = pd.DataFrame({\"workers\": [\"Tamer\", \"Mert\", \"Eda\", \"Buse\"],\n",
    "                    \"date\" : [\"2020\", \"2000\", \"2010\", \"2008\"]               \n",
    "                   })\n",
    "df2"
   ]
  },
  {
   "cell_type": "code",
   "execution_count": 85,
   "id": "1e3f38b7",
   "metadata": {
    "execution": {
     "iopub.execute_input": "2023-07-25T18:42:32.662897Z",
     "iopub.status.busy": "2023-07-25T18:42:32.662038Z",
     "iopub.status.idle": "2023-07-25T18:42:32.682448Z",
     "shell.execute_reply": "2023-07-25T18:42:32.681253Z"
    },
    "papermill": {
     "duration": 0.052795,
     "end_time": "2023-07-25T18:42:32.684730",
     "exception": false,
     "start_time": "2023-07-25T18:42:32.631935",
     "status": "completed"
    },
    "tags": []
   },
   "outputs": [
    {
     "data": {
      "text/html": [
       "<div>\n",
       "<style scoped>\n",
       "    .dataframe tbody tr th:only-of-type {\n",
       "        vertical-align: middle;\n",
       "    }\n",
       "\n",
       "    .dataframe tbody tr th {\n",
       "        vertical-align: top;\n",
       "    }\n",
       "\n",
       "    .dataframe thead th {\n",
       "        text-align: right;\n",
       "    }\n",
       "</style>\n",
       "<table border=\"1\" class=\"dataframe\">\n",
       "  <thead>\n",
       "    <tr style=\"text-align: right;\">\n",
       "      <th></th>\n",
       "      <th>workers</th>\n",
       "      <th>group</th>\n",
       "      <th>date</th>\n",
       "    </tr>\n",
       "  </thead>\n",
       "  <tbody>\n",
       "    <tr>\n",
       "      <th>0</th>\n",
       "      <td>Tamer</td>\n",
       "      <td>Engineering</td>\n",
       "      <td>2020</td>\n",
       "    </tr>\n",
       "    <tr>\n",
       "      <th>1</th>\n",
       "      <td>Mert</td>\n",
       "      <td>HR</td>\n",
       "      <td>2000</td>\n",
       "    </tr>\n",
       "    <tr>\n",
       "      <th>2</th>\n",
       "      <td>Eda</td>\n",
       "      <td>Accounting</td>\n",
       "      <td>2010</td>\n",
       "    </tr>\n",
       "    <tr>\n",
       "      <th>3</th>\n",
       "      <td>Buse</td>\n",
       "      <td>Product</td>\n",
       "      <td>2008</td>\n",
       "    </tr>\n",
       "  </tbody>\n",
       "</table>\n",
       "</div>"
      ],
      "text/plain": [
       "  workers        group  date\n",
       "0   Tamer  Engineering  2020\n",
       "1    Mert           HR  2000\n",
       "2     Eda   Accounting  2010\n",
       "3    Buse      Product  2008"
      ]
     },
     "execution_count": 85,
     "metadata": {},
     "output_type": "execute_result"
    }
   ],
   "source": [
    "pd.merge(df1, df2)"
   ]
  },
  {
   "cell_type": "code",
   "execution_count": 86,
   "id": "5c01f5f2",
   "metadata": {
    "execution": {
     "iopub.execute_input": "2023-07-25T18:42:32.743052Z",
     "iopub.status.busy": "2023-07-25T18:42:32.742631Z",
     "iopub.status.idle": "2023-07-25T18:42:32.746984Z",
     "shell.execute_reply": "2023-07-25T18:42:32.745864Z"
    },
    "papermill": {
     "duration": 0.035547,
     "end_time": "2023-07-25T18:42:32.749035",
     "exception": false,
     "start_time": "2023-07-25T18:42:32.713488",
     "status": "completed"
    },
    "tags": []
   },
   "outputs": [],
   "source": [
    "# aggregation & grouping"
   ]
  },
  {
   "cell_type": "code",
   "execution_count": 87,
   "id": "1ee610cd",
   "metadata": {
    "execution": {
     "iopub.execute_input": "2023-07-25T18:42:32.806941Z",
     "iopub.status.busy": "2023-07-25T18:42:32.805709Z",
     "iopub.status.idle": "2023-07-25T18:42:34.250431Z",
     "shell.execute_reply": "2023-07-25T18:42:34.249268Z"
    },
    "papermill": {
     "duration": 1.476301,
     "end_time": "2023-07-25T18:42:34.252962",
     "exception": false,
     "start_time": "2023-07-25T18:42:32.776661",
     "status": "completed"
    },
    "tags": []
   },
   "outputs": [
    {
     "name": "stderr",
     "output_type": "stream",
     "text": [
      "/opt/conda/lib/python3.10/site-packages/scipy/__init__.py:146: UserWarning: A NumPy version >=1.16.5 and <1.23.0 is required for this version of SciPy (detected version 1.23.5\n",
      "  warnings.warn(f\"A NumPy version >={np_minversion} and <{np_maxversion}\"\n"
     ]
    }
   ],
   "source": [
    "import seaborn as sns"
   ]
  },
  {
   "cell_type": "code",
   "execution_count": 88,
   "id": "22b46b9b",
   "metadata": {
    "execution": {
     "iopub.execute_input": "2023-07-25T18:42:34.311642Z",
     "iopub.status.busy": "2023-07-25T18:42:34.311216Z",
     "iopub.status.idle": "2023-07-25T18:42:34.369263Z",
     "shell.execute_reply": "2023-07-25T18:42:34.368242Z"
    },
    "papermill": {
     "duration": 0.090007,
     "end_time": "2023-07-25T18:42:34.371638",
     "exception": false,
     "start_time": "2023-07-25T18:42:34.281631",
     "status": "completed"
    },
    "tags": []
   },
   "outputs": [],
   "source": [
    "?sns.load_dataset"
   ]
  },
  {
   "cell_type": "code",
   "execution_count": 89,
   "id": "d0cf8984",
   "metadata": {
    "execution": {
     "iopub.execute_input": "2023-07-25T18:42:34.430704Z",
     "iopub.status.busy": "2023-07-25T18:42:34.429982Z",
     "iopub.status.idle": "2023-07-25T18:42:36.122265Z",
     "shell.execute_reply": "2023-07-25T18:42:36.121048Z"
    },
    "papermill": {
     "duration": 1.724837,
     "end_time": "2023-07-25T18:42:36.124815",
     "exception": false,
     "start_time": "2023-07-25T18:42:34.399978",
     "status": "completed"
    },
    "tags": []
   },
   "outputs": [
    {
     "data": {
      "text/html": [
       "<div>\n",
       "<style scoped>\n",
       "    .dataframe tbody tr th:only-of-type {\n",
       "        vertical-align: middle;\n",
       "    }\n",
       "\n",
       "    .dataframe tbody tr th {\n",
       "        vertical-align: top;\n",
       "    }\n",
       "\n",
       "    .dataframe thead th {\n",
       "        text-align: right;\n",
       "    }\n",
       "</style>\n",
       "<table border=\"1\" class=\"dataframe\">\n",
       "  <thead>\n",
       "    <tr style=\"text-align: right;\">\n",
       "      <th></th>\n",
       "      <th>method</th>\n",
       "      <th>number</th>\n",
       "      <th>orbital_period</th>\n",
       "      <th>mass</th>\n",
       "      <th>distance</th>\n",
       "      <th>year</th>\n",
       "    </tr>\n",
       "  </thead>\n",
       "  <tbody>\n",
       "    <tr>\n",
       "      <th>0</th>\n",
       "      <td>Radial Velocity</td>\n",
       "      <td>1</td>\n",
       "      <td>269.300</td>\n",
       "      <td>7.10</td>\n",
       "      <td>77.40</td>\n",
       "      <td>2006</td>\n",
       "    </tr>\n",
       "    <tr>\n",
       "      <th>1</th>\n",
       "      <td>Radial Velocity</td>\n",
       "      <td>1</td>\n",
       "      <td>874.774</td>\n",
       "      <td>2.21</td>\n",
       "      <td>56.95</td>\n",
       "      <td>2008</td>\n",
       "    </tr>\n",
       "    <tr>\n",
       "      <th>2</th>\n",
       "      <td>Radial Velocity</td>\n",
       "      <td>1</td>\n",
       "      <td>763.000</td>\n",
       "      <td>2.60</td>\n",
       "      <td>19.84</td>\n",
       "      <td>2011</td>\n",
       "    </tr>\n",
       "    <tr>\n",
       "      <th>3</th>\n",
       "      <td>Radial Velocity</td>\n",
       "      <td>1</td>\n",
       "      <td>326.030</td>\n",
       "      <td>19.40</td>\n",
       "      <td>110.62</td>\n",
       "      <td>2007</td>\n",
       "    </tr>\n",
       "    <tr>\n",
       "      <th>4</th>\n",
       "      <td>Radial Velocity</td>\n",
       "      <td>1</td>\n",
       "      <td>516.220</td>\n",
       "      <td>10.50</td>\n",
       "      <td>119.47</td>\n",
       "      <td>2009</td>\n",
       "    </tr>\n",
       "  </tbody>\n",
       "</table>\n",
       "</div>"
      ],
      "text/plain": [
       "            method  number  orbital_period   mass  distance  year\n",
       "0  Radial Velocity       1         269.300   7.10     77.40  2006\n",
       "1  Radial Velocity       1         874.774   2.21     56.95  2008\n",
       "2  Radial Velocity       1         763.000   2.60     19.84  2011\n",
       "3  Radial Velocity       1         326.030  19.40    110.62  2007\n",
       "4  Radial Velocity       1         516.220  10.50    119.47  2009"
      ]
     },
     "execution_count": 89,
     "metadata": {},
     "output_type": "execute_result"
    }
   ],
   "source": [
    "df = sns.load_dataset(\"planets\")\n",
    "df.head()"
   ]
  },
  {
   "cell_type": "code",
   "execution_count": 90,
   "id": "0cd76039",
   "metadata": {
    "execution": {
     "iopub.execute_input": "2023-07-25T18:42:36.183537Z",
     "iopub.status.busy": "2023-07-25T18:42:36.182925Z",
     "iopub.status.idle": "2023-07-25T18:42:36.189295Z",
     "shell.execute_reply": "2023-07-25T18:42:36.188337Z"
    },
    "papermill": {
     "duration": 0.038043,
     "end_time": "2023-07-25T18:42:36.191356",
     "exception": false,
     "start_time": "2023-07-25T18:42:36.153313",
     "status": "completed"
    },
    "tags": []
   },
   "outputs": [
    {
     "data": {
      "text/plain": [
       "(1035, 6)"
      ]
     },
     "execution_count": 90,
     "metadata": {},
     "output_type": "execute_result"
    }
   ],
   "source": [
    "df.shape"
   ]
  },
  {
   "cell_type": "code",
   "execution_count": 91,
   "id": "9d503e0e",
   "metadata": {
    "execution": {
     "iopub.execute_input": "2023-07-25T18:42:36.250564Z",
     "iopub.status.busy": "2023-07-25T18:42:36.249837Z",
     "iopub.status.idle": "2023-07-25T18:42:36.261219Z",
     "shell.execute_reply": "2023-07-25T18:42:36.259981Z"
    },
    "papermill": {
     "duration": 0.044379,
     "end_time": "2023-07-25T18:42:36.263838",
     "exception": false,
     "start_time": "2023-07-25T18:42:36.219459",
     "status": "completed"
    },
    "tags": []
   },
   "outputs": [
    {
     "name": "stderr",
     "output_type": "stream",
     "text": [
      "/tmp/ipykernel_20/3698961737.py:1: FutureWarning: The default value of numeric_only in DataFrame.mean is deprecated. In a future version, it will default to False. In addition, specifying 'numeric_only=None' is deprecated. Select only valid columns or specify the value of numeric_only to silence this warning.\n",
      "  df.mean()\n"
     ]
    },
    {
     "data": {
      "text/plain": [
       "number               1.785507\n",
       "orbital_period    2002.917596\n",
       "mass                 2.638161\n",
       "distance           264.069282\n",
       "year              2009.070531\n",
       "dtype: float64"
      ]
     },
     "execution_count": 91,
     "metadata": {},
     "output_type": "execute_result"
    }
   ],
   "source": [
    "df.mean()"
   ]
  },
  {
   "cell_type": "code",
   "execution_count": 92,
   "id": "a67c8b59",
   "metadata": {
    "execution": {
     "iopub.execute_input": "2023-07-25T18:42:36.324616Z",
     "iopub.status.busy": "2023-07-25T18:42:36.323874Z",
     "iopub.status.idle": "2023-07-25T18:42:36.330445Z",
     "shell.execute_reply": "2023-07-25T18:42:36.329587Z"
    },
    "papermill": {
     "duration": 0.039524,
     "end_time": "2023-07-25T18:42:36.332525",
     "exception": false,
     "start_time": "2023-07-25T18:42:36.293001",
     "status": "completed"
    },
    "tags": []
   },
   "outputs": [
    {
     "data": {
      "text/plain": [
       "2.6381605847953216"
      ]
     },
     "execution_count": 92,
     "metadata": {},
     "output_type": "execute_result"
    }
   ],
   "source": [
    "df[\"mass\"].mean()"
   ]
  },
  {
   "cell_type": "code",
   "execution_count": 93,
   "id": "6c9cdfe5",
   "metadata": {
    "execution": {
     "iopub.execute_input": "2023-07-25T18:42:36.392658Z",
     "iopub.status.busy": "2023-07-25T18:42:36.391560Z",
     "iopub.status.idle": "2023-07-25T18:42:36.398300Z",
     "shell.execute_reply": "2023-07-25T18:42:36.397421Z"
    },
    "papermill": {
     "duration": 0.038657,
     "end_time": "2023-07-25T18:42:36.400486",
     "exception": false,
     "start_time": "2023-07-25T18:42:36.361829",
     "status": "completed"
    },
    "tags": []
   },
   "outputs": [
    {
     "data": {
      "text/plain": [
       "513"
      ]
     },
     "execution_count": 93,
     "metadata": {},
     "output_type": "execute_result"
    }
   ],
   "source": [
    "df[\"mass\"].count()"
   ]
  },
  {
   "cell_type": "code",
   "execution_count": 94,
   "id": "8a7e4f02",
   "metadata": {
    "execution": {
     "iopub.execute_input": "2023-07-25T18:42:36.460499Z",
     "iopub.status.busy": "2023-07-25T18:42:36.459701Z",
     "iopub.status.idle": "2023-07-25T18:42:36.467135Z",
     "shell.execute_reply": "2023-07-25T18:42:36.466141Z"
    },
    "papermill": {
     "duration": 0.040175,
     "end_time": "2023-07-25T18:42:36.469311",
     "exception": false,
     "start_time": "2023-07-25T18:42:36.429136",
     "status": "completed"
    },
    "tags": []
   },
   "outputs": [
    {
     "data": {
      "text/plain": [
       "0.0036"
      ]
     },
     "execution_count": 94,
     "metadata": {},
     "output_type": "execute_result"
    }
   ],
   "source": [
    "df[\"mass\"].min()"
   ]
  },
  {
   "cell_type": "code",
   "execution_count": 95,
   "id": "3a30693e",
   "metadata": {
    "execution": {
     "iopub.execute_input": "2023-07-25T18:42:36.529013Z",
     "iopub.status.busy": "2023-07-25T18:42:36.528144Z",
     "iopub.status.idle": "2023-07-25T18:42:36.558502Z",
     "shell.execute_reply": "2023-07-25T18:42:36.557249Z"
    },
    "papermill": {
     "duration": 0.063002,
     "end_time": "2023-07-25T18:42:36.560735",
     "exception": false,
     "start_time": "2023-07-25T18:42:36.497733",
     "status": "completed"
    },
    "tags": []
   },
   "outputs": [
    {
     "data": {
      "text/html": [
       "<div>\n",
       "<style scoped>\n",
       "    .dataframe tbody tr th:only-of-type {\n",
       "        vertical-align: middle;\n",
       "    }\n",
       "\n",
       "    .dataframe tbody tr th {\n",
       "        vertical-align: top;\n",
       "    }\n",
       "\n",
       "    .dataframe thead th {\n",
       "        text-align: right;\n",
       "    }\n",
       "</style>\n",
       "<table border=\"1\" class=\"dataframe\">\n",
       "  <thead>\n",
       "    <tr style=\"text-align: right;\">\n",
       "      <th></th>\n",
       "      <th>count</th>\n",
       "      <th>mean</th>\n",
       "      <th>std</th>\n",
       "      <th>min</th>\n",
       "      <th>25%</th>\n",
       "      <th>50%</th>\n",
       "      <th>75%</th>\n",
       "      <th>max</th>\n",
       "    </tr>\n",
       "  </thead>\n",
       "  <tbody>\n",
       "    <tr>\n",
       "      <th>number</th>\n",
       "      <td>1035.0</td>\n",
       "      <td>1.785507</td>\n",
       "      <td>1.240976</td>\n",
       "      <td>1.000000</td>\n",
       "      <td>1.00000</td>\n",
       "      <td>1.0000</td>\n",
       "      <td>2.000</td>\n",
       "      <td>7.0</td>\n",
       "    </tr>\n",
       "    <tr>\n",
       "      <th>orbital_period</th>\n",
       "      <td>992.0</td>\n",
       "      <td>2002.917596</td>\n",
       "      <td>26014.728304</td>\n",
       "      <td>0.090706</td>\n",
       "      <td>5.44254</td>\n",
       "      <td>39.9795</td>\n",
       "      <td>526.005</td>\n",
       "      <td>730000.0</td>\n",
       "    </tr>\n",
       "    <tr>\n",
       "      <th>mass</th>\n",
       "      <td>513.0</td>\n",
       "      <td>2.638161</td>\n",
       "      <td>3.818617</td>\n",
       "      <td>0.003600</td>\n",
       "      <td>0.22900</td>\n",
       "      <td>1.2600</td>\n",
       "      <td>3.040</td>\n",
       "      <td>25.0</td>\n",
       "    </tr>\n",
       "    <tr>\n",
       "      <th>distance</th>\n",
       "      <td>808.0</td>\n",
       "      <td>264.069282</td>\n",
       "      <td>733.116493</td>\n",
       "      <td>1.350000</td>\n",
       "      <td>32.56000</td>\n",
       "      <td>55.2500</td>\n",
       "      <td>178.500</td>\n",
       "      <td>8500.0</td>\n",
       "    </tr>\n",
       "    <tr>\n",
       "      <th>year</th>\n",
       "      <td>1035.0</td>\n",
       "      <td>2009.070531</td>\n",
       "      <td>3.972567</td>\n",
       "      <td>1989.000000</td>\n",
       "      <td>2007.00000</td>\n",
       "      <td>2010.0000</td>\n",
       "      <td>2012.000</td>\n",
       "      <td>2014.0</td>\n",
       "    </tr>\n",
       "  </tbody>\n",
       "</table>\n",
       "</div>"
      ],
      "text/plain": [
       "                 count         mean           std          min         25%  \\\n",
       "number          1035.0     1.785507      1.240976     1.000000     1.00000   \n",
       "orbital_period   992.0  2002.917596  26014.728304     0.090706     5.44254   \n",
       "mass             513.0     2.638161      3.818617     0.003600     0.22900   \n",
       "distance         808.0   264.069282    733.116493     1.350000    32.56000   \n",
       "year            1035.0  2009.070531      3.972567  1989.000000  2007.00000   \n",
       "\n",
       "                      50%       75%       max  \n",
       "number             1.0000     2.000       7.0  \n",
       "orbital_period    39.9795   526.005  730000.0  \n",
       "mass               1.2600     3.040      25.0  \n",
       "distance          55.2500   178.500    8500.0  \n",
       "year            2010.0000  2012.000    2014.0  "
      ]
     },
     "execution_count": 95,
     "metadata": {},
     "output_type": "execute_result"
    }
   ],
   "source": [
    "df.describe().T"
   ]
  },
  {
   "cell_type": "code",
   "execution_count": 96,
   "id": "5a62d1ca",
   "metadata": {
    "execution": {
     "iopub.execute_input": "2023-07-25T18:42:36.623522Z",
     "iopub.status.busy": "2023-07-25T18:42:36.622384Z",
     "iopub.status.idle": "2023-07-25T18:42:36.653419Z",
     "shell.execute_reply": "2023-07-25T18:42:36.652223Z"
    },
    "papermill": {
     "duration": 0.065531,
     "end_time": "2023-07-25T18:42:36.655909",
     "exception": false,
     "start_time": "2023-07-25T18:42:36.590378",
     "status": "completed"
    },
    "tags": []
   },
   "outputs": [
    {
     "data": {
      "text/html": [
       "<div>\n",
       "<style scoped>\n",
       "    .dataframe tbody tr th:only-of-type {\n",
       "        vertical-align: middle;\n",
       "    }\n",
       "\n",
       "    .dataframe tbody tr th {\n",
       "        vertical-align: top;\n",
       "    }\n",
       "\n",
       "    .dataframe thead th {\n",
       "        text-align: right;\n",
       "    }\n",
       "</style>\n",
       "<table border=\"1\" class=\"dataframe\">\n",
       "  <thead>\n",
       "    <tr style=\"text-align: right;\">\n",
       "      <th></th>\n",
       "      <th>count</th>\n",
       "      <th>mean</th>\n",
       "      <th>std</th>\n",
       "      <th>min</th>\n",
       "      <th>25%</th>\n",
       "      <th>50%</th>\n",
       "      <th>75%</th>\n",
       "      <th>max</th>\n",
       "    </tr>\n",
       "  </thead>\n",
       "  <tbody>\n",
       "    <tr>\n",
       "      <th>number</th>\n",
       "      <td>498.0</td>\n",
       "      <td>1.734940</td>\n",
       "      <td>1.175720</td>\n",
       "      <td>1.0000</td>\n",
       "      <td>1.00000</td>\n",
       "      <td>1.000</td>\n",
       "      <td>2.0000</td>\n",
       "      <td>6.0</td>\n",
       "    </tr>\n",
       "    <tr>\n",
       "      <th>orbital_period</th>\n",
       "      <td>498.0</td>\n",
       "      <td>835.778671</td>\n",
       "      <td>1469.128259</td>\n",
       "      <td>1.3283</td>\n",
       "      <td>38.27225</td>\n",
       "      <td>357.000</td>\n",
       "      <td>999.6000</td>\n",
       "      <td>17337.5</td>\n",
       "    </tr>\n",
       "    <tr>\n",
       "      <th>mass</th>\n",
       "      <td>498.0</td>\n",
       "      <td>2.509320</td>\n",
       "      <td>3.636274</td>\n",
       "      <td>0.0036</td>\n",
       "      <td>0.21250</td>\n",
       "      <td>1.245</td>\n",
       "      <td>2.8675</td>\n",
       "      <td>25.0</td>\n",
       "    </tr>\n",
       "    <tr>\n",
       "      <th>distance</th>\n",
       "      <td>498.0</td>\n",
       "      <td>52.068213</td>\n",
       "      <td>46.596041</td>\n",
       "      <td>1.3500</td>\n",
       "      <td>24.49750</td>\n",
       "      <td>39.940</td>\n",
       "      <td>59.3325</td>\n",
       "      <td>354.0</td>\n",
       "    </tr>\n",
       "    <tr>\n",
       "      <th>year</th>\n",
       "      <td>498.0</td>\n",
       "      <td>2007.377510</td>\n",
       "      <td>4.167284</td>\n",
       "      <td>1989.0000</td>\n",
       "      <td>2005.00000</td>\n",
       "      <td>2009.000</td>\n",
       "      <td>2011.0000</td>\n",
       "      <td>2014.0</td>\n",
       "    </tr>\n",
       "  </tbody>\n",
       "</table>\n",
       "</div>"
      ],
      "text/plain": [
       "                count         mean          std        min         25%  \\\n",
       "number          498.0     1.734940     1.175720     1.0000     1.00000   \n",
       "orbital_period  498.0   835.778671  1469.128259     1.3283    38.27225   \n",
       "mass            498.0     2.509320     3.636274     0.0036     0.21250   \n",
       "distance        498.0    52.068213    46.596041     1.3500    24.49750   \n",
       "year            498.0  2007.377510     4.167284  1989.0000  2005.00000   \n",
       "\n",
       "                     50%        75%      max  \n",
       "number             1.000     2.0000      6.0  \n",
       "orbital_period   357.000   999.6000  17337.5  \n",
       "mass               1.245     2.8675     25.0  \n",
       "distance          39.940    59.3325    354.0  \n",
       "year            2009.000  2011.0000   2014.0  "
      ]
     },
     "execution_count": 96,
     "metadata": {},
     "output_type": "execute_result"
    }
   ],
   "source": [
    "df.dropna().describe().T  # for nan val"
   ]
  }
 ],
 "metadata": {
  "kernelspec": {
   "display_name": "Python 3",
   "language": "python",
   "name": "python3"
  },
  "language_info": {
   "codemirror_mode": {
    "name": "ipython",
    "version": 3
   },
   "file_extension": ".py",
   "mimetype": "text/x-python",
   "name": "python",
   "nbconvert_exporter": "python",
   "pygments_lexer": "ipython3",
   "version": "3.10.12"
  },
  "papermill": {
   "default_parameters": {},
   "duration": 20.053154,
   "end_time": "2023-07-25T18:42:37.711269",
   "environment_variables": {},
   "exception": null,
   "input_path": "__notebook__.ipynb",
   "output_path": "__notebook__.ipynb",
   "parameters": {},
   "start_time": "2023-07-25T18:42:17.658115",
   "version": "2.4.0"
  }
 },
 "nbformat": 4,
 "nbformat_minor": 5
}
