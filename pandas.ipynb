{
 "cells": [
  {
   "cell_type": "code",
   "execution_count": 1,
   "id": "719d9b06",
   "metadata": {
    "execution": {
     "iopub.execute_input": "2023-07-25T14:29:11.203518Z",
     "iopub.status.busy": "2023-07-25T14:29:11.202778Z",
     "iopub.status.idle": "2023-07-25T14:29:11.219019Z",
     "shell.execute_reply": "2023-07-25T14:29:11.217797Z"
    },
    "papermill": {
     "duration": 0.031082,
     "end_time": "2023-07-25T14:29:11.221930",
     "exception": false,
     "start_time": "2023-07-25T14:29:11.190848",
     "status": "completed"
    },
    "tags": []
   },
   "outputs": [],
   "source": [
    "import pandas as pd"
   ]
  },
  {
   "cell_type": "code",
   "execution_count": 2,
   "id": "bc4827f1",
   "metadata": {
    "_cell_guid": "b1076dfc-b9ad-4769-8c92-a6c4dae69d19",
    "_uuid": "8f2839f25d086af736a60e9eeb907d3b93b6e0e5",
    "execution": {
     "iopub.execute_input": "2023-07-25T14:29:11.247607Z",
     "iopub.status.busy": "2023-07-25T14:29:11.246826Z",
     "iopub.status.idle": "2023-07-25T14:29:11.260612Z",
     "shell.execute_reply": "2023-07-25T14:29:11.259534Z"
    },
    "papermill": {
     "duration": 0.030159,
     "end_time": "2023-07-25T14:29:11.262948",
     "exception": false,
     "start_time": "2023-07-25T14:29:11.232789",
     "status": "completed"
    },
    "tags": []
   },
   "outputs": [
    {
     "data": {
      "text/plain": [
       "0     23\n",
       "1     45\n",
       "2    -36\n",
       "3     12\n",
       "4      0\n",
       "5    100\n",
       "dtype: int64"
      ]
     },
     "execution_count": 2,
     "metadata": {},
     "output_type": "execute_result"
    }
   ],
   "source": [
    "pd.Series([23, 45, -36, 12, 0, 100])"
   ]
  },
  {
   "cell_type": "code",
   "execution_count": 3,
   "id": "be08ecf8",
   "metadata": {
    "execution": {
     "iopub.execute_input": "2023-07-25T14:29:11.285400Z",
     "iopub.status.busy": "2023-07-25T14:29:11.284656Z",
     "iopub.status.idle": "2023-07-25T14:29:11.291933Z",
     "shell.execute_reply": "2023-07-25T14:29:11.291114Z"
    },
    "papermill": {
     "duration": 0.020885,
     "end_time": "2023-07-25T14:29:11.293946",
     "exception": false,
     "start_time": "2023-07-25T14:29:11.273061",
     "status": "completed"
    },
    "tags": []
   },
   "outputs": [
    {
     "data": {
      "text/plain": [
       "pandas.core.series.Series"
      ]
     },
     "execution_count": 3,
     "metadata": {},
     "output_type": "execute_result"
    }
   ],
   "source": [
    "seri = pd.Series([23, 45, -36, 12, 0, 100])\n",
    "\n",
    "type(seri)"
   ]
  },
  {
   "cell_type": "code",
   "execution_count": 4,
   "id": "ea1639a0",
   "metadata": {
    "execution": {
     "iopub.execute_input": "2023-07-25T14:29:11.316358Z",
     "iopub.status.busy": "2023-07-25T14:29:11.315643Z",
     "iopub.status.idle": "2023-07-25T14:29:11.322165Z",
     "shell.execute_reply": "2023-07-25T14:29:11.321348Z"
    },
    "papermill": {
     "duration": 0.019976,
     "end_time": "2023-07-25T14:29:11.324277",
     "exception": false,
     "start_time": "2023-07-25T14:29:11.304301",
     "status": "completed"
    },
    "tags": []
   },
   "outputs": [
    {
     "data": {
      "text/plain": [
       "[RangeIndex(start=0, stop=6, step=1)]"
      ]
     },
     "execution_count": 4,
     "metadata": {},
     "output_type": "execute_result"
    }
   ],
   "source": [
    "seri.axes"
   ]
  },
  {
   "cell_type": "code",
   "execution_count": 5,
   "id": "a1eb8eaa",
   "metadata": {
    "execution": {
     "iopub.execute_input": "2023-07-25T14:29:11.352141Z",
     "iopub.status.busy": "2023-07-25T14:29:11.351290Z",
     "iopub.status.idle": "2023-07-25T14:29:11.358084Z",
     "shell.execute_reply": "2023-07-25T14:29:11.357102Z"
    },
    "papermill": {
     "duration": 0.020445,
     "end_time": "2023-07-25T14:29:11.360064",
     "exception": false,
     "start_time": "2023-07-25T14:29:11.339619",
     "status": "completed"
    },
    "tags": []
   },
   "outputs": [
    {
     "data": {
      "text/plain": [
       "dtype('int64')"
      ]
     },
     "execution_count": 5,
     "metadata": {},
     "output_type": "execute_result"
    }
   ],
   "source": [
    "seri.dtype"
   ]
  },
  {
   "cell_type": "code",
   "execution_count": 6,
   "id": "5f4031c4",
   "metadata": {
    "execution": {
     "iopub.execute_input": "2023-07-25T14:29:11.383561Z",
     "iopub.status.busy": "2023-07-25T14:29:11.382740Z",
     "iopub.status.idle": "2023-07-25T14:29:11.389202Z",
     "shell.execute_reply": "2023-07-25T14:29:11.388295Z"
    },
    "papermill": {
     "duration": 0.020615,
     "end_time": "2023-07-25T14:29:11.391253",
     "exception": false,
     "start_time": "2023-07-25T14:29:11.370638",
     "status": "completed"
    },
    "tags": []
   },
   "outputs": [
    {
     "data": {
      "text/plain": [
       "1"
      ]
     },
     "execution_count": 6,
     "metadata": {},
     "output_type": "execute_result"
    }
   ],
   "source": [
    "seri.ndim"
   ]
  },
  {
   "cell_type": "code",
   "execution_count": 7,
   "id": "70ffcfbf",
   "metadata": {
    "execution": {
     "iopub.execute_input": "2023-07-25T14:29:11.414775Z",
     "iopub.status.busy": "2023-07-25T14:29:11.414001Z",
     "iopub.status.idle": "2023-07-25T14:29:11.420652Z",
     "shell.execute_reply": "2023-07-25T14:29:11.419782Z"
    },
    "papermill": {
     "duration": 0.020918,
     "end_time": "2023-07-25T14:29:11.422898",
     "exception": false,
     "start_time": "2023-07-25T14:29:11.401980",
     "status": "completed"
    },
    "tags": []
   },
   "outputs": [
    {
     "data": {
      "text/plain": [
       "6"
      ]
     },
     "execution_count": 7,
     "metadata": {},
     "output_type": "execute_result"
    }
   ],
   "source": [
    "seri.size"
   ]
  },
  {
   "cell_type": "code",
   "execution_count": 8,
   "id": "02e8bf27",
   "metadata": {
    "execution": {
     "iopub.execute_input": "2023-07-25T14:29:11.445775Z",
     "iopub.status.busy": "2023-07-25T14:29:11.445047Z",
     "iopub.status.idle": "2023-07-25T14:29:11.453002Z",
     "shell.execute_reply": "2023-07-25T14:29:11.452079Z"
    },
    "papermill": {
     "duration": 0.021542,
     "end_time": "2023-07-25T14:29:11.454943",
     "exception": false,
     "start_time": "2023-07-25T14:29:11.433401",
     "status": "completed"
    },
    "tags": []
   },
   "outputs": [
    {
     "data": {
      "text/plain": [
       "array([ 23,  45, -36,  12,   0, 100])"
      ]
     },
     "execution_count": 8,
     "metadata": {},
     "output_type": "execute_result"
    }
   ],
   "source": [
    "seri.values"
   ]
  },
  {
   "cell_type": "code",
   "execution_count": 9,
   "id": "2829b6f5",
   "metadata": {
    "execution": {
     "iopub.execute_input": "2023-07-25T14:29:11.484537Z",
     "iopub.status.busy": "2023-07-25T14:29:11.483646Z",
     "iopub.status.idle": "2023-07-25T14:29:11.491005Z",
     "shell.execute_reply": "2023-07-25T14:29:11.490224Z"
    },
    "papermill": {
     "duration": 0.027161,
     "end_time": "2023-07-25T14:29:11.493622",
     "exception": false,
     "start_time": "2023-07-25T14:29:11.466461",
     "status": "completed"
    },
    "tags": []
   },
   "outputs": [
    {
     "data": {
      "text/plain": [
       "0    23\n",
       "1    45\n",
       "2   -36\n",
       "3    12\n",
       "4     0\n",
       "dtype: int64"
      ]
     },
     "execution_count": 9,
     "metadata": {},
     "output_type": "execute_result"
    }
   ],
   "source": [
    "seri.head()"
   ]
  },
  {
   "cell_type": "code",
   "execution_count": 10,
   "id": "27b9ec19",
   "metadata": {
    "execution": {
     "iopub.execute_input": "2023-07-25T14:29:11.521879Z",
     "iopub.status.busy": "2023-07-25T14:29:11.521108Z",
     "iopub.status.idle": "2023-07-25T14:29:11.528057Z",
     "shell.execute_reply": "2023-07-25T14:29:11.527244Z"
    },
    "papermill": {
     "duration": 0.021744,
     "end_time": "2023-07-25T14:29:11.530431",
     "exception": false,
     "start_time": "2023-07-25T14:29:11.508687",
     "status": "completed"
    },
    "tags": []
   },
   "outputs": [
    {
     "data": {
      "text/plain": [
       "0    23\n",
       "1    45\n",
       "2   -36\n",
       "dtype: int64"
      ]
     },
     "execution_count": 10,
     "metadata": {},
     "output_type": "execute_result"
    }
   ],
   "source": [
    "seri.head(3)"
   ]
  },
  {
   "cell_type": "code",
   "execution_count": 11,
   "id": "d046e553",
   "metadata": {
    "execution": {
     "iopub.execute_input": "2023-07-25T14:29:11.554131Z",
     "iopub.status.busy": "2023-07-25T14:29:11.553735Z",
     "iopub.status.idle": "2023-07-25T14:29:11.561991Z",
     "shell.execute_reply": "2023-07-25T14:29:11.561029Z"
    },
    "papermill": {
     "duration": 0.022273,
     "end_time": "2023-07-25T14:29:11.563978",
     "exception": false,
     "start_time": "2023-07-25T14:29:11.541705",
     "status": "completed"
    },
    "tags": []
   },
   "outputs": [
    {
     "data": {
      "text/plain": [
       "1     45\n",
       "2    -36\n",
       "3     12\n",
       "4      0\n",
       "5    100\n",
       "dtype: int64"
      ]
     },
     "execution_count": 11,
     "metadata": {},
     "output_type": "execute_result"
    }
   ],
   "source": [
    "seri.tail()"
   ]
  },
  {
   "cell_type": "code",
   "execution_count": 12,
   "id": "1ae0926c",
   "metadata": {
    "execution": {
     "iopub.execute_input": "2023-07-25T14:29:11.587603Z",
     "iopub.status.busy": "2023-07-25T14:29:11.586802Z",
     "iopub.status.idle": "2023-07-25T14:29:11.593116Z",
     "shell.execute_reply": "2023-07-25T14:29:11.592237Z"
    },
    "papermill": {
     "duration": 0.021077,
     "end_time": "2023-07-25T14:29:11.596134",
     "exception": false,
     "start_time": "2023-07-25T14:29:11.575057",
     "status": "completed"
    },
    "tags": []
   },
   "outputs": [
    {
     "data": {
      "text/plain": [
       "3     12\n",
       "4      0\n",
       "5    100\n",
       "dtype: int64"
      ]
     },
     "execution_count": 12,
     "metadata": {},
     "output_type": "execute_result"
    }
   ],
   "source": [
    "seri.tail(3)"
   ]
  },
  {
   "cell_type": "code",
   "execution_count": 13,
   "id": "a8960fa2",
   "metadata": {
    "execution": {
     "iopub.execute_input": "2023-07-25T14:29:11.625166Z",
     "iopub.status.busy": "2023-07-25T14:29:11.624627Z",
     "iopub.status.idle": "2023-07-25T14:29:11.629281Z",
     "shell.execute_reply": "2023-07-25T14:29:11.628221Z"
    },
    "papermill": {
     "duration": 0.021409,
     "end_time": "2023-07-25T14:29:11.631620",
     "exception": false,
     "start_time": "2023-07-25T14:29:11.610211",
     "status": "completed"
    },
    "tags": []
   },
   "outputs": [],
   "source": [
    "# index name"
   ]
  },
  {
   "cell_type": "code",
   "execution_count": 14,
   "id": "749003f2",
   "metadata": {
    "execution": {
     "iopub.execute_input": "2023-07-25T14:29:11.657283Z",
     "iopub.status.busy": "2023-07-25T14:29:11.656508Z",
     "iopub.status.idle": "2023-07-25T14:29:11.670992Z",
     "shell.execute_reply": "2023-07-25T14:29:11.670212Z"
    },
    "papermill": {
     "duration": 0.029619,
     "end_time": "2023-07-25T14:29:11.673113",
     "exception": false,
     "start_time": "2023-07-25T14:29:11.643494",
     "status": "completed"
    },
    "tags": []
   },
   "outputs": [
    {
     "data": {
      "text/plain": [
       "first       455\n",
       "2           354\n",
       "3          1332\n",
       "4         43553\n",
       "5            90\n",
       "6        string\n",
       "dtype: object"
      ]
     },
     "execution_count": 14,
     "metadata": {},
     "output_type": "execute_result"
    }
   ],
   "source": [
    "pd.Series([455, 354, 1332, 43553, 90, \"string\"], index = [\"first\",2,3,4,5,6])"
   ]
  },
  {
   "cell_type": "code",
   "execution_count": 15,
   "id": "10f14806",
   "metadata": {
    "execution": {
     "iopub.execute_input": "2023-07-25T14:29:11.699056Z",
     "iopub.status.busy": "2023-07-25T14:29:11.698686Z",
     "iopub.status.idle": "2023-07-25T14:29:11.704210Z",
     "shell.execute_reply": "2023-07-25T14:29:11.703156Z"
    },
    "papermill": {
     "duration": 0.020298,
     "end_time": "2023-07-25T14:29:11.706225",
     "exception": false,
     "start_time": "2023-07-25T14:29:11.685927",
     "status": "completed"
    },
    "tags": []
   },
   "outputs": [],
   "source": [
    "seri = pd.Series([455, 354, 1332, 43553, 90, \"string\"], index = [\"first\",2,3,4,5,6])"
   ]
  },
  {
   "cell_type": "code",
   "execution_count": 16,
   "id": "dd4f448e",
   "metadata": {
    "execution": {
     "iopub.execute_input": "2023-07-25T14:29:11.731446Z",
     "iopub.status.busy": "2023-07-25T14:29:11.730701Z",
     "iopub.status.idle": "2023-07-25T14:29:11.737062Z",
     "shell.execute_reply": "2023-07-25T14:29:11.736242Z"
    },
    "papermill": {
     "duration": 0.021587,
     "end_time": "2023-07-25T14:29:11.739219",
     "exception": false,
     "start_time": "2023-07-25T14:29:11.717632",
     "status": "completed"
    },
    "tags": []
   },
   "outputs": [
    {
     "data": {
      "text/plain": [
       "455"
      ]
     },
     "execution_count": 16,
     "metadata": {},
     "output_type": "execute_result"
    }
   ],
   "source": [
    "seri[\"first\"]"
   ]
  },
  {
   "cell_type": "code",
   "execution_count": 17,
   "id": "2ada8f80",
   "metadata": {
    "execution": {
     "iopub.execute_input": "2023-07-25T14:29:11.765246Z",
     "iopub.status.busy": "2023-07-25T14:29:11.764282Z",
     "iopub.status.idle": "2023-07-25T14:29:11.772383Z",
     "shell.execute_reply": "2023-07-25T14:29:11.771491Z"
    },
    "papermill": {
     "duration": 0.023757,
     "end_time": "2023-07-25T14:29:11.774471",
     "exception": false,
     "start_time": "2023-07-25T14:29:11.750714",
     "status": "completed"
    },
    "tags": []
   },
   "outputs": [
    {
     "data": {
      "text/plain": [
       "first      455\n",
       "2          354\n",
       "3         1332\n",
       "4        43553\n",
       "5           90\n",
       "dtype: object"
      ]
     },
     "execution_count": 17,
     "metadata": {},
     "output_type": "execute_result"
    }
   ],
   "source": [
    "seri[\"first\" : 5]"
   ]
  },
  {
   "cell_type": "code",
   "execution_count": 18,
   "id": "f58232ee",
   "metadata": {
    "execution": {
     "iopub.execute_input": "2023-07-25T14:29:11.800094Z",
     "iopub.status.busy": "2023-07-25T14:29:11.799723Z",
     "iopub.status.idle": "2023-07-25T14:29:11.805009Z",
     "shell.execute_reply": "2023-07-25T14:29:11.803997Z"
    },
    "papermill": {
     "duration": 0.02087,
     "end_time": "2023-07-25T14:29:11.807347",
     "exception": false,
     "start_time": "2023-07-25T14:29:11.786477",
     "status": "completed"
    },
    "tags": []
   },
   "outputs": [],
   "source": [
    "dict = pd.Series({\"james\" :10,\n",
    "                 \"elena\" : 34,\n",
    "                  \"william\": 29,\n",
    "                  \"mila\": 22                 \n",
    "                 })"
   ]
  },
  {
   "cell_type": "code",
   "execution_count": 19,
   "id": "ede5e94d",
   "metadata": {
    "execution": {
     "iopub.execute_input": "2023-07-25T14:29:11.832718Z",
     "iopub.status.busy": "2023-07-25T14:29:11.831947Z",
     "iopub.status.idle": "2023-07-25T14:29:11.839058Z",
     "shell.execute_reply": "2023-07-25T14:29:11.838308Z"
    },
    "papermill": {
     "duration": 0.021798,
     "end_time": "2023-07-25T14:29:11.841089",
     "exception": false,
     "start_time": "2023-07-25T14:29:11.819291",
     "status": "completed"
    },
    "tags": []
   },
   "outputs": [
    {
     "data": {
      "text/plain": [
       "james      10\n",
       "elena      34\n",
       "william    29\n",
       "mila       22\n",
       "dtype: int64"
      ]
     },
     "execution_count": 19,
     "metadata": {},
     "output_type": "execute_result"
    }
   ],
   "source": [
    "dict"
   ]
  },
  {
   "cell_type": "code",
   "execution_count": 20,
   "id": "013dcd3f",
   "metadata": {
    "execution": {
     "iopub.execute_input": "2023-07-25T14:29:11.867531Z",
     "iopub.status.busy": "2023-07-25T14:29:11.866826Z",
     "iopub.status.idle": "2023-07-25T14:29:11.875806Z",
     "shell.execute_reply": "2023-07-25T14:29:11.875057Z"
    },
    "papermill": {
     "duration": 0.024531,
     "end_time": "2023-07-25T14:29:11.878042",
     "exception": false,
     "start_time": "2023-07-25T14:29:11.853511",
     "status": "completed"
    },
    "tags": []
   },
   "outputs": [
    {
     "data": {
      "text/plain": [
       "james      10\n",
       "elena      34\n",
       "william    29\n",
       "dtype: int64"
      ]
     },
     "execution_count": 20,
     "metadata": {},
     "output_type": "execute_result"
    }
   ],
   "source": [
    "dict[\"james\" : \"william\"]"
   ]
  },
  {
   "cell_type": "code",
   "execution_count": 21,
   "id": "6ecb6020",
   "metadata": {
    "execution": {
     "iopub.execute_input": "2023-07-25T14:29:11.904411Z",
     "iopub.status.busy": "2023-07-25T14:29:11.904040Z",
     "iopub.status.idle": "2023-07-25T14:29:11.912654Z",
     "shell.execute_reply": "2023-07-25T14:29:11.911724Z"
    },
    "papermill": {
     "duration": 0.024046,
     "end_time": "2023-07-25T14:29:11.914706",
     "exception": false,
     "start_time": "2023-07-25T14:29:11.890660",
     "status": "completed"
    },
    "tags": []
   },
   "outputs": [
    {
     "data": {
      "text/plain": [
       "james          10\n",
       "elena          34\n",
       "william        29\n",
       "mila           22\n",
       "first         455\n",
       "2             354\n",
       "3            1332\n",
       "4           43553\n",
       "5              90\n",
       "6          string\n",
       "dtype: object"
      ]
     },
     "execution_count": 21,
     "metadata": {},
     "output_type": "execute_result"
    }
   ],
   "source": [
    "pd.concat([dict, seri])"
   ]
  },
  {
   "cell_type": "code",
   "execution_count": 22,
   "id": "f6b8425f",
   "metadata": {
    "execution": {
     "iopub.execute_input": "2023-07-25T14:29:11.941845Z",
     "iopub.status.busy": "2023-07-25T14:29:11.941082Z",
     "iopub.status.idle": "2023-07-25T14:29:11.950441Z",
     "shell.execute_reply": "2023-07-25T14:29:11.949568Z"
    },
    "papermill": {
     "duration": 0.025465,
     "end_time": "2023-07-25T14:29:11.952471",
     "exception": false,
     "start_time": "2023-07-25T14:29:11.927006",
     "status": "completed"
    },
    "tags": []
   },
   "outputs": [
    {
     "data": {
      "text/plain": [
       "0    23\n",
       "1    42\n",
       "2    13\n",
       "3    90\n",
       "4    80\n",
       "5    68\n",
       "dtype: int64"
      ]
     },
     "execution_count": 22,
     "metadata": {},
     "output_type": "execute_result"
    }
   ],
   "source": [
    "import numpy as np\n",
    "\n",
    "x = np.array([23, 42, 13, 90, 80, 68])\n",
    "\n",
    "seri = pd.Series(x)\n",
    "\n",
    "seri"
   ]
  },
  {
   "cell_type": "code",
   "execution_count": 23,
   "id": "e0bc8343",
   "metadata": {
    "execution": {
     "iopub.execute_input": "2023-07-25T14:29:11.979884Z",
     "iopub.status.busy": "2023-07-25T14:29:11.979312Z",
     "iopub.status.idle": "2023-07-25T14:29:11.986062Z",
     "shell.execute_reply": "2023-07-25T14:29:11.985313Z"
    },
    "papermill": {
     "duration": 0.022131,
     "end_time": "2023-07-25T14:29:11.988039",
     "exception": false,
     "start_time": "2023-07-25T14:29:11.965908",
     "status": "completed"
    },
    "tags": []
   },
   "outputs": [
    {
     "data": {
      "text/plain": [
       "0    23\n",
       "1    42\n",
       "2    13\n",
       "3    90\n",
       "dtype: int64"
      ]
     },
     "execution_count": 23,
     "metadata": {},
     "output_type": "execute_result"
    }
   ],
   "source": [
    "seri[0:4]"
   ]
  },
  {
   "cell_type": "code",
   "execution_count": 24,
   "id": "8391f85c",
   "metadata": {
    "execution": {
     "iopub.execute_input": "2023-07-25T14:29:12.015739Z",
     "iopub.status.busy": "2023-07-25T14:29:12.015066Z",
     "iopub.status.idle": "2023-07-25T14:29:12.022906Z",
     "shell.execute_reply": "2023-07-25T14:29:12.021929Z"
    },
    "papermill": {
     "duration": 0.024317,
     "end_time": "2023-07-25T14:29:12.024997",
     "exception": false,
     "start_time": "2023-07-25T14:29:12.000680",
     "status": "completed"
    },
    "tags": []
   },
   "outputs": [
    {
     "data": {
      "text/plain": [
       "4    80\n",
       "5    68\n",
       "dtype: int64"
      ]
     },
     "execution_count": 24,
     "metadata": {},
     "output_type": "execute_result"
    }
   ],
   "source": [
    "seri[4:]"
   ]
  },
  {
   "cell_type": "code",
   "execution_count": 25,
   "id": "1647e914",
   "metadata": {
    "execution": {
     "iopub.execute_input": "2023-07-25T14:29:12.052900Z",
     "iopub.status.busy": "2023-07-25T14:29:12.052024Z",
     "iopub.status.idle": "2023-07-25T14:29:12.059561Z",
     "shell.execute_reply": "2023-07-25T14:29:12.058643Z"
    },
    "papermill": {
     "duration": 0.023642,
     "end_time": "2023-07-25T14:29:12.061588",
     "exception": false,
     "start_time": "2023-07-25T14:29:12.037946",
     "status": "completed"
    },
    "tags": []
   },
   "outputs": [
    {
     "data": {
      "text/plain": [
       "<bound method Series.keys of 0    23\n",
       "1    42\n",
       "2    13\n",
       "3    90\n",
       "4    80\n",
       "5    68\n",
       "dtype: int64>"
      ]
     },
     "execution_count": 25,
     "metadata": {},
     "output_type": "execute_result"
    }
   ],
   "source": [
    "seri.keys"
   ]
  },
  {
   "cell_type": "code",
   "execution_count": 26,
   "id": "fc8f60da",
   "metadata": {
    "execution": {
     "iopub.execute_input": "2023-07-25T14:29:12.089657Z",
     "iopub.status.busy": "2023-07-25T14:29:12.088770Z",
     "iopub.status.idle": "2023-07-25T14:29:12.096137Z",
     "shell.execute_reply": "2023-07-25T14:29:12.095145Z"
    },
    "papermill": {
     "duration": 0.023596,
     "end_time": "2023-07-25T14:29:12.098252",
     "exception": false,
     "start_time": "2023-07-25T14:29:12.074656",
     "status": "completed"
    },
    "tags": []
   },
   "outputs": [
    {
     "data": {
      "text/plain": [
       "RangeIndex(start=0, stop=6, step=1)"
      ]
     },
     "execution_count": 26,
     "metadata": {},
     "output_type": "execute_result"
    }
   ],
   "source": [
    "seri.index"
   ]
  },
  {
   "cell_type": "code",
   "execution_count": 27,
   "id": "8ff1e94c",
   "metadata": {
    "execution": {
     "iopub.execute_input": "2023-07-25T14:29:12.127213Z",
     "iopub.status.busy": "2023-07-25T14:29:12.126802Z",
     "iopub.status.idle": "2023-07-25T14:29:12.133677Z",
     "shell.execute_reply": "2023-07-25T14:29:12.132735Z"
    },
    "papermill": {
     "duration": 0.023871,
     "end_time": "2023-07-25T14:29:12.135729",
     "exception": false,
     "start_time": "2023-07-25T14:29:12.111858",
     "status": "completed"
    },
    "tags": []
   },
   "outputs": [
    {
     "data": {
      "text/plain": [
       "[(0, 23), (1, 42), (2, 13), (3, 90), (4, 80), (5, 68)]"
      ]
     },
     "execution_count": 27,
     "metadata": {},
     "output_type": "execute_result"
    }
   ],
   "source": [
    "list(seri.items())"
   ]
  },
  {
   "cell_type": "code",
   "execution_count": 28,
   "id": "d4e445a8",
   "metadata": {
    "execution": {
     "iopub.execute_input": "2023-07-25T14:29:12.167528Z",
     "iopub.status.busy": "2023-07-25T14:29:12.166845Z",
     "iopub.status.idle": "2023-07-25T14:29:12.172714Z",
     "shell.execute_reply": "2023-07-25T14:29:12.171983Z"
    },
    "papermill": {
     "duration": 0.02543,
     "end_time": "2023-07-25T14:29:12.174709",
     "exception": false,
     "start_time": "2023-07-25T14:29:12.149279",
     "status": "completed"
    },
    "tags": []
   },
   "outputs": [
    {
     "data": {
      "text/plain": [
       "array([23, 42, 13, 90, 80, 68])"
      ]
     },
     "execution_count": 28,
     "metadata": {},
     "output_type": "execute_result"
    }
   ],
   "source": [
    "seri.values"
   ]
  },
  {
   "cell_type": "code",
   "execution_count": 29,
   "id": "1d1a3281",
   "metadata": {
    "execution": {
     "iopub.execute_input": "2023-07-25T14:29:12.203198Z",
     "iopub.status.busy": "2023-07-25T14:29:12.202604Z",
     "iopub.status.idle": "2023-07-25T14:29:12.208310Z",
     "shell.execute_reply": "2023-07-25T14:29:12.207601Z"
    },
    "papermill": {
     "duration": 0.022403,
     "end_time": "2023-07-25T14:29:12.210220",
     "exception": false,
     "start_time": "2023-07-25T14:29:12.187817",
     "status": "completed"
    },
    "tags": []
   },
   "outputs": [
    {
     "data": {
      "text/plain": [
       "0    23\n",
       "1    42\n",
       "2    13\n",
       "3    90\n",
       "4    80\n",
       "5    68\n",
       "dtype: int64"
      ]
     },
     "execution_count": 29,
     "metadata": {},
     "output_type": "execute_result"
    }
   ],
   "source": [
    "seri"
   ]
  },
  {
   "cell_type": "code",
   "execution_count": 30,
   "id": "78180b7b",
   "metadata": {
    "execution": {
     "iopub.execute_input": "2023-07-25T14:29:12.239305Z",
     "iopub.status.busy": "2023-07-25T14:29:12.238651Z",
     "iopub.status.idle": "2023-07-25T14:29:12.244793Z",
     "shell.execute_reply": "2023-07-25T14:29:12.244097Z"
    },
    "papermill": {
     "duration": 0.022923,
     "end_time": "2023-07-25T14:29:12.246773",
     "exception": false,
     "start_time": "2023-07-25T14:29:12.223850",
     "status": "completed"
    },
    "tags": []
   },
   "outputs": [
    {
     "data": {
      "text/plain": [
       "True"
      ]
     },
     "execution_count": 30,
     "metadata": {},
     "output_type": "execute_result"
    }
   ],
   "source": [
    "4 in seri "
   ]
  },
  {
   "cell_type": "code",
   "execution_count": 31,
   "id": "8fc05586",
   "metadata": {
    "execution": {
     "iopub.execute_input": "2023-07-25T14:29:12.275721Z",
     "iopub.status.busy": "2023-07-25T14:29:12.275028Z",
     "iopub.status.idle": "2023-07-25T14:29:12.281394Z",
     "shell.execute_reply": "2023-07-25T14:29:12.280398Z"
    },
    "papermill": {
     "duration": 0.023281,
     "end_time": "2023-07-25T14:29:12.283417",
     "exception": false,
     "start_time": "2023-07-25T14:29:12.260136",
     "status": "completed"
    },
    "tags": []
   },
   "outputs": [
    {
     "data": {
      "text/plain": [
       "False"
      ]
     },
     "execution_count": 31,
     "metadata": {},
     "output_type": "execute_result"
    }
   ],
   "source": [
    "42 in seri"
   ]
  },
  {
   "cell_type": "code",
   "execution_count": 32,
   "id": "62e97767",
   "metadata": {
    "execution": {
     "iopub.execute_input": "2023-07-25T14:29:12.312637Z",
     "iopub.status.busy": "2023-07-25T14:29:12.311881Z",
     "iopub.status.idle": "2023-07-25T14:29:12.317535Z",
     "shell.execute_reply": "2023-07-25T14:29:12.316815Z"
    },
    "papermill": {
     "duration": 0.02286,
     "end_time": "2023-07-25T14:29:12.319596",
     "exception": false,
     "start_time": "2023-07-25T14:29:12.296736",
     "status": "completed"
    },
    "tags": []
   },
   "outputs": [
    {
     "data": {
      "text/plain": [
       "[20, 43, 12, 98, 36]"
      ]
     },
     "execution_count": 32,
     "metadata": {},
     "output_type": "execute_result"
    }
   ],
   "source": [
    "\n",
    "l = [20, 43, 12, 98, 36]\n",
    "l"
   ]
  },
  {
   "cell_type": "code",
   "execution_count": 33,
   "id": "6bd6014f",
   "metadata": {
    "execution": {
     "iopub.execute_input": "2023-07-25T14:29:12.349332Z",
     "iopub.status.busy": "2023-07-25T14:29:12.348625Z",
     "iopub.status.idle": "2023-07-25T14:29:12.361408Z",
     "shell.execute_reply": "2023-07-25T14:29:12.360178Z"
    },
    "papermill": {
     "duration": 0.030243,
     "end_time": "2023-07-25T14:29:12.363592",
     "exception": false,
     "start_time": "2023-07-25T14:29:12.333349",
     "status": "completed"
    },
    "tags": []
   },
   "outputs": [
    {
     "data": {
      "text/html": [
       "<div>\n",
       "<style scoped>\n",
       "    .dataframe tbody tr th:only-of-type {\n",
       "        vertical-align: middle;\n",
       "    }\n",
       "\n",
       "    .dataframe tbody tr th {\n",
       "        vertical-align: top;\n",
       "    }\n",
       "\n",
       "    .dataframe thead th {\n",
       "        text-align: right;\n",
       "    }\n",
       "</style>\n",
       "<table border=\"1\" class=\"dataframe\">\n",
       "  <thead>\n",
       "    <tr style=\"text-align: right;\">\n",
       "      <th></th>\n",
       "      <th>col name</th>\n",
       "    </tr>\n",
       "  </thead>\n",
       "  <tbody>\n",
       "    <tr>\n",
       "      <th>0</th>\n",
       "      <td>20</td>\n",
       "    </tr>\n",
       "    <tr>\n",
       "      <th>1</th>\n",
       "      <td>43</td>\n",
       "    </tr>\n",
       "    <tr>\n",
       "      <th>2</th>\n",
       "      <td>12</td>\n",
       "    </tr>\n",
       "    <tr>\n",
       "      <th>3</th>\n",
       "      <td>98</td>\n",
       "    </tr>\n",
       "    <tr>\n",
       "      <th>4</th>\n",
       "      <td>36</td>\n",
       "    </tr>\n",
       "  </tbody>\n",
       "</table>\n",
       "</div>"
      ],
      "text/plain": [
       "   col name\n",
       "0        20\n",
       "1        43\n",
       "2        12\n",
       "3        98\n",
       "4        36"
      ]
     },
     "execution_count": 33,
     "metadata": {},
     "output_type": "execute_result"
    }
   ],
   "source": [
    "pd.DataFrame(l, columns = [\"col name\"])"
   ]
  }
 ],
 "metadata": {
  "kernelspec": {
   "display_name": "Python 3",
   "language": "python",
   "name": "python3"
  },
  "language_info": {
   "codemirror_mode": {
    "name": "ipython",
    "version": 3
   },
   "file_extension": ".py",
   "mimetype": "text/x-python",
   "name": "python",
   "nbconvert_exporter": "python",
   "pygments_lexer": "ipython3",
   "version": "3.10.12"
  },
  "papermill": {
   "default_parameters": {},
   "duration": 12.113615,
   "end_time": "2023-07-25T14:29:13.098933",
   "environment_variables": {},
   "exception": null,
   "input_path": "__notebook__.ipynb",
   "output_path": "__notebook__.ipynb",
   "parameters": {},
   "start_time": "2023-07-25T14:29:00.985318",
   "version": "2.4.0"
  }
 },
 "nbformat": 4,
 "nbformat_minor": 5
}
