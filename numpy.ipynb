{
 "cells": [
  {
   "cell_type": "markdown",
   "id": "abd4cac4",
   "metadata": {
    "papermill": {
     "duration": 0.0365,
     "end_time": "2023-07-25T10:42:22.408492",
     "exception": false,
     "start_time": "2023-07-25T10:42:22.371992",
     "status": "completed"
    },
    "tags": []
   },
   "source": [
    "# Numpy"
   ]
  },
  {
   "cell_type": "code",
   "execution_count": 1,
   "id": "08d81326",
   "metadata": {
    "execution": {
     "iopub.execute_input": "2023-07-25T10:42:22.483037Z",
     "iopub.status.busy": "2023-07-25T10:42:22.482406Z",
     "iopub.status.idle": "2023-07-25T10:42:22.497111Z",
     "shell.execute_reply": "2023-07-25T10:42:22.495955Z"
    },
    "papermill": {
     "duration": 0.054977,
     "end_time": "2023-07-25T10:42:22.499595",
     "exception": false,
     "start_time": "2023-07-25T10:42:22.444618",
     "status": "completed"
    },
    "tags": []
   },
   "outputs": [
    {
     "data": {
      "text/plain": [
       "[1, 3, 5]"
      ]
     },
     "execution_count": 1,
     "metadata": {},
     "output_type": "execute_result"
    }
   ],
   "source": [
    "x = [1, 3, 5]\n",
    "y = [7, 4, 0]\n",
    "x"
   ]
  },
  {
   "cell_type": "code",
   "execution_count": 2,
   "id": "ddc663b3",
   "metadata": {
    "execution": {
     "iopub.execute_input": "2023-07-25T10:42:22.573423Z",
     "iopub.status.busy": "2023-07-25T10:42:22.572545Z",
     "iopub.status.idle": "2023-07-25T10:42:22.578568Z",
     "shell.execute_reply": "2023-07-25T10:42:22.577752Z"
    },
    "papermill": {
     "duration": 0.045777,
     "end_time": "2023-07-25T10:42:22.580760",
     "exception": false,
     "start_time": "2023-07-25T10:42:22.534983",
     "status": "completed"
    },
    "tags": []
   },
   "outputs": [
    {
     "data": {
      "text/plain": [
       "[7, 4, 0]"
      ]
     },
     "execution_count": 2,
     "metadata": {},
     "output_type": "execute_result"
    }
   ],
   "source": [
    "y"
   ]
  },
  {
   "cell_type": "code",
   "execution_count": 3,
   "id": "c49dacec",
   "metadata": {
    "execution": {
     "iopub.execute_input": "2023-07-25T10:42:22.654559Z",
     "iopub.status.busy": "2023-07-25T10:42:22.653791Z",
     "iopub.status.idle": "2023-07-25T10:42:22.658979Z",
     "shell.execute_reply": "2023-07-25T10:42:22.657925Z"
    },
    "papermill": {
     "duration": 0.044724,
     "end_time": "2023-07-25T10:42:22.661331",
     "exception": false,
     "start_time": "2023-07-25T10:42:22.616607",
     "status": "completed"
    },
    "tags": []
   },
   "outputs": [],
   "source": [
    "import numpy as np"
   ]
  },
  {
   "cell_type": "code",
   "execution_count": 4,
   "id": "33d7e90c",
   "metadata": {
    "execution": {
     "iopub.execute_input": "2023-07-25T10:42:22.734830Z",
     "iopub.status.busy": "2023-07-25T10:42:22.734420Z",
     "iopub.status.idle": "2023-07-25T10:42:22.739881Z",
     "shell.execute_reply": "2023-07-25T10:42:22.738354Z"
    },
    "papermill": {
     "duration": 0.045733,
     "end_time": "2023-07-25T10:42:22.742536",
     "exception": false,
     "start_time": "2023-07-25T10:42:22.696803",
     "status": "completed"
    },
    "tags": []
   },
   "outputs": [],
   "source": [
    "# x = [1, 3, 5]\n",
    "# y = [7, 4, 0]\n",
    "\n",
    "x = np.array(x)\n",
    "y = np.array(y)\n"
   ]
  },
  {
   "cell_type": "code",
   "execution_count": 5,
   "id": "063b3d19",
   "metadata": {
    "execution": {
     "iopub.execute_input": "2023-07-25T10:42:22.818922Z",
     "iopub.status.busy": "2023-07-25T10:42:22.818496Z",
     "iopub.status.idle": "2023-07-25T10:42:22.829124Z",
     "shell.execute_reply": "2023-07-25T10:42:22.827624Z"
    },
    "papermill": {
     "duration": 0.050931,
     "end_time": "2023-07-25T10:42:22.831795",
     "exception": false,
     "start_time": "2023-07-25T10:42:22.780864",
     "status": "completed"
    },
    "tags": []
   },
   "outputs": [
    {
     "data": {
      "text/plain": [
       "array([ 7, 12,  0])"
      ]
     },
     "execution_count": 5,
     "metadata": {},
     "output_type": "execute_result"
    }
   ],
   "source": [
    " x * y"
   ]
  },
  {
   "cell_type": "code",
   "execution_count": 6,
   "id": "4518318d",
   "metadata": {
    "execution": {
     "iopub.execute_input": "2023-07-25T10:42:22.906403Z",
     "iopub.status.busy": "2023-07-25T10:42:22.905913Z",
     "iopub.status.idle": "2023-07-25T10:42:22.914218Z",
     "shell.execute_reply": "2023-07-25T10:42:22.912753Z"
    },
    "papermill": {
     "duration": 0.048334,
     "end_time": "2023-07-25T10:42:22.917096",
     "exception": false,
     "start_time": "2023-07-25T10:42:22.868762",
     "status": "completed"
    },
    "tags": []
   },
   "outputs": [
    {
     "data": {
      "text/plain": [
       "array([-5,  2, 10])"
      ]
     },
     "execution_count": 6,
     "metadata": {},
     "output_type": "execute_result"
    }
   ],
   "source": [
    "2 * x - y"
   ]
  },
  {
   "cell_type": "code",
   "execution_count": 7,
   "id": "9acd6ab2",
   "metadata": {
    "execution": {
     "iopub.execute_input": "2023-07-25T10:42:22.991747Z",
     "iopub.status.busy": "2023-07-25T10:42:22.990379Z",
     "iopub.status.idle": "2023-07-25T10:42:22.998489Z",
     "shell.execute_reply": "2023-07-25T10:42:22.997417Z"
    },
    "papermill": {
     "duration": 0.048134,
     "end_time": "2023-07-25T10:42:23.000666",
     "exception": false,
     "start_time": "2023-07-25T10:42:22.952532",
     "status": "completed"
    },
    "tags": []
   },
   "outputs": [
    {
     "data": {
      "text/plain": [
       "array([100,  80,  40])"
      ]
     },
     "execution_count": 7,
     "metadata": {},
     "output_type": "execute_result"
    }
   ],
   "source": [
    "np.array([100, 80, 40])"
   ]
  },
  {
   "cell_type": "code",
   "execution_count": 8,
   "id": "217d3b2b",
   "metadata": {
    "execution": {
     "iopub.execute_input": "2023-07-25T10:42:23.078632Z",
     "iopub.status.busy": "2023-07-25T10:42:23.077986Z",
     "iopub.status.idle": "2023-07-25T10:42:23.084783Z",
     "shell.execute_reply": "2023-07-25T10:42:23.083823Z"
    },
    "papermill": {
     "duration": 0.045759,
     "end_time": "2023-07-25T10:42:23.086960",
     "exception": false,
     "start_time": "2023-07-25T10:42:23.041201",
     "status": "completed"
    },
    "tags": []
   },
   "outputs": [
    {
     "data": {
      "text/plain": [
       "numpy.ndarray"
      ]
     },
     "execution_count": 8,
     "metadata": {},
     "output_type": "execute_result"
    }
   ],
   "source": [
    "k = np.array([34, 23, 89])\n",
    "type(k)"
   ]
  },
  {
   "cell_type": "code",
   "execution_count": 9,
   "id": "955f5b7f",
   "metadata": {
    "execution": {
     "iopub.execute_input": "2023-07-25T10:42:23.159683Z",
     "iopub.status.busy": "2023-07-25T10:42:23.158985Z",
     "iopub.status.idle": "2023-07-25T10:42:23.166315Z",
     "shell.execute_reply": "2023-07-25T10:42:23.165203Z"
    },
    "papermill": {
     "duration": 0.046179,
     "end_time": "2023-07-25T10:42:23.168473",
     "exception": false,
     "start_time": "2023-07-25T10:42:23.122294",
     "status": "completed"
    },
    "tags": []
   },
   "outputs": [
    {
     "data": {
      "text/plain": [
       "array([ 2,  5,  6, 10])"
      ]
     },
     "execution_count": 9,
     "metadata": {},
     "output_type": "execute_result"
    }
   ],
   "source": [
    "np.array([2.3, 5, 6.9, 10], dtype = \"int\")"
   ]
  },
  {
   "cell_type": "code",
   "execution_count": 10,
   "id": "866daa4c",
   "metadata": {
    "execution": {
     "iopub.execute_input": "2023-07-25T10:42:23.243563Z",
     "iopub.status.busy": "2023-07-25T10:42:23.242897Z",
     "iopub.status.idle": "2023-07-25T10:42:23.250044Z",
     "shell.execute_reply": "2023-07-25T10:42:23.248882Z"
    },
    "papermill": {
     "duration": 0.046557,
     "end_time": "2023-07-25T10:42:23.252324",
     "exception": false,
     "start_time": "2023-07-25T10:42:23.205767",
     "status": "completed"
    },
    "tags": []
   },
   "outputs": [
    {
     "data": {
      "text/plain": [
       "array([0., 0., 0., 0., 0., 0., 0., 0., 0., 0.])"
      ]
     },
     "execution_count": 10,
     "metadata": {},
     "output_type": "execute_result"
    }
   ],
   "source": [
    "np.zeros(10)"
   ]
  },
  {
   "cell_type": "code",
   "execution_count": 11,
   "id": "1f42aa7a",
   "metadata": {
    "execution": {
     "iopub.execute_input": "2023-07-25T10:42:23.327756Z",
     "iopub.status.busy": "2023-07-25T10:42:23.326999Z",
     "iopub.status.idle": "2023-07-25T10:42:23.334608Z",
     "shell.execute_reply": "2023-07-25T10:42:23.333439Z"
    },
    "papermill": {
     "duration": 0.048417,
     "end_time": "2023-07-25T10:42:23.336856",
     "exception": false,
     "start_time": "2023-07-25T10:42:23.288439",
     "status": "completed"
    },
    "tags": []
   },
   "outputs": [
    {
     "data": {
      "text/plain": [
       "array([0, 0, 0, 0, 0, 0, 0, 0, 0, 0])"
      ]
     },
     "execution_count": 11,
     "metadata": {},
     "output_type": "execute_result"
    }
   ],
   "source": [
    "np.zeros(10, dtype = \"int\")"
   ]
  },
  {
   "cell_type": "code",
   "execution_count": 12,
   "id": "642736f8",
   "metadata": {
    "execution": {
     "iopub.execute_input": "2023-07-25T10:42:23.412733Z",
     "iopub.status.busy": "2023-07-25T10:42:23.411958Z",
     "iopub.status.idle": "2023-07-25T10:42:23.419869Z",
     "shell.execute_reply": "2023-07-25T10:42:23.418816Z"
    },
    "papermill": {
     "duration": 0.048564,
     "end_time": "2023-07-25T10:42:23.422138",
     "exception": false,
     "start_time": "2023-07-25T10:42:23.373574",
     "status": "completed"
    },
    "tags": []
   },
   "outputs": [
    {
     "data": {
      "text/plain": [
       "array([[1, 1, 1, 1],\n",
       "       [1, 1, 1, 1],\n",
       "       [1, 1, 1, 1],\n",
       "       [1, 1, 1, 1]])"
      ]
     },
     "execution_count": 12,
     "metadata": {},
     "output_type": "execute_result"
    }
   ],
   "source": [
    "np.ones((4,4), dtype = \"int\")"
   ]
  },
  {
   "cell_type": "code",
   "execution_count": 13,
   "id": "c14f8e65",
   "metadata": {
    "execution": {
     "iopub.execute_input": "2023-07-25T10:42:23.499878Z",
     "iopub.status.busy": "2023-07-25T10:42:23.499098Z",
     "iopub.status.idle": "2023-07-25T10:42:23.507154Z",
     "shell.execute_reply": "2023-07-25T10:42:23.505985Z"
    },
    "papermill": {
     "duration": 0.04939,
     "end_time": "2023-07-25T10:42:23.509427",
     "exception": false,
     "start_time": "2023-07-25T10:42:23.460037",
     "status": "completed"
    },
    "tags": []
   },
   "outputs": [
    {
     "data": {
      "text/plain": [
       "array([[9, 9, 9],\n",
       "       [9, 9, 9],\n",
       "       [9, 9, 9]])"
      ]
     },
     "execution_count": 13,
     "metadata": {},
     "output_type": "execute_result"
    }
   ],
   "source": [
    "np.full((3,3), 9)"
   ]
  },
  {
   "cell_type": "code",
   "execution_count": 14,
   "id": "46ac08f8",
   "metadata": {
    "execution": {
     "iopub.execute_input": "2023-07-25T10:42:23.585338Z",
     "iopub.status.busy": "2023-07-25T10:42:23.584843Z",
     "iopub.status.idle": "2023-07-25T10:42:23.593158Z",
     "shell.execute_reply": "2023-07-25T10:42:23.591839Z"
    },
    "papermill": {
     "duration": 0.049384,
     "end_time": "2023-07-25T10:42:23.595708",
     "exception": false,
     "start_time": "2023-07-25T10:42:23.546324",
     "status": "completed"
    },
    "tags": []
   },
   "outputs": [
    {
     "data": {
      "text/plain": [
       "array([ 0, 10, 20, 30, 40, 50, 60, 70, 80, 90])"
      ]
     },
     "execution_count": 14,
     "metadata": {},
     "output_type": "execute_result"
    }
   ],
   "source": [
    "np.arange(0, 100, 10)"
   ]
  },
  {
   "cell_type": "code",
   "execution_count": 15,
   "id": "18750d63",
   "metadata": {
    "execution": {
     "iopub.execute_input": "2023-07-25T10:42:23.672564Z",
     "iopub.status.busy": "2023-07-25T10:42:23.671694Z",
     "iopub.status.idle": "2023-07-25T10:42:23.681460Z",
     "shell.execute_reply": "2023-07-25T10:42:23.680009Z"
    },
    "papermill": {
     "duration": 0.051987,
     "end_time": "2023-07-25T10:42:23.684589",
     "exception": false,
     "start_time": "2023-07-25T10:42:23.632602",
     "status": "completed"
    },
    "tags": []
   },
   "outputs": [
    {
     "data": {
      "text/plain": [
       "array([  0.        ,  11.11111111,  22.22222222,  33.33333333,\n",
       "        44.44444444,  55.55555556,  66.66666667,  77.77777778,\n",
       "        88.88888889, 100.        ])"
      ]
     },
     "execution_count": 15,
     "metadata": {},
     "output_type": "execute_result"
    }
   ],
   "source": [
    "np.linspace(0, 100, 10)"
   ]
  },
  {
   "cell_type": "code",
   "execution_count": 16,
   "id": "2f412309",
   "metadata": {
    "execution": {
     "iopub.execute_input": "2023-07-25T10:42:23.762137Z",
     "iopub.status.busy": "2023-07-25T10:42:23.761650Z",
     "iopub.status.idle": "2023-07-25T10:42:23.769217Z",
     "shell.execute_reply": "2023-07-25T10:42:23.768247Z"
    },
    "papermill": {
     "duration": 0.049754,
     "end_time": "2023-07-25T10:42:23.771555",
     "exception": false,
     "start_time": "2023-07-25T10:42:23.721801",
     "status": "completed"
    },
    "tags": []
   },
   "outputs": [
    {
     "data": {
      "text/plain": [
       "array([[ 9.56543151, 10.09596022],\n",
       "       [ 8.94147991,  9.87046781]])"
      ]
     },
     "execution_count": 16,
     "metadata": {},
     "output_type": "execute_result"
    }
   ],
   "source": [
    "np.random.normal(10, 1, (2,2))  # ort - sapma - size"
   ]
  },
  {
   "cell_type": "code",
   "execution_count": 17,
   "id": "b6a4612a",
   "metadata": {
    "execution": {
     "iopub.execute_input": "2023-07-25T10:42:23.851129Z",
     "iopub.status.busy": "2023-07-25T10:42:23.850676Z",
     "iopub.status.idle": "2023-07-25T10:42:23.859663Z",
     "shell.execute_reply": "2023-07-25T10:42:23.858311Z"
    },
    "papermill": {
     "duration": 0.051182,
     "end_time": "2023-07-25T10:42:23.862216",
     "exception": false,
     "start_time": "2023-07-25T10:42:23.811034",
     "status": "completed"
    },
    "tags": []
   },
   "outputs": [
    {
     "data": {
      "text/plain": [
       "array([[3, 4],\n",
       "       [8, 9]])"
      ]
     },
     "execution_count": 17,
     "metadata": {},
     "output_type": "execute_result"
    }
   ],
   "source": [
    "np.random.randint(0, 10, (2,2))"
   ]
  },
  {
   "cell_type": "code",
   "execution_count": 18,
   "id": "da15d858",
   "metadata": {
    "execution": {
     "iopub.execute_input": "2023-07-25T10:42:23.939625Z",
     "iopub.status.busy": "2023-07-25T10:42:23.939184Z",
     "iopub.status.idle": "2023-07-25T10:42:23.944478Z",
     "shell.execute_reply": "2023-07-25T10:42:23.943130Z"
    },
    "papermill": {
     "duration": 0.047374,
     "end_time": "2023-07-25T10:42:23.947101",
     "exception": false,
     "start_time": "2023-07-25T10:42:23.899727",
     "status": "completed"
    },
    "tags": []
   },
   "outputs": [],
   "source": [
    "# attr\n",
    "\n",
    "# ndim: Number of array dimensions, shape: array dimensions, size: Number of elements in the array, dtype: data type"
   ]
  },
  {
   "cell_type": "code",
   "execution_count": 19,
   "id": "37a18e2e",
   "metadata": {
    "execution": {
     "iopub.execute_input": "2023-07-25T10:42:24.031677Z",
     "iopub.status.busy": "2023-07-25T10:42:24.031151Z",
     "iopub.status.idle": "2023-07-25T10:42:24.037872Z",
     "shell.execute_reply": "2023-07-25T10:42:24.035848Z"
    },
    "papermill": {
     "duration": 0.055727,
     "end_time": "2023-07-25T10:42:24.040722",
     "exception": false,
     "start_time": "2023-07-25T10:42:23.984995",
     "status": "completed"
    },
    "tags": []
   },
   "outputs": [],
   "source": [
    "a = np.random.randint(10, size = 10)"
   ]
  },
  {
   "cell_type": "code",
   "execution_count": 20,
   "id": "446aec2f",
   "metadata": {
    "execution": {
     "iopub.execute_input": "2023-07-25T10:42:24.119964Z",
     "iopub.status.busy": "2023-07-25T10:42:24.119556Z",
     "iopub.status.idle": "2023-07-25T10:42:24.127318Z",
     "shell.execute_reply": "2023-07-25T10:42:24.125809Z"
    },
    "papermill": {
     "duration": 0.051432,
     "end_time": "2023-07-25T10:42:24.129912",
     "exception": false,
     "start_time": "2023-07-25T10:42:24.078480",
     "status": "completed"
    },
    "tags": []
   },
   "outputs": [
    {
     "data": {
      "text/plain": [
       "1"
      ]
     },
     "execution_count": 20,
     "metadata": {},
     "output_type": "execute_result"
    }
   ],
   "source": [
    "a.ndim"
   ]
  },
  {
   "cell_type": "code",
   "execution_count": 21,
   "id": "ae18dc86",
   "metadata": {
    "execution": {
     "iopub.execute_input": "2023-07-25T10:42:24.207804Z",
     "iopub.status.busy": "2023-07-25T10:42:24.207367Z",
     "iopub.status.idle": "2023-07-25T10:42:24.213924Z",
     "shell.execute_reply": "2023-07-25T10:42:24.212989Z"
    },
    "papermill": {
     "duration": 0.048501,
     "end_time": "2023-07-25T10:42:24.216159",
     "exception": false,
     "start_time": "2023-07-25T10:42:24.167658",
     "status": "completed"
    },
    "tags": []
   },
   "outputs": [
    {
     "data": {
      "text/plain": [
       "(10,)"
      ]
     },
     "execution_count": 21,
     "metadata": {},
     "output_type": "execute_result"
    }
   ],
   "source": [
    "a.shape"
   ]
  },
  {
   "cell_type": "code",
   "execution_count": 22,
   "id": "7e7bbf6e",
   "metadata": {
    "execution": {
     "iopub.execute_input": "2023-07-25T10:42:24.294753Z",
     "iopub.status.busy": "2023-07-25T10:42:24.294272Z",
     "iopub.status.idle": "2023-07-25T10:42:24.301623Z",
     "shell.execute_reply": "2023-07-25T10:42:24.300293Z"
    },
    "papermill": {
     "duration": 0.050192,
     "end_time": "2023-07-25T10:42:24.304487",
     "exception": false,
     "start_time": "2023-07-25T10:42:24.254295",
     "status": "completed"
    },
    "tags": []
   },
   "outputs": [
    {
     "data": {
      "text/plain": [
       "10"
      ]
     },
     "execution_count": 22,
     "metadata": {},
     "output_type": "execute_result"
    }
   ],
   "source": [
    "a.size"
   ]
  },
  {
   "cell_type": "code",
   "execution_count": 23,
   "id": "a51ee39a",
   "metadata": {
    "execution": {
     "iopub.execute_input": "2023-07-25T10:42:24.381228Z",
     "iopub.status.busy": "2023-07-25T10:42:24.380801Z",
     "iopub.status.idle": "2023-07-25T10:42:24.388866Z",
     "shell.execute_reply": "2023-07-25T10:42:24.387426Z"
    },
    "papermill": {
     "duration": 0.049319,
     "end_time": "2023-07-25T10:42:24.391311",
     "exception": false,
     "start_time": "2023-07-25T10:42:24.341992",
     "status": "completed"
    },
    "tags": []
   },
   "outputs": [
    {
     "data": {
      "text/plain": [
       "dtype('int64')"
      ]
     },
     "execution_count": 23,
     "metadata": {},
     "output_type": "execute_result"
    }
   ],
   "source": [
    "a.dtype"
   ]
  },
  {
   "cell_type": "code",
   "execution_count": 24,
   "id": "5e89c5ac",
   "metadata": {
    "execution": {
     "iopub.execute_input": "2023-07-25T10:42:24.468493Z",
     "iopub.status.busy": "2023-07-25T10:42:24.467995Z",
     "iopub.status.idle": "2023-07-25T10:42:24.476393Z",
     "shell.execute_reply": "2023-07-25T10:42:24.474939Z"
    },
    "papermill": {
     "duration": 0.050101,
     "end_time": "2023-07-25T10:42:24.478866",
     "exception": false,
     "start_time": "2023-07-25T10:42:24.428765",
     "status": "completed"
    },
    "tags": []
   },
   "outputs": [
    {
     "data": {
      "text/plain": [
       "array([[4, 6, 2, 7],\n",
       "       [6, 4, 6, 9],\n",
       "       [6, 3, 0, 0],\n",
       "       [5, 0, 6, 2]])"
      ]
     },
     "execution_count": 24,
     "metadata": {},
     "output_type": "execute_result"
    }
   ],
   "source": [
    "b = np.random.randint(10, size = (4, 4))\n",
    "b"
   ]
  },
  {
   "cell_type": "code",
   "execution_count": 25,
   "id": "63592ba8",
   "metadata": {
    "execution": {
     "iopub.execute_input": "2023-07-25T10:42:24.558335Z",
     "iopub.status.busy": "2023-07-25T10:42:24.557835Z",
     "iopub.status.idle": "2023-07-25T10:42:24.565225Z",
     "shell.execute_reply": "2023-07-25T10:42:24.563996Z"
    },
    "papermill": {
     "duration": 0.050251,
     "end_time": "2023-07-25T10:42:24.567634",
     "exception": false,
     "start_time": "2023-07-25T10:42:24.517383",
     "status": "completed"
    },
    "tags": []
   },
   "outputs": [
    {
     "data": {
      "text/plain": [
       "(4, 4)"
      ]
     },
     "execution_count": 25,
     "metadata": {},
     "output_type": "execute_result"
    }
   ],
   "source": [
    "b.shape"
   ]
  },
  {
   "cell_type": "code",
   "execution_count": 26,
   "id": "29b19b65",
   "metadata": {
    "execution": {
     "iopub.execute_input": "2023-07-25T10:42:24.647125Z",
     "iopub.status.busy": "2023-07-25T10:42:24.646617Z",
     "iopub.status.idle": "2023-07-25T10:42:24.653213Z",
     "shell.execute_reply": "2023-07-25T10:42:24.652294Z"
    },
    "papermill": {
     "duration": 0.049503,
     "end_time": "2023-07-25T10:42:24.655613",
     "exception": false,
     "start_time": "2023-07-25T10:42:24.606110",
     "status": "completed"
    },
    "tags": []
   },
   "outputs": [
    {
     "data": {
      "text/plain": [
       "16"
      ]
     },
     "execution_count": 26,
     "metadata": {},
     "output_type": "execute_result"
    }
   ],
   "source": [
    "b.size"
   ]
  },
  {
   "cell_type": "code",
   "execution_count": 27,
   "id": "1ec817d4",
   "metadata": {
    "execution": {
     "iopub.execute_input": "2023-07-25T10:42:24.734077Z",
     "iopub.status.busy": "2023-07-25T10:42:24.733588Z",
     "iopub.status.idle": "2023-07-25T10:42:24.740579Z",
     "shell.execute_reply": "2023-07-25T10:42:24.739683Z"
    },
    "papermill": {
     "duration": 0.048503,
     "end_time": "2023-07-25T10:42:24.742846",
     "exception": false,
     "start_time": "2023-07-25T10:42:24.694343",
     "status": "completed"
    },
    "tags": []
   },
   "outputs": [
    {
     "data": {
      "text/plain": [
       "2"
      ]
     },
     "execution_count": 27,
     "metadata": {},
     "output_type": "execute_result"
    }
   ],
   "source": [
    "b.ndim"
   ]
  },
  {
   "cell_type": "code",
   "execution_count": 28,
   "id": "3efe7450",
   "metadata": {
    "execution": {
     "iopub.execute_input": "2023-07-25T10:42:24.825903Z",
     "iopub.status.busy": "2023-07-25T10:42:24.825500Z",
     "iopub.status.idle": "2023-07-25T10:42:24.832721Z",
     "shell.execute_reply": "2023-07-25T10:42:24.831565Z"
    },
    "papermill": {
     "duration": 0.051514,
     "end_time": "2023-07-25T10:42:24.835153",
     "exception": false,
     "start_time": "2023-07-25T10:42:24.783639",
     "status": "completed"
    },
    "tags": []
   },
   "outputs": [
    {
     "data": {
      "text/plain": [
       "dtype('int64')"
      ]
     },
     "execution_count": 28,
     "metadata": {},
     "output_type": "execute_result"
    }
   ],
   "source": [
    "b.dtype"
   ]
  },
  {
   "cell_type": "code",
   "execution_count": 29,
   "id": "73609a74",
   "metadata": {
    "execution": {
     "iopub.execute_input": "2023-07-25T10:42:24.913965Z",
     "iopub.status.busy": "2023-07-25T10:42:24.913494Z",
     "iopub.status.idle": "2023-07-25T10:42:24.921265Z",
     "shell.execute_reply": "2023-07-25T10:42:24.919748Z"
    },
    "papermill": {
     "duration": 0.049736,
     "end_time": "2023-07-25T10:42:24.923546",
     "exception": false,
     "start_time": "2023-07-25T10:42:24.873810",
     "status": "completed"
    },
    "tags": []
   },
   "outputs": [
    {
     "data": {
      "text/plain": [
       "array([0, 1, 2, 3, 4, 5, 6, 7, 8, 9])"
      ]
     },
     "execution_count": 29,
     "metadata": {},
     "output_type": "execute_result"
    }
   ],
   "source": [
    "np.arange(0,10)"
   ]
  },
  {
   "cell_type": "code",
   "execution_count": 30,
   "id": "13ed7318",
   "metadata": {
    "execution": {
     "iopub.execute_input": "2023-07-25T10:42:25.008814Z",
     "iopub.status.busy": "2023-07-25T10:42:25.007899Z",
     "iopub.status.idle": "2023-07-25T10:42:25.017416Z",
     "shell.execute_reply": "2023-07-25T10:42:25.015986Z"
    },
    "papermill": {
     "duration": 0.056651,
     "end_time": "2023-07-25T10:42:25.019940",
     "exception": false,
     "start_time": "2023-07-25T10:42:24.963289",
     "status": "completed"
    },
    "tags": []
   },
   "outputs": [
    {
     "data": {
      "text/plain": [
       "array([[0, 1],\n",
       "       [2, 3],\n",
       "       [4, 5],\n",
       "       [6, 7],\n",
       "       [8, 9]])"
      ]
     },
     "execution_count": 30,
     "metadata": {},
     "output_type": "execute_result"
    }
   ],
   "source": [
    "# reshape\n",
    "np.arange(0,10).reshape((5, 2))"
   ]
  },
  {
   "cell_type": "code",
   "execution_count": 31,
   "id": "6a09e3ca",
   "metadata": {
    "execution": {
     "iopub.execute_input": "2023-07-25T10:42:25.102550Z",
     "iopub.status.busy": "2023-07-25T10:42:25.101284Z",
     "iopub.status.idle": "2023-07-25T10:42:25.108706Z",
     "shell.execute_reply": "2023-07-25T10:42:25.107755Z"
    },
    "papermill": {
     "duration": 0.051497,
     "end_time": "2023-07-25T10:42:25.111170",
     "exception": false,
     "start_time": "2023-07-25T10:42:25.059673",
     "status": "completed"
    },
    "tags": []
   },
   "outputs": [
    {
     "data": {
      "text/plain": [
       "array([1, 2, 3, 4, 5, 6, 7, 8, 9])"
      ]
     },
     "execution_count": 31,
     "metadata": {},
     "output_type": "execute_result"
    }
   ],
   "source": [
    "x = np.arange(1,10)\n",
    "x"
   ]
  },
  {
   "cell_type": "code",
   "execution_count": 32,
   "id": "7d3a8c6e",
   "metadata": {
    "execution": {
     "iopub.execute_input": "2023-07-25T10:42:25.192313Z",
     "iopub.status.busy": "2023-07-25T10:42:25.190989Z",
     "iopub.status.idle": "2023-07-25T10:42:25.197602Z",
     "shell.execute_reply": "2023-07-25T10:42:25.196772Z"
    },
    "papermill": {
     "duration": 0.048798,
     "end_time": "2023-07-25T10:42:25.199641",
     "exception": false,
     "start_time": "2023-07-25T10:42:25.150843",
     "status": "completed"
    },
    "tags": []
   },
   "outputs": [
    {
     "data": {
      "text/plain": [
       "1"
      ]
     },
     "execution_count": 32,
     "metadata": {},
     "output_type": "execute_result"
    }
   ],
   "source": [
    "x.ndim"
   ]
  },
  {
   "cell_type": "code",
   "execution_count": 33,
   "id": "af45bdcc",
   "metadata": {
    "execution": {
     "iopub.execute_input": "2023-07-25T10:42:25.279348Z",
     "iopub.status.busy": "2023-07-25T10:42:25.278334Z",
     "iopub.status.idle": "2023-07-25T10:42:25.286810Z",
     "shell.execute_reply": "2023-07-25T10:42:25.285475Z"
    },
    "papermill": {
     "duration": 0.05116,
     "end_time": "2023-07-25T10:42:25.289299",
     "exception": false,
     "start_time": "2023-07-25T10:42:25.238139",
     "status": "completed"
    },
    "tags": []
   },
   "outputs": [
    {
     "data": {
      "text/plain": [
       "array([[1, 2, 3],\n",
       "       [4, 5, 6],\n",
       "       [7, 8, 9]])"
      ]
     },
     "execution_count": 33,
     "metadata": {},
     "output_type": "execute_result"
    }
   ],
   "source": [
    "y = x.reshape((3,3))\n",
    "y"
   ]
  },
  {
   "cell_type": "code",
   "execution_count": 34,
   "id": "8140df68",
   "metadata": {
    "execution": {
     "iopub.execute_input": "2023-07-25T10:42:25.372654Z",
     "iopub.status.busy": "2023-07-25T10:42:25.372243Z",
     "iopub.status.idle": "2023-07-25T10:42:25.379130Z",
     "shell.execute_reply": "2023-07-25T10:42:25.378050Z"
    },
    "papermill": {
     "duration": 0.052455,
     "end_time": "2023-07-25T10:42:25.381422",
     "exception": false,
     "start_time": "2023-07-25T10:42:25.328967",
     "status": "completed"
    },
    "tags": []
   },
   "outputs": [
    {
     "data": {
      "text/plain": [
       "2"
      ]
     },
     "execution_count": 34,
     "metadata": {},
     "output_type": "execute_result"
    }
   ],
   "source": [
    "y.ndim"
   ]
  },
  {
   "cell_type": "code",
   "execution_count": 35,
   "id": "d86c4e2c",
   "metadata": {
    "execution": {
     "iopub.execute_input": "2023-07-25T10:42:25.464462Z",
     "iopub.status.busy": "2023-07-25T10:42:25.464053Z",
     "iopub.status.idle": "2023-07-25T10:42:25.469020Z",
     "shell.execute_reply": "2023-07-25T10:42:25.468113Z"
    },
    "papermill": {
     "duration": 0.049508,
     "end_time": "2023-07-25T10:42:25.471222",
     "exception": false,
     "start_time": "2023-07-25T10:42:25.421714",
     "status": "completed"
    },
    "tags": []
   },
   "outputs": [],
   "source": [
    "# concatenate\n",
    "x = np.array([3, 4, 2])\n",
    "y = np.array([2, 6, 8])"
   ]
  },
  {
   "cell_type": "code",
   "execution_count": 36,
   "id": "c07bd72e",
   "metadata": {
    "execution": {
     "iopub.execute_input": "2023-07-25T10:42:25.556143Z",
     "iopub.status.busy": "2023-07-25T10:42:25.555326Z",
     "iopub.status.idle": "2023-07-25T10:42:25.562541Z",
     "shell.execute_reply": "2023-07-25T10:42:25.561664Z"
    },
    "papermill": {
     "duration": 0.051612,
     "end_time": "2023-07-25T10:42:25.564822",
     "exception": false,
     "start_time": "2023-07-25T10:42:25.513210",
     "status": "completed"
    },
    "tags": []
   },
   "outputs": [
    {
     "data": {
      "text/plain": [
       "array([3, 4, 2, 2, 6, 8])"
      ]
     },
     "execution_count": 36,
     "metadata": {},
     "output_type": "execute_result"
    }
   ],
   "source": [
    "np.concatenate([x,y])"
   ]
  },
  {
   "cell_type": "code",
   "execution_count": 37,
   "id": "3e0ebc24",
   "metadata": {
    "execution": {
     "iopub.execute_input": "2023-07-25T10:42:25.649926Z",
     "iopub.status.busy": "2023-07-25T10:42:25.649516Z",
     "iopub.status.idle": "2023-07-25T10:42:25.656358Z",
     "shell.execute_reply": "2023-07-25T10:42:25.655523Z"
    },
    "papermill": {
     "duration": 0.052845,
     "end_time": "2023-07-25T10:42:25.658613",
     "exception": false,
     "start_time": "2023-07-25T10:42:25.605768",
     "status": "completed"
    },
    "tags": []
   },
   "outputs": [
    {
     "data": {
      "text/plain": [
       "array([[1, 2, 3],\n",
       "       [4, 5, 6]])"
      ]
     },
     "execution_count": 37,
     "metadata": {},
     "output_type": "execute_result"
    }
   ],
   "source": [
    "x = np.array([[1, 2, 3],\n",
    "              [4, 5, 6]])\n",
    "x"
   ]
  },
  {
   "cell_type": "code",
   "execution_count": 38,
   "id": "a6711546",
   "metadata": {
    "execution": {
     "iopub.execute_input": "2023-07-25T10:42:25.740879Z",
     "iopub.status.busy": "2023-07-25T10:42:25.740497Z",
     "iopub.status.idle": "2023-07-25T10:42:25.747016Z",
     "shell.execute_reply": "2023-07-25T10:42:25.746153Z"
    },
    "papermill": {
     "duration": 0.050755,
     "end_time": "2023-07-25T10:42:25.749411",
     "exception": false,
     "start_time": "2023-07-25T10:42:25.698656",
     "status": "completed"
    },
    "tags": []
   },
   "outputs": [
    {
     "data": {
      "text/plain": [
       "array([[1, 2, 3],\n",
       "       [4, 5, 6],\n",
       "       [1, 2, 3],\n",
       "       [4, 5, 6]])"
      ]
     },
     "execution_count": 38,
     "metadata": {},
     "output_type": "execute_result"
    }
   ],
   "source": [
    "np.concatenate([x, x])"
   ]
  },
  {
   "cell_type": "code",
   "execution_count": 39,
   "id": "317f68ce",
   "metadata": {
    "execution": {
     "iopub.execute_input": "2023-07-25T10:42:25.833700Z",
     "iopub.status.busy": "2023-07-25T10:42:25.833300Z",
     "iopub.status.idle": "2023-07-25T10:42:25.841344Z",
     "shell.execute_reply": "2023-07-25T10:42:25.840288Z"
    },
    "papermill": {
     "duration": 0.05221,
     "end_time": "2023-07-25T10:42:25.843796",
     "exception": false,
     "start_time": "2023-07-25T10:42:25.791586",
     "status": "completed"
    },
    "tags": []
   },
   "outputs": [
    {
     "data": {
      "text/plain": [
       "array([[1, 2, 3, 1, 2, 3],\n",
       "       [4, 5, 6, 4, 5, 6]])"
      ]
     },
     "execution_count": 39,
     "metadata": {},
     "output_type": "execute_result"
    }
   ],
   "source": [
    "np.concatenate([x, x], axis = 1)"
   ]
  },
  {
   "cell_type": "code",
   "execution_count": 40,
   "id": "e5b099c5",
   "metadata": {
    "execution": {
     "iopub.execute_input": "2023-07-25T10:42:25.927447Z",
     "iopub.status.busy": "2023-07-25T10:42:25.927022Z",
     "iopub.status.idle": "2023-07-25T10:42:25.931961Z",
     "shell.execute_reply": "2023-07-25T10:42:25.930607Z"
    },
    "papermill": {
     "duration": 0.049434,
     "end_time": "2023-07-25T10:42:25.934190",
     "exception": false,
     "start_time": "2023-07-25T10:42:25.884756",
     "status": "completed"
    },
    "tags": []
   },
   "outputs": [],
   "source": [
    "# split"
   ]
  },
  {
   "cell_type": "code",
   "execution_count": 41,
   "id": "ef2ea2fd",
   "metadata": {
    "execution": {
     "iopub.execute_input": "2023-07-25T10:42:26.019478Z",
     "iopub.status.busy": "2023-07-25T10:42:26.019036Z",
     "iopub.status.idle": "2023-07-25T10:42:26.026760Z",
     "shell.execute_reply": "2023-07-25T10:42:26.025681Z"
    },
    "papermill": {
     "duration": 0.054626,
     "end_time": "2023-07-25T10:42:26.029272",
     "exception": false,
     "start_time": "2023-07-25T10:42:25.974646",
     "status": "completed"
    },
    "tags": []
   },
   "outputs": [
    {
     "data": {
      "text/plain": [
       "array([23, 45, 56, 67, 45, 12, 34])"
      ]
     },
     "execution_count": 41,
     "metadata": {},
     "output_type": "execute_result"
    }
   ],
   "source": [
    "x = np.array([23, 45, 56, 67, 45, 12, 34])\n",
    "x"
   ]
  },
  {
   "cell_type": "code",
   "execution_count": 42,
   "id": "1656243f",
   "metadata": {
    "execution": {
     "iopub.execute_input": "2023-07-25T10:42:26.112221Z",
     "iopub.status.busy": "2023-07-25T10:42:26.111785Z",
     "iopub.status.idle": "2023-07-25T10:42:26.120226Z",
     "shell.execute_reply": "2023-07-25T10:42:26.119133Z"
    },
    "papermill": {
     "duration": 0.052596,
     "end_time": "2023-07-25T10:42:26.123053",
     "exception": false,
     "start_time": "2023-07-25T10:42:26.070457",
     "status": "completed"
    },
    "tags": []
   },
   "outputs": [
    {
     "data": {
      "text/plain": [
       "[array([23, 45]), array([56]), array([67, 45]), array([12, 34])]"
      ]
     },
     "execution_count": 42,
     "metadata": {},
     "output_type": "execute_result"
    }
   ],
   "source": [
    "np.split(x, [2, 3, 5])"
   ]
  },
  {
   "cell_type": "code",
   "execution_count": 43,
   "id": "d6cbe91d",
   "metadata": {
    "execution": {
     "iopub.execute_input": "2023-07-25T10:42:26.207140Z",
     "iopub.status.busy": "2023-07-25T10:42:26.206643Z",
     "iopub.status.idle": "2023-07-25T10:42:26.212374Z",
     "shell.execute_reply": "2023-07-25T10:42:26.211348Z"
    },
    "papermill": {
     "duration": 0.050991,
     "end_time": "2023-07-25T10:42:26.214629",
     "exception": false,
     "start_time": "2023-07-25T10:42:26.163638",
     "status": "completed"
    },
    "tags": []
   },
   "outputs": [],
   "source": [
    "a, b, c, d = np.split(x, [2, 3, 5])"
   ]
  },
  {
   "cell_type": "code",
   "execution_count": 44,
   "id": "6ba47110",
   "metadata": {
    "execution": {
     "iopub.execute_input": "2023-07-25T10:42:26.300494Z",
     "iopub.status.busy": "2023-07-25T10:42:26.300012Z",
     "iopub.status.idle": "2023-07-25T10:42:26.306961Z",
     "shell.execute_reply": "2023-07-25T10:42:26.305452Z"
    },
    "papermill": {
     "duration": 0.052147,
     "end_time": "2023-07-25T10:42:26.309460",
     "exception": false,
     "start_time": "2023-07-25T10:42:26.257313",
     "status": "completed"
    },
    "tags": []
   },
   "outputs": [
    {
     "data": {
      "text/plain": [
       "array([23, 45])"
      ]
     },
     "execution_count": 44,
     "metadata": {},
     "output_type": "execute_result"
    }
   ],
   "source": [
    "a"
   ]
  },
  {
   "cell_type": "code",
   "execution_count": 45,
   "id": "d76d79d2",
   "metadata": {
    "execution": {
     "iopub.execute_input": "2023-07-25T10:42:26.393763Z",
     "iopub.status.busy": "2023-07-25T10:42:26.393307Z",
     "iopub.status.idle": "2023-07-25T10:42:26.400815Z",
     "shell.execute_reply": "2023-07-25T10:42:26.399874Z"
    },
    "papermill": {
     "duration": 0.052747,
     "end_time": "2023-07-25T10:42:26.403023",
     "exception": false,
     "start_time": "2023-07-25T10:42:26.350276",
     "status": "completed"
    },
    "tags": []
   },
   "outputs": [
    {
     "data": {
      "text/plain": [
       "array([12, 34])"
      ]
     },
     "execution_count": 45,
     "metadata": {},
     "output_type": "execute_result"
    }
   ],
   "source": [
    "d"
   ]
  },
  {
   "cell_type": "code",
   "execution_count": 46,
   "id": "21c4374d",
   "metadata": {
    "execution": {
     "iopub.execute_input": "2023-07-25T10:42:26.488925Z",
     "iopub.status.busy": "2023-07-25T10:42:26.488469Z",
     "iopub.status.idle": "2023-07-25T10:42:26.495815Z",
     "shell.execute_reply": "2023-07-25T10:42:26.494822Z"
    },
    "papermill": {
     "duration": 0.053373,
     "end_time": "2023-07-25T10:42:26.498085",
     "exception": false,
     "start_time": "2023-07-25T10:42:26.444712",
     "status": "completed"
    },
    "tags": []
   },
   "outputs": [
    {
     "data": {
      "text/plain": [
       "array([[ 0,  1,  2,  3],\n",
       "       [ 4,  5,  6,  7],\n",
       "       [ 8,  9, 10, 11],\n",
       "       [12, 13, 14, 15]])"
      ]
     },
     "execution_count": 46,
     "metadata": {},
     "output_type": "execute_result"
    }
   ],
   "source": [
    "x = np.arange(16).reshape(4,4)\n",
    "x"
   ]
  },
  {
   "cell_type": "code",
   "execution_count": 47,
   "id": "3748e318",
   "metadata": {
    "execution": {
     "iopub.execute_input": "2023-07-25T10:42:26.582697Z",
     "iopub.status.busy": "2023-07-25T10:42:26.582241Z",
     "iopub.status.idle": "2023-07-25T10:42:26.589736Z",
     "shell.execute_reply": "2023-07-25T10:42:26.588895Z"
    },
    "papermill": {
     "duration": 0.052958,
     "end_time": "2023-07-25T10:42:26.592268",
     "exception": false,
     "start_time": "2023-07-25T10:42:26.539310",
     "status": "completed"
    },
    "tags": []
   },
   "outputs": [
    {
     "data": {
      "text/plain": [
       "[array([[0, 1, 2, 3],\n",
       "        [4, 5, 6, 7]]),\n",
       " array([[ 8,  9, 10, 11],\n",
       "        [12, 13, 14, 15]])]"
      ]
     },
     "execution_count": 47,
     "metadata": {},
     "output_type": "execute_result"
    }
   ],
   "source": [
    "np.vsplit(x, [2])"
   ]
  },
  {
   "cell_type": "code",
   "execution_count": 48,
   "id": "9a5e5e2f",
   "metadata": {
    "execution": {
     "iopub.execute_input": "2023-07-25T10:42:26.679647Z",
     "iopub.status.busy": "2023-07-25T10:42:26.679166Z",
     "iopub.status.idle": "2023-07-25T10:42:26.687444Z",
     "shell.execute_reply": "2023-07-25T10:42:26.686113Z"
    },
    "papermill": {
     "duration": 0.054418,
     "end_time": "2023-07-25T10:42:26.690089",
     "exception": false,
     "start_time": "2023-07-25T10:42:26.635671",
     "status": "completed"
    },
    "tags": []
   },
   "outputs": [
    {
     "data": {
      "text/plain": [
       "array([[ 0,  1,  2,  3],\n",
       "       [ 4,  5,  6,  7],\n",
       "       [ 8,  9, 10, 11]])"
      ]
     },
     "execution_count": 48,
     "metadata": {},
     "output_type": "execute_result"
    }
   ],
   "source": [
    "up, low = np.vsplit(x, [3])\n",
    "up"
   ]
  },
  {
   "cell_type": "code",
   "execution_count": 49,
   "id": "b184b7d6",
   "metadata": {
    "execution": {
     "iopub.execute_input": "2023-07-25T10:42:26.776604Z",
     "iopub.status.busy": "2023-07-25T10:42:26.776139Z",
     "iopub.status.idle": "2023-07-25T10:42:26.784808Z",
     "shell.execute_reply": "2023-07-25T10:42:26.783300Z"
    },
    "papermill": {
     "duration": 0.055159,
     "end_time": "2023-07-25T10:42:26.787497",
     "exception": false,
     "start_time": "2023-07-25T10:42:26.732338",
     "status": "completed"
    },
    "tags": []
   },
   "outputs": [
    {
     "data": {
      "text/plain": [
       "array([[12, 13, 14, 15]])"
      ]
     },
     "execution_count": 49,
     "metadata": {},
     "output_type": "execute_result"
    }
   ],
   "source": [
    "low"
   ]
  },
  {
   "cell_type": "code",
   "execution_count": 50,
   "id": "3dfa7e47",
   "metadata": {
    "execution": {
     "iopub.execute_input": "2023-07-25T10:42:26.877280Z",
     "iopub.status.busy": "2023-07-25T10:42:26.875851Z",
     "iopub.status.idle": "2023-07-25T10:42:26.884343Z",
     "shell.execute_reply": "2023-07-25T10:42:26.882963Z"
    },
    "papermill": {
     "duration": 0.055768,
     "end_time": "2023-07-25T10:42:26.887096",
     "exception": false,
     "start_time": "2023-07-25T10:42:26.831328",
     "status": "completed"
    },
    "tags": []
   },
   "outputs": [
    {
     "data": {
      "text/plain": [
       "array([[ 0,  1,  2,  3],\n",
       "       [ 4,  5,  6,  7],\n",
       "       [ 8,  9, 10, 11],\n",
       "       [12, 13, 14, 15]])"
      ]
     },
     "execution_count": 50,
     "metadata": {},
     "output_type": "execute_result"
    }
   ],
   "source": [
    "x"
   ]
  },
  {
   "cell_type": "code",
   "execution_count": 51,
   "id": "a1985953",
   "metadata": {
    "execution": {
     "iopub.execute_input": "2023-07-25T10:42:26.979876Z",
     "iopub.status.busy": "2023-07-25T10:42:26.979423Z",
     "iopub.status.idle": "2023-07-25T10:42:26.988047Z",
     "shell.execute_reply": "2023-07-25T10:42:26.986808Z"
    },
    "papermill": {
     "duration": 0.05736,
     "end_time": "2023-07-25T10:42:26.990496",
     "exception": false,
     "start_time": "2023-07-25T10:42:26.933136",
     "status": "completed"
    },
    "tags": []
   },
   "outputs": [
    {
     "data": {
      "text/plain": [
       "[array([[ 0,  1],\n",
       "        [ 4,  5],\n",
       "        [ 8,  9],\n",
       "        [12, 13]]),\n",
       " array([[ 2,  3],\n",
       "        [ 6,  7],\n",
       "        [10, 11],\n",
       "        [14, 15]])]"
      ]
     },
     "execution_count": 51,
     "metadata": {},
     "output_type": "execute_result"
    }
   ],
   "source": [
    "np.hsplit(x, [2])"
   ]
  },
  {
   "cell_type": "code",
   "execution_count": 52,
   "id": "8a5f0e0b",
   "metadata": {
    "execution": {
     "iopub.execute_input": "2023-07-25T10:42:27.081179Z",
     "iopub.status.busy": "2023-07-25T10:42:27.080681Z",
     "iopub.status.idle": "2023-07-25T10:42:27.085882Z",
     "shell.execute_reply": "2023-07-25T10:42:27.084916Z"
    },
    "papermill": {
     "duration": 0.051384,
     "end_time": "2023-07-25T10:42:27.088145",
     "exception": false,
     "start_time": "2023-07-25T10:42:27.036761",
     "status": "completed"
    },
    "tags": []
   },
   "outputs": [],
   "source": [
    "# sorting"
   ]
  },
  {
   "cell_type": "code",
   "execution_count": 53,
   "id": "c9cdce72",
   "metadata": {
    "execution": {
     "iopub.execute_input": "2023-07-25T10:42:27.175561Z",
     "iopub.status.busy": "2023-07-25T10:42:27.175130Z",
     "iopub.status.idle": "2023-07-25T10:42:27.183554Z",
     "shell.execute_reply": "2023-07-25T10:42:27.182167Z"
    },
    "papermill": {
     "duration": 0.054825,
     "end_time": "2023-07-25T10:42:27.186221",
     "exception": false,
     "start_time": "2023-07-25T10:42:27.131396",
     "status": "completed"
    },
    "tags": []
   },
   "outputs": [
    {
     "data": {
      "text/plain": [
       "array([223, 566, 421, 100])"
      ]
     },
     "execution_count": 53,
     "metadata": {},
     "output_type": "execute_result"
    }
   ],
   "source": [
    "x = np.array([223, 566, 421, 100])\n",
    "x"
   ]
  },
  {
   "cell_type": "code",
   "execution_count": 54,
   "id": "5c6c2d3c",
   "metadata": {
    "execution": {
     "iopub.execute_input": "2023-07-25T10:42:27.273464Z",
     "iopub.status.busy": "2023-07-25T10:42:27.273003Z",
     "iopub.status.idle": "2023-07-25T10:42:27.281085Z",
     "shell.execute_reply": "2023-07-25T10:42:27.280014Z"
    },
    "papermill": {
     "duration": 0.054582,
     "end_time": "2023-07-25T10:42:27.283513",
     "exception": false,
     "start_time": "2023-07-25T10:42:27.228931",
     "status": "completed"
    },
    "tags": []
   },
   "outputs": [
    {
     "data": {
      "text/plain": [
       "array([100, 223, 421, 566])"
      ]
     },
     "execution_count": 54,
     "metadata": {},
     "output_type": "execute_result"
    }
   ],
   "source": [
    "k = np.sort(x)\n",
    "k"
   ]
  },
  {
   "cell_type": "code",
   "execution_count": 55,
   "id": "2b7d08ef",
   "metadata": {
    "execution": {
     "iopub.execute_input": "2023-07-25T10:42:27.370986Z",
     "iopub.status.busy": "2023-07-25T10:42:27.370561Z",
     "iopub.status.idle": "2023-07-25T10:42:27.376904Z",
     "shell.execute_reply": "2023-07-25T10:42:27.376106Z"
    },
    "papermill": {
     "duration": 0.05291,
     "end_time": "2023-07-25T10:42:27.379329",
     "exception": false,
     "start_time": "2023-07-25T10:42:27.326419",
     "status": "completed"
    },
    "tags": []
   },
   "outputs": [
    {
     "data": {
      "text/plain": [
       "array([223, 566, 421, 100])"
      ]
     },
     "execution_count": 55,
     "metadata": {},
     "output_type": "execute_result"
    }
   ],
   "source": [
    "x"
   ]
  },
  {
   "cell_type": "code",
   "execution_count": 56,
   "id": "77fc8872",
   "metadata": {
    "execution": {
     "iopub.execute_input": "2023-07-25T10:42:27.468872Z",
     "iopub.status.busy": "2023-07-25T10:42:27.468495Z",
     "iopub.status.idle": "2023-07-25T10:42:27.472654Z",
     "shell.execute_reply": "2023-07-25T10:42:27.471872Z"
    },
    "papermill": {
     "duration": 0.051988,
     "end_time": "2023-07-25T10:42:27.474931",
     "exception": false,
     "start_time": "2023-07-25T10:42:27.422943",
     "status": "completed"
    },
    "tags": []
   },
   "outputs": [],
   "source": [
    "x.sort()"
   ]
  },
  {
   "cell_type": "code",
   "execution_count": 57,
   "id": "ead3fc0c",
   "metadata": {
    "execution": {
     "iopub.execute_input": "2023-07-25T10:42:27.565292Z",
     "iopub.status.busy": "2023-07-25T10:42:27.564863Z",
     "iopub.status.idle": "2023-07-25T10:42:27.570876Z",
     "shell.execute_reply": "2023-07-25T10:42:27.569984Z"
    },
    "papermill": {
     "duration": 0.054035,
     "end_time": "2023-07-25T10:42:27.573568",
     "exception": false,
     "start_time": "2023-07-25T10:42:27.519533",
     "status": "completed"
    },
    "tags": []
   },
   "outputs": [
    {
     "data": {
      "text/plain": [
       "array([100, 223, 421, 566])"
      ]
     },
     "execution_count": 57,
     "metadata": {},
     "output_type": "execute_result"
    }
   ],
   "source": [
    "x"
   ]
  },
  {
   "cell_type": "code",
   "execution_count": 58,
   "id": "c42d0ff8",
   "metadata": {
    "execution": {
     "iopub.execute_input": "2023-07-25T10:42:27.662204Z",
     "iopub.status.busy": "2023-07-25T10:42:27.661800Z",
     "iopub.status.idle": "2023-07-25T10:42:27.669605Z",
     "shell.execute_reply": "2023-07-25T10:42:27.668532Z"
    },
    "papermill": {
     "duration": 0.054687,
     "end_time": "2023-07-25T10:42:27.672080",
     "exception": false,
     "start_time": "2023-07-25T10:42:27.617393",
     "status": "completed"
    },
    "tags": []
   },
   "outputs": [
    {
     "data": {
      "text/plain": [
       "array([[23, 93, 25, 47, 45, 76, 85, 59, 57, 89],\n",
       "       [ 2, 42, 50, 34, 18, 18, 91, 92, 40, 71],\n",
       "       [ 7, 69, 13, 87, 80, 99, 83, 23, 57, 90],\n",
       "       [12, 68, 58, 22, 96,  5,  1, 52, 59, 54],\n",
       "       [34, 25, 79, 37, 78, 46, 58, 94, 93, 44],\n",
       "       [61, 36, 97, 44, 68, 84, 79, 55,  0, 88],\n",
       "       [ 2,  2, 20, 26, 79, 98, 36, 30, 92, 87],\n",
       "       [ 7, 39, 68, 92, 48, 31, 45, 68,  4, 45],\n",
       "       [90, 75, 69, 30, 53, 43, 87, 36, 50, 73],\n",
       "       [61, 90, 34, 11, 84, 74, 30, 39,  8, 48],\n",
       "       [23, 56, 65, 76, 83, 34, 18, 31, 56, 44],\n",
       "       [73, 43,  6, 89, 36, 42, 59, 18, 72, 91],\n",
       "       [ 3, 23, 18, 67, 83,  3, 75, 80, 87, 80],\n",
       "       [42, 42, 55, 21, 94, 28, 81, 30, 91,  8],\n",
       "       [21, 18, 13, 52, 95, 16, 11, 96, 39, 40],\n",
       "       [78, 66, 53, 46,  1, 55, 38, 98, 51, 51],\n",
       "       [93, 68, 45, 54, 97, 68, 71, 96,  5,  2],\n",
       "       [64, 76, 38, 69, 37, 56, 25, 61, 32, 35],\n",
       "       [98, 68, 44,  8, 47, 20, 62, 75, 57, 42],\n",
       "       [80, 48, 14, 20, 11,  2, 34, 68, 14, 66]])"
      ]
     },
     "execution_count": 58,
     "metadata": {},
     "output_type": "execute_result"
    }
   ],
   "source": [
    "v = np.random.randint(0,100, (20,10))\n",
    "v\n"
   ]
  },
  {
   "cell_type": "code",
   "execution_count": 59,
   "id": "4c8e636a",
   "metadata": {
    "execution": {
     "iopub.execute_input": "2023-07-25T10:42:27.765947Z",
     "iopub.status.busy": "2023-07-25T10:42:27.765481Z",
     "iopub.status.idle": "2023-07-25T10:42:27.774981Z",
     "shell.execute_reply": "2023-07-25T10:42:27.773654Z"
    },
    "papermill": {
     "duration": 0.056716,
     "end_time": "2023-07-25T10:42:27.777424",
     "exception": false,
     "start_time": "2023-07-25T10:42:27.720708",
     "status": "completed"
    },
    "tags": []
   },
   "outputs": [
    {
     "data": {
      "text/plain": [
       "array([[23, 25, 45, 47, 57, 59, 76, 85, 89, 93],\n",
       "       [ 2, 18, 18, 34, 40, 42, 50, 71, 91, 92],\n",
       "       [ 7, 13, 23, 57, 69, 80, 83, 87, 90, 99],\n",
       "       [ 1,  5, 12, 22, 52, 54, 58, 59, 68, 96],\n",
       "       [25, 34, 37, 44, 46, 58, 78, 79, 93, 94],\n",
       "       [ 0, 36, 44, 55, 61, 68, 79, 84, 88, 97],\n",
       "       [ 2,  2, 20, 26, 30, 36, 79, 87, 92, 98],\n",
       "       [ 4,  7, 31, 39, 45, 45, 48, 68, 68, 92],\n",
       "       [30, 36, 43, 50, 53, 69, 73, 75, 87, 90],\n",
       "       [ 8, 11, 30, 34, 39, 48, 61, 74, 84, 90],\n",
       "       [18, 23, 31, 34, 44, 56, 56, 65, 76, 83],\n",
       "       [ 6, 18, 36, 42, 43, 59, 72, 73, 89, 91],\n",
       "       [ 3,  3, 18, 23, 67, 75, 80, 80, 83, 87],\n",
       "       [ 8, 21, 28, 30, 42, 42, 55, 81, 91, 94],\n",
       "       [11, 13, 16, 18, 21, 39, 40, 52, 95, 96],\n",
       "       [ 1, 38, 46, 51, 51, 53, 55, 66, 78, 98],\n",
       "       [ 2,  5, 45, 54, 68, 68, 71, 93, 96, 97],\n",
       "       [25, 32, 35, 37, 38, 56, 61, 64, 69, 76],\n",
       "       [ 8, 20, 42, 44, 47, 57, 62, 68, 75, 98],\n",
       "       [ 2, 11, 14, 14, 20, 34, 48, 66, 68, 80]])"
      ]
     },
     "execution_count": 59,
     "metadata": {},
     "output_type": "execute_result"
    }
   ],
   "source": [
    "sorted = np.sort(v)\n",
    "sorted"
   ]
  },
  {
   "cell_type": "code",
   "execution_count": 60,
   "id": "9f5e1f04",
   "metadata": {
    "execution": {
     "iopub.execute_input": "2023-07-25T10:42:27.870858Z",
     "iopub.status.busy": "2023-07-25T10:42:27.870425Z",
     "iopub.status.idle": "2023-07-25T10:42:27.880045Z",
     "shell.execute_reply": "2023-07-25T10:42:27.878319Z"
    },
    "papermill": {
     "duration": 0.059691,
     "end_time": "2023-07-25T10:42:27.883949",
     "exception": false,
     "start_time": "2023-07-25T10:42:27.824258",
     "status": "completed"
    },
    "tags": []
   },
   "outputs": [
    {
     "data": {
      "text/plain": [
       "array([[ 2,  2,  6,  8,  1,  2,  1, 18,  0,  2],\n",
       "       [ 2, 18, 13, 11, 11,  3, 11, 23,  4,  8],\n",
       "       [ 3, 23, 13, 20, 18,  5, 18, 30,  5, 35],\n",
       "       [ 7, 25, 14, 21, 36, 16, 25, 30,  8, 40],\n",
       "       [ 7, 36, 18, 22, 37, 18, 30, 31, 14, 42],\n",
       "       [12, 39, 20, 26, 45, 20, 34, 36, 32, 44],\n",
       "       [21, 42, 25, 30, 47, 28, 36, 39, 39, 44],\n",
       "       [23, 42, 34, 34, 48, 31, 38, 52, 40, 45],\n",
       "       [23, 43, 38, 37, 53, 34, 45, 55, 50, 48],\n",
       "       [34, 48, 44, 44, 68, 42, 58, 59, 51, 51],\n",
       "       [42, 56, 45, 46, 78, 43, 59, 61, 56, 54],\n",
       "       [61, 66, 50, 47, 79, 46, 62, 68, 57, 66],\n",
       "       [61, 68, 53, 52, 80, 55, 71, 68, 57, 71],\n",
       "       [64, 68, 55, 54, 83, 56, 75, 75, 57, 73],\n",
       "       [73, 68, 58, 67, 83, 68, 79, 80, 59, 80],\n",
       "       [78, 69, 65, 69, 84, 74, 81, 92, 72, 87],\n",
       "       [80, 75, 68, 76, 94, 76, 83, 94, 87, 88],\n",
       "       [90, 76, 69, 87, 95, 84, 85, 96, 91, 89],\n",
       "       [93, 90, 79, 89, 96, 98, 87, 96, 92, 90],\n",
       "       [98, 93, 97, 92, 97, 99, 91, 98, 93, 91]])"
      ]
     },
     "execution_count": 60,
     "metadata": {},
     "output_type": "execute_result"
    }
   ],
   "source": [
    "sorted = np.sort(v, axis = 0)\n",
    "sorted"
   ]
  },
  {
   "cell_type": "code",
   "execution_count": 61,
   "id": "bc50c8db",
   "metadata": {
    "execution": {
     "iopub.execute_input": "2023-07-25T10:42:27.998400Z",
     "iopub.status.busy": "2023-07-25T10:42:27.997946Z",
     "iopub.status.idle": "2023-07-25T10:42:28.010701Z",
     "shell.execute_reply": "2023-07-25T10:42:28.007194Z"
    },
    "papermill": {
     "duration": 0.077136,
     "end_time": "2023-07-25T10:42:28.015481",
     "exception": false,
     "start_time": "2023-07-25T10:42:27.938345",
     "status": "completed"
    },
    "tags": []
   },
   "outputs": [],
   "source": [
    "import numpy as np"
   ]
  },
  {
   "cell_type": "code",
   "execution_count": 62,
   "id": "c2cb97ff",
   "metadata": {
    "execution": {
     "iopub.execute_input": "2023-07-25T10:42:28.106755Z",
     "iopub.status.busy": "2023-07-25T10:42:28.106263Z",
     "iopub.status.idle": "2023-07-25T10:42:28.112697Z",
     "shell.execute_reply": "2023-07-25T10:42:28.111151Z"
    },
    "papermill": {
     "duration": 0.054251,
     "end_time": "2023-07-25T10:42:28.115211",
     "exception": false,
     "start_time": "2023-07-25T10:42:28.060960",
     "status": "completed"
    },
    "tags": []
   },
   "outputs": [],
   "source": [
    "# indexing\n",
    "\n",
    "x = np.array([23, 45, 100, 0, -2])"
   ]
  },
  {
   "cell_type": "code",
   "execution_count": 63,
   "id": "5e8bae7d",
   "metadata": {
    "execution": {
     "iopub.execute_input": "2023-07-25T10:42:28.203407Z",
     "iopub.status.busy": "2023-07-25T10:42:28.202904Z",
     "iopub.status.idle": "2023-07-25T10:42:28.210257Z",
     "shell.execute_reply": "2023-07-25T10:42:28.209400Z"
    },
    "papermill": {
     "duration": 0.053513,
     "end_time": "2023-07-25T10:42:28.212519",
     "exception": false,
     "start_time": "2023-07-25T10:42:28.159006",
     "status": "completed"
    },
    "tags": []
   },
   "outputs": [
    {
     "data": {
      "text/plain": [
       "23"
      ]
     },
     "execution_count": 63,
     "metadata": {},
     "output_type": "execute_result"
    }
   ],
   "source": [
    "x0 = x[0]\n",
    "x0"
   ]
  },
  {
   "cell_type": "code",
   "execution_count": 64,
   "id": "74bc6d01",
   "metadata": {
    "execution": {
     "iopub.execute_input": "2023-07-25T10:42:28.301251Z",
     "iopub.status.busy": "2023-07-25T10:42:28.300727Z",
     "iopub.status.idle": "2023-07-25T10:42:28.308004Z",
     "shell.execute_reply": "2023-07-25T10:42:28.307124Z"
    },
    "papermill": {
     "duration": 0.054169,
     "end_time": "2023-07-25T10:42:28.310214",
     "exception": false,
     "start_time": "2023-07-25T10:42:28.256045",
     "status": "completed"
    },
    "tags": []
   },
   "outputs": [
    {
     "data": {
      "text/plain": [
       "100"
      ]
     },
     "execution_count": 64,
     "metadata": {},
     "output_type": "execute_result"
    }
   ],
   "source": [
    "x3 = x[2]\n",
    "x3"
   ]
  },
  {
   "cell_type": "code",
   "execution_count": 65,
   "id": "67c43d5b",
   "metadata": {
    "execution": {
     "iopub.execute_input": "2023-07-25T10:42:28.399976Z",
     "iopub.status.busy": "2023-07-25T10:42:28.399497Z",
     "iopub.status.idle": "2023-07-25T10:42:28.407477Z",
     "shell.execute_reply": "2023-07-25T10:42:28.406246Z"
    },
    "papermill": {
     "duration": 0.056395,
     "end_time": "2023-07-25T10:42:28.409780",
     "exception": false,
     "start_time": "2023-07-25T10:42:28.353385",
     "status": "completed"
    },
    "tags": []
   },
   "outputs": [
    {
     "data": {
      "text/plain": [
       "-2"
      ]
     },
     "execution_count": 65,
     "metadata": {},
     "output_type": "execute_result"
    }
   ],
   "source": [
    "xl = x[-1]\n",
    "xl"
   ]
  },
  {
   "cell_type": "code",
   "execution_count": 66,
   "id": "2548160b",
   "metadata": {
    "execution": {
     "iopub.execute_input": "2023-07-25T10:42:28.501824Z",
     "iopub.status.busy": "2023-07-25T10:42:28.501403Z",
     "iopub.status.idle": "2023-07-25T10:42:28.509060Z",
     "shell.execute_reply": "2023-07-25T10:42:28.508150Z"
    },
    "papermill": {
     "duration": 0.056471,
     "end_time": "2023-07-25T10:42:28.511400",
     "exception": false,
     "start_time": "2023-07-25T10:42:28.454929",
     "status": "completed"
    },
    "tags": []
   },
   "outputs": [
    {
     "data": {
      "text/plain": [
       "array([ 23,  45, 100,   0,  -2])"
      ]
     },
     "execution_count": 66,
     "metadata": {},
     "output_type": "execute_result"
    }
   ],
   "source": [
    "x"
   ]
  },
  {
   "cell_type": "code",
   "execution_count": 67,
   "id": "d240eaf5",
   "metadata": {
    "execution": {
     "iopub.execute_input": "2023-07-25T10:42:28.601014Z",
     "iopub.status.busy": "2023-07-25T10:42:28.600593Z",
     "iopub.status.idle": "2023-07-25T10:42:28.608986Z",
     "shell.execute_reply": "2023-07-25T10:42:28.607536Z"
    },
    "papermill": {
     "duration": 0.0571,
     "end_time": "2023-07-25T10:42:28.611646",
     "exception": false,
     "start_time": "2023-07-25T10:42:28.554546",
     "status": "completed"
    },
    "tags": []
   },
   "outputs": [
    {
     "data": {
      "text/plain": [
       "array([1000,   45,  100,    0,   -2])"
      ]
     },
     "execution_count": 67,
     "metadata": {},
     "output_type": "execute_result"
    }
   ],
   "source": [
    "x[0] = 1000\n",
    "x"
   ]
  },
  {
   "cell_type": "code",
   "execution_count": 68,
   "id": "87539dad",
   "metadata": {
    "execution": {
     "iopub.execute_input": "2023-07-25T10:42:28.702345Z",
     "iopub.status.busy": "2023-07-25T10:42:28.700990Z",
     "iopub.status.idle": "2023-07-25T10:42:28.709519Z",
     "shell.execute_reply": "2023-07-25T10:42:28.708521Z"
    },
    "papermill": {
     "duration": 0.056522,
     "end_time": "2023-07-25T10:42:28.712214",
     "exception": false,
     "start_time": "2023-07-25T10:42:28.655692",
     "status": "completed"
    },
    "tags": []
   },
   "outputs": [
    {
     "data": {
      "text/plain": [
       "array([[6, 5, 4, 5],\n",
       "       [0, 8, 2, 6],\n",
       "       [9, 0, 7, 2],\n",
       "       [7, 2, 7, 5]])"
      ]
     },
     "execution_count": 68,
     "metadata": {},
     "output_type": "execute_result"
    }
   ],
   "source": [
    "\n",
    "x = np.random.randint(10, size = (4, 4))\n",
    "x"
   ]
  },
  {
   "cell_type": "code",
   "execution_count": 69,
   "id": "473213ee",
   "metadata": {
    "execution": {
     "iopub.execute_input": "2023-07-25T10:42:28.804029Z",
     "iopub.status.busy": "2023-07-25T10:42:28.802223Z",
     "iopub.status.idle": "2023-07-25T10:42:28.810855Z",
     "shell.execute_reply": "2023-07-25T10:42:28.809707Z"
    },
    "papermill": {
     "duration": 0.057205,
     "end_time": "2023-07-25T10:42:28.813508",
     "exception": false,
     "start_time": "2023-07-25T10:42:28.756303",
     "status": "completed"
    },
    "tags": []
   },
   "outputs": [
    {
     "data": {
      "text/plain": [
       "6"
      ]
     },
     "execution_count": 69,
     "metadata": {},
     "output_type": "execute_result"
    }
   ],
   "source": [
    "x[0][0]"
   ]
  },
  {
   "cell_type": "code",
   "execution_count": 70,
   "id": "7cc7921d",
   "metadata": {
    "execution": {
     "iopub.execute_input": "2023-07-25T10:42:28.906043Z",
     "iopub.status.busy": "2023-07-25T10:42:28.905608Z",
     "iopub.status.idle": "2023-07-25T10:42:28.912150Z",
     "shell.execute_reply": "2023-07-25T10:42:28.911335Z"
    },
    "papermill": {
     "duration": 0.054464,
     "end_time": "2023-07-25T10:42:28.914221",
     "exception": false,
     "start_time": "2023-07-25T10:42:28.859757",
     "status": "completed"
    },
    "tags": []
   },
   "outputs": [
    {
     "data": {
      "text/plain": [
       "2"
      ]
     },
     "execution_count": 70,
     "metadata": {},
     "output_type": "execute_result"
    }
   ],
   "source": [
    "x[1][2]"
   ]
  },
  {
   "cell_type": "code",
   "execution_count": 71,
   "id": "462b1456",
   "metadata": {
    "execution": {
     "iopub.execute_input": "2023-07-25T10:42:29.008785Z",
     "iopub.status.busy": "2023-07-25T10:42:29.007868Z",
     "iopub.status.idle": "2023-07-25T10:42:29.016096Z",
     "shell.execute_reply": "2023-07-25T10:42:29.014753Z"
    },
    "papermill": {
     "duration": 0.058684,
     "end_time": "2023-07-25T10:42:29.019026",
     "exception": false,
     "start_time": "2023-07-25T10:42:28.960342",
     "status": "completed"
    },
    "tags": []
   },
   "outputs": [],
   "source": [
    "x[1][2] = 99"
   ]
  },
  {
   "cell_type": "code",
   "execution_count": 72,
   "id": "56b97976",
   "metadata": {
    "execution": {
     "iopub.execute_input": "2023-07-25T10:42:29.113135Z",
     "iopub.status.busy": "2023-07-25T10:42:29.112681Z",
     "iopub.status.idle": "2023-07-25T10:42:29.119879Z",
     "shell.execute_reply": "2023-07-25T10:42:29.118813Z"
    },
    "papermill": {
     "duration": 0.056475,
     "end_time": "2023-07-25T10:42:29.122449",
     "exception": false,
     "start_time": "2023-07-25T10:42:29.065974",
     "status": "completed"
    },
    "tags": []
   },
   "outputs": [
    {
     "data": {
      "text/plain": [
       "99"
      ]
     },
     "execution_count": 72,
     "metadata": {},
     "output_type": "execute_result"
    }
   ],
   "source": [
    "x[1][2]"
   ]
  },
  {
   "cell_type": "code",
   "execution_count": 73,
   "id": "646bc4ca",
   "metadata": {
    "execution": {
     "iopub.execute_input": "2023-07-25T10:42:29.215837Z",
     "iopub.status.busy": "2023-07-25T10:42:29.215429Z",
     "iopub.status.idle": "2023-07-25T10:42:29.222459Z",
     "shell.execute_reply": "2023-07-25T10:42:29.221413Z"
    },
    "papermill": {
     "duration": 0.055679,
     "end_time": "2023-07-25T10:42:29.224876",
     "exception": false,
     "start_time": "2023-07-25T10:42:29.169197",
     "status": "completed"
    },
    "tags": []
   },
   "outputs": [
    {
     "data": {
      "text/plain": [
       "array([[ 6,  5,  4,  5],\n",
       "       [ 0,  8, 99,  6],\n",
       "       [ 9,  0,  7,  2],\n",
       "       [ 7,  2,  7,  5]])"
      ]
     },
     "execution_count": 73,
     "metadata": {},
     "output_type": "execute_result"
    }
   ],
   "source": [
    "x"
   ]
  },
  {
   "cell_type": "code",
   "execution_count": 74,
   "id": "8c99ca6e",
   "metadata": {
    "execution": {
     "iopub.execute_input": "2023-07-25T10:42:29.315015Z",
     "iopub.status.busy": "2023-07-25T10:42:29.313905Z",
     "iopub.status.idle": "2023-07-25T10:42:29.319725Z",
     "shell.execute_reply": "2023-07-25T10:42:29.318484Z"
    },
    "papermill": {
     "duration": 0.053668,
     "end_time": "2023-07-25T10:42:29.322441",
     "exception": false,
     "start_time": "2023-07-25T10:42:29.268773",
     "status": "completed"
    },
    "tags": []
   },
   "outputs": [],
   "source": [
    "# slicing"
   ]
  },
  {
   "cell_type": "code",
   "execution_count": 75,
   "id": "b79af250",
   "metadata": {
    "execution": {
     "iopub.execute_input": "2023-07-25T10:42:29.412179Z",
     "iopub.status.busy": "2023-07-25T10:42:29.411716Z",
     "iopub.status.idle": "2023-07-25T10:42:29.419974Z",
     "shell.execute_reply": "2023-07-25T10:42:29.418682Z"
    },
    "papermill": {
     "duration": 0.056171,
     "end_time": "2023-07-25T10:42:29.422347",
     "exception": false,
     "start_time": "2023-07-25T10:42:29.366176",
     "status": "completed"
    },
    "tags": []
   },
   "outputs": [
    {
     "data": {
      "text/plain": [
       "array([ 1,  4,  5,  9,  2, 12])"
      ]
     },
     "execution_count": 75,
     "metadata": {},
     "output_type": "execute_result"
    }
   ],
   "source": [
    "x = np.array([1, 4, 5, 9, 2, 12])\n",
    "x"
   ]
  },
  {
   "cell_type": "code",
   "execution_count": 76,
   "id": "40f8e292",
   "metadata": {
    "execution": {
     "iopub.execute_input": "2023-07-25T10:42:29.515303Z",
     "iopub.status.busy": "2023-07-25T10:42:29.514888Z",
     "iopub.status.idle": "2023-07-25T10:42:29.521962Z",
     "shell.execute_reply": "2023-07-25T10:42:29.520783Z"
    },
    "papermill": {
     "duration": 0.056792,
     "end_time": "2023-07-25T10:42:29.524253",
     "exception": false,
     "start_time": "2023-07-25T10:42:29.467461",
     "status": "completed"
    },
    "tags": []
   },
   "outputs": [
    {
     "data": {
      "text/plain": [
       "array([1, 4, 5])"
      ]
     },
     "execution_count": 76,
     "metadata": {},
     "output_type": "execute_result"
    }
   ],
   "source": [
    "x[:3]"
   ]
  },
  {
   "cell_type": "code",
   "execution_count": 77,
   "id": "2ddb028c",
   "metadata": {
    "execution": {
     "iopub.execute_input": "2023-07-25T10:42:29.617012Z",
     "iopub.status.busy": "2023-07-25T10:42:29.616603Z",
     "iopub.status.idle": "2023-07-25T10:42:29.624479Z",
     "shell.execute_reply": "2023-07-25T10:42:29.623214Z"
    },
    "papermill": {
     "duration": 0.057217,
     "end_time": "2023-07-25T10:42:29.627234",
     "exception": false,
     "start_time": "2023-07-25T10:42:29.570017",
     "status": "completed"
    },
    "tags": []
   },
   "outputs": [
    {
     "data": {
      "text/plain": [
       "array([ 2, 12])"
      ]
     },
     "execution_count": 77,
     "metadata": {},
     "output_type": "execute_result"
    }
   ],
   "source": [
    "x[4:]"
   ]
  },
  {
   "cell_type": "code",
   "execution_count": 78,
   "id": "329e40b5",
   "metadata": {
    "execution": {
     "iopub.execute_input": "2023-07-25T10:42:29.718431Z",
     "iopub.status.busy": "2023-07-25T10:42:29.717967Z",
     "iopub.status.idle": "2023-07-25T10:42:29.725840Z",
     "shell.execute_reply": "2023-07-25T10:42:29.724583Z"
    },
    "papermill": {
     "duration": 0.056033,
     "end_time": "2023-07-25T10:42:29.728299",
     "exception": false,
     "start_time": "2023-07-25T10:42:29.672266",
     "status": "completed"
    },
    "tags": []
   },
   "outputs": [
    {
     "data": {
      "text/plain": [
       "array([1, 5, 2])"
      ]
     },
     "execution_count": 78,
     "metadata": {},
     "output_type": "execute_result"
    }
   ],
   "source": [
    "x[0::2]"
   ]
  },
  {
   "cell_type": "code",
   "execution_count": 79,
   "id": "c5a94205",
   "metadata": {
    "execution": {
     "iopub.execute_input": "2023-07-25T10:42:29.821357Z",
     "iopub.status.busy": "2023-07-25T10:42:29.820933Z",
     "iopub.status.idle": "2023-07-25T10:42:29.828747Z",
     "shell.execute_reply": "2023-07-25T10:42:29.827387Z"
    },
    "papermill": {
     "duration": 0.058455,
     "end_time": "2023-07-25T10:42:29.831276",
     "exception": false,
     "start_time": "2023-07-25T10:42:29.772821",
     "status": "completed"
    },
    "tags": []
   },
   "outputs": [
    {
     "data": {
      "text/plain": [
       "array([ 1,  4,  5,  9,  2, 12])"
      ]
     },
     "execution_count": 79,
     "metadata": {},
     "output_type": "execute_result"
    }
   ],
   "source": [
    "x[::]"
   ]
  },
  {
   "cell_type": "code",
   "execution_count": 80,
   "id": "9eba50de",
   "metadata": {
    "execution": {
     "iopub.execute_input": "2023-07-25T10:42:29.921589Z",
     "iopub.status.busy": "2023-07-25T10:42:29.921210Z",
     "iopub.status.idle": "2023-07-25T10:42:29.929252Z",
     "shell.execute_reply": "2023-07-25T10:42:29.928033Z"
    },
    "papermill": {
     "duration": 0.056054,
     "end_time": "2023-07-25T10:42:29.931543",
     "exception": false,
     "start_time": "2023-07-25T10:42:29.875489",
     "status": "completed"
    },
    "tags": []
   },
   "outputs": [
    {
     "data": {
      "text/plain": [
       "array([[4, 0, 0, 2, 0],\n",
       "       [2, 9, 4, 3, 9],\n",
       "       [1, 8, 4, 8, 6],\n",
       "       [2, 6, 9, 4, 8],\n",
       "       [8, 7, 5, 7, 5]])"
      ]
     },
     "execution_count": 80,
     "metadata": {},
     "output_type": "execute_result"
    }
   ],
   "source": [
    "x = np.random.randint(10, size = (5, 5))\n",
    "x"
   ]
  },
  {
   "cell_type": "code",
   "execution_count": 81,
   "id": "3aee837f",
   "metadata": {
    "execution": {
     "iopub.execute_input": "2023-07-25T10:42:30.029053Z",
     "iopub.status.busy": "2023-07-25T10:42:30.028565Z",
     "iopub.status.idle": "2023-07-25T10:42:30.035802Z",
     "shell.execute_reply": "2023-07-25T10:42:30.034827Z"
    },
    "papermill": {
     "duration": 0.06114,
     "end_time": "2023-07-25T10:42:30.038004",
     "exception": false,
     "start_time": "2023-07-25T10:42:29.976864",
     "status": "completed"
    },
    "tags": []
   },
   "outputs": [
    {
     "data": {
      "text/plain": [
       "array([4, 2, 1, 2, 8])"
      ]
     },
     "execution_count": 81,
     "metadata": {},
     "output_type": "execute_result"
    }
   ],
   "source": [
    "x[:, 0]"
   ]
  },
  {
   "cell_type": "code",
   "execution_count": 82,
   "id": "59b4cc34",
   "metadata": {
    "execution": {
     "iopub.execute_input": "2023-07-25T10:42:30.130539Z",
     "iopub.status.busy": "2023-07-25T10:42:30.130075Z",
     "iopub.status.idle": "2023-07-25T10:42:30.136955Z",
     "shell.execute_reply": "2023-07-25T10:42:30.136140Z"
    },
    "papermill": {
     "duration": 0.05593,
     "end_time": "2023-07-25T10:42:30.139170",
     "exception": false,
     "start_time": "2023-07-25T10:42:30.083240",
     "status": "completed"
    },
    "tags": []
   },
   "outputs": [
    {
     "data": {
      "text/plain": [
       "array([0, 9, 8, 6, 7])"
      ]
     },
     "execution_count": 82,
     "metadata": {},
     "output_type": "execute_result"
    }
   ],
   "source": [
    "x[:, 1]"
   ]
  },
  {
   "cell_type": "code",
   "execution_count": 83,
   "id": "58b69408",
   "metadata": {
    "execution": {
     "iopub.execute_input": "2023-07-25T10:42:30.231957Z",
     "iopub.status.busy": "2023-07-25T10:42:30.231480Z",
     "iopub.status.idle": "2023-07-25T10:42:30.238330Z",
     "shell.execute_reply": "2023-07-25T10:42:30.237433Z"
    },
    "papermill": {
     "duration": 0.055177,
     "end_time": "2023-07-25T10:42:30.240348",
     "exception": false,
     "start_time": "2023-07-25T10:42:30.185171",
     "status": "completed"
    },
    "tags": []
   },
   "outputs": [
    {
     "data": {
      "text/plain": [
       "array([4, 0, 0, 2, 0])"
      ]
     },
     "execution_count": 83,
     "metadata": {},
     "output_type": "execute_result"
    }
   ],
   "source": [
    "x[0, :]"
   ]
  },
  {
   "cell_type": "code",
   "execution_count": 84,
   "id": "0cc674cf",
   "metadata": {
    "execution": {
     "iopub.execute_input": "2023-07-25T10:42:30.333430Z",
     "iopub.status.busy": "2023-07-25T10:42:30.332578Z",
     "iopub.status.idle": "2023-07-25T10:42:30.339952Z",
     "shell.execute_reply": "2023-07-25T10:42:30.338620Z"
    },
    "papermill": {
     "duration": 0.057325,
     "end_time": "2023-07-25T10:42:30.342803",
     "exception": false,
     "start_time": "2023-07-25T10:42:30.285478",
     "status": "completed"
    },
    "tags": []
   },
   "outputs": [
    {
     "data": {
      "text/plain": [
       "array([4, 0, 0, 2, 0])"
      ]
     },
     "execution_count": 84,
     "metadata": {},
     "output_type": "execute_result"
    }
   ],
   "source": [
    "x[0]"
   ]
  },
  {
   "cell_type": "code",
   "execution_count": 85,
   "id": "b2bf6e95",
   "metadata": {
    "execution": {
     "iopub.execute_input": "2023-07-25T10:42:30.440341Z",
     "iopub.status.busy": "2023-07-25T10:42:30.439571Z",
     "iopub.status.idle": "2023-07-25T10:42:30.447223Z",
     "shell.execute_reply": "2023-07-25T10:42:30.446139Z"
    },
    "papermill": {
     "duration": 0.059507,
     "end_time": "2023-07-25T10:42:30.449469",
     "exception": false,
     "start_time": "2023-07-25T10:42:30.389962",
     "status": "completed"
    },
    "tags": []
   },
   "outputs": [
    {
     "data": {
      "text/plain": [
       "array([[4, 0],\n",
       "       [2, 9]])"
      ]
     },
     "execution_count": 85,
     "metadata": {},
     "output_type": "execute_result"
    }
   ],
   "source": [
    "x[0:2, 0:2]"
   ]
  },
  {
   "cell_type": "code",
   "execution_count": 86,
   "id": "dc8ad2cf",
   "metadata": {
    "execution": {
     "iopub.execute_input": "2023-07-25T10:42:30.546457Z",
     "iopub.status.busy": "2023-07-25T10:42:30.546035Z",
     "iopub.status.idle": "2023-07-25T10:42:30.553909Z",
     "shell.execute_reply": "2023-07-25T10:42:30.552705Z"
    },
    "papermill": {
     "duration": 0.059889,
     "end_time": "2023-07-25T10:42:30.556337",
     "exception": false,
     "start_time": "2023-07-25T10:42:30.496448",
     "status": "completed"
    },
    "tags": []
   },
   "outputs": [
    {
     "data": {
      "text/plain": [
       "array([[4, 0, 0, 2, 0],\n",
       "       [2, 9, 4, 3, 9],\n",
       "       [1, 8, 4, 8, 6],\n",
       "       [2, 6, 9, 4, 8]])"
      ]
     },
     "execution_count": 86,
     "metadata": {},
     "output_type": "execute_result"
    }
   ],
   "source": [
    "x[0:4, :]"
   ]
  },
  {
   "cell_type": "code",
   "execution_count": 87,
   "id": "fa518cef",
   "metadata": {
    "execution": {
     "iopub.execute_input": "2023-07-25T10:42:30.651720Z",
     "iopub.status.busy": "2023-07-25T10:42:30.651321Z",
     "iopub.status.idle": "2023-07-25T10:42:30.658916Z",
     "shell.execute_reply": "2023-07-25T10:42:30.657676Z"
    },
    "papermill": {
     "duration": 0.058596,
     "end_time": "2023-07-25T10:42:30.661833",
     "exception": false,
     "start_time": "2023-07-25T10:42:30.603237",
     "status": "completed"
    },
    "tags": []
   },
   "outputs": [
    {
     "data": {
      "text/plain": [
       "array([[0, 2, 0],\n",
       "       [4, 3, 9],\n",
       "       [4, 8, 6],\n",
       "       [9, 4, 8]])"
      ]
     },
     "execution_count": 87,
     "metadata": {},
     "output_type": "execute_result"
    }
   ],
   "source": [
    "x[0:4, 2:]"
   ]
  },
  {
   "cell_type": "code",
   "execution_count": 88,
   "id": "507d7c3b",
   "metadata": {
    "execution": {
     "iopub.execute_input": "2023-07-25T10:42:30.860524Z",
     "iopub.status.busy": "2023-07-25T10:42:30.860119Z",
     "iopub.status.idle": "2023-07-25T10:42:30.866176Z",
     "shell.execute_reply": "2023-07-25T10:42:30.865420Z"
    },
    "papermill": {
     "duration": 0.059675,
     "end_time": "2023-07-25T10:42:30.868250",
     "exception": false,
     "start_time": "2023-07-25T10:42:30.808575",
     "status": "completed"
    },
    "tags": []
   },
   "outputs": [
    {
     "data": {
      "text/plain": [
       "array([[4, 0, 0, 2, 0],\n",
       "       [2, 9, 4, 3, 9],\n",
       "       [1, 8, 4, 8, 6],\n",
       "       [2, 6, 9, 4, 8],\n",
       "       [8, 7, 5, 7, 5]])"
      ]
     },
     "execution_count": 88,
     "metadata": {},
     "output_type": "execute_result"
    }
   ],
   "source": [
    "x"
   ]
  },
  {
   "cell_type": "code",
   "execution_count": 89,
   "id": "2de6f77b",
   "metadata": {
    "execution": {
     "iopub.execute_input": "2023-07-25T10:42:30.967401Z",
     "iopub.status.busy": "2023-07-25T10:42:30.966996Z",
     "iopub.status.idle": "2023-07-25T10:42:30.973173Z",
     "shell.execute_reply": "2023-07-25T10:42:30.972320Z"
    },
    "papermill": {
     "duration": 0.058836,
     "end_time": "2023-07-25T10:42:30.975463",
     "exception": false,
     "start_time": "2023-07-25T10:42:30.916627",
     "status": "completed"
    },
    "tags": []
   },
   "outputs": [
    {
     "data": {
      "text/plain": [
       "array([[4, 0, 0],\n",
       "       [2, 9, 4]])"
      ]
     },
     "execution_count": 89,
     "metadata": {},
     "output_type": "execute_result"
    }
   ],
   "source": [
    "y = x[0:2, 0:3].copy()\n",
    "y"
   ]
  },
  {
   "cell_type": "code",
   "execution_count": 90,
   "id": "fa9f7bdb",
   "metadata": {
    "execution": {
     "iopub.execute_input": "2023-07-25T10:42:31.078766Z",
     "iopub.status.busy": "2023-07-25T10:42:31.078161Z",
     "iopub.status.idle": "2023-07-25T10:42:31.081977Z",
     "shell.execute_reply": "2023-07-25T10:42:31.081178Z"
    },
    "papermill": {
     "duration": 0.055468,
     "end_time": "2023-07-25T10:42:31.084111",
     "exception": false,
     "start_time": "2023-07-25T10:42:31.028643",
     "status": "completed"
    },
    "tags": []
   },
   "outputs": [],
   "source": [
    "# fancy"
   ]
  },
  {
   "cell_type": "code",
   "execution_count": 91,
   "id": "f6c5d1fa",
   "metadata": {
    "execution": {
     "iopub.execute_input": "2023-07-25T10:42:31.182024Z",
     "iopub.status.busy": "2023-07-25T10:42:31.181556Z",
     "iopub.status.idle": "2023-07-25T10:42:31.190909Z",
     "shell.execute_reply": "2023-07-25T10:42:31.189548Z"
    },
    "papermill": {
     "duration": 0.062116,
     "end_time": "2023-07-25T10:42:31.193577",
     "exception": false,
     "start_time": "2023-07-25T10:42:31.131461",
     "status": "completed"
    },
    "tags": []
   },
   "outputs": [
    {
     "data": {
      "text/plain": [
       "array([ 0,  4,  8, 12, 16, 20, 24, 28, 32, 36, 40])"
      ]
     },
     "execution_count": 91,
     "metadata": {},
     "output_type": "execute_result"
    }
   ],
   "source": [
    "import numpy as np\n",
    "x = np.arange(0,44, 4)\n",
    "x"
   ]
  },
  {
   "cell_type": "code",
   "execution_count": 92,
   "id": "b6588850",
   "metadata": {
    "execution": {
     "iopub.execute_input": "2023-07-25T10:42:31.292796Z",
     "iopub.status.busy": "2023-07-25T10:42:31.292354Z",
     "iopub.status.idle": "2023-07-25T10:42:31.300480Z",
     "shell.execute_reply": "2023-07-25T10:42:31.299150Z"
    },
    "papermill": {
     "duration": 0.06063,
     "end_time": "2023-07-25T10:42:31.303031",
     "exception": false,
     "start_time": "2023-07-25T10:42:31.242401",
     "status": "completed"
    },
    "tags": []
   },
   "outputs": [
    {
     "data": {
      "text/plain": [
       "16"
      ]
     },
     "execution_count": 92,
     "metadata": {},
     "output_type": "execute_result"
    }
   ],
   "source": [
    "x[4]"
   ]
  },
  {
   "cell_type": "code",
   "execution_count": 93,
   "id": "42b87610",
   "metadata": {
    "execution": {
     "iopub.execute_input": "2023-07-25T10:42:31.402224Z",
     "iopub.status.busy": "2023-07-25T10:42:31.400620Z",
     "iopub.status.idle": "2023-07-25T10:42:31.408522Z",
     "shell.execute_reply": "2023-07-25T10:42:31.407415Z"
    },
    "papermill": {
     "duration": 0.058489,
     "end_time": "2023-07-25T10:42:31.410807",
     "exception": false,
     "start_time": "2023-07-25T10:42:31.352318",
     "status": "completed"
    },
    "tags": []
   },
   "outputs": [
    {
     "data": {
      "text/plain": [
       "[8, 28]"
      ]
     },
     "execution_count": 93,
     "metadata": {},
     "output_type": "execute_result"
    }
   ],
   "source": [
    "[x[2], x[7]]"
   ]
  },
  {
   "cell_type": "code",
   "execution_count": 94,
   "id": "24f73167",
   "metadata": {
    "execution": {
     "iopub.execute_input": "2023-07-25T10:42:31.507954Z",
     "iopub.status.busy": "2023-07-25T10:42:31.507520Z",
     "iopub.status.idle": "2023-07-25T10:42:31.514415Z",
     "shell.execute_reply": "2023-07-25T10:42:31.513620Z"
    },
    "papermill": {
     "duration": 0.059648,
     "end_time": "2023-07-25T10:42:31.516967",
     "exception": false,
     "start_time": "2023-07-25T10:42:31.457319",
     "status": "completed"
    },
    "tags": []
   },
   "outputs": [
    {
     "data": {
      "text/plain": [
       "array([ 0,  4,  8, 12, 16, 20, 24, 28, 32, 36, 40])"
      ]
     },
     "execution_count": 94,
     "metadata": {},
     "output_type": "execute_result"
    }
   ],
   "source": [
    "take_it = [2, 6, 9]\n",
    "x\n"
   ]
  },
  {
   "cell_type": "code",
   "execution_count": 95,
   "id": "8c5b4dfc",
   "metadata": {
    "execution": {
     "iopub.execute_input": "2023-07-25T10:42:31.617825Z",
     "iopub.status.busy": "2023-07-25T10:42:31.617393Z",
     "iopub.status.idle": "2023-07-25T10:42:31.625118Z",
     "shell.execute_reply": "2023-07-25T10:42:31.624099Z"
    },
    "papermill": {
     "duration": 0.06125,
     "end_time": "2023-07-25T10:42:31.627648",
     "exception": false,
     "start_time": "2023-07-25T10:42:31.566398",
     "status": "completed"
    },
    "tags": []
   },
   "outputs": [
    {
     "data": {
      "text/plain": [
       "array([ 8, 24, 36])"
      ]
     },
     "execution_count": 95,
     "metadata": {},
     "output_type": "execute_result"
    }
   ],
   "source": [
    "x[take_it]"
   ]
  },
  {
   "cell_type": "code",
   "execution_count": 96,
   "id": "a8433b58",
   "metadata": {
    "execution": {
     "iopub.execute_input": "2023-07-25T10:42:31.727872Z",
     "iopub.status.busy": "2023-07-25T10:42:31.726874Z",
     "iopub.status.idle": "2023-07-25T10:42:31.734729Z",
     "shell.execute_reply": "2023-07-25T10:42:31.733397Z"
    },
    "papermill": {
     "duration": 0.06043,
     "end_time": "2023-07-25T10:42:31.737221",
     "exception": false,
     "start_time": "2023-07-25T10:42:31.676791",
     "status": "completed"
    },
    "tags": []
   },
   "outputs": [
    {
     "data": {
      "text/plain": [
       "array([[0, 1, 2],\n",
       "       [3, 4, 5],\n",
       "       [6, 7, 8]])"
      ]
     },
     "execution_count": 96,
     "metadata": {},
     "output_type": "execute_result"
    }
   ],
   "source": [
    "x = np.arange(0,9).reshape((3,3))\n",
    "x"
   ]
  },
  {
   "cell_type": "code",
   "execution_count": 97,
   "id": "3c31185c",
   "metadata": {
    "execution": {
     "iopub.execute_input": "2023-07-25T10:42:31.839953Z",
     "iopub.status.busy": "2023-07-25T10:42:31.839281Z",
     "iopub.status.idle": "2023-07-25T10:42:31.845309Z",
     "shell.execute_reply": "2023-07-25T10:42:31.843988Z"
    },
    "papermill": {
     "duration": 0.061731,
     "end_time": "2023-07-25T10:42:31.847663",
     "exception": false,
     "start_time": "2023-07-25T10:42:31.785932",
     "status": "completed"
    },
    "tags": []
   },
   "outputs": [],
   "source": [
    "row = np.array([0,1])\n",
    "col = np.array([1,2])\n"
   ]
  },
  {
   "cell_type": "code",
   "execution_count": 98,
   "id": "192f4e4c",
   "metadata": {
    "execution": {
     "iopub.execute_input": "2023-07-25T10:42:31.947965Z",
     "iopub.status.busy": "2023-07-25T10:42:31.947555Z",
     "iopub.status.idle": "2023-07-25T10:42:31.954880Z",
     "shell.execute_reply": "2023-07-25T10:42:31.953640Z"
    },
    "papermill": {
     "duration": 0.060081,
     "end_time": "2023-07-25T10:42:31.957350",
     "exception": false,
     "start_time": "2023-07-25T10:42:31.897269",
     "status": "completed"
    },
    "tags": []
   },
   "outputs": [
    {
     "data": {
      "text/plain": [
       "array([1, 5])"
      ]
     },
     "execution_count": 98,
     "metadata": {},
     "output_type": "execute_result"
    }
   ],
   "source": [
    "x[row, col]"
   ]
  },
  {
   "cell_type": "code",
   "execution_count": 99,
   "id": "dceaf428",
   "metadata": {
    "execution": {
     "iopub.execute_input": "2023-07-25T10:42:32.059596Z",
     "iopub.status.busy": "2023-07-25T10:42:32.059190Z",
     "iopub.status.idle": "2023-07-25T10:42:32.065658Z",
     "shell.execute_reply": "2023-07-25T10:42:32.064822Z"
    },
    "papermill": {
     "duration": 0.061286,
     "end_time": "2023-07-25T10:42:32.067863",
     "exception": false,
     "start_time": "2023-07-25T10:42:32.006577",
     "status": "completed"
    },
    "tags": []
   },
   "outputs": [
    {
     "data": {
      "text/plain": [
       "array([[1, 2]])"
      ]
     },
     "execution_count": 99,
     "metadata": {},
     "output_type": "execute_result"
    }
   ],
   "source": [
    "x[0, [col]]"
   ]
  },
  {
   "cell_type": "code",
   "execution_count": 100,
   "id": "0e2fb01c",
   "metadata": {
    "execution": {
     "iopub.execute_input": "2023-07-25T10:42:32.168488Z",
     "iopub.status.busy": "2023-07-25T10:42:32.168102Z",
     "iopub.status.idle": "2023-07-25T10:42:32.173386Z",
     "shell.execute_reply": "2023-07-25T10:42:32.172154Z"
    },
    "papermill": {
     "duration": 0.058532,
     "end_time": "2023-07-25T10:42:32.176014",
     "exception": false,
     "start_time": "2023-07-25T10:42:32.117482",
     "status": "completed"
    },
    "tags": []
   },
   "outputs": [],
   "source": [
    "# condition"
   ]
  },
  {
   "cell_type": "code",
   "execution_count": 101,
   "id": "24551974",
   "metadata": {
    "execution": {
     "iopub.execute_input": "2023-07-25T10:42:32.278907Z",
     "iopub.status.busy": "2023-07-25T10:42:32.278533Z",
     "iopub.status.idle": "2023-07-25T10:42:32.285157Z",
     "shell.execute_reply": "2023-07-25T10:42:32.284346Z"
    },
    "papermill": {
     "duration": 0.060385,
     "end_time": "2023-07-25T10:42:32.287206",
     "exception": false,
     "start_time": "2023-07-25T10:42:32.226821",
     "status": "completed"
    },
    "tags": []
   },
   "outputs": [
    {
     "data": {
      "text/plain": [
       "array([ 29, -34,  45, 234,  -9,   0])"
      ]
     },
     "execution_count": 101,
     "metadata": {},
     "output_type": "execute_result"
    }
   ],
   "source": [
    "x = np.array([29, -34, 45, 234, -9, 0])\n",
    "x"
   ]
  },
  {
   "cell_type": "code",
   "execution_count": 102,
   "id": "7ec26cf7",
   "metadata": {
    "execution": {
     "iopub.execute_input": "2023-07-25T10:42:32.388932Z",
     "iopub.status.busy": "2023-07-25T10:42:32.388517Z",
     "iopub.status.idle": "2023-07-25T10:42:32.395728Z",
     "shell.execute_reply": "2023-07-25T10:42:32.394528Z"
    },
    "papermill": {
     "duration": 0.060791,
     "end_time": "2023-07-25T10:42:32.398507",
     "exception": false,
     "start_time": "2023-07-25T10:42:32.337716",
     "status": "completed"
    },
    "tags": []
   },
   "outputs": [
    {
     "data": {
      "text/plain": [
       "array([ True, False,  True,  True, False, False])"
      ]
     },
     "execution_count": 102,
     "metadata": {},
     "output_type": "execute_result"
    }
   ],
   "source": [
    "x > 28"
   ]
  },
  {
   "cell_type": "code",
   "execution_count": 103,
   "id": "dad08223",
   "metadata": {
    "execution": {
     "iopub.execute_input": "2023-07-25T10:42:32.503396Z",
     "iopub.status.busy": "2023-07-25T10:42:32.502954Z",
     "iopub.status.idle": "2023-07-25T10:42:32.510191Z",
     "shell.execute_reply": "2023-07-25T10:42:32.509094Z"
    },
    "papermill": {
     "duration": 0.064135,
     "end_time": "2023-07-25T10:42:32.512414",
     "exception": false,
     "start_time": "2023-07-25T10:42:32.448279",
     "status": "completed"
    },
    "tags": []
   },
   "outputs": [
    {
     "data": {
      "text/plain": [
       "array([ True, False,  True,  True, False,  True])"
      ]
     },
     "execution_count": 103,
     "metadata": {},
     "output_type": "execute_result"
    }
   ],
   "source": [
    "x >= 0"
   ]
  },
  {
   "cell_type": "code",
   "execution_count": 104,
   "id": "acfe4961",
   "metadata": {
    "execution": {
     "iopub.execute_input": "2023-07-25T10:42:32.614447Z",
     "iopub.status.busy": "2023-07-25T10:42:32.614028Z",
     "iopub.status.idle": "2023-07-25T10:42:32.618250Z",
     "shell.execute_reply": "2023-07-25T10:42:32.617148Z"
    },
    "papermill": {
     "duration": 0.057198,
     "end_time": "2023-07-25T10:42:32.620394",
     "exception": false,
     "start_time": "2023-07-25T10:42:32.563196",
     "status": "completed"
    },
    "tags": []
   },
   "outputs": [],
   "source": [
    "# maths"
   ]
  },
  {
   "cell_type": "code",
   "execution_count": 105,
   "id": "0c2f05bd",
   "metadata": {
    "execution": {
     "iopub.execute_input": "2023-07-25T10:42:32.721692Z",
     "iopub.status.busy": "2023-07-25T10:42:32.720954Z",
     "iopub.status.idle": "2023-07-25T10:42:32.728138Z",
     "shell.execute_reply": "2023-07-25T10:42:32.726786Z"
    },
    "papermill": {
     "duration": 0.061013,
     "end_time": "2023-07-25T10:42:32.730597",
     "exception": false,
     "start_time": "2023-07-25T10:42:32.669584",
     "status": "completed"
    },
    "tags": []
   },
   "outputs": [
    {
     "data": {
      "text/plain": [
       "array([  841,  1156,  2025, 54756,    81,     0])"
      ]
     },
     "execution_count": 105,
     "metadata": {},
     "output_type": "execute_result"
    }
   ],
   "source": [
    " x ** 2"
   ]
  },
  {
   "cell_type": "code",
   "execution_count": 106,
   "id": "b50705f1",
   "metadata": {
    "execution": {
     "iopub.execute_input": "2023-07-25T10:42:32.834440Z",
     "iopub.status.busy": "2023-07-25T10:42:32.834005Z",
     "iopub.status.idle": "2023-07-25T10:42:32.840430Z",
     "shell.execute_reply": "2023-07-25T10:42:32.839617Z"
    },
    "papermill": {
     "duration": 0.061839,
     "end_time": "2023-07-25T10:42:32.842605",
     "exception": false,
     "start_time": "2023-07-25T10:42:32.780766",
     "status": "completed"
    },
    "tags": []
   },
   "outputs": [
    {
     "data": {
      "text/plain": [
       "array([ 45, -18,  61, 250,   7,  16])"
      ]
     },
     "execution_count": 106,
     "metadata": {},
     "output_type": "execute_result"
    }
   ],
   "source": [
    "x + 16"
   ]
  },
  {
   "cell_type": "code",
   "execution_count": 107,
   "id": "c080d0bc",
   "metadata": {
    "execution": {
     "iopub.execute_input": "2023-07-25T10:42:32.945307Z",
     "iopub.status.busy": "2023-07-25T10:42:32.944176Z",
     "iopub.status.idle": "2023-07-25T10:42:32.950620Z",
     "shell.execute_reply": "2023-07-25T10:42:32.949780Z"
    },
    "papermill": {
     "duration": 0.059706,
     "end_time": "2023-07-25T10:42:32.952834",
     "exception": false,
     "start_time": "2023-07-25T10:42:32.893128",
     "status": "completed"
    },
    "tags": []
   },
   "outputs": [
    {
     "data": {
      "text/plain": [
       "array([ 14, -17,  22, 117,  -5,   0])"
      ]
     },
     "execution_count": 107,
     "metadata": {},
     "output_type": "execute_result"
    }
   ],
   "source": [
    "x // 2"
   ]
  },
  {
   "cell_type": "code",
   "execution_count": 108,
   "id": "68a79d13",
   "metadata": {
    "execution": {
     "iopub.execute_input": "2023-07-25T10:42:33.058816Z",
     "iopub.status.busy": "2023-07-25T10:42:33.057740Z",
     "iopub.status.idle": "2023-07-25T10:42:33.064801Z",
     "shell.execute_reply": "2023-07-25T10:42:33.063659Z"
    },
    "papermill": {
     "duration": 0.064154,
     "end_time": "2023-07-25T10:42:33.067039",
     "exception": false,
     "start_time": "2023-07-25T10:42:33.002885",
     "status": "completed"
    },
    "tags": []
   },
   "outputs": [
    {
     "data": {
      "text/plain": [
       "array([ -71, -134,  -55,  134, -109, -100])"
      ]
     },
     "execution_count": 108,
     "metadata": {},
     "output_type": "execute_result"
    }
   ],
   "source": [
    "x - 100"
   ]
  },
  {
   "cell_type": "code",
   "execution_count": 109,
   "id": "de911644",
   "metadata": {
    "execution": {
     "iopub.execute_input": "2023-07-25T10:42:33.169010Z",
     "iopub.status.busy": "2023-07-25T10:42:33.168594Z",
     "iopub.status.idle": "2023-07-25T10:42:33.175240Z",
     "shell.execute_reply": "2023-07-25T10:42:33.174402Z"
    },
    "papermill": {
     "duration": 0.060656,
     "end_time": "2023-07-25T10:42:33.177599",
     "exception": false,
     "start_time": "2023-07-25T10:42:33.116943",
     "status": "completed"
    },
    "tags": []
   },
   "outputs": [
    {
     "data": {
      "text/plain": [
       "array([ 29, -34,  45, 234,  -9,   0])"
      ]
     },
     "execution_count": 109,
     "metadata": {},
     "output_type": "execute_result"
    }
   ],
   "source": [
    "x\n"
   ]
  },
  {
   "cell_type": "code",
   "execution_count": 110,
   "id": "f9eb1223",
   "metadata": {
    "execution": {
     "iopub.execute_input": "2023-07-25T10:42:33.280896Z",
     "iopub.status.busy": "2023-07-25T10:42:33.280492Z",
     "iopub.status.idle": "2023-07-25T10:42:33.286944Z",
     "shell.execute_reply": "2023-07-25T10:42:33.286118Z"
    },
    "papermill": {
     "duration": 0.060562,
     "end_time": "2023-07-25T10:42:33.289203",
     "exception": false,
     "start_time": "2023-07-25T10:42:33.228641",
     "status": "completed"
    },
    "tags": []
   },
   "outputs": [
    {
     "data": {
      "text/plain": [
       "array([ 27, -36,  43, 232, -11,  -2])"
      ]
     },
     "execution_count": 110,
     "metadata": {},
     "output_type": "execute_result"
    }
   ],
   "source": [
    "np.subtract(x, 2)"
   ]
  },
  {
   "cell_type": "code",
   "execution_count": 111,
   "id": "5e741bab",
   "metadata": {
    "execution": {
     "iopub.execute_input": "2023-07-25T10:42:33.392511Z",
     "iopub.status.busy": "2023-07-25T10:42:33.392084Z",
     "iopub.status.idle": "2023-07-25T10:42:33.398797Z",
     "shell.execute_reply": "2023-07-25T10:42:33.397616Z"
    },
    "papermill": {
     "duration": 0.061721,
     "end_time": "2023-07-25T10:42:33.400944",
     "exception": false,
     "start_time": "2023-07-25T10:42:33.339223",
     "status": "completed"
    },
    "tags": []
   },
   "outputs": [
    {
     "data": {
      "text/plain": [
       "array([129,  66, 145, 334,  91, 100])"
      ]
     },
     "execution_count": 111,
     "metadata": {},
     "output_type": "execute_result"
    }
   ],
   "source": [
    "np.add(x, 100)"
   ]
  },
  {
   "cell_type": "code",
   "execution_count": 112,
   "id": "d6c44af7",
   "metadata": {
    "execution": {
     "iopub.execute_input": "2023-07-25T10:42:33.504625Z",
     "iopub.status.busy": "2023-07-25T10:42:33.503860Z",
     "iopub.status.idle": "2023-07-25T10:42:33.510559Z",
     "shell.execute_reply": "2023-07-25T10:42:33.509377Z"
    },
    "papermill": {
     "duration": 0.061811,
     "end_time": "2023-07-25T10:42:33.513561",
     "exception": false,
     "start_time": "2023-07-25T10:42:33.451750",
     "status": "completed"
    },
    "tags": []
   },
   "outputs": [
    {
     "data": {
      "text/plain": [
       "array([ 290, -340,  450, 2340,  -90,    0])"
      ]
     },
     "execution_count": 112,
     "metadata": {},
     "output_type": "execute_result"
    }
   ],
   "source": [
    "np.multiply(x , 10)"
   ]
  },
  {
   "cell_type": "code",
   "execution_count": 113,
   "id": "58f2708c",
   "metadata": {
    "execution": {
     "iopub.execute_input": "2023-07-25T10:42:33.615725Z",
     "iopub.status.busy": "2023-07-25T10:42:33.615345Z",
     "iopub.status.idle": "2023-07-25T10:42:33.622690Z",
     "shell.execute_reply": "2023-07-25T10:42:33.621493Z"
    },
    "papermill": {
     "duration": 0.061665,
     "end_time": "2023-07-25T10:42:33.625272",
     "exception": false,
     "start_time": "2023-07-25T10:42:33.563607",
     "status": "completed"
    },
    "tags": []
   },
   "outputs": [
    {
     "data": {
      "text/plain": [
       "array([ 14.5, -17. ,  22.5, 117. ,  -4.5,   0. ])"
      ]
     },
     "execution_count": 113,
     "metadata": {},
     "output_type": "execute_result"
    }
   ],
   "source": [
    "np.divide(x, 2)"
   ]
  },
  {
   "cell_type": "code",
   "execution_count": 114,
   "id": "6549c8bd",
   "metadata": {
    "execution": {
     "iopub.execute_input": "2023-07-25T10:42:33.727024Z",
     "iopub.status.busy": "2023-07-25T10:42:33.726610Z",
     "iopub.status.idle": "2023-07-25T10:42:33.734578Z",
     "shell.execute_reply": "2023-07-25T10:42:33.733339Z"
    },
    "papermill": {
     "duration": 0.062187,
     "end_time": "2023-07-25T10:42:33.736812",
     "exception": false,
     "start_time": "2023-07-25T10:42:33.674625",
     "status": "completed"
    },
    "tags": []
   },
   "outputs": [
    {
     "data": {
      "text/plain": [
       "array([  841,  1156,  2025, 54756,    81,     0])"
      ]
     },
     "execution_count": 114,
     "metadata": {},
     "output_type": "execute_result"
    }
   ],
   "source": [
    "np.power(x, 2)"
   ]
  },
  {
   "cell_type": "code",
   "execution_count": 115,
   "id": "59f79673",
   "metadata": {
    "execution": {
     "iopub.execute_input": "2023-07-25T10:42:33.840103Z",
     "iopub.status.busy": "2023-07-25T10:42:33.839605Z",
     "iopub.status.idle": "2023-07-25T10:42:33.848090Z",
     "shell.execute_reply": "2023-07-25T10:42:33.846657Z"
    },
    "papermill": {
     "duration": 0.064596,
     "end_time": "2023-07-25T10:42:33.851281",
     "exception": false,
     "start_time": "2023-07-25T10:42:33.786685",
     "status": "completed"
    },
    "tags": []
   },
   "outputs": [
    {
     "data": {
      "text/plain": [
       "array([ 29, -34,  45, 234,  -9,   0])"
      ]
     },
     "execution_count": 115,
     "metadata": {},
     "output_type": "execute_result"
    }
   ],
   "source": [
    "x"
   ]
  },
  {
   "cell_type": "code",
   "execution_count": 116,
   "id": "4dd850a6",
   "metadata": {
    "execution": {
     "iopub.execute_input": "2023-07-25T10:42:33.956867Z",
     "iopub.status.busy": "2023-07-25T10:42:33.956408Z",
     "iopub.status.idle": "2023-07-25T10:42:33.964745Z",
     "shell.execute_reply": "2023-07-25T10:42:33.963472Z"
    },
    "papermill": {
     "duration": 0.063674,
     "end_time": "2023-07-25T10:42:33.967114",
     "exception": false,
     "start_time": "2023-07-25T10:42:33.903440",
     "status": "completed"
    },
    "tags": []
   },
   "outputs": [
    {
     "data": {
      "text/plain": [
       "array([1, 0, 1, 0, 1, 0])"
      ]
     },
     "execution_count": 116,
     "metadata": {},
     "output_type": "execute_result"
    }
   ],
   "source": [
    "x % 2 "
   ]
  },
  {
   "cell_type": "code",
   "execution_count": 117,
   "id": "b3c1ef98",
   "metadata": {
    "execution": {
     "iopub.execute_input": "2023-07-25T10:42:34.080356Z",
     "iopub.status.busy": "2023-07-25T10:42:34.079706Z",
     "iopub.status.idle": "2023-07-25T10:42:34.088716Z",
     "shell.execute_reply": "2023-07-25T10:42:34.087599Z"
    },
    "papermill": {
     "duration": 0.065152,
     "end_time": "2023-07-25T10:42:34.091127",
     "exception": false,
     "start_time": "2023-07-25T10:42:34.025975",
     "status": "completed"
    },
    "tags": []
   },
   "outputs": [
    {
     "data": {
      "text/plain": [
       "array([1, 0, 1, 0, 1, 0])"
      ]
     },
     "execution_count": 117,
     "metadata": {},
     "output_type": "execute_result"
    }
   ],
   "source": [
    "np.mod(x, 2)"
   ]
  },
  {
   "cell_type": "code",
   "execution_count": 118,
   "id": "e224353d",
   "metadata": {
    "execution": {
     "iopub.execute_input": "2023-07-25T10:42:34.195462Z",
     "iopub.status.busy": "2023-07-25T10:42:34.194987Z",
     "iopub.status.idle": "2023-07-25T10:42:34.204209Z",
     "shell.execute_reply": "2023-07-25T10:42:34.202780Z"
    },
    "papermill": {
     "duration": 0.065427,
     "end_time": "2023-07-25T10:42:34.206621",
     "exception": false,
     "start_time": "2023-07-25T10:42:34.141194",
     "status": "completed"
    },
    "tags": []
   },
   "outputs": [
    {
     "data": {
      "text/plain": [
       "array([9])"
      ]
     },
     "execution_count": 118,
     "metadata": {},
     "output_type": "execute_result"
    }
   ],
   "source": [
    "np.absolute(np.array([-9]))"
   ]
  },
  {
   "cell_type": "code",
   "execution_count": 119,
   "id": "a2d851ff",
   "metadata": {
    "execution": {
     "iopub.execute_input": "2023-07-25T10:42:34.309709Z",
     "iopub.status.busy": "2023-07-25T10:42:34.309244Z",
     "iopub.status.idle": "2023-07-25T10:42:34.318774Z",
     "shell.execute_reply": "2023-07-25T10:42:34.317437Z"
    },
    "papermill": {
     "duration": 0.06392,
     "end_time": "2023-07-25T10:42:34.320950",
     "exception": false,
     "start_time": "2023-07-25T10:42:34.257030",
     "status": "completed"
    },
    "tags": []
   },
   "outputs": [
    {
     "data": {
      "text/plain": [
       "-0.8011526357338304"
      ]
     },
     "execution_count": 119,
     "metadata": {},
     "output_type": "execute_result"
    }
   ],
   "source": [
    "np.sin(180)"
   ]
  },
  {
   "cell_type": "code",
   "execution_count": 120,
   "id": "b14087b1",
   "metadata": {
    "execution": {
     "iopub.execute_input": "2023-07-25T10:42:34.424532Z",
     "iopub.status.busy": "2023-07-25T10:42:34.422938Z",
     "iopub.status.idle": "2023-07-25T10:42:34.430966Z",
     "shell.execute_reply": "2023-07-25T10:42:34.429853Z"
    },
    "papermill": {
     "duration": 0.062218,
     "end_time": "2023-07-25T10:42:34.433114",
     "exception": false,
     "start_time": "2023-07-25T10:42:34.370896",
     "status": "completed"
    },
    "tags": []
   },
   "outputs": [
    {
     "data": {
      "text/plain": [
       "1.0"
      ]
     },
     "execution_count": 120,
     "metadata": {},
     "output_type": "execute_result"
    }
   ],
   "source": [
    "np.log10(10)"
   ]
  },
  {
   "cell_type": "code",
   "execution_count": null,
   "id": "8b489a92",
   "metadata": {
    "papermill": {
     "duration": 0.051213,
     "end_time": "2023-07-25T10:42:34.535011",
     "exception": false,
     "start_time": "2023-07-25T10:42:34.483798",
     "status": "completed"
    },
    "tags": []
   },
   "outputs": [],
   "source": [
    "\n"
   ]
  }
 ],
 "metadata": {
  "kernelspec": {
   "display_name": "Python 3",
   "language": "python",
   "name": "python3"
  },
  "language_info": {
   "codemirror_mode": {
    "name": "ipython",
    "version": 3
   },
   "file_extension": ".py",
   "mimetype": "text/x-python",
   "name": "python",
   "nbconvert_exporter": "python",
   "pygments_lexer": "ipython3",
   "version": "3.10.12"
  },
  "papermill": {
   "default_parameters": {},
   "duration": 26.400353,
   "end_time": "2023-07-25T10:42:35.512629",
   "environment_variables": {},
   "exception": null,
   "input_path": "__notebook__.ipynb",
   "output_path": "__notebook__.ipynb",
   "parameters": {},
   "start_time": "2023-07-25T10:42:09.112276",
   "version": "2.4.0"
  }
 },
 "nbformat": 4,
 "nbformat_minor": 5
}
