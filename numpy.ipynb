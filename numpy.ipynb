{
 "cells": [
  {
   "cell_type": "markdown",
   "id": "82dc600d",
   "metadata": {
    "papermill": {
     "duration": 0.007106,
     "end_time": "2023-07-24T21:46:03.135609",
     "exception": false,
     "start_time": "2023-07-24T21:46:03.128503",
     "status": "completed"
    },
    "tags": []
   },
   "source": [
    "# Numpy"
   ]
  },
  {
   "cell_type": "code",
   "execution_count": 1,
   "id": "482df1ae",
   "metadata": {
    "execution": {
     "iopub.execute_input": "2023-07-24T21:46:03.151774Z",
     "iopub.status.busy": "2023-07-24T21:46:03.150472Z",
     "iopub.status.idle": "2023-07-24T21:46:03.166540Z",
     "shell.execute_reply": "2023-07-24T21:46:03.165393Z"
    },
    "papermill": {
     "duration": 0.026611,
     "end_time": "2023-07-24T21:46:03.168906",
     "exception": false,
     "start_time": "2023-07-24T21:46:03.142295",
     "status": "completed"
    },
    "tags": []
   },
   "outputs": [
    {
     "data": {
      "text/plain": [
       "[1, 3, 5]"
      ]
     },
     "execution_count": 1,
     "metadata": {},
     "output_type": "execute_result"
    }
   ],
   "source": [
    "x = [1, 3, 5]\n",
    "y = [7, 4, 0]\n",
    "x"
   ]
  },
  {
   "cell_type": "code",
   "execution_count": 2,
   "id": "e6b05e6b",
   "metadata": {
    "execution": {
     "iopub.execute_input": "2023-07-24T21:46:03.185318Z",
     "iopub.status.busy": "2023-07-24T21:46:03.184172Z",
     "iopub.status.idle": "2023-07-24T21:46:03.191256Z",
     "shell.execute_reply": "2023-07-24T21:46:03.190084Z"
    },
    "papermill": {
     "duration": 0.017894,
     "end_time": "2023-07-24T21:46:03.193638",
     "exception": false,
     "start_time": "2023-07-24T21:46:03.175744",
     "status": "completed"
    },
    "tags": []
   },
   "outputs": [
    {
     "data": {
      "text/plain": [
       "[7, 4, 0]"
      ]
     },
     "execution_count": 2,
     "metadata": {},
     "output_type": "execute_result"
    }
   ],
   "source": [
    "y"
   ]
  },
  {
   "cell_type": "code",
   "execution_count": 3,
   "id": "c7e77cfd",
   "metadata": {
    "execution": {
     "iopub.execute_input": "2023-07-24T21:46:03.211042Z",
     "iopub.status.busy": "2023-07-24T21:46:03.210646Z",
     "iopub.status.idle": "2023-07-24T21:46:03.215712Z",
     "shell.execute_reply": "2023-07-24T21:46:03.214424Z"
    },
    "papermill": {
     "duration": 0.017907,
     "end_time": "2023-07-24T21:46:03.218663",
     "exception": false,
     "start_time": "2023-07-24T21:46:03.200756",
     "status": "completed"
    },
    "tags": []
   },
   "outputs": [],
   "source": [
    "import numpy as np"
   ]
  },
  {
   "cell_type": "code",
   "execution_count": 4,
   "id": "c4ac0be8",
   "metadata": {
    "execution": {
     "iopub.execute_input": "2023-07-24T21:46:03.235970Z",
     "iopub.status.busy": "2023-07-24T21:46:03.235112Z",
     "iopub.status.idle": "2023-07-24T21:46:03.239836Z",
     "shell.execute_reply": "2023-07-24T21:46:03.238782Z"
    },
    "papermill": {
     "duration": 0.015538,
     "end_time": "2023-07-24T21:46:03.241980",
     "exception": false,
     "start_time": "2023-07-24T21:46:03.226442",
     "status": "completed"
    },
    "tags": []
   },
   "outputs": [],
   "source": [
    "# x = [1, 3, 5]\n",
    "# y = [7, 4, 0]\n",
    "\n",
    "x = np.array(x)\n",
    "y = np.array(y)\n"
   ]
  },
  {
   "cell_type": "code",
   "execution_count": 5,
   "id": "e9b2c46a",
   "metadata": {
    "execution": {
     "iopub.execute_input": "2023-07-24T21:46:03.258771Z",
     "iopub.status.busy": "2023-07-24T21:46:03.258339Z",
     "iopub.status.idle": "2023-07-24T21:46:03.269740Z",
     "shell.execute_reply": "2023-07-24T21:46:03.268141Z"
    },
    "papermill": {
     "duration": 0.023067,
     "end_time": "2023-07-24T21:46:03.271968",
     "exception": false,
     "start_time": "2023-07-24T21:46:03.248901",
     "status": "completed"
    },
    "tags": []
   },
   "outputs": [
    {
     "data": {
      "text/plain": [
       "array([ 7, 12,  0])"
      ]
     },
     "execution_count": 5,
     "metadata": {},
     "output_type": "execute_result"
    }
   ],
   "source": [
    " x * y"
   ]
  },
  {
   "cell_type": "code",
   "execution_count": 6,
   "id": "81091115",
   "metadata": {
    "execution": {
     "iopub.execute_input": "2023-07-24T21:46:03.289591Z",
     "iopub.status.busy": "2023-07-24T21:46:03.288832Z",
     "iopub.status.idle": "2023-07-24T21:46:03.294676Z",
     "shell.execute_reply": "2023-07-24T21:46:03.293801Z"
    },
    "papermill": {
     "duration": 0.017255,
     "end_time": "2023-07-24T21:46:03.296791",
     "exception": false,
     "start_time": "2023-07-24T21:46:03.279536",
     "status": "completed"
    },
    "tags": []
   },
   "outputs": [
    {
     "data": {
      "text/plain": [
       "array([-5,  2, 10])"
      ]
     },
     "execution_count": 6,
     "metadata": {},
     "output_type": "execute_result"
    }
   ],
   "source": [
    "2 * x - y"
   ]
  },
  {
   "cell_type": "code",
   "execution_count": 7,
   "id": "be419233",
   "metadata": {
    "execution": {
     "iopub.execute_input": "2023-07-24T21:46:03.313525Z",
     "iopub.status.busy": "2023-07-24T21:46:03.312884Z",
     "iopub.status.idle": "2023-07-24T21:46:03.318888Z",
     "shell.execute_reply": "2023-07-24T21:46:03.318025Z"
    },
    "papermill": {
     "duration": 0.016975,
     "end_time": "2023-07-24T21:46:03.321029",
     "exception": false,
     "start_time": "2023-07-24T21:46:03.304054",
     "status": "completed"
    },
    "tags": []
   },
   "outputs": [
    {
     "data": {
      "text/plain": [
       "array([100,  80,  40])"
      ]
     },
     "execution_count": 7,
     "metadata": {},
     "output_type": "execute_result"
    }
   ],
   "source": [
    "np.array([100, 80, 40])"
   ]
  },
  {
   "cell_type": "code",
   "execution_count": 8,
   "id": "b56c2308",
   "metadata": {
    "execution": {
     "iopub.execute_input": "2023-07-24T21:46:03.338331Z",
     "iopub.status.busy": "2023-07-24T21:46:03.337458Z",
     "iopub.status.idle": "2023-07-24T21:46:03.343565Z",
     "shell.execute_reply": "2023-07-24T21:46:03.342767Z"
    },
    "papermill": {
     "duration": 0.017671,
     "end_time": "2023-07-24T21:46:03.346121",
     "exception": false,
     "start_time": "2023-07-24T21:46:03.328450",
     "status": "completed"
    },
    "tags": []
   },
   "outputs": [
    {
     "data": {
      "text/plain": [
       "numpy.ndarray"
      ]
     },
     "execution_count": 8,
     "metadata": {},
     "output_type": "execute_result"
    }
   ],
   "source": [
    "k = np.array([34, 23, 89])\n",
    "type(k)"
   ]
  },
  {
   "cell_type": "code",
   "execution_count": 9,
   "id": "73b368c2",
   "metadata": {
    "execution": {
     "iopub.execute_input": "2023-07-24T21:46:03.362560Z",
     "iopub.status.busy": "2023-07-24T21:46:03.362147Z",
     "iopub.status.idle": "2023-07-24T21:46:03.369100Z",
     "shell.execute_reply": "2023-07-24T21:46:03.367908Z"
    },
    "papermill": {
     "duration": 0.017614,
     "end_time": "2023-07-24T21:46:03.371268",
     "exception": false,
     "start_time": "2023-07-24T21:46:03.353654",
     "status": "completed"
    },
    "tags": []
   },
   "outputs": [
    {
     "data": {
      "text/plain": [
       "array([ 2,  5,  6, 10])"
      ]
     },
     "execution_count": 9,
     "metadata": {},
     "output_type": "execute_result"
    }
   ],
   "source": [
    "np.array([2.3, 5, 6.9, 10], dtype = \"int\")"
   ]
  },
  {
   "cell_type": "code",
   "execution_count": 10,
   "id": "d0d9d0b6",
   "metadata": {
    "execution": {
     "iopub.execute_input": "2023-07-24T21:46:03.388405Z",
     "iopub.status.busy": "2023-07-24T21:46:03.387998Z",
     "iopub.status.idle": "2023-07-24T21:46:03.395661Z",
     "shell.execute_reply": "2023-07-24T21:46:03.394484Z"
    },
    "papermill": {
     "duration": 0.018965,
     "end_time": "2023-07-24T21:46:03.398024",
     "exception": false,
     "start_time": "2023-07-24T21:46:03.379059",
     "status": "completed"
    },
    "tags": []
   },
   "outputs": [
    {
     "data": {
      "text/plain": [
       "array([0., 0., 0., 0., 0., 0., 0., 0., 0., 0.])"
      ]
     },
     "execution_count": 10,
     "metadata": {},
     "output_type": "execute_result"
    }
   ],
   "source": [
    "np.zeros(10)"
   ]
  },
  {
   "cell_type": "code",
   "execution_count": 11,
   "id": "0fedccb7",
   "metadata": {
    "execution": {
     "iopub.execute_input": "2023-07-24T21:46:03.417234Z",
     "iopub.status.busy": "2023-07-24T21:46:03.416384Z",
     "iopub.status.idle": "2023-07-24T21:46:03.423416Z",
     "shell.execute_reply": "2023-07-24T21:46:03.422244Z"
    },
    "papermill": {
     "duration": 0.019826,
     "end_time": "2023-07-24T21:46:03.426023",
     "exception": false,
     "start_time": "2023-07-24T21:46:03.406197",
     "status": "completed"
    },
    "tags": []
   },
   "outputs": [
    {
     "data": {
      "text/plain": [
       "array([0, 0, 0, 0, 0, 0, 0, 0, 0, 0])"
      ]
     },
     "execution_count": 11,
     "metadata": {},
     "output_type": "execute_result"
    }
   ],
   "source": [
    "np.zeros(10, dtype = \"int\")"
   ]
  },
  {
   "cell_type": "code",
   "execution_count": 12,
   "id": "1aaf03bf",
   "metadata": {
    "execution": {
     "iopub.execute_input": "2023-07-24T21:46:03.445154Z",
     "iopub.status.busy": "2023-07-24T21:46:03.444332Z",
     "iopub.status.idle": "2023-07-24T21:46:03.451742Z",
     "shell.execute_reply": "2023-07-24T21:46:03.450694Z"
    },
    "papermill": {
     "duration": 0.019363,
     "end_time": "2023-07-24T21:46:03.453958",
     "exception": false,
     "start_time": "2023-07-24T21:46:03.434595",
     "status": "completed"
    },
    "tags": []
   },
   "outputs": [
    {
     "data": {
      "text/plain": [
       "array([[1, 1, 1, 1],\n",
       "       [1, 1, 1, 1],\n",
       "       [1, 1, 1, 1],\n",
       "       [1, 1, 1, 1]])"
      ]
     },
     "execution_count": 12,
     "metadata": {},
     "output_type": "execute_result"
    }
   ],
   "source": [
    "np.ones((4,4), dtype = \"int\")"
   ]
  },
  {
   "cell_type": "code",
   "execution_count": 13,
   "id": "e6c3d833",
   "metadata": {
    "execution": {
     "iopub.execute_input": "2023-07-24T21:46:03.472629Z",
     "iopub.status.busy": "2023-07-24T21:46:03.471850Z",
     "iopub.status.idle": "2023-07-24T21:46:03.478801Z",
     "shell.execute_reply": "2023-07-24T21:46:03.477860Z"
    },
    "papermill": {
     "duration": 0.018711,
     "end_time": "2023-07-24T21:46:03.480832",
     "exception": false,
     "start_time": "2023-07-24T21:46:03.462121",
     "status": "completed"
    },
    "tags": []
   },
   "outputs": [
    {
     "data": {
      "text/plain": [
       "array([[9, 9, 9],\n",
       "       [9, 9, 9],\n",
       "       [9, 9, 9]])"
      ]
     },
     "execution_count": 13,
     "metadata": {},
     "output_type": "execute_result"
    }
   ],
   "source": [
    "np.full((3,3), 9)"
   ]
  },
  {
   "cell_type": "code",
   "execution_count": 14,
   "id": "429bd0a0",
   "metadata": {
    "execution": {
     "iopub.execute_input": "2023-07-24T21:46:03.498478Z",
     "iopub.status.busy": "2023-07-24T21:46:03.497835Z",
     "iopub.status.idle": "2023-07-24T21:46:03.505075Z",
     "shell.execute_reply": "2023-07-24T21:46:03.503834Z"
    },
    "papermill": {
     "duration": 0.018947,
     "end_time": "2023-07-24T21:46:03.507550",
     "exception": false,
     "start_time": "2023-07-24T21:46:03.488603",
     "status": "completed"
    },
    "tags": []
   },
   "outputs": [
    {
     "data": {
      "text/plain": [
       "array([ 0, 10, 20, 30, 40, 50, 60, 70, 80, 90])"
      ]
     },
     "execution_count": 14,
     "metadata": {},
     "output_type": "execute_result"
    }
   ],
   "source": [
    "np.arange(0, 100, 10)"
   ]
  },
  {
   "cell_type": "code",
   "execution_count": 15,
   "id": "d04d3a35",
   "metadata": {
    "execution": {
     "iopub.execute_input": "2023-07-24T21:46:03.525801Z",
     "iopub.status.busy": "2023-07-24T21:46:03.525398Z",
     "iopub.status.idle": "2023-07-24T21:46:03.532867Z",
     "shell.execute_reply": "2023-07-24T21:46:03.531697Z"
    },
    "papermill": {
     "duration": 0.019181,
     "end_time": "2023-07-24T21:46:03.535305",
     "exception": false,
     "start_time": "2023-07-24T21:46:03.516124",
     "status": "completed"
    },
    "tags": []
   },
   "outputs": [
    {
     "data": {
      "text/plain": [
       "array([  0.        ,  11.11111111,  22.22222222,  33.33333333,\n",
       "        44.44444444,  55.55555556,  66.66666667,  77.77777778,\n",
       "        88.88888889, 100.        ])"
      ]
     },
     "execution_count": 15,
     "metadata": {},
     "output_type": "execute_result"
    }
   ],
   "source": [
    "np.linspace(0, 100, 10)"
   ]
  },
  {
   "cell_type": "code",
   "execution_count": 16,
   "id": "9653b51e",
   "metadata": {
    "execution": {
     "iopub.execute_input": "2023-07-24T21:46:03.554872Z",
     "iopub.status.busy": "2023-07-24T21:46:03.554217Z",
     "iopub.status.idle": "2023-07-24T21:46:03.562116Z",
     "shell.execute_reply": "2023-07-24T21:46:03.560737Z"
    },
    "papermill": {
     "duration": 0.020882,
     "end_time": "2023-07-24T21:46:03.564832",
     "exception": false,
     "start_time": "2023-07-24T21:46:03.543950",
     "status": "completed"
    },
    "tags": []
   },
   "outputs": [
    {
     "data": {
      "text/plain": [
       "array([[ 9.20546184, 11.13505242],\n",
       "       [ 9.3508537 , 10.29664899]])"
      ]
     },
     "execution_count": 16,
     "metadata": {},
     "output_type": "execute_result"
    }
   ],
   "source": [
    "np.random.normal(10, 1, (2,2))  # ort - sapma - size"
   ]
  },
  {
   "cell_type": "code",
   "execution_count": 17,
   "id": "0e31c7aa",
   "metadata": {
    "execution": {
     "iopub.execute_input": "2023-07-24T21:46:03.584190Z",
     "iopub.status.busy": "2023-07-24T21:46:03.583796Z",
     "iopub.status.idle": "2023-07-24T21:46:03.590765Z",
     "shell.execute_reply": "2023-07-24T21:46:03.589729Z"
    },
    "papermill": {
     "duration": 0.01907,
     "end_time": "2023-07-24T21:46:03.592756",
     "exception": false,
     "start_time": "2023-07-24T21:46:03.573686",
     "status": "completed"
    },
    "tags": []
   },
   "outputs": [
    {
     "data": {
      "text/plain": [
       "array([[8, 3],\n",
       "       [3, 9]])"
      ]
     },
     "execution_count": 17,
     "metadata": {},
     "output_type": "execute_result"
    }
   ],
   "source": [
    "np.random.randint(0, 10, (2,2))"
   ]
  },
  {
   "cell_type": "code",
   "execution_count": 18,
   "id": "a94f6a60",
   "metadata": {
    "execution": {
     "iopub.execute_input": "2023-07-24T21:46:03.612265Z",
     "iopub.status.busy": "2023-07-24T21:46:03.611304Z",
     "iopub.status.idle": "2023-07-24T21:46:03.615331Z",
     "shell.execute_reply": "2023-07-24T21:46:03.614614Z"
    },
    "papermill": {
     "duration": 0.016304,
     "end_time": "2023-07-24T21:46:03.617490",
     "exception": false,
     "start_time": "2023-07-24T21:46:03.601186",
     "status": "completed"
    },
    "tags": []
   },
   "outputs": [],
   "source": [
    "# attr\n",
    "\n",
    "# ndim: Number of array dimensions, shape: array dimensions, size: Number of elements in the array, dtype: data type"
   ]
  },
  {
   "cell_type": "code",
   "execution_count": 19,
   "id": "5015c776",
   "metadata": {
    "execution": {
     "iopub.execute_input": "2023-07-24T21:46:03.637143Z",
     "iopub.status.busy": "2023-07-24T21:46:03.636517Z",
     "iopub.status.idle": "2023-07-24T21:46:03.640743Z",
     "shell.execute_reply": "2023-07-24T21:46:03.639896Z"
    },
    "papermill": {
     "duration": 0.016627,
     "end_time": "2023-07-24T21:46:03.642871",
     "exception": false,
     "start_time": "2023-07-24T21:46:03.626244",
     "status": "completed"
    },
    "tags": []
   },
   "outputs": [],
   "source": [
    "a = np.random.randint(10, size = 10)"
   ]
  },
  {
   "cell_type": "code",
   "execution_count": 20,
   "id": "65be72a5",
   "metadata": {
    "execution": {
     "iopub.execute_input": "2023-07-24T21:46:03.661965Z",
     "iopub.status.busy": "2023-07-24T21:46:03.660917Z",
     "iopub.status.idle": "2023-07-24T21:46:03.667444Z",
     "shell.execute_reply": "2023-07-24T21:46:03.666596Z"
    },
    "papermill": {
     "duration": 0.018484,
     "end_time": "2023-07-24T21:46:03.669693",
     "exception": false,
     "start_time": "2023-07-24T21:46:03.651209",
     "status": "completed"
    },
    "tags": []
   },
   "outputs": [
    {
     "data": {
      "text/plain": [
       "1"
      ]
     },
     "execution_count": 20,
     "metadata": {},
     "output_type": "execute_result"
    }
   ],
   "source": [
    "a.ndim"
   ]
  },
  {
   "cell_type": "code",
   "execution_count": 21,
   "id": "6115995e",
   "metadata": {
    "execution": {
     "iopub.execute_input": "2023-07-24T21:46:03.690673Z",
     "iopub.status.busy": "2023-07-24T21:46:03.689620Z",
     "iopub.status.idle": "2023-07-24T21:46:03.696543Z",
     "shell.execute_reply": "2023-07-24T21:46:03.695721Z"
    },
    "papermill": {
     "duration": 0.019918,
     "end_time": "2023-07-24T21:46:03.698929",
     "exception": false,
     "start_time": "2023-07-24T21:46:03.679011",
     "status": "completed"
    },
    "tags": []
   },
   "outputs": [
    {
     "data": {
      "text/plain": [
       "(10,)"
      ]
     },
     "execution_count": 21,
     "metadata": {},
     "output_type": "execute_result"
    }
   ],
   "source": [
    "a.shape"
   ]
  },
  {
   "cell_type": "code",
   "execution_count": 22,
   "id": "ea3a2516",
   "metadata": {
    "execution": {
     "iopub.execute_input": "2023-07-24T21:46:03.719723Z",
     "iopub.status.busy": "2023-07-24T21:46:03.719318Z",
     "iopub.status.idle": "2023-07-24T21:46:03.725892Z",
     "shell.execute_reply": "2023-07-24T21:46:03.724828Z"
    },
    "papermill": {
     "duration": 0.020193,
     "end_time": "2023-07-24T21:46:03.728425",
     "exception": false,
     "start_time": "2023-07-24T21:46:03.708232",
     "status": "completed"
    },
    "tags": []
   },
   "outputs": [
    {
     "data": {
      "text/plain": [
       "10"
      ]
     },
     "execution_count": 22,
     "metadata": {},
     "output_type": "execute_result"
    }
   ],
   "source": [
    "a.size"
   ]
  },
  {
   "cell_type": "code",
   "execution_count": 23,
   "id": "aae59973",
   "metadata": {
    "execution": {
     "iopub.execute_input": "2023-07-24T21:46:03.748172Z",
     "iopub.status.busy": "2023-07-24T21:46:03.747758Z",
     "iopub.status.idle": "2023-07-24T21:46:03.754378Z",
     "shell.execute_reply": "2023-07-24T21:46:03.753610Z"
    },
    "papermill": {
     "duration": 0.01912,
     "end_time": "2023-07-24T21:46:03.756513",
     "exception": false,
     "start_time": "2023-07-24T21:46:03.737393",
     "status": "completed"
    },
    "tags": []
   },
   "outputs": [
    {
     "data": {
      "text/plain": [
       "dtype('int64')"
      ]
     },
     "execution_count": 23,
     "metadata": {},
     "output_type": "execute_result"
    }
   ],
   "source": [
    "a.dtype"
   ]
  },
  {
   "cell_type": "code",
   "execution_count": 24,
   "id": "addaaf0c",
   "metadata": {
    "execution": {
     "iopub.execute_input": "2023-07-24T21:46:03.776031Z",
     "iopub.status.busy": "2023-07-24T21:46:03.775268Z",
     "iopub.status.idle": "2023-07-24T21:46:03.782716Z",
     "shell.execute_reply": "2023-07-24T21:46:03.781517Z"
    },
    "papermill": {
     "duration": 0.01954,
     "end_time": "2023-07-24T21:46:03.784870",
     "exception": false,
     "start_time": "2023-07-24T21:46:03.765330",
     "status": "completed"
    },
    "tags": []
   },
   "outputs": [
    {
     "data": {
      "text/plain": [
       "array([[9, 3, 8, 7],\n",
       "       [2, 3, 6, 5],\n",
       "       [7, 5, 6, 2],\n",
       "       [2, 2, 6, 9]])"
      ]
     },
     "execution_count": 24,
     "metadata": {},
     "output_type": "execute_result"
    }
   ],
   "source": [
    "b = np.random.randint(10, size = (4, 4))\n",
    "b"
   ]
  },
  {
   "cell_type": "code",
   "execution_count": 25,
   "id": "5a927052",
   "metadata": {
    "execution": {
     "iopub.execute_input": "2023-07-24T21:46:03.805015Z",
     "iopub.status.busy": "2023-07-24T21:46:03.803947Z",
     "iopub.status.idle": "2023-07-24T21:46:03.810036Z",
     "shell.execute_reply": "2023-07-24T21:46:03.809273Z"
    },
    "papermill": {
     "duration": 0.018234,
     "end_time": "2023-07-24T21:46:03.812297",
     "exception": false,
     "start_time": "2023-07-24T21:46:03.794063",
     "status": "completed"
    },
    "tags": []
   },
   "outputs": [
    {
     "data": {
      "text/plain": [
       "(4, 4)"
      ]
     },
     "execution_count": 25,
     "metadata": {},
     "output_type": "execute_result"
    }
   ],
   "source": [
    "b.shape"
   ]
  },
  {
   "cell_type": "code",
   "execution_count": 26,
   "id": "21d4a17f",
   "metadata": {
    "execution": {
     "iopub.execute_input": "2023-07-24T21:46:03.832688Z",
     "iopub.status.busy": "2023-07-24T21:46:03.831738Z",
     "iopub.status.idle": "2023-07-24T21:46:03.837391Z",
     "shell.execute_reply": "2023-07-24T21:46:03.836471Z"
    },
    "papermill": {
     "duration": 0.017976,
     "end_time": "2023-07-24T21:46:03.839411",
     "exception": false,
     "start_time": "2023-07-24T21:46:03.821435",
     "status": "completed"
    },
    "tags": []
   },
   "outputs": [
    {
     "data": {
      "text/plain": [
       "16"
      ]
     },
     "execution_count": 26,
     "metadata": {},
     "output_type": "execute_result"
    }
   ],
   "source": [
    "b.size"
   ]
  },
  {
   "cell_type": "code",
   "execution_count": 27,
   "id": "c0e21871",
   "metadata": {
    "execution": {
     "iopub.execute_input": "2023-07-24T21:46:03.860066Z",
     "iopub.status.busy": "2023-07-24T21:46:03.859140Z",
     "iopub.status.idle": "2023-07-24T21:46:03.866597Z",
     "shell.execute_reply": "2023-07-24T21:46:03.865277Z"
    },
    "papermill": {
     "duration": 0.020248,
     "end_time": "2023-07-24T21:46:03.868741",
     "exception": false,
     "start_time": "2023-07-24T21:46:03.848493",
     "status": "completed"
    },
    "tags": []
   },
   "outputs": [
    {
     "data": {
      "text/plain": [
       "2"
      ]
     },
     "execution_count": 27,
     "metadata": {},
     "output_type": "execute_result"
    }
   ],
   "source": [
    "b.ndim"
   ]
  },
  {
   "cell_type": "code",
   "execution_count": 28,
   "id": "7ab93e79",
   "metadata": {
    "execution": {
     "iopub.execute_input": "2023-07-24T21:46:03.889223Z",
     "iopub.status.busy": "2023-07-24T21:46:03.888410Z",
     "iopub.status.idle": "2023-07-24T21:46:03.894841Z",
     "shell.execute_reply": "2023-07-24T21:46:03.894001Z"
    },
    "papermill": {
     "duration": 0.018799,
     "end_time": "2023-07-24T21:46:03.896929",
     "exception": false,
     "start_time": "2023-07-24T21:46:03.878130",
     "status": "completed"
    },
    "tags": []
   },
   "outputs": [
    {
     "data": {
      "text/plain": [
       "dtype('int64')"
      ]
     },
     "execution_count": 28,
     "metadata": {},
     "output_type": "execute_result"
    }
   ],
   "source": [
    "b.dtype"
   ]
  }
 ],
 "metadata": {
  "kernelspec": {
   "display_name": "Python 3",
   "language": "python",
   "name": "python3"
  },
  "language_info": {
   "codemirror_mode": {
    "name": "ipython",
    "version": 3
   },
   "file_extension": ".py",
   "mimetype": "text/x-python",
   "name": "python",
   "nbconvert_exporter": "python",
   "pygments_lexer": "ipython3",
   "version": "3.10.12"
  },
  "papermill": {
   "default_parameters": {},
   "duration": 11.746664,
   "end_time": "2023-07-24T21:46:04.827645",
   "environment_variables": {},
   "exception": null,
   "input_path": "__notebook__.ipynb",
   "output_path": "__notebook__.ipynb",
   "parameters": {},
   "start_time": "2023-07-24T21:45:53.080981",
   "version": "2.4.0"
  }
 },
 "nbformat": 4,
 "nbformat_minor": 5
}
