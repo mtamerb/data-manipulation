{
 "cells": [
  {
   "cell_type": "markdown",
   "id": "8221b68d",
   "metadata": {
    "papermill": {
     "duration": 0.026317,
     "end_time": "2023-07-25T09:55:04.170487",
     "exception": false,
     "start_time": "2023-07-25T09:55:04.144170",
     "status": "completed"
    },
    "tags": []
   },
   "source": [
    "# Numpy"
   ]
  },
  {
   "cell_type": "code",
   "execution_count": 1,
   "id": "d174ea52",
   "metadata": {
    "execution": {
     "iopub.execute_input": "2023-07-25T09:55:04.224977Z",
     "iopub.status.busy": "2023-07-25T09:55:04.224428Z",
     "iopub.status.idle": "2023-07-25T09:55:04.241005Z",
     "shell.execute_reply": "2023-07-25T09:55:04.239774Z"
    },
    "papermill": {
     "duration": 0.046771,
     "end_time": "2023-07-25T09:55:04.243383",
     "exception": false,
     "start_time": "2023-07-25T09:55:04.196612",
     "status": "completed"
    },
    "tags": []
   },
   "outputs": [
    {
     "data": {
      "text/plain": [
       "[1, 3, 5]"
      ]
     },
     "execution_count": 1,
     "metadata": {},
     "output_type": "execute_result"
    }
   ],
   "source": [
    "x = [1, 3, 5]\n",
    "y = [7, 4, 0]\n",
    "x"
   ]
  },
  {
   "cell_type": "code",
   "execution_count": 2,
   "id": "ba7b87fc",
   "metadata": {
    "execution": {
     "iopub.execute_input": "2023-07-25T09:55:04.297775Z",
     "iopub.status.busy": "2023-07-25T09:55:04.297355Z",
     "iopub.status.idle": "2023-07-25T09:55:04.304833Z",
     "shell.execute_reply": "2023-07-25T09:55:04.303602Z"
    },
    "papermill": {
     "duration": 0.037761,
     "end_time": "2023-07-25T09:55:04.307304",
     "exception": false,
     "start_time": "2023-07-25T09:55:04.269543",
     "status": "completed"
    },
    "tags": []
   },
   "outputs": [
    {
     "data": {
      "text/plain": [
       "[7, 4, 0]"
      ]
     },
     "execution_count": 2,
     "metadata": {},
     "output_type": "execute_result"
    }
   ],
   "source": [
    "y"
   ]
  },
  {
   "cell_type": "code",
   "execution_count": 3,
   "id": "50ea4223",
   "metadata": {
    "execution": {
     "iopub.execute_input": "2023-07-25T09:55:04.362195Z",
     "iopub.status.busy": "2023-07-25T09:55:04.361713Z",
     "iopub.status.idle": "2023-07-25T09:55:04.366884Z",
     "shell.execute_reply": "2023-07-25T09:55:04.365705Z"
    },
    "papermill": {
     "duration": 0.03548,
     "end_time": "2023-07-25T09:55:04.369263",
     "exception": false,
     "start_time": "2023-07-25T09:55:04.333783",
     "status": "completed"
    },
    "tags": []
   },
   "outputs": [],
   "source": [
    "import numpy as np"
   ]
  },
  {
   "cell_type": "code",
   "execution_count": 4,
   "id": "cfdd2532",
   "metadata": {
    "execution": {
     "iopub.execute_input": "2023-07-25T09:55:04.424283Z",
     "iopub.status.busy": "2023-07-25T09:55:04.423818Z",
     "iopub.status.idle": "2023-07-25T09:55:04.429274Z",
     "shell.execute_reply": "2023-07-25T09:55:04.427973Z"
    },
    "papermill": {
     "duration": 0.035914,
     "end_time": "2023-07-25T09:55:04.431638",
     "exception": false,
     "start_time": "2023-07-25T09:55:04.395724",
     "status": "completed"
    },
    "tags": []
   },
   "outputs": [],
   "source": [
    "# x = [1, 3, 5]\n",
    "# y = [7, 4, 0]\n",
    "\n",
    "x = np.array(x)\n",
    "y = np.array(y)\n"
   ]
  },
  {
   "cell_type": "code",
   "execution_count": 5,
   "id": "c55259b3",
   "metadata": {
    "execution": {
     "iopub.execute_input": "2023-07-25T09:55:04.487685Z",
     "iopub.status.busy": "2023-07-25T09:55:04.487247Z",
     "iopub.status.idle": "2023-07-25T09:55:04.498746Z",
     "shell.execute_reply": "2023-07-25T09:55:04.497238Z"
    },
    "papermill": {
     "duration": 0.041753,
     "end_time": "2023-07-25T09:55:04.501276",
     "exception": false,
     "start_time": "2023-07-25T09:55:04.459523",
     "status": "completed"
    },
    "tags": []
   },
   "outputs": [
    {
     "data": {
      "text/plain": [
       "array([ 7, 12,  0])"
      ]
     },
     "execution_count": 5,
     "metadata": {},
     "output_type": "execute_result"
    }
   ],
   "source": [
    " x * y"
   ]
  },
  {
   "cell_type": "code",
   "execution_count": 6,
   "id": "b54c750e",
   "metadata": {
    "execution": {
     "iopub.execute_input": "2023-07-25T09:55:04.557221Z",
     "iopub.status.busy": "2023-07-25T09:55:04.556783Z",
     "iopub.status.idle": "2023-07-25T09:55:04.563193Z",
     "shell.execute_reply": "2023-07-25T09:55:04.562385Z"
    },
    "papermill": {
     "duration": 0.036479,
     "end_time": "2023-07-25T09:55:04.565268",
     "exception": false,
     "start_time": "2023-07-25T09:55:04.528789",
     "status": "completed"
    },
    "tags": []
   },
   "outputs": [
    {
     "data": {
      "text/plain": [
       "array([-5,  2, 10])"
      ]
     },
     "execution_count": 6,
     "metadata": {},
     "output_type": "execute_result"
    }
   ],
   "source": [
    "2 * x - y"
   ]
  },
  {
   "cell_type": "code",
   "execution_count": 7,
   "id": "754f75ac",
   "metadata": {
    "execution": {
     "iopub.execute_input": "2023-07-25T09:55:04.623026Z",
     "iopub.status.busy": "2023-07-25T09:55:04.622328Z",
     "iopub.status.idle": "2023-07-25T09:55:04.629499Z",
     "shell.execute_reply": "2023-07-25T09:55:04.628341Z"
    },
    "papermill": {
     "duration": 0.039473,
     "end_time": "2023-07-25T09:55:04.632646",
     "exception": false,
     "start_time": "2023-07-25T09:55:04.593173",
     "status": "completed"
    },
    "tags": []
   },
   "outputs": [
    {
     "data": {
      "text/plain": [
       "array([100,  80,  40])"
      ]
     },
     "execution_count": 7,
     "metadata": {},
     "output_type": "execute_result"
    }
   ],
   "source": [
    "np.array([100, 80, 40])"
   ]
  },
  {
   "cell_type": "code",
   "execution_count": 8,
   "id": "5d5c1815",
   "metadata": {
    "execution": {
     "iopub.execute_input": "2023-07-25T09:55:04.689109Z",
     "iopub.status.busy": "2023-07-25T09:55:04.688677Z",
     "iopub.status.idle": "2023-07-25T09:55:04.695407Z",
     "shell.execute_reply": "2023-07-25T09:55:04.694300Z"
    },
    "papermill": {
     "duration": 0.038104,
     "end_time": "2023-07-25T09:55:04.698181",
     "exception": false,
     "start_time": "2023-07-25T09:55:04.660077",
     "status": "completed"
    },
    "tags": []
   },
   "outputs": [
    {
     "data": {
      "text/plain": [
       "numpy.ndarray"
      ]
     },
     "execution_count": 8,
     "metadata": {},
     "output_type": "execute_result"
    }
   ],
   "source": [
    "k = np.array([34, 23, 89])\n",
    "type(k)"
   ]
  },
  {
   "cell_type": "code",
   "execution_count": 9,
   "id": "d543df41",
   "metadata": {
    "execution": {
     "iopub.execute_input": "2023-07-25T09:55:04.754681Z",
     "iopub.status.busy": "2023-07-25T09:55:04.754291Z",
     "iopub.status.idle": "2023-07-25T09:55:04.761928Z",
     "shell.execute_reply": "2023-07-25T09:55:04.760765Z"
    },
    "papermill": {
     "duration": 0.038459,
     "end_time": "2023-07-25T09:55:04.764401",
     "exception": false,
     "start_time": "2023-07-25T09:55:04.725942",
     "status": "completed"
    },
    "tags": []
   },
   "outputs": [
    {
     "data": {
      "text/plain": [
       "array([ 2,  5,  6, 10])"
      ]
     },
     "execution_count": 9,
     "metadata": {},
     "output_type": "execute_result"
    }
   ],
   "source": [
    "np.array([2.3, 5, 6.9, 10], dtype = \"int\")"
   ]
  },
  {
   "cell_type": "code",
   "execution_count": 10,
   "id": "c2815e35",
   "metadata": {
    "execution": {
     "iopub.execute_input": "2023-07-25T09:55:04.821474Z",
     "iopub.status.busy": "2023-07-25T09:55:04.821050Z",
     "iopub.status.idle": "2023-07-25T09:55:04.828900Z",
     "shell.execute_reply": "2023-07-25T09:55:04.827543Z"
    },
    "papermill": {
     "duration": 0.039993,
     "end_time": "2023-07-25T09:55:04.831481",
     "exception": false,
     "start_time": "2023-07-25T09:55:04.791488",
     "status": "completed"
    },
    "tags": []
   },
   "outputs": [
    {
     "data": {
      "text/plain": [
       "array([0., 0., 0., 0., 0., 0., 0., 0., 0., 0.])"
      ]
     },
     "execution_count": 10,
     "metadata": {},
     "output_type": "execute_result"
    }
   ],
   "source": [
    "np.zeros(10)"
   ]
  },
  {
   "cell_type": "code",
   "execution_count": 11,
   "id": "f9495d26",
   "metadata": {
    "execution": {
     "iopub.execute_input": "2023-07-25T09:55:04.888021Z",
     "iopub.status.busy": "2023-07-25T09:55:04.887588Z",
     "iopub.status.idle": "2023-07-25T09:55:04.895508Z",
     "shell.execute_reply": "2023-07-25T09:55:04.894233Z"
    },
    "papermill": {
     "duration": 0.039273,
     "end_time": "2023-07-25T09:55:04.897835",
     "exception": false,
     "start_time": "2023-07-25T09:55:04.858562",
     "status": "completed"
    },
    "tags": []
   },
   "outputs": [
    {
     "data": {
      "text/plain": [
       "array([0, 0, 0, 0, 0, 0, 0, 0, 0, 0])"
      ]
     },
     "execution_count": 11,
     "metadata": {},
     "output_type": "execute_result"
    }
   ],
   "source": [
    "np.zeros(10, dtype = \"int\")"
   ]
  },
  {
   "cell_type": "code",
   "execution_count": 12,
   "id": "6ea789f7",
   "metadata": {
    "execution": {
     "iopub.execute_input": "2023-07-25T09:55:04.954841Z",
     "iopub.status.busy": "2023-07-25T09:55:04.954446Z",
     "iopub.status.idle": "2023-07-25T09:55:04.962287Z",
     "shell.execute_reply": "2023-07-25T09:55:04.960929Z"
    },
    "papermill": {
     "duration": 0.039384,
     "end_time": "2023-07-25T09:55:04.964596",
     "exception": false,
     "start_time": "2023-07-25T09:55:04.925212",
     "status": "completed"
    },
    "tags": []
   },
   "outputs": [
    {
     "data": {
      "text/plain": [
       "array([[1, 1, 1, 1],\n",
       "       [1, 1, 1, 1],\n",
       "       [1, 1, 1, 1],\n",
       "       [1, 1, 1, 1]])"
      ]
     },
     "execution_count": 12,
     "metadata": {},
     "output_type": "execute_result"
    }
   ],
   "source": [
    "np.ones((4,4), dtype = \"int\")"
   ]
  },
  {
   "cell_type": "code",
   "execution_count": 13,
   "id": "6ba37689",
   "metadata": {
    "execution": {
     "iopub.execute_input": "2023-07-25T09:55:05.021513Z",
     "iopub.status.busy": "2023-07-25T09:55:05.021091Z",
     "iopub.status.idle": "2023-07-25T09:55:05.028895Z",
     "shell.execute_reply": "2023-07-25T09:55:05.027616Z"
    },
    "papermill": {
     "duration": 0.039135,
     "end_time": "2023-07-25T09:55:05.031395",
     "exception": false,
     "start_time": "2023-07-25T09:55:04.992260",
     "status": "completed"
    },
    "tags": []
   },
   "outputs": [
    {
     "data": {
      "text/plain": [
       "array([[9, 9, 9],\n",
       "       [9, 9, 9],\n",
       "       [9, 9, 9]])"
      ]
     },
     "execution_count": 13,
     "metadata": {},
     "output_type": "execute_result"
    }
   ],
   "source": [
    "np.full((3,3), 9)"
   ]
  },
  {
   "cell_type": "code",
   "execution_count": 14,
   "id": "48d3d195",
   "metadata": {
    "execution": {
     "iopub.execute_input": "2023-07-25T09:55:05.088892Z",
     "iopub.status.busy": "2023-07-25T09:55:05.088365Z",
     "iopub.status.idle": "2023-07-25T09:55:05.096201Z",
     "shell.execute_reply": "2023-07-25T09:55:05.094987Z"
    },
    "papermill": {
     "duration": 0.039451,
     "end_time": "2023-07-25T09:55:05.098613",
     "exception": false,
     "start_time": "2023-07-25T09:55:05.059162",
     "status": "completed"
    },
    "tags": []
   },
   "outputs": [
    {
     "data": {
      "text/plain": [
       "array([ 0, 10, 20, 30, 40, 50, 60, 70, 80, 90])"
      ]
     },
     "execution_count": 14,
     "metadata": {},
     "output_type": "execute_result"
    }
   ],
   "source": [
    "np.arange(0, 100, 10)"
   ]
  },
  {
   "cell_type": "code",
   "execution_count": 15,
   "id": "651aa143",
   "metadata": {
    "execution": {
     "iopub.execute_input": "2023-07-25T09:55:05.156206Z",
     "iopub.status.busy": "2023-07-25T09:55:05.155766Z",
     "iopub.status.idle": "2023-07-25T09:55:05.162800Z",
     "shell.execute_reply": "2023-07-25T09:55:05.161851Z"
    },
    "papermill": {
     "duration": 0.038345,
     "end_time": "2023-07-25T09:55:05.164812",
     "exception": false,
     "start_time": "2023-07-25T09:55:05.126467",
     "status": "completed"
    },
    "tags": []
   },
   "outputs": [
    {
     "data": {
      "text/plain": [
       "array([  0.        ,  11.11111111,  22.22222222,  33.33333333,\n",
       "        44.44444444,  55.55555556,  66.66666667,  77.77777778,\n",
       "        88.88888889, 100.        ])"
      ]
     },
     "execution_count": 15,
     "metadata": {},
     "output_type": "execute_result"
    }
   ],
   "source": [
    "np.linspace(0, 100, 10)"
   ]
  },
  {
   "cell_type": "code",
   "execution_count": 16,
   "id": "818b6cfa",
   "metadata": {
    "execution": {
     "iopub.execute_input": "2023-07-25T09:55:05.222291Z",
     "iopub.status.busy": "2023-07-25T09:55:05.221834Z",
     "iopub.status.idle": "2023-07-25T09:55:05.229823Z",
     "shell.execute_reply": "2023-07-25T09:55:05.228631Z"
    },
    "papermill": {
     "duration": 0.039519,
     "end_time": "2023-07-25T09:55:05.232094",
     "exception": false,
     "start_time": "2023-07-25T09:55:05.192575",
     "status": "completed"
    },
    "tags": []
   },
   "outputs": [
    {
     "data": {
      "text/plain": [
       "array([[ 9.18592538,  9.63636895],\n",
       "       [11.1578149 ,  8.80525089]])"
      ]
     },
     "execution_count": 16,
     "metadata": {},
     "output_type": "execute_result"
    }
   ],
   "source": [
    "np.random.normal(10, 1, (2,2))  # ort - sapma - size"
   ]
  },
  {
   "cell_type": "code",
   "execution_count": 17,
   "id": "e7db7fce",
   "metadata": {
    "execution": {
     "iopub.execute_input": "2023-07-25T09:55:05.294246Z",
     "iopub.status.busy": "2023-07-25T09:55:05.293778Z",
     "iopub.status.idle": "2023-07-25T09:55:05.301395Z",
     "shell.execute_reply": "2023-07-25T09:55:05.300175Z"
    },
    "papermill": {
     "duration": 0.043491,
     "end_time": "2023-07-25T09:55:05.303635",
     "exception": false,
     "start_time": "2023-07-25T09:55:05.260144",
     "status": "completed"
    },
    "tags": []
   },
   "outputs": [
    {
     "data": {
      "text/plain": [
       "array([[9, 6],\n",
       "       [8, 9]])"
      ]
     },
     "execution_count": 17,
     "metadata": {},
     "output_type": "execute_result"
    }
   ],
   "source": [
    "np.random.randint(0, 10, (2,2))"
   ]
  },
  {
   "cell_type": "code",
   "execution_count": 18,
   "id": "c883ba04",
   "metadata": {
    "execution": {
     "iopub.execute_input": "2023-07-25T09:55:05.362365Z",
     "iopub.status.busy": "2023-07-25T09:55:05.361974Z",
     "iopub.status.idle": "2023-07-25T09:55:05.366603Z",
     "shell.execute_reply": "2023-07-25T09:55:05.365477Z"
    },
    "papermill": {
     "duration": 0.036834,
     "end_time": "2023-07-25T09:55:05.368960",
     "exception": false,
     "start_time": "2023-07-25T09:55:05.332126",
     "status": "completed"
    },
    "tags": []
   },
   "outputs": [],
   "source": [
    "# attr\n",
    "\n",
    "# ndim: Number of array dimensions, shape: array dimensions, size: Number of elements in the array, dtype: data type"
   ]
  },
  {
   "cell_type": "code",
   "execution_count": 19,
   "id": "37ea0379",
   "metadata": {
    "execution": {
     "iopub.execute_input": "2023-07-25T09:55:05.427486Z",
     "iopub.status.busy": "2023-07-25T09:55:05.427013Z",
     "iopub.status.idle": "2023-07-25T09:55:05.432423Z",
     "shell.execute_reply": "2023-07-25T09:55:05.431096Z"
    },
    "papermill": {
     "duration": 0.038061,
     "end_time": "2023-07-25T09:55:05.435171",
     "exception": false,
     "start_time": "2023-07-25T09:55:05.397110",
     "status": "completed"
    },
    "tags": []
   },
   "outputs": [],
   "source": [
    "a = np.random.randint(10, size = 10)"
   ]
  },
  {
   "cell_type": "code",
   "execution_count": 20,
   "id": "7fb761b9",
   "metadata": {
    "execution": {
     "iopub.execute_input": "2023-07-25T09:55:05.493435Z",
     "iopub.status.busy": "2023-07-25T09:55:05.493046Z",
     "iopub.status.idle": "2023-07-25T09:55:05.500060Z",
     "shell.execute_reply": "2023-07-25T09:55:05.498865Z"
    },
    "papermill": {
     "duration": 0.03881,
     "end_time": "2023-07-25T09:55:05.502252",
     "exception": false,
     "start_time": "2023-07-25T09:55:05.463442",
     "status": "completed"
    },
    "tags": []
   },
   "outputs": [
    {
     "data": {
      "text/plain": [
       "1"
      ]
     },
     "execution_count": 20,
     "metadata": {},
     "output_type": "execute_result"
    }
   ],
   "source": [
    "a.ndim"
   ]
  },
  {
   "cell_type": "code",
   "execution_count": 21,
   "id": "de167197",
   "metadata": {
    "execution": {
     "iopub.execute_input": "2023-07-25T09:55:05.562007Z",
     "iopub.status.busy": "2023-07-25T09:55:05.560963Z",
     "iopub.status.idle": "2023-07-25T09:55:05.567414Z",
     "shell.execute_reply": "2023-07-25T09:55:05.566207Z"
    },
    "papermill": {
     "duration": 0.038779,
     "end_time": "2023-07-25T09:55:05.569655",
     "exception": false,
     "start_time": "2023-07-25T09:55:05.530876",
     "status": "completed"
    },
    "tags": []
   },
   "outputs": [
    {
     "data": {
      "text/plain": [
       "(10,)"
      ]
     },
     "execution_count": 21,
     "metadata": {},
     "output_type": "execute_result"
    }
   ],
   "source": [
    "a.shape"
   ]
  },
  {
   "cell_type": "code",
   "execution_count": 22,
   "id": "9c452494",
   "metadata": {
    "execution": {
     "iopub.execute_input": "2023-07-25T09:55:05.630561Z",
     "iopub.status.busy": "2023-07-25T09:55:05.629453Z",
     "iopub.status.idle": "2023-07-25T09:55:05.636508Z",
     "shell.execute_reply": "2023-07-25T09:55:05.635465Z"
    },
    "papermill": {
     "duration": 0.0407,
     "end_time": "2023-07-25T09:55:05.638866",
     "exception": false,
     "start_time": "2023-07-25T09:55:05.598166",
     "status": "completed"
    },
    "tags": []
   },
   "outputs": [
    {
     "data": {
      "text/plain": [
       "10"
      ]
     },
     "execution_count": 22,
     "metadata": {},
     "output_type": "execute_result"
    }
   ],
   "source": [
    "a.size"
   ]
  },
  {
   "cell_type": "code",
   "execution_count": 23,
   "id": "d1cc197f",
   "metadata": {
    "execution": {
     "iopub.execute_input": "2023-07-25T09:55:05.698525Z",
     "iopub.status.busy": "2023-07-25T09:55:05.698136Z",
     "iopub.status.idle": "2023-07-25T09:55:05.704761Z",
     "shell.execute_reply": "2023-07-25T09:55:05.703631Z"
    },
    "papermill": {
     "duration": 0.039908,
     "end_time": "2023-07-25T09:55:05.707549",
     "exception": false,
     "start_time": "2023-07-25T09:55:05.667641",
     "status": "completed"
    },
    "tags": []
   },
   "outputs": [
    {
     "data": {
      "text/plain": [
       "dtype('int64')"
      ]
     },
     "execution_count": 23,
     "metadata": {},
     "output_type": "execute_result"
    }
   ],
   "source": [
    "a.dtype"
   ]
  },
  {
   "cell_type": "code",
   "execution_count": 24,
   "id": "8c5dd0e7",
   "metadata": {
    "execution": {
     "iopub.execute_input": "2023-07-25T09:55:05.768480Z",
     "iopub.status.busy": "2023-07-25T09:55:05.768071Z",
     "iopub.status.idle": "2023-07-25T09:55:05.775285Z",
     "shell.execute_reply": "2023-07-25T09:55:05.774117Z"
    },
    "papermill": {
     "duration": 0.040184,
     "end_time": "2023-07-25T09:55:05.777649",
     "exception": false,
     "start_time": "2023-07-25T09:55:05.737465",
     "status": "completed"
    },
    "tags": []
   },
   "outputs": [
    {
     "data": {
      "text/plain": [
       "array([[5, 1, 3, 5],\n",
       "       [4, 1, 9, 9],\n",
       "       [9, 2, 1, 2],\n",
       "       [0, 9, 3, 6]])"
      ]
     },
     "execution_count": 24,
     "metadata": {},
     "output_type": "execute_result"
    }
   ],
   "source": [
    "b = np.random.randint(10, size = (4, 4))\n",
    "b"
   ]
  },
  {
   "cell_type": "code",
   "execution_count": 25,
   "id": "ce986f50",
   "metadata": {
    "execution": {
     "iopub.execute_input": "2023-07-25T09:55:05.839151Z",
     "iopub.status.busy": "2023-07-25T09:55:05.838585Z",
     "iopub.status.idle": "2023-07-25T09:55:05.846719Z",
     "shell.execute_reply": "2023-07-25T09:55:05.845515Z"
    },
    "papermill": {
     "duration": 0.041366,
     "end_time": "2023-07-25T09:55:05.849226",
     "exception": false,
     "start_time": "2023-07-25T09:55:05.807860",
     "status": "completed"
    },
    "tags": []
   },
   "outputs": [
    {
     "data": {
      "text/plain": [
       "(4, 4)"
      ]
     },
     "execution_count": 25,
     "metadata": {},
     "output_type": "execute_result"
    }
   ],
   "source": [
    "b.shape"
   ]
  },
  {
   "cell_type": "code",
   "execution_count": 26,
   "id": "222a478d",
   "metadata": {
    "execution": {
     "iopub.execute_input": "2023-07-25T09:55:05.911894Z",
     "iopub.status.busy": "2023-07-25T09:55:05.910759Z",
     "iopub.status.idle": "2023-07-25T09:55:05.918703Z",
     "shell.execute_reply": "2023-07-25T09:55:05.917489Z"
    },
    "papermill": {
     "duration": 0.041142,
     "end_time": "2023-07-25T09:55:05.921161",
     "exception": false,
     "start_time": "2023-07-25T09:55:05.880019",
     "status": "completed"
    },
    "tags": []
   },
   "outputs": [
    {
     "data": {
      "text/plain": [
       "16"
      ]
     },
     "execution_count": 26,
     "metadata": {},
     "output_type": "execute_result"
    }
   ],
   "source": [
    "b.size"
   ]
  },
  {
   "cell_type": "code",
   "execution_count": 27,
   "id": "aa7858b8",
   "metadata": {
    "execution": {
     "iopub.execute_input": "2023-07-25T09:55:05.982562Z",
     "iopub.status.busy": "2023-07-25T09:55:05.982078Z",
     "iopub.status.idle": "2023-07-25T09:55:05.989473Z",
     "shell.execute_reply": "2023-07-25T09:55:05.988256Z"
    },
    "papermill": {
     "duration": 0.041079,
     "end_time": "2023-07-25T09:55:05.992200",
     "exception": false,
     "start_time": "2023-07-25T09:55:05.951121",
     "status": "completed"
    },
    "tags": []
   },
   "outputs": [
    {
     "data": {
      "text/plain": [
       "2"
      ]
     },
     "execution_count": 27,
     "metadata": {},
     "output_type": "execute_result"
    }
   ],
   "source": [
    "b.ndim"
   ]
  },
  {
   "cell_type": "code",
   "execution_count": 28,
   "id": "face0625",
   "metadata": {
    "execution": {
     "iopub.execute_input": "2023-07-25T09:55:06.053991Z",
     "iopub.status.busy": "2023-07-25T09:55:06.053299Z",
     "iopub.status.idle": "2023-07-25T09:55:06.060467Z",
     "shell.execute_reply": "2023-07-25T09:55:06.059263Z"
    },
    "papermill": {
     "duration": 0.040306,
     "end_time": "2023-07-25T09:55:06.062679",
     "exception": false,
     "start_time": "2023-07-25T09:55:06.022373",
     "status": "completed"
    },
    "tags": []
   },
   "outputs": [
    {
     "data": {
      "text/plain": [
       "dtype('int64')"
      ]
     },
     "execution_count": 28,
     "metadata": {},
     "output_type": "execute_result"
    }
   ],
   "source": [
    "b.dtype"
   ]
  },
  {
   "cell_type": "code",
   "execution_count": 29,
   "id": "8f7ca707",
   "metadata": {
    "execution": {
     "iopub.execute_input": "2023-07-25T09:55:06.124386Z",
     "iopub.status.busy": "2023-07-25T09:55:06.123111Z",
     "iopub.status.idle": "2023-07-25T09:55:06.131129Z",
     "shell.execute_reply": "2023-07-25T09:55:06.129984Z"
    },
    "papermill": {
     "duration": 0.041323,
     "end_time": "2023-07-25T09:55:06.133522",
     "exception": false,
     "start_time": "2023-07-25T09:55:06.092199",
     "status": "completed"
    },
    "tags": []
   },
   "outputs": [
    {
     "data": {
      "text/plain": [
       "array([0, 1, 2, 3, 4, 5, 6, 7, 8, 9])"
      ]
     },
     "execution_count": 29,
     "metadata": {},
     "output_type": "execute_result"
    }
   ],
   "source": [
    "np.arange(0,10)"
   ]
  },
  {
   "cell_type": "code",
   "execution_count": 30,
   "id": "4e1a8d3e",
   "metadata": {
    "execution": {
     "iopub.execute_input": "2023-07-25T09:55:06.196228Z",
     "iopub.status.busy": "2023-07-25T09:55:06.195807Z",
     "iopub.status.idle": "2023-07-25T09:55:06.202807Z",
     "shell.execute_reply": "2023-07-25T09:55:06.201861Z"
    },
    "papermill": {
     "duration": 0.041336,
     "end_time": "2023-07-25T09:55:06.205416",
     "exception": false,
     "start_time": "2023-07-25T09:55:06.164080",
     "status": "completed"
    },
    "tags": []
   },
   "outputs": [
    {
     "data": {
      "text/plain": [
       "array([[0, 1],\n",
       "       [2, 3],\n",
       "       [4, 5],\n",
       "       [6, 7],\n",
       "       [8, 9]])"
      ]
     },
     "execution_count": 30,
     "metadata": {},
     "output_type": "execute_result"
    }
   ],
   "source": [
    "# reshape\n",
    "np.arange(0,10).reshape((5, 2))"
   ]
  },
  {
   "cell_type": "code",
   "execution_count": 31,
   "id": "e0b072d6",
   "metadata": {
    "execution": {
     "iopub.execute_input": "2023-07-25T09:55:06.267604Z",
     "iopub.status.busy": "2023-07-25T09:55:06.267141Z",
     "iopub.status.idle": "2023-07-25T09:55:06.274528Z",
     "shell.execute_reply": "2023-07-25T09:55:06.273581Z"
    },
    "papermill": {
     "duration": 0.041375,
     "end_time": "2023-07-25T09:55:06.276925",
     "exception": false,
     "start_time": "2023-07-25T09:55:06.235550",
     "status": "completed"
    },
    "tags": []
   },
   "outputs": [
    {
     "data": {
      "text/plain": [
       "array([1, 2, 3, 4, 5, 6, 7, 8, 9])"
      ]
     },
     "execution_count": 31,
     "metadata": {},
     "output_type": "execute_result"
    }
   ],
   "source": [
    "x = np.arange(1,10)\n",
    "x"
   ]
  },
  {
   "cell_type": "code",
   "execution_count": 32,
   "id": "492985c1",
   "metadata": {
    "execution": {
     "iopub.execute_input": "2023-07-25T09:55:06.342678Z",
     "iopub.status.busy": "2023-07-25T09:55:06.341443Z",
     "iopub.status.idle": "2023-07-25T09:55:06.349066Z",
     "shell.execute_reply": "2023-07-25T09:55:06.347921Z"
    },
    "papermill": {
     "duration": 0.043293,
     "end_time": "2023-07-25T09:55:06.351676",
     "exception": false,
     "start_time": "2023-07-25T09:55:06.308383",
     "status": "completed"
    },
    "tags": []
   },
   "outputs": [
    {
     "data": {
      "text/plain": [
       "1"
      ]
     },
     "execution_count": 32,
     "metadata": {},
     "output_type": "execute_result"
    }
   ],
   "source": [
    "x.ndim"
   ]
  },
  {
   "cell_type": "code",
   "execution_count": 33,
   "id": "697e2bf1",
   "metadata": {
    "execution": {
     "iopub.execute_input": "2023-07-25T09:55:06.415706Z",
     "iopub.status.busy": "2023-07-25T09:55:06.415309Z",
     "iopub.status.idle": "2023-07-25T09:55:06.423322Z",
     "shell.execute_reply": "2023-07-25T09:55:06.422162Z"
    },
    "papermill": {
     "duration": 0.04234,
     "end_time": "2023-07-25T09:55:06.425857",
     "exception": false,
     "start_time": "2023-07-25T09:55:06.383517",
     "status": "completed"
    },
    "tags": []
   },
   "outputs": [
    {
     "data": {
      "text/plain": [
       "array([[1, 2, 3],\n",
       "       [4, 5, 6],\n",
       "       [7, 8, 9]])"
      ]
     },
     "execution_count": 33,
     "metadata": {},
     "output_type": "execute_result"
    }
   ],
   "source": [
    "y = x.reshape((3,3))\n",
    "y"
   ]
  },
  {
   "cell_type": "code",
   "execution_count": 34,
   "id": "e88d1db7",
   "metadata": {
    "execution": {
     "iopub.execute_input": "2023-07-25T09:55:06.488825Z",
     "iopub.status.busy": "2023-07-25T09:55:06.488436Z",
     "iopub.status.idle": "2023-07-25T09:55:06.495898Z",
     "shell.execute_reply": "2023-07-25T09:55:06.494825Z"
    },
    "papermill": {
     "duration": 0.041937,
     "end_time": "2023-07-25T09:55:06.498243",
     "exception": false,
     "start_time": "2023-07-25T09:55:06.456306",
     "status": "completed"
    },
    "tags": []
   },
   "outputs": [
    {
     "data": {
      "text/plain": [
       "2"
      ]
     },
     "execution_count": 34,
     "metadata": {},
     "output_type": "execute_result"
    }
   ],
   "source": [
    "y.ndim"
   ]
  },
  {
   "cell_type": "code",
   "execution_count": 35,
   "id": "9cc682bf",
   "metadata": {
    "execution": {
     "iopub.execute_input": "2023-07-25T09:55:06.561884Z",
     "iopub.status.busy": "2023-07-25T09:55:06.561433Z",
     "iopub.status.idle": "2023-07-25T09:55:06.567737Z",
     "shell.execute_reply": "2023-07-25T09:55:06.566501Z"
    },
    "papermill": {
     "duration": 0.041148,
     "end_time": "2023-07-25T09:55:06.570217",
     "exception": false,
     "start_time": "2023-07-25T09:55:06.529069",
     "status": "completed"
    },
    "tags": []
   },
   "outputs": [],
   "source": [
    "# concatenate\n",
    "x = np.array([3, 4, 2])\n",
    "y = np.array([2, 6, 8])"
   ]
  },
  {
   "cell_type": "code",
   "execution_count": 36,
   "id": "4b24b153",
   "metadata": {
    "execution": {
     "iopub.execute_input": "2023-07-25T09:55:06.635764Z",
     "iopub.status.busy": "2023-07-25T09:55:06.635330Z",
     "iopub.status.idle": "2023-07-25T09:55:06.643068Z",
     "shell.execute_reply": "2023-07-25T09:55:06.641951Z"
    },
    "papermill": {
     "duration": 0.04445,
     "end_time": "2023-07-25T09:55:06.645502",
     "exception": false,
     "start_time": "2023-07-25T09:55:06.601052",
     "status": "completed"
    },
    "tags": []
   },
   "outputs": [
    {
     "data": {
      "text/plain": [
       "array([3, 4, 2, 2, 6, 8])"
      ]
     },
     "execution_count": 36,
     "metadata": {},
     "output_type": "execute_result"
    }
   ],
   "source": [
    "np.concatenate([x,y])"
   ]
  },
  {
   "cell_type": "code",
   "execution_count": 37,
   "id": "6239f6fa",
   "metadata": {
    "execution": {
     "iopub.execute_input": "2023-07-25T09:55:06.709539Z",
     "iopub.status.busy": "2023-07-25T09:55:06.709115Z",
     "iopub.status.idle": "2023-07-25T09:55:06.717477Z",
     "shell.execute_reply": "2023-07-25T09:55:06.716247Z"
    },
    "papermill": {
     "duration": 0.043009,
     "end_time": "2023-07-25T09:55:06.720014",
     "exception": false,
     "start_time": "2023-07-25T09:55:06.677005",
     "status": "completed"
    },
    "tags": []
   },
   "outputs": [
    {
     "data": {
      "text/plain": [
       "array([[1, 2, 3],\n",
       "       [4, 5, 6]])"
      ]
     },
     "execution_count": 37,
     "metadata": {},
     "output_type": "execute_result"
    }
   ],
   "source": [
    "x = np.array([[1, 2, 3],\n",
    "              [4, 5, 6]])\n",
    "x"
   ]
  },
  {
   "cell_type": "code",
   "execution_count": 38,
   "id": "164e9b78",
   "metadata": {
    "execution": {
     "iopub.execute_input": "2023-07-25T09:55:06.783969Z",
     "iopub.status.busy": "2023-07-25T09:55:06.783512Z",
     "iopub.status.idle": "2023-07-25T09:55:06.791149Z",
     "shell.execute_reply": "2023-07-25T09:55:06.789886Z"
    },
    "papermill": {
     "duration": 0.042408,
     "end_time": "2023-07-25T09:55:06.793460",
     "exception": false,
     "start_time": "2023-07-25T09:55:06.751052",
     "status": "completed"
    },
    "tags": []
   },
   "outputs": [
    {
     "data": {
      "text/plain": [
       "array([[1, 2, 3],\n",
       "       [4, 5, 6],\n",
       "       [1, 2, 3],\n",
       "       [4, 5, 6]])"
      ]
     },
     "execution_count": 38,
     "metadata": {},
     "output_type": "execute_result"
    }
   ],
   "source": [
    "np.concatenate([x, x])"
   ]
  },
  {
   "cell_type": "code",
   "execution_count": 39,
   "id": "9359ca8b",
   "metadata": {
    "execution": {
     "iopub.execute_input": "2023-07-25T09:55:06.858385Z",
     "iopub.status.busy": "2023-07-25T09:55:06.857934Z",
     "iopub.status.idle": "2023-07-25T09:55:06.864764Z",
     "shell.execute_reply": "2023-07-25T09:55:06.863755Z"
    },
    "papermill": {
     "duration": 0.041545,
     "end_time": "2023-07-25T09:55:06.866884",
     "exception": false,
     "start_time": "2023-07-25T09:55:06.825339",
     "status": "completed"
    },
    "tags": []
   },
   "outputs": [
    {
     "data": {
      "text/plain": [
       "array([[1, 2, 3, 1, 2, 3],\n",
       "       [4, 5, 6, 4, 5, 6]])"
      ]
     },
     "execution_count": 39,
     "metadata": {},
     "output_type": "execute_result"
    }
   ],
   "source": [
    "np.concatenate([x, x], axis = 1)"
   ]
  },
  {
   "cell_type": "code",
   "execution_count": 40,
   "id": "3a33f21a",
   "metadata": {
    "execution": {
     "iopub.execute_input": "2023-07-25T09:55:06.933321Z",
     "iopub.status.busy": "2023-07-25T09:55:06.932921Z",
     "iopub.status.idle": "2023-07-25T09:55:06.937654Z",
     "shell.execute_reply": "2023-07-25T09:55:06.936476Z"
    },
    "papermill": {
     "duration": 0.041102,
     "end_time": "2023-07-25T09:55:06.940157",
     "exception": false,
     "start_time": "2023-07-25T09:55:06.899055",
     "status": "completed"
    },
    "tags": []
   },
   "outputs": [],
   "source": [
    "# split"
   ]
  },
  {
   "cell_type": "code",
   "execution_count": 41,
   "id": "467a9e6d",
   "metadata": {
    "execution": {
     "iopub.execute_input": "2023-07-25T09:55:07.004479Z",
     "iopub.status.busy": "2023-07-25T09:55:07.004083Z",
     "iopub.status.idle": "2023-07-25T09:55:07.012170Z",
     "shell.execute_reply": "2023-07-25T09:55:07.010999Z"
    },
    "papermill": {
     "duration": 0.04327,
     "end_time": "2023-07-25T09:55:07.014610",
     "exception": false,
     "start_time": "2023-07-25T09:55:06.971340",
     "status": "completed"
    },
    "tags": []
   },
   "outputs": [
    {
     "data": {
      "text/plain": [
       "array([23, 45, 56, 67, 45, 12, 34])"
      ]
     },
     "execution_count": 41,
     "metadata": {},
     "output_type": "execute_result"
    }
   ],
   "source": [
    "x = np.array([23, 45, 56, 67, 45, 12, 34])\n",
    "x"
   ]
  },
  {
   "cell_type": "code",
   "execution_count": 42,
   "id": "52c5958e",
   "metadata": {
    "execution": {
     "iopub.execute_input": "2023-07-25T09:55:07.078593Z",
     "iopub.status.busy": "2023-07-25T09:55:07.078151Z",
     "iopub.status.idle": "2023-07-25T09:55:07.085768Z",
     "shell.execute_reply": "2023-07-25T09:55:07.084661Z"
    },
    "papermill": {
     "duration": 0.042725,
     "end_time": "2023-07-25T09:55:07.088482",
     "exception": false,
     "start_time": "2023-07-25T09:55:07.045757",
     "status": "completed"
    },
    "tags": []
   },
   "outputs": [
    {
     "data": {
      "text/plain": [
       "[array([23, 45]), array([56]), array([67, 45]), array([12, 34])]"
      ]
     },
     "execution_count": 42,
     "metadata": {},
     "output_type": "execute_result"
    }
   ],
   "source": [
    "np.split(x, [2, 3, 5])"
   ]
  },
  {
   "cell_type": "code",
   "execution_count": 43,
   "id": "818d8179",
   "metadata": {
    "execution": {
     "iopub.execute_input": "2023-07-25T09:55:07.152883Z",
     "iopub.status.busy": "2023-07-25T09:55:07.152456Z",
     "iopub.status.idle": "2023-07-25T09:55:07.158276Z",
     "shell.execute_reply": "2023-07-25T09:55:07.157002Z"
    },
    "papermill": {
     "duration": 0.040966,
     "end_time": "2023-07-25T09:55:07.160734",
     "exception": false,
     "start_time": "2023-07-25T09:55:07.119768",
     "status": "completed"
    },
    "tags": []
   },
   "outputs": [],
   "source": [
    "a, b, c, d = np.split(x, [2, 3, 5])"
   ]
  },
  {
   "cell_type": "code",
   "execution_count": 44,
   "id": "be525ecb",
   "metadata": {
    "execution": {
     "iopub.execute_input": "2023-07-25T09:55:07.225456Z",
     "iopub.status.busy": "2023-07-25T09:55:07.225025Z",
     "iopub.status.idle": "2023-07-25T09:55:07.232355Z",
     "shell.execute_reply": "2023-07-25T09:55:07.231194Z"
    },
    "papermill": {
     "duration": 0.042266,
     "end_time": "2023-07-25T09:55:07.234603",
     "exception": false,
     "start_time": "2023-07-25T09:55:07.192337",
     "status": "completed"
    },
    "tags": []
   },
   "outputs": [
    {
     "data": {
      "text/plain": [
       "array([23, 45])"
      ]
     },
     "execution_count": 44,
     "metadata": {},
     "output_type": "execute_result"
    }
   ],
   "source": [
    "a"
   ]
  },
  {
   "cell_type": "code",
   "execution_count": 45,
   "id": "97cdda34",
   "metadata": {
    "execution": {
     "iopub.execute_input": "2023-07-25T09:55:07.299830Z",
     "iopub.status.busy": "2023-07-25T09:55:07.299364Z",
     "iopub.status.idle": "2023-07-25T09:55:07.305767Z",
     "shell.execute_reply": "2023-07-25T09:55:07.304698Z"
    },
    "papermill": {
     "duration": 0.041884,
     "end_time": "2023-07-25T09:55:07.308455",
     "exception": false,
     "start_time": "2023-07-25T09:55:07.266571",
     "status": "completed"
    },
    "tags": []
   },
   "outputs": [
    {
     "data": {
      "text/plain": [
       "array([12, 34])"
      ]
     },
     "execution_count": 45,
     "metadata": {},
     "output_type": "execute_result"
    }
   ],
   "source": [
    "d"
   ]
  },
  {
   "cell_type": "code",
   "execution_count": 46,
   "id": "4a43a962",
   "metadata": {
    "execution": {
     "iopub.execute_input": "2023-07-25T09:55:07.373688Z",
     "iopub.status.busy": "2023-07-25T09:55:07.373293Z",
     "iopub.status.idle": "2023-07-25T09:55:07.381168Z",
     "shell.execute_reply": "2023-07-25T09:55:07.380000Z"
    },
    "papermill": {
     "duration": 0.043473,
     "end_time": "2023-07-25T09:55:07.383352",
     "exception": false,
     "start_time": "2023-07-25T09:55:07.339879",
     "status": "completed"
    },
    "tags": []
   },
   "outputs": [
    {
     "data": {
      "text/plain": [
       "array([[ 0,  1,  2,  3],\n",
       "       [ 4,  5,  6,  7],\n",
       "       [ 8,  9, 10, 11],\n",
       "       [12, 13, 14, 15]])"
      ]
     },
     "execution_count": 46,
     "metadata": {},
     "output_type": "execute_result"
    }
   ],
   "source": [
    "x = np.arange(16).reshape(4,4)\n",
    "x"
   ]
  },
  {
   "cell_type": "code",
   "execution_count": 47,
   "id": "93b23630",
   "metadata": {
    "execution": {
     "iopub.execute_input": "2023-07-25T09:55:07.448659Z",
     "iopub.status.busy": "2023-07-25T09:55:07.448260Z",
     "iopub.status.idle": "2023-07-25T09:55:07.455916Z",
     "shell.execute_reply": "2023-07-25T09:55:07.454687Z"
    },
    "papermill": {
     "duration": 0.043426,
     "end_time": "2023-07-25T09:55:07.458431",
     "exception": false,
     "start_time": "2023-07-25T09:55:07.415005",
     "status": "completed"
    },
    "tags": []
   },
   "outputs": [
    {
     "data": {
      "text/plain": [
       "[array([[0, 1, 2, 3],\n",
       "        [4, 5, 6, 7]]),\n",
       " array([[ 8,  9, 10, 11],\n",
       "        [12, 13, 14, 15]])]"
      ]
     },
     "execution_count": 47,
     "metadata": {},
     "output_type": "execute_result"
    }
   ],
   "source": [
    "np.vsplit(x, [2])"
   ]
  },
  {
   "cell_type": "code",
   "execution_count": 48,
   "id": "896ed572",
   "metadata": {
    "execution": {
     "iopub.execute_input": "2023-07-25T09:55:07.524303Z",
     "iopub.status.busy": "2023-07-25T09:55:07.523856Z",
     "iopub.status.idle": "2023-07-25T09:55:07.531873Z",
     "shell.execute_reply": "2023-07-25T09:55:07.530697Z"
    },
    "papermill": {
     "duration": 0.043826,
     "end_time": "2023-07-25T09:55:07.534357",
     "exception": false,
     "start_time": "2023-07-25T09:55:07.490531",
     "status": "completed"
    },
    "tags": []
   },
   "outputs": [
    {
     "data": {
      "text/plain": [
       "array([[ 0,  1,  2,  3],\n",
       "       [ 4,  5,  6,  7],\n",
       "       [ 8,  9, 10, 11]])"
      ]
     },
     "execution_count": 48,
     "metadata": {},
     "output_type": "execute_result"
    }
   ],
   "source": [
    "up, low = np.vsplit(x, [3])\n",
    "up"
   ]
  },
  {
   "cell_type": "code",
   "execution_count": 49,
   "id": "62d18696",
   "metadata": {
    "execution": {
     "iopub.execute_input": "2023-07-25T09:55:07.604668Z",
     "iopub.status.busy": "2023-07-25T09:55:07.604277Z",
     "iopub.status.idle": "2023-07-25T09:55:07.611478Z",
     "shell.execute_reply": "2023-07-25T09:55:07.610604Z"
    },
    "papermill": {
     "duration": 0.042879,
     "end_time": "2023-07-25T09:55:07.613617",
     "exception": false,
     "start_time": "2023-07-25T09:55:07.570738",
     "status": "completed"
    },
    "tags": []
   },
   "outputs": [
    {
     "data": {
      "text/plain": [
       "array([[12, 13, 14, 15]])"
      ]
     },
     "execution_count": 49,
     "metadata": {},
     "output_type": "execute_result"
    }
   ],
   "source": [
    "low"
   ]
  },
  {
   "cell_type": "code",
   "execution_count": 50,
   "id": "99a59b2d",
   "metadata": {
    "execution": {
     "iopub.execute_input": "2023-07-25T09:55:07.682823Z",
     "iopub.status.busy": "2023-07-25T09:55:07.682334Z",
     "iopub.status.idle": "2023-07-25T09:55:07.690197Z",
     "shell.execute_reply": "2023-07-25T09:55:07.689003Z"
    },
    "papermill": {
     "duration": 0.044337,
     "end_time": "2023-07-25T09:55:07.692722",
     "exception": false,
     "start_time": "2023-07-25T09:55:07.648385",
     "status": "completed"
    },
    "tags": []
   },
   "outputs": [
    {
     "data": {
      "text/plain": [
       "array([[ 0,  1,  2,  3],\n",
       "       [ 4,  5,  6,  7],\n",
       "       [ 8,  9, 10, 11],\n",
       "       [12, 13, 14, 15]])"
      ]
     },
     "execution_count": 50,
     "metadata": {},
     "output_type": "execute_result"
    }
   ],
   "source": [
    "x"
   ]
  },
  {
   "cell_type": "code",
   "execution_count": 51,
   "id": "1c034954",
   "metadata": {
    "execution": {
     "iopub.execute_input": "2023-07-25T09:55:07.773599Z",
     "iopub.status.busy": "2023-07-25T09:55:07.772295Z",
     "iopub.status.idle": "2023-07-25T09:55:07.784112Z",
     "shell.execute_reply": "2023-07-25T09:55:07.781560Z"
    },
    "papermill": {
     "duration": 0.061053,
     "end_time": "2023-07-25T09:55:07.788134",
     "exception": false,
     "start_time": "2023-07-25T09:55:07.727081",
     "status": "completed"
    },
    "tags": []
   },
   "outputs": [
    {
     "data": {
      "text/plain": [
       "[array([[ 0,  1],\n",
       "        [ 4,  5],\n",
       "        [ 8,  9],\n",
       "        [12, 13]]),\n",
       " array([[ 2,  3],\n",
       "        [ 6,  7],\n",
       "        [10, 11],\n",
       "        [14, 15]])]"
      ]
     },
     "execution_count": 51,
     "metadata": {},
     "output_type": "execute_result"
    }
   ],
   "source": [
    "np.hsplit(x, [2])"
   ]
  },
  {
   "cell_type": "code",
   "execution_count": 52,
   "id": "c2414406",
   "metadata": {
    "execution": {
     "iopub.execute_input": "2023-07-25T09:55:07.862970Z",
     "iopub.status.busy": "2023-07-25T09:55:07.862481Z",
     "iopub.status.idle": "2023-07-25T09:55:07.867563Z",
     "shell.execute_reply": "2023-07-25T09:55:07.866429Z"
    },
    "papermill": {
     "duration": 0.041595,
     "end_time": "2023-07-25T09:55:07.869799",
     "exception": false,
     "start_time": "2023-07-25T09:55:07.828204",
     "status": "completed"
    },
    "tags": []
   },
   "outputs": [],
   "source": [
    "# sorting"
   ]
  },
  {
   "cell_type": "code",
   "execution_count": 53,
   "id": "3ea51567",
   "metadata": {
    "execution": {
     "iopub.execute_input": "2023-07-25T09:55:07.939090Z",
     "iopub.status.busy": "2023-07-25T09:55:07.938616Z",
     "iopub.status.idle": "2023-07-25T09:55:07.946441Z",
     "shell.execute_reply": "2023-07-25T09:55:07.945161Z"
    },
    "papermill": {
     "duration": 0.044382,
     "end_time": "2023-07-25T09:55:07.948479",
     "exception": false,
     "start_time": "2023-07-25T09:55:07.904097",
     "status": "completed"
    },
    "tags": []
   },
   "outputs": [
    {
     "data": {
      "text/plain": [
       "array([223, 566, 421, 100])"
      ]
     },
     "execution_count": 53,
     "metadata": {},
     "output_type": "execute_result"
    }
   ],
   "source": [
    "x = np.array([223, 566, 421, 100])\n",
    "x"
   ]
  },
  {
   "cell_type": "code",
   "execution_count": 54,
   "id": "e081104d",
   "metadata": {
    "execution": {
     "iopub.execute_input": "2023-07-25T09:55:08.015547Z",
     "iopub.status.busy": "2023-07-25T09:55:08.015088Z",
     "iopub.status.idle": "2023-07-25T09:55:08.023407Z",
     "shell.execute_reply": "2023-07-25T09:55:08.022114Z"
    },
    "papermill": {
     "duration": 0.044483,
     "end_time": "2023-07-25T09:55:08.025605",
     "exception": false,
     "start_time": "2023-07-25T09:55:07.981122",
     "status": "completed"
    },
    "tags": []
   },
   "outputs": [
    {
     "data": {
      "text/plain": [
       "array([100, 223, 421, 566])"
      ]
     },
     "execution_count": 54,
     "metadata": {},
     "output_type": "execute_result"
    }
   ],
   "source": [
    "k = np.sort(x)\n",
    "k"
   ]
  },
  {
   "cell_type": "code",
   "execution_count": 55,
   "id": "0424370d",
   "metadata": {
    "execution": {
     "iopub.execute_input": "2023-07-25T09:55:08.095654Z",
     "iopub.status.busy": "2023-07-25T09:55:08.094578Z",
     "iopub.status.idle": "2023-07-25T09:55:08.102087Z",
     "shell.execute_reply": "2023-07-25T09:55:08.100992Z"
    },
    "papermill": {
     "duration": 0.045107,
     "end_time": "2023-07-25T09:55:08.104565",
     "exception": false,
     "start_time": "2023-07-25T09:55:08.059458",
     "status": "completed"
    },
    "tags": []
   },
   "outputs": [
    {
     "data": {
      "text/plain": [
       "array([223, 566, 421, 100])"
      ]
     },
     "execution_count": 55,
     "metadata": {},
     "output_type": "execute_result"
    }
   ],
   "source": [
    "x"
   ]
  },
  {
   "cell_type": "code",
   "execution_count": 56,
   "id": "5790e47d",
   "metadata": {
    "execution": {
     "iopub.execute_input": "2023-07-25T09:55:08.172644Z",
     "iopub.status.busy": "2023-07-25T09:55:08.172195Z",
     "iopub.status.idle": "2023-07-25T09:55:08.177309Z",
     "shell.execute_reply": "2023-07-25T09:55:08.176247Z"
    },
    "papermill": {
     "duration": 0.042017,
     "end_time": "2023-07-25T09:55:08.179779",
     "exception": false,
     "start_time": "2023-07-25T09:55:08.137762",
     "status": "completed"
    },
    "tags": []
   },
   "outputs": [],
   "source": [
    "x.sort()"
   ]
  },
  {
   "cell_type": "code",
   "execution_count": 57,
   "id": "2ccda418",
   "metadata": {
    "execution": {
     "iopub.execute_input": "2023-07-25T09:55:08.248883Z",
     "iopub.status.busy": "2023-07-25T09:55:08.247733Z",
     "iopub.status.idle": "2023-07-25T09:55:08.254899Z",
     "shell.execute_reply": "2023-07-25T09:55:08.253816Z"
    },
    "papermill": {
     "duration": 0.044055,
     "end_time": "2023-07-25T09:55:08.257184",
     "exception": false,
     "start_time": "2023-07-25T09:55:08.213129",
     "status": "completed"
    },
    "tags": []
   },
   "outputs": [
    {
     "data": {
      "text/plain": [
       "array([100, 223, 421, 566])"
      ]
     },
     "execution_count": 57,
     "metadata": {},
     "output_type": "execute_result"
    }
   ],
   "source": [
    "x"
   ]
  },
  {
   "cell_type": "code",
   "execution_count": 58,
   "id": "45da7709",
   "metadata": {
    "execution": {
     "iopub.execute_input": "2023-07-25T09:55:08.326506Z",
     "iopub.status.busy": "2023-07-25T09:55:08.325458Z",
     "iopub.status.idle": "2023-07-25T09:55:08.333694Z",
     "shell.execute_reply": "2023-07-25T09:55:08.332582Z"
    },
    "papermill": {
     "duration": 0.045505,
     "end_time": "2023-07-25T09:55:08.335953",
     "exception": false,
     "start_time": "2023-07-25T09:55:08.290448",
     "status": "completed"
    },
    "tags": []
   },
   "outputs": [
    {
     "data": {
      "text/plain": [
       "array([[19, 21, 45,  9, 86, 73, 56, 50, 77,  0],\n",
       "       [36, 19,  5,  4, 80, 36, 60, 64, 73, 83],\n",
       "       [92, 46, 11, 19, 30, 37, 67, 26,  8, 32],\n",
       "       [62, 36, 75, 34,  8, 73,  2, 51, 71, 91],\n",
       "       [61, 65, 18, 74, 53, 58, 60, 82, 90, 64],\n",
       "       [11, 80, 28, 63, 37, 92, 59, 62, 26, 95],\n",
       "       [75, 38, 48, 12, 81, 87, 81, 98, 57, 53],\n",
       "       [87, 86, 60,  7, 66, 95, 91, 59, 29,  9],\n",
       "       [42, 27, 82, 11, 13, 49, 84, 81, 24, 95],\n",
       "       [99, 23,  8, 15, 26, 53, 76, 66,  7, 35],\n",
       "       [51, 94, 54, 16, 88, 42, 13, 41,  3, 29],\n",
       "       [52, 15, 35, 17, 90, 83, 46, 12, 69, 48],\n",
       "       [36, 42, 53, 95, 25, 78, 15,  7,  6, 40],\n",
       "       [34, 72, 95,  9,  4, 73,  1, 15, 16,  4],\n",
       "       [83, 66, 94, 59, 16, 50, 87, 64, 89, 45],\n",
       "       [53, 69, 83, 20, 41, 26, 54, 81,  8, 88],\n",
       "       [77, 77, 62, 87, 60, 35, 32, 17, 83,  7],\n",
       "       [83, 74, 19, 80,  6, 34, 38, 64, 20, 97],\n",
       "       [33, 93, 59, 10, 39, 27, 36, 60, 74, 43],\n",
       "       [12, 53, 88, 45, 43, 78, 98, 90, 71, 29]])"
      ]
     },
     "execution_count": 58,
     "metadata": {},
     "output_type": "execute_result"
    }
   ],
   "source": [
    "v = np.random.randint(0,100, (20,10))\n",
    "v\n"
   ]
  },
  {
   "cell_type": "code",
   "execution_count": 59,
   "id": "acaeaaa6",
   "metadata": {
    "execution": {
     "iopub.execute_input": "2023-07-25T09:55:08.404276Z",
     "iopub.status.busy": "2023-07-25T09:55:08.403843Z",
     "iopub.status.idle": "2023-07-25T09:55:08.413156Z",
     "shell.execute_reply": "2023-07-25T09:55:08.411460Z"
    },
    "papermill": {
     "duration": 0.046634,
     "end_time": "2023-07-25T09:55:08.415848",
     "exception": false,
     "start_time": "2023-07-25T09:55:08.369214",
     "status": "completed"
    },
    "tags": []
   },
   "outputs": [
    {
     "data": {
      "text/plain": [
       "array([[ 0,  9, 19, 21, 45, 50, 56, 73, 77, 86],\n",
       "       [ 4,  5, 19, 36, 36, 60, 64, 73, 80, 83],\n",
       "       [ 8, 11, 19, 26, 30, 32, 37, 46, 67, 92],\n",
       "       [ 2,  8, 34, 36, 51, 62, 71, 73, 75, 91],\n",
       "       [18, 53, 58, 60, 61, 64, 65, 74, 82, 90],\n",
       "       [11, 26, 28, 37, 59, 62, 63, 80, 92, 95],\n",
       "       [12, 38, 48, 53, 57, 75, 81, 81, 87, 98],\n",
       "       [ 7,  9, 29, 59, 60, 66, 86, 87, 91, 95],\n",
       "       [11, 13, 24, 27, 42, 49, 81, 82, 84, 95],\n",
       "       [ 7,  8, 15, 23, 26, 35, 53, 66, 76, 99],\n",
       "       [ 3, 13, 16, 29, 41, 42, 51, 54, 88, 94],\n",
       "       [12, 15, 17, 35, 46, 48, 52, 69, 83, 90],\n",
       "       [ 6,  7, 15, 25, 36, 40, 42, 53, 78, 95],\n",
       "       [ 1,  4,  4,  9, 15, 16, 34, 72, 73, 95],\n",
       "       [16, 45, 50, 59, 64, 66, 83, 87, 89, 94],\n",
       "       [ 8, 20, 26, 41, 53, 54, 69, 81, 83, 88],\n",
       "       [ 7, 17, 32, 35, 60, 62, 77, 77, 83, 87],\n",
       "       [ 6, 19, 20, 34, 38, 64, 74, 80, 83, 97],\n",
       "       [10, 27, 33, 36, 39, 43, 59, 60, 74, 93],\n",
       "       [12, 29, 43, 45, 53, 71, 78, 88, 90, 98]])"
      ]
     },
     "execution_count": 59,
     "metadata": {},
     "output_type": "execute_result"
    }
   ],
   "source": [
    "sorted = np.sort(v)\n",
    "sorted"
   ]
  },
  {
   "cell_type": "code",
   "execution_count": 60,
   "id": "5bc660a7",
   "metadata": {
    "execution": {
     "iopub.execute_input": "2023-07-25T09:55:08.488185Z",
     "iopub.status.busy": "2023-07-25T09:55:08.487387Z",
     "iopub.status.idle": "2023-07-25T09:55:08.495808Z",
     "shell.execute_reply": "2023-07-25T09:55:08.494569Z"
    },
    "papermill": {
     "duration": 0.047372,
     "end_time": "2023-07-25T09:55:08.498153",
     "exception": false,
     "start_time": "2023-07-25T09:55:08.450781",
     "status": "completed"
    },
    "tags": []
   },
   "outputs": [
    {
     "data": {
      "text/plain": [
       "array([[11, 15,  5,  4,  4, 26,  1,  7,  3,  0],\n",
       "       [12, 19,  8,  7,  6, 27,  2, 12,  6,  4],\n",
       "       [19, 21, 11,  9,  8, 34, 13, 15,  7,  7],\n",
       "       [33, 23, 18,  9, 13, 35, 15, 17,  8,  9],\n",
       "       [34, 27, 19, 10, 16, 36, 32, 26,  8, 29],\n",
       "       [36, 36, 28, 11, 25, 37, 36, 41, 16, 29],\n",
       "       [36, 38, 35, 12, 26, 42, 38, 50, 20, 32],\n",
       "       [42, 42, 45, 15, 30, 49, 46, 51, 24, 35],\n",
       "       [51, 46, 48, 16, 37, 50, 54, 59, 26, 40],\n",
       "       [52, 53, 53, 17, 39, 53, 56, 60, 29, 43],\n",
       "       [53, 65, 54, 19, 41, 58, 59, 62, 57, 45],\n",
       "       [61, 66, 59, 20, 43, 73, 60, 64, 69, 48],\n",
       "       [62, 69, 60, 34, 53, 73, 60, 64, 71, 53],\n",
       "       [75, 72, 62, 45, 60, 73, 67, 64, 71, 64],\n",
       "       [77, 74, 75, 59, 66, 78, 76, 66, 73, 83],\n",
       "       [83, 77, 82, 63, 80, 78, 81, 81, 74, 88],\n",
       "       [83, 80, 83, 74, 81, 83, 84, 81, 77, 91],\n",
       "       [87, 86, 88, 80, 86, 87, 87, 82, 83, 95],\n",
       "       [92, 93, 94, 87, 88, 92, 91, 90, 89, 95],\n",
       "       [99, 94, 95, 95, 90, 95, 98, 98, 90, 97]])"
      ]
     },
     "execution_count": 60,
     "metadata": {},
     "output_type": "execute_result"
    }
   ],
   "source": [
    "sorted = np.sort(v, axis = 0)\n",
    "sorted"
   ]
  },
  {
   "cell_type": "code",
   "execution_count": 61,
   "id": "c3819990",
   "metadata": {
    "execution": {
     "iopub.execute_input": "2023-07-25T09:55:08.569203Z",
     "iopub.status.busy": "2023-07-25T09:55:08.568500Z",
     "iopub.status.idle": "2023-07-25T09:55:08.573725Z",
     "shell.execute_reply": "2023-07-25T09:55:08.572406Z"
    },
    "papermill": {
     "duration": 0.044049,
     "end_time": "2023-07-25T09:55:08.576809",
     "exception": false,
     "start_time": "2023-07-25T09:55:08.532760",
     "status": "completed"
    },
    "tags": []
   },
   "outputs": [],
   "source": [
    "import numpy as np"
   ]
  },
  {
   "cell_type": "code",
   "execution_count": 62,
   "id": "9df5a263",
   "metadata": {
    "execution": {
     "iopub.execute_input": "2023-07-25T09:55:08.649635Z",
     "iopub.status.busy": "2023-07-25T09:55:08.649192Z",
     "iopub.status.idle": "2023-07-25T09:55:08.654368Z",
     "shell.execute_reply": "2023-07-25T09:55:08.653174Z"
    },
    "papermill": {
     "duration": 0.04506,
     "end_time": "2023-07-25T09:55:08.656717",
     "exception": false,
     "start_time": "2023-07-25T09:55:08.611657",
     "status": "completed"
    },
    "tags": []
   },
   "outputs": [],
   "source": [
    "# indexing\n",
    "\n",
    "x = np.array([23, 45, 100, 0, -2])"
   ]
  },
  {
   "cell_type": "code",
   "execution_count": 63,
   "id": "4f078499",
   "metadata": {
    "execution": {
     "iopub.execute_input": "2023-07-25T09:55:08.726738Z",
     "iopub.status.busy": "2023-07-25T09:55:08.726288Z",
     "iopub.status.idle": "2023-07-25T09:55:08.733665Z",
     "shell.execute_reply": "2023-07-25T09:55:08.732413Z"
    },
    "papermill": {
     "duration": 0.045397,
     "end_time": "2023-07-25T09:55:08.736094",
     "exception": false,
     "start_time": "2023-07-25T09:55:08.690697",
     "status": "completed"
    },
    "tags": []
   },
   "outputs": [
    {
     "data": {
      "text/plain": [
       "23"
      ]
     },
     "execution_count": 63,
     "metadata": {},
     "output_type": "execute_result"
    }
   ],
   "source": [
    "x0 = x[0]\n",
    "x0"
   ]
  },
  {
   "cell_type": "code",
   "execution_count": 64,
   "id": "50839ec4",
   "metadata": {
    "execution": {
     "iopub.execute_input": "2023-07-25T09:55:08.806889Z",
     "iopub.status.busy": "2023-07-25T09:55:08.806132Z",
     "iopub.status.idle": "2023-07-25T09:55:08.813099Z",
     "shell.execute_reply": "2023-07-25T09:55:08.811773Z"
    },
    "papermill": {
     "duration": 0.044613,
     "end_time": "2023-07-25T09:55:08.815342",
     "exception": false,
     "start_time": "2023-07-25T09:55:08.770729",
     "status": "completed"
    },
    "tags": []
   },
   "outputs": [
    {
     "data": {
      "text/plain": [
       "100"
      ]
     },
     "execution_count": 64,
     "metadata": {},
     "output_type": "execute_result"
    }
   ],
   "source": [
    "x3 = x[2]\n",
    "x3"
   ]
  },
  {
   "cell_type": "code",
   "execution_count": 65,
   "id": "d80524ed",
   "metadata": {
    "execution": {
     "iopub.execute_input": "2023-07-25T09:55:08.885591Z",
     "iopub.status.busy": "2023-07-25T09:55:08.884613Z",
     "iopub.status.idle": "2023-07-25T09:55:08.891245Z",
     "shell.execute_reply": "2023-07-25T09:55:08.890358Z"
    },
    "papermill": {
     "duration": 0.044084,
     "end_time": "2023-07-25T09:55:08.893438",
     "exception": false,
     "start_time": "2023-07-25T09:55:08.849354",
     "status": "completed"
    },
    "tags": []
   },
   "outputs": [
    {
     "data": {
      "text/plain": [
       "-2"
      ]
     },
     "execution_count": 65,
     "metadata": {},
     "output_type": "execute_result"
    }
   ],
   "source": [
    "xl = x[-1]\n",
    "xl"
   ]
  },
  {
   "cell_type": "code",
   "execution_count": 66,
   "id": "3b6fc091",
   "metadata": {
    "execution": {
     "iopub.execute_input": "2023-07-25T09:55:08.964172Z",
     "iopub.status.busy": "2023-07-25T09:55:08.963416Z",
     "iopub.status.idle": "2023-07-25T09:55:08.969323Z",
     "shell.execute_reply": "2023-07-25T09:55:08.968527Z"
    },
    "papermill": {
     "duration": 0.04359,
     "end_time": "2023-07-25T09:55:08.971366",
     "exception": false,
     "start_time": "2023-07-25T09:55:08.927776",
     "status": "completed"
    },
    "tags": []
   },
   "outputs": [
    {
     "data": {
      "text/plain": [
       "array([ 23,  45, 100,   0,  -2])"
      ]
     },
     "execution_count": 66,
     "metadata": {},
     "output_type": "execute_result"
    }
   ],
   "source": [
    "x"
   ]
  },
  {
   "cell_type": "code",
   "execution_count": 67,
   "id": "b8005803",
   "metadata": {
    "execution": {
     "iopub.execute_input": "2023-07-25T09:55:09.041729Z",
     "iopub.status.busy": "2023-07-25T09:55:09.041318Z",
     "iopub.status.idle": "2023-07-25T09:55:09.048900Z",
     "shell.execute_reply": "2023-07-25T09:55:09.047552Z"
    },
    "papermill": {
     "duration": 0.045784,
     "end_time": "2023-07-25T09:55:09.051373",
     "exception": false,
     "start_time": "2023-07-25T09:55:09.005589",
     "status": "completed"
    },
    "tags": []
   },
   "outputs": [
    {
     "data": {
      "text/plain": [
       "array([1000,   45,  100,    0,   -2])"
      ]
     },
     "execution_count": 67,
     "metadata": {},
     "output_type": "execute_result"
    }
   ],
   "source": [
    "x[0] = 1000\n",
    "x"
   ]
  },
  {
   "cell_type": "code",
   "execution_count": 68,
   "id": "6349fca9",
   "metadata": {
    "execution": {
     "iopub.execute_input": "2023-07-25T09:55:09.122494Z",
     "iopub.status.busy": "2023-07-25T09:55:09.122093Z",
     "iopub.status.idle": "2023-07-25T09:55:09.129592Z",
     "shell.execute_reply": "2023-07-25T09:55:09.128409Z"
    },
    "papermill": {
     "duration": 0.045712,
     "end_time": "2023-07-25T09:55:09.131805",
     "exception": false,
     "start_time": "2023-07-25T09:55:09.086093",
     "status": "completed"
    },
    "tags": []
   },
   "outputs": [
    {
     "data": {
      "text/plain": [
       "array([[8, 2, 5, 5],\n",
       "       [6, 1, 5, 6],\n",
       "       [5, 4, 8, 1],\n",
       "       [8, 3, 9, 9]])"
      ]
     },
     "execution_count": 68,
     "metadata": {},
     "output_type": "execute_result"
    }
   ],
   "source": [
    "\n",
    "x = np.random.randint(10, size = (4, 4))\n",
    "x"
   ]
  },
  {
   "cell_type": "code",
   "execution_count": 69,
   "id": "05c04400",
   "metadata": {
    "execution": {
     "iopub.execute_input": "2023-07-25T09:55:09.203634Z",
     "iopub.status.busy": "2023-07-25T09:55:09.203211Z",
     "iopub.status.idle": "2023-07-25T09:55:09.211012Z",
     "shell.execute_reply": "2023-07-25T09:55:09.209747Z"
    },
    "papermill": {
     "duration": 0.046369,
     "end_time": "2023-07-25T09:55:09.213478",
     "exception": false,
     "start_time": "2023-07-25T09:55:09.167109",
     "status": "completed"
    },
    "tags": []
   },
   "outputs": [
    {
     "data": {
      "text/plain": [
       "8"
      ]
     },
     "execution_count": 69,
     "metadata": {},
     "output_type": "execute_result"
    }
   ],
   "source": [
    "x[0][0]"
   ]
  },
  {
   "cell_type": "code",
   "execution_count": 70,
   "id": "feceb9f8",
   "metadata": {
    "execution": {
     "iopub.execute_input": "2023-07-25T09:55:09.286829Z",
     "iopub.status.busy": "2023-07-25T09:55:09.286392Z",
     "iopub.status.idle": "2023-07-25T09:55:09.292618Z",
     "shell.execute_reply": "2023-07-25T09:55:09.291837Z"
    },
    "papermill": {
     "duration": 0.044641,
     "end_time": "2023-07-25T09:55:09.294737",
     "exception": false,
     "start_time": "2023-07-25T09:55:09.250096",
     "status": "completed"
    },
    "tags": []
   },
   "outputs": [
    {
     "data": {
      "text/plain": [
       "5"
      ]
     },
     "execution_count": 70,
     "metadata": {},
     "output_type": "execute_result"
    }
   ],
   "source": [
    "x[1][2]"
   ]
  },
  {
   "cell_type": "code",
   "execution_count": 71,
   "id": "360eee2d",
   "metadata": {
    "execution": {
     "iopub.execute_input": "2023-07-25T09:55:09.370108Z",
     "iopub.status.busy": "2023-07-25T09:55:09.368449Z",
     "iopub.status.idle": "2023-07-25T09:55:09.374536Z",
     "shell.execute_reply": "2023-07-25T09:55:09.373296Z"
    },
    "papermill": {
     "duration": 0.045566,
     "end_time": "2023-07-25T09:55:09.376987",
     "exception": false,
     "start_time": "2023-07-25T09:55:09.331421",
     "status": "completed"
    },
    "tags": []
   },
   "outputs": [],
   "source": [
    "x[1][2] = 99"
   ]
  },
  {
   "cell_type": "code",
   "execution_count": 72,
   "id": "83d70d34",
   "metadata": {
    "execution": {
     "iopub.execute_input": "2023-07-25T09:55:09.453532Z",
     "iopub.status.busy": "2023-07-25T09:55:09.453099Z",
     "iopub.status.idle": "2023-07-25T09:55:09.459893Z",
     "shell.execute_reply": "2023-07-25T09:55:09.458791Z"
    },
    "papermill": {
     "duration": 0.047923,
     "end_time": "2023-07-25T09:55:09.462424",
     "exception": false,
     "start_time": "2023-07-25T09:55:09.414501",
     "status": "completed"
    },
    "tags": []
   },
   "outputs": [
    {
     "data": {
      "text/plain": [
       "99"
      ]
     },
     "execution_count": 72,
     "metadata": {},
     "output_type": "execute_result"
    }
   ],
   "source": [
    "x[1][2]"
   ]
  },
  {
   "cell_type": "code",
   "execution_count": 73,
   "id": "e1306135",
   "metadata": {
    "execution": {
     "iopub.execute_input": "2023-07-25T09:55:09.534666Z",
     "iopub.status.busy": "2023-07-25T09:55:09.534219Z",
     "iopub.status.idle": "2023-07-25T09:55:09.541335Z",
     "shell.execute_reply": "2023-07-25T09:55:09.540210Z"
    },
    "papermill": {
     "duration": 0.046098,
     "end_time": "2023-07-25T09:55:09.543661",
     "exception": false,
     "start_time": "2023-07-25T09:55:09.497563",
     "status": "completed"
    },
    "tags": []
   },
   "outputs": [
    {
     "data": {
      "text/plain": [
       "array([[ 8,  2,  5,  5],\n",
       "       [ 6,  1, 99,  6],\n",
       "       [ 5,  4,  8,  1],\n",
       "       [ 8,  3,  9,  9]])"
      ]
     },
     "execution_count": 73,
     "metadata": {},
     "output_type": "execute_result"
    }
   ],
   "source": [
    "x"
   ]
  },
  {
   "cell_type": "code",
   "execution_count": 74,
   "id": "2951a430",
   "metadata": {
    "execution": {
     "iopub.execute_input": "2023-07-25T09:55:09.617671Z",
     "iopub.status.busy": "2023-07-25T09:55:09.617250Z",
     "iopub.status.idle": "2023-07-25T09:55:09.622630Z",
     "shell.execute_reply": "2023-07-25T09:55:09.621141Z"
    },
    "papermill": {
     "duration": 0.04572,
     "end_time": "2023-07-25T09:55:09.625107",
     "exception": false,
     "start_time": "2023-07-25T09:55:09.579387",
     "status": "completed"
    },
    "tags": []
   },
   "outputs": [],
   "source": [
    "# slicing"
   ]
  },
  {
   "cell_type": "code",
   "execution_count": 75,
   "id": "c65aa5ce",
   "metadata": {
    "execution": {
     "iopub.execute_input": "2023-07-25T09:55:09.702143Z",
     "iopub.status.busy": "2023-07-25T09:55:09.701704Z",
     "iopub.status.idle": "2023-07-25T09:55:09.709070Z",
     "shell.execute_reply": "2023-07-25T09:55:09.707948Z"
    },
    "papermill": {
     "duration": 0.047662,
     "end_time": "2023-07-25T09:55:09.711351",
     "exception": false,
     "start_time": "2023-07-25T09:55:09.663689",
     "status": "completed"
    },
    "tags": []
   },
   "outputs": [
    {
     "data": {
      "text/plain": [
       "array([ 1,  4,  5,  9,  2, 12])"
      ]
     },
     "execution_count": 75,
     "metadata": {},
     "output_type": "execute_result"
    }
   ],
   "source": [
    "x = np.array([1, 4, 5, 9, 2, 12])\n",
    "x"
   ]
  },
  {
   "cell_type": "code",
   "execution_count": 76,
   "id": "442ec149",
   "metadata": {
    "execution": {
     "iopub.execute_input": "2023-07-25T09:55:09.785427Z",
     "iopub.status.busy": "2023-07-25T09:55:09.785035Z",
     "iopub.status.idle": "2023-07-25T09:55:09.792416Z",
     "shell.execute_reply": "2023-07-25T09:55:09.791093Z"
    },
    "papermill": {
     "duration": 0.046998,
     "end_time": "2023-07-25T09:55:09.794665",
     "exception": false,
     "start_time": "2023-07-25T09:55:09.747667",
     "status": "completed"
    },
    "tags": []
   },
   "outputs": [
    {
     "data": {
      "text/plain": [
       "array([1, 4, 5])"
      ]
     },
     "execution_count": 76,
     "metadata": {},
     "output_type": "execute_result"
    }
   ],
   "source": [
    "x[:3]"
   ]
  },
  {
   "cell_type": "code",
   "execution_count": 77,
   "id": "11ca7261",
   "metadata": {
    "execution": {
     "iopub.execute_input": "2023-07-25T09:55:09.869974Z",
     "iopub.status.busy": "2023-07-25T09:55:09.868860Z",
     "iopub.status.idle": "2023-07-25T09:55:09.876401Z",
     "shell.execute_reply": "2023-07-25T09:55:09.875266Z"
    },
    "papermill": {
     "duration": 0.047279,
     "end_time": "2023-07-25T09:55:09.878982",
     "exception": false,
     "start_time": "2023-07-25T09:55:09.831703",
     "status": "completed"
    },
    "tags": []
   },
   "outputs": [
    {
     "data": {
      "text/plain": [
       "array([ 2, 12])"
      ]
     },
     "execution_count": 77,
     "metadata": {},
     "output_type": "execute_result"
    }
   ],
   "source": [
    "x[4:]"
   ]
  },
  {
   "cell_type": "code",
   "execution_count": 78,
   "id": "dd4cd25a",
   "metadata": {
    "execution": {
     "iopub.execute_input": "2023-07-25T09:55:09.953157Z",
     "iopub.status.busy": "2023-07-25T09:55:09.952756Z",
     "iopub.status.idle": "2023-07-25T09:55:09.958796Z",
     "shell.execute_reply": "2023-07-25T09:55:09.957985Z"
    },
    "papermill": {
     "duration": 0.045957,
     "end_time": "2023-07-25T09:55:09.961061",
     "exception": false,
     "start_time": "2023-07-25T09:55:09.915104",
     "status": "completed"
    },
    "tags": []
   },
   "outputs": [
    {
     "data": {
      "text/plain": [
       "array([1, 5, 2])"
      ]
     },
     "execution_count": 78,
     "metadata": {},
     "output_type": "execute_result"
    }
   ],
   "source": [
    "x[0::2]"
   ]
  },
  {
   "cell_type": "code",
   "execution_count": 79,
   "id": "dddec54f",
   "metadata": {
    "execution": {
     "iopub.execute_input": "2023-07-25T09:55:10.036072Z",
     "iopub.status.busy": "2023-07-25T09:55:10.034773Z",
     "iopub.status.idle": "2023-07-25T09:55:10.041800Z",
     "shell.execute_reply": "2023-07-25T09:55:10.040572Z"
    },
    "papermill": {
     "duration": 0.046949,
     "end_time": "2023-07-25T09:55:10.044174",
     "exception": false,
     "start_time": "2023-07-25T09:55:09.997225",
     "status": "completed"
    },
    "tags": []
   },
   "outputs": [
    {
     "data": {
      "text/plain": [
       "array([ 1,  4,  5,  9,  2, 12])"
      ]
     },
     "execution_count": 79,
     "metadata": {},
     "output_type": "execute_result"
    }
   ],
   "source": [
    "x[::]"
   ]
  },
  {
   "cell_type": "code",
   "execution_count": 80,
   "id": "f2f8c3c0",
   "metadata": {
    "execution": {
     "iopub.execute_input": "2023-07-25T09:55:10.117830Z",
     "iopub.status.busy": "2023-07-25T09:55:10.117409Z",
     "iopub.status.idle": "2023-07-25T09:55:10.125584Z",
     "shell.execute_reply": "2023-07-25T09:55:10.124278Z"
    },
    "papermill": {
     "duration": 0.047697,
     "end_time": "2023-07-25T09:55:10.127838",
     "exception": false,
     "start_time": "2023-07-25T09:55:10.080141",
     "status": "completed"
    },
    "tags": []
   },
   "outputs": [
    {
     "data": {
      "text/plain": [
       "array([[9, 7, 7, 3, 6],\n",
       "       [9, 1, 5, 0, 8],\n",
       "       [4, 8, 1, 6, 6],\n",
       "       [2, 9, 4, 5, 0],\n",
       "       [2, 2, 8, 1, 1]])"
      ]
     },
     "execution_count": 80,
     "metadata": {},
     "output_type": "execute_result"
    }
   ],
   "source": [
    "x = np.random.randint(10, size = (5, 5))\n",
    "x"
   ]
  },
  {
   "cell_type": "code",
   "execution_count": 81,
   "id": "7bccae58",
   "metadata": {
    "execution": {
     "iopub.execute_input": "2023-07-25T09:55:10.203103Z",
     "iopub.status.busy": "2023-07-25T09:55:10.201985Z",
     "iopub.status.idle": "2023-07-25T09:55:10.208370Z",
     "shell.execute_reply": "2023-07-25T09:55:10.207607Z"
    },
    "papermill": {
     "duration": 0.04654,
     "end_time": "2023-07-25T09:55:10.210685",
     "exception": false,
     "start_time": "2023-07-25T09:55:10.164145",
     "status": "completed"
    },
    "tags": []
   },
   "outputs": [
    {
     "data": {
      "text/plain": [
       "array([9, 9, 4, 2, 2])"
      ]
     },
     "execution_count": 81,
     "metadata": {},
     "output_type": "execute_result"
    }
   ],
   "source": [
    "x[:, 0]"
   ]
  },
  {
   "cell_type": "code",
   "execution_count": 82,
   "id": "35e60abe",
   "metadata": {
    "execution": {
     "iopub.execute_input": "2023-07-25T09:55:10.287841Z",
     "iopub.status.busy": "2023-07-25T09:55:10.286726Z",
     "iopub.status.idle": "2023-07-25T09:55:10.294525Z",
     "shell.execute_reply": "2023-07-25T09:55:10.293526Z"
    },
    "papermill": {
     "duration": 0.048502,
     "end_time": "2023-07-25T09:55:10.296727",
     "exception": false,
     "start_time": "2023-07-25T09:55:10.248225",
     "status": "completed"
    },
    "tags": []
   },
   "outputs": [
    {
     "data": {
      "text/plain": [
       "array([7, 1, 8, 9, 2])"
      ]
     },
     "execution_count": 82,
     "metadata": {},
     "output_type": "execute_result"
    }
   ],
   "source": [
    "x[:, 1]"
   ]
  },
  {
   "cell_type": "code",
   "execution_count": 83,
   "id": "ea9ee151",
   "metadata": {
    "execution": {
     "iopub.execute_input": "2023-07-25T09:55:10.373441Z",
     "iopub.status.busy": "2023-07-25T09:55:10.372738Z",
     "iopub.status.idle": "2023-07-25T09:55:10.379025Z",
     "shell.execute_reply": "2023-07-25T09:55:10.378198Z"
    },
    "papermill": {
     "duration": 0.046399,
     "end_time": "2023-07-25T09:55:10.381117",
     "exception": false,
     "start_time": "2023-07-25T09:55:10.334718",
     "status": "completed"
    },
    "tags": []
   },
   "outputs": [
    {
     "data": {
      "text/plain": [
       "array([9, 7, 7, 3, 6])"
      ]
     },
     "execution_count": 83,
     "metadata": {},
     "output_type": "execute_result"
    }
   ],
   "source": [
    "x[0, :]"
   ]
  },
  {
   "cell_type": "code",
   "execution_count": 84,
   "id": "fe67d227",
   "metadata": {
    "execution": {
     "iopub.execute_input": "2023-07-25T09:55:10.456632Z",
     "iopub.status.busy": "2023-07-25T09:55:10.456183Z",
     "iopub.status.idle": "2023-07-25T09:55:10.463229Z",
     "shell.execute_reply": "2023-07-25T09:55:10.462266Z"
    },
    "papermill": {
     "duration": 0.047441,
     "end_time": "2023-07-25T09:55:10.465414",
     "exception": false,
     "start_time": "2023-07-25T09:55:10.417973",
     "status": "completed"
    },
    "tags": []
   },
   "outputs": [
    {
     "data": {
      "text/plain": [
       "array([9, 7, 7, 3, 6])"
      ]
     },
     "execution_count": 84,
     "metadata": {},
     "output_type": "execute_result"
    }
   ],
   "source": [
    "x[0]"
   ]
  },
  {
   "cell_type": "code",
   "execution_count": 85,
   "id": "5c53f1f5",
   "metadata": {
    "execution": {
     "iopub.execute_input": "2023-07-25T09:55:10.540566Z",
     "iopub.status.busy": "2023-07-25T09:55:10.540117Z",
     "iopub.status.idle": "2023-07-25T09:55:10.547294Z",
     "shell.execute_reply": "2023-07-25T09:55:10.546452Z"
    },
    "papermill": {
     "duration": 0.047335,
     "end_time": "2023-07-25T09:55:10.549436",
     "exception": false,
     "start_time": "2023-07-25T09:55:10.502101",
     "status": "completed"
    },
    "tags": []
   },
   "outputs": [
    {
     "data": {
      "text/plain": [
       "array([[9, 7],\n",
       "       [9, 1]])"
      ]
     },
     "execution_count": 85,
     "metadata": {},
     "output_type": "execute_result"
    }
   ],
   "source": [
    "x[0:2, 0:2]"
   ]
  },
  {
   "cell_type": "code",
   "execution_count": 86,
   "id": "46e2b472",
   "metadata": {
    "execution": {
     "iopub.execute_input": "2023-07-25T09:55:10.627175Z",
     "iopub.status.busy": "2023-07-25T09:55:10.626246Z",
     "iopub.status.idle": "2023-07-25T09:55:10.634701Z",
     "shell.execute_reply": "2023-07-25T09:55:10.633459Z"
    },
    "papermill": {
     "duration": 0.049359,
     "end_time": "2023-07-25T09:55:10.637030",
     "exception": false,
     "start_time": "2023-07-25T09:55:10.587671",
     "status": "completed"
    },
    "tags": []
   },
   "outputs": [
    {
     "data": {
      "text/plain": [
       "array([[9, 7, 7, 3, 6],\n",
       "       [9, 1, 5, 0, 8],\n",
       "       [4, 8, 1, 6, 6],\n",
       "       [2, 9, 4, 5, 0]])"
      ]
     },
     "execution_count": 86,
     "metadata": {},
     "output_type": "execute_result"
    }
   ],
   "source": [
    "x[0:4, :]"
   ]
  },
  {
   "cell_type": "code",
   "execution_count": 87,
   "id": "33176c90",
   "metadata": {
    "execution": {
     "iopub.execute_input": "2023-07-25T09:55:10.715169Z",
     "iopub.status.busy": "2023-07-25T09:55:10.714075Z",
     "iopub.status.idle": "2023-07-25T09:55:10.722127Z",
     "shell.execute_reply": "2023-07-25T09:55:10.720827Z"
    },
    "papermill": {
     "duration": 0.048503,
     "end_time": "2023-07-25T09:55:10.724375",
     "exception": false,
     "start_time": "2023-07-25T09:55:10.675872",
     "status": "completed"
    },
    "tags": []
   },
   "outputs": [
    {
     "data": {
      "text/plain": [
       "array([[7, 3, 6],\n",
       "       [5, 0, 8],\n",
       "       [1, 6, 6],\n",
       "       [4, 5, 0]])"
      ]
     },
     "execution_count": 87,
     "metadata": {},
     "output_type": "execute_result"
    }
   ],
   "source": [
    "x[0:4, 2:]"
   ]
  },
  {
   "cell_type": "code",
   "execution_count": 88,
   "id": "12916b34",
   "metadata": {
    "execution": {
     "iopub.execute_input": "2023-07-25T09:55:10.802713Z",
     "iopub.status.busy": "2023-07-25T09:55:10.801650Z",
     "iopub.status.idle": "2023-07-25T09:55:10.809083Z",
     "shell.execute_reply": "2023-07-25T09:55:10.808143Z"
    },
    "papermill": {
     "duration": 0.049706,
     "end_time": "2023-07-25T09:55:10.811354",
     "exception": false,
     "start_time": "2023-07-25T09:55:10.761648",
     "status": "completed"
    },
    "tags": []
   },
   "outputs": [
    {
     "data": {
      "text/plain": [
       "array([[9, 7, 7, 3, 6],\n",
       "       [9, 1, 5, 0, 8],\n",
       "       [4, 8, 1, 6, 6],\n",
       "       [2, 9, 4, 5, 0],\n",
       "       [2, 2, 8, 1, 1]])"
      ]
     },
     "execution_count": 88,
     "metadata": {},
     "output_type": "execute_result"
    }
   ],
   "source": [
    "x"
   ]
  },
  {
   "cell_type": "code",
   "execution_count": 89,
   "id": "e9544c7a",
   "metadata": {
    "execution": {
     "iopub.execute_input": "2023-07-25T09:55:10.890221Z",
     "iopub.status.busy": "2023-07-25T09:55:10.889419Z",
     "iopub.status.idle": "2023-07-25T09:55:10.896883Z",
     "shell.execute_reply": "2023-07-25T09:55:10.895730Z"
    },
    "papermill": {
     "duration": 0.049697,
     "end_time": "2023-07-25T09:55:10.899396",
     "exception": false,
     "start_time": "2023-07-25T09:55:10.849699",
     "status": "completed"
    },
    "tags": []
   },
   "outputs": [
    {
     "data": {
      "text/plain": [
       "array([[9, 7, 7],\n",
       "       [9, 1, 5]])"
      ]
     },
     "execution_count": 89,
     "metadata": {},
     "output_type": "execute_result"
    }
   ],
   "source": [
    "y = x[0:2, 0:3].copy()\n",
    "y"
   ]
  }
 ],
 "metadata": {
  "kernelspec": {
   "display_name": "Python 3",
   "language": "python",
   "name": "python3"
  },
  "language_info": {
   "codemirror_mode": {
    "name": "ipython",
    "version": 3
   },
   "file_extension": ".py",
   "mimetype": "text/x-python",
   "name": "python",
   "nbconvert_exporter": "python",
   "pygments_lexer": "ipython3",
   "version": "3.10.12"
  },
  "papermill": {
   "default_parameters": {},
   "duration": 21.147199,
   "end_time": "2023-07-25T09:55:11.860849",
   "environment_variables": {},
   "exception": null,
   "input_path": "__notebook__.ipynb",
   "output_path": "__notebook__.ipynb",
   "parameters": {},
   "start_time": "2023-07-25T09:54:50.713650",
   "version": "2.4.0"
  }
 },
 "nbformat": 4,
 "nbformat_minor": 5
}
