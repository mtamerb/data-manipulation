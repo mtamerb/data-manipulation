{
 "cells": [
  {
   "cell_type": "markdown",
   "id": "5f314b32",
   "metadata": {
    "papermill": {
     "duration": 0.018974,
     "end_time": "2023-07-24T22:23:28.409183",
     "exception": false,
     "start_time": "2023-07-24T22:23:28.390209",
     "status": "completed"
    },
    "tags": []
   },
   "source": [
    "# Numpy"
   ]
  },
  {
   "cell_type": "code",
   "execution_count": 1,
   "id": "89dd6c53",
   "metadata": {
    "execution": {
     "iopub.execute_input": "2023-07-24T22:23:28.447946Z",
     "iopub.status.busy": "2023-07-24T22:23:28.447541Z",
     "iopub.status.idle": "2023-07-24T22:23:28.462998Z",
     "shell.execute_reply": "2023-07-24T22:23:28.461868Z"
    },
    "papermill": {
     "duration": 0.037524,
     "end_time": "2023-07-24T22:23:28.465407",
     "exception": false,
     "start_time": "2023-07-24T22:23:28.427883",
     "status": "completed"
    },
    "tags": []
   },
   "outputs": [
    {
     "data": {
      "text/plain": [
       "[1, 3, 5]"
      ]
     },
     "execution_count": 1,
     "metadata": {},
     "output_type": "execute_result"
    }
   ],
   "source": [
    "x = [1, 3, 5]\n",
    "y = [7, 4, 0]\n",
    "x"
   ]
  },
  {
   "cell_type": "code",
   "execution_count": 2,
   "id": "2cac2499",
   "metadata": {
    "execution": {
     "iopub.execute_input": "2023-07-24T22:23:28.505817Z",
     "iopub.status.busy": "2023-07-24T22:23:28.504881Z",
     "iopub.status.idle": "2023-07-24T22:23:28.512687Z",
     "shell.execute_reply": "2023-07-24T22:23:28.511518Z"
    },
    "papermill": {
     "duration": 0.030046,
     "end_time": "2023-07-24T22:23:28.515150",
     "exception": false,
     "start_time": "2023-07-24T22:23:28.485104",
     "status": "completed"
    },
    "tags": []
   },
   "outputs": [
    {
     "data": {
      "text/plain": [
       "[7, 4, 0]"
      ]
     },
     "execution_count": 2,
     "metadata": {},
     "output_type": "execute_result"
    }
   ],
   "source": [
    "y"
   ]
  },
  {
   "cell_type": "code",
   "execution_count": 3,
   "id": "9f8d55aa",
   "metadata": {
    "execution": {
     "iopub.execute_input": "2023-07-24T22:23:28.556690Z",
     "iopub.status.busy": "2023-07-24T22:23:28.555997Z",
     "iopub.status.idle": "2023-07-24T22:23:28.560164Z",
     "shell.execute_reply": "2023-07-24T22:23:28.559276Z"
    },
    "papermill": {
     "duration": 0.027968,
     "end_time": "2023-07-24T22:23:28.562580",
     "exception": false,
     "start_time": "2023-07-24T22:23:28.534612",
     "status": "completed"
    },
    "tags": []
   },
   "outputs": [],
   "source": [
    "import numpy as np"
   ]
  },
  {
   "cell_type": "code",
   "execution_count": 4,
   "id": "fd710d07",
   "metadata": {
    "execution": {
     "iopub.execute_input": "2023-07-24T22:23:28.605061Z",
     "iopub.status.busy": "2023-07-24T22:23:28.604334Z",
     "iopub.status.idle": "2023-07-24T22:23:28.609136Z",
     "shell.execute_reply": "2023-07-24T22:23:28.608244Z"
    },
    "papermill": {
     "duration": 0.030227,
     "end_time": "2023-07-24T22:23:28.611466",
     "exception": false,
     "start_time": "2023-07-24T22:23:28.581239",
     "status": "completed"
    },
    "tags": []
   },
   "outputs": [],
   "source": [
    "# x = [1, 3, 5]\n",
    "# y = [7, 4, 0]\n",
    "\n",
    "x = np.array(x)\n",
    "y = np.array(y)\n"
   ]
  },
  {
   "cell_type": "code",
   "execution_count": 5,
   "id": "1eb14f47",
   "metadata": {
    "execution": {
     "iopub.execute_input": "2023-07-24T22:23:28.652431Z",
     "iopub.status.busy": "2023-07-24T22:23:28.651753Z",
     "iopub.status.idle": "2023-07-24T22:23:28.661919Z",
     "shell.execute_reply": "2023-07-24T22:23:28.660769Z"
    },
    "papermill": {
     "duration": 0.034174,
     "end_time": "2023-07-24T22:23:28.664308",
     "exception": false,
     "start_time": "2023-07-24T22:23:28.630134",
     "status": "completed"
    },
    "tags": []
   },
   "outputs": [
    {
     "data": {
      "text/plain": [
       "array([ 7, 12,  0])"
      ]
     },
     "execution_count": 5,
     "metadata": {},
     "output_type": "execute_result"
    }
   ],
   "source": [
    " x * y"
   ]
  },
  {
   "cell_type": "code",
   "execution_count": 6,
   "id": "78e55349",
   "metadata": {
    "execution": {
     "iopub.execute_input": "2023-07-24T22:23:28.704455Z",
     "iopub.status.busy": "2023-07-24T22:23:28.703316Z",
     "iopub.status.idle": "2023-07-24T22:23:28.710846Z",
     "shell.execute_reply": "2023-07-24T22:23:28.709762Z"
    },
    "papermill": {
     "duration": 0.030419,
     "end_time": "2023-07-24T22:23:28.713298",
     "exception": false,
     "start_time": "2023-07-24T22:23:28.682879",
     "status": "completed"
    },
    "tags": []
   },
   "outputs": [
    {
     "data": {
      "text/plain": [
       "array([-5,  2, 10])"
      ]
     },
     "execution_count": 6,
     "metadata": {},
     "output_type": "execute_result"
    }
   ],
   "source": [
    "2 * x - y"
   ]
  },
  {
   "cell_type": "code",
   "execution_count": 7,
   "id": "1d463340",
   "metadata": {
    "execution": {
     "iopub.execute_input": "2023-07-24T22:23:28.753562Z",
     "iopub.status.busy": "2023-07-24T22:23:28.752792Z",
     "iopub.status.idle": "2023-07-24T22:23:28.759334Z",
     "shell.execute_reply": "2023-07-24T22:23:28.758446Z"
    },
    "papermill": {
     "duration": 0.029021,
     "end_time": "2023-07-24T22:23:28.761639",
     "exception": false,
     "start_time": "2023-07-24T22:23:28.732618",
     "status": "completed"
    },
    "tags": []
   },
   "outputs": [
    {
     "data": {
      "text/plain": [
       "array([100,  80,  40])"
      ]
     },
     "execution_count": 7,
     "metadata": {},
     "output_type": "execute_result"
    }
   ],
   "source": [
    "np.array([100, 80, 40])"
   ]
  },
  {
   "cell_type": "code",
   "execution_count": 8,
   "id": "7ada6a80",
   "metadata": {
    "execution": {
     "iopub.execute_input": "2023-07-24T22:23:28.801953Z",
     "iopub.status.busy": "2023-07-24T22:23:28.801158Z",
     "iopub.status.idle": "2023-07-24T22:23:28.808025Z",
     "shell.execute_reply": "2023-07-24T22:23:28.806928Z"
    },
    "papermill": {
     "duration": 0.02982,
     "end_time": "2023-07-24T22:23:28.810414",
     "exception": false,
     "start_time": "2023-07-24T22:23:28.780594",
     "status": "completed"
    },
    "tags": []
   },
   "outputs": [
    {
     "data": {
      "text/plain": [
       "numpy.ndarray"
      ]
     },
     "execution_count": 8,
     "metadata": {},
     "output_type": "execute_result"
    }
   ],
   "source": [
    "k = np.array([34, 23, 89])\n",
    "type(k)"
   ]
  },
  {
   "cell_type": "code",
   "execution_count": 9,
   "id": "26748320",
   "metadata": {
    "execution": {
     "iopub.execute_input": "2023-07-24T22:23:28.851089Z",
     "iopub.status.busy": "2023-07-24T22:23:28.850359Z",
     "iopub.status.idle": "2023-07-24T22:23:28.857921Z",
     "shell.execute_reply": "2023-07-24T22:23:28.856801Z"
    },
    "papermill": {
     "duration": 0.031084,
     "end_time": "2023-07-24T22:23:28.860364",
     "exception": false,
     "start_time": "2023-07-24T22:23:28.829280",
     "status": "completed"
    },
    "tags": []
   },
   "outputs": [
    {
     "data": {
      "text/plain": [
       "array([ 2,  5,  6, 10])"
      ]
     },
     "execution_count": 9,
     "metadata": {},
     "output_type": "execute_result"
    }
   ],
   "source": [
    "np.array([2.3, 5, 6.9, 10], dtype = \"int\")"
   ]
  },
  {
   "cell_type": "code",
   "execution_count": 10,
   "id": "85899e50",
   "metadata": {
    "execution": {
     "iopub.execute_input": "2023-07-24T22:23:28.901947Z",
     "iopub.status.busy": "2023-07-24T22:23:28.901061Z",
     "iopub.status.idle": "2023-07-24T22:23:28.908853Z",
     "shell.execute_reply": "2023-07-24T22:23:28.907710Z"
    },
    "papermill": {
     "duration": 0.031831,
     "end_time": "2023-07-24T22:23:28.911306",
     "exception": false,
     "start_time": "2023-07-24T22:23:28.879475",
     "status": "completed"
    },
    "tags": []
   },
   "outputs": [
    {
     "data": {
      "text/plain": [
       "array([0., 0., 0., 0., 0., 0., 0., 0., 0., 0.])"
      ]
     },
     "execution_count": 10,
     "metadata": {},
     "output_type": "execute_result"
    }
   ],
   "source": [
    "np.zeros(10)"
   ]
  },
  {
   "cell_type": "code",
   "execution_count": 11,
   "id": "63d87167",
   "metadata": {
    "execution": {
     "iopub.execute_input": "2023-07-24T22:23:28.951693Z",
     "iopub.status.busy": "2023-07-24T22:23:28.951247Z",
     "iopub.status.idle": "2023-07-24T22:23:28.959135Z",
     "shell.execute_reply": "2023-07-24T22:23:28.957929Z"
    },
    "papermill": {
     "duration": 0.031145,
     "end_time": "2023-07-24T22:23:28.961542",
     "exception": false,
     "start_time": "2023-07-24T22:23:28.930397",
     "status": "completed"
    },
    "tags": []
   },
   "outputs": [
    {
     "data": {
      "text/plain": [
       "array([0, 0, 0, 0, 0, 0, 0, 0, 0, 0])"
      ]
     },
     "execution_count": 11,
     "metadata": {},
     "output_type": "execute_result"
    }
   ],
   "source": [
    "np.zeros(10, dtype = \"int\")"
   ]
  },
  {
   "cell_type": "code",
   "execution_count": 12,
   "id": "7766a561",
   "metadata": {
    "execution": {
     "iopub.execute_input": "2023-07-24T22:23:29.002854Z",
     "iopub.status.busy": "2023-07-24T22:23:29.002414Z",
     "iopub.status.idle": "2023-07-24T22:23:29.010176Z",
     "shell.execute_reply": "2023-07-24T22:23:29.009078Z"
    },
    "papermill": {
     "duration": 0.031066,
     "end_time": "2023-07-24T22:23:29.012378",
     "exception": false,
     "start_time": "2023-07-24T22:23:28.981312",
     "status": "completed"
    },
    "tags": []
   },
   "outputs": [
    {
     "data": {
      "text/plain": [
       "array([[1, 1, 1, 1],\n",
       "       [1, 1, 1, 1],\n",
       "       [1, 1, 1, 1],\n",
       "       [1, 1, 1, 1]])"
      ]
     },
     "execution_count": 12,
     "metadata": {},
     "output_type": "execute_result"
    }
   ],
   "source": [
    "np.ones((4,4), dtype = \"int\")"
   ]
  },
  {
   "cell_type": "code",
   "execution_count": 13,
   "id": "3fb31854",
   "metadata": {
    "execution": {
     "iopub.execute_input": "2023-07-24T22:23:29.054012Z",
     "iopub.status.busy": "2023-07-24T22:23:29.053605Z",
     "iopub.status.idle": "2023-07-24T22:23:29.060588Z",
     "shell.execute_reply": "2023-07-24T22:23:29.059653Z"
    },
    "papermill": {
     "duration": 0.030522,
     "end_time": "2023-07-24T22:23:29.062897",
     "exception": false,
     "start_time": "2023-07-24T22:23:29.032375",
     "status": "completed"
    },
    "tags": []
   },
   "outputs": [
    {
     "data": {
      "text/plain": [
       "array([[9, 9, 9],\n",
       "       [9, 9, 9],\n",
       "       [9, 9, 9]])"
      ]
     },
     "execution_count": 13,
     "metadata": {},
     "output_type": "execute_result"
    }
   ],
   "source": [
    "np.full((3,3), 9)"
   ]
  },
  {
   "cell_type": "code",
   "execution_count": 14,
   "id": "92f67026",
   "metadata": {
    "execution": {
     "iopub.execute_input": "2023-07-24T22:23:29.103922Z",
     "iopub.status.busy": "2023-07-24T22:23:29.103394Z",
     "iopub.status.idle": "2023-07-24T22:23:29.111551Z",
     "shell.execute_reply": "2023-07-24T22:23:29.110395Z"
    },
    "papermill": {
     "duration": 0.031415,
     "end_time": "2023-07-24T22:23:29.113922",
     "exception": false,
     "start_time": "2023-07-24T22:23:29.082507",
     "status": "completed"
    },
    "tags": []
   },
   "outputs": [
    {
     "data": {
      "text/plain": [
       "array([ 0, 10, 20, 30, 40, 50, 60, 70, 80, 90])"
      ]
     },
     "execution_count": 14,
     "metadata": {},
     "output_type": "execute_result"
    }
   ],
   "source": [
    "np.arange(0, 100, 10)"
   ]
  },
  {
   "cell_type": "code",
   "execution_count": 15,
   "id": "72a58773",
   "metadata": {
    "execution": {
     "iopub.execute_input": "2023-07-24T22:23:29.155604Z",
     "iopub.status.busy": "2023-07-24T22:23:29.155192Z",
     "iopub.status.idle": "2023-07-24T22:23:29.163573Z",
     "shell.execute_reply": "2023-07-24T22:23:29.162065Z"
    },
    "papermill": {
     "duration": 0.032391,
     "end_time": "2023-07-24T22:23:29.166055",
     "exception": false,
     "start_time": "2023-07-24T22:23:29.133664",
     "status": "completed"
    },
    "tags": []
   },
   "outputs": [
    {
     "data": {
      "text/plain": [
       "array([  0.        ,  11.11111111,  22.22222222,  33.33333333,\n",
       "        44.44444444,  55.55555556,  66.66666667,  77.77777778,\n",
       "        88.88888889, 100.        ])"
      ]
     },
     "execution_count": 15,
     "metadata": {},
     "output_type": "execute_result"
    }
   ],
   "source": [
    "np.linspace(0, 100, 10)"
   ]
  },
  {
   "cell_type": "code",
   "execution_count": 16,
   "id": "58ccecb7",
   "metadata": {
    "execution": {
     "iopub.execute_input": "2023-07-24T22:23:29.208814Z",
     "iopub.status.busy": "2023-07-24T22:23:29.208378Z",
     "iopub.status.idle": "2023-07-24T22:23:29.216424Z",
     "shell.execute_reply": "2023-07-24T22:23:29.215205Z"
    },
    "papermill": {
     "duration": 0.032842,
     "end_time": "2023-07-24T22:23:29.219071",
     "exception": false,
     "start_time": "2023-07-24T22:23:29.186229",
     "status": "completed"
    },
    "tags": []
   },
   "outputs": [
    {
     "data": {
      "text/plain": [
       "array([[8.21955863, 9.21712966],\n",
       "       [9.46434805, 9.34182893]])"
      ]
     },
     "execution_count": 16,
     "metadata": {},
     "output_type": "execute_result"
    }
   ],
   "source": [
    "np.random.normal(10, 1, (2,2))  # ort - sapma - size"
   ]
  },
  {
   "cell_type": "code",
   "execution_count": 17,
   "id": "e702c63e",
   "metadata": {
    "execution": {
     "iopub.execute_input": "2023-07-24T22:23:29.262141Z",
     "iopub.status.busy": "2023-07-24T22:23:29.261698Z",
     "iopub.status.idle": "2023-07-24T22:23:29.268628Z",
     "shell.execute_reply": "2023-07-24T22:23:29.267695Z"
    },
    "papermill": {
     "duration": 0.03151,
     "end_time": "2023-07-24T22:23:29.270843",
     "exception": false,
     "start_time": "2023-07-24T22:23:29.239333",
     "status": "completed"
    },
    "tags": []
   },
   "outputs": [
    {
     "data": {
      "text/plain": [
       "array([[8, 9],\n",
       "       [2, 2]])"
      ]
     },
     "execution_count": 17,
     "metadata": {},
     "output_type": "execute_result"
    }
   ],
   "source": [
    "np.random.randint(0, 10, (2,2))"
   ]
  },
  {
   "cell_type": "code",
   "execution_count": 18,
   "id": "39252e8b",
   "metadata": {
    "execution": {
     "iopub.execute_input": "2023-07-24T22:23:29.314561Z",
     "iopub.status.busy": "2023-07-24T22:23:29.314003Z",
     "iopub.status.idle": "2023-07-24T22:23:29.318835Z",
     "shell.execute_reply": "2023-07-24T22:23:29.317454Z"
    },
    "papermill": {
     "duration": 0.030374,
     "end_time": "2023-07-24T22:23:29.321615",
     "exception": false,
     "start_time": "2023-07-24T22:23:29.291241",
     "status": "completed"
    },
    "tags": []
   },
   "outputs": [],
   "source": [
    "# attr\n",
    "\n",
    "# ndim: Number of array dimensions, shape: array dimensions, size: Number of elements in the array, dtype: data type"
   ]
  },
  {
   "cell_type": "code",
   "execution_count": 19,
   "id": "ff106c01",
   "metadata": {
    "execution": {
     "iopub.execute_input": "2023-07-24T22:23:29.364127Z",
     "iopub.status.busy": "2023-07-24T22:23:29.363582Z",
     "iopub.status.idle": "2023-07-24T22:23:29.369400Z",
     "shell.execute_reply": "2023-07-24T22:23:29.368377Z"
    },
    "papermill": {
     "duration": 0.030038,
     "end_time": "2023-07-24T22:23:29.371961",
     "exception": false,
     "start_time": "2023-07-24T22:23:29.341923",
     "status": "completed"
    },
    "tags": []
   },
   "outputs": [],
   "source": [
    "a = np.random.randint(10, size = 10)"
   ]
  },
  {
   "cell_type": "code",
   "execution_count": 20,
   "id": "7f2c8808",
   "metadata": {
    "execution": {
     "iopub.execute_input": "2023-07-24T22:23:29.414644Z",
     "iopub.status.busy": "2023-07-24T22:23:29.414175Z",
     "iopub.status.idle": "2023-07-24T22:23:29.421464Z",
     "shell.execute_reply": "2023-07-24T22:23:29.420444Z"
    },
    "papermill": {
     "duration": 0.031463,
     "end_time": "2023-07-24T22:23:29.423938",
     "exception": false,
     "start_time": "2023-07-24T22:23:29.392475",
     "status": "completed"
    },
    "tags": []
   },
   "outputs": [
    {
     "data": {
      "text/plain": [
       "1"
      ]
     },
     "execution_count": 20,
     "metadata": {},
     "output_type": "execute_result"
    }
   ],
   "source": [
    "a.ndim"
   ]
  },
  {
   "cell_type": "code",
   "execution_count": 21,
   "id": "b43dd8d7",
   "metadata": {
    "execution": {
     "iopub.execute_input": "2023-07-24T22:23:29.466739Z",
     "iopub.status.busy": "2023-07-24T22:23:29.466325Z",
     "iopub.status.idle": "2023-07-24T22:23:29.473373Z",
     "shell.execute_reply": "2023-07-24T22:23:29.472246Z"
    },
    "papermill": {
     "duration": 0.031675,
     "end_time": "2023-07-24T22:23:29.476095",
     "exception": false,
     "start_time": "2023-07-24T22:23:29.444420",
     "status": "completed"
    },
    "tags": []
   },
   "outputs": [
    {
     "data": {
      "text/plain": [
       "(10,)"
      ]
     },
     "execution_count": 21,
     "metadata": {},
     "output_type": "execute_result"
    }
   ],
   "source": [
    "a.shape"
   ]
  },
  {
   "cell_type": "code",
   "execution_count": 22,
   "id": "d33811f4",
   "metadata": {
    "execution": {
     "iopub.execute_input": "2023-07-24T22:23:29.519516Z",
     "iopub.status.busy": "2023-07-24T22:23:29.519102Z",
     "iopub.status.idle": "2023-07-24T22:23:29.526937Z",
     "shell.execute_reply": "2023-07-24T22:23:29.525753Z"
    },
    "papermill": {
     "duration": 0.032712,
     "end_time": "2023-07-24T22:23:29.529745",
     "exception": false,
     "start_time": "2023-07-24T22:23:29.497033",
     "status": "completed"
    },
    "tags": []
   },
   "outputs": [
    {
     "data": {
      "text/plain": [
       "10"
      ]
     },
     "execution_count": 22,
     "metadata": {},
     "output_type": "execute_result"
    }
   ],
   "source": [
    "a.size"
   ]
  },
  {
   "cell_type": "code",
   "execution_count": 23,
   "id": "c59364d3",
   "metadata": {
    "execution": {
     "iopub.execute_input": "2023-07-24T22:23:29.573173Z",
     "iopub.status.busy": "2023-07-24T22:23:29.572754Z",
     "iopub.status.idle": "2023-07-24T22:23:29.579729Z",
     "shell.execute_reply": "2023-07-24T22:23:29.578512Z"
    },
    "papermill": {
     "duration": 0.031753,
     "end_time": "2023-07-24T22:23:29.582256",
     "exception": false,
     "start_time": "2023-07-24T22:23:29.550503",
     "status": "completed"
    },
    "tags": []
   },
   "outputs": [
    {
     "data": {
      "text/plain": [
       "dtype('int64')"
      ]
     },
     "execution_count": 23,
     "metadata": {},
     "output_type": "execute_result"
    }
   ],
   "source": [
    "a.dtype"
   ]
  },
  {
   "cell_type": "code",
   "execution_count": 24,
   "id": "e7061d09",
   "metadata": {
    "execution": {
     "iopub.execute_input": "2023-07-24T22:23:29.628021Z",
     "iopub.status.busy": "2023-07-24T22:23:29.627594Z",
     "iopub.status.idle": "2023-07-24T22:23:29.636046Z",
     "shell.execute_reply": "2023-07-24T22:23:29.634614Z"
    },
    "papermill": {
     "duration": 0.033292,
     "end_time": "2023-07-24T22:23:29.638357",
     "exception": false,
     "start_time": "2023-07-24T22:23:29.605065",
     "status": "completed"
    },
    "tags": []
   },
   "outputs": [
    {
     "data": {
      "text/plain": [
       "array([[6, 6, 4, 9],\n",
       "       [3, 7, 1, 8],\n",
       "       [5, 9, 2, 9],\n",
       "       [2, 5, 8, 6]])"
      ]
     },
     "execution_count": 24,
     "metadata": {},
     "output_type": "execute_result"
    }
   ],
   "source": [
    "b = np.random.randint(10, size = (4, 4))\n",
    "b"
   ]
  },
  {
   "cell_type": "code",
   "execution_count": 25,
   "id": "27f219c4",
   "metadata": {
    "execution": {
     "iopub.execute_input": "2023-07-24T22:23:29.683295Z",
     "iopub.status.busy": "2023-07-24T22:23:29.682864Z",
     "iopub.status.idle": "2023-07-24T22:23:29.689162Z",
     "shell.execute_reply": "2023-07-24T22:23:29.688160Z"
    },
    "papermill": {
     "duration": 0.031917,
     "end_time": "2023-07-24T22:23:29.691389",
     "exception": false,
     "start_time": "2023-07-24T22:23:29.659472",
     "status": "completed"
    },
    "tags": []
   },
   "outputs": [
    {
     "data": {
      "text/plain": [
       "(4, 4)"
      ]
     },
     "execution_count": 25,
     "metadata": {},
     "output_type": "execute_result"
    }
   ],
   "source": [
    "b.shape"
   ]
  },
  {
   "cell_type": "code",
   "execution_count": 26,
   "id": "16e2ebe8",
   "metadata": {
    "execution": {
     "iopub.execute_input": "2023-07-24T22:23:29.736093Z",
     "iopub.status.busy": "2023-07-24T22:23:29.735563Z",
     "iopub.status.idle": "2023-07-24T22:23:29.742717Z",
     "shell.execute_reply": "2023-07-24T22:23:29.741768Z"
    },
    "papermill": {
     "duration": 0.032335,
     "end_time": "2023-07-24T22:23:29.744992",
     "exception": false,
     "start_time": "2023-07-24T22:23:29.712657",
     "status": "completed"
    },
    "tags": []
   },
   "outputs": [
    {
     "data": {
      "text/plain": [
       "16"
      ]
     },
     "execution_count": 26,
     "metadata": {},
     "output_type": "execute_result"
    }
   ],
   "source": [
    "b.size"
   ]
  },
  {
   "cell_type": "code",
   "execution_count": 27,
   "id": "89ae8159",
   "metadata": {
    "execution": {
     "iopub.execute_input": "2023-07-24T22:23:29.789714Z",
     "iopub.status.busy": "2023-07-24T22:23:29.789264Z",
     "iopub.status.idle": "2023-07-24T22:23:29.796279Z",
     "shell.execute_reply": "2023-07-24T22:23:29.795131Z"
    },
    "papermill": {
     "duration": 0.032231,
     "end_time": "2023-07-24T22:23:29.798729",
     "exception": false,
     "start_time": "2023-07-24T22:23:29.766498",
     "status": "completed"
    },
    "tags": []
   },
   "outputs": [
    {
     "data": {
      "text/plain": [
       "2"
      ]
     },
     "execution_count": 27,
     "metadata": {},
     "output_type": "execute_result"
    }
   ],
   "source": [
    "b.ndim"
   ]
  },
  {
   "cell_type": "code",
   "execution_count": 28,
   "id": "243315f9",
   "metadata": {
    "execution": {
     "iopub.execute_input": "2023-07-24T22:23:29.843644Z",
     "iopub.status.busy": "2023-07-24T22:23:29.843236Z",
     "iopub.status.idle": "2023-07-24T22:23:29.851735Z",
     "shell.execute_reply": "2023-07-24T22:23:29.850706Z"
    },
    "papermill": {
     "duration": 0.033603,
     "end_time": "2023-07-24T22:23:29.854018",
     "exception": false,
     "start_time": "2023-07-24T22:23:29.820415",
     "status": "completed"
    },
    "tags": []
   },
   "outputs": [
    {
     "data": {
      "text/plain": [
       "dtype('int64')"
      ]
     },
     "execution_count": 28,
     "metadata": {},
     "output_type": "execute_result"
    }
   ],
   "source": [
    "b.dtype"
   ]
  },
  {
   "cell_type": "code",
   "execution_count": 29,
   "id": "14c4d5db",
   "metadata": {
    "execution": {
     "iopub.execute_input": "2023-07-24T22:23:29.899221Z",
     "iopub.status.busy": "2023-07-24T22:23:29.898803Z",
     "iopub.status.idle": "2023-07-24T22:23:29.906142Z",
     "shell.execute_reply": "2023-07-24T22:23:29.905018Z"
    },
    "papermill": {
     "duration": 0.032874,
     "end_time": "2023-07-24T22:23:29.908524",
     "exception": false,
     "start_time": "2023-07-24T22:23:29.875650",
     "status": "completed"
    },
    "tags": []
   },
   "outputs": [
    {
     "data": {
      "text/plain": [
       "array([0, 1, 2, 3, 4, 5, 6, 7, 8, 9])"
      ]
     },
     "execution_count": 29,
     "metadata": {},
     "output_type": "execute_result"
    }
   ],
   "source": [
    "np.arange(0,10)"
   ]
  },
  {
   "cell_type": "code",
   "execution_count": 30,
   "id": "d0609714",
   "metadata": {
    "execution": {
     "iopub.execute_input": "2023-07-24T22:23:29.953951Z",
     "iopub.status.busy": "2023-07-24T22:23:29.953548Z",
     "iopub.status.idle": "2023-07-24T22:23:29.960040Z",
     "shell.execute_reply": "2023-07-24T22:23:29.959090Z"
    },
    "papermill": {
     "duration": 0.03224,
     "end_time": "2023-07-24T22:23:29.962524",
     "exception": false,
     "start_time": "2023-07-24T22:23:29.930284",
     "status": "completed"
    },
    "tags": []
   },
   "outputs": [
    {
     "data": {
      "text/plain": [
       "array([[0, 1],\n",
       "       [2, 3],\n",
       "       [4, 5],\n",
       "       [6, 7],\n",
       "       [8, 9]])"
      ]
     },
     "execution_count": 30,
     "metadata": {},
     "output_type": "execute_result"
    }
   ],
   "source": [
    "# reshape\n",
    "np.arange(0,10).reshape((5, 2))"
   ]
  },
  {
   "cell_type": "code",
   "execution_count": 31,
   "id": "06eca16a",
   "metadata": {
    "execution": {
     "iopub.execute_input": "2023-07-24T22:23:30.008443Z",
     "iopub.status.busy": "2023-07-24T22:23:30.007550Z",
     "iopub.status.idle": "2023-07-24T22:23:30.015477Z",
     "shell.execute_reply": "2023-07-24T22:23:30.014289Z"
    },
    "papermill": {
     "duration": 0.033726,
     "end_time": "2023-07-24T22:23:30.018204",
     "exception": false,
     "start_time": "2023-07-24T22:23:29.984478",
     "status": "completed"
    },
    "tags": []
   },
   "outputs": [
    {
     "data": {
      "text/plain": [
       "array([1, 2, 3, 4, 5, 6, 7, 8, 9])"
      ]
     },
     "execution_count": 31,
     "metadata": {},
     "output_type": "execute_result"
    }
   ],
   "source": [
    "x = np.arange(1,10)\n",
    "x"
   ]
  },
  {
   "cell_type": "code",
   "execution_count": 32,
   "id": "5f5509db",
   "metadata": {
    "execution": {
     "iopub.execute_input": "2023-07-24T22:23:30.065547Z",
     "iopub.status.busy": "2023-07-24T22:23:30.065131Z",
     "iopub.status.idle": "2023-07-24T22:23:30.071277Z",
     "shell.execute_reply": "2023-07-24T22:23:30.070248Z"
    },
    "papermill": {
     "duration": 0.032676,
     "end_time": "2023-07-24T22:23:30.073660",
     "exception": false,
     "start_time": "2023-07-24T22:23:30.040984",
     "status": "completed"
    },
    "tags": []
   },
   "outputs": [
    {
     "data": {
      "text/plain": [
       "1"
      ]
     },
     "execution_count": 32,
     "metadata": {},
     "output_type": "execute_result"
    }
   ],
   "source": [
    "x.ndim"
   ]
  },
  {
   "cell_type": "code",
   "execution_count": 33,
   "id": "aadbba01",
   "metadata": {
    "execution": {
     "iopub.execute_input": "2023-07-24T22:23:30.120039Z",
     "iopub.status.busy": "2023-07-24T22:23:30.119611Z",
     "iopub.status.idle": "2023-07-24T22:23:30.127074Z",
     "shell.execute_reply": "2023-07-24T22:23:30.126049Z"
    },
    "papermill": {
     "duration": 0.033801,
     "end_time": "2023-07-24T22:23:30.129755",
     "exception": false,
     "start_time": "2023-07-24T22:23:30.095954",
     "status": "completed"
    },
    "tags": []
   },
   "outputs": [
    {
     "data": {
      "text/plain": [
       "array([[1, 2, 3],\n",
       "       [4, 5, 6],\n",
       "       [7, 8, 9]])"
      ]
     },
     "execution_count": 33,
     "metadata": {},
     "output_type": "execute_result"
    }
   ],
   "source": [
    "y = x.reshape((3,3))\n",
    "y"
   ]
  },
  {
   "cell_type": "code",
   "execution_count": 34,
   "id": "b7aeb5b1",
   "metadata": {
    "execution": {
     "iopub.execute_input": "2023-07-24T22:23:30.177815Z",
     "iopub.status.busy": "2023-07-24T22:23:30.177328Z",
     "iopub.status.idle": "2023-07-24T22:23:30.184962Z",
     "shell.execute_reply": "2023-07-24T22:23:30.183733Z"
    },
    "papermill": {
     "duration": 0.034953,
     "end_time": "2023-07-24T22:23:30.187554",
     "exception": false,
     "start_time": "2023-07-24T22:23:30.152601",
     "status": "completed"
    },
    "tags": []
   },
   "outputs": [
    {
     "data": {
      "text/plain": [
       "2"
      ]
     },
     "execution_count": 34,
     "metadata": {},
     "output_type": "execute_result"
    }
   ],
   "source": [
    "y.ndim"
   ]
  },
  {
   "cell_type": "code",
   "execution_count": 35,
   "id": "f2ee658d",
   "metadata": {
    "execution": {
     "iopub.execute_input": "2023-07-24T22:23:30.235431Z",
     "iopub.status.busy": "2023-07-24T22:23:30.235038Z",
     "iopub.status.idle": "2023-07-24T22:23:30.240621Z",
     "shell.execute_reply": "2023-07-24T22:23:30.239274Z"
    },
    "papermill": {
     "duration": 0.032507,
     "end_time": "2023-07-24T22:23:30.243232",
     "exception": false,
     "start_time": "2023-07-24T22:23:30.210725",
     "status": "completed"
    },
    "tags": []
   },
   "outputs": [],
   "source": [
    "# concatenate\n",
    "x = np.array([3, 4, 2])\n",
    "y = np.array([2, 6, 8])"
   ]
  },
  {
   "cell_type": "code",
   "execution_count": 36,
   "id": "e0dcf0ea",
   "metadata": {
    "execution": {
     "iopub.execute_input": "2023-07-24T22:23:30.290875Z",
     "iopub.status.busy": "2023-07-24T22:23:30.290447Z",
     "iopub.status.idle": "2023-07-24T22:23:30.298013Z",
     "shell.execute_reply": "2023-07-24T22:23:30.296837Z"
    },
    "papermill": {
     "duration": 0.034832,
     "end_time": "2023-07-24T22:23:30.301299",
     "exception": false,
     "start_time": "2023-07-24T22:23:30.266467",
     "status": "completed"
    },
    "tags": []
   },
   "outputs": [
    {
     "data": {
      "text/plain": [
       "array([3, 4, 2, 2, 6, 8])"
      ]
     },
     "execution_count": 36,
     "metadata": {},
     "output_type": "execute_result"
    }
   ],
   "source": [
    "np.concatenate([x,y])"
   ]
  },
  {
   "cell_type": "code",
   "execution_count": 37,
   "id": "d1dd60ab",
   "metadata": {
    "execution": {
     "iopub.execute_input": "2023-07-24T22:23:30.348759Z",
     "iopub.status.busy": "2023-07-24T22:23:30.348355Z",
     "iopub.status.idle": "2023-07-24T22:23:30.356072Z",
     "shell.execute_reply": "2023-07-24T22:23:30.354952Z"
    },
    "papermill": {
     "duration": 0.034476,
     "end_time": "2023-07-24T22:23:30.358614",
     "exception": false,
     "start_time": "2023-07-24T22:23:30.324138",
     "status": "completed"
    },
    "tags": []
   },
   "outputs": [
    {
     "data": {
      "text/plain": [
       "array([[1, 2, 3],\n",
       "       [4, 5, 6]])"
      ]
     },
     "execution_count": 37,
     "metadata": {},
     "output_type": "execute_result"
    }
   ],
   "source": [
    "x = np.array([[1, 2, 3],\n",
    "              [4, 5, 6]])\n",
    "x"
   ]
  },
  {
   "cell_type": "code",
   "execution_count": 38,
   "id": "29c627f5",
   "metadata": {
    "execution": {
     "iopub.execute_input": "2023-07-24T22:23:30.405740Z",
     "iopub.status.busy": "2023-07-24T22:23:30.405283Z",
     "iopub.status.idle": "2023-07-24T22:23:30.413701Z",
     "shell.execute_reply": "2023-07-24T22:23:30.412433Z"
    },
    "papermill": {
     "duration": 0.034879,
     "end_time": "2023-07-24T22:23:30.416230",
     "exception": false,
     "start_time": "2023-07-24T22:23:30.381351",
     "status": "completed"
    },
    "tags": []
   },
   "outputs": [
    {
     "data": {
      "text/plain": [
       "array([[1, 2, 3],\n",
       "       [4, 5, 6],\n",
       "       [1, 2, 3],\n",
       "       [4, 5, 6]])"
      ]
     },
     "execution_count": 38,
     "metadata": {},
     "output_type": "execute_result"
    }
   ],
   "source": [
    "np.concatenate([x, x])"
   ]
  },
  {
   "cell_type": "code",
   "execution_count": 39,
   "id": "97c041fe",
   "metadata": {
    "execution": {
     "iopub.execute_input": "2023-07-24T22:23:30.464293Z",
     "iopub.status.busy": "2023-07-24T22:23:30.463525Z",
     "iopub.status.idle": "2023-07-24T22:23:30.473074Z",
     "shell.execute_reply": "2023-07-24T22:23:30.472000Z"
    },
    "papermill": {
     "duration": 0.036023,
     "end_time": "2023-07-24T22:23:30.475258",
     "exception": false,
     "start_time": "2023-07-24T22:23:30.439235",
     "status": "completed"
    },
    "tags": []
   },
   "outputs": [
    {
     "data": {
      "text/plain": [
       "array([[1, 2, 3, 1, 2, 3],\n",
       "       [4, 5, 6, 4, 5, 6]])"
      ]
     },
     "execution_count": 39,
     "metadata": {},
     "output_type": "execute_result"
    }
   ],
   "source": [
    "np.concatenate([x, x], axis = 1)"
   ]
  },
  {
   "cell_type": "code",
   "execution_count": 40,
   "id": "d61c0d59",
   "metadata": {
    "execution": {
     "iopub.execute_input": "2023-07-24T22:23:30.524143Z",
     "iopub.status.busy": "2023-07-24T22:23:30.523708Z",
     "iopub.status.idle": "2023-07-24T22:23:30.529182Z",
     "shell.execute_reply": "2023-07-24T22:23:30.527621Z"
    },
    "papermill": {
     "duration": 0.03321,
     "end_time": "2023-07-24T22:23:30.531725",
     "exception": false,
     "start_time": "2023-07-24T22:23:30.498515",
     "status": "completed"
    },
    "tags": []
   },
   "outputs": [],
   "source": [
    "# split"
   ]
  },
  {
   "cell_type": "code",
   "execution_count": 41,
   "id": "4ed96080",
   "metadata": {
    "execution": {
     "iopub.execute_input": "2023-07-24T22:23:30.580370Z",
     "iopub.status.busy": "2023-07-24T22:23:30.579944Z",
     "iopub.status.idle": "2023-07-24T22:23:30.587617Z",
     "shell.execute_reply": "2023-07-24T22:23:30.586288Z"
    },
    "papermill": {
     "duration": 0.034909,
     "end_time": "2023-07-24T22:23:30.590041",
     "exception": false,
     "start_time": "2023-07-24T22:23:30.555132",
     "status": "completed"
    },
    "tags": []
   },
   "outputs": [
    {
     "data": {
      "text/plain": [
       "array([23, 45, 56, 67, 45, 12, 34])"
      ]
     },
     "execution_count": 41,
     "metadata": {},
     "output_type": "execute_result"
    }
   ],
   "source": [
    "x = np.array([23, 45, 56, 67, 45, 12, 34])\n",
    "x"
   ]
  },
  {
   "cell_type": "code",
   "execution_count": 42,
   "id": "239a8ce4",
   "metadata": {
    "execution": {
     "iopub.execute_input": "2023-07-24T22:23:30.639891Z",
     "iopub.status.busy": "2023-07-24T22:23:30.639480Z",
     "iopub.status.idle": "2023-07-24T22:23:30.647297Z",
     "shell.execute_reply": "2023-07-24T22:23:30.646023Z"
    },
    "papermill": {
     "duration": 0.034966,
     "end_time": "2023-07-24T22:23:30.649871",
     "exception": false,
     "start_time": "2023-07-24T22:23:30.614905",
     "status": "completed"
    },
    "tags": []
   },
   "outputs": [
    {
     "data": {
      "text/plain": [
       "[array([23, 45]), array([56]), array([67, 45]), array([12, 34])]"
      ]
     },
     "execution_count": 42,
     "metadata": {},
     "output_type": "execute_result"
    }
   ],
   "source": [
    "np.split(x, [2, 3, 5])"
   ]
  },
  {
   "cell_type": "code",
   "execution_count": 43,
   "id": "4bcf40cc",
   "metadata": {
    "execution": {
     "iopub.execute_input": "2023-07-24T22:23:30.698700Z",
     "iopub.status.busy": "2023-07-24T22:23:30.698294Z",
     "iopub.status.idle": "2023-07-24T22:23:30.704279Z",
     "shell.execute_reply": "2023-07-24T22:23:30.702868Z"
    },
    "papermill": {
     "duration": 0.033506,
     "end_time": "2023-07-24T22:23:30.706697",
     "exception": false,
     "start_time": "2023-07-24T22:23:30.673191",
     "status": "completed"
    },
    "tags": []
   },
   "outputs": [],
   "source": [
    "a, b, c, d = np.split(x, [2, 3, 5])"
   ]
  },
  {
   "cell_type": "code",
   "execution_count": 44,
   "id": "948a8232",
   "metadata": {
    "execution": {
     "iopub.execute_input": "2023-07-24T22:23:30.755196Z",
     "iopub.status.busy": "2023-07-24T22:23:30.754806Z",
     "iopub.status.idle": "2023-07-24T22:23:30.762113Z",
     "shell.execute_reply": "2023-07-24T22:23:30.760942Z"
    },
    "papermill": {
     "duration": 0.034151,
     "end_time": "2023-07-24T22:23:30.764367",
     "exception": false,
     "start_time": "2023-07-24T22:23:30.730216",
     "status": "completed"
    },
    "tags": []
   },
   "outputs": [
    {
     "data": {
      "text/plain": [
       "array([23, 45])"
      ]
     },
     "execution_count": 44,
     "metadata": {},
     "output_type": "execute_result"
    }
   ],
   "source": [
    "a"
   ]
  },
  {
   "cell_type": "code",
   "execution_count": 45,
   "id": "30ace38a",
   "metadata": {
    "execution": {
     "iopub.execute_input": "2023-07-24T22:23:30.814846Z",
     "iopub.status.busy": "2023-07-24T22:23:30.814381Z",
     "iopub.status.idle": "2023-07-24T22:23:30.821646Z",
     "shell.execute_reply": "2023-07-24T22:23:30.820453Z"
    },
    "papermill": {
     "duration": 0.035483,
     "end_time": "2023-07-24T22:23:30.824030",
     "exception": false,
     "start_time": "2023-07-24T22:23:30.788547",
     "status": "completed"
    },
    "tags": []
   },
   "outputs": [
    {
     "data": {
      "text/plain": [
       "array([12, 34])"
      ]
     },
     "execution_count": 45,
     "metadata": {},
     "output_type": "execute_result"
    }
   ],
   "source": [
    "d"
   ]
  },
  {
   "cell_type": "code",
   "execution_count": 46,
   "id": "bf1634ab",
   "metadata": {
    "execution": {
     "iopub.execute_input": "2023-07-24T22:23:30.873408Z",
     "iopub.status.busy": "2023-07-24T22:23:30.872975Z",
     "iopub.status.idle": "2023-07-24T22:23:30.880334Z",
     "shell.execute_reply": "2023-07-24T22:23:30.879219Z"
    },
    "papermill": {
     "duration": 0.034666,
     "end_time": "2023-07-24T22:23:30.882669",
     "exception": false,
     "start_time": "2023-07-24T22:23:30.848003",
     "status": "completed"
    },
    "tags": []
   },
   "outputs": [
    {
     "data": {
      "text/plain": [
       "array([[ 0,  1,  2,  3],\n",
       "       [ 4,  5,  6,  7],\n",
       "       [ 8,  9, 10, 11],\n",
       "       [12, 13, 14, 15]])"
      ]
     },
     "execution_count": 46,
     "metadata": {},
     "output_type": "execute_result"
    }
   ],
   "source": [
    "x = np.arange(16).reshape(4,4)\n",
    "x"
   ]
  },
  {
   "cell_type": "code",
   "execution_count": 47,
   "id": "73efa920",
   "metadata": {
    "execution": {
     "iopub.execute_input": "2023-07-24T22:23:30.932389Z",
     "iopub.status.busy": "2023-07-24T22:23:30.932015Z",
     "iopub.status.idle": "2023-07-24T22:23:30.939816Z",
     "shell.execute_reply": "2023-07-24T22:23:30.938538Z"
    },
    "papermill": {
     "duration": 0.035736,
     "end_time": "2023-07-24T22:23:30.942161",
     "exception": false,
     "start_time": "2023-07-24T22:23:30.906425",
     "status": "completed"
    },
    "tags": []
   },
   "outputs": [
    {
     "data": {
      "text/plain": [
       "[array([[0, 1, 2, 3],\n",
       "        [4, 5, 6, 7]]),\n",
       " array([[ 8,  9, 10, 11],\n",
       "        [12, 13, 14, 15]])]"
      ]
     },
     "execution_count": 47,
     "metadata": {},
     "output_type": "execute_result"
    }
   ],
   "source": [
    "np.vsplit(x, [2])"
   ]
  },
  {
   "cell_type": "code",
   "execution_count": 48,
   "id": "abe41c3c",
   "metadata": {
    "execution": {
     "iopub.execute_input": "2023-07-24T22:23:30.991830Z",
     "iopub.status.busy": "2023-07-24T22:23:30.991354Z",
     "iopub.status.idle": "2023-07-24T22:23:30.999464Z",
     "shell.execute_reply": "2023-07-24T22:23:30.998134Z"
    },
    "papermill": {
     "duration": 0.035982,
     "end_time": "2023-07-24T22:23:31.002010",
     "exception": false,
     "start_time": "2023-07-24T22:23:30.966028",
     "status": "completed"
    },
    "tags": []
   },
   "outputs": [
    {
     "data": {
      "text/plain": [
       "array([[ 0,  1,  2,  3],\n",
       "       [ 4,  5,  6,  7],\n",
       "       [ 8,  9, 10, 11]])"
      ]
     },
     "execution_count": 48,
     "metadata": {},
     "output_type": "execute_result"
    }
   ],
   "source": [
    "up, low = np.vsplit(x, [3])\n",
    "up"
   ]
  },
  {
   "cell_type": "code",
   "execution_count": 49,
   "id": "f84de982",
   "metadata": {
    "execution": {
     "iopub.execute_input": "2023-07-24T22:23:31.052731Z",
     "iopub.status.busy": "2023-07-24T22:23:31.052304Z",
     "iopub.status.idle": "2023-07-24T22:23:31.060106Z",
     "shell.execute_reply": "2023-07-24T22:23:31.058853Z"
    },
    "papermill": {
     "duration": 0.036021,
     "end_time": "2023-07-24T22:23:31.062602",
     "exception": false,
     "start_time": "2023-07-24T22:23:31.026581",
     "status": "completed"
    },
    "tags": []
   },
   "outputs": [
    {
     "data": {
      "text/plain": [
       "array([[12, 13, 14, 15]])"
      ]
     },
     "execution_count": 49,
     "metadata": {},
     "output_type": "execute_result"
    }
   ],
   "source": [
    "low"
   ]
  },
  {
   "cell_type": "code",
   "execution_count": 50,
   "id": "e91c8b0e",
   "metadata": {
    "execution": {
     "iopub.execute_input": "2023-07-24T22:23:31.113747Z",
     "iopub.status.busy": "2023-07-24T22:23:31.113308Z",
     "iopub.status.idle": "2023-07-24T22:23:31.121209Z",
     "shell.execute_reply": "2023-07-24T22:23:31.120116Z"
    },
    "papermill": {
     "duration": 0.036069,
     "end_time": "2023-07-24T22:23:31.123548",
     "exception": false,
     "start_time": "2023-07-24T22:23:31.087479",
     "status": "completed"
    },
    "tags": []
   },
   "outputs": [
    {
     "data": {
      "text/plain": [
       "array([[ 0,  1,  2,  3],\n",
       "       [ 4,  5,  6,  7],\n",
       "       [ 8,  9, 10, 11],\n",
       "       [12, 13, 14, 15]])"
      ]
     },
     "execution_count": 50,
     "metadata": {},
     "output_type": "execute_result"
    }
   ],
   "source": [
    "x"
   ]
  },
  {
   "cell_type": "code",
   "execution_count": 51,
   "id": "2e4cf572",
   "metadata": {
    "execution": {
     "iopub.execute_input": "2023-07-24T22:23:31.176064Z",
     "iopub.status.busy": "2023-07-24T22:23:31.175615Z",
     "iopub.status.idle": "2023-07-24T22:23:31.184163Z",
     "shell.execute_reply": "2023-07-24T22:23:31.182736Z"
    },
    "papermill": {
     "duration": 0.038487,
     "end_time": "2023-07-24T22:23:31.186969",
     "exception": false,
     "start_time": "2023-07-24T22:23:31.148482",
     "status": "completed"
    },
    "tags": []
   },
   "outputs": [
    {
     "data": {
      "text/plain": [
       "[array([[ 0,  1],\n",
       "        [ 4,  5],\n",
       "        [ 8,  9],\n",
       "        [12, 13]]),\n",
       " array([[ 2,  3],\n",
       "        [ 6,  7],\n",
       "        [10, 11],\n",
       "        [14, 15]])]"
      ]
     },
     "execution_count": 51,
     "metadata": {},
     "output_type": "execute_result"
    }
   ],
   "source": [
    "np.hsplit(x, [2])"
   ]
  },
  {
   "cell_type": "code",
   "execution_count": 52,
   "id": "db936c3d",
   "metadata": {
    "execution": {
     "iopub.execute_input": "2023-07-24T22:23:31.239259Z",
     "iopub.status.busy": "2023-07-24T22:23:31.238838Z",
     "iopub.status.idle": "2023-07-24T22:23:31.243802Z",
     "shell.execute_reply": "2023-07-24T22:23:31.242608Z"
    },
    "papermill": {
     "duration": 0.034629,
     "end_time": "2023-07-24T22:23:31.246593",
     "exception": false,
     "start_time": "2023-07-24T22:23:31.211964",
     "status": "completed"
    },
    "tags": []
   },
   "outputs": [],
   "source": [
    "# sorting"
   ]
  },
  {
   "cell_type": "code",
   "execution_count": 53,
   "id": "bc747eb9",
   "metadata": {
    "execution": {
     "iopub.execute_input": "2023-07-24T22:23:31.299511Z",
     "iopub.status.busy": "2023-07-24T22:23:31.299113Z",
     "iopub.status.idle": "2023-07-24T22:23:31.306150Z",
     "shell.execute_reply": "2023-07-24T22:23:31.305242Z"
    },
    "papermill": {
     "duration": 0.036581,
     "end_time": "2023-07-24T22:23:31.308527",
     "exception": false,
     "start_time": "2023-07-24T22:23:31.271946",
     "status": "completed"
    },
    "tags": []
   },
   "outputs": [
    {
     "data": {
      "text/plain": [
       "array([223, 566, 421, 100])"
      ]
     },
     "execution_count": 53,
     "metadata": {},
     "output_type": "execute_result"
    }
   ],
   "source": [
    "x = np.array([223, 566, 421, 100])\n",
    "x"
   ]
  },
  {
   "cell_type": "code",
   "execution_count": 54,
   "id": "f4ef9e1e",
   "metadata": {
    "execution": {
     "iopub.execute_input": "2023-07-24T22:23:31.362883Z",
     "iopub.status.busy": "2023-07-24T22:23:31.362403Z",
     "iopub.status.idle": "2023-07-24T22:23:31.370271Z",
     "shell.execute_reply": "2023-07-24T22:23:31.369070Z"
    },
    "papermill": {
     "duration": 0.038053,
     "end_time": "2023-07-24T22:23:31.372704",
     "exception": false,
     "start_time": "2023-07-24T22:23:31.334651",
     "status": "completed"
    },
    "tags": []
   },
   "outputs": [
    {
     "data": {
      "text/plain": [
       "array([100, 223, 421, 566])"
      ]
     },
     "execution_count": 54,
     "metadata": {},
     "output_type": "execute_result"
    }
   ],
   "source": [
    "k = np.sort(x)\n",
    "k"
   ]
  },
  {
   "cell_type": "code",
   "execution_count": 55,
   "id": "4055d34f",
   "metadata": {
    "execution": {
     "iopub.execute_input": "2023-07-24T22:23:31.424794Z",
     "iopub.status.busy": "2023-07-24T22:23:31.424386Z",
     "iopub.status.idle": "2023-07-24T22:23:31.432367Z",
     "shell.execute_reply": "2023-07-24T22:23:31.430992Z"
    },
    "papermill": {
     "duration": 0.037284,
     "end_time": "2023-07-24T22:23:31.435037",
     "exception": false,
     "start_time": "2023-07-24T22:23:31.397753",
     "status": "completed"
    },
    "tags": []
   },
   "outputs": [
    {
     "data": {
      "text/plain": [
       "array([223, 566, 421, 100])"
      ]
     },
     "execution_count": 55,
     "metadata": {},
     "output_type": "execute_result"
    }
   ],
   "source": [
    "x"
   ]
  },
  {
   "cell_type": "code",
   "execution_count": 56,
   "id": "42870464",
   "metadata": {
    "execution": {
     "iopub.execute_input": "2023-07-24T22:23:31.488066Z",
     "iopub.status.busy": "2023-07-24T22:23:31.487613Z",
     "iopub.status.idle": "2023-07-24T22:23:31.492899Z",
     "shell.execute_reply": "2023-07-24T22:23:31.491531Z"
    },
    "papermill": {
     "duration": 0.035012,
     "end_time": "2023-07-24T22:23:31.495355",
     "exception": false,
     "start_time": "2023-07-24T22:23:31.460343",
     "status": "completed"
    },
    "tags": []
   },
   "outputs": [],
   "source": [
    "x.sort()"
   ]
  },
  {
   "cell_type": "code",
   "execution_count": 57,
   "id": "dd5707d9",
   "metadata": {
    "execution": {
     "iopub.execute_input": "2023-07-24T22:23:31.548607Z",
     "iopub.status.busy": "2023-07-24T22:23:31.548224Z",
     "iopub.status.idle": "2023-07-24T22:23:31.555448Z",
     "shell.execute_reply": "2023-07-24T22:23:31.554279Z"
    },
    "papermill": {
     "duration": 0.036929,
     "end_time": "2023-07-24T22:23:31.558039",
     "exception": false,
     "start_time": "2023-07-24T22:23:31.521110",
     "status": "completed"
    },
    "tags": []
   },
   "outputs": [
    {
     "data": {
      "text/plain": [
       "array([100, 223, 421, 566])"
      ]
     },
     "execution_count": 57,
     "metadata": {},
     "output_type": "execute_result"
    }
   ],
   "source": [
    "x"
   ]
  },
  {
   "cell_type": "code",
   "execution_count": 58,
   "id": "4eedcf2e",
   "metadata": {
    "execution": {
     "iopub.execute_input": "2023-07-24T22:23:31.610673Z",
     "iopub.status.busy": "2023-07-24T22:23:31.610225Z",
     "iopub.status.idle": "2023-07-24T22:23:31.619152Z",
     "shell.execute_reply": "2023-07-24T22:23:31.618042Z"
    },
    "papermill": {
     "duration": 0.038387,
     "end_time": "2023-07-24T22:23:31.621696",
     "exception": false,
     "start_time": "2023-07-24T22:23:31.583309",
     "status": "completed"
    },
    "tags": []
   },
   "outputs": [
    {
     "data": {
      "text/plain": [
       "array([[12, 88, 32, 37, 78,  8, 28, 37, 60, 93],\n",
       "       [23, 49, 21, 87, 56, 35, 40, 65, 26, 30],\n",
       "       [62, 57, 85, 65, 18, 48, 17, 25, 32, 78],\n",
       "       [84,  9, 63,  1, 13, 48, 84,  5, 42, 55],\n",
       "       [47, 53, 44, 75, 41, 28,  6, 14, 61, 18],\n",
       "       [16, 48, 56, 16, 47,  8, 93, 57, 21, 99],\n",
       "       [96, 51, 35, 67, 25, 54,  7, 36, 30, 35],\n",
       "       [45, 77, 92, 40, 49, 88, 40,  0,  5, 34],\n",
       "       [ 1, 98, 84, 26, 40, 31, 56, 81, 20, 84],\n",
       "       [96, 93, 15, 69, 46, 29, 78, 40, 13, 72],\n",
       "       [94, 93,  8, 41, 13, 71, 54, 43, 60, 34],\n",
       "       [44, 84,  0, 63, 10, 76, 70,  3, 30, 72],\n",
       "       [75, 30, 67, 75, 90, 17, 52, 91,  7,  1],\n",
       "       [65, 56, 49, 28, 39, 29,  7, 40, 51, 69],\n",
       "       [ 6, 42,  9, 27, 56, 56, 91, 56, 51, 77],\n",
       "       [39, 21,  4, 23, 26,  2, 52, 82, 48, 21],\n",
       "       [22, 22, 47, 94, 30, 10, 69, 14, 59, 76],\n",
       "       [51, 25, 53, 62, 49, 18, 99, 58,  1, 47],\n",
       "       [28, 10, 22, 89, 77,  6, 74, 68, 96, 60],\n",
       "       [65, 27, 87, 46, 73, 71, 89, 25, 43, 14]])"
      ]
     },
     "execution_count": 58,
     "metadata": {},
     "output_type": "execute_result"
    }
   ],
   "source": [
    "v = np.random.randint(0,100, (20,10))\n",
    "v\n"
   ]
  },
  {
   "cell_type": "code",
   "execution_count": 59,
   "id": "fc9de8c5",
   "metadata": {
    "execution": {
     "iopub.execute_input": "2023-07-24T22:23:31.675917Z",
     "iopub.status.busy": "2023-07-24T22:23:31.675465Z",
     "iopub.status.idle": "2023-07-24T22:23:31.683631Z",
     "shell.execute_reply": "2023-07-24T22:23:31.682703Z"
    },
    "papermill": {
     "duration": 0.037644,
     "end_time": "2023-07-24T22:23:31.685804",
     "exception": false,
     "start_time": "2023-07-24T22:23:31.648160",
     "status": "completed"
    },
    "tags": []
   },
   "outputs": [
    {
     "data": {
      "text/plain": [
       "array([[ 8, 12, 28, 32, 37, 37, 60, 78, 88, 93],\n",
       "       [21, 23, 26, 30, 35, 40, 49, 56, 65, 87],\n",
       "       [17, 18, 25, 32, 48, 57, 62, 65, 78, 85],\n",
       "       [ 1,  5,  9, 13, 42, 48, 55, 63, 84, 84],\n",
       "       [ 6, 14, 18, 28, 41, 44, 47, 53, 61, 75],\n",
       "       [ 8, 16, 16, 21, 47, 48, 56, 57, 93, 99],\n",
       "       [ 7, 25, 30, 35, 35, 36, 51, 54, 67, 96],\n",
       "       [ 0,  5, 34, 40, 40, 45, 49, 77, 88, 92],\n",
       "       [ 1, 20, 26, 31, 40, 56, 81, 84, 84, 98],\n",
       "       [13, 15, 29, 40, 46, 69, 72, 78, 93, 96],\n",
       "       [ 8, 13, 34, 41, 43, 54, 60, 71, 93, 94],\n",
       "       [ 0,  3, 10, 30, 44, 63, 70, 72, 76, 84],\n",
       "       [ 1,  7, 17, 30, 52, 67, 75, 75, 90, 91],\n",
       "       [ 7, 28, 29, 39, 40, 49, 51, 56, 65, 69],\n",
       "       [ 6,  9, 27, 42, 51, 56, 56, 56, 77, 91],\n",
       "       [ 2,  4, 21, 21, 23, 26, 39, 48, 52, 82],\n",
       "       [10, 14, 22, 22, 30, 47, 59, 69, 76, 94],\n",
       "       [ 1, 18, 25, 47, 49, 51, 53, 58, 62, 99],\n",
       "       [ 6, 10, 22, 28, 60, 68, 74, 77, 89, 96],\n",
       "       [14, 25, 27, 43, 46, 65, 71, 73, 87, 89]])"
      ]
     },
     "execution_count": 59,
     "metadata": {},
     "output_type": "execute_result"
    }
   ],
   "source": [
    "sorted = np.sort(v)\n",
    "sorted"
   ]
  },
  {
   "cell_type": "code",
   "execution_count": 60,
   "id": "0ac94790",
   "metadata": {
    "execution": {
     "iopub.execute_input": "2023-07-24T22:23:31.739067Z",
     "iopub.status.busy": "2023-07-24T22:23:31.738257Z",
     "iopub.status.idle": "2023-07-24T22:23:31.746617Z",
     "shell.execute_reply": "2023-07-24T22:23:31.745476Z"
    },
    "papermill": {
     "duration": 0.037713,
     "end_time": "2023-07-24T22:23:31.748979",
     "exception": false,
     "start_time": "2023-07-24T22:23:31.711266",
     "status": "completed"
    },
    "tags": []
   },
   "outputs": [
    {
     "data": {
      "text/plain": [
       "array([[ 1,  9,  0,  1, 10,  2,  6,  0,  1,  1],\n",
       "       [ 6, 10,  4, 16, 13,  6,  7,  3,  5, 14],\n",
       "       [12, 21,  8, 23, 13,  8,  7,  5,  7, 18],\n",
       "       [16, 22,  9, 26, 18,  8, 17, 14, 13, 21],\n",
       "       [22, 25, 15, 27, 25, 10, 28, 14, 20, 30],\n",
       "       [23, 27, 21, 28, 26, 17, 40, 25, 21, 34],\n",
       "       [28, 30, 22, 37, 30, 18, 40, 25, 26, 34],\n",
       "       [39, 42, 32, 40, 39, 28, 52, 36, 30, 35],\n",
       "       [44, 48, 35, 41, 40, 29, 52, 37, 30, 47],\n",
       "       [45, 49, 44, 46, 41, 29, 54, 40, 32, 55],\n",
       "       [47, 51, 47, 62, 46, 31, 56, 40, 42, 60],\n",
       "       [51, 53, 49, 63, 47, 35, 69, 43, 43, 69],\n",
       "       [62, 56, 53, 65, 49, 48, 70, 56, 48, 72],\n",
       "       [65, 57, 56, 67, 49, 48, 74, 57, 51, 72],\n",
       "       [65, 77, 63, 69, 56, 54, 78, 58, 51, 76],\n",
       "       [75, 84, 67, 75, 56, 56, 84, 65, 59, 77],\n",
       "       [84, 88, 84, 75, 73, 71, 89, 68, 60, 78],\n",
       "       [94, 93, 85, 87, 77, 71, 91, 81, 60, 84],\n",
       "       [96, 93, 87, 89, 78, 76, 93, 82, 61, 93],\n",
       "       [96, 98, 92, 94, 90, 88, 99, 91, 96, 99]])"
      ]
     },
     "execution_count": 60,
     "metadata": {},
     "output_type": "execute_result"
    }
   ],
   "source": [
    "sorted = np.sort(v, axis = 0)\n",
    "sorted"
   ]
  }
 ],
 "metadata": {
  "kernelspec": {
   "display_name": "Python 3",
   "language": "python",
   "name": "python3"
  },
  "language_info": {
   "codemirror_mode": {
    "name": "ipython",
    "version": 3
   },
   "file_extension": ".py",
   "mimetype": "text/x-python",
   "name": "python",
   "nbconvert_exporter": "python",
   "pygments_lexer": "ipython3",
   "version": "3.10.12"
  },
  "papermill": {
   "default_parameters": {},
   "duration": 16.654799,
   "end_time": "2023-07-24T22:23:32.697448",
   "environment_variables": {},
   "exception": null,
   "input_path": "__notebook__.ipynb",
   "output_path": "__notebook__.ipynb",
   "parameters": {},
   "start_time": "2023-07-24T22:23:16.042649",
   "version": "2.4.0"
  }
 },
 "nbformat": 4,
 "nbformat_minor": 5
}
